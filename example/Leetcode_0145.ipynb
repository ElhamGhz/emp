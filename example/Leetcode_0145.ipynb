{
 "cells": [
  {
   "cell_type": "markdown",
   "metadata": {},
   "source": [
    "#### [Leetcode 145 Hard] [Binary Tree Postorder Traversal](https://leetcode.com/problems/binary-tree-postorder-traversal/)\n",
    "\n",
    "Given a binary tree, return the postorder traversal of its nodes' values.\n",
    "\n",
    "Example:\n",
    "```\n",
    "Input: [1,null,2,3]\n",
    "   1\n",
    "    \\\n",
    "     2\n",
    "    /\n",
    "   3\n",
    "\n",
    "Output: [3,2,1]\n",
    "```\n",
    "\n",
    "Follow up: Recursive solution is trivial, could you do it iteratively?"
   ]
  },
  {
   "cell_type": "markdown",
   "metadata": {},
   "source": [
    "```\n",
    "                 A == root\n",
    "               /   \\\n",
    "              B     C\n",
    "             / \\   / \\ \n",
    "            N   N N   N     \n",
    "\n",
    "第三次访问节点的时候打印\n",
    "(A, 1) --> (B, 1) --> N --> (B, 2) --> N --> (B, 3) print -->\n",
    "--> (A, 2) --> (C, 1) --> N --> (C, 2)  --> N --> (C, 3) print --> \n",
    "--> (A, 3) print\n",
    "```"
   ]
  },
  {
   "cell_type": "code",
   "execution_count": 1,
   "metadata": {
    "collapsed": true
   },
   "outputs": [],
   "source": [
    "# Definition for a binary tree node.\n",
    "# class TreeNode(object):\n",
    "#     def __init__(self, x):\n",
    "#         self.val = x\n",
    "#         self.left = None\n",
    "#         self.right = None\n",
    "\n",
    "class Solution(object):\n",
    "    def postorderTraversal(self, root):\n",
    "        \"\"\"\n",
    "        :type root: TreeNode\n",
    "        :rtype: List[int]\n",
    "        \"\"\"\n",
    "        if not root:\n",
    "            return []\n",
    "        \n",
    "        result = []\n",
    "        stack = [(root, 1)]\n",
    "        \n",
    "        while stack:\n",
    "            node, count = stack.pop()\n",
    "            if count == 1:\n",
    "                # 为了第二次的访问入栈\n",
    "                stack.append((node, count + 1))\n",
    "                if node.left:\n",
    "                    stack.append((node.left, 1))\n",
    "            if count == 2:\n",
    "                # 为了第三次的访问入栈\n",
    "                stack.append((node, count + 1))\n",
    "                if node.right:\n",
    "                    stack.append((node.right, 1))\n",
    "            if count == 3:\n",
    "                result.append(node.val)\n",
    "                \n",
    "        return result"
   ]
  },
  {
   "cell_type": "code",
   "execution_count": null,
   "metadata": {
    "collapsed": true
   },
   "outputs": [],
   "source": []
  }
 ],
 "metadata": {
  "kernelspec": {
   "display_name": "Python 3",
   "language": "python",
   "name": "python3"
  },
  "language_info": {
   "codemirror_mode": {
    "name": "ipython",
    "version": 3
   },
   "file_extension": ".py",
   "mimetype": "text/x-python",
   "name": "python",
   "nbconvert_exporter": "python",
   "pygments_lexer": "ipython3",
   "version": "3.6.3"
  }
 },
 "nbformat": 4,
 "nbformat_minor": 2
}
