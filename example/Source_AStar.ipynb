{
 "cells": [
  {
   "cell_type": "markdown",
   "metadata": {},
   "source": [
    "# Implementation of A\\*\n",
    "\n",
    "\n",
    "This article is a companion guide to my [introduction to A\\*](https://www.redblobgames.com/pathfinding/a-star/introduction.html). I show how to implement Breadth-First Search, Dijkstra’s Algorithm, Greedy Best-First Search, and A*. I focused on keeping things simple.\n",
    "\n",
    "Graph search is a family of related algorithms. There are lots of variants of the algorithms, and lots of variants in implementation. Treat the code on this page as a starting point, not as a final version of the algorithm that works for all situations."
   ]
  },
  {
   "cell_type": "markdown",
   "metadata": {},
   "source": [
    "## 1. Python Implementation\n",
    "\n",
    "I explain most of the code below. There are a few extra bits that you can find in [implementation.py](https://www.redblobgames.com/pathfinding/a-star/implementation.py). These use Python 3 so if you use Python 2, you will need to change the super() call and the print function to the Python 2 equivalents."
   ]
  },
  {
   "cell_type": "markdown",
   "metadata": {},
   "source": [
    "### 1.1 Breadth First Search\n",
    "\n",
    "Let’s implement Breadth First Search in Python. The main article shows the Python code for the search algorithm, but we also need to define the graph it works on. These are the abstractions I’ll use:\n",
    "\n",
    "* Graph: a data structure that can tell me the neighbors for each location (see this tutorial). A weighted graph can also tell me the cost of moving along an edge.\n",
    "* Locations: a simple value (int, string, tuple, etc.) that labels locations in the graph\n",
    "* Search: an algorithm that takes a graph, a starting location, and optionally a goal location, and calculates some useful information (visited, parent pointer, distance) for some or all locations\n",
    "* Queue: a data structure used by the search algorithm to decide the order in which to process the locations.\n",
    "\n",
    "In the main article, I focused on search. On this page, I’ll fill in the rest of the details to make complete working programs. Let’s start with a graph:\n",
    "\n",
    "```python\n",
    "class SimpleGraph:\n",
    "    def __init__(self):\n",
    "        self.edges = {}\n",
    "    \n",
    "    def neighbors(self, id):\n",
    "        return self.edges[id]\n",
    "```\n",
    "\n",
    "Yep, that’s all we need! You may be asking, where’s the Node object? The answer is: I rarely use a node object. I find it simpler to use integers, strings, or tuples as locations, and then use arrays or hash tables that use locations as an index.\n",
    "\n",
    "Note that the edges are directed: we can have an edge from A to B without also having an edge from B to A. In game maps most edges are bidirectional but sometimes there are one-way doors or jumps off cliffs that are expressed as directed edges. Let’s make an example graph, where the locations are letters A-E.\n",
    "\n",
    "<img src=\"source/Source_AStar_graph.png\">\n",
    "\n",
    "For each location I need a list of which locations it leads to:\n",
    "\n",
    "```python\n",
    "example_graph = SimpleGraph()\n",
    "example_graph.edges = {\n",
    "    'A': ['B'],\n",
    "    'B': ['A', 'C', 'D'],\n",
    "    'C': ['A'],\n",
    "    'D': ['E', 'A'],\n",
    "    'E': ['B']\n",
    "}\n",
    "```\n",
    "\n",
    "Before we can use it with a search algorithm, we need to make a queue:\n",
    "\n",
    "```python\n",
    "import collections\n",
    "\n",
    "class Queue:\n",
    "    def __init__(self):\n",
    "        self.elements = collections.deque()\n",
    "    \n",
    "    def empty(self):\n",
    "        return len(self.elements) == 0\n",
    "    \n",
    "    def put(self, x):\n",
    "        self.elements.append(x)\n",
    "    \n",
    "    def get(self):\n",
    "        return self.elements.popleft()\n",
    "```\n",
    "\n",
    "This queue class is just a wrapper around the built-in collections.deque class. Feel free to use deque directly in your own code.\n",
    "\n",
    "Let’s try the example graph with this queue and the breadth-first search algorithm code from the main article:"
   ]
  },
  {
   "cell_type": "code",
   "execution_count": 22,
   "metadata": {
    "collapsed": true
   },
   "outputs": [],
   "source": [
    "from collections import deque\n",
    "import heapq\n",
    "\n",
    "from graph import *"
   ]
  },
  {
   "cell_type": "code",
   "execution_count": 23,
   "metadata": {},
   "outputs": [
    {
     "name": "stdout",
     "output_type": "stream",
     "text": [
      "Visiting A\n",
      "Visiting B\n",
      "Visiting C\n",
      "Visiting D\n",
      "Visiting E\n"
     ]
    }
   ],
   "source": [
    "def breadth_first_search(graph, start):\n",
    "    # store the nodes (state) in the frontier\n",
    "    frontier = deque()\n",
    "    frontier.append(start)\n",
    "    \n",
    "    # store the visited node (state)\n",
    "    visited = {}\n",
    "    visited[start] = True\n",
    "    \n",
    "    while frontier:\n",
    "        curr_node = frontier.popleft()\n",
    "        print(\"Visiting {}\".format(curr_node))\n",
    "        \n",
    "        for next_node in graph[curr_node]:  # graph.neighbors(curr_node)\n",
    "            if next_node not in visited:\n",
    "                frontier.append(next_node)\n",
    "                visited[next_node] = True\n",
    "                \n",
    "\n",
    "graph = {\n",
    "    'A': ['B'],\n",
    "    'B': ['A', 'C', 'D'],\n",
    "    'C': ['A'],\n",
    "    'D': ['E', 'A'],\n",
    "    'E': ['B']\n",
    "}\n",
    "breadth_first_search(graph, start='A')"
   ]
  },
  {
   "cell_type": "markdown",
   "metadata": {},
   "source": [
    "Grids can be expressed as graphs too. I’ll now define a new graph called SquareGrid, with locations tuples (int, int). Instead of storing the edges explicitly, I’ll calculate them in the neighbors function."
   ]
  },
  {
   "cell_type": "code",
   "execution_count": 24,
   "metadata": {},
   "outputs": [
    {
     "name": "stdout",
     "output_type": "stream",
     "text": [
      ". . . . . . . . . . . . . . . . . . . . . ####. . . . . . . \n",
      ". . . . . . . . . . . . . . . . . . . . . ####. . . . . . . \n",
      ". . . . . . . . . . . . . . . . . . . . . ####. . . . . . . \n",
      ". . . ####. . . . . . . . . . . . . . . . ####. . . . . . . \n",
      ". . . ####. . . . . . . . ####. . . . . . ####. . . . . . . \n",
      ". . . ####. . . . . . . . ####. . . . . . ##########. . . . \n",
      ". . . ####. . . . . . . . ####. . . . . . ##########. . . . \n",
      ". . . ####. . . . . . . . ####. . . . . . . . . . . . . . . \n",
      ". . . ####. . . . . . . . ####. . . . . . . . . . . . . . . \n",
      ". . . ####. . . . . . . . ####. . . . . . . . . . . . . . . \n",
      ". . . ####. . . . . . . . ####. . . . . . . . . . . . . . . \n",
      ". . . ####. . . . . . . . ####. . . . . . . . . . . . . . . \n",
      ". . . . . . . . . . . . . ####. . . . . . . . . . . . . . . \n",
      ". . . . . . . . . . . . . ####. . . . . . . . . . . . . . . \n",
      ". . . . . . . . . . . . . ####. . . . . . . . . . . . . . . \n"
     ]
    }
   ],
   "source": [
    "g = SquareGrid(30, 15)\n",
    "g.walls = DIAGRAM1_WALLS # long list, [(21, 0), (21, 2), ...]\n",
    "draw_grid(g)"
   ]
  },
  {
   "cell_type": "markdown",
   "metadata": {},
   "source": [
    "In order to reconstruct paths we need to store the location of where we came from, so I’ve renamed visited (True/False) to came_from (location):"
   ]
  },
  {
   "cell_type": "code",
   "execution_count": 25,
   "metadata": {},
   "outputs": [
    {
     "name": "stdout",
     "output_type": "stream",
     "text": [
      "> > > > v v v v v v v v v v v v < < < < < ####v v v v v v v \n",
      "> > > > > v v v v v v v v v v < < < < < < ####v v v v v v v \n",
      "> > > > > v v v v v v v v v < < < < < < < ####> v v v v v v \n",
      "> > ^ ####v v v v v v v v < < < < < < < < ####> > v v v v v \n",
      "> ^ ^ ####> v v v v v v < ####^ < < < < < ####> > > v v v v \n",
      "^ ^ ^ ####> > v v v v < < ####^ ^ < < < < ##########v v v < \n",
      "^ ^ ^ ####> > > v v < < < ####^ ^ ^ < < < ##########v v < < \n",
      "^ ^ ^ ####> > > A < < < < ####^ ^ ^ ^ < < < < < < < < < < < \n",
      "v v v ####> > ^ ^ ^ < < < ####^ ^ ^ ^ ^ < < < < < < < < < < \n",
      "v v v ####> ^ ^ ^ ^ ^ < < ####^ ^ ^ ^ ^ ^ < < < < < < < < < \n",
      "v v v ####^ ^ ^ ^ ^ ^ ^ < ####^ ^ ^ ^ ^ ^ ^ < < < < < < < < \n",
      "> v v ####^ ^ ^ ^ ^ ^ ^ ^ ####^ ^ ^ ^ ^ ^ ^ ^ < < < < < < < \n",
      "> > > > > ^ ^ ^ ^ ^ ^ ^ ^ ####^ ^ ^ ^ ^ ^ ^ ^ ^ < < < < < < \n",
      "> > > > ^ ^ ^ ^ ^ ^ ^ ^ ^ ####^ ^ ^ ^ ^ ^ ^ ^ ^ ^ < < < < < \n",
      "> > > ^ ^ ^ ^ ^ ^ ^ ^ ^ ^ ####^ ^ ^ ^ ^ ^ ^ ^ ^ ^ ^ < < < < \n"
     ]
    }
   ],
   "source": [
    "def breadth_first_search_2(graph, start):\n",
    "    # store the nodes (state) in the frontier\n",
    "    frontier = deque()\n",
    "    frontier.append(start)\n",
    "    \n",
    "    # store the visited node (state)\n",
    "    came_from = {}\n",
    "    came_from[start] = None\n",
    "    \n",
    "    while frontier:\n",
    "        curr_node = frontier.popleft()\n",
    "\n",
    "        for next_node in graph.neighbors(curr_node):  # graph.neighbors(curr_node)\n",
    "            if next_node not in came_from:\n",
    "                frontier.append(next_node)\n",
    "                came_from[next_node] = curr_node\n",
    "                \n",
    "    return came_from\n",
    "\n",
    "g = SquareGrid(30, 15)\n",
    "g.walls = DIAGRAM1_WALLS\n",
    "\n",
    "parents = breadth_first_search_2(g, (8, 7))\n",
    "draw_grid(g, width=2, point_to=parents, start=(8, 7))"
   ]
  },
  {
   "cell_type": "markdown",
   "metadata": {},
   "source": [
    "### 1.2 Early Exit\n",
    "\n",
    "Following the code from the main article, all we need to do is add an if statement in the main loop. This test is optional for Breadth First Search or Dijkstra’s Algorithm and effectively required for Greedy Best-First Search and A\\*:"
   ]
  },
  {
   "cell_type": "code",
   "execution_count": 26,
   "metadata": {},
   "outputs": [
    {
     "name": "stdout",
     "output_type": "stream",
     "text": [
      ". > > > v v v v v v v v v v v v < . . . . ####. . . . . . . \n",
      "> > > > > v v v v v v v v v v < < < . . . ####. . . . . . . \n",
      "> > > > > v v v v v v v v v < < < Z . . . ####. . . . . . . \n",
      "> > ^ ####v v v v v v v v < < < < < < . . ####. . . . . . . \n",
      ". ^ ^ ####> v v v v v v < ####^ < < . . . ####. . . . . . . \n",
      ". . ^ ####> > v v v v < < ####^ ^ . . . . ##########. . . . \n",
      ". . . ####> > > v v < < < ####^ . . . . . ##########. . . . \n",
      ". . . ####> > > A < < < < ####. . . . . . . . . . . . . . . \n",
      ". . . ####> > ^ ^ ^ < < < ####. . . . . . . . . . . . . . . \n",
      ". . v ####> ^ ^ ^ ^ ^ < < ####. . . . . . . . . . . . . . . \n",
      ". v v ####^ ^ ^ ^ ^ ^ ^ < ####. . . . . . . . . . . . . . . \n",
      "> v v ####^ ^ ^ ^ ^ ^ ^ ^ ####. . . . . . . . . . . . . . . \n",
      "> > > > > ^ ^ ^ ^ ^ ^ ^ ^ ####. . . . . . . . . . . . . . . \n",
      "> > > > ^ ^ ^ ^ ^ ^ ^ ^ ^ ####. . . . . . . . . . . . . . . \n",
      ". > > ^ ^ ^ ^ ^ ^ ^ ^ ^ ^ ####. . . . . . . . . . . . . . . \n"
     ]
    }
   ],
   "source": [
    "def breadth_first_search_3(graph, start, goal):\n",
    "    frontier = deque()\n",
    "    frontier.append(start)\n",
    "    came_from = {}\n",
    "    came_from[start] = None\n",
    "    \n",
    "    while frontier:\n",
    "        curr_node = frontier.popleft()\n",
    "        \n",
    "        if curr_node == goal:\n",
    "            break\n",
    "        \n",
    "        for next_node in graph.neighbors(curr_node):\n",
    "            if next_node not in came_from:\n",
    "                frontier.append(next_node)\n",
    "                came_from[next_node] = curr_node\n",
    "    \n",
    "    return came_from\n",
    "\n",
    "g = SquareGrid(30, 15)\n",
    "g.walls = DIAGRAM1_WALLS\n",
    "\n",
    "parents = breadth_first_search_3(g, (8, 7), (17, 2))\n",
    "draw_grid(g, width=2, point_to=parents, start=(8, 7), goal=(17, 2))"
   ]
  },
  {
   "cell_type": "markdown",
   "metadata": {},
   "source": [
    "### 1.3 Dijkstra’s Algorithm\n",
    "\n",
    "This is what adds complexity to graph search, because we’re going to start processing locations in a better order than “first in, first out”. What do we need to change?\n",
    "\n",
    "1. The graph needs to know cost of movement.\n",
    "2. The queue needs to return nodes in a different order.\n",
    "3. The search needs to keep track of these costs from the graph and give them to the queue.\n",
    "\n",
    "#### 1.3.1 Graph with weights\n",
    "\n",
    "A regular graph tells me the neighbors of each node. A weighted graph also tells me the cost of moving along each edge. I’m going to add a cost(from_node, to_node) function that tells us the cost of moving from location from_node to its neighbor to_node. In this forest map I chose to make movement depend only on to_node, but there are other types of movement that use both nodes. An alternate implementation would be to merge this into the neighbors function.\n",
    "\n",
    "```python\n",
    "class GridWithWeights(SquareGrid):\n",
    "    def __init__(self, width, height):\n",
    "        super().__init__(width, height)\n",
    "        self.weights = {}\n",
    "    \n",
    "    def cost(self, from_node, to_node):\n",
    "        return self.weights.get(to_node, 1)\n",
    "```\n",
    "\n",
    "#### 1.3.2 Queue with priorities\n",
    "\n",
    "A priority queue associates with each item a number called a “priority”. When returning an item, it picks the one with the lowest number.\n",
    "\n",
    "* insert: Add item to queue\n",
    "* remove: Remove item with the lowest number\n",
    "* reprioritize: (optional) Change an existing item’s priority to a lower number\n",
    "\n",
    "Here’s a reasonably fast priority queue that uses binary heaps, but does not support reprioritize. To get the right ordering, we’ll use tuples (priority, item). When an element is inserted that is already in the queue, we’ll have a duplicate; I’ll explain why that’s ok in the Optimization section.\n",
    "\n",
    "\n",
    "```python\n",
    "import heapq\n",
    "\n",
    "class PriorityQueue:\n",
    "    def __init__(self):\n",
    "        self.elements = []\n",
    "    \n",
    "    def empty(self):\n",
    "        return len(self.elements) == 0\n",
    "    \n",
    "    def put(self, item, priority):\n",
    "        heapq.heappush(self.elements, (priority, item))\n",
    "    \n",
    "    def get(self):\n",
    "        return heapq.heappop(self.elements)[1]\n",
    "```\n",
    "\n",
    "#### 1.3.3 Search\n",
    "\n",
    "Here’s a tricky bit about the implementation: once we add movement costs it’s possible to visit a location again, with a better cost_so_far. That means the line if next not in came_from won’t work. Instead, have to check if the cost has gone down since the last time we visited. (In the original version of the article I wasn’t checking this, but my code worked anyway; [I wrote some notes about that bug](https://www.redblobgames.com/pathfinding/posts/reprioritize.html).)\n",
    "\n",
    "This forest map is from [the main page](https://www.redblobgames.com/pathfinding/a-star/introduction.html#dijkstra)."
   ]
  },
  {
   "cell_type": "code",
   "execution_count": 27,
   "metadata": {
    "collapsed": true
   },
   "outputs": [],
   "source": [
    "def dijkstra_search(graph, start, goal):\n",
    "    \n",
    "    frontier = []\n",
    "    heapq.heappush(frontier, (0 ,start)) # node, cost\n",
    "    \n",
    "    came_from = {}\n",
    "    came_from[start] = None\n",
    "    \n",
    "    cost_so_far = {}    \n",
    "    cost_so_far[start] = 0\n",
    "    \n",
    "    while frontier:\n",
    "        curr_cost, curr_node = heapq.heappop(frontier)\n",
    "        \n",
    "        if curr_node == goal:\n",
    "            break\n",
    "        \n",
    "        for next_node in graph.neighbors(curr_node):\n",
    "            new_cost = cost_so_far[curr_node] + graph.cost(curr_node, next_node)\n",
    "            if next_node not in cost_so_far or new_cost < cost_so_far[next_node]:\n",
    "                cost_so_far[next_node] = new_cost\n",
    "                priority = new_cost\n",
    "                heapq.heappush(frontier, (priority, next_node))\n",
    "                came_from[next_node] = curr_node\n",
    "    \n",
    "    return came_from, cost_so_far"
   ]
  },
  {
   "cell_type": "code",
   "execution_count": 29,
   "metadata": {
    "collapsed": true
   },
   "outputs": [],
   "source": [
    "def reconstruct_path(came_from, start, goal):\n",
    "    current = goal\n",
    "    path = []\n",
    "    while current != start:\n",
    "        path.append(current)\n",
    "        current = came_from[current]\n",
    "    path.append(start) # optional\n",
    "    path.reverse() # optional\n",
    "    return path"
   ]
  },
  {
   "cell_type": "markdown",
   "metadata": {},
   "source": [
    "Although paths are best thought of as a sequence of edges, it’s convenient to store them as a sequence of nodes. To build the path, start at the end and follow the came_from map, which points to the previous node. When we reach start, we’re done. It is the backwards path, so call reverse() at the end of reconstruct_path if you need it to be stored forwards. Sometimes it’s actually more convenient to store it backwards. Sometimes it’s useful to also store the start node in the list.\n",
    "\n",
    "Let’s try it out:"
   ]
  },
  {
   "cell_type": "code",
   "execution_count": 30,
   "metadata": {},
   "outputs": [
    {
     "name": "stdout",
     "output_type": "stream",
     "text": [
      "v  v  <  <  <  <  <  <  <  <  \n",
      "v  v  <  <  <  ^  ^  <  <  <  \n",
      "v  v  <  <  <  <  ^  ^  <  <  \n",
      "v  v  <  <  <  <  <  ^  ^  .  \n",
      ">  A  <  <  <  <  .  .  .  .  \n",
      "^  ^  <  <  <  <  .  .  .  .  \n",
      "^  ^  <  <  <  <  <  .  .  .  \n",
      "^  #########^  <  v  .  .  .  \n",
      "^  #########v  v  v  Z  .  .  \n",
      "^  <  <  <  <  <  <  <  <  .  \n",
      "\n",
      "5  4  5  6  7  8  9  10 11 12 \n",
      "4  3  4  5  10 13 10 11 12 13 \n",
      "3  2  3  4  9  14 15 12 13 14 \n",
      "2  1  2  3  8  13 18 17 14 .  \n",
      "1  A  1  6  11 16 .  .  .  .  \n",
      "2  1  2  7  12 17 .  .  .  .  \n",
      "3  2  3  4  9  14 19 .  .  .  \n",
      "4  #########14 19 18 .  .  .  \n",
      "5  #########15 16 13 Z  .  .  \n",
      "6  7  8  9  10 11 12 13 14 .  \n",
      "\n",
      ".  .  .  .  .  .  .  .  .  .  \n",
      ".  .  .  .  .  .  .  .  .  .  \n",
      ".  .  .  .  .  .  .  .  .  .  \n",
      ".  .  .  .  .  .  .  .  .  .  \n",
      "@  @  .  .  .  .  .  .  .  .  \n",
      "@  .  .  .  .  .  .  .  .  .  \n",
      "@  .  .  .  .  .  .  .  .  .  \n",
      "@  #########.  .  .  .  .  .  \n",
      "@  #########.  .  @  @  .  .  \n",
      "@  @  @  @  @  @  @  .  .  .  \n"
     ]
    }
   ],
   "source": [
    "came_from, cost_so_far = dijkstra_search(diagram4, (1, 4), (7, 8))\n",
    "draw_grid(diagram4, width=3, point_to=came_from, start=(1, 4), goal=(7, 8))\n",
    "print()\n",
    "draw_grid(diagram4, width=3, number=cost_so_far, start=(1, 4), goal=(7, 8))\n",
    "print()\n",
    "draw_grid(diagram4, width=3, path=reconstruct_path(came_from, start=(1, 4), goal=(7, 8)))"
   ]
  },
  {
   "cell_type": "markdown",
   "metadata": {},
   "source": [
    "The line if next not in cost_so_far or new_cost < cost_so_far[next] could be simplified to if new_cost < cost_so_far.get(next, Infinity) but I didn’t want to explain Python’s get() in the main article so I left it as is. Another approach would be to use collections.defaultdict defaulting to infinity."
   ]
  },
  {
   "cell_type": "markdown",
   "metadata": {},
   "source": [
    "### 1.4 A\\* Search\n",
    "\n",
    "Both Greedy Best-First Search and A\\* use a heuristic function. The only difference is that A\\* uses both the heuristic and the ordering from Dijkstra’s Algorithm. I’m going to show A\\* here."
   ]
  },
  {
   "cell_type": "code",
   "execution_count": 34,
   "metadata": {
    "collapsed": true
   },
   "outputs": [],
   "source": [
    "def heuristic(a, b):\n",
    "    \"\"\"\n",
    "    Manhattan distance:\n",
    "    The sum of the horizontal and vertical distances between points on a grid\n",
    "    \"\"\"\n",
    "    (x1, y1) = a\n",
    "    (x2, y2) = b\n",
    "    return abs(x1 - x2) + abs(y1 - y2)\n",
    "\n",
    "def a_star_search(graph, start, goal):\n",
    "    frontier = []\n",
    "    heapq.heappush(frontier, (0 ,start)) # node, cost\n",
    "    \n",
    "    came_from = {}\n",
    "    came_from[start] = None\n",
    "    \n",
    "    cost_so_far = {}    \n",
    "    cost_so_far[start] = 0\n",
    "    \n",
    "    while frontier:\n",
    "        curr_cost, curr_node = heapq.heappop(frontier)\n",
    "        \n",
    "        if curr_node == goal:\n",
    "            break\n",
    "        \n",
    "        for next_node in graph.neighbors(curr_node):\n",
    "            new_cost = cost_so_far[curr_node] + graph.cost(curr_node, next_node)\n",
    "            if next_node not in cost_so_far or new_cost < cost_so_far[next_node]:\n",
    "                cost_so_far[next_node] = new_cost\n",
    "                priority = new_cost + heuristic(goal, next_node)\n",
    "                heapq.heappush(frontier, (priority, next_node))\n",
    "                came_from[next_node] = curr_node\n",
    "    \n",
    "    return came_from, cost_so_far"
   ]
  },
  {
   "cell_type": "markdown",
   "metadata": {},
   "source": [
    "Let’s try it out:"
   ]
  },
  {
   "cell_type": "code",
   "execution_count": 35,
   "metadata": {},
   "outputs": [
    {
     "name": "stdout",
     "output_type": "stream",
     "text": [
      ".  .  .  .  .  .  .  .  .  .  \n",
      ".  v  v  v  .  .  .  .  .  .  \n",
      "v  v  v  v  <  .  .  .  .  .  \n",
      "v  v  v  <  <  .  .  .  .  .  \n",
      ">  A  <  <  <  .  .  .  .  .  \n",
      ">  ^  <  <  <  .  .  .  .  .  \n",
      ">  ^  <  <  <  <  .  .  .  .  \n",
      "^  #########^  .  v  .  .  .  \n",
      "^  #########v  v  v  Z  .  .  \n",
      "^  <  <  <  <  <  <  <  .  .  \n",
      "\n",
      ".  .  .  .  .  .  .  .  .  .  \n",
      ".  3  4  5  .  .  .  .  .  .  \n",
      "3  2  3  4  9  .  .  .  .  .  \n",
      "2  1  2  3  8  .  .  .  .  .  \n",
      "1  A  1  6  11 .  .  .  .  .  \n",
      "2  1  2  7  12 .  .  .  .  .  \n",
      "3  2  3  4  9  14 .  .  .  .  \n",
      "4  #########14 .  18 .  .  .  \n",
      "5  #########15 16 13 Z  .  .  \n",
      "6  7  8  9  10 11 12 13 .  .  \n",
      "\n"
     ]
    }
   ],
   "source": [
    "start, goal = (1, 4), (7, 8)\n",
    "came_from, cost_so_far = a_star_search(diagram4, start, goal)\n",
    "draw_grid(diagram4, width=3, point_to=came_from, start=start, goal=goal)\n",
    "print()\n",
    "draw_grid(diagram4, width=3, number=cost_so_far, start=start, goal=goal)\n",
    "print()"
   ]
  },
  {
   "cell_type": "markdown",
   "metadata": {},
   "source": [
    "#### 1.4.1 Straighter paths\n",
    "If you implement this code in your own project you might find that some of the paths aren’t as “straight” as you’d like. This is normal. When using grids, especially grids where every step has the same movement cost, you end up with ties: many paths have exactly the same cost. A* ends up picking one of the many short paths, and very often it doesn’t look good to you. The quick hack is to break the ties, but it’s not entirely satisfactory. The better approach is to change the map representation, which makes A* a lot faster, and also produces straighter, better looking paths. However, that only works for mostly-static maps where every step has the same movement cost. For the demos on my page, I’m using a quick hack, but it only works with my slow priority queue. If you switch to a faster priority queue you’ll need a different quick hack."
   ]
  },
  {
   "cell_type": "markdown",
   "metadata": {},
   "source": [
    "## 2. Algorithm Changes\n",
    "\n",
    "The version of Dijkstra’s Algorithm and A\\* on my pages is slightly different from what you’ll see in an algorithms or AI textbook.\n",
    "\n",
    "The pure version of Dijkstra’s Algorithm starts the priority queue with all nodes, and does not have early exit. It uses a “decrease-key” operation in the queue. It’s fine in theory. But in practice…\n",
    "\n",
    "1. By starting the priority with only the start node, we can keep it small, which makes it faster and use less memory.\n",
    "2. With early exit, we almost never need to insert all the nodes into the queue, and we can return the path as soon as it’s found.\n",
    "3. By not putting all nodes into the queue at the start, most of the time we can use a cheap insert operation instead of the more expensive decrease-key operation.\n",
    "4. By not putting all nodes into the queue at the start, we can handle situations where we do not even know all the nodes, or where the number of nodes is infinite.  \n",
    "\n",
    "This variant is sometimes called “Uniform Cost Search”. See Wikipedia to see the pseudocode, or read [Felner’s paper](https://www.aaai.org/ocs/index.php/SOCS/SOCS11/paper/viewFile/4017/4357) to see justifications for these changes.\n",
    "\n",
    "There are three further differences between my version and what you might find elsewhere. These apply to both Dijkstra’s Algorithm and A\\*:\n",
    "\n",
    "1. I eliminate the check for a node being in the frontier with a higher cost. By not checking, I end up with duplicate elements in the frontier. The algorithm still works. It will revisit some locations more than necessary (but rarely, in my experience). The code is simpler and it allows me to use a simpler and faster priority queue that does not support the decrease-key operation. The paper [“Priority Queues and Dijkstra’s Algorithm”](http://www.cs.sunysb.edu/~rezaul/papers/TR-07-54.pdf) suggests that this approach is faster in practice.\n",
    "2. Instead of storing both a “closed set” and an “open set”, I have a visited flag that tells me whether it’s in either of those sets. This simplifies the code further.\n",
    "3. I don’t need to store a separate open or closed set explicitly because the set is implicit in the keys of the came_from and cost_so_far tables. Since we always want one of those two tables, there’s no need to store the open/closed sets separately.\n",
    "4. I use hash tables instead of arrays of node objects. This eliminates the rather expensive initialize step that many other implementations have. For large game maps, the initialization of those arrays is often slower than the rest of A\\*.\n",
    "\n",
    "If you have more suggestions for simplifications that preserve performance, please let me know!"
   ]
  },
  {
   "cell_type": "markdown",
   "metadata": {},
   "source": []
  },
  {
   "cell_type": "code",
   "execution_count": null,
   "metadata": {
    "collapsed": true
   },
   "outputs": [],
   "source": []
  },
  {
   "cell_type": "code",
   "execution_count": null,
   "metadata": {
    "collapsed": true
   },
   "outputs": [],
   "source": []
  },
  {
   "cell_type": "code",
   "execution_count": null,
   "metadata": {
    "collapsed": true
   },
   "outputs": [],
   "source": []
  }
 ],
 "metadata": {
  "kernelspec": {
   "display_name": "Python 3",
   "language": "python",
   "name": "python3"
  },
  "language_info": {
   "codemirror_mode": {
    "name": "ipython",
    "version": 3
   },
   "file_extension": ".py",
   "mimetype": "text/x-python",
   "name": "python",
   "nbconvert_exporter": "python",
   "pygments_lexer": "ipython3",
   "version": "3.6.3"
  }
 },
 "nbformat": 4,
 "nbformat_minor": 2
}
