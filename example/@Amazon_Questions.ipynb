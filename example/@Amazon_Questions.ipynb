{
 "cells": [
  {
   "cell_type": "markdown",
   "metadata": {},
   "source": [
    "# Amazon Coding Questions\n",
    "---"
   ]
  },
  {
   "cell_type": "markdown",
   "metadata": {},
   "source": [
    "## Online Assessment"
   ]
  },
  {
   "cell_type": "markdown",
   "metadata": {},
   "source": [
    "### Array and String, Heap"
   ]
  },
  {
   "cell_type": "markdown",
   "metadata": {
    "collapsed": true
   },
   "source": [
    "#### Question 1: Amazon Fresh Grocery Service [Leetcode 973. K Closest Points to Origin](https://leetcode.com/problems/k-closest-points-to-origin/)\n",
    "\n",
    "Given an array of N possible delivery destination, implement an algorithm to create delivery plan for the closest X destinations.\n",
    "\n",
    "Example:\n",
    "```\n",
    "Input: \n",
    "numDestinations = 3\n",
    "allLocations = [[1,2], [3,4], [1,-1]]\n",
    "numDeliveries = 2\n",
    "\n",
    "Output:\n",
    "[[1,-1],[1,2]]\n",
    "```"
   ]
  },
  {
   "cell_type": "code",
   "execution_count": 3,
   "metadata": {},
   "outputs": [
    {
     "name": "stdout",
     "output_type": "stream",
     "text": [
      "[[1, -1], [1, 2]]\n",
      "[[3, 3], [-2, 4]]\n"
     ]
    }
   ],
   "source": [
    "import heapq\n",
    "class Solution:\n",
    "    def kClosest(self, points, K):\n",
    "        \"\"\"\n",
    "        if the order is mattered\n",
    "        Method 1: sort, and get the first K points. O(nlogn)\n",
    "        Method 2: min heap, and pop out the min points. O(n) + O(klogn)\n",
    "        \"\"\"\n",
    "        heap = [(x ** 2 + y ** 2, x, y) for x, y in points]\n",
    "        heapq.heapify(heap)\n",
    "        \n",
    "        results = []\n",
    "        for i in range(min(K, len(points))):\n",
    "            _, x, y = heapq.heappop(heap)\n",
    "            results.append([x, y])\n",
    "            \n",
    "        return results\n",
    "    \n",
    "if __name__ == \"__main__\":\n",
    "    soln = Solution()\n",
    "    print(soln.kClosest(points=[[1,2], [3,4], [1,-1]], K=2))\n",
    "    print(soln.kClosest(points=[[3,3], [5,-1],[-2,4]], K=2))"
   ]
  },
  {
   "cell_type": "code",
   "execution_count": 5,
   "metadata": {},
   "outputs": [
    {
     "name": "stdout",
     "output_type": "stream",
     "text": [
      "[[1, 2], [1, -1]]\n",
      "[[-2, 4], [3, 3]]\n"
     ]
    }
   ],
   "source": [
    "import heapq\n",
    "class Solution:\n",
    "    def kClosest(self, points, K):\n",
    "        \"\"\"\n",
    "        if the order is not mattered\n",
    "        Method 3: max heap, and keep the min points. O(k) + O((n-k)logk)\n",
    "        \"\"\"\n",
    "        if len(points) <= K:\n",
    "            return points\n",
    "        \n",
    "        nums = [(- x ** 2 - y ** 2, x, y) for x, y in points]\n",
    "        \n",
    "        heap = []\n",
    "        for i in range(len(points)):\n",
    "            heapq.heappush(heap, nums[i])\n",
    "            if i >= K:\n",
    "                heapq.heappop(heap)\n",
    "                \n",
    "        results = []\n",
    "        for _, x, y in heap:\n",
    "            results.append([x, y])\n",
    "            \n",
    "        return results\n",
    "    \n",
    "if __name__ == \"__main__\":\n",
    "    soln = Solution()\n",
    "    print(soln.kClosest(points=[[1,2], [3,4], [1,-1]], K=2))\n",
    "    print(soln.kClosest(points=[[3,3], [5,-1],[-2,4]], K=2))"
   ]
  },
  {
   "cell_type": "code",
   "execution_count": 6,
   "metadata": {},
   "outputs": [
    {
     "name": "stdout",
     "output_type": "stream",
     "text": [
      "[[1, -1], [1, 2]]\n",
      "[[3, 3], [-2, 4]]\n"
     ]
    }
   ],
   "source": [
    "class Solution:\n",
    "    def kClosest(self, points, K):\n",
    "        \"\"\"\n",
    "        if the order is not mattered\n",
    "        Method 4: quick sort. O(logn)\n",
    "        \"\"\"\n",
    "        if len(points) <= K:\n",
    "            return points\n",
    "        \n",
    "        nums = [(x ** 2 + y ** 2, x, y) for x, y in points]\n",
    "        \n",
    "        self.findKthSmallest(nums, 0, len(nums)-1, K)\n",
    "        \n",
    "        results = []\n",
    "        for _, x, y in nums[:K]:\n",
    "            results.append([x, y])\n",
    "            \n",
    "        return results\n",
    "    \n",
    "    def findKthSmallest(self, nums, start, end, K):\n",
    "        if start >= end:\n",
    "            return start\n",
    "        \n",
    "        pivot_index = self.partition(nums, start, end)\n",
    "        if pivot_index == K - 1:\n",
    "            return pivot_index\n",
    "        elif pivot_index < K - 1:\n",
    "            return self.findKthSmallest(nums, pivot_index + 1, end, K)\n",
    "        else:\n",
    "            return self.findKthSmallest(nums, start, pivot_index - 1, K)\n",
    "        \n",
    "    def partition(self, nums, start, end):\n",
    "        pivot = nums[end]\n",
    "        \n",
    "        slow, fast = start, start\n",
    "        while fast < end:\n",
    "            if nums[fast] < pivot:\n",
    "                nums[slow], nums[fast] = nums[fast], nums[slow]\n",
    "                slow += 1\n",
    "            fast += 1\n",
    "            \n",
    "        nums[slow], nums[end] = nums[end], nums[slow]\n",
    "        return slow\n",
    "    \n",
    "if __name__ == \"__main__\":\n",
    "    soln = Solution()\n",
    "    print(soln.kClosest(points=[[1,2], [3,4], [1,-1]], K=2))\n",
    "    print(soln.kClosest(points=[[3,3], [5,-1],[-2,4]], K=2))"
   ]
  },
  {
   "cell_type": "markdown",
   "metadata": {},
   "source": [
    "#### Question 2: Amazon Prime Air [Reference](https://www.geeksforgeeks.org/given-two-sorted-arrays-number-x-find-pair-whose-sum-closest-x/)\n",
    "\n",
    "Write an algorithm to optimize the sets of forward/return shipping route pairs that allows the aircraft to be optimally utilized, given a list of forward shipping routes and a list of return shipping routes.\n",
    "\n",
    "Examples:\n",
    "```\n",
    "Input:\n",
    "maxTravelDist = 7000\n",
    "forwardRouteList = [[1,2000], [2,4000], [3,6000]]\n",
    "returnRouteList = [[1,2000]]\n",
    "\n",
    "Output:\n",
    "[[2,1]]\n",
    "```\n",
    "\n",
    "```\n",
    "Input:\n",
    "maxTravelDist = 10000\n",
    "forwardRouteList = [[1,3000], [2,5000], [3,7000], [4,10000]]\n",
    "returnRouteList = [[1,2000], [2,3000], [3,4000], [4,5000]]\n",
    "\n",
    "Output:\n",
    "[[2,4], [3,2]]\n",
    "```\n",
    "\n",
    "**题目1：飞机来回路程的问题** \n",
    "\n",
    "油箱最多走Max = 10000  \n",
    "\n",
    "去程：[1, 2000] [2, 5000]  \n",
    "回程：[1, 5000] [2, 2000] [3, 8000]  \n",
    "\n",
    "问飞机最多可以走哪几条路？不一定能走满Max，可以是最靠近Max的数。\n",
    "\n",
    "**题目2：类似Two Sum Closest**  \n",
    "\n",
    "给两个数组。从两个数组中分别取一个数， 和要小于等于k。找到和最大的组合。（其他描述：返回两个list中和最大但不超过一个值的下标－函数名optimalUtilization）\n",
    "\n",
    "给2个sorted array，和一个整数capacity， 每个array各找出一个数，组成一个pair 。找出pair满足以下条件：\n",
    "1. sum of pair <= capacity\n",
    "2. sum is maximum\n",
    "后来真的遇到这道题的时候还是 先用$O(N*N)$的算法检查了所有可能的组合，oj是可以过的。我觉得这题的考点不在降低时间复杂度，而在不能错过任何一个重复的组合 。\n",
    "\n",
    "参考思路：  \n",
    "1. 两层for循环，穷举所有组合。这种方式简单能过。\n",
    "2. 其它思路：sort, 2pointer 或者binary search。输入输出比较复杂。不建议用nlogn的解法。直接双循环暴力解即可。\n",
    "\n",
    "容易出错点： 数组里有重复元素，漏解\n",
    "\n",
    "**题目3：Memory of Apps** \n",
    "\n",
    "有两个List of apps， 里面存着每一个app的index 和 它所需的memory。 从foregroundList<Integer>（[1, 200], [2, 300]） 和一个boregroundList<Integer> ([1, 400], [2, 500])中各取一个组成一对，使得它们memory加起来的和最接近但不超过capacity。 需要注意的是多个\n",
    "app的memory有可能是相同。\n",
    "    \n",
    "例如： foregroundList<Integer> =[[1, 2000]], boregroundList<Integer> = [[1, 8000], [2, 8000]],\n",
    "capacity = 10000. 需要返回 [[1,1], [1,2]]。\n",
    "    \n",
    "描述：给了两组application的ID和内存需要，以及一个目标内存，求一对application的ID使得它们的内存使用之和最接近目标内存。\n",
    "参考思路：\n",
    "\n",
    "1. 暴力解，也可以用two pointers。我用了treeset， all case passed。\n",
    "2. binary search：$O(N*N)$ -> $O(N\\log N)$\n",
    "  1. 先sort BACK list，\n",
    "  2. 再遍历Front list：for each element i in FRONT, search for lower_bound(capacity-i)\n",
    "  3. 输出的candidates用max_stack存储，有新来的就一直pop直到top等于新来的或者stack为空。\n",
    "  4. 顺序你是指相同的capacity的时候，不同id number组合的排序吗？好像是没有特别要求吧。。。\n"
   ]
  },
  {
   "cell_type": "code",
   "execution_count": 12,
   "metadata": {},
   "outputs": [
    {
     "name": "stdout",
     "output_type": "stream",
     "text": [
      "[[2, 1]]\n",
      "[[2, 4], [3, 2]]\n",
      "[[2, 4], [3, 2], [3, 5], [4, 4], [5, 2], [5, 5]]\n"
     ]
    }
   ],
   "source": [
    "class Solution(object):\n",
    "    def getOptiamlList(self, maxTravelDist, forwardRouteList, returnRouteList):\n",
    "        \"\"\"\n",
    "        Brute Force: Linear Scan + Hash Table, \n",
    "        Time Complexity: O(n^2)\n",
    "        Space Complexity: O(n^2)\n",
    "        \"\"\"\n",
    "        maps = {}\n",
    "        max_sum = 0\n",
    "        for i, forward in forwardRouteList:\n",
    "            for j, backward in returnRouteList:\n",
    "                temp_sum = forward + backward\n",
    "                # update max_sum\n",
    "                if max_sum < temp_sum <= maxTravelDist:\n",
    "                    max_sum = temp_sum\n",
    "                # store the index in maps\n",
    "                if temp_sum not in maps:\n",
    "                    maps[temp_sum] = []\n",
    "                maps[temp_sum].append([i, j])\n",
    "        #print(maps)\n",
    "        \n",
    "        return maps[max_sum]\n",
    "        \n",
    "if __name__ == \"__main__\":\n",
    "    soln = Solution()\n",
    "    \n",
    "    print(soln.getOptiamlList(maxTravelDist = 7000,\n",
    "                              forwardRouteList = [[1,2000], [2,4000], [3,6000]],\n",
    "                              returnRouteList = [[1,2000]]))\n",
    "    \n",
    "    print(soln.getOptiamlList(maxTravelDist = 10000,\n",
    "                              forwardRouteList = [[1,3000], [2,5000], [3,7000], [4,10000]],\n",
    "                              returnRouteList = [[1,2000], [2,3000], [3,4000], [4,5000]]))\n",
    "    \n",
    "    print(soln.getOptiamlList(maxTravelDist = 10000,\n",
    "                              forwardRouteList = [[1,3000], [2,5000], [3,7000], [4,5000], [5, 7000]],\n",
    "                              returnRouteList = [[1,2000], [2,3000], [3,4000], [4,5000], [5, 3000]]))"
   ]
  },
  {
   "cell_type": "code",
   "execution_count": 22,
   "metadata": {},
   "outputs": [
    {
     "name": "stdout",
     "output_type": "stream",
     "text": [
      "[[2, 1], [2, 2]]\n",
      "[[2, 4], [3, 2]]\n",
      "[[2, 4], [3, 2], [3, 5], [4, 4], [5, 2], [5, 5]]\n"
     ]
    }
   ],
   "source": [
    "class Solution(object):\n",
    "    def getOptiamlList(self, maxTravelDist, forwardRouteList, returnRouteList):\n",
    "        \"\"\"\n",
    "        Brute Force: Sort returnRouteList + Binary Search + Hash Table, \n",
    "        Time Complexity: O(nlogn)\n",
    "        Space Complexity: O(n^2)\n",
    "        \"\"\"\n",
    "        # step 1: sort, O(nlogn)\n",
    "        returnRouteList.sort(key = lambda x: x[1])\n",
    "        #print(returnRouteList)\n",
    "        \n",
    "        # step 2: scan * binary search, O(nlogn)\n",
    "        maps = {}\n",
    "        max_sum = 0\n",
    "        for i, forward in forwardRouteList:\n",
    "            # find the largest return route <= target\n",
    "            ideal_target = maxTravelDist - forward\n",
    "            target = self.findLargestReturn(returnRouteList, ideal_target)\n",
    "            #print(target)\n",
    "            # find the range of the target values in return list\n",
    "            first, last = self.findRange(returnRouteList, target)\n",
    "            \n",
    "            temp_sum = forward + target\n",
    "            # update max_sum\n",
    "            if max_sum < temp_sum <= maxTravelDist:\n",
    "                max_sum = temp_sum\n",
    "            # store the index in maps\n",
    "            if temp_sum not in maps:\n",
    "                maps[temp_sum] = []\n",
    "            for j in range(first, last+1):\n",
    "                maps[temp_sum].append([i, returnRouteList[j][0]])\n",
    "            \n",
    "        #print(maps)\n",
    "        \n",
    "        return maps[max_sum]\n",
    "    \n",
    "    def findLargestReturn(self, nums, target):\n",
    "        left, right = 0, len(nums) - 1\n",
    "        while left < right - 1:\n",
    "            mid = left + (right - left) // 2\n",
    "            if nums[mid][1] == target:\n",
    "                return nums[mid][1]\n",
    "            elif nums[mid][1] < target:\n",
    "                left = mid\n",
    "            else:\n",
    "                right = mid\n",
    "\n",
    "        if nums[right][1] <= target:\n",
    "            return nums[right][1]\n",
    "        else:\n",
    "            return nums[left][1]\n",
    "        \n",
    "    def findRange(self, nums, target):\n",
    "        \n",
    "        # find the first index\n",
    "        left, right = 0, len(nums) - 1\n",
    "        while left < right - 1:\n",
    "            mid = left + (right - left) // 2\n",
    "            if nums[mid][1] == target:\n",
    "                right = mid\n",
    "            elif nums[mid][1] < target:\n",
    "                left = mid\n",
    "            else:\n",
    "                right = mid\n",
    "                \n",
    "        if nums[left][1] == target:\n",
    "            first = left\n",
    "        else:\n",
    "            first = right\n",
    "            \n",
    "        # find the last index\n",
    "        left, right = 0, len(nums) - 1\n",
    "        while left < right - 1:\n",
    "            mid = left + (right - left) // 2\n",
    "            if nums[mid][1] == target:\n",
    "                left = mid\n",
    "            elif nums[mid][1] < target:\n",
    "                left = mid\n",
    "            else:\n",
    "                right = mid\n",
    "                \n",
    "        if nums[right][1] == target:\n",
    "            last = right\n",
    "        else:\n",
    "            last = left\n",
    "            \n",
    "        # return\n",
    "        return [first, last]\n",
    "        \n",
    "if __name__ == \"__main__\":\n",
    "    soln = Solution()\n",
    "    \n",
    "    print(soln.getOptiamlList(maxTravelDist = 7000,\n",
    "                              forwardRouteList = [[1,2000], [2,4000], [3,6000]],\n",
    "                              returnRouteList = [[1,2000], [2, 2000], [3, 1500]]))\n",
    "    \n",
    "    print(soln.getOptiamlList(maxTravelDist = 10000,\n",
    "                              forwardRouteList = [[1,3000], [2,5000], [3,7000], [4,10000]],\n",
    "                              returnRouteList = [[1,2000], [2,3000], [3,4000], [4,5000]]))\n",
    "    \n",
    "    print(soln.getOptiamlList(maxTravelDist = 10000,\n",
    "                              forwardRouteList = [[1,3000], [2,5000], [3,7000], [4,5000], [5, 7000]],\n",
    "                              returnRouteList = [[1,2000], [2,3000], [3,4000], [4,5000], [5, 3000]]))"
   ]
  },
  {
   "cell_type": "markdown",
   "metadata": {},
   "source": [
    "#### Question: [Leetcode 1. Two Sum](https://leetcode.com/problems/two-sum/)"
   ]
  },
  {
   "cell_type": "markdown",
   "metadata": {},
   "source": [
    "#### Question: [Leetcode 937. Reorder Log Files](https://leetcode.com/problems/reorder-log-files/)"
   ]
  },
  {
   "cell_type": "markdown",
   "metadata": {},
   "source": [
    "#### Question: [Leetcode 1086. High Five](https://leetcode.com/problems/high-five/)\n",
    "\n",
    "Five hightest：选每个产品五个评分最高的求平均值。给一个list，每个element是<productId,productRating>，求每个product最高的5个评分的Average \n",
    "\n",
    "参考解法：TreeMap<productId, Heap(5)> 然后遍历"
   ]
  },
  {
   "cell_type": "markdown",
   "metadata": {},
   "source": [
    "#### Question: [Leetcode 1099. Two Sum Less Than K](https://leetcode.com/problems/two-sum-less-than-k/)"
   ]
  },
  {
   "cell_type": "markdown",
   "metadata": {},
   "source": [
    "#### Question: [Leetcode 340. Longest Substring with At Most K Distinct Characters](https://leetcode.com/problems/longest-substring-with-at-most-k-distinct-characters/)\n",
    "\n",
    "参考解法： 用一个int[26]存a-z字母出现的index，一旦长度到了k，存下来\n",
    "\n",
    "\n",
    "#### Question: [Longest Substring with K Distinct Characters](https://www.geeksforgeeks.org/count-number-of-substrings-with-exactly-k-distinct-characters/)\n",
    "\n",
    "参考解法： 用一个int[26]存a-z字母出现的index，一旦长度到了k，存下来"
   ]
  },
  {
   "cell_type": "markdown",
   "metadata": {},
   "source": [
    "### BFS\n",
    "\n",
    "#### Question 1: list of list 中BFS最短路径题 。\n",
    "0，1，9组成grid。从（0，0）出发，4个方向走。0能走，1不能走。到达9的最小步数。给一个二维数组，里面有1，0，9，找从左上到有9的最小距离。\n",
    "\n",
    "参考解法：BFS\n",
    "\n",
    "#### Question 2: Maze返回最短距离。\n",
    "在maze里求到某个点的最短距离，OA里面input是 List<List<Integer>>\n",
    "\n",
    "参考答案：BFS\n",
    "\n",
    "#### Question 3: 停车场里找obstable最短路径的题目。\n",
    "记得没找到obstacle要返回-1，不然只会过12个test case。加了这行就16个test case全过了，不需要再optimize。\n",
    "\n",
    "参考解法：BFS\n",
    "\n",
    "4. Black and White"
   ]
  },
  {
   "cell_type": "markdown",
   "metadata": {},
   "source": [
    "### MST\n",
    "\n",
    "#### Question 1. MST：给你一堆connection，求能链接所有城市的最小的cost。 \n",
    "具体谷歌搜索 mst algorithm 就有类似的题。 （感觉这是oa2的标配。 做得时候最后有一个testcase 想了很久， 就是如果不能成功的链接所有程序，例如用unionfind 有一个 城市跟别的城市不一样组，就返回空list）\n",
    "\n",
    "N个城市，城市之间有路，这些路能保证在任意一个城市都能到达任何其他一个城市下雨了，有M条路坏了，修每一条路都有每一条路的价格问题是，用最少的钱修路，使得每个城市间都能互相联通。\n",
    "```\n",
    "public int lowerestCost(int numOfCities, \n",
    "List<List<Integer> originalRoads,\n",
    "int numOfRoadsToRepair,\n",
    "List<List<Integer>><list</list roadsToRepair)\n",
    "\n",
    "example \n",
    "numOfCities = 5\n",
    "\n",
    "originalRoads = {1,2},{2,3},{3,4},{4,5},{5,1}     代表 1，2 之间有路， 2，3也有路 。。。\n",
    "\n",
    "numOfRoadsToRepair = 3\n",
    "\n",
    "roadsToRepair = {1,2, 30},{1,5, 40},{3,4,25}    代表1，2之间的路坏了，修起来需要 30\n",
    "```\n",
    "解法. check 1point3acres for more.\n",
    "\n",
    "1. 找到没有被破坏的路  ```List<List<Integer>>```\n",
    "2. UnionFind 找到一共有几个孤岛\n",
    "3. Greedy 从roadsToRepair取出花钱最少的路。\n",
    "    a. 如果不能减少孤岛数目，就继续找。\n",
    "    b. 如果能减少孤岛数，就把cost 加到结果上去。\n",
    "4. 直到孤岛数变为1，返回结果\n",
    "\n",
    "其他描述：\n",
    "\n",
    "一道MST的题的变形，搜一下MST的算法，感觉挺难的，我反正写了好久 好像8个test case吧。\n",
    "\n",
    "一个MST的问题，写之前可以google一下求MST的算法，练一练。\n",
    "\n",
    "参考解法： 最小生成树两种算法及Union Find\n",
    "https://www.geeksforgeeks.org/prims-minimum-spanning-tree-mst-greedy-algo-5/\n",
    "\n",
    "#### Question 2: Maximum Minimum Path 。"
   ]
  },
  {
   "cell_type": "markdown",
   "metadata": {},
   "source": [
    "### Tree\n",
    "\n",
    "#### 求最大 subtree"
   ]
  },
  {
   "cell_type": "markdown",
   "metadata": {
    "collapsed": true
   },
   "source": [
    "### LinkedList\n",
    "\n",
    "1. 合并两个LinkedList / merge two sorted linkedlist 关键词：package， belt。\n"
   ]
  },
  {
   "cell_type": "markdown",
   "metadata": {},
   "source": []
  },
  {
   "cell_type": "code",
   "execution_count": null,
   "metadata": {
    "collapsed": true
   },
   "outputs": [],
   "source": []
  }
 ],
 "metadata": {
  "kernelspec": {
   "display_name": "Python 3",
   "language": "python",
   "name": "python3"
  },
  "language_info": {
   "codemirror_mode": {
    "name": "ipython",
    "version": 3
   },
   "file_extension": ".py",
   "mimetype": "text/x-python",
   "name": "python",
   "nbconvert_exporter": "python",
   "pygments_lexer": "ipython3",
   "version": "3.6.5"
  }
 },
 "nbformat": 4,
 "nbformat_minor": 2
}
