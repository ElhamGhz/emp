{
 "cells": [
  {
   "cell_type": "markdown",
   "metadata": {},
   "source": [
    "# Lesson 02: Data Structure -- Linked List\n",
    "----\n",
    "In this lesson, we will cover the following part:\n",
    "1. Lecture Note\n",
    "2. Leetcode Training (Bacis)\n",
    "3. Leetcode Practice (Advanced)"
   ]
  },
  {
   "cell_type": "markdown",
   "metadata": {},
   "source": [
    "<font color='red'>Critial Points</font>: **How to write recursion function?**\n",
    "1. Before to write the recursion function:\n",
    "  * What information do you want pass? 从上往下，增加参数；从下往上传，使用返回\n",
    "2. Base Case:\n",
    "  * What is the base case ? (How to end the recursion part?)\n",
    "3. Recursion Body:\n",
    "  * What to get from your children?\n",
    "  * What to do in the current stage?\n",
    "  * Whare to return to your parent?"
   ]
  },
  {
   "cell_type": "markdown",
   "metadata": {},
   "source": [
    "## 2.1 Lecture Note\n",
    "\n",
    "In computer science, a linked list is a linear collection of data elements, whose order is not given by their physical placement in memory. Instead, each element points to the next. It is a data structure consisting of a collection of nodes which together represent a sequence. In its most basic form, each node contains: data, and a reference (in other words, a link) to the next node in the sequence. This structure allows for efficient insertion or removal of elements from any position in the sequence during iteration.\n",
    "\n",
    "The principal benefit of a linked list over a conventional array is that the list elements can be easily inserted or removed without reallocation or reorganization of the entire structure because the data items need not be stored contiguously in memory or on disk, while restructuring an array at run-time is a much more expensive operation. Linked lists allow insertion and removal of nodes at any point in the list, and allow doing so with a constant number of operations by keeping the link previous to the link being added or removed in memory during list traversal.\n",
    "\n",
    "On the other hand, since simple linked lists by themselves do not allow random access to the data or any form of efficient indexing, many basic operations—such as obtaining the last node of the list, finding a node that contains a given datum, or locating the place where a new node should be inserted—may require iterating through most or all of the list elements"
   ]
  },
  {
   "cell_type": "markdown",
   "metadata": {},
   "source": [
    "### 2.1.1 Singly Linked List\n",
    "Definition:  \n",
    "Singly linked list is a recursively defined structure that is either empty or a reference to a node object that contains a value (or some values) and a reference to another singly linked list.\n",
    "\n",
    "\n",
    "![Linked List Example](source/lesson4_linkedlist_single2.png)\n",
    "\n",
    "Why do we need linked list?  \n",
    "* Versatility and flexibility -- building blocks of other important data types. Does not require to know size ahead. In python, the built-in list type is a dynamically resizing array. Although you can insert as many elements as you want into a list object. But whenever it exceeds its current capacity, a resizing of the internal buffer that is used by the list object will be triggered. For linked list, there is no such thing.\n",
    "* Being able to model the linked base relationship directly. For example, a hierarchical structure, such as management relationship between employees in a company, can be naturally modeled with linked list (specifically, later in the class, you will know the more proper name for this type of data structure - tree)."
   ]
  },
  {
   "cell_type": "code",
   "execution_count": 1,
   "metadata": {},
   "outputs": [],
   "source": [
    "# Definition for a list node.\n",
    "class ListNode(object):\n",
    "    def __init__(self, value): # value could be anything -- a number, string, character, etc \n",
    "        self.value = value\n",
    "        self.next = None\n",
    "        \n",
    "    def foo(self):\n",
    "        print(self.value)\n",
    "        "
   ]
  },
  {
   "cell_type": "code",
   "execution_count": 2,
   "metadata": {},
   "outputs": [],
   "source": [
    "# Definition for a linked list\n",
    "class LinkedList(object):\n",
    "    def __init__(self):\n",
    "        self.head = None\n",
    "        \n",
    "    def createExample(self):\n",
    "        node1 = ListNode(\"W\")\n",
    "        node2 = ListNode(\"U\")\n",
    "        node3 = ListNode(\"S\")\n",
    "        node4 = ListNode(\"T\")\n",
    "        node5 = ListNode(\"L\")\n",
    "        node6 = ListNode(\"E\")\n",
    "        node7 = ListNode(\"S\")\n",
    "        node8 = ListNode(\"E\")\n",
    "        node9 = ListNode(\"!\")\n",
    "\n",
    "        node1.next = node2\n",
    "        node2.next = node3\n",
    "        node3.next = node4\n",
    "        node4.next = node5\n",
    "        node5.next = node6\n",
    "        node6.next = node7\n",
    "        node7.next = node8\n",
    "        node8.next = node9\n",
    "\n",
    "        self.head = node1\n",
    "    \n",
    "    def printLinkedList(self):\n",
    "        if not self.head:\n",
    "            print(\"NULL\")\n",
    "        curr = self.head\n",
    "        while curr:\n",
    "            print(\"({} .-)->\".format(curr.value), end='')\n",
    "            curr = curr.next\n",
    "        print(\"NULL\")"
   ]
  },
  {
   "cell_type": "code",
   "execution_count": 3,
   "metadata": {},
   "outputs": [
    {
     "name": "stdout",
     "output_type": "stream",
     "text": [
      "(W .-)->(U .-)->(S .-)->(T .-)->(L .-)->(E .-)->(S .-)->(E .-)->(! .-)->NULL\n"
     ]
    }
   ],
   "source": [
    "linkedlist = LinkedList()\n",
    "linkedlist.createExample()\n",
    "linkedlist.printLinkedList()"
   ]
  },
  {
   "cell_type": "markdown",
   "metadata": {},
   "source": [
    "####  Traverse\n",
    "Traverse all the nodes inside a singly linked list and print their values accordingly to the screen."
   ]
  },
  {
   "cell_type": "code",
   "execution_count": 4,
   "metadata": {},
   "outputs": [],
   "source": [
    "def printList(head):\n",
    "    \"\"\"\n",
    "    Traverse every nodes in the singly linked list that is defined by this head\n",
    "    For each node we encounter, print the value\n",
    "    \"\"\"\n",
    "    curr = head\n",
    "    while curr:    # equal to say: while curr is not None\n",
    "        print(\"({} .-)->\".format(curr.value), end='')\n",
    "        curr = curr.next\n",
    "    print(\"NULL\")\n",
    "        \n",
    "def printCurrNode(curr):\n",
    "    if curr is None:\n",
    "        print(\"None\")\n",
    "    else:\n",
    "        print(curr.value)"
   ]
  },
  {
   "cell_type": "code",
   "execution_count": 5,
   "metadata": {},
   "outputs": [
    {
     "name": "stdout",
     "output_type": "stream",
     "text": [
      "(W .-)->(U .-)->(S .-)->(T .-)->(L .-)->(E .-)->(S .-)->(E .-)->(! .-)->NULL\n"
     ]
    }
   ],
   "source": [
    "printList(linkedlist.head)"
   ]
  },
  {
   "cell_type": "markdown",
   "metadata": {},
   "source": [
    "#### Search\n",
    "* search by index:  \n",
    "Given a singly linked list and an index (assuming the index of the first list node is 0), return the node you found, otherwise return None.\n",
    "* search by value:"
   ]
  },
  {
   "cell_type": "code",
   "execution_count": 5,
   "metadata": {},
   "outputs": [],
   "source": [
    "def search_by_index(head, index):\n",
    "    # assuming valid index should >= 0\n",
    "    # returns a node object if found, None otherwise\n",
    "    if head is None or index < 0:\n",
    "        return None\n",
    "    \n",
    "    curr = head\n",
    "    for move_times in range(0, index):\n",
    "        curr = curr.next\n",
    "        if not curr:\n",
    "            return None\n",
    "    \n",
    "    return curr\n",
    "\n",
    "def search_by_index2(head, index):\n",
    "    if head is None or index < 0:\n",
    "        return None\n",
    "    \n",
    "    curr = head\n",
    "    count = 0\n",
    "    while curr:\n",
    "        if count == index:\n",
    "            return curr\n",
    "        curr = curr.next\n",
    "        count += 1\n",
    "        \n",
    "    return None"
   ]
  },
  {
   "cell_type": "code",
   "execution_count": 7,
   "metadata": {},
   "outputs": [
    {
     "name": "stdout",
     "output_type": "stream",
     "text": [
      "W\n",
      "T\n",
      "None\n"
     ]
    }
   ],
   "source": [
    "printCurrNode(linkedlist.head)\n",
    "printCurrNode(search_by_index(linkedlist.head, 3))\n",
    "printCurrNode(search_by_index(linkedlist.head, 10))"
   ]
  },
  {
   "cell_type": "code",
   "execution_count": 8,
   "metadata": {
    "collapsed": true
   },
   "outputs": [],
   "source": [
    "def search_by_value(head, value):\n",
    "    curr = head\n",
    "    while curr:\n",
    "        if curr.value == value:\n",
    "            return curr\n",
    "        curr = curr.next\n",
    "        \n",
    "    return None"
   ]
  },
  {
   "cell_type": "code",
   "execution_count": 9,
   "metadata": {},
   "outputs": [
    {
     "name": "stdout",
     "output_type": "stream",
     "text": [
      "W\n",
      "T\n",
      "None\n"
     ]
    }
   ],
   "source": [
    "printCurrNode(linkedlist.head)\n",
    "printCurrNode(search_by_value(linkedlist.head, 'T'))\n",
    "printCurrNode(search_by_value(linkedlist.head, 'Z'))"
   ]
  },
  {
   "cell_type": "markdown",
   "metadata": {},
   "source": [
    "#### Compare ```==``` and ```is```\n",
    "*is* operator defines if both the variables point to the same object  \n",
    "*==* sign checks if the values for the two variables are the same.\n",
    "\n",
    "In short, *is* checks whether the same object while \"==\" checks whether the same value."
   ]
  },
  {
   "cell_type": "code",
   "execution_count": 10,
   "metadata": {},
   "outputs": [
    {
     "name": "stdout",
     "output_type": "stream",
     "text": [
      "True\n",
      "False\n",
      "True\n"
     ]
    }
   ],
   "source": [
    "list1 = [] \n",
    "list2 = [] \n",
    "list3 = list1 \n",
    "  \n",
    "print(list1 == list2)\n",
    "print(list1 is list2)\n",
    "print(list1 is list3)"
   ]
  },
  {
   "cell_type": "markdown",
   "metadata": {},
   "source": [
    "As for why equality semantics is important, consider the following:\n",
    "```python\n",
    "n1, n2 = ListNode(1), ListNode(1)\n",
    "print(n1 == n2)\n",
    "```\n",
    "What will be the result?\n",
    "Answer: it will be False.\n",
    "\n",
    "The reason why this happens is because we do not define the equality comparison properly for ListNode. Since ListNode inherits from object class which implements the equality comparison by identity comparison (Two objects will be considered the same if they are located in the same memory address <-> id(obj1) == id(obj2)). n1 and n2, while contains the same content, will have different memory addresses for them since they are two independent object. The correct way to resolve this is to define our own equality comparison logic by adding \"\\__eq\\__\" implementation to ListNode class: "
   ]
  },
  {
   "cell_type": "code",
   "execution_count": 6,
   "metadata": {},
   "outputs": [],
   "source": [
    "class ListNode(object):\n",
    "    def __init__(self, value):\n",
    "        self.value = value\n",
    "        self.next = None\n",
    "    \n",
    "    def __eq__(self, other):\n",
    "        return isinstance(other, ListNode) and self.value == other.value"
   ]
  },
  {
   "cell_type": "code",
   "execution_count": 12,
   "metadata": {},
   "outputs": [
    {
     "name": "stdout",
     "output_type": "stream",
     "text": [
      "True\n"
     ]
    }
   ],
   "source": [
    "n1, n2 = ListNode(1), ListNode(1)\n",
    "print(n1 == n2)"
   ]
  },
  {
   "cell_type": "markdown",
   "metadata": {},
   "source": [
    "#### Add  \n",
    "Add to index:  \n",
    "Given a singly linked list and an index (assuming the index of the first list node is 0), add a new node to this specified position. If the position is not valid, we should do nothing.\n",
    "\n",
    "*Method 1*:  \n",
    "\n",
    "How do we design the API? Is the following API good?\n",
    "```python\n",
    "def add_to_index(head, index, value):\n",
    "    # head: type node, the first node of the passed singly linked list\n",
    "    # index: type int, the position where you want to insert (starting from 0)\n",
    "    # value: type *, the value that will be referred by the newly added list node object if our operation is successful\n",
    "    # return: None\n",
    "```\n",
    "1 -> 4 -> 2 -> 3, index = 1, insert 4\n",
    "\n",
    "head = ...  \n",
    "new_head =  add_to_index(head, 0, 4)\n",
    "\n",
    "Hint: with this API, what happens if we need to add to the first position (before current head)?\n",
    "\n",
    "Key observation:  \n",
    "If we are curretnly at a certain list node and we want to add a new node at this position, what information do we need other than the current list node object itself?\n",
    "\n",
    "prev_node -> prev_node.next  =>  prev_node -> new_node -> new_node.next  \n",
    "by\n",
    "```python\n",
    "new_node.next = prev_node.next\n",
    "prev_node.next = new_node\n",
    "```"
   ]
  },
  {
   "cell_type": "code",
   "execution_count": 13,
   "metadata": {
    "collapsed": true
   },
   "outputs": [],
   "source": [
    "# Method 1: discuss the edge case: if index == 0\n",
    "def add_to_index(head, index, value):\n",
    "    if index == 0:\n",
    "        new_head = ListNode(value)\n",
    "        new_head.next = head\n",
    "        return new_head\n",
    "    else:\n",
    "        # prevNode points to the node that precedes the node at the insertion postion\n",
    "        prev_node = search_by_index(head, index-1)\n",
    "        if prev_node is None:\n",
    "            return head\n",
    "        new_node = ListNode(value)\n",
    "        new_node.next = prev_node.next\n",
    "        prev_node.next = new_node\n",
    "        return head"
   ]
  },
  {
   "cell_type": "code",
   "execution_count": 14,
   "metadata": {},
   "outputs": [
    {
     "name": "stdout",
     "output_type": "stream",
     "text": [
      "(W .-)->(U .-)->(0 .-)->(S .-)->(T .-)->(L .-)->(E .-)->(S .-)->(E .-)->(! .-)->NULL\n"
     ]
    }
   ],
   "source": [
    "printList(add_to_index(linkedlist.head, 2, 0))"
   ]
  },
  {
   "cell_type": "markdown",
   "metadata": {},
   "source": [
    "*Method 2*:  \n",
    "\n",
    "Adding sentinel to remove additional logic branches:  \n",
    "In order to do an insertion, we need to know the predecessor of a node. Since the head of a singly linked list is a special node that has no predecessor, to avoid special case handling, we can just simply manually add a dummy node before and use it as the new head."
   ]
  },
  {
   "cell_type": "code",
   "execution_count": 15,
   "metadata": {
    "collapsed": true
   },
   "outputs": [],
   "source": [
    "def add_to_index2(head, index, val):\n",
    "    # Assuming valid index should >= 0.\n",
    "    # This function will try to insert a new node at position indicated by index.\n",
    "    # If such position does not exist, this function will be a no-op.\n",
    "    fake_head = ListNode(None)\n",
    "    fake_head.next = head\n",
    "    prev_node = search_by_index(fake_head, index)\n",
    "    if prev_node is None:\n",
    "        return fake_head.next\n",
    "    new_node = ListNode(val)\n",
    "    new_node.next = prev_node.next\n",
    "    prev_node.next = new_node\n",
    "    return fake_head.next"
   ]
  },
  {
   "cell_type": "code",
   "execution_count": 16,
   "metadata": {},
   "outputs": [
    {
     "name": "stdout",
     "output_type": "stream",
     "text": [
      "(1 .-)->(W .-)->(U .-)->(0 .-)->(S .-)->(T .-)->(L .-)->(E .-)->(S .-)->(E .-)->(! .-)->NULL\n"
     ]
    }
   ],
   "source": [
    "printList(add_to_index(linkedlist.head, 0, 1))"
   ]
  },
  {
   "cell_type": "markdown",
   "metadata": {},
   "source": [
    "#### Remove\n",
    "* Remove from index  \n",
    "Given a singly linked list and an index (assuming the index of the first list node is 0), remove the node at this specified position. If the position is not valid, we should do nothing.\n",
    "\n",
    "prev_node -> node_to_be_deleted -> next\n",
    "```python\n",
    "def remove_from_index(head, index):\n",
    "    fake_head = ...\n",
    "    # after setting fake_head\n",
    "    prev_node = search_by_index(fake_head, index)\n",
    "    if prev_node is None or prev_node.next is None:\n",
    "        return head\n",
    "    node_to_be_deleted = prev.next\n",
    "    prev.next = node_to_be_deleted.next\n",
    "    node_to_be_deleted.next = None\n",
    "    return fake_head.next\n",
    "```\n",
    "\n",
    "Key observation:  \n",
    "Comparing to inserting a node at a certain position which requires both the current node and the predecessor of it to be known, do we need any more information to perform the deletion?   \n",
    "Answer: Based on the structure of singly linked list, we also need to know the successor of the current node. But since the current node contains a reference to the successor, we do not need to maintain any additional information by ourselves."
   ]
  },
  {
   "cell_type": "code",
   "execution_count": 7,
   "metadata": {},
   "outputs": [],
   "source": [
    "def remove_from_index(head, index):\n",
    "    # Assuming valid index should >= 0\n",
    "    # This function will try to remove node at position indicated by index.\n",
    "    # If such position does not exist, this function will be a no-op.\n",
    "    fake_head = ListNode(None)\n",
    "    fake_head.next = head\n",
    "    \n",
    "    prev_node = search_by_index(fake_head, index)\n",
    "    if prev_node is None or prev_node.next is None:\n",
    "        # It is likely that we successfully find the predecessor of the node\n",
    "        #   we want to remove but not the node itself\n",
    "        return fake_head.next\n",
    "    remove_node = prev_node.next\n",
    "    prev_node.next = remove_node.next\n",
    "    remove_node.next = None\n",
    "    #prev_node.next, remove_node.next = remove_node.next, None\n",
    "    \n",
    "    return fake_head.next"
   ]
  },
  {
   "cell_type": "code",
   "execution_count": 14,
   "metadata": {},
   "outputs": [
    {
     "name": "stdout",
     "output_type": "stream",
     "text": [
      "(S .-)->(E .-)->(! .-)->NULL\n",
      "(E .-)->(! .-)->NULL\n"
     ]
    }
   ],
   "source": [
    "printList(linkedlist.head)\n",
    "linkedlist.head = remove_from_index(linkedlist.head, 0)\n",
    "printList(linkedlist.head)"
   ]
  },
  {
   "cell_type": "markdown",
   "metadata": {},
   "source": [
    "* Remove by value"
   ]
  },
  {
   "cell_type": "code",
   "execution_count": 19,
   "metadata": {
    "collapsed": true
   },
   "outputs": [],
   "source": [
    "# iterative\n",
    "def remove_all_values(head, target):\n",
    "    fake_head = ListNode(None)\n",
    "    fake_head.next = head\n",
    "    prev, curr = fake_head, head\n",
    "    while curr:\n",
    "        if curr.value == target:\n",
    "            prev.next = curr.next\n",
    "        else:\n",
    "            prev = curr        \n",
    "        curr = curr.next\n",
    "    return fake_head.next"
   ]
  },
  {
   "cell_type": "code",
   "execution_count": 20,
   "metadata": {},
   "outputs": [
    {
     "name": "stdout",
     "output_type": "stream",
     "text": [
      "(U .-)->(0 .-)->(T .-)->(L .-)->(E .-)->(E .-)->(! .-)->NULL\n"
     ]
    }
   ],
   "source": [
    "linkedlist.head = remove_all_values(linkedlist.head, 'S')\n",
    "printList(linkedlist.head)"
   ]
  },
  {
   "cell_type": "code",
   "execution_count": 21,
   "metadata": {
    "collapsed": true
   },
   "outputs": [],
   "source": [
    "# recursion\n",
    "def remove_all_values(head, target):\n",
    "    if not head:\n",
    "        return None\n",
    "    if head.value == target:\n",
    "        head = remove_all_values(head.next, target)\n",
    "    else:\n",
    "        head.next = remove_all_values(head.next, target)\n",
    "    return head"
   ]
  },
  {
   "cell_type": "code",
   "execution_count": 22,
   "metadata": {},
   "outputs": [
    {
     "name": "stdout",
     "output_type": "stream",
     "text": [
      "(U .-)->(0 .-)->(T .-)->(L .-)->(! .-)->NULL\n"
     ]
    }
   ],
   "source": [
    "linkedlist.head = remove_all_values(linkedlist.head, 'E')\n",
    "printList(linkedlist.head)"
   ]
  },
  {
   "cell_type": "markdown",
   "metadata": {},
   "source": [
    "#### Merge two sorted lists\n",
    "Merge two sorted linked lists and return it as a new list. The new list should be made by splicing together the nodes of the first two lists.\n",
    "\n",
    "For example, assuming you have two singly linked list as follow:  \n",
    "1 -> 2 -> 5  \n",
    "2 -> 10 -> 13  \n",
    "After merging, you should have one singly linked list that is totally ordered:  \n",
    "1 -> 2 -> 2 -> 5 -> 10 -> 13\n",
    "\n",
    "Test cases: for this problem, with the structure of singly linked list, it is very easy for us to compe up with some meaningful tests already before actually implementing it.\n",
    "1. Both lists are empty.\n",
    "2. Only one of them is empty.\n",
    "3. Both lists are not empty and have different length.\n",
    "4. Both lists are not empty and have same length.\n",
    "5. All the values in one list are less than all the values in another list.  \n",
    "This is what we called black-box testing since these tests are constructed without looking at the code to be tested. But a lot of times this is not enough, we also need white-box testing of which the test suites are generated by looking at the internal structure of the code.\n",
    "\n",
    "Of course, there is no better way than having a mathematical proof to make sure your implementation is correct.\n",
    "\n",
    "Key observation:  \n",
    "1. Similar to what we have in merge part of the merge sort, we can build our final answer interatively: for the current two nodes at the head of both lists, we will move the smaller one first to the final destination.\n",
    "2. Ideally, since we build our answer iteratively, after deciding which head node of those two lists should move, we can add it right after the last node we have successfully moved. Thus, we sort of need to know this \"predecessor\". But when we first decide which will be the head of the final list, there is no predecessor node yet. What should we do here? We should use the sentines (e.g., adding a dummy node) trick to avoid making this a special case."
   ]
  },
  {
   "cell_type": "code",
   "execution_count": 23,
   "metadata": {
    "collapsed": true
   },
   "outputs": [],
   "source": [
    "def merge(head1, head2):\n",
    "    fake_head = ListNode(None)\n",
    "    prev = fake_head\n",
    "    \n",
    "    while head1 and head2:\n",
    "        if head1.value <= head2.value:\n",
    "            prev.next = head1\n",
    "            head1 = head1.next\n",
    "            #prev = prev.next\n",
    "        else:\n",
    "            prev.next = head2\n",
    "            head2 = head2.next\n",
    "            #prev = prev.next\n",
    "        prev = prev.next\n",
    "    \n",
    "    if head1:\n",
    "        prev.next = head1\n",
    "    else:\n",
    "        prev.next = head2\n",
    "        \n",
    "    return fake_head.next\n",
    "\n",
    "# Time complexity: O(n)\n",
    "# Space complexity: O(1)"
   ]
  },
  {
   "cell_type": "code",
   "execution_count": 24,
   "metadata": {},
   "outputs": [
    {
     "name": "stdout",
     "output_type": "stream",
     "text": [
      "(1 .-)->(2 .-)->(5 .-)->NULL\n",
      "(2 .-)->(10 .-)->(13 .-)->NULL\n",
      "(1 .-)->(2 .-)->(2 .-)->(5 .-)->(10 .-)->(13 .-)->NULL\n"
     ]
    }
   ],
   "source": [
    "node1 = ListNode(1)\n",
    "node2 = ListNode(2)\n",
    "node3 = ListNode(5)\n",
    "node1.next = node2\n",
    "node2.next = node3\n",
    "head1 = node1\n",
    "printList(head1)\n",
    "\n",
    "node1 = ListNode(2)\n",
    "node2 = ListNode(10)\n",
    "node3 = ListNode(13)\n",
    "node1.next = node2\n",
    "node2.next = node3\n",
    "head2 = node1\n",
    "printList(head2)\n",
    "\n",
    "head = merge(head1, head2)\n",
    "printList(head)"
   ]
  },
  {
   "cell_type": "markdown",
   "metadata": {},
   "source": [
    "####  Find middle node in a singly linked list\n",
    "Key Observations:  \n",
    "1. What does it mean by \"middle node\"? For a singly linked list that has odd length, it seems clear. But what about list with even length? For example, for list 1 -> 2 -> 3 -> 4, which one will be the middle node? 2 or 3? Right now we can assume that both are valid answers for this problem.\n",
    "\n",
    "*Solution 1*: (traverse twice):  \n",
    "Time complexity: $O(n + n/2)$ = $O(n)$  \n",
    "Space complexity: $O(1)$\n",
    "* Step 1: traverse to get the number of all nodes\n",
    "* traverse again until we get the index == half of the total number"
   ]
  },
  {
   "cell_type": "code",
   "execution_count": 25,
   "metadata": {
    "collapsed": true
   },
   "outputs": [],
   "source": [
    "def findMiddle(head):\n",
    "    # traverse the whole list to get the length first.\n",
    "    length = 0\n",
    "    curr = head\n",
    "    while curr:\n",
    "        length += 1\n",
    "        curr = curr.next\n",
    "    \n",
    "    # return the node at position length /2 \n",
    "    curr = head\n",
    "    for _ in range(0, length//2):\n",
    "        curr = curr.next\n",
    "    \n",
    "    return curr"
   ]
  },
  {
   "cell_type": "code",
   "execution_count": 26,
   "metadata": {},
   "outputs": [
    {
     "name": "stdout",
     "output_type": "stream",
     "text": [
      "(W .-)->(U .-)->(S .-)->(T .-)->(L .-)->(E .-)->(S .-)->(E .-)->(! .-)->NULL\n",
      "L\n"
     ]
    }
   ],
   "source": [
    "linkedlist = LinkedList()\n",
    "linkedlist.createExample()\n",
    "printList(linkedlist.head)\n",
    "printCurrNode(findMiddle(linkedlist.head))"
   ]
  },
  {
   "cell_type": "markdown",
   "metadata": {},
   "source": [
    "To make things a bit more interesting, what if we are only allowed to traverse once? What will the solution be then? Basically, while we are moving within the list, if we shomehow know right now the position we are at is the right place to stop, then the problem is solved.\n",
    "\n",
    "We could maintain two references that will be moved at different speed (for example, one reference will move from one node to the next while the other reference will move from one node with two steps forward).\n",
    "\n",
    "Why this would work? Let's seet two examples:  \n",
    "* list with length 3: 1 -> 2 -> 3  \n",
    "If both references start at 1, then when the slow moves to 2, the fast one should be moved to 3. If we stop here, then we have our answer.\n",
    "* list with length 4:  \n",
    "Since both 2 and 3 can be the valid answer. If the slow one is moved to 3, then the fast one should be at the node after 4, which is None.\n",
    "\n",
    "With these two examples, it seems that if the fast one right now is None or the next node will be None, then the node pointed by slow reference must be our answer.\n",
    "\n",
    "*Solution 2*: (Fast Slow Pointers):  \n",
    "Time complexity: $O(n/2)$ = $O(n)$  \n",
    "Space complexity: $O(1)$  "
   ]
  },
  {
   "cell_type": "code",
   "execution_count": 27,
   "metadata": {
    "collapsed": true
   },
   "outputs": [],
   "source": [
    "def findMiddle(head):\n",
    "    #slow = fast = head\n",
    "    slow = head\n",
    "    fast = head.next\n",
    "    while fast and fast.next:\n",
    "        slow = slow.next\n",
    "        fast = fast.next.next\n",
    "    return slow"
   ]
  },
  {
   "cell_type": "code",
   "execution_count": 28,
   "metadata": {},
   "outputs": [
    {
     "name": "stdout",
     "output_type": "stream",
     "text": [
      "L\n"
     ]
    }
   ],
   "source": [
    "printCurrNode(findMiddle(linkedlist.head))"
   ]
  },
  {
   "cell_type": "markdown",
   "metadata": {},
   "source": [
    "**Difference between Python list and singly linked list**\n",
    "![list v.s. linked list](source/lesson4_linkedlist_listvslinkedlist.png)"
   ]
  },
  {
   "cell_type": "markdown",
   "metadata": {},
   "source": [
    "### 2.1.2 Doubly Linked List"
   ]
  },
  {
   "cell_type": "markdown",
   "metadata": {},
   "source": [
    "In a 'doubly linked list', each node contains, besides the next-node link, a second link field pointing to the 'previous' node in the sequence. The two links may be called 'forward('s') and 'backwards', or 'next' and 'prev'('previous').\n",
    "![Doubly linked list](source/lesson4_linkedlist_double.png)\n",
    "![Doubly linked list](source/lesson4_linkedlist_double2.png)\n",
    "\n",
    "With the extra prev field, what will be the benefits?\n",
    "You can know the predecessor of a node from the node itself instantly. With this ability, the benefit of using linked list to organize information that will be changed dynamically from time to time finally is shown. Usually, you want yout objects to form a sort of linked list implicitly by adding references to other objects inside the object's class definition. previously, with only the knowledge of the successor of the current object, it will be difficult to remove the current object itself from this implicit list. Bur right now, we could do this easily."
   ]
  },
  {
   "cell_type": "code",
   "execution_count": 29,
   "metadata": {
    "collapsed": true
   },
   "outputs": [],
   "source": [
    "class DoublyListNode(object):\n",
    "    def __init__(self,value):\n",
    "        self.value = value\n",
    "        self.prev = None\n",
    "        self.next = None        "
   ]
  },
  {
   "cell_type": "markdown",
   "metadata": {},
   "source": [
    "#### Add  \n",
    "Add to index:  \n",
    "Given a doubly linked list and an index (assuming the index of the first list node is 0), add a new node to this specified position. If the position is not valid, we should do nothing.\n",
    "\n",
    "How to implement it for doubly linked list? The core part is basically, after figuring out the node that you want to insert your new node before, you need to carefully link your new node in the list.\n",
    "\n",
    "For example, assuming n1 <-> n2 and we want to insert n3 between n1 and n2:\n",
    "```python\n",
    "n3.next = n2\n",
    "n3.prev = n1\n",
    "n1.next = n3\n",
    "n2.prev = n3\n",
    "```\n",
    "For example, 1 <-> 2 <-> 3, index = 1, value = 4  \n",
    "1 <-> 4 <-> 2 <-> 3"
   ]
  },
  {
   "cell_type": "code",
   "execution_count": 30,
   "metadata": {
    "collapsed": true
   },
   "outputs": [],
   "source": [
    "def add_to_index_doubly(head, index, value):\n",
    "    fake_head = DoublyListNode(None)\n",
    "    #doubly linked list\n",
    "    fake_head.next = head\n",
    "    head.prev = fake_head\n",
    "    \n",
    "    prev_node = search_by_index(fake_head, index)\n",
    "    if prev_node is None:\n",
    "        fake_head.next.prev = None\n",
    "        return fake_head.next\n",
    "    post_node = prev_node.next\n",
    "    \n",
    "    new_node = DoublyListNode(value)\n",
    "    new_node.next = post_node\n",
    "    new_node.prev = prev_node\n",
    "    \n",
    "    prev_node.next = new_node\n",
    "    if post_node is not None:\n",
    "        post_node.prev = new_node\n",
    "        \n",
    "    fake_head.next.prev = None\n",
    "    return fake_head.next    \n",
    "    \n",
    "\n",
    "def search_by_index_doubly(head, index):\n",
    "    if head is None or index < 0:\n",
    "        return None\n",
    "    \n",
    "    curr = head\n",
    "    count = 0\n",
    "    while curr:\n",
    "        if count == index:\n",
    "            return curr\n",
    "        curr = curr.next\n",
    "        count += 1\n",
    "        \n",
    "    return None\n",
    "\n",
    "def printDoublyList(head):\n",
    "    \"\"\"\n",
    "    Traverse every nodes in the doubly linked list that is defined by this head\n",
    "    For each node we encounter, print the value\n",
    "    \"\"\"\n",
    "    curr = head\n",
    "    print(\"NULL\", end='')\n",
    "    while curr:    # equal to say: while curr is not None\n",
    "        print(\"<-(-. {} .-)->\".format(curr.value), end='')\n",
    "        curr = curr.next\n",
    "    print(\"NULL\")"
   ]
  },
  {
   "cell_type": "code",
   "execution_count": 31,
   "metadata": {},
   "outputs": [
    {
     "name": "stdout",
     "output_type": "stream",
     "text": [
      "NULL<-(-. 1 .-)-><-(-. 2 .-)-><-(-. 3 .-)->NULL\n",
      "NULL<-(-. 1 .-)-><-(-. 4 .-)-><-(-. 2 .-)-><-(-. 3 .-)->NULL\n",
      "NULL<-(-. 1 .-)-><-(-. 4 .-)-><-(-. 2 .-)-><-(-. 3 .-)-><-(-. 5 .-)->NULL\n"
     ]
    }
   ],
   "source": [
    "node1 = DoublyListNode(1)\n",
    "node2 = DoublyListNode(2)\n",
    "node3 = DoublyListNode(3)\n",
    "node1.next = node2\n",
    "node2.prev = node1\n",
    "node2.next = node3\n",
    "node3.prev = node2\n",
    "head = node1\n",
    "printDoublyList(head)\n",
    "\n",
    "head = add_to_index_doubly(head, 1, 4)\n",
    "printDoublyList(head)\n",
    "\n",
    "head = add_to_index_doubly(head, 4, 5)\n",
    "printDoublyList(head)"
   ]
  },
  {
   "cell_type": "markdown",
   "metadata": {},
   "source": [
    "#### Remove \n",
    "* Remove from index  \n",
    "Given a doubly linked list and an index (assuming the index of the first list node is 0), remove the node at this specified position. If the position is not valid, we should do nothing."
   ]
  },
  {
   "cell_type": "code",
   "execution_count": 32,
   "metadata": {
    "collapsed": true
   },
   "outputs": [],
   "source": [
    "def remove_from_index_doubly(head, index):\n",
    "    fake_head = ListNode(None)\n",
    "    fake_head.next = head\n",
    "    head.prev = fake_head\n",
    "    \n",
    "    prev_node = search_by_index(fake_head, index)\n",
    "    if prev_node is None or prev_node.next is None:\n",
    "        fake_head.next.prev = None\n",
    "        return fake_head.next\n",
    "    \n",
    "    remove_node = prev_node.next\n",
    "    post_node = remove_node.next\n",
    "    # Create new connections\n",
    "    prev_node.next = post_node\n",
    "    if post_node is not None:\n",
    "        post_node.prev = prev_node\n",
    "    \n",
    "    # Remove old connections\n",
    "    remove_node.next = None\n",
    "    remove_node.prev = None\n",
    "    \n",
    "    fake_head.next.prev = None\n",
    "    return fake_head.next    "
   ]
  },
  {
   "cell_type": "code",
   "execution_count": 33,
   "metadata": {},
   "outputs": [
    {
     "name": "stdout",
     "output_type": "stream",
     "text": [
      "NULL<-(-. 1 .-)-><-(-. 4 .-)-><-(-. 2 .-)-><-(-. 3 .-)-><-(-. 5 .-)->NULL\n",
      "NULL<-(-. 1 .-)-><-(-. 4 .-)-><-(-. 2 .-)-><-(-. 3 .-)->NULL\n",
      "NULL<-(-. 1 .-)-><-(-. 2 .-)-><-(-. 3 .-)->NULL\n"
     ]
    }
   ],
   "source": [
    "printDoublyList(head)\n",
    "head = remove_from_index_doubly(head, 4)\n",
    "printDoublyList(head)\n",
    "\n",
    "head = remove_from_index_doubly(head, 1)\n",
    "printDoublyList(head)"
   ]
  },
  {
   "cell_type": "markdown",
   "metadata": {},
   "source": [
    "### 4.4.2 Print a singly linked list recursively\n",
    "Given a singly linked list, we need to reduce of the problem of printing this list into a smaller instance of the same problem. So, basically, we need to sort of get a smaller instance of the original linked list.\n",
    "\n",
    "Looking at the structure of singly linked list, we can actually describle it recursively:  \n",
    "It is either empty or a node object that contains a value (or some values) and a reference to another singly linked list.\n",
    "\n",
    "With this, basically, the smaller instance of the original list will be the list that consists of all the nodes except for the original head.\n",
    "\n",
    "Thus, in order to print the whole list, basically, you need to print the head node and then print the smaller singly linked list recursively."
   ]
  },
  {
   "cell_type": "code",
   "execution_count": 37,
   "metadata": {
    "collapsed": true
   },
   "outputs": [],
   "source": [
    "def printListRecursively(head):\n",
    "    \"\"\"\n",
    "    This function will print the singly linked list defined by head\n",
    "    \"\"\"\n",
    "    # Edge case\n",
    "    if not head:\n",
    "        return\n",
    "    \n",
    "    # Recursion part\n",
    "    print(head.value)\n",
    "    printListRecursively(head.next)"
   ]
  },
  {
   "cell_type": "code",
   "execution_count": 38,
   "metadata": {},
   "outputs": [
    {
     "name": "stdout",
     "output_type": "stream",
     "text": [
      "1\n",
      "2\n",
      "5\n"
     ]
    }
   ],
   "source": [
    "node1 = ListNode(1)\n",
    "node2 = ListNode(2)\n",
    "node3 = ListNode(5)\n",
    "node1.next = node2\n",
    "node2.next = node3\n",
    "head = node1\n",
    "printListRecursively(head)"
   ]
  },
  {
   "cell_type": "markdown",
   "metadata": {},
   "source": [
    "### 4.4.3 Reverse a singly linked list\n",
    "\n",
    "<font color='red'>head: Node1</font> -> Node2 -> Node3 -> Node4 -> ...... -> NodeN --> <font color='blue'>None</font>  \n",
    "reversed:  \n",
    "None <- <font color='red'>Node1</font> <- Node2 <- Node3 <- Node4 <- ...... <- <font color='blue'>head: NodeN</font>\n",
    "![subproblem of reverse a linked list](source/lesson4_linkedlist_reverse.png)\n",
    "\n",
    "Assuming our subproblem gets solved correctly, how do we get the answer for the original problem? What are things being left to do based on the previous graph?"
   ]
  },
  {
   "cell_type": "code",
   "execution_count": 22,
   "metadata": {},
   "outputs": [],
   "source": [
    "def reverse(head):\n",
    "    # base case\n",
    "    if head is None or head.next is None:  # find the original tail, which is the new head of reversed linked list\n",
    "        return head\n",
    "    \n",
    "    # recursion part\n",
    "    # return the new head after reverse the linked list\n",
    "    new_head = reverse(head.next)\n",
    "    # head: prev, head.next: post\n",
    "    # create new connection\n",
    "    head.next.next = head\n",
    "    \n",
    "    # remove old connection\n",
    "    head.next = None\n",
    "    return new_head"
   ]
  },
  {
   "cell_type": "code",
   "execution_count": 23,
   "metadata": {},
   "outputs": [
    {
     "name": "stdout",
     "output_type": "stream",
     "text": [
      "(1 .-)->(2 .-)->(5 .-)->NULL\n",
      "(5 .-)->(1 .-)->NULL\n"
     ]
    }
   ],
   "source": [
    "node1 = ListNode(1)\n",
    "node2 = ListNode(2)\n",
    "node3 = ListNode(5)\n",
    "node1.next = node2\n",
    "node2.next = node3\n",
    "head = node1\n",
    "printList(head)\n",
    "\n",
    "new_head = reverse(head)\n",
    "printList(new_head)"
   ]
  },
  {
   "cell_type": "markdown",
   "metadata": {},
   "source": [
    "### 4.4.4 Merge two sorted singly linked list\n",
    "How to solve this recursively?\n",
    "\n",
    "First, identify the problem:  \n",
    "Define merge(head1, head2) is a function that will merget these two singly linked list and return the head of the new list after merging.\n",
    "\n",
    "Second, solve the given instance of this problem in terms of the result of the smaller instance of the same problem:  \n",
    "merge(head1, head2) := \n",
    "1. When head1 is empty, head2 is the result\n",
    "2. When head2 is empty, head1 is the result\n",
    "3. When head1.value < head2.value, head1 should be the head node of the final merged list. Thus, after recursively merge the sublist. Thus, after recursively merge the sublist headed by head1.next and the other list headed by head2, we need to link this new list back to head1\n",
    "4. Otherwise, do the similar thing like in step 3. This time, head2 should be the head node of the final merge list."
   ]
  },
  {
   "cell_type": "code",
   "execution_count": 41,
   "metadata": {
    "collapsed": true
   },
   "outputs": [],
   "source": [
    "def merge(head1, head2):\n",
    "    # base case\n",
    "    if head1 is None:\n",
    "        return head2\n",
    "    if head2 is None:\n",
    "        return head1\n",
    "    \n",
    "    # recursion part\n",
    "    if head1.value <= head2.value:\n",
    "        # link the new list back to head1\n",
    "        head1.next = merge(head1.next, head2)\n",
    "        return head1\n",
    "    else:\n",
    "        # link the new list back to head2\n",
    "        head2.next = merge(head1, head2.next)\n",
    "        return head2\n",
    "    \n",
    "# Time complexity: O(n)\n",
    "# T(n) = T(n-1) + O(1) = T(n-2) + O(1) + O(1) = ... = n*O(1) = O(n)\n",
    "# Sapce complexity: O(n)"
   ]
  },
  {
   "cell_type": "code",
   "execution_count": 42,
   "metadata": {},
   "outputs": [
    {
     "name": "stdout",
     "output_type": "stream",
     "text": [
      "(1 .-)->(2 .-)->(5 .-)->NULL\n",
      "(2 .-)->(10 .-)->(13 .-)->NULL\n",
      "(1 .-)->(2 .-)->(2 .-)->(5 .-)->(10 .-)->(13 .-)->NULL\n"
     ]
    }
   ],
   "source": [
    "node1 = ListNode(1)\n",
    "node2 = ListNode(2)\n",
    "node3 = ListNode(5)\n",
    "node1.next = node2\n",
    "node2.next = node3\n",
    "head1 = node1\n",
    "printList(head1)\n",
    "\n",
    "node1 = ListNode(2)\n",
    "node2 = ListNode(10)\n",
    "node3 = ListNode(13)\n",
    "node1.next = node2\n",
    "node2.next = node3\n",
    "head2 = node1\n",
    "printList(head2)\n",
    "\n",
    "head = merge(head1, head2)\n",
    "printList(head)"
   ]
  },
  {
   "cell_type": "markdown",
   "metadata": {},
   "source": [
    "## 4.5 Python Practice"
   ]
  },
  {
   "cell_type": "code",
   "execution_count": 43,
   "metadata": {
    "collapsed": true
   },
   "outputs": [],
   "source": [
    "class ListNode(object):\n",
    "    def __init__(self, value):\n",
    "        self.value = value\n",
    "        self.next = None"
   ]
  },
  {
   "cell_type": "markdown",
   "metadata": {},
   "source": [
    "#### Question 1: Remove all vowels in a linked list\n",
    "vowels: a, e, i, o, u  \n",
    "e.g., \n",
    "```\n",
    "'a' -> 'i' -> 'e' -> None\n",
    "res: None\n",
    "\n",
    "'b' -> 'i' -> 'e' -> None\n",
    "res: 'b' -> None\n",
    "```\n",
    "*solution 1*: compare current node"
   ]
  },
  {
   "cell_type": "code",
   "execution_count": 44,
   "metadata": {
    "collapsed": true
   },
   "outputs": [],
   "source": [
    "def removeVowels(head):\n",
    "    fake_head = ListNode(None)\n",
    "    fake_head.next = head\n",
    "    \n",
    "    prev, curr = fake_head, head\n",
    "    vowels = ['a', 'e', 'i', 'o', 'u']\n",
    "    while curr:\n",
    "        if curr.value in vowels:\n",
    "            # connnect the node curr.next to the prev\n",
    "            prev.next = curr.next\n",
    "        else:\n",
    "            # pass the node curr to the variable / pointer prev\n",
    "            prev = curr\n",
    "        # move the pointer forward\n",
    "        curr = curr.next\n",
    "    \n",
    "    return fake_head.next\n",
    "\n",
    "# Time complexity: O(n)\n",
    "# Space complexity: O(1)"
   ]
  },
  {
   "cell_type": "code",
   "execution_count": 45,
   "metadata": {},
   "outputs": [
    {
     "name": "stdout",
     "output_type": "stream",
     "text": [
      "(a .-)->(i .-)->(e .-)->NULL\n",
      "NULL\n",
      "(b .-)->(i .-)->(e .-)->NULL\n",
      "(b .-)->NULL\n"
     ]
    }
   ],
   "source": [
    "node_a = ListNode('a')\n",
    "node_i = ListNode('i')\n",
    "node_e = ListNode('e')\n",
    "node_a.next = node_i\n",
    "node_i.next = node_e\n",
    "head = node_a\n",
    "printList(head)\n",
    "printList(removeVowels(head))\n",
    "\n",
    "node_b = ListNode('b')\n",
    "node_i = ListNode('i')\n",
    "node_e = ListNode('e')\n",
    "node_b.next = node_i\n",
    "node_i.next = node_e\n",
    "head = node_b\n",
    "printList(head)\n",
    "printList(removeVowels(head))"
   ]
  },
  {
   "cell_type": "code",
   "execution_count": 46,
   "metadata": {
    "collapsed": true
   },
   "outputs": [],
   "source": [
    "vowels = ['a', 'e', 'i', 'o', 'u']\n",
    "\n",
    "def removeVowelsRecursively(head):\n",
    "    if head is None:\n",
    "        return head\n",
    "    \n",
    "    if head.value in vowels:\n",
    "        # Use the node head.next to replace the node head --> remove the node head\n",
    "        head = removeVowelsRecursively(head.next)\n",
    "    else:\n",
    "        # Connect the node head.next to the node head --> keep the node head\n",
    "        head.next = removeVowelsRecursively(head.next)\n",
    "    \n",
    "    return head"
   ]
  },
  {
   "cell_type": "code",
   "execution_count": 47,
   "metadata": {},
   "outputs": [
    {
     "name": "stdout",
     "output_type": "stream",
     "text": [
      "(a .-)->(i .-)->(e .-)->NULL\n",
      "NULL\n",
      "(b .-)->(i .-)->(e .-)->NULL\n",
      "(b .-)->NULL\n"
     ]
    }
   ],
   "source": [
    "node_a = ListNode('a')\n",
    "node_i = ListNode('i')\n",
    "node_e = ListNode('e')\n",
    "node_a.next = node_i\n",
    "node_i.next = node_e\n",
    "head = node_a\n",
    "printList(head)\n",
    "printList(removeVowelsRecursively(head))\n",
    "\n",
    "node_b = ListNode('b')\n",
    "node_i = ListNode('i')\n",
    "node_e = ListNode('e')\n",
    "node_b.next = node_i\n",
    "node_i.next = node_e\n",
    "head = node_b\n",
    "printList(head)\n",
    "printList(removeVowelsRecursively(head))"
   ]
  },
  {
   "cell_type": "markdown",
   "metadata": {},
   "source": [
    "#### Question 2: add two linkedlist\n",
    "Application: addition of two large numbers, why not use num1 + num2 directly?  \n",
    "For 64bit CPU, the max number is defined as $2^{64}-1$. What if we want to do addition over a larger number?\n",
    "\n",
    "For example: 123 + 27 = ?  \n",
    "```\n",
    "  1 -> 2 -> 3\n",
    "+      2 -> 7\n",
    "--------------\n",
    "= 1 -> 5 -> 0\n",
    "```\n",
    "* <font color='blue'>Note 1: How to align/justify right (especially the ones' digit)?</font> reverse\n",
    "\n",
    "```\n",
    "  3 -> 2 -> 1\n",
    "+ 7 -> 2\n",
    "--------------\n",
    "= 0 -> 5 -> 1\n",
    "```\n",
    "* <font color='blue'>Note 2: How to carry a number as in adding?  </font>\n",
    "\n",
    "```\n",
    "  3 -> 2 -> 1\n",
    "+ 7 -> 2\n",
    "--------------\n",
    "= 0 -> 5 -> 1\n",
    "\n",
    "  3 -> 2\n",
    "+ 7 -> 7\n",
    "--------------\n",
    "= 0 -> 0 -> 1\n",
    "```\n",
    "* <font color='blue'>Note 3: How to deal with linked lists with different lengths?</font>\n",
    "\n",
    "```\n",
    "  3 -> 2 -> 1\n",
    "+ 7 -> 2\n",
    "--------------\n",
    "= 0 -> 5 -> 1\n",
    "```\n",
    "* <font color='blue'>Note 4: Reverse the final result</font>\n",
    "\n",
    "```\n",
    "0 -> 5 -> 1 ====> 1 -> 5 -> 0\n",
    "```"
   ]
  },
  {
   "cell_type": "code",
   "execution_count": 48,
   "metadata": {
    "collapsed": true
   },
   "outputs": [],
   "source": [
    "def add_list(head1, head2):\n",
    "    # step 1: reverse inputs\n",
    "    new_head1 = reverse_list(head1)\n",
    "    new_head2 = reverse_list(head2)\n",
    "    \n",
    "    # Step 2: add\n",
    "    fake_head = ListNode('fake_head')\n",
    "    curr = fake_head\n",
    "    carry = 0\n",
    "    while new_head1 and new_head2:\n",
    "        temp_sum = new_head1.value + new_head2.value + carry\n",
    "        # get the value of tens' digit\n",
    "        carry = temp_sum // 10\n",
    "        # get the value of ones' digit\n",
    "        curr.next = ListNode(temp_sum % 10)\n",
    "        # move the pointer forward\n",
    "        curr = curr.next\n",
    "        new_head1 = new_head1.next\n",
    "        new_head2 = new_head2.next\n",
    "        \n",
    "    # Step 3: handle the different lenghts\n",
    "    while new_head1:\n",
    "        temp_sum = new_head1.value + carry\n",
    "        # get the value of tens' digit\n",
    "        carry = temp_sum // 10\n",
    "        # get the value of ones' digit\n",
    "        curr.next = ListNode(temp_sum % 10)\n",
    "        curr = curr.next\n",
    "        new_head1 = new_head1.next\n",
    "    while new_head2:\n",
    "        temp_sum = new_head2.value + carry\n",
    "        # get the value of tens' digit\n",
    "        carry = temp_sum // 10\n",
    "        # get the value of ones' digit\n",
    "        curr.next = ListNode(temp_sum % 10)\n",
    "        curr = curr.next\n",
    "        new_head1 = new_head2.next\n",
    "        \n",
    "    # Step 4: handle the last carry bit\n",
    "    if carry > 0:\n",
    "        curr.next = ListNode(carry)\n",
    "        \n",
    "    # Step 5: reverse the list\n",
    "    new_head = reverse_list(fake_head.next)\n",
    "    return new_head\n",
    "    \n",
    "# Time complexity: O(n)\n",
    "# Space complexity: O(1)\n",
    "    \n",
    "def reverse_list(head):\n",
    "    prev, curr = None, head\n",
    "    while curr:\n",
    "        # prev --> curr --> post\n",
    "        post = curr.next\n",
    "        # create new connection\n",
    "        # prev <-- curr --> post\n",
    "        curr.next = prev\n",
    "        # move the pointers forward\n",
    "        prev, curr = curr, post\n",
    "    return prev"
   ]
  },
  {
   "cell_type": "code",
   "execution_count": 49,
   "metadata": {},
   "outputs": [
    {
     "name": "stdout",
     "output_type": "stream",
     "text": [
      "(1 .-)->(2 .-)->(3 .-)->NULL\n",
      "(2 .-)->(7 .-)->NULL\n",
      "(1 .-)->(5 .-)->(0 .-)->NULL\n"
     ]
    }
   ],
   "source": [
    "node1 = ListNode(1)\n",
    "node2 = ListNode(2)\n",
    "node3 = ListNode(3)\n",
    "node1.next = node2\n",
    "node2.next = node3\n",
    "head1 = node1\n",
    "printList(head1)\n",
    "\n",
    "node1 = ListNode(2)\n",
    "node2 = ListNode(7)\n",
    "node1.next = node2\n",
    "head2 = node1\n",
    "printList(head2)\n",
    "\n",
    "new_head = add_list(head1, head2)\n",
    "printList(new_head)"
   ]
  },
  {
   "cell_type": "markdown",
   "metadata": {},
   "source": [
    "#### Question 3: [Leetcode 234] Palindrome Linked List \n",
    "Given a singly linked list, determine if it is a palindrome.\n",
    "\n",
    "Example 1:\n",
    "```\n",
    "Input: 1->2\n",
    "Output: false\n",
    "```\n",
    "Example 2:\n",
    "```\n",
    "Input: 1->2->2->1\n",
    "Output: true\n",
    "```\n",
    "\n",
    "*Solution 1*: copy, reverse and compare with the original list\n",
    "* Step 1: copy the linked list\n",
    "* Step 2: reverse the copied list\n",
    "* Step 3: compare with the original list \n",
    "\n",
    "Time complexity: O(n)  \n",
    "Space complexity: O(n)"
   ]
  },
  {
   "cell_type": "code",
   "execution_count": 50,
   "metadata": {
    "collapsed": true
   },
   "outputs": [],
   "source": [
    "def copy_list(head):\n",
    "    fake_head = ListNode(None)\n",
    "    curr2 = fake_head # points to the new linked list\n",
    "    \n",
    "    curr1 = head # original linked list\n",
    "    while curr1:\n",
    "        curr2.next = ListNode(curr1.value)\n",
    "        curr1 = curr1.next\n",
    "        curr2 = curr2.next\n",
    "    return fake_head.next\n",
    "\n",
    "def is_pal(head):\n",
    "    head1 = copy_list(head)\n",
    "    head2 = reverse_list(head)\n",
    "    #printList(head1)\n",
    "    #printList(head2)\n",
    "    \n",
    "    # compare every node\n",
    "    while head1 and head2:  \n",
    "        if head1.value != head2.value:\n",
    "            return False\n",
    "        head1 = head1.next\n",
    "        head2 = head2.next\n",
    "        \n",
    "    return True"
   ]
  },
  {
   "cell_type": "code",
   "execution_count": 51,
   "metadata": {},
   "outputs": [
    {
     "name": "stdout",
     "output_type": "stream",
     "text": [
      "False\n",
      "True\n"
     ]
    }
   ],
   "source": [
    "node1 = ListNode(1)\n",
    "node2 = ListNode(2)\n",
    "node1.next = node2\n",
    "head = node1\n",
    "print(is_pal(head))\n",
    "\n",
    "node1 = ListNode(1)\n",
    "node2 = ListNode(2)\n",
    "node3 = ListNode(2)\n",
    "node4 = ListNode(1)\n",
    "node1.next = node2\n",
    "node2.next = node3\n",
    "node3.next = node4\n",
    "head = node1\n",
    "print(is_pal(head))"
   ]
  },
  {
   "cell_type": "markdown",
   "metadata": {},
   "source": [
    "*Solution 2*: find middle point, reverse and compare\n",
    "* Step 1: find the middle point\n",
    "* Step 2: reverse the remaining half linked list\n",
    "* Step 3: compare with the previous half list \n",
    "\n",
    "Time complexity: O(n)  \n",
    "Space complexity: O(1)  \n",
    "Consequences: change the input data  \n",
    "how to fix? reverse back to original"
   ]
  },
  {
   "cell_type": "code",
   "execution_count": 52,
   "metadata": {
    "collapsed": true
   },
   "outputs": [],
   "source": [
    "def find_mid(head):\n",
    "    if head is None or head.next is None:\n",
    "        return head\n",
    "    \n",
    "    #slow, fast = head, head\n",
    "    slow, fast = head, head.next    \n",
    "    # why not use the fast = head, but to use fast =  head.next?\n",
    "    # We want to return the [mid] node if the length of the linked list is even\n",
    "    # for example, 1 --> 2 --> 3 -->4. we want to return 2 as the middle, not 3\n",
    "    # if we use fast = head, we will return 3 as the middle\n",
    "    \n",
    "    while fast is not None and fast.next is not None:\n",
    "        fast = fast.next.next\n",
    "        slow = slow.next\n",
    "    \n",
    "    return slow\n",
    "\n",
    "def is_palindrom(head):\n",
    "    fake_head = ListNode(None)\n",
    "    fake_head.next = head\n",
    "    \n",
    "    mid_node_prev = find_mid(fake_head)\n",
    "    mid_node = mid_node_prev.next\n",
    "    \n",
    "    # cut off the middle node\n",
    "    mid_node_prev.next = None\n",
    "    head1 = head\n",
    "    head2 = reverse_list(mid_node)\n",
    "    \n",
    "    while head1 and head2:\n",
    "        if head1.value != head2.value:\n",
    "            return False\n",
    "        head1 = head1.next\n",
    "        head2 = head2.next\n",
    "        \n",
    "    return True"
   ]
  },
  {
   "cell_type": "code",
   "execution_count": 53,
   "metadata": {},
   "outputs": [
    {
     "name": "stdout",
     "output_type": "stream",
     "text": [
      "False\n",
      "True\n",
      "True\n"
     ]
    }
   ],
   "source": [
    "node1 = ListNode(1)\n",
    "node2 = ListNode(2)\n",
    "node1.next = node2\n",
    "head = node1\n",
    "print(is_palindrom(head))\n",
    "\n",
    "node1 = ListNode(1)\n",
    "node2 = ListNode(2)\n",
    "node3 = ListNode(2)\n",
    "node4 = ListNode(1)\n",
    "node1.next = node2\n",
    "node2.next = node3\n",
    "node3.next = node4\n",
    "head = node1\n",
    "print(is_palindrom(head))\n",
    "\n",
    "node1 = ListNode(1)\n",
    "node2 = ListNode(2)\n",
    "node3 = ListNode(1)\n",
    "node1.next = node2\n",
    "node2.next = node3\n",
    "head = node1\n",
    "print(is_palindrom(head))"
   ]
  },
  {
   "cell_type": "markdown",
   "metadata": {
    "collapsed": true
   },
   "source": [
    "## 2.2 Leetcode Training (Basic)"
   ]
  },
  {
   "cell_type": "markdown",
   "metadata": {},
   "source": [
    "[Leetcode 0002 Medium] [Add Two Numbers](Leetcode_0002.ipynb)   \n",
    "[Leetcode 0445 Medium] [Add Two Numbers II](Leetcode_0445.ipynb)\n",
    "\n",
    "[Leetcode 0021 Easy] [Merge Two Sorted Lists](Leetcode_0021.ipynb)   \n",
    "[Leetcode 0023 Hard] [Merge K Sorted Lists](Leetcode_0023.ipynb)\n",
    "\n",
    "[Leetcode 0025 Hard] [Reverse Nodes in k-Group](Leetcode_0025.ipynb)\n",
    "\n",
    "[Leetcode 0138 Medium] [Copy List with Random Pointer](Leetcode_0138.ipynb)\n",
    "\n",
    "[Leetcode 0206 Easy] [Reverse Linked List](Leetcode_0206.ipynb) \n",
    "\n"
   ]
  },
  {
   "cell_type": "markdown",
   "metadata": {},
   "source": [
    "## 2.3 Leetcode Practice (Advanced)"
   ]
  },
  {
   "cell_type": "code",
   "execution_count": null,
   "metadata": {
    "collapsed": true
   },
   "outputs": [],
   "source": []
  },
  {
   "cell_type": "code",
   "execution_count": null,
   "metadata": {
    "collapsed": true
   },
   "outputs": [],
   "source": []
  }
 ],
 "metadata": {
  "kernelspec": {
   "display_name": "Python 3",
   "language": "python",
   "name": "python3"
  },
  "language_info": {
   "codemirror_mode": {
    "name": "ipython",
    "version": 3
   },
   "file_extension": ".py",
   "mimetype": "text/x-python",
   "name": "python",
   "nbconvert_exporter": "python",
   "pygments_lexer": "ipython3",
   "version": "3.6.1"
  }
 },
 "nbformat": 4,
 "nbformat_minor": 2
}
