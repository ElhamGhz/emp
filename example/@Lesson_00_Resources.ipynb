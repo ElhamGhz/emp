{
 "cells": [
  {
   "cell_type": "markdown",
   "metadata": {},
   "source": [
    "Resources\n",
    "---"
   ]
  },
  {
   "cell_type": "markdown",
   "metadata": {},
   "source": [
    "## Part 1: Coding"
   ]
  },
  {
   "cell_type": "markdown",
   "metadata": {},
   "source": [
    "### Coding Books\n",
    "1. [Cracking the Coding Interview: 189 programming questions](http://ahmed-badawy.com/blog/wp-content/uploads/2018/10/Cracking-the-Coding-Interview-6th-Edition-189-Programming-Questions-and-Solutions.pdf)\n",
    "2. [Problem Solving with Algorithms and Data Structures using Python](http://interactivepython.org/runestone/static/pythonds/index.html)"
   ]
  },
  {
   "cell_type": "markdown",
   "metadata": {},
   "source": [
    "### Leetcode Solutions\n",
    "1. [数据结构与算法/leetcode/lintcode题解](https://algorithm.yuanbin.me/zh-hans/)\n",
    "2. [Huahua's Tech Road](https://zxi.mytechroad.com/blog/)"
   ]
  },
  {
   "cell_type": "markdown",
   "metadata": {},
   "source": [
    "### Mocking Interviews\n",
    "1. pramp: pramp 本身比较简单，即使是选择最难的档，也还是有不少水题。这就要求我尽量答得要好，基本上 90% 的全部（Problem solving / Coding / Comunication） 4 星（满分）。等这个练习得差不多了，20-50 次吧，就可以去更难的 interviewing.io 上试试啦。\n",
    "2. interviewing.io 基本上能在 interviewing 上拿到 2-3 个 pass 那我觉得就很不错了。"
   ]
  },
  {
   "cell_type": "markdown",
   "metadata": {},
   "source": [
    "### Leetcode Practice (Basic)"
   ]
  },
  {
   "cell_type": "markdown",
   "metadata": {},
   "source": [
    "[Leetcode 0001 Easy] [Two Sum](Leetcode_0001.ipynb) (Array, HashTable)\n",
    "\n",
    "[Leetcode 0002 Medium] [Add Two Numbers](Leetcode_0002.ipynb) (LinkedList)\n",
    "\n",
    "[Leetcode 0003 Medium] [Longest Substring Without Repeating Characters](Leetcode_0003.ipynb) (HashTable)\n",
    "\n",
    "[Leetcode 0004 Hard] [Median of Two Sorted Arrays](Leetcode_0004.ipynb) (Array, BinarySearch) \n",
    "\n",
    "[Leetcode 0005 Medium] [Longest Palindromic Substring](Leetcode_0005.ipynb) (Array, DP)\n",
    "\n",
    "[Leetcode 0007 Easy] [Reverse Integer](Leetcode_0007.ipynb) (Math)\n",
    "\n",
    "[Leetcode 0009 Easy] [Palindrome Number](Leetcode_0009.ipynb) (Math)\n",
    "\n",
    "[Leetcode 0013 Easy] [Roman to Integer](Leetcode_0013.ipynb) (Math, String)\n",
    "\n",
    "[Leetcode 0014 Easy] [Longest Common Prefix](Leetcode_0014.ipynb) (String)\n",
    "\n",
    "[Leetcode 0017 Medium] [Letter Combinations of a Phone Number](Leetcode_0017.ipynb) (Backtracking)\n",
    "\n",
    "[Leetcode 0020 Easy] [Valid Parentheses](Leetcode_0020.ipynb) (Queue and Stack) \n",
    "\n",
    "[Leetcode 0021 Easy] [Merge Two Sorted Lists](Leetcode_0021.ipynb) (LinkedList)    \n",
    "\n",
    "[Leetcode 0022 Medium] [Generate Parentheses](Leetcode_0022.ipynb) (Backtracking)\n",
    "\n",
    "[Leetcode 0023 Hard] [Merge K Sorted Lists](Leetcode_0023.ipynb) (LinkedList)\n",
    "\n",
    "[Leetcode 0025 Hard] [Reverse Nodes in k-Group](Leetcode_0025.ipynb) (LinkedList)\n",
    "\n",
    "[Leetcode 0026 Easy] [Remove Duplicates from Sorted Array](Leetcode_0026.ipynb) (Array, Two Pointer) \n",
    "\n",
    "[Leetcode 0027 Easy] [Remove Element](Leetcode_0027.ipynb) (Array, Two Pointer)\n",
    "\n",
    "[Leetcode 0028 Easy] [Implement strStr()](Leetcode_0028.ipynb) (String)\n",
    "\n",
    "[Leetcode 0035 Easy] [Search Insert Position](Leetcode_0035.ipynb) (Binary Search)\n",
    "\n",
    "[Leetcode 0042 Hard] [Trapping Rain Water](Leetcode_0042.ipynb) (Array)\n",
    "\n",
    "[Leetcode 0049 Medium] [Group Anagrams](Leetcode_0049.ipynb) (Array)\n",
    "\n",
    "[Leetcode 0056 Medium] [Merge Intervals](Leetcode_0056.ipynb) (Array, Sorting)\n",
    "\n",
    "[Leetcode 0075 Medium] [Sort Colors](Leetcode_0075.ipynb) (Sorting)\n",
    "\n",
    "[Leetcode 0076 Hard] [Minimum Window Substring](Leetcode_0076.ipynb) (Array)\n",
    "\n",
    "[Leetcode 0079 Medium] [Word Search](Leetcode_0079.ipynb) (Backtracking)\n",
    "\n",
    "[Leetcode 0084 Hard] [Largest Rectangle in Histogram](Leetcode_0084.ipynb) (Queuq and Stack)\n",
    "\n",
    "[Leetcode 0094 Medium] [Binary Tree Inorder Traversal](Leetcode_0094.ipynb) (Tree)\n",
    "\n",
    "[Leetcode 0098 Medium] [Validate Binary Search Tree](Leetcode_0098.ipynb) (Tree)"
   ]
  },
  {
   "cell_type": "markdown",
   "metadata": {},
   "source": [
    "[Leetcode 0101 Easy] [Symmetric Tree](Leetcode_0101.ipynb) (Tree)\n",
    "\n",
    "[Leetcode 0102 Medium] [Binary Tree Level Order Traversal](Leetcode_0102.ipynb) (Tree)\n",
    "\n",
    "[Leetcode 0103 Medium] [Binary Tree Zigzag Level Order Traversal](Leetcode_0103.ipynb) (Tree)\n",
    "\n",
    "[Leetcode 0104 Easy] [Maximum Depth of Binary Tree](Leetcode_0104.ipynb) (Tree)\n",
    "\n",
    "[Leetcode 0109 Medium] [Convert Sorted List to Binary Search Tree](Leetcode_0109.ipynb) (Tree)\n",
    "\n",
    "[Leetcode 0116 Medium] [Populating Next Right Pointers in Each Node](Leetcode_0116.ipynb) (Tree)\n",
    "\n",
    "[Leetcode 0120 Medium] [Triangle](Leetcode_0120.ipynb) (DP)\n",
    "\n",
    "[Leetcode 0121 Easy] [Best Time to Buy and Sell Stock](Leetcode_0121.ipynb) (DP)\n",
    "\n",
    "[Leetcode 0124 Hard] [Binary Tree Maximum Path Sum](Leetcode_0124.ipynb) (Tree)\n",
    "\n",
    "[Leetcode 0125 Easy] [Valid Palindrome](Leetcode_0125.ipynb)  (Array)   \n",
    "\n",
    "[Leetcode 0126 Hard] [Word Ladder II](Leetcode_0126.ipynb) (GraphSearch)\n",
    "\n",
    "[Leetcode 0127 Medium] [Word Ladder](Leetcode_0127.ipynb) (GraphSearch)  \n",
    "\n",
    "[Leetcode 0138 Medium] [Copy List with Random Pointer](Leetcode_0138.ipynb)  (LinkedList)\n",
    "\n",
    "[Leetcode 0139 Medium] [Word Break](Leetcode_0139.ipynb) (DP) \n",
    "\n",
    "[Leetcode 0144 Medium] [Binary Tree Preorder Traversal](Leetcode_0144.ipynb) (Tree)\n",
    "\n",
    "[Leetcode 0145 Hard] [Binary Tree Postorder Traversal](Leetcode_0145.ipynb) (Tree)\n"
   ]
  },
  {
   "cell_type": "markdown",
   "metadata": {},
   "source": [
    "[Leetcode 0200 Medium] [Number of Islands](Leetcode_0200.ipynb) (GraphSearch)\n",
    "\n",
    "[Leetcode 0206 Easy] [Reverse Linked List](Leetcode_0206.ipynb)  (LinkedList)\n",
    "\n",
    "[Leetcode 0207 Medium] [Course Schedule](Leetcode_0207.ipynb) (GraphSearch)  \n",
    "\n",
    "[Leetcode 0210 Medium] [Course Schedule II](Leetcode_0210.ipynb) (GraphSearch)\n",
    "\n",
    "[Leetcode 0212 Hard] [Word Search II](Leetcode_0212.ipynb) (Tree, BackTracking)\n",
    "\n",
    "[Leetcode 0215 Medium] [Kth Largest Element in an Array](Leetcode_0215.ipynb) (Sorting)\n",
    "\n",
    "[Leetcode 0232 Easy] [Implement Queue using Stacks](Leetcode_0232.ipynb) (Queuq and Stack)\n",
    "\n",
    "[Leetcode 0236 Medium] [Lowest Common Ancestor (LCA) of a Binary Tree](Leetcode_0236.ipynb) (Tree)\n",
    "\n",
    "[Leetcode 0252 Easy] [Meeting Rooms](Leetcode_0252.ipynb) (Sorting)  \n",
    "\n",
    "[Leetcode 0253 Medium] [Meeting Rooms II](Leetcode_0253.ipynb) (Sorting) \n",
    "\n",
    "[Leetcode 0255 Medium] [Verify Preorder Sequence in Binary Search Tree](Leetcode_0255.ipynb) (Tree)\n",
    "\n",
    "[Leetcode 0256 East] [Paint House I](Leetcode_0256.ipynb) (DP)  \n",
    "\n",
    "[Leetcode 0261 Medium] [Graph Valid Tree](Leetcode_0261.ipynb) (GraphSearch)\n",
    "\n",
    "[Leetcode 0265 Hard] [Paint House II](Leetcode_0265.ipynb) (DP)\n",
    "\n",
    "[Leetcode 0269 Hard] [Alien Dictionary](Leetcode_0269.ipynb) (GraphSearch)\n",
    "\n",
    "[Leetcode 0273 Hard] [Integer to English Words](Leetcode_0273.ipynb) (Array)\n",
    "\n",
    "[Leetcode 0280 Medium] [Wiggle Sort](Leetcode_0280.ipynb) (Sorting)  "
   ]
  },
  {
   "cell_type": "markdown",
   "metadata": {},
   "source": [
    "[Leetcode 0311] [Sparse Matrix Multiplication](Leetcode_0311.ipynb) (Array)\n",
    "\n",
    "[Leetcode 0323 Medium] [Number of Connected Components in an Undirected Graph](Leetcode_0323.ipynb) (GraphSearch)\n",
    "\n",
    "[Leetcode 0324 Medium] [Wiggle Sort II](Leetcode_0324.ipynb) (Sorting)\n",
    "\n",
    "[Leetcode 0346 Easy] [Moving Average from Data Stream](Leetcode_0346.ipynb) (Queuq and Stack)\n",
    "\n",
    "[Leetcode 0373 Medium] [Find K Pairs with Smallest Sums](Leetcode_0373.ipynb) (Queuq and Stack)\n",
    "\n",
    "[Leetcode 0387 Easy] [First Unique Character in a String](Leetcode_0387.ipynb) (Array)"
   ]
  },
  {
   "cell_type": "markdown",
   "metadata": {},
   "source": [
    "[Leetcode 0426 Medium] [Convert Binary Search Tree to Sorted Doubly Linked List](Leetcode_0426.ipynb) (Tree)\n",
    "\n",
    "[Leetcode 0429 Easy] [N-ary Tree Level Order Traversal](Leetcode_0429.ipynb) (Tree)\n",
    "\n",
    "[Leetcode 0445 Medium] [Add Two Numbers II](Leetcode_0445.ipynb)  (LinkedList)\n",
    "\n",
    "[Leetcode 0480 Hard] [Sliding Window Median](Leetcode_0480.ipynb)  (Tree)"
   ]
  },
  {
   "cell_type": "markdown",
   "metadata": {},
   "source": [
    "### Leetcode Practice (Advanced)"
   ]
  },
  {
   "cell_type": "markdown",
   "metadata": {},
   "source": [
    "[Leetcode 0534 Easy] [Diameter of Binary Tree](Leetcode_0534.ipynb) (Tree)\n",
    "\n",
    "[Leetcode 0559 Easy] [Maximum Depth of N-ary Tree](Leetcode_0559.ipynb) (Tree)\n",
    "\n",
    "[Leetcode 0589 Easy] [N-ary Tree Preorder Traversal](Leetcode_0589.ipynb) (Tree)\n",
    "\n",
    "[Leetcode 0590 Easy] [N-ary Tree Postorder Traversal](Leetcode_0590.ipynb) (Tree)\n",
    "\n"
   ]
  },
  {
   "cell_type": "markdown",
   "metadata": {},
   "source": [
    "[Leetcode 0617 Easy] [Merge Two Binary Trees](Leetcode_0617.ipynb) (Tree)\n",
    "\n",
    "[Leetcode 0647 Medium] [Palindromic Substrings](Leetcode_0647.ipynb) (Array)\n",
    "\n",
    "[Leetcode 0673 Medium] [Number of Longest Increasing Subsequence](Leetcode_0673.ipynb) (DP)\n",
    "\n",
    "[Leetcode 0674 Easy] [Longest Continuous Increasing Subsequence](Leetcode_0674.ipynb) (DP)\n",
    "\n",
    "[Leetcode 0675 Hard] [Cut Off Trees for Golf Event](Leetcode_0675.ipynb) (GraphSearch)\n",
    "\n",
    "[Leetcode 0680 Easy] [Valid Palindrome II](Leetcode_0680.ipynb) (Array)\n",
    "\n"
   ]
  },
  {
   "cell_type": "markdown",
   "metadata": {},
   "source": [
    "[Leetcode 0733 Easy] [Flood Fill](Leetcode_0733.ipynb) (GraphSearch)\n",
    "\n",
    "[Leetcode 0739 Medium] [Daily Temperatures](Leetcode_0739.ipynb) (Queuq and Stack)\n",
    "\n",
    "[Leetcode 0773 Hard] [Sliding Puzzle 华容道](Leetcode_0773.ipynb) (GraphSearch)"
   ]
  },
  {
   "cell_type": "markdown",
   "metadata": {},
   "source": [
    "[Leetcode 0819 Easy] [Most Common Word](Leetcode_0819.ipynb) (Array)\n",
    "\n",
    "[Leetcode 0837 Medium] [New 21 Game](Leetcode_0837.ipynb) (DP)\n",
    "\n",
    "[Leetcode 0864 Hard] [Shortest Path to Get All Keys](Leetcode_0864.ipynb) (GraphSearch)\n",
    "\n",
    "[Leetcode 0875 Medium] [Koko Eating Bananas](Leetcode_0875.ipynb) (Sorting)"
   ]
  },
  {
   "cell_type": "markdown",
   "metadata": {},
   "source": [
    "[Leetcode 0907 Medium] [Sum of Subarray Minimums](Leetcode_0907.ipynb) (Queuq and Stack)\n",
    "\n",
    "[Leetcode 0935 Medium] [Knight Dialer](Leetcode_0935.ipynb) (DP) \n",
    "\n",
    "[Leetcode 0937 Easy] [Reorder Log Files](Leetcode_0937.ipynb) (Array)\n",
    "\n",
    "[Leetcode 0973 Medium] [K Closest Points to Origin](Leetcode_0973.ipynb) (Sorting)\n",
    "\n",
    "[Leetcode 0986 Medium] [Interval List Intersections](Leetcode_0986.ipynb) (Array)"
   ]
  },
  {
   "cell_type": "markdown",
   "metadata": {},
   "source": [
    "[Leetcode 1011 Medium] [Capacity To Ship Packages Within D Days](Leetcode_1011.ipynb) (Sorting)"
   ]
  }
 ],
 "metadata": {
  "kernelspec": {
   "display_name": "Python 3",
   "language": "python",
   "name": "python3"
  },
  "language_info": {
   "codemirror_mode": {
    "name": "ipython",
    "version": 3
   },
   "file_extension": ".py",
   "mimetype": "text/x-python",
   "name": "python",
   "nbconvert_exporter": "python",
   "pygments_lexer": "ipython3",
   "version": "3.6.3"
  }
 },
 "nbformat": 4,
 "nbformat_minor": 2
}
