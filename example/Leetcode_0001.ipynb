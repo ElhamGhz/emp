{
 "cells": [
  {
   "cell_type": "markdown",
   "metadata": {
    "collapsed": true
   },
   "source": [
    "#### [Leetcode 001 Easy] [Two Sum](https://leetcode.com/problems/two-sum/)\n",
    "\n",
    "Given an array of integers, return indices of the two numbers such that they add up to a specific target.\n",
    "\n",
    "You may assume that each input would have exactly one solution, and you may not use the same element twice.\n",
    "\n",
    "Example:\n",
    "```\n",
    "Given nums = [2, 7, 11, 15], target = 9,\n",
    "\n",
    "Because nums[0] + nums[1] = 2 + 7 = 9,\n",
    "return [0, 1].\n",
    "```"
   ]
  },
  {
   "cell_type": "code",
   "execution_count": 1,
   "metadata": {},
   "outputs": [
    {
     "name": "stdout",
     "output_type": "stream",
     "text": [
      "[0, 1]\n",
      "[]\n",
      "[]\n"
     ]
    }
   ],
   "source": [
    "class Solution(object):\n",
    "    def twoSum(self, nums, target):\n",
    "        \"\"\"\n",
    "        :type nums: List[int]\n",
    "        :type target: int\n",
    "        :rtype: List[int]\n",
    "        \"\"\"\n",
    "        results = []\n",
    "        if not nums:\n",
    "            return results\n",
    "        \n",
    "        # key -- num, value -- index\n",
    "        maps = {}\n",
    "        \n",
    "        for i, num in enumerate(nums):\n",
    "            if target - num in maps:\n",
    "                results.append(maps[target - num])\n",
    "                results.append(i)\n",
    "                return results\n",
    "            maps[num] = i\n",
    "            \n",
    "        return results\n",
    "    \n",
    "if __name__ == '__main__':\n",
    "    soln = Solution()\n",
    "    \n",
    "    print(soln.twoSum(nums=[2, 7, 11, 15], target=9)) \n",
    "    print(soln.twoSum(nums=[], target=9)) \n",
    "    print(soln.twoSum(nums=[2, 7, 11, 15], target=8)) "
   ]
  },
  {
   "cell_type": "code",
   "execution_count": null,
   "metadata": {
    "collapsed": true
   },
   "outputs": [],
   "source": []
  },
  {
   "cell_type": "markdown",
   "metadata": {
    "collapsed": true
   },
   "source": [
    "C++"
   ]
  },
  {
   "cell_type": "code",
   "execution_count": null,
   "metadata": {
    "collapsed": true
   },
   "outputs": [],
   "source": [
    "class Solution {\n",
    "public:\n",
    "    vector<int> twoSum(vector<int>& nums, int target) {\n",
    "        \n",
    "        vector<int> res;\n",
    "            \n",
    "        if (nums.size() == 0) {\n",
    "            return res;\n",
    "        }\n",
    "        \n",
    "        //hashmap, key -- num, value -- index\n",
    "        unordered_map<int, int> map;\n",
    "        for (unsigned int i = 0; i < nums.size(); i++) {\n",
    "            if(map.count(target - nums[i])) {\n",
    "                res.push_back(map[target - nums[i]]);\n",
    "                res.push_back(i);\n",
    "                break;\n",
    "            }\n",
    "            map[nums[i]] = i;\n",
    "        }\n",
    "        \n",
    "        return res;\n",
    "    }\n",
    "};"
   ]
  },
  {
   "cell_type": "code",
   "execution_count": null,
   "metadata": {},
   "outputs": [],
   "source": [
    "class Solution {\n",
    "public:\n",
    "    vector<int> twoSum(vector<int>& nums, int target) {\n",
    "        vector<int> result;\n",
    "        if(nums.empty()){\n",
    "            return result;\n",
    "        }\n",
    "        \n",
    "        unordered_map<int, int> map;\n",
    "        for(decltype(nums.size()) i = 0; i != nums.size(); ++i){\n",
    "            if(map.find(target - nums[i]) != map.end()){\n",
    "                result.push_back(map[target-nums[i]]);\n",
    "                result.push_back(i);\n",
    "                return result;\n",
    "            }\n",
    "            else{\n",
    "                map[nums[i]] = i;\n",
    "            }\n",
    "        }\n",
    "        \n",
    "        return result;        \n",
    "        \n",
    "    }\n",
    "};"
   ]
  }
 ],
 "metadata": {
  "kernelspec": {
   "display_name": "Python 3",
   "language": "python",
   "name": "python3"
  },
  "language_info": {
   "codemirror_mode": {
    "name": "ipython",
    "version": 3
   },
   "file_extension": ".py",
   "mimetype": "text/x-python",
   "name": "python",
   "nbconvert_exporter": "python",
   "pygments_lexer": "ipython3",
   "version": "3.6.5"
  }
 },
 "nbformat": 4,
 "nbformat_minor": 2
}
