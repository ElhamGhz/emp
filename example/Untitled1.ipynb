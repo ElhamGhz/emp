{
 "cells": [
  {
   "cell_type": "code",
   "execution_count": null,
   "metadata": {},
   "outputs": [],
   "source": [
    "def find order(numCourse, Prereq):\n",
    "    \n",
    "    graph = {}\n",
    "        for end, start in prereq:\n",
    "            if start not in graph:\n",
    "                graph[start] = []\n",
    "            graph[start].append(end)\n",
    "            \n",
    "    courses = []\n",
    "    \n",
    "    # BFS\n",
    "    frontier = []\n",
    "        for node in graph:\n",
    "            if check_degree(graph, node):\n",
    "                frontier.append(node)\n",
    "                \n",
    "        bfs(frontier, graph, course)\n",
    "    return courses\n",
    "\n",
    "def check_degree(graph, node):\n",
    "    \n",
    "    for _, neighbors in graph.items():\n",
    "            if node in neighbors:\n",
    "                return False\n",
    "            \n",
    "        return True\n",
    "    \n",
    "def bfs(forntier, graph, course):\n",
    "    while frontier:\n",
    "        post = []\n",
    "        for f in frontier:\n",
    "            courses.append(f)\n",
    "            while f in graph:\n",
    "                e = graph[f].pop()\n",
    "                if check_degree(graph, node):\n",
    "                    post.append(e)\n",
    "                    \n",
    "        frontier = post\n",
    "                \n",
    "            \n",
    "    \n",
    "    \n",
    "    \n",
    "    \n",
    "    \n",
    "    "
   ]
  }
 ],
 "metadata": {
  "kernelspec": {
   "display_name": "Python 3",
   "language": "python",
   "name": "python3"
  },
  "language_info": {
   "codemirror_mode": {
    "name": "ipython",
    "version": 3
   },
   "file_extension": ".py",
   "mimetype": "text/x-python",
   "name": "python",
   "nbconvert_exporter": "python",
   "pygments_lexer": "ipython3",
   "version": "3.6.1"
  }
 },
 "nbformat": 4,
 "nbformat_minor": 2
}
