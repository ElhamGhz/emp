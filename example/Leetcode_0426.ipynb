{
 "cells": [
  {
   "cell_type": "markdown",
   "metadata": {},
   "source": [
    "#### [Leetcode 426 Medium] [Convert Binary Search Tree to Sorted Doubly Linked List](https://leetcode.com/problems/convert-binary-search-tree-to-sorted-doubly-linked-list/)\n",
    "\n",
    "Convert a BST to a sorted circular doubly-linked list in-place. Think of the left and right pointers as synonymous to the previous and next pointers in a doubly-linked list.\n",
    "\n",
    "Let's take the following BST as an example, it may help you understand the problem better:\n",
    "```\n",
    "              4\n",
    "            /   \\\n",
    "           2     5\n",
    "         /  \\\n",
    "        1    3\n",
    "```\n",
    " \n",
    "\n",
    "We want to transform this BST into a circular doubly linked list. Each node in a doubly linked list has a predecessor and successor. For a circular doubly linked list, the predecessor of the first element is the last element, and the successor of the last element is the first element.\n",
    "\n",
    "The figure below shows the circular doubly linked list for the BST above. The \"head\" symbol means the node it points to is the smallest element of the linked list.\n",
    "\n",
    "<img src=\"source/Leetcode_426_1.png\">\n",
    " \n",
    "Specifically, we want to do the transformation in place. After the transformation, the left pointer of the tree node should point to its predecessor, and the right pointer should point to its successor. We should return the pointer to the first element of the linked list.\n",
    "\n",
    "The figure below shows the transformed BST. The solid line indicates the successor relationship, while the dashed line means the predecessor relationship.\n",
    "\n",
    "<img src=\"source/Leetcode_426_2.png\">\n"
   ]
  },
  {
   "cell_type": "markdown",
   "metadata": {},
   "source": [
    "<font color='blue'>Solution: </font>  Array  \n",
    "* Time Complexity: O(n)\n",
    "* Space Complexity: O(n)"
   ]
  },
  {
   "cell_type": "code",
   "execution_count": 4,
   "metadata": {},
   "outputs": [],
   "source": [
    "from helper import TreeNode\n",
    "from helper import BinaryTree"
   ]
  },
  {
   "cell_type": "code",
   "execution_count": 14,
   "metadata": {},
   "outputs": [],
   "source": [
    "# Definition for a Node.\n",
    "class Node(object):\n",
    "    def __init__(self, val, left, right):\n",
    "        self.val = val\n",
    "        self.left = left\n",
    "        self.right = right\n",
    "        \n",
    "class Solution(object):\n",
    "    def treeToDoublyList(self, root):\n",
    "        \"\"\"\n",
    "        :type root: Node\n",
    "        :rtype: Node\n",
    "        \"\"\"\n",
    "        if not root:\n",
    "            return None\n",
    "        \n",
    "        array = []\n",
    "        \n",
    "        self.inorder_traversal(root, array)\n",
    "        \n",
    "        head = self.array_to_list(array)\n",
    "        \n",
    "        return head\n",
    "    \n",
    "    def inorder_traversal(self, root, array):\n",
    "        if not root:\n",
    "            return\n",
    "        \n",
    "        self.inorder_traversal(root.left, array)\n",
    "        \n",
    "        array.append(root.val)\n",
    "            \n",
    "        self.inorder_traversal(root.right, array)\n",
    "        \n",
    "        return\n",
    "    \n",
    "    def array_to_list(self, array):\n",
    "        \n",
    "        fake_head = Node(None, None, None)\n",
    "        prev = fake_head\n",
    "        \n",
    "        for num in array:\n",
    "            curr = Node(num, None, None)\n",
    "            prev.right = curr\n",
    "            curr.left = prev\n",
    "            prev = curr\n",
    "            \n",
    "        head = fake_head.right\n",
    "        fake_head.right = None\n",
    "        \n",
    "        \n",
    "        head.left = prev\n",
    "        prev.right = head\n",
    "        \n",
    "        return head        "
   ]
  },
  {
   "cell_type": "code",
   "execution_count": 19,
   "metadata": {},
   "outputs": [
    {
     "name": "stdout",
     "output_type": "stream",
     "text": [
      "[[10], [5, 15], [2, 7, 12, 20]]\n",
      "2 5 7\n",
      "2 20 15\n"
     ]
    }
   ],
   "source": [
    "root = TreeNode(10)\n",
    "root.left = TreeNode(5)\n",
    "root.right = TreeNode(15)\n",
    "root.left.left = TreeNode(2)\n",
    "root.left.right = TreeNode(7)\n",
    "root.right.left = TreeNode(12)\n",
    "root.right.right = TreeNode(20)\n",
    "\n",
    "binary_tree = BinaryTree()\n",
    "print(binary_tree.BFS_traversal(root))\n",
    "\n",
    "soln = Solution()\n",
    "head = soln.treeToDoublyList(root)\n",
    "print(head.val, head.right.val, head.right.right.val)\n",
    "print(head.val, head.left.val, head.left.left.val)"
   ]
  },
  {
   "cell_type": "markdown",
   "metadata": {},
   "source": [
    "<font color='blue'>Solution: </font>  In-Order Traversal  \n",
    "* Time Complexity: O(n)\n",
    "* Space Complexity: O(1)"
   ]
  },
  {
   "cell_type": "code",
   "execution_count": 24,
   "metadata": {},
   "outputs": [],
   "source": [
    "class Solution(object):\n",
    "    def treeToDoublyList(self, root):\n",
    "        \"\"\"\n",
    "        :type root: Node\n",
    "        :rtype: Node\n",
    "        \"\"\"\n",
    "        if not root:\n",
    "            return None\n",
    "        \n",
    "        fake_head = Node(None, None, None)\n",
    "        self.curr_node = fake_head\n",
    "        \n",
    "        self.dfs(root)\n",
    "        \n",
    "        head = fake_head.right\n",
    "        fake_head.right = None\n",
    "        \n",
    "        head.left = self.curr_node\n",
    "        self.curr_node.right = head\n",
    "        \n",
    "        return head\n",
    "        \n",
    "    def dfs(self, root):\n",
    "        if not root:\n",
    "            return\n",
    "        \n",
    "        self.dfs(root.left)\n",
    "        \n",
    "        new_node = Node(root.val, None, None)\n",
    "        self.curr_node.right = new_node\n",
    "        new_node.left = self.curr_node\n",
    "        self.curr_node = self.curr_node.right\n",
    "        \n",
    "        self.dfs(root.right)\n",
    "        \n",
    "        return"
   ]
  },
  {
   "cell_type": "code",
   "execution_count": 25,
   "metadata": {},
   "outputs": [
    {
     "name": "stdout",
     "output_type": "stream",
     "text": [
      "[[10], [5, 15], [2, 7, 12, 20]]\n",
      "2 5 7\n",
      "2 20 15\n"
     ]
    }
   ],
   "source": [
    "root = TreeNode(10)\n",
    "root.left = TreeNode(5)\n",
    "root.right = TreeNode(15)\n",
    "root.left.left = TreeNode(2)\n",
    "root.left.right = TreeNode(7)\n",
    "root.right.left = TreeNode(12)\n",
    "root.right.right = TreeNode(20)\n",
    "\n",
    "binary_tree = BinaryTree()\n",
    "print(binary_tree.BFS_traversal(root))\n",
    "\n",
    "soln = Solution()\n",
    "head = soln.treeToDoublyList(root)\n",
    "print(head.val, head.right.val, head.right.right.val)\n",
    "print(head.val, head.left.val, head.left.left.val)"
   ]
  },
  {
   "cell_type": "markdown",
   "metadata": {},
   "source": [
    "#### Follow up: Convert Sorted Doubly Linked List to Binary Search Tree\n",
    "\n",
    "一个双向链表和二叉搜索树互相转化，用递归，每次找到那个root节点然后对左右子树继续进行递归就好，不过最好先遍历一遍链表，然后用数组存，每次递归传入这个数组和对应的index范围，最后时间复杂度O(N)，空间复杂度也是，反向转化的话也是类似思路\n"
   ]
  },
  {
   "cell_type": "code",
   "execution_count": null,
   "metadata": {
    "collapsed": true
   },
   "outputs": [],
   "source": []
  },
  {
   "cell_type": "code",
   "execution_count": null,
   "metadata": {
    "collapsed": true
   },
   "outputs": [],
   "source": []
  }
 ],
 "metadata": {
  "kernelspec": {
   "display_name": "Python 3",
   "language": "python",
   "name": "python3"
  },
  "language_info": {
   "codemirror_mode": {
    "name": "ipython",
    "version": 3
   },
   "file_extension": ".py",
   "mimetype": "text/x-python",
   "name": "python",
   "nbconvert_exporter": "python",
   "pygments_lexer": "ipython3",
   "version": "3.6.5"
  }
 },
 "nbformat": 4,
 "nbformat_minor": 2
}
