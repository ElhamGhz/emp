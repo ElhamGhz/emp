{
 "cells": [
  {
   "cell_type": "markdown",
   "metadata": {},
   "source": [
    "#### [Leetcode 387 Easy] [First Unique Character in a String](https://leetcode.com/problems/first-unique-character-in-a-string/)\n",
    "\n",
    "Given a string, find the first non-repeating character in it and return it's index. If it doesn't exist, return -1.\n",
    "\n",
    "Examples:\n",
    "```\n",
    "s = \"leetcode\"\n",
    "return 0.\n",
    "\n",
    "s = \"loveleetcode\",\n",
    "return 2.\n",
    "```\n",
    "\n",
    "Note: \n",
    "* You may assume the string contain only lowercase letters."
   ]
  },
  {
   "cell_type": "markdown",
   "metadata": {},
   "source": [
    "<font color='blue'>Solution: </font>  dictionary  \n",
    "\n",
    "We can use string characters as index and build a count array. Following is the algorithm.\n",
    "\n",
    "1. Scan the string from left to right and construct the count array.\n",
    "2. Again, scan the string from left to right and check for count of each character, if you find an element who's count is 1, return it."
   ]
  },
  {
   "cell_type": "code",
   "execution_count": 5,
   "metadata": {},
   "outputs": [
    {
     "name": "stdout",
     "output_type": "stream",
     "text": [
      "0\n",
      "2\n",
      "-1\n",
      "-1\n"
     ]
    }
   ],
   "source": [
    "class Solution(object):\n",
    "    def firstUniqChar(self, s):\n",
    "        \"\"\"\n",
    "        :type s: str\n",
    "        :rtype: int\n",
    "        \"\"\"\n",
    "        if not s:\n",
    "            return -1\n",
    "        \n",
    "        counter = {}\n",
    "        for value in s:\n",
    "            counter[value] = counter.get(value, 0) + 1\n",
    "            \n",
    "        for index, value in enumerate(s):\n",
    "            if counter[value] == 1:\n",
    "                return index\n",
    "            \n",
    "        return -1\n",
    "    \n",
    "if __name__ == \"__main__\":\n",
    "    soln = Solution()\n",
    "    \n",
    "    print(soln.firstUniqChar(s=\"leetcode\"))\n",
    "    print(soln.firstUniqChar(s=\"loveleetcode\"))\n",
    "    print(soln.firstUniqChar(s=\"\"))  \n",
    "    print(soln.firstUniqChar(s=\"leetcodeltcod\"))  "
   ]
  },
  {
   "cell_type": "markdown",
   "metadata": {},
   "source": [
    "Can we do it by traversing the string only once?   \n",
    "\n",
    "The above approach takes O(n) time, but in practice it can be improved. The first part of the algorithm runs through the string to construct the count array (in O(n) time). This is reasonable. But the second part about running through the string again just to find the first non-repeater is not good in practice. In real situations, your string is expected to be much larger than your alphabet. Take DNA sequences for example: they could be millions of letters long with an alphabet of just 4 letters. What happens if the non-repeater is at the end of the string? Then we would have to scan for a long time (again).\n",
    "We can augment the count array by storing not just counts but also the index of the first time you encountered the character e.g. (3, 26) for ‘a’ meaning that ‘a’ got counted 3 times and the first time it was seen is at position 26. So when it comes to finding the first non-repeater, we just have to scan the count array, instead of the string. "
   ]
  },
  {
   "cell_type": "code",
   "execution_count": 8,
   "metadata": {},
   "outputs": [
    {
     "name": "stdout",
     "output_type": "stream",
     "text": [
      "0\n",
      "2\n",
      "-1\n",
      "-1\n"
     ]
    }
   ],
   "source": [
    "class Solution(object):\n",
    "    def firstUniqChar(self, s):\n",
    "        \"\"\"\n",
    "        :type s: str\n",
    "        :rtype: int\n",
    "        \"\"\"\n",
    "        if not s:\n",
    "            return -1\n",
    "        \n",
    "        counter = {}\n",
    "        for index, value in enumerate(s):\n",
    "            if value not in counter:\n",
    "                counter[value] = (1, index)\n",
    "            else:\n",
    "                counter[value] = (counter[value][0] + 1, index)\n",
    "            \n",
    "        for key, value in counter.items():\n",
    "            if value[0] == 1:\n",
    "                return value[1]\n",
    "            \n",
    "        return -1\n",
    "    \n",
    "if __name__ == \"__main__\":\n",
    "    soln = Solution()\n",
    "    \n",
    "    print(soln.firstUniqChar(s=\"leetcode\"))\n",
    "    print(soln.firstUniqChar(s=\"loveleetcode\"))\n",
    "    print(soln.firstUniqChar(s=\"\"))  \n",
    "    print(soln.firstUniqChar(s=\"leetcodeltcod\"))  "
   ]
  },
  {
   "cell_type": "code",
   "execution_count": null,
   "metadata": {},
   "outputs": [],
   "source": []
  },
  {
   "cell_type": "code",
   "execution_count": null,
   "metadata": {},
   "outputs": [],
   "source": []
  }
 ],
 "metadata": {
  "kernelspec": {
   "display_name": "Python 3",
   "language": "python",
   "name": "python3"
  },
  "language_info": {
   "codemirror_mode": {
    "name": "ipython",
    "version": 3
   },
   "file_extension": ".py",
   "mimetype": "text/x-python",
   "name": "python",
   "nbconvert_exporter": "python",
   "pygments_lexer": "ipython3",
   "version": "3.6.5"
  }
 },
 "nbformat": 4,
 "nbformat_minor": 2
}
