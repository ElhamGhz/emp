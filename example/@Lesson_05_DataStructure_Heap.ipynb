{
 "cells": [
  {
   "cell_type": "markdown",
   "metadata": {},
   "source": [
    "# Lesson 5: DATA STRUCTURE -- Heap\n",
    "---\n",
    "In this lesson, we will cover the following parts:\n",
    "* 5.1: Lecture Note\n",
    "* 5.2: Leetcode Training (Basic)\n",
    "* 5.3: Leetcode Practice (Advanced)\n",
    "\n",
    "Both BA/DS Track:\n",
    "1. Understand how heap works\n",
    "2. Know how to apply it in problems\n",
    "\n",
    "DS Track:\n",
    "1. Understand heapify and its time complexity"
   ]
  },
  {
   "cell_type": "markdown",
   "metadata": {},
   "source": [
    "## 5.1 Lecture Note -- Heap\n",
    "\n",
    "### 5.1.1 Concept\n",
    "\n",
    "* heap: 堆数据结构，简单的理解就是每次可以从一堆数据中取出极值（max or min）\n",
    "* min-heap：每次都pop给当前collection里面最小的number\n",
    "* max-heap：每次都pop给当前collection里面最大的number\n",
    "\n",
    "思考：试想，如果没有堆，我们如何在一个数据集合中寻找极值？时间复杂度是？\n",
    "\n",
    "heap is a complete binary tree.   \n",
    "WHY? easy to store it as an array\n",
    "\n",
    "#### <font color='red'>How to realize a heap in the low level?</font>\n",
    "1. 连续型存储：数组\n",
    "2. 不连续型存储：二叉树\n",
    "\n",
    "How to implement a binary tree?\n",
    "* Pointer\n",
    "* Array\n",
    "![heap concept](source/lesson7_heap_concept.png)\n",
    "\n",
    "WHY? Easy to store it as an array (0-based index array)  \n",
    "* left_child_node_index = parent_node_index * 2 + 1  \n",
    "* right_child_node_index = parenet_node_index * 2 + 2  \n",
    "* parent_node_index = (child_node_index - 1) // 2\n",
    "\n",
    "Review: what is complete binary tree?  \n",
    "A complete binary tree is a binary tree in which every level, except possibly the last, is completely filled, and all nodes are as far left as possible.  \n",
    "1) \n",
    "```\n",
    "                1\n",
    "               /  \\\n",
    "              2     3\n",
    "             / \\   / \\\n",
    "            4   5 6   7\n",
    "Yes, full binary tree.\n",
    "idx 0 1 2 3 4 5 6\n",
    "   [1 2 3 4 5 6 7]\n",
    "```\n",
    "2) \n",
    "```\n",
    "                1\n",
    "               /  \\\n",
    "              2     3\n",
    "             / \\   / \n",
    "            4   5 6   \n",
    "Yes, full binary tree.\n",
    "idx 0 1 2 3 4 5\n",
    "   [1 2 3 4 5 6]\n",
    "```\n",
    "3) \n",
    "```\n",
    "                1\n",
    "               /  \\\n",
    "              2     3\n",
    "             / \\   / \\\n",
    "                5 6   \n",
    "No\n",
    "```\n",
    "4) \n",
    "```\n",
    "                1\n",
    "               /  \\\n",
    "                   3\n",
    "                  / \\\n",
    "                 6   \n",
    "No\n",
    "```\n",
    "Use array to represent complete binary tree\n",
    "* left_child_node_index = parent_node_index * 2 + 1  \n",
    "* right_child_node_index = parenet_node_index * 2 + 2  \n",
    "\n",
    "Heap Basic:  \n",
    "min-heap: 每个node都比自己的孩子节点小  \n",
    "max-heap：每个node都比自己的孩子节点大"
   ]
  },
  {
   "cell_type": "markdown",
   "metadata": {
    "collapsed": true
   },
   "source": [
    "### 5.1.2 Operations\n",
    "用Array实现Heap：\n",
    "```\n",
    "class Heap(object):\n",
    "    def __init__():\n",
    "        self.array = []\n",
    "```\n",
    "\n",
    "#### Push\n",
    "For minheap, what happens when we push(9)?\n",
    "```\n",
    "                0\n",
    "               /  \\\n",
    "              1     5\n",
    "             / \\   / \n",
    "            6   8 (9)\n",
    "Arr = [0, 1, 5, 6, 8] --> push(9) --> Arr = [0, 1, 5, 6, 8, 9]\n",
    "```\n",
    "What if push(-1)?\n",
    "```\n",
    "      0              0              -1\n",
    "     /  \\           /  \\           /  \\\n",
    "    1     5  ==>   1   (-1)  ==>  1    0\n",
    "   / \\   /        / \\  /         / \\  /\n",
    "  6   8 (-1)     6  8  5        6  8  5       \n",
    "Arr = [0, 1, 5, 6, 8] --> push(-1) --> Arr = [0, 1, 5, 6, 8, -1] --> [-1, 1, 0, 6, 8, 5]\n",
    "```\n",
    "Shift-up operation: (min-heap)"
   ]
  },
  {
   "cell_type": "code",
   "execution_count": 3,
   "metadata": {},
   "outputs": [
    {
     "name": "stdout",
     "output_type": "stream",
     "text": [
      "[-1, 1, 0, 6, 8, 5]\n"
     ]
    }
   ],
   "source": [
    "def shift_up(array, index):\n",
    "    \"\"\"\n",
    "    Time Complexity: O(h) = O(logn), for complete binary tree, height h = logn\n",
    "    \"\"\"\n",
    "    # base case\n",
    "    parent_idx = (index - 1) // 2\n",
    "    # if parent_idx < 0, it implies the current node is at the top already\n",
    "    if parent_idx < 0 or array[index] > array[parent_idx]:\n",
    "        return\n",
    "    \n",
    "    # recursion part\n",
    "    # what to do in the current stage\n",
    "    array[index], array[parent_idx] = array[parent_idx], array[index]\n",
    "    # what to get from your children\n",
    "    shift_up(array, parent_idx)\n",
    "    \n",
    "    # what to return to your parent\n",
    "    return\n",
    "\n",
    "arr = [0, 1, 5, 6, 8, -1]\n",
    "shift_up(arr, len(arr)-1)\n",
    "print(arr)"
   ]
  },
  {
   "cell_type": "markdown",
   "metadata": {
    "collapsed": true
   },
   "source": [
    "How to insert an element into heap?"
   ]
  },
  {
   "cell_type": "code",
   "execution_count": 4,
   "metadata": {
    "collapsed": true
   },
   "outputs": [],
   "source": [
    "class Heap(object):\n",
    "    def __init__(self):\n",
    "        self.array = list()\n",
    "        \n",
    "    def shift_up(self, array, index):\n",
    "        \"\"\"\n",
    "        Time Complexity: O(h) = O(logn), for complete binary tree, height h = logn\n",
    "        \"\"\"\n",
    "        # base case\n",
    "        parent_idx = (index - 1) // 2\n",
    "        # if parent_idx < 0, it implies the current node is at the top already\n",
    "        if parent_idx < 0 or array[index] > array[parent_idx]:\n",
    "            return\n",
    "\n",
    "        # recursion part\n",
    "        # what to do in the current stage\n",
    "        array[index], array[parent_idx] = array[parent_idx], array[index]\n",
    "        # what to get from your children\n",
    "        self.shift_up(array, parent_idx)\n",
    "\n",
    "        # what to return to your parent\n",
    "        return\n",
    "        \n",
    "    def push(self, val):\n",
    "        # assume self.array has enough capacity\n",
    "        self.array.append(val)\n",
    "        self.shift_up(self.array, len(self.array) - 1)"
   ]
  },
  {
   "cell_type": "markdown",
   "metadata": {
    "collapsed": true
   },
   "source": [
    "#### Pop\n",
    "For minheap, what happens if we pop() 0 -- the min value out of heap?\n",
    "```\n",
    "     (0)            9             9            1            1\n",
    "     /  \\          /  \\          /  \\         /  \\         /  \\\n",
    "    1     5  ==>  1    5  ==>   1    5  ==>  9    5  ==>  6    5\n",
    "   / \\   /       / \\  /        / \\          / \\          / \\\n",
    "  6   8  9      6  8 (0)      6   8        6   8        9   8\n",
    "Arr = [0, 1, 5, 6, 8, 9] --> pop() --> Arr = [1, 6, 5, 9, 8] \n",
    "```\n",
    "Shift_down operation:"
   ]
  },
  {
   "cell_type": "code",
   "execution_count": 6,
   "metadata": {
    "collapsed": true
   },
   "outputs": [],
   "source": [
    "# Recursion \n",
    "def shift_down(array, index):\n",
    "    \"\"\"\n",
    "    Time Complexity: O(logn)\n",
    "    \"\"\"\n",
    "    # Base case\n",
    "    left = index * 2 + 1\n",
    "    right = index * 2 + 2\n",
    "    small = index\n",
    "    if left < len(array) and array[small] > array[left]:\n",
    "        small = left\n",
    "    if right < len(array) and array[small] > array[right]:\n",
    "        small = right\n",
    "    if small == index:\n",
    "        return\n",
    "    \n",
    "    # what to do in the current stage\n",
    "    array[small], array[index] = array[index], array[small]\n",
    "    # what to get from your children\n",
    "    shift_down(array, small)\n",
    "    \n",
    "    # what to return to your parent\n",
    "    return\n",
    "        \n",
    "# Iteration\n",
    "def shift_down(array, index):\n",
    "    \"\"\"\n",
    "    Time Complexity: O(logn)\n",
    "    \"\"\"\n",
    "    left = index * 2 + 1\n",
    "    right = index * 2 + 2\n",
    "    \n",
    "    while left < len(array) or right < len(array):\n",
    "        smaller = index\n",
    "        if left < len(array) and array[smaller] > array[left]:\n",
    "            smaller = left\n",
    "        if right < len(array) and array[smaller] > array[right]:\n",
    "            smaller = right\n",
    "        if smaller == index:\n",
    "            break\n",
    "        array[index], array[smaller] = array[smaller], array[index]\n",
    "        index = smaller\n",
    "        left = index * 2 + 1\n",
    "        right = index * 2 + 1\n",
    "        \n"
   ]
  },
  {
   "cell_type": "markdown",
   "metadata": {
    "collapsed": true
   },
   "source": [
    "How to remove the element at the top of heap?"
   ]
  },
  {
   "cell_type": "code",
   "execution_count": 6,
   "metadata": {},
   "outputs": [
    {
     "name": "stdout",
     "output_type": "stream",
     "text": [
      "[]\n",
      "[1, 2, 3, 5, 4]\n",
      "[1, 2, 3, 5, 4, 6]\n",
      "[0, 2, 1, 5, 4, 6, 3]\n",
      "0\n",
      "[1, 2, 3, 5, 4, 6]\n"
     ]
    }
   ],
   "source": [
    "class Heap(object):\n",
    "    def __init__(self):\n",
    "        self.array = list()\n",
    "        \n",
    "    def shift_up(self, array, index):\n",
    "        \"\"\"\n",
    "        Time Complexity: O(h) = O(logn), for complete binary tree, height h = logn\n",
    "        \"\"\"\n",
    "        # base case\n",
    "        parent_idx = (index - 1) // 2\n",
    "        # if parent_idx < 0, it implies the current node is at the top already\n",
    "        if parent_idx < 0 or array[index] > array[parent_idx]:\n",
    "            return\n",
    "\n",
    "        # recursion part\n",
    "        # what to do in the current stage\n",
    "        array[index], array[parent_idx] = array[parent_idx], array[index]\n",
    "        # what to get from your children\n",
    "        self.shift_up(array, parent_idx)\n",
    "\n",
    "        # what to return to your parent\n",
    "        return\n",
    "        \n",
    "    def push(self, val):\n",
    "        # assume self.array has enough capacity\n",
    "        self.array.append(val)\n",
    "        self.shift_up(self.array, len(self.array) - 1)\n",
    "    \n",
    "    def shift_down(self, array, parent_index):\n",
    "        \"\"\"\n",
    "        Time Complexity: O(logn)\n",
    "        \"\"\"\n",
    "        # Base case\n",
    "        left_index = parent_index * 2 + 1\n",
    "        right_index = parent_index * 2 + 2\n",
    "        small_index = parent_index\n",
    "        \n",
    "        if left_index < len(array) and array[left_index] < array[small_index]:\n",
    "            small_index = left_index\n",
    "        if right_index < len(array) and array[right_index] < array[small_index]:\n",
    "            small_index = right_index\n",
    "            \n",
    "        if small_index ==  parent_index:\n",
    "            return\n",
    "        \n",
    "        # what to do in the current stage\n",
    "        array[small_index], array[parent_index] = array[parent_index], array[small_index]\n",
    "        # what to get from your children\n",
    "        self.shift_down(array, small_index)\n",
    "        \n",
    "        # what to return to your parent\n",
    "        return\n",
    "    \n",
    "    def pop(self):\n",
    "        res = self.array[0]\n",
    "        self.array[0], self.array[-1] = self.array[-1], self.array[0]\n",
    "        self.array.pop()\n",
    "        self.shift_down(self.array, 0)\n",
    "        return res\n",
    "    \n",
    "    def array_to_heap(self, array):\n",
    "        \"\"\"\n",
    "        Time Complexity: O(n)\n",
    "        \"\"\"\n",
    "        self.array = array[:]\n",
    "        \n",
    "        for index in range(len(array) // 2 - 1, -1, -1):\n",
    "            self.shift_down(self.array, index)\n",
    "    \n",
    "if __name__ == \"__main__\":\n",
    "    array = [5, 4, 3, 2, 1]\n",
    "    heap = Heap()\n",
    "    print(heap.array)\n",
    "    heap.array_to_heap(array)\n",
    "    print(heap.array)\n",
    "    heap.push(6)\n",
    "    print(heap.array)\n",
    "    heap.push(0)\n",
    "    print(heap.array)\n",
    "    print(heap.pop())\n",
    "    print(heap.array)"
   ]
  },
  {
   "cell_type": "markdown",
   "metadata": {},
   "source": [
    "How to initialize a heap from a random array?\n",
    "\n",
    "[5, 4, 3, 2, 1] ==> min-heap\n",
    "\n",
    "starting from the parent of the last element.  \n",
    "The parent_index = (len(arr)-1 - 1) // 2 = len(arr)//2 - 1\n",
    "```\n",
    "      5            (5)            1     \n",
    "     /  \\          /  \\          /  \\   \n",
    "   (4)   3  ==>   1    3  ==>   2    3  \n",
    "   / \\           / \\           / \\      \n",
    "  2   1         2   4         5   4    \n",
    "Arr = [5, (4), 3, 2, 1] --> shift_down(Arr, 4)--> Arr = [(5), 1, 3, 2, 4] \n",
    "--> shift_down(Arr, 5) --> Arr = [1, 2, 3, 5, 4] \n",
    "```"
   ]
  },
  {
   "cell_type": "code",
   "execution_count": 7,
   "metadata": {
    "collapsed": true
   },
   "outputs": [],
   "source": [
    "def build_heap(arr):\n",
    "    for i in range(len(arr) // 2 - 1, -1, -1):\n",
    "        shift_down(arr, i)"
   ]
  },
  {
   "cell_type": "markdown",
   "metadata": {},
   "source": [
    "Time Complexity: n element, height logn, O(nlogn) -> O(n)  \n",
    "How many nodes are in level h?  \n",
    "Why len(arr)//2 - 1?  \n",
    "Last element's index is len(arr)-1, the parent of last element is (len(arr)-1-1)//2  \n",
    "最后一层   n/2 * O(1)\n",
    "倒数第二层 n/4 * O(2)\n",
    "倒数第三层 n/8 * O(3)\n",
    "\\begin{align}\n",
    "f(n) &={} n/2 + 2 * n/4 + 3* n/8 + 4 * n/16 + \\ldots\\\\\n",
    "\\frac{1}{2}f(n) &={} n/4 + 2 * n/8 + 3* n/16 + 4 * n/32 + \\ldots\\\\\n",
    "(1-\\frac{1}{2})f(n) &={} n/2 + n/4 + n/8 + n/16 + \\ldots = O(n)\\\\\n",
    "f(n) &={} 2O(n) = O(2n) = O(n)\n",
    "\\end{align}"
   ]
  },
  {
   "cell_type": "markdown",
   "metadata": {},
   "source": [
    "### 5.1.3 Application"
   ]
  },
  {
   "cell_type": "markdown",
   "metadata": {},
   "source": [
    "**Python heapq library**  \n",
    "heap elements could be tuples in which the first element is the priority and defines the sort order.\n",
    "```python\n",
    "import heapq\n",
    "# Usage\n",
    "heap = []  # creates an empty heap, O(1)\n",
    "heappush(heap, item)  # pushes a new item on the heap, O(logn)\n",
    "item = heappop(heap)  # pops the smallest item from the heap, O(logn)\n",
    "item = heap[0]  # smallest item on the heap without popping it, O(1)\n",
    "heapify(x)  # transform list into a heap, in-place, in linear time, O(n)\n",
    "item = heapreplace(heap, item) # pops and return smallest item, and adds a new item, the heap size is unchanged, O(logn)\n",
    "```\n",
    "Example:"
   ]
  },
  {
   "cell_type": "code",
   "execution_count": 9,
   "metadata": {},
   "outputs": [
    {
     "name": "stdout",
     "output_type": "stream",
     "text": [
      "[(-1, 2), (1, 3)]\n",
      "[(-5, 6), (1, 3), (-1, 2)]\n",
      "(-5, 6)\n",
      "[(-1, 2), (1, 3)]\n",
      "None\n",
      "[4, 6, 5]\n"
     ]
    }
   ],
   "source": [
    "import heapq\n",
    "heap = []\n",
    "heapq.heappush(heap, (-1, 2))\n",
    "heapq.heappush(heap, (1, 3))\n",
    "print(heap)  # [(-1, 2), (1, 3)]\n",
    "heapq.heappush(heap, (-5, 6))\n",
    "print(heap)  # [(-5, 6), (1, 3), (-1, 2)]\n",
    "\n",
    "print(heapq.heappop(heap))  # (-5, 6)\n",
    "print(heap)  # [(-1, 2), (1, 3)]\n",
    "\n",
    "heap = [6, 4, 5]\n",
    "print(heapq.heapify(heap))  # None\n",
    "print(heap)  # [4, 6, 5]"
   ]
  },
  {
   "cell_type": "markdown",
   "metadata": {},
   "source": [
    "#### Question 1: Find smallest k elements from an unsorted array of size n.\n",
    "\n",
    "*Solution 1*: sort -> $O(n\\log n)$\n",
    "\n",
    "*Solution 2*: (min heap)  \n",
    "* Step 1: heapify all elements -> $O(n)$\n",
    "* Step 2: Call pop() k times to get the k smallest elements -> $O(k\\log n)$\n",
    "* Total Time Complexity: $O(n + k\\log n)$"
   ]
  },
  {
   "cell_type": "code",
   "execution_count": 9,
   "metadata": {},
   "outputs": [
    {
     "name": "stdout",
     "output_type": "stream",
     "text": [
      "[1, 2]\n",
      "[1, 2]\n"
     ]
    }
   ],
   "source": [
    "import heapq\n",
    "\n",
    "class Solution(object):\n",
    "    def find_smallest_k(self, array, k):\n",
    "        \"\"\"\n",
    "        min heap 1\n",
    "        Time complexity: O(n + klogn)\n",
    "          heapify O(n)\n",
    "          heappop O(klogn)\n",
    "        Space complexity: O(1)\n",
    "        \"\"\"\n",
    "        if not array:\n",
    "            return []\n",
    "        \n",
    "        if len(array) < k:\n",
    "            return array\n",
    "        \n",
    "        smallest_k = []\n",
    "        \n",
    "        heapq.heapify(array)\n",
    "        for i in range(k):\n",
    "            smallest_k.append(heapq.heappop(array))\n",
    "            \n",
    "        return smallest_k\n",
    "    \n",
    "    def find_smallest_k(self, array, k):\n",
    "        \"\"\"\n",
    "        min heap 2\n",
    "        \"\"\"\n",
    "        if not array:\n",
    "            return []\n",
    "        \n",
    "        smallest_k = []\n",
    "        \n",
    "        heapq.heapify(array)\n",
    "        for i in range(min(k, len(array))):\n",
    "            smallest_k.append(heapq.heappop(array))\n",
    "            \n",
    "        return smallest_k\n",
    "    \n",
    "if __name__ == \"__main__\":\n",
    "    soln = Solution()\n",
    "    print(soln.find_smallest_k(array=[5,4,3,2,1], k=2))\n",
    "    print(soln.find_smallest_k(array=[5,4,3,2,1], k=2))"
   ]
  },
  {
   "cell_type": "markdown",
   "metadata": {},
   "source": [
    "*Solution 3*: (max heap of size k -> smallest k candidates)\n",
    "* Step 1: heapify the first k elements to form a max-heap of size=k (solution so far) -> $O(k)$\n",
    "* Step 2: Iterate over the rest (n-k) elements one by one.  \n",
    "  When we traverse a new element:  \n",
    "  compare with the LARGEST element of the previous smallest k candidates\n",
    "    * Case 1: new element >= top: ignore\n",
    "    * Case 2: new element < top: update (top -> new element)  \n",
    "  Time Complexity of Step 2: $O((n-k)\\log k)$\n",
    "* Total Time Complexity: $O(k + (n-k)\\log k)$"
   ]
  },
  {
   "cell_type": "code",
   "execution_count": 10,
   "metadata": {},
   "outputs": [
    {
     "name": "stdout",
     "output_type": "stream",
     "text": [
      "[2, 1]\n",
      "[2, 1]\n"
     ]
    }
   ],
   "source": [
    "import heapq\n",
    "\n",
    "class Solution(object):    \n",
    "    def find_smallest_k(self, array, k):\n",
    "        \"\"\"\n",
    "        max heap 1\n",
    "        Time complexity: O(k + (n-k)logk)\n",
    "          heapify O(k)\n",
    "          heappop O((n-k)logk)\n",
    "        Space complexity: O(1)\n",
    "        \"\"\"\n",
    "        if not array or len(array) < k:\n",
    "            return array\n",
    "        \n",
    "        largest_k = [-i for i in array[0:k]]\n",
    "        heapq.heapify(largest_k)\n",
    "        \n",
    "        for i in range(k, len(array)):\n",
    "            if -array[i] > largest_k[0]:\n",
    "                heapq.heappop(largest_k)\n",
    "                heapq.heappush(largest_k, -array[i])\n",
    "                \n",
    "        return [-i for i in largest_k]\n",
    "    \n",
    "if __name__ == \"__main__\":\n",
    "    soln = Solution()\n",
    "    print(soln.find_smallest_k(array=[5,4,3,2,1], k=2))\n",
    "    print(soln.find_smallest_k(array=[5,4,3,2,1], k=2))"
   ]
  },
  {
   "cell_type": "markdown",
   "metadata": {},
   "source": [
    "Compare  $O(n + k\\log n)$  v.s.  $O(k + (n-k)\\log k)$ \n",
    "* k << n:  $O(c * n)$   v.s.  $O(n\\log k)$\n",
    "* k ~~ n:  $O(n\\log n)$  v.s.  $O(n\\log n)$ "
   ]
  },
  {
   "cell_type": "markdown",
   "metadata": {},
   "source": [
    "#### Question 4: Find the kth largest number in an array."
   ]
  },
  {
   "cell_type": "code",
   "execution_count": 12,
   "metadata": {},
   "outputs": [
    {
     "name": "stdout",
     "output_type": "stream",
     "text": [
      "7\n",
      "7\n"
     ]
    }
   ],
   "source": [
    "import heapq\n",
    "\n",
    "class Solution(object):\n",
    "    def find_kth_largest_num(self, array, k):\n",
    "        \"\"\"\n",
    "        max heap: -1 * array\n",
    "        Time Complexity: O(n + n + klog(n))\n",
    "        \"\"\"\n",
    "        if not array or k > len(array):\n",
    "            return None\n",
    "        \n",
    "        max_heap = [-item for item in array]\n",
    "        heapq.heapify(max_heap)\n",
    "        \n",
    "        for index in range(0, k-1):\n",
    "            heapq.heappop(max_heap)\n",
    "            \n",
    "        res = max_heap[0]\n",
    "        return -res\n",
    "    \n",
    "    def find_kth_largest_num_2(self, array, k):\n",
    "        \"\"\"\n",
    "        min heap: array\n",
    "        Time Complexity: O(k + n + klog(n))\n",
    "        \"\"\"\n",
    "        if not array or k > len(array):\n",
    "            return None\n",
    "        \n",
    "        min_heap = [array[i] for i in range(0, k)]\n",
    "        heapq.heapify(min_heap)\n",
    "        \n",
    "        for index in range(k, len(array)):\n",
    "            \n",
    "            if array[index] > min_heap[0]:\n",
    "                heapq.heappop(min_heap)\n",
    "                heapq.heappush(min_heap, array[index])\n",
    "                \n",
    "        res = min_heap[0]\n",
    "        return res\n",
    "    \n",
    "if __name__ == \"__main__\":\n",
    "    soln = Solution()\n",
    "\n",
    "    array = [1, 3, 7, 9, 2, 4, 8, 6, 5]\n",
    "    print(soln.find_kth_largest_num(array, k=3))\n",
    "\n",
    "    array = [1, 3, 7, 9, 2, 4, 8, 6, 5]\n",
    "    print(soln.find_kth_largest_num_2(array, k=3))"
   ]
  },
  {
   "cell_type": "markdown",
   "metadata": {},
   "source": [
    "#### Question 3: Merge K Sorted Array\n",
    "Example\n",
    "```\n",
    "Input: \n",
    "    [[2, 3, 4]\n",
    "    [3, 4, 5]\n",
    "    [5, 6, 7]]\n",
    "Output:\n",
    "    [2, 3, 3, 4, 4, 5, 5, 6, 7]\n",
    "```\n",
    "\n",
    "*Solution*:  \n",
    "* Step 1: Create a min heap, push the first element of each array into the heap\n",
    "    * to store a tuple (value, array_index, element_index)\n",
    "* Step 2: Each time pops an element from the heap, and then push the next element into the heap\n",
    "\n",
    "Ex:\n",
    "```\n",
    "heapify --> (2,0,0), (3,1,0), (5,2,0)\n",
    "heappop --> (3,1,0), (5,2,0)\n",
    "heappush--> (3,1,0), (5,2,0), (3,0,1)\n",
    "heappop --> (3,0,1), (5,2,0)\n",
    "heappush--> (3,0,1), (5,2,0), (4,1,1)\n",
    "...\n",
    "```"
   ]
  },
  {
   "cell_type": "code",
   "execution_count": 11,
   "metadata": {},
   "outputs": [
    {
     "name": "stdout",
     "output_type": "stream",
     "text": [
      "[2, 3, 3, 4, 4, 5, 5, 6, 7]\n"
     ]
    }
   ],
   "source": [
    "import heapq\n",
    "\n",
    "class Solution(object):\n",
    "    def merge_K(self, arrays):\n",
    "        \"\"\"\n",
    "        Time Complexity: O(k + nlogk)\n",
    "          heapify O(k)\n",
    "          heappop and heappush O(nlogk)\n",
    "        \"\"\"\n",
    "        if not arrays or not arrays[0]:\n",
    "            return []\n",
    "        \n",
    "        heap = []\n",
    "        result = []\n",
    "        \n",
    "        for i in range(len(arrays)):\n",
    "            if arrays[i]:\n",
    "                heap.append((arrays[i][0], i, 0))\n",
    "                \n",
    "        heapq.heapify(heap)\n",
    "        \n",
    "        while heap:\n",
    "            val, array_index, element_index = heapq.heappop(heap)\n",
    "            result.append(val)\n",
    "            if element_index + 1 < len(arrays[array_index]):\n",
    "                heapq.heappush(heap, (arrays[array_index][element_index+1], array_index, element_index+1))\n",
    "                \n",
    "        return result\n",
    "    \n",
    "if __name__ == \"__main__\":\n",
    "    soln = Solution()\n",
    "    arrays = [[2, 3, 4],\n",
    "              [3, 4, 5],\n",
    "              [5, 6, 7]]\n",
    "    print(soln.merge_K(arrays))"
   ]
  },
  {
   "cell_type": "markdown",
   "metadata": {},
   "source": [
    "Additional: Heapify Time Complexity\n",
    "\n",
    "The number of operations required for shift_down and shift_up is proportional to the distance the node may have to move. For shift_down, it is the distance from the bottom of the tree, so shift_down is expensive for nodes at the top of the tree. With shift_up, the work is proportional to the distance from the top of the tree, so shift_up is expensive for nodes at the bottom of the tree. Although both operations are $O(n\\log n)$ in the worst case, in a heap, only one node is at the top whereas half the nodes lie in the bottom layer. So it shouldn't be too surprising that if we have to apply an operation to every node, we would prefer shift_down over shift_up.\n",
    "\n",
    "The buildHeap function takes an array of unsorted items and moves them until they all satisfy the heap property, thereby producing a valid heap. There are two approaches one might take for buildHeap using the shift_up and shift_down operations we've described:\n",
    "* Start at the top of the heap (the begining of the array) and call shift_up on each item. At each step, the previously shifted item (the items before the current item in the array) form a valid heap, and shifting the next item up places it into a valid position in the heap. After shifting up each node, all items satisfy the heap property.\n",
    "* Or, go in the opposite direction: start at the end of the array and move backwards towards the front. At each iteration, you shift an item down until it is in the correct location.\n",
    "\n",
    "Both of these solutions will produce a valid heap. The question is: which implementation for buildHeap is more efficient? Unsurprisingly, it is the second operation that uses shift_down.\n",
    "\n",
    "Let $h = \\log n$ represent the height of the heap. The work required for the shift_down approach is given by the sum:\n",
    "$$(0 * n/2) + (1 * n/4) + (2 * n/8) + \\ldots + (h * 1). $$\n",
    "Each item in the sum has the maximum distance a node at the given height will have to move (zero for the bottom layer, h for the root) multiplied by the number of nodes at that height. In contrast, the sum for calling shift_up on each node is:\n",
    "$$(h * n/2) + ((h-1) * n/4) + ((h-2) * n/8) + \\ldots + (0 * 1). $$\n",
    "It should be clear that the second sum is larger. The first item alone if $hn/2 = 1/2 n \\log n$, so this approach has complexity at best $O(n\\log n)$. But how do we prove that the sum for the shift_down approach is indeed O(n)? One method (there are other analyses that also work) is to turn the finite sum into an infinite series and then use Taylor series. We may ignore the first term, which is zero:\n",
    "![Time Complexity](source/lesson7_heap_timecomplexity.png)\n"
   ]
  },
  {
   "cell_type": "markdown",
   "metadata": {},
   "source": [
    "#### Question 4: How to implement a stack API using a heap?\n",
    "\n",
    "Recall:  \n",
    "Stack property: LIFO  \n",
    "Track the insertion order using the heap property  \n",
    "Need a global timestamp for each element, which is incremented on each insert."
   ]
  },
  {
   "cell_type": "code",
   "execution_count": 13,
   "metadata": {},
   "outputs": [
    {
     "name": "stdout",
     "output_type": "stream",
     "text": [
      "3\n",
      "2\n",
      "1\n",
      "1\n"
     ]
    }
   ],
   "source": [
    "import heapq\n",
    "\n",
    "class Stack(object):\n",
    "    def __init__(self):\n",
    "        self.counter = 0\n",
    "        self.buffer = []  # store a tuple (-counter, item)\n",
    "        \n",
    "    def push(self, item):\n",
    "        heapq.heappush(self.buffer, (-self.counter, item))\n",
    "        self.counter += 1\n",
    "        \n",
    "    def pop(self):\n",
    "        if len(self.buffer) == 0:\n",
    "            raise Exception(\"Empty Stack\")\n",
    "        return heapq.heappop(self.buffer)[1]\n",
    "    \n",
    "    def peek(self):\n",
    "        if len(self.buffer) == 0:\n",
    "            raise Exception(\"Empty Stack\")\n",
    "        return self.buffer[0][1]\n",
    "    \n",
    "if __name__ == \"__main__\":\n",
    "    s = Stack()\n",
    "    s.push(1)\n",
    "    s.push(2)\n",
    "    s.push(3)\n",
    "\n",
    "    print(s.pop())\n",
    "    print(s.pop())\n",
    "    print(s.peek())\n",
    "    print(s.pop())"
   ]
  },
  {
   "cell_type": "markdown",
   "metadata": {},
   "source": [
    "#### Question 5: Compute median of online data in real time\n",
    "Write code to compute the running median of a sequence of numbers. The sequence comes to you in a straming fashion -- you cannot read an earlier value, and you need to output the median after reading in each new element.\n",
    "\n",
    "Example  \n",
    "```\n",
    "Input =  [1,   0,  3,  5,  2,   0, 1]\n",
    "Output = [1, 0.5,  1,  2,  2, 1.5, 1]\n",
    "```\n",
    "\n",
    "*Solution*:  \n",
    "1. Brute Force: store all the elements seen so far in an array, and compute the median using \"find k-th smallest element in linear time\". For first n element, this takes $O(n^2)$.\n",
    "2. Max-Heap, Min-Heap: max-heap for the smaller half, min-heap for the larger half. Let L and H be the contents of the min-heap and max-heap, respectively.\n",
    "  1. Read in 1: L = [1], H = [ ], L[0] = 1, H[0] = None, median = 1\n",
    "  2. Read in 0: L = [1], H = [0], L[0] = 1, H[0] = 0, median = (1+0)/2 = 0.5\n",
    "  3. Read in 3: L = [1, 3], H = [0], L[0] = 1, H[0] = 0, median = 1\n",
    "  4. Read in 5: L = [3, 5], H = [1, 0], L[0] = 3, H[0] = 1, median = (3+1)/2 = 2\n",
    "  5. Read in 2: L = [2, 3, 5], H = [1, 0], L[0] = 2, H[0] = 1, median = 2\n",
    "  6. Read in 0: L = [2, 3, 5], H = [1, 0, 0], L[0] = 3, H[0] = 1, median = (2+1)/2 = 1.5\n",
    "  7. Read in 1: L = [1, 2, 3, 5], H = [1, 0], L[0] = 1, H[0] = 1, median = 1"
   ]
  },
  {
   "cell_type": "code",
   "execution_count": 14,
   "metadata": {},
   "outputs": [
    {
     "name": "stdout",
     "output_type": "stream",
     "text": [
      "[1, 0.5, 1, 2.0, 2, 1.5, 1]\n"
     ]
    }
   ],
   "source": [
    "# max-heap element wrapper\n",
    "class max_heap_int(object):\n",
    "    def __init__(self, val):\n",
    "        self.val = val\n",
    "    def __lt__(self, other):\n",
    "        return self.val > other.val\n",
    "    def __eq__(self, other):\n",
    "        return self.val == other.val\n",
    "    def __str__(self):\n",
    "        return str(self.val)\n",
    "\n",
    "import heapq\n",
    "\n",
    "class Solution(object):\n",
    "    def online_median(self, inputs):\n",
    "        min_heap = []\n",
    "        max_heap = []\n",
    "        res = []\n",
    "\n",
    "        for i in range(len(inputs)):\n",
    "            if not min_heap:\n",
    "                heapq.heappush(min_heap, inputs[i])\n",
    "            else:\n",
    "                if inputs[i] >= min_heap[0]:\n",
    "                    heapq.heappush(min_heap, inputs[i])\n",
    "                else:\n",
    "                    heapq.heappush(max_heap, max_heap_int(inputs[i]))\n",
    "            \n",
    "            # ensure min_heap and max_heap have equal number of elements if input size is even\n",
    "            # otherwise, min_heap has one more element thatn max_heap\n",
    "            if len(min_heap) > len(max_heap) + 1:\n",
    "                heapq.heappush(max_heap, max_heap_int(min_heap[0]))\n",
    "                heapq.heappop(min_heap)\n",
    "            elif len(max_heap) > len(min_heap):\n",
    "                heapq.heappush(min_heap, max_heap[0].val)\n",
    "                heapq.heappop(max_heap)\n",
    "            if len(min_heap) == len(max_heap):\n",
    "                res.append(0.5 * (min_heap[0] + max_heap[0].val))\n",
    "            else:\n",
    "                res.append(min_heap[0])\n",
    "                \n",
    "        return res\n",
    "    \n",
    "if __name__ == \"__main__\":\n",
    "    inputs = [1, 0, 3, 5, 2, 0, 1]\n",
    "\n",
    "    soln = Solution()\n",
    "    print(soln.online_median(inputs))"
   ]
  },
  {
   "cell_type": "markdown",
   "metadata": {},
   "source": [
    "#### Question 6: [Laicode 349 Medium] [Smallest Range](https://app.laicode.io/app/problem/349)\n",
    "\n",
    "Given k sorted integer arrays, pick k elements (one element from each of sorted arrays), what is the smallest range.\n",
    "\n",
    "Assumptions:\n",
    "* k >= 2\n",
    "* None of the k arrays is null or empty\n",
    "\n",
    "Examples:\n",
    "```\n",
    "{ { 1, 4, 6 },\n",
    "\n",
    "  { 2, 5 },\n",
    "\n",
    "  { 8, 10, 15} }\n",
    "\n",
    "pick one element from each of 3 arrays, the smallest range is {5, 8} (pick 6 from the first array, pick 5 from the second array and pick 8 from the third array).\n",
    "```"
   ]
  },
  {
   "cell_type": "code",
   "execution_count": null,
   "metadata": {
    "collapsed": true
   },
   "outputs": [],
   "source": [
    "import heapq\n",
    "\n",
    "class Solution(object):\n",
    "    def smallestRange(self, arrays):\n",
    "        \"\"\"\n",
    "        input: int[][] arrays\n",
    "        return: int[]\n",
    "        \"\"\"\n",
    "        # write your solution here\n",
    "        if not arrays or not arrays[0]:\n",
    "            return []\n",
    "\n",
    "        heap = []\n",
    "        K = len(arrays)\n",
    "        max_val = float(\"-inf\")\n",
    "\n",
    "        for i in range(K):\n",
    "            if len(arrays[i]):\n",
    "                heap.append((arrays[i][0], i, 0))\n",
    "                max_val = max(max_val, arrays[i][0])\n",
    "        heapq.heapify(heap)\n",
    "\n",
    "        # result is a 2-element array, [lower bound, upper bound]\n",
    "        result = [float('-inf'), float('inf')]\n",
    "        while len(heap) == K:\n",
    "            min_val, index_array, index_element = heapq.heappop(heap)\n",
    "            if max_val - min_val < result[1] - result[0]:\n",
    "                result = [min_val, max_val]\n",
    "            if index_element + 1 < len(arrays[index_array]):\n",
    "                max_val = max(max_val, arrays[index_array][index_element + 1])\n",
    "                heapq.heappush(heap, (arrays[index_array][index_element + 1], index_array, index_element + 1))\n",
    "\n",
    "        return result "
   ]
  },
  {
   "cell_type": "markdown",
   "metadata": {},
   "source": [
    "Homework:  \n",
    "Leetcode 23, 215, 347"
   ]
  },
  {
   "cell_type": "code",
   "execution_count": null,
   "metadata": {
    "collapsed": true
   },
   "outputs": [],
   "source": []
  },
  {
   "cell_type": "markdown",
   "metadata": {
    "collapsed": true
   },
   "source": [
    "## 5.2 Leetcode Training (Basic)"
   ]
  },
  {
   "cell_type": "code",
   "execution_count": null,
   "metadata": {
    "collapsed": true
   },
   "outputs": [],
   "source": []
  },
  {
   "cell_type": "markdown",
   "metadata": {},
   "source": [
    "## 5.3 Leetcode Practice (Advanced)"
   ]
  },
  {
   "cell_type": "code",
   "execution_count": null,
   "metadata": {
    "collapsed": true
   },
   "outputs": [],
   "source": []
  }
 ],
 "metadata": {
  "kernelspec": {
   "display_name": "Python 3",
   "language": "python",
   "name": "python3"
  },
  "language_info": {
   "codemirror_mode": {
    "name": "ipython",
    "version": 3
   },
   "file_extension": ".py",
   "mimetype": "text/x-python",
   "name": "python",
   "nbconvert_exporter": "python",
   "pygments_lexer": "ipython3",
   "version": "3.6.1"
  }
 },
 "nbformat": 4,
 "nbformat_minor": 2
}
