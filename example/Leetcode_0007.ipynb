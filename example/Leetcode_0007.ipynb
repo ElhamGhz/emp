{
 "cells": [
  {
   "cell_type": "markdown",
   "metadata": {},
   "source": [
    "#### [Leetcode 0007 Easy] [Reverse Integer](https://leetcode.com/problems/reverse-integer/)\n",
    "\n",
    "Given a 32-bit signed integer, reverse digits of an integer.\n",
    "\n",
    "Example 1:\n",
    "```\n",
    "Input: 123\n",
    "Output: 321\n",
    "```\n",
    "\n",
    "Example 2:\n",
    "```\n",
    "Input: -123\n",
    "Output: -321\n",
    "```\n",
    "\n",
    "Example 3:\n",
    "```\n",
    "Input: 120\n",
    "Output: 21\n",
    "```\n",
    "\n",
    "Note:\n",
    "Assume we are dealing with an environment which could only store integers within the 32-bit signed integer range: $[−2^{31},  2^{31} − 1]$. For the purpose of this problem, assume that your function returns 0 when the reversed integer overflows."
   ]
  },
  {
   "cell_type": "markdown",
   "metadata": {},
   "source": [
    "*Solution*:\n",
    "\n",
    "Reverse digit by digit. Be careful about the overflow and negative numbers (especially in Python)\n",
    "\n",
    "Time complexity: O(log(x)) ~ O(1)\n",
    "\n",
    "Space complexity: O(log(x)) ~ O(1)"
   ]
  },
  {
   "cell_type": "code",
   "execution_count": 2,
   "metadata": {},
   "outputs": [
    {
     "name": "stdout",
     "output_type": "stream",
     "text": [
      "True\n",
      "True\n",
      "True\n"
     ]
    }
   ],
   "source": [
    "class Solution:\n",
    "    def reverse(self, x: int) -> int:\n",
    "        # Edge case\n",
    "        if not x:\n",
    "            return 0\n",
    "        \n",
    "        result = 0\n",
    "        sign = 1 if x > 0 else -1\n",
    "        x = abs(x)        \n",
    "        \n",
    "        # reverse\n",
    "        while x:\n",
    "            digit = x % 10\n",
    "            result = result * 10 + digit\n",
    "            x = x // 10\n",
    "            \n",
    "        # get the sign\n",
    "        result = sign * result\n",
    "        \n",
    "        # deal with overflow\n",
    "        max_val = 2 ** 31 - 1\n",
    "        min_val = - 2 ** 31\n",
    "        if result > max_val or result < min_val:\n",
    "            result = 0\n",
    "            \n",
    "        return result\n",
    "    \n",
    "if __name__ == \"__main__\":\n",
    "    soln = Solution()\n",
    "    \n",
    "    print(soln.reverse(x=123) == 321)\n",
    "    print(soln.reverse(x=-123) == -321)\n",
    "    print(soln.reverse(x=120) == 21)"
   ]
  },
  {
   "cell_type": "code",
   "execution_count": null,
   "metadata": {},
   "outputs": [],
   "source": []
  }
 ],
 "metadata": {
  "kernelspec": {
   "display_name": "Python 3",
   "language": "python",
   "name": "python3"
  },
  "language_info": {
   "codemirror_mode": {
    "name": "ipython",
    "version": 3
   },
   "file_extension": ".py",
   "mimetype": "text/x-python",
   "name": "python",
   "nbconvert_exporter": "python",
   "pygments_lexer": "ipython3",
   "version": "3.6.5"
  }
 },
 "nbformat": 4,
 "nbformat_minor": 2
}
