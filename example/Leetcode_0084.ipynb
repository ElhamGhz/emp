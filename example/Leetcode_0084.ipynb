{
 "cells": [
  {
   "cell_type": "markdown",
   "metadata": {},
   "source": [
    "#### [Leetcode 84 Hard] [Largest Rectangle in Histogram](Leetcode_84.ipynb)\n",
    "\n",
    "Given n non-negative integers representing the histogram's bar height where the width of each bar is 1, find the area of largest rectangle in the histogram.\n",
    "\n",
    "<img src=\"source/Leetcode_84_1.png\">\n",
    "\n",
    "Above is a histogram where width of each bar is 1, given height = [2,1,5,6,2,3].\n",
    "\n",
    "<img src=\"source/Leetcode_84_2.png\">\n",
    "\n",
    "The largest rectangle is shown in the shaded area, which has area = 10 unit.\n",
    "\n",
    " \n",
    "\n",
    "Example:\n",
    "```\n",
    "Input: [2,1,5,6,2,3]\n",
    "Output: 10\n",
    "```"
   ]
  },
  {
   "cell_type": "code",
   "execution_count": 7,
   "metadata": {
    "collapsed": true
   },
   "outputs": [],
   "source": [
    "class Solution:\n",
    "    def largestRectangleArea(self, heights):\n",
    "        \"\"\"\n",
    "        :type heights: List[int]\n",
    "        :rtype: int\n",
    "        \"\"\"\n",
    "        stack = []\n",
    "        area = 0\n",
    "        \n",
    "        for i in range(0, len(heights) + 1):\n",
    "            while stack and (i == len(heights) or heights[i] < heights[stack[-1]]):\n",
    "                height = heights[stack.pop()]\n",
    "                width = 1\n",
    "                if stack:\n",
    "                    width = i - 1 - stack[-1]\n",
    "                area = max(area, height * width)\n",
    "            \n",
    "            stack.append(i)\n",
    "            \n",
    "        return area"
   ]
  },
  {
   "cell_type": "code",
   "execution_count": 8,
   "metadata": {},
   "outputs": [
    {
     "name": "stdout",
     "output_type": "stream",
     "text": [
      "10\n",
      "12\n"
     ]
    }
   ],
   "source": [
    "soln = Solution()\n",
    "print(soln.largestRectangleArea(heights=[2,1,5,6,2,3]))\n",
    "print(soln.largestRectangleArea(heights=[6,2,5,4,5,1,6]))"
   ]
  },
  {
   "cell_type": "code",
   "execution_count": null,
   "metadata": {
    "collapsed": true
   },
   "outputs": [],
   "source": []
  }
 ],
 "metadata": {
  "kernelspec": {
   "display_name": "Python 3",
   "language": "python",
   "name": "python3"
  },
  "language_info": {
   "codemirror_mode": {
    "name": "ipython",
    "version": 3
   },
   "file_extension": ".py",
   "mimetype": "text/x-python",
   "name": "python",
   "nbconvert_exporter": "python",
   "pygments_lexer": "ipython3",
   "version": "3.6.3"
  }
 },
 "nbformat": 4,
 "nbformat_minor": 2
}
