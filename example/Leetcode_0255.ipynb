{
 "cells": [
  {
   "cell_type": "markdown",
   "metadata": {},
   "source": [
    "#### [Leetcode 255 Medium] [Verify Preorder Sequence in Binary Search Tree](https://leetcode.com/problems/verify-preorder-sequence-in-binary-search-tree/)\n",
    "\n",
    "Given an array of numbers, verify whether it is the correct preorder traversal sequence of a binary search tree.\n",
    "\n",
    "You may assume each number in the sequence is unique.\n",
    "\n",
    "Consider the following binary search tree: \n",
    "```\n",
    "     5\n",
    "    / \\\n",
    "   2   6\n",
    "  / \\\n",
    " 1   3\n",
    "```\n",
    "\n",
    "Example 1:\n",
    "```\n",
    "Input: [5,2,6,1,3]\n",
    "Output: false\n",
    "```\n",
    "\n",
    "Example 2:\n",
    "```\n",
    "Input: [5,2,1,3,6]\n",
    "Output: true\n",
    "```\n",
    "\n",
    "Follow up:\n",
    "* Could you do it using only constant space complexity?"
   ]
  },
  {
   "cell_type": "markdown",
   "metadata": {},
   "source": [
    "<font color='blue'>Solution: </font>  stack  \n",
    "\n",
    "二叉搜索树的性质是左<根<右，如果用中序遍历得到的结果就是有序数组，而先序遍历的结果就不是有序数组了，但是难道一点规律都没有了吗，其实规律还是有的，根据二叉搜索树的性质，当前节点的值一定大于其左子树中任何一个节点值，而且其右子树中的任何一个节点值都不能小于当前节点值，那么我们可以用这个性质来验证。\n",
    "\n",
    "先设一个最小值low表示当前节点的最大下确界，然后遍历数组，如果当前值小于这个最小值low，返回false，对于根节点，我们将其压入栈中，然后往后遍历，如果遇到的数字比栈顶元素小，说明是其左子树的点，继续压入栈中，直到遇到的数字比栈顶元素大，那么就是右边的值了，我们需要找到是哪个节点的右子树，所以我们更新low值并删掉栈顶元素，然后继续和下一个栈顶元素比较，如果还是大于，则继续更新low值和删掉栈顶，直到栈为空或者当前栈顶元素大于当前值停止，压入当前值，这样如果遍历完整个数组之前都没有返回false的话，最后返回true即可。\n",
    "\n",
    "* Time Complexity: O(n)\n",
    "* Space Complexity: O(n)"
   ]
  },
  {
   "cell_type": "code",
   "execution_count": 52,
   "metadata": {
    "collapsed": true
   },
   "outputs": [],
   "source": [
    "class Solution(object):\n",
    "    def verifyPreorder(self, preorder):\n",
    "        \"\"\"\n",
    "        :type preorder: List[int]\n",
    "        :rtype: bool\n",
    "        \"\"\"\n",
    "        low = -float(\"inf\")\n",
    "        stack = []\n",
    "        \n",
    "        for num in preorder:\n",
    "            if num < low:\n",
    "                return False\n",
    "            \n",
    "            while stack and num > stack[-1]:\n",
    "                low = stack[-1]\n",
    "                stack.pop()\n",
    "                \n",
    "            stack.append(num)\n",
    "            \n",
    "        return True"
   ]
  },
  {
   "cell_type": "code",
   "execution_count": 41,
   "metadata": {},
   "outputs": [
    {
     "name": "stdout",
     "output_type": "stream",
     "text": [
      "False\n",
      "True\n"
     ]
    }
   ],
   "source": [
    "soln = Solution()\n",
    "print(soln.verifyPreorder(preorder=[5,2,6,1,3]))\n",
    "print(soln.verifyPreorder(preorder=[5,2,1,3,6]))"
   ]
  },
  {
   "cell_type": "markdown",
   "metadata": {},
   "source": [
    "<font color='blue'>Solution: </font>  Two Pointers\n",
    "\n",
    "为了使空间复杂度为常量，我们不能使用stack，所以我们直接修改preorder，将low值存在preorder的特定位置即可，前提是不能影响当前的遍历\n",
    "\n",
    "* Time Complexity: O(n)\n",
    "* Space Complexity: O(1)"
   ]
  },
  {
   "cell_type": "code",
   "execution_count": 42,
   "metadata": {
    "collapsed": true
   },
   "outputs": [],
   "source": [
    "class Solution(object):\n",
    "    def verifyPreorder(self, preorder):\n",
    "        \"\"\"\n",
    "        :type preorder: List[int]\n",
    "        :rtype: bool\n",
    "        \"\"\"\n",
    "        low = -float(\"inf\")\n",
    "        left, right = 0, 0\n",
    "        \n",
    "        while right < len(preorder):\n",
    "            if preorder[right] < low:\n",
    "                return False\n",
    "            \n",
    "            while left - 1 >= 0 and preorder[right] > preorder[left - 1]:\n",
    "                low = preorder[left - 1]\n",
    "                left -= 1\n",
    "            \n",
    "            preorder[left] = preorder[right]\n",
    "            left += 1\n",
    "            right += 1\n",
    "            # print(preorder, low)\n",
    "            \n",
    "        return True"
   ]
  },
  {
   "cell_type": "code",
   "execution_count": 43,
   "metadata": {},
   "outputs": [
    {
     "name": "stdout",
     "output_type": "stream",
     "text": [
      "False\n",
      "True\n"
     ]
    }
   ],
   "source": [
    "soln = Solution()\n",
    "print(soln.verifyPreorder(preorder=[5,2,6,1,3]))\n",
    "print(soln.verifyPreorder(preorder=[5,2,1,3,6]))"
   ]
  },
  {
   "cell_type": "markdown",
   "metadata": {},
   "source": [
    "<font color='blue'>Solution: </font>  Recursion\n",
    "\n",
    "下面这种方法使用了分治法，跟之前那道验证二叉搜索树的题Validate Binary Search Tree的思路很类似，我们在递归函数中维护一个下界lower和上届upper，那么当前遍历到的节点值必须在(lower, upper)区间之内，然后我们在给定的区间内搜第一个大于当前节点值的点，然后以此为分界，左右两部分分别调用递归函数，注意左半部分的upper更新为当前节点值val，表明左子树的节点值都必须小于当前节点值，而右半部分的递归的lower更新为当前节点值val，表明右子树的节点值都必须大于当前节点值，如果左右两部分的返回结果均为真，则整体返回真，参见代码如下：\n",
    "\n",
    "root -- left -- right\n",
    "\n",
    "* Time Complexity: O(n)\n",
    "* Space Complexity: O(logn)"
   ]
  },
  {
   "cell_type": "code",
   "execution_count": 44,
   "metadata": {
    "collapsed": true
   },
   "outputs": [],
   "source": [
    "class Solution(object):\n",
    "    def verifyPreorder(self, preorder):\n",
    "        \"\"\"\n",
    "        :type preorder: List[int]\n",
    "        :rtype: bool\n",
    "        \"\"\"\n",
    "        if not preorder:\n",
    "            return True\n",
    "        lower = -float('inf')\n",
    "        upper = float('inf')\n",
    "        \n",
    "        return self.helper(preorder, 0, len(preorder) - 1, lower, upper)\n",
    "    \n",
    "    def helper(self, preorder, start, end, lower, upper):\n",
    "        # Base Case \n",
    "        if start > end:\n",
    "            return True\n",
    "        \n",
    "        # what to do in the current layer\n",
    "        root_val = preorder[start]\n",
    "        #print(preorder[start : end + 1], lower, upper)\n",
    "        if root_val < lower or root_val > upper:\n",
    "            return False\n",
    "        \n",
    "        # what to get from your children\n",
    "        middle = end + 1\n",
    "        for index in range(start + 1, end + 1):\n",
    "            if preorder[index] > root_val:\n",
    "                middle = index\n",
    "                break\n",
    "        left_result = self.helper(preorder, start + 1, middle - 1, lower, root_val)\n",
    "        right_result = self.helper(preorder, middle, end, root_val, upper)\n",
    "        \n",
    "        # what to return to your parent\n",
    "        return left_result and right_result\n",
    "        "
   ]
  },
  {
   "cell_type": "code",
   "execution_count": 45,
   "metadata": {},
   "outputs": [
    {
     "name": "stdout",
     "output_type": "stream",
     "text": [
      "False\n",
      "True\n"
     ]
    }
   ],
   "source": [
    "soln = Solution()\n",
    "print(soln.verifyPreorder(preorder=[5,2,6,1,3]))\n",
    "print(soln.verifyPreorder(preorder=[5,2,1,3,6]))"
   ]
  },
  {
   "cell_type": "markdown",
   "metadata": {},
   "source": [
    "#### Follow up: Construct Binary Search Tree from Preorder Sequence\n"
   ]
  },
  {
   "cell_type": "code",
   "execution_count": 54,
   "metadata": {
    "collapsed": true
   },
   "outputs": [],
   "source": [
    "from helper import TreeNode\n",
    "from helper import BinaryTree"
   ]
  },
  {
   "cell_type": "code",
   "execution_count": 83,
   "metadata": {
    "collapsed": true
   },
   "outputs": [],
   "source": [
    "class Solution(object):\n",
    "    def construct_BST_from_Preorder(self, preorder):\n",
    "        \"\"\"\n",
    "        :type preorder: List[int]\n",
    "        :rtype: bool\n",
    "        \"\"\"\n",
    "        if not preorder:\n",
    "            return True\n",
    "        lower = -float('inf')\n",
    "        upper = float('inf')\n",
    "        \n",
    "        return self.helper(preorder, 0, len(preorder) - 1, lower, upper)\n",
    "    \n",
    "    def helper(self, preorder, start, end, lower, upper):\n",
    "        # Base Case \n",
    "        if start > end:\n",
    "            return True, None\n",
    "        \n",
    "        # what to do in the current layer\n",
    "        root_val = preorder[start]      \n",
    "        \n",
    "        if root_val < lower or root_val > upper:\n",
    "            return False, None       \n",
    "        \n",
    "        # what to get from your children\n",
    "        middle = end + 1\n",
    "        for index in range(start + 1, end + 1):\n",
    "            if preorder[index] > root_val:\n",
    "                middle = index\n",
    "                break\n",
    "        \n",
    "        #print(preorder[start : end + 1], lower, upper, middle)\n",
    "        \n",
    "        left_result, left_child = self.helper(preorder, start + 1, middle - 1, lower, root_val)\n",
    "        right_result, right_child = self.helper(preorder, middle, end, root_val, upper)\n",
    "        \n",
    "        # what to return to your parent\n",
    "        if left_result and right_result:\n",
    "            root = TreeNode(root_val)\n",
    "            root.left = left_child\n",
    "            root.right = right_child\n",
    "            return left_result and right_result, root\n",
    "        else:\n",
    "            return False, None"
   ]
  },
  {
   "cell_type": "code",
   "execution_count": 84,
   "metadata": {},
   "outputs": [
    {
     "name": "stdout",
     "output_type": "stream",
     "text": [
      "[]\n",
      "[[5], [2, 6], [1, 3, ' ', ' ']]\n"
     ]
    }
   ],
   "source": [
    "binary_tree = BinaryTree()\n",
    "soln = Solution()\n",
    "result, root = soln.construct_BST_from_Preorder(preorder=[5,2,6,1,3])\n",
    "print(binary_tree.BFS_traversal(root))\n",
    "\n",
    "result, root = soln.construct_BST_from_Preorder(preorder=[5,2,1,3,6])\n",
    "print(binary_tree.BFS_traversal(root))"
   ]
  },
  {
   "cell_type": "markdown",
   "metadata": {},
   "source": [
    "#### Variation 1: Verify Postorder Sequence in Binary Search Tree\n",
    "\n",
    "Given an array of numbers, verify whether it is the correct postorder traversal sequence of a binary search tree.\n",
    "\n",
    "You may assume each number in the sequence is unique.\n",
    "\n",
    "Consider the following binary search tree: \n",
    "```\n",
    "     5\n",
    "    / \\\n",
    "   2   6\n",
    "  / \\\n",
    " 1   3\n",
    "```\n",
    "\n",
    "Example 1:\n",
    "```\n",
    "Input: [2,1,3,6,5]\n",
    "Output: false\n",
    "```\n",
    "\n",
    "Example 2:\n",
    "```\n",
    "Input: [1,3,2,6,5]\n",
    "Output: true\n",
    "```\n",
    "\n",
    "Follow up:\n",
    "* Could you do it using only constant space complexity?"
   ]
  },
  {
   "cell_type": "markdown",
   "metadata": {},
   "source": [
    "<font color='blue'>Solution: </font>  stack  \n",
    "\n",
    "后序序列的顺序是left - right - root，而先序的顺序是root - left - right。\n",
    "\n",
    "我们同样可以用本题的方法解，不过是从数组的后面向前面遍历，因为root在后面了。而且因为从后往前看是先遇到right再遇到left，所以我们要记录的是限定的最大值，而不再是最小值，栈pop的条件也变成pop所有比当前数大得数。栈的增长方向也是从高向低了。"
   ]
  },
  {
   "cell_type": "code",
   "execution_count": 50,
   "metadata": {
    "collapsed": true
   },
   "outputs": [],
   "source": [
    "class Solution(object):\n",
    "    def verifyPostorder(self, preorder):\n",
    "        \"\"\"\n",
    "        :type preorder: List[int]\n",
    "        :rtype: bool\n",
    "        \"\"\"\n",
    "        upper = float(\"inf\")\n",
    "        stack = []\n",
    "        \n",
    "        for num in preorder[::-1]:\n",
    "            if num > upper:\n",
    "                return False\n",
    "            \n",
    "            while stack and num < stack[-1]:\n",
    "                upper = stack[-1]\n",
    "                stack.pop()\n",
    "                \n",
    "            stack.append(num)\n",
    "            \n",
    "        return True"
   ]
  },
  {
   "cell_type": "code",
   "execution_count": 51,
   "metadata": {},
   "outputs": [
    {
     "name": "stdout",
     "output_type": "stream",
     "text": [
      "True\n",
      "True\n"
     ]
    }
   ],
   "source": [
    "soln = Solution()\n",
    "print(soln.verifyPostorder(preorder=[2,1,3,6,5]))\n",
    "print(soln.verifyPostorder(preorder=[1,3,2,6,5]))"
   ]
  },
  {
   "cell_type": "markdown",
   "metadata": {},
   "source": [
    "#### Variation: Verify Level Order Sequence in Binary Search Tree\n",
    "\n",
    "Check if the given array can represent Level Order Traversal of Binary Search Tree\n",
    "Given an array of size n. The problem is to check whether the given array can represent the level order traversal of a Binary Search Tree or not.\n",
    "\n",
    "Examples:\n",
    "```\n",
    "Input : arr = [7, 4, 12, 3, 6, 8, 1, 5, 10]\n",
    "Output : True\n",
    "For the given arr the Binary Search Tree is:\n",
    "         7        \n",
    "       /    \\       \n",
    "      4     12      \n",
    "     / \\    /     \n",
    "    3   6  8    \n",
    "   /   /    \\\n",
    "  1   5     10\n",
    "\n",
    "Input : arr = [11, 6, 13, 5, 12, 10]\n",
    "Output : False\n",
    "The given arr do not represent the level\n",
    "order traversal of a BST.\n",
    "```"
   ]
  },
  {
   "cell_type": "markdown",
   "metadata": {},
   "source": [
    "<font color='blue'>Solution: </font>  Queue \n",
    "    \n",
    "给一个是通过对BST做BFS得到的一个序列（层次遍历得到的序列），如何判断能否生成对应的BST，有点类似蠡口耳舞武，返回true or false。\n",
    "\n",
    "思路是用queue存当前可以插值的范围，依次遍历序列里的值，如果queue前端的范围不合适就pop，合适的话将该范围扩成两个新的范围push进队列末尾。如果queue为空就return false。Follow up是返回构造的BST， 这个很简单，只要用queue存((int, int), TreeNode)就行了，插入范围的时候判断是插在左孩子还是右孩子。\n",
    "\n",
    "The idea is to use a queue data structure. Every element of queue has a structure say NodeDetails which stores details of a tree node. The details are node’s data, and two variables min and max where min stores the lower limit for the node values which can be a part of the left subtree and max stores the upper limit for the node values which can be a part of the right subtree for the specified node in NodeDetails structure variable. For the 1st array value arr[0], create a NodeDetails structure having arr[0] as node’s data and min = INT_MIN and max = INT_MAX. Add this structure variable to the queue. This Node will be the root of the tree. Move to 2nd element in arr[] and then perform the following steps:\n",
    "\n",
    "1. Pop NodeDetails from the queue in temp.\n",
    "2. Check whether the current array element can be a left child of the node in temp with the help of min and temp.data values. If it can, then create a new NodeDetails structure for this new array element value with its proper ‘min’ and ‘max’ values and push it to the queue, and move to next element in arr[].\n",
    "3. Check whether the current array element can be a right child of the node in temp with the help of max and temp.data values. If it can, then create a new NodeDetails structure for this new array element value with its proper ‘min’ and ‘max’ values and push it to the queue, and move to next element in arr[].\n",
    "4. Repeat steps 1, 2 and 3 until there are no more elements in arr[] or there are no more elements in the queue.\n",
    "\n",
    "Finally, if all the elements of the array have been traversed then the array represents the level order traversal of a BST, else NOT."
   ]
  },
  {
   "cell_type": "code",
   "execution_count": 12,
   "metadata": {
    "collapsed": true
   },
   "outputs": [],
   "source": [
    "from collections import deque\n",
    "from helper import TreeNode\n",
    "from helper import BinaryTree\n",
    "\n",
    "class Solution(object):\n",
    "    def verifyLevelorder(self, levelorder):\n",
    "        \"\"\"\n",
    "        :type preorder: List[int]\n",
    "        :rtype: bool\n",
    "        \"\"\"\n",
    "        if not levelorder:\n",
    "            return True\n",
    "        \n",
    "        queue = deque()\n",
    "        \n",
    "        lower_bound = -float(\"inf\")\n",
    "        upper_bound = float(\"inf\")\n",
    "        root = TreeNode(levelorder[0])\n",
    "        queue.append((lower_bound, upper_bound, root))\n",
    "        \n",
    "        index = 1        \n",
    "        while index < len(levelorder) and queue:\n",
    "            # extracting NodeDetails of a node from the queue \n",
    "            lower_bound, upper_bound, parent_node = queue.popleft()\n",
    "            \n",
    "            # check whether there are more elements in the arr[] and arr[i] can be left child \n",
    "            if index < len(levelorder) and (lower_bound < levelorder[index] < parent_node.val):\n",
    "                left_child = TreeNode(levelorder[index])\n",
    "                queue.append((lower_bound, parent_node.val, left_child))\n",
    "                parent_node.left = left_child\n",
    "                index += 1\n",
    "                \n",
    "            # check whether there are more elements in the arr[] and arr[i] can be right child \n",
    "            if index < len(levelorder) and (parent_node.val < levelorder[index] < upper_bound):\n",
    "                right_child = TreeNode(levelorder[index])\n",
    "                queue.append((parent_node.val, upper_bound, right_child))\n",
    "                parent_node.right = right_child\n",
    "                index += 1\n",
    "                \n",
    "            \n",
    "        # given array represents level order traversal of BST \n",
    "        if index == len(levelorder):\n",
    "            return True, root\n",
    "            \n",
    "        # given array do not represent level order traversal of BST\n",
    "        return False, None"
   ]
  },
  {
   "cell_type": "code",
   "execution_count": 14,
   "metadata": {},
   "outputs": [
    {
     "name": "stdout",
     "output_type": "stream",
     "text": [
      "[[7], [4, 12], [3, 6, 8, ' '], [1, ' ', 5, ' ', ' ', 10]]\n"
     ]
    }
   ],
   "source": [
    "\n",
    "soln = Solution()\n",
    "binary_tree = BinaryTree()\n",
    "\n",
    "result, root = soln.verifyLevelorder(levelorder=[7, 4, 12, 3, 6, 8, 1, 5, 10])\n",
    "if result:\n",
    "    print(binary_tree.BFS_traversal(root))\n",
    "    \n",
    "result, root = soln.verifyLevelorder(levelorder=[11, 6, 13, 5, 12, 10])\n",
    "if result:\n",
    "    print(binary_tree.BFS_traversal(root))\n",
    "    \n"
   ]
  },
  {
   "cell_type": "code",
   "execution_count": null,
   "metadata": {
    "collapsed": true
   },
   "outputs": [],
   "source": []
  }
 ],
 "metadata": {
  "kernelspec": {
   "display_name": "Python 3",
   "language": "python",
   "name": "python3"
  },
  "language_info": {
   "codemirror_mode": {
    "name": "ipython",
    "version": 3
   },
   "file_extension": ".py",
   "mimetype": "text/x-python",
   "name": "python",
   "nbconvert_exporter": "python",
   "pygments_lexer": "ipython3",
   "version": "3.6.3"
  }
 },
 "nbformat": 4,
 "nbformat_minor": 2
}
