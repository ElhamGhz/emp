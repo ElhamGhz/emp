{
 "cells": [
  {
   "cell_type": "markdown",
   "metadata": {},
   "source": [
    "#### [Leetcode 973 Medium] [K Closest Points to Origin](https://leetcode.com/problems/k-closest-points-to-origin/) \n",
    "\n",
    "We have a list of points on the plane.  Find the K closest points to the origin (0, 0).\n",
    "\n",
    "(Here, the distance between two points on a plane is the Euclidean distance.)\n",
    "\n",
    "You may return the answer in any order.  The answer is guaranteed to be unique (except for the order that it is in.)\n",
    "\n",
    " \n",
    "\n",
    "Example 1:\n",
    "```\n",
    "Input: points = [[1,3],[-2,2]], K = 1\n",
    "Output: [[-2,2]]\n",
    "Explanation: \n",
    "The distance between (1, 3) and the origin is sqrt(10).\n",
    "The distance between (-2, 2) and the origin is sqrt(8).\n",
    "Since sqrt(8) < sqrt(10), (-2, 2) is closer to the origin.\n",
    "We only want the closest K = 1 points from the origin, so the answer is just [[-2,2]].\n",
    "```\n",
    "\n",
    "Example 2:\n",
    "```\n",
    "Input: points = [[3,3],[5,-1],[-2,4]], K = 2\n",
    "Output: [[3,3],[-2,4]]\n",
    "(The answer [[-2,4],[3,3]] would also be accepted.)\n",
    "``` \n",
    "\n",
    "Note:\n",
    "1. 1 <= K <= points.length <= 10000\n",
    "2. -10000 < points[i][0] < 10000\n",
    "3. -10000 < points[i][1] < 10000"
   ]
  },
  {
   "cell_type": "markdown",
   "metadata": {},
   "source": [
    "<font color='blue'>Solution: Sort</font>\n",
    "\n",
    "* Time Complexity: O(n + nlogn)\n",
    "* Space Complexity: O(n + logn)"
   ]
  },
  {
   "cell_type": "code",
   "execution_count": 10,
   "metadata": {},
   "outputs": [
    {
     "name": "stdout",
     "output_type": "stream",
     "text": [
      "[[-2, 2]]\n",
      "[[3, 3], [-2, 4]]\n"
     ]
    }
   ],
   "source": [
    "class Solution(object):\n",
    "    def kClosest(self, points, K):\n",
    "        \"\"\"\n",
    "        :type points: List[List[int]]\n",
    "        :type K: int\n",
    "        :rtype: List[List[int]]\n",
    "        \"\"\"\n",
    "        nums = [(x**2 + y**2, x, y) for x, y in points]\n",
    "           \n",
    "        #print(nums)\n",
    "        nums.sort()\n",
    "        \n",
    "        results = [[x, y] for dist, x, y in nums[0:K]]\n",
    "        return results\n",
    "    \n",
    "if __name__ == \"__main__\":\n",
    "    soln = Solution()\n",
    "    \n",
    "    print(soln.kClosest(points=[[1,3],[-2,2]], K=1))\n",
    "    print(soln.kClosest(points=[[3,3],[5,-1],[-2,4]], K=2))"
   ]
  },
  {
   "cell_type": "code",
   "execution_count": 20,
   "metadata": {},
   "outputs": [
    {
     "name": "stdout",
     "output_type": "stream",
     "text": [
      "[[-2, 2]]\n",
      "[[3, 3], [-2, 4]]\n"
     ]
    }
   ],
   "source": [
    "class Solution(object):\n",
    "    def kClosest(self, points, K):\n",
    "        \"\"\"\n",
    "        :type points: List[List[int]]\n",
    "        :type K: int\n",
    "        :rtype: List[List[int]]\n",
    "        \"\"\"\n",
    "        return sorted(points, key=lambda x: x[0]**2 + x[1]**2)[:K]\n",
    "    \n",
    "if __name__ == \"__main__\":\n",
    "    soln = Solution()\n",
    "    \n",
    "    print(soln.kClosest(points=[[1,3],[-2,2]], K=1))\n",
    "    print(soln.kClosest(points=[[3,3],[5,-1],[-2,4]], K=2))"
   ]
  },
  {
   "cell_type": "markdown",
   "metadata": {},
   "source": [
    "<font color='blue'>Solution: min heap </font>\n",
    "\n",
    "* Time Complexity: O(n + n + klogn)\n",
    "* Space Complexity: O(n)"
   ]
  },
  {
   "cell_type": "code",
   "execution_count": 11,
   "metadata": {},
   "outputs": [
    {
     "name": "stdout",
     "output_type": "stream",
     "text": [
      "[[-2, 2]]\n",
      "[[3, 3], [-2, 4]]\n"
     ]
    }
   ],
   "source": [
    "import heapq\n",
    "\n",
    "class Solution(object):\n",
    "    def kClosest(self, points, K):\n",
    "        \"\"\"\n",
    "        :type points: List[List[int]]\n",
    "        :type K: int\n",
    "        :rtype: List[List[int]]\n",
    "        \"\"\"\n",
    "        nums = [(x**2 + y**2, x, y) for x, y in points]\n",
    "           \n",
    "        heapq.heapify(nums)\n",
    "        \n",
    "        results = []\n",
    "        for i in range(K):\n",
    "            _, x, y = heapq.heappop(nums)\n",
    "            results.append([x, y])\n",
    "        \n",
    "        return results\n",
    "    \n",
    "if __name__ == \"__main__\":\n",
    "    soln = Solution()\n",
    "    \n",
    "    print(soln.kClosest(points=[[1,3],[-2,2]], K=1))\n",
    "    print(soln.kClosest(points=[[3,3],[5,-1],[-2,4]], K=2))"
   ]
  },
  {
   "cell_type": "markdown",
   "metadata": {},
   "source": [
    "<font color='blue'>Solution: max heap </font>\n",
    "\n",
    "* Time Complexity: O(n + n + (n-k)logk)\n",
    "* Space Complexity: O(n)"
   ]
  },
  {
   "cell_type": "code",
   "execution_count": 12,
   "metadata": {},
   "outputs": [
    {
     "name": "stdout",
     "output_type": "stream",
     "text": [
      "[[-2, 2]]\n",
      "[[-2, 4], [3, 3]]\n"
     ]
    }
   ],
   "source": [
    "import heapq\n",
    "\n",
    "class Solution(object):\n",
    "    def kClosest(self, points, K):\n",
    "        \"\"\"\n",
    "        :type points: List[List[int]]\n",
    "        :type K: int\n",
    "        :rtype: List[List[int]]\n",
    "        \"\"\"\n",
    "        nums = [(- x**2 - y**2, x, y) for x, y in points]\n",
    "        \n",
    "        heap = nums[:K]\n",
    "        heapq.heapify(heap)\n",
    "        \n",
    "        #heap = []\n",
    "        #for i in range(K):\n",
    "        #    heapq.heappush(heap, nums[i])\n",
    "                \n",
    "        for i in range(K, len(nums)):\n",
    "            if heap[0] < nums[i]:\n",
    "                heapq.heappop(heap)\n",
    "                heapq.heappush(heap, nums[i])\n",
    "\n",
    "        \n",
    "        return [[x, y] for dist, x, y in heap]\n",
    "    \n",
    "if __name__ == \"__main__\":\n",
    "    soln = Solution()\n",
    "    \n",
    "    print(soln.kClosest(points=[[1,3],[-2,2]], K=1))\n",
    "    print(soln.kClosest(points=[[3,3],[5,-1],[-2,4]], K=2))"
   ]
  },
  {
   "cell_type": "markdown",
   "metadata": {},
   "source": [
    "<font color='blue'>Solution: quick sort </font>\n",
    "\n",
    "* Time Complexity: O(n)\n",
    "* Space Complexity: O(n)"
   ]
  },
  {
   "cell_type": "code",
   "execution_count": 19,
   "metadata": {},
   "outputs": [
    {
     "name": "stdout",
     "output_type": "stream",
     "text": [
      "0 1 0 [(8, -2, 2), (10, 1, 3)]\n",
      "[[-2, 2]]\n",
      "0 2 1 [(18, 3, 3), (20, -2, 4), (26, 5, -1)]\n",
      "[[3, 3], [-2, 4]]\n"
     ]
    }
   ],
   "source": [
    "class Solution(object):\n",
    "    def kClosest(self, points, K):\n",
    "        \"\"\"\n",
    "        :type points: List[List[int]]\n",
    "        :type K: int\n",
    "        :rtype: List[List[int]]\n",
    "        \"\"\"\n",
    "        nums = [( x**2 + y**2, x, y) for x, y in points]\n",
    "        \n",
    "        index = self.quick_sort(nums, 0, len(nums)-1, K)\n",
    "        \n",
    "        return [[x, y] for _, x, y in nums[:K]]\n",
    "        \n",
    "        \n",
    "    def quick_sort(self, nums, start, end, K):\n",
    "        if start == end:\n",
    "            return start\n",
    "        \n",
    "        pivot_index = self.partition(nums, start, end)\n",
    "        print(start, end, pivot_index, nums)\n",
    "        if pivot_index == K - 1:\n",
    "            return pivot_index\n",
    "        elif pivot_index < K - 1:\n",
    "            start = pivot_index + 1\n",
    "            return self.quick_sort(nums, start, end, K)\n",
    "        else:\n",
    "            end = pivot_index - 1\n",
    "            return self.quick_sort(nums, start, end, K)\n",
    "    \n",
    "    def partition(self, nums, start, end):\n",
    "        pivot = nums[end]\n",
    "        \n",
    "        left, index = start, start\n",
    "        while index < end:\n",
    "            if nums[index] < pivot:\n",
    "                nums[left], nums[index] = nums[index], nums[left]\n",
    "                left += 1\n",
    "            index += 1\n",
    "            \n",
    "        nums[left], nums[end] = nums[end], nums[left]\n",
    "        return left\n",
    "    \n",
    "if __name__ == \"__main__\":\n",
    "    soln = Solution()\n",
    "    \n",
    "    print(soln.kClosest(points=[[1,3],[-2,2]], K=1))\n",
    "    print(soln.kClosest(points=[[3,3],[5,-1],[-2,4]], K=2))"
   ]
  },
  {
   "cell_type": "code",
   "execution_count": null,
   "metadata": {},
   "outputs": [],
   "source": []
  }
 ],
 "metadata": {
  "kernelspec": {
   "display_name": "Python 3",
   "language": "python",
   "name": "python3"
  },
  "language_info": {
   "codemirror_mode": {
    "name": "ipython",
    "version": 3
   },
   "file_extension": ".py",
   "mimetype": "text/x-python",
   "name": "python",
   "nbconvert_exporter": "python",
   "pygments_lexer": "ipython3",
   "version": "3.6.5"
  }
 },
 "nbformat": 4,
 "nbformat_minor": 2
}
