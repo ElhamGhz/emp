{
 "cells": [
  {
   "cell_type": "markdown",
   "metadata": {},
   "source": [
    "#### [Leetcode 42 Hard] [Trapping Rain Water](https://leetcode.com/problems/trapping-rain-water/)\n",
    "\n",
    "Given n non-negative integers representing an elevation map where the width of each bar is 1, compute how much water it is able to trap after raining.\n",
    "\n",
    "\n",
    "The above elevation map is represented by array [0,1,0,2,1,0,1,3,2,1,2,1]. In this case, 6 units of rain water (blue section) are being trapped. Thanks Marcos for contributing this image!\n",
    "\n",
    "<img src='Source/Leetcode_042.png'>\n",
    "The above elevation map is represented by array [0,1,0,2,1,0,1,3,2,1,2,1]. In this case, 6 units of rain water (blue section) are being trapped. Thanks Marcos for contributing this image!\n",
    "\n",
    "Example:\n",
    "```\n",
    "Input: [0,1,0,2,1,0,1,3,2,1,2,1]\n",
    "Output: 6\n",
    "```"
   ]
  },
  {
   "cell_type": "markdown",
   "metadata": {},
   "source": [
    "<font color='blue'>Solution: </font> two pointers\n",
    "\n",
    "对任意位置i，在i上的积水，由左右两边最高的bar：$A[left] = \\max{A[j], j<i}$, $A[right] = \\max{A[j], j>i}$决定。定义$Hmin = min(A[left], A[right])$，则积水量Si为：\n",
    "\n",
    "$Hmin <= A[i]$时，$Si = 0$\n",
    "$Hmin > A[i]$时，$Si = Hmin - A[i]$"
   ]
  },
  {
   "cell_type": "code",
   "execution_count": 7,
   "metadata": {},
   "outputs": [
    {
     "name": "stdout",
     "output_type": "stream",
     "text": [
      "6\n"
     ]
    }
   ],
   "source": [
    "class Solution(object):\n",
    "    def trap(self, height):\n",
    "        \"\"\"\n",
    "        :type height: List[int]\n",
    "        :rtype: int\n",
    "        \"\"\"\n",
    "        if len(height) < 3:\n",
    "            return 0\n",
    "        \n",
    "        water = 0\n",
    "        \n",
    "        left_height = [0 for _ in range(len(height))]\n",
    "        for i in range(1, len(height)):\n",
    "            left_height[i] = max(left_height[i - 1], height[i - 1])\n",
    "        \n",
    "        right_height = [0 for _ in range(len(height))]\n",
    "        for i in range(len(height)-2, -1, -1):\n",
    "            right_height[i] = max(right_height[i + 1], height[i + 1])\n",
    "            min_height = min(left_height[i], right_height[i])\n",
    "            if min_height > height[i]:\n",
    "                water += (min_height - height[i])\n",
    "            \n",
    "        return water\n",
    "        \n",
    "if __name__ == \"__main__\":\n",
    "    soln = Solution()\n",
    "    \n",
    "    print(soln.trap(height=[0,1,0,2,1,0,1,3,2,1,2,1]))"
   ]
  },
  {
   "cell_type": "markdown",
   "metadata": {},
   "source": [
    "<font color='blue'>Solution: </font> stack\n",
    "\n",
    "能积水的地方必然是一个中间低两边高的凹陷。所以寻找的目标是一个递减序列之后的递增。由于积水量只有在递增时才能计算，而计算又可能需要用到递减序列中的多个bar。因此必须将递减序列cache起来。这里使用stack。为了便于面积计算中宽度的计算，stack存放的不是递减序列bar的高度，而是每个bar的坐标。\n",
    "\n",
    "```C++\n",
    "class Solution {\n",
    "public:\n",
    "    int trap(int A[], int n) {\n",
    "        if(n<3) return 0;\n",
    "        stack<int> s;\n",
    "        s.push(0);\n",
    "        int water = 0;\n",
    "        \n",
    "        for(int i=1; i<n; i++) {\n",
    "            if(A[i]>A[s.top()]) {\n",
    "                int bottom = A[s.top()];\n",
    "                s.pop();\n",
    "                while(!s.empty() && A[i]>=A[s.top()]) {\n",
    "                    water += (A[s.top()]-bottom)*(i-s.top()-1);\n",
    "                    bottom = A[s.top()];\n",
    "                    s.pop();\n",
    "                }\n",
    "                if(!s.empty()) water += (A[i]-bottom)*(i-s.top()-1);\n",
    "            }\n",
    "            s.push(i);\n",
    "        }\n",
    "        \n",
    "        return water;\n",
    "    }\n",
    "};\n",
    "```"
   ]
  },
  {
   "cell_type": "code",
   "execution_count": 1,
   "metadata": {},
   "outputs": [
    {
     "name": "stdout",
     "output_type": "stream",
     "text": [
      "6\n"
     ]
    }
   ],
   "source": [
    "class Solution(object):\n",
    "    def trap(self, height):\n",
    "        \"\"\"\n",
    "        :type height: List[int]\n",
    "        :rtype: int\n",
    "        \"\"\"\n",
    "        if len(height) < 3:\n",
    "            return 0\n",
    "        \n",
    "        water = 0\n",
    "        stack = []\n",
    "        \n",
    "        for i in range(0, len(height)):\n",
    "            if stack and height[i] > height[stack[-1]]:\n",
    "                bottom = height[stack.pop()]\n",
    "                while stack and height[i] >= height[stack[-1]]:\n",
    "                    h = height[stack[-1]] - bottom\n",
    "                    w = i - stack[-1] - 1\n",
    "                    water += h * w\n",
    "                    bottom = height[stack.pop()]\n",
    "                    \n",
    "                if stack:\n",
    "                    h = height[i] - bottom\n",
    "                    w = i - stack[-1] - 1\n",
    "                    water += h * w\n",
    "                \n",
    "            stack.append(i)\n",
    "            \n",
    "        return water\n",
    "        \n",
    "if __name__ == \"__main__\":\n",
    "    soln = Solution()\n",
    "    \n",
    "    print(soln.trap(height=[0,1,0,2,1,0,1,3,2,1,2,1]))"
   ]
  },
  {
   "cell_type": "code",
   "execution_count": null,
   "metadata": {},
   "outputs": [],
   "source": []
  },
  {
   "cell_type": "code",
   "execution_count": null,
   "metadata": {},
   "outputs": [],
   "source": []
  }
 ],
 "metadata": {
  "kernelspec": {
   "display_name": "Python 3",
   "language": "python",
   "name": "python3"
  },
  "language_info": {
   "codemirror_mode": {
    "name": "ipython",
    "version": 3
   },
   "file_extension": ".py",
   "mimetype": "text/x-python",
   "name": "python",
   "nbconvert_exporter": "python",
   "pygments_lexer": "ipython3",
   "version": "3.6.5"
  }
 },
 "nbformat": 4,
 "nbformat_minor": 2
}
