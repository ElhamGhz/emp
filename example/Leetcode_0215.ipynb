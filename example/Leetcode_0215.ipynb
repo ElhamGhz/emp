{
 "cells": [
  {
   "cell_type": "markdown",
   "metadata": {},
   "source": [
    "#### [Leetcode 215 Medium] [Kth Largest Element in an Array](https://leetcode.com/problems/kth-largest-element-in-an-array/) \n",
    "\n",
    "Find the kth largest element in an unsorted array. Note that it is the kth largest element in the sorted order, not the kth distinct element.\n",
    "\n",
    "Example 1:\n",
    "```\n",
    "Input: [3,2,1,5,6,4] and k = 2\n",
    "Output: 5\n",
    "```\n",
    "\n",
    "Example 2:\n",
    "```\n",
    "Input: [3,2,3,1,2,4,5,5,6] and k = 4\n",
    "Output: 4\n",
    "```\n",
    "\n",
    "Note: \n",
    "* You may assume k is always valid, 1 ≤ k ≤ array's length."
   ]
  },
  {
   "cell_type": "markdown",
   "metadata": {},
   "source": [
    "<font color='blue'>Solution: Sorting</font>\n",
    "\n",
    "A Simple Solution is to sort the given array using a O(nlogn) sorting algorithm like Merge Sort, Heap Sort, etc and return the element at index k-1 in the sorted array. \n",
    "\n",
    "* Time Complexity: O(nlogn)\n",
    "* Space Complexity: O(logn)"
   ]
  },
  {
   "cell_type": "code",
   "execution_count": 5,
   "metadata": {},
   "outputs": [
    {
     "name": "stdout",
     "output_type": "stream",
     "text": [
      "5\n",
      "4\n"
     ]
    }
   ],
   "source": [
    "class Solution(object):\n",
    "    def findKthLargest(self, nums, k):\n",
    "        \"\"\"\n",
    "        :type nums: List[int]\n",
    "        :type k: int\n",
    "        :rtype: int\n",
    "        \"\"\"\n",
    "        nums.sort()\n",
    "        \n",
    "        return nums[-k]\n",
    "    \n",
    "if __name__ == \"__main__\":\n",
    "    soln = Solution()\n",
    "    \n",
    "    print(soln.findKthLargest(nums=[3,2,1,5,6,4], k=2))\n",
    "    print(soln.findKthLargest(nums=[3,2,3,1,2,4,5,5,6], k=4))"
   ]
  },
  {
   "cell_type": "markdown",
   "metadata": {},
   "source": [
    "<font color='blue'>Solution: min heap</font>\n",
    "\n",
    "Create a Min Heap of the given n elements and call heappop() n-k times.\n",
    "\n",
    "* Time Complexity: O(n + (n-k)logn)\n",
    "* Space Complexity: O(1)"
   ]
  },
  {
   "cell_type": "code",
   "execution_count": 8,
   "metadata": {},
   "outputs": [
    {
     "name": "stdout",
     "output_type": "stream",
     "text": [
      "5\n",
      "4\n"
     ]
    }
   ],
   "source": [
    "import heapq\n",
    "\n",
    "class Solution(object):\n",
    "    def findKthLargest(self, nums, k):\n",
    "        \"\"\"\n",
    "        :type nums: List[int]\n",
    "        :type k: int\n",
    "        :rtype: int\n",
    "        \"\"\"\n",
    "        heapq.heapify(nums)\n",
    "        \n",
    "        result = 0\n",
    "        for i in range(len(nums) - k + 1):\n",
    "            result = heapq.heappop(nums)\n",
    "        \n",
    "        return result\n",
    "    \n",
    "if __name__ == \"__main__\":\n",
    "    soln = Solution()\n",
    "    \n",
    "    print(soln.findKthLargest(nums=[3,2,1,5,6,4], k=2))\n",
    "    print(soln.findKthLargest(nums=[3,2,3,1,2,4,5,5,6], k=4))"
   ]
  },
  {
   "cell_type": "markdown",
   "metadata": {},
   "source": [
    "<font color='blue'>Solution: max heap 1</font>\n",
    "\n",
    "* Time Complexity: O(n + klogn)\n",
    "* Space Complexity: O(1)"
   ]
  },
  {
   "cell_type": "code",
   "execution_count": 9,
   "metadata": {},
   "outputs": [
    {
     "name": "stdout",
     "output_type": "stream",
     "text": [
      "5\n",
      "4\n"
     ]
    }
   ],
   "source": [
    "import heapq\n",
    "\n",
    "class Solution(object):\n",
    "    def findKthLargest(self, nums, k):\n",
    "        \"\"\"\n",
    "        :type nums: List[int]\n",
    "        :type k: int\n",
    "        :rtype: int\n",
    "        \"\"\"\n",
    "        nums = [-num for num in nums]\n",
    "        heapq.heapify(nums)\n",
    "        \n",
    "        result = 0\n",
    "        for i in range(k):\n",
    "            result = heapq.heappop(nums)\n",
    "        \n",
    "        return -result\n",
    "    \n",
    "if __name__ == \"__main__\":\n",
    "    soln = Solution()\n",
    "    \n",
    "    print(soln.findKthLargest(nums=[3,2,1,5,6,4], k=2))\n",
    "    print(soln.findKthLargest(nums=[3,2,3,1,2,4,5,5,6], k=4))"
   ]
  },
  {
   "cell_type": "markdown",
   "metadata": {},
   "source": [
    "    <font color='blue'>Solution: quick sort</font>\n",
    "\n",
    "* Time Complexity: O(n)\n",
    "* Space Complexity: O(logn)\n",
    "\n",
    "这道题最好的解法应该是下面这种做法，用到了快速排序Quick Sort的思想，这里排序的方向是从大往小排。对快排不熟悉的童鞋们随意上网搜些帖子看下吧，多如牛毛啊，总有一款适合你。核心思想是每次都要先找一个中枢点Pivot，然后遍历其他所有的数字，像这道题从大往小排的话，就把大于中枢点的数字放到左半边，把小于中枢点的放在右半边，这样中枢点是整个数组中第几大的数字就确定了，虽然左右两部分各自不一定是完全有序的，但是并不影响本题要求的结果，因为左半部分的所有值都大于右半部分的任意值，所以我们求出中枢点的位置，如果正好是k-1，那么直接返回该位置上的数字；如果大于k-1，说明要求的数字在左半部分，更新右边界，再求新的中枢点位置；反之则更新右半部分，求中枢点的位置；不得不说，这个思路真的是巧妙啊～\n",
    "\n",
    "in fact the 'O(n) time, quick selection' solution here is only O(n) for the average case. It is not the ideal solution, because the worst case in this algorithm is O(n2). That's why if you run this piece of code here you will get a runtime around 2500ms.\n",
    "\n",
    "However there's an algorithm that will make even the worst case O(n), which would reduce the runtime here to around 150ms. It's published in a CS paper, should be the best algorithm to solve this specific problem, period. I'll make a new post and analyze that algorithm.\n",
    "\n"
   ]
  },
  {
   "cell_type": "code",
   "execution_count": 23,
   "metadata": {},
   "outputs": [
    {
     "name": "stdout",
     "output_type": "stream",
     "text": [
      "5\n",
      "4\n"
     ]
    }
   ],
   "source": [
    "class Solution(object):\n",
    "    def findKthLargest(self, nums, k):\n",
    "        \"\"\"\n",
    "        :type nums: List[int]\n",
    "        :type k: int\n",
    "        :rtype: int\n",
    "        \"\"\"\n",
    "        start = 0\n",
    "        end = len(nums) - 1\n",
    "        result = self.quick_sort(nums, start, end, k)\n",
    "        return result\n",
    "    \n",
    "    def quick_sort(self, nums, start, end, k):\n",
    "        if start == end:\n",
    "            return nums[start]\n",
    "        \n",
    "        pivot_index = self.partition(nums, start, end)\n",
    "        if pivot_index == k - 1:\n",
    "            return nums[pivot_index]\n",
    "        elif pivot_index > k - 1:\n",
    "            return self.quick_sort(nums, start, pivot_index - 1, k)\n",
    "        else:\n",
    "            return self.quick_sort(nums, pivot_index + 1, end, k)\n",
    "        \n",
    "    def partition(self, nums, start, end):\n",
    "        pivot = nums[end]\n",
    "        \n",
    "        left, index = start, start\n",
    "        while index < end:\n",
    "            if nums[index] > pivot:\n",
    "                nums[left], nums[index] = nums[index], nums[left]\n",
    "                left += 1\n",
    "            index += 1\n",
    "            \n",
    "        nums[left], nums[end] = nums[end], nums[left]\n",
    "        \n",
    "        return left\n",
    "    \n",
    "    \n",
    "if __name__ == \"__main__\":\n",
    "    soln = Solution()\n",
    "    \n",
    "    print(soln.findKthLargest(nums=[3,2,1,5,6,4], k=2))\n",
    "    print(soln.findKthLargest(nums=[3,2,3,1,2,4,5,5,6], k=4))"
   ]
  },
  {
   "cell_type": "code",
   "execution_count": null,
   "metadata": {},
   "outputs": [],
   "source": []
  }
 ],
 "metadata": {
  "kernelspec": {
   "display_name": "Python 3",
   "language": "python",
   "name": "python3"
  },
  "language_info": {
   "codemirror_mode": {
    "name": "ipython",
    "version": 3
   },
   "file_extension": ".py",
   "mimetype": "text/x-python",
   "name": "python",
   "nbconvert_exporter": "python",
   "pygments_lexer": "ipython3",
   "version": "3.6.5"
  }
 },
 "nbformat": 4,
 "nbformat_minor": 2
}
