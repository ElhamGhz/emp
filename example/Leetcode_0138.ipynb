{
 "cells": [
  {
   "cell_type": "markdown",
   "metadata": {},
   "source": [
    "#### [Leetcode 138 Medium] [Copy List with Random Pointer](https://leetcode.com/problems/copy-list-with-random-pointer/)\n",
    "\n",
    "A linked list is given such that each node contains an additional random pointer which could point to any node in the list or null.\n",
    "\n",
    "Return a deep copy of the list.\n",
    "\n",
    " \n",
    "\n",
    "Example 1:\n",
    "\n",
    "<img src=\"Source/Leetcode_138.png\">\n",
    "```\n",
    "Input:\n",
    "{\"$id\":\"1\",\"next\":\n",
    "{\"$id\":\"2\",\"next\":null,\"random\":\n",
    "{\"$ref\":\"2\"},\"val\":2},\"random\":\n",
    "{\"$ref\":\"2\"},\"val\":1}\n",
    "\n",
    "Explanation:\n",
    "Node 1's value is 1, both of its next and random pointer points to Node 2.\n",
    "Node 2's value is 2, its next pointer points to null and its random pointer points to itself.\n",
    "``` \n",
    "\n",
    "Note:\n",
    "* You must return the copy of the given head as a reference to the cloned list."
   ]
  },
  {
   "cell_type": "markdown",
   "metadata": {},
   "source": [
    "Hints:\n",
    "1. Just iterate the linked list and create copies of the nodes on the go. Since a node can be referenced from multiple nodes due to the random pointers, make sure you are not making multiple copies of the same node.\n",
    "2. You may want to use extra space to keep old node ---> new node mapping to prevent creating multiples copies of same node.\n",
    "3. We can avoid using extra space for old node ---> new node mapping, by tweaking the original linked list. Simply interweave the nodes of the old and copied list. For e.g.\n",
    "\n",
    "```\n",
    "Old List: A --> B --> C --> D\n",
    "InterWeaved List: A --> A' --> B --> B' --> C --> C' --> D --> D'\n",
    "```\n",
    "\n",
    "4. The interweaving is done using next pointers and we can make use of interweaved structure to get the correct reference nodes for random pointers."
   ]
  },
  {
   "cell_type": "markdown",
   "metadata": {},
   "source": [
    "这道链表的深度拷贝题的难点就在于如何处理随机指针的问题，由于每一个节点都有一个随机指针，这个指针可以为空，也可以指向链表的任意一个节点，如果我们在每生成一个新节点给其随机指针赋值时，都要去遍历原链表的话，OJ 上肯定会超时，所以我们可以考虑用 HashMap 来缩短查找时间，第一遍遍历生成所有新节点时同时建立一个原节点和新节点的 HashMap，第二遍给随机指针赋值时，查找时间是常数级。代码如下："
   ]
  },
  {
   "cell_type": "code",
   "execution_count": 3,
   "metadata": {},
   "outputs": [],
   "source": [
    "\"\"\"\n",
    "# Definition for a Node.\n",
    "class Node(object):\n",
    "    def __init__(self, val, next, random):\n",
    "        self.val = val\n",
    "        self.next = next\n",
    "        self.random = random\n",
    "\"\"\"\n",
    "class Node(object):\n",
    "    def __init__(self, val, next, random):\n",
    "        self.val = val\n",
    "        self.next = next\n",
    "        self.random = random\n",
    "        \n",
    "class Solution(object):\n",
    "    def copyRandomList(self, head):\n",
    "        \"\"\"\n",
    "        :type head: Node\n",
    "        :rtype: Node\n",
    "        \"\"\"\n",
    "        if not head:\n",
    "            return head\n",
    "        \n",
    "        fake_head = Node(None, None, None)\n",
    "        curr_copy = fake_head\n",
    "        maps = {}  # key -- Node(), value -- Node()\n",
    "        \n",
    "        curr = head\n",
    "        while curr:\n",
    "            temp_copy = Node(curr.val, None, None)\n",
    "            curr_copy.next = temp_copy\n",
    "            maps[curr] = temp_copy\n",
    "            # move forward\n",
    "            curr_copy = curr_copy.next\n",
    "            curr = curr.next\n",
    "            \n",
    "        curr_copy = fake_head.next\n",
    "        curr = head\n",
    "        while copy:\n",
    "            curr_copy.random = maps[curr.random]\n",
    "            # move forward\n",
    "            curr_copy = curr_copy.next\n",
    "            curr = curr.next\n",
    "            \n",
    "        return fake_head.next           "
   ]
  },
  {
   "cell_type": "markdown",
   "metadata": {},
   "source": [
    "我们可以使用递归的解法，写起来相当的简洁，还是需要一个 HashMap 来建立原链表结点和拷贝链表结点之间的映射。在递归函数中，首先判空，若为空，则返回空指针。然后就是去 HashMap 中查找是否已经在拷贝链表中存在了该结点，是的话直接返回。否则新建一个拷贝结点 res，然后建立原结点和该拷贝结点之间的映射，然后就是要给拷贝结点的 next 和 random 指针赋值了，直接分别调用递归函数即可，参见代码如下："
   ]
  },
  {
   "cell_type": "code",
   "execution_count": 5,
   "metadata": {},
   "outputs": [
    {
     "name": "stdout",
     "output_type": "stream",
     "text": [
      "None\n"
     ]
    }
   ],
   "source": [
    "class Node(object):\n",
    "    def __init__(self, val, next, random):\n",
    "        self.val = val\n",
    "        self.next = next\n",
    "        self.random = random\n",
    "        \n",
    "class Solution(object):\n",
    "    def copyRandomList(self, head):\n",
    "        \"\"\"\n",
    "        :type head: Node\n",
    "        :rtype: Node\n",
    "        \"\"\"\n",
    "        if not head:\n",
    "            return None\n",
    "        \n",
    "        maps = {}\n",
    "        \n",
    "        return self.helper(head, maps)\n",
    "    \n",
    "    def helper(self, node, maps):\n",
    "        if not node:\n",
    "            return None\n",
    "        \n",
    "        if node in maps:\n",
    "            return maps[node]\n",
    "        \n",
    "        copy = Node(node.val, None, None)\n",
    "        maps[node] = copy\n",
    "        copy.next = self.helper(node.next, maps)\n",
    "        copy.random = self.helper(node.random, maps)\n",
    "        \n",
    "        return copy"
   ]
  },
  {
   "cell_type": "markdown",
   "metadata": {},
   "source": [
    "当然，如果使用 HashMap 占用额外的空间，如果这道题限制了空间的话，就要考虑别的方法。下面这个方法很巧妙，可以分为以下三个步骤：\n",
    "\n",
    "1. 在原链表的每个节点后面拷贝出一个新的节点。\n",
    "\n",
    "2. 依次给新的节点的随机指针赋值，而且这个赋值非常容易 cur->next->random = cur->random->next。\n",
    "\n",
    "3. 断开链表可得到深度拷贝后的新链表。\n",
    "\n",
    "举个例子来说吧，比如原链表是 1(2) -> 2(3) -> 3(1)，括号中是其 random 指针指向的结点，那么这个解法是首先比遍历一遍原链表，在每个结点后拷贝一个同样的结点，但是拷贝结点的 random 指针仍为空，则原链表变为 1(2) -> 1(null) -> 2(3) -> 2(null) -> 3(1) -> 3(null)。然后第二次遍历，是将拷贝结点的 random 指针赋上正确的值，则原链表变为 1(2) -> 1(2) -> 2(3) -> 2(3) -> 3(1) -> 3(1)，注意赋值语句为：\n",
    "\n",
    "cur->next->random = cur->random->next;\n",
    "\n",
    "这里的 cur 是原链表中结点，cur->next 则为拷贝链表的结点，cur->next->random 则为拷贝链表的 random 指针。cur->random 为原链表结点的 random 指针指向的结点，因为其指向的还是原链表的结点，所以我们要再加个 next，才能指向拷贝链表的结点。最后再遍历一次，就是要把原链表和拷贝链表断开即可，参见代码如下：\n",
    "\n",
    " \n",
    "```\n",
    "class Solution {\n",
    "public:\n",
    "    Node* copyRandomList(Node* head) {\n",
    "        if (!head) return nullptr;\n",
    "        Node *cur = head;\n",
    "        while (cur) {\n",
    "            Node *t = new Node(cur->val, nullptr, nullptr);\n",
    "            t->next = cur->next;\n",
    "            cur->next = t;\n",
    "            cur = t->next;\n",
    "        }\n",
    "        cur = head;\n",
    "        while (cur) {\n",
    "            if (cur->random) cur->next->random = cur->random->next;\n",
    "            cur = cur->next->next;\n",
    "        }\n",
    "        cur = head;\n",
    "        Node *res = head->next;\n",
    "        while (cur) {\n",
    "            Node *t = cur->next;\n",
    "            cur->next = t->next;\n",
    "            if (t->next) t->next = t->next->next;\n",
    "            cur = cur->next;\n",
    "        }\n",
    "        return res;\n",
    "    }\n",
    "};\n",
    "```"
   ]
  },
  {
   "cell_type": "code",
   "execution_count": null,
   "metadata": {},
   "outputs": [],
   "source": []
  }
 ],
 "metadata": {
  "kernelspec": {
   "display_name": "Python 3",
   "language": "python",
   "name": "python3"
  },
  "language_info": {
   "codemirror_mode": {
    "name": "ipython",
    "version": 3
   },
   "file_extension": ".py",
   "mimetype": "text/x-python",
   "name": "python",
   "nbconvert_exporter": "python",
   "pygments_lexer": "ipython3",
   "version": "3.6.5"
  }
 },
 "nbformat": 4,
 "nbformat_minor": 2
}
