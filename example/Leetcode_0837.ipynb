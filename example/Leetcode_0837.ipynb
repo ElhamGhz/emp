{
 "cells": [
  {
   "cell_type": "markdown",
   "metadata": {},
   "source": [
    "#### [Leetcode 837 Medium] [New 21 Game](https://leetcode.com/problems/new-21-game/)\n",
    "\n",
    "Alice plays the following game, loosely based on the card game \"21\".\n",
    "\n",
    "Alice starts with 0 points, and draws numbers while she has less than K points.  During each draw, she gains an integer number of points randomly from the range [1, W], where W is an integer.  Each draw is independent and the outcomes have equal probabilities.\n",
    "\n",
    "Alice stops drawing numbers when she gets K or more points.  What is the probability that she has N or less points?\n",
    "\n",
    "Example 1:\n",
    "```\n",
    "Input: N = 10, K = 1, W = 10\n",
    "Output: 1.00000\n",
    "Explanation:  Alice gets a single card, then stops.\n",
    "```\n",
    "\n",
    "Example 2:\n",
    "```\n",
    "Input: N = 6, K = 1, W = 10\n",
    "Output: 0.60000\n",
    "Explanation:  Alice gets a single card, then stops.\n",
    "In 6 out of W = 10 possibilities, she is at or below N = 6 points.\n",
    "```\n",
    "\n",
    "Example 3:\n",
    "```\n",
    "Input: N = 21, K = 17, W = 10\n",
    "Output: 0.73278\n",
    "```\n",
    "\n",
    "Note:\n",
    "* 0 <= K <= N <= 10000\n",
    "* 1 <= W <= 10000\n",
    "* Answers will be accepted as correct if they are within 10^-5 of the correct answer.\n",
    "* The judging time limit has been reduced for this question."
   ]
  },
  {
   "cell_type": "markdown",
   "metadata": {},
   "source": [
    "<font color='blue'>Solution: </font> Dynamic Programming  \n",
    "\n",
    "类似爬楼梯的问题，每次可以跨[1,W]个楼梯，当一共爬了K个和以上的台阶时停止，问这个时候总台阶数<=N的概率。\n",
    "\n",
    "使用动态规划，dp[i]表示得到点数i的概率，只有当现在的总点数少于K的时候，才会继续取数。那么状态转移方程可以写成：\n",
    "* 当i <= K时，dp[i] = （前W个dp的和）/ W；(爬楼梯得到总楼梯数为i的概率）\n",
    "* 当K < i < K + W时，那么在这次的前一次的点数范围是[i - W, K - 1]。我们的dp数组表示的是得到点i的概率，所以dp[i]=(dp[K-1]+dp[K-2]+…+dp[i-W])/W.（可以从前一次的基础的上选[1,W]个数字中的一个）\n",
    "* 当i>=K+W时，这种情况下无论如何不都应该存在的，所以dp[i]=0.\n",
    "\n",
    "时间复杂度是O(N)，空间复杂度是O(N).\n",
    "\n",
    "[Source](https://www.cnblogs.com/grandyang/p/10386525.html)"
   ]
  },
  {
   "cell_type": "code",
   "execution_count": 4,
   "metadata": {},
   "outputs": [],
   "source": [
    "class Solution(object):\n",
    "    def new21Game(self, N, K, W):\n",
    "        \"\"\"\n",
    "        :type N: int\n",
    "        :type K: int\n",
    "        :type W: int\n",
    "        :rtype: float\n",
    "        \"\"\"\n",
    "        if K == 0:\n",
    "            return 1\n",
    "        \n",
    "        dp = [0 for _ in range(N + 1)]\n",
    "        dp[0] = 1.0\n",
    "        sums = 1.0\n",
    "        \n",
    "        for i in range(1, N + 1):\n",
    "            dp[i] = sums / W\n",
    "            if i < K:\n",
    "                sums += dp[i]\n",
    "            if 0 <= i - W < K:\n",
    "                sums -= dp[i - W]\n",
    "                \n",
    "        return sum(dp[K:])"
   ]
  },
  {
   "cell_type": "code",
   "execution_count": 7,
   "metadata": {},
   "outputs": [
    {
     "name": "stdout",
     "output_type": "stream",
     "text": [
      "0.9999999999999999\n",
      "0.6\n",
      "0.7327777870686082\n"
     ]
    }
   ],
   "source": [
    "soln = Solution()\n",
    "print(soln.new21Game(N = 10, K = 1, W = 10))\n",
    "print(soln.new21Game(N = 6, K = 1, W = 10))\n",
    "print(soln.new21Game(N = 21, K = 17, W = 10))"
   ]
  },
  {
   "cell_type": "markdown",
   "metadata": {},
   "source": [
    "#### Follow up: \n",
    "卡片1到10，抽完卡片放回去，看卡片上数字的和，给了一个成功区间，超过这个区间就失败，问三次成功的概率是多少。"
   ]
  },
  {
   "cell_type": "code",
   "execution_count": null,
   "metadata": {},
   "outputs": [],
   "source": []
  }
 ],
 "metadata": {
  "kernelspec": {
   "display_name": "Python 3",
   "language": "python",
   "name": "python3"
  },
  "language_info": {
   "codemirror_mode": {
    "name": "ipython",
    "version": 3
   },
   "file_extension": ".py",
   "mimetype": "text/x-python",
   "name": "python",
   "nbconvert_exporter": "python",
   "pygments_lexer": "ipython3",
   "version": "3.6.5"
  }
 },
 "nbformat": 4,
 "nbformat_minor": 2
}
