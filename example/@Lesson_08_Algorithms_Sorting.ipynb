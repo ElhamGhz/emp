{
 "cells": [
  {
   "cell_type": "markdown",
   "metadata": {},
   "source": [
    "# Lesson 8: Algorithms -- Sorting\n",
    "----\n",
    "In this lesson, we will cover the following parts:\n",
    "* 8.1: Lecture Note\n",
    "* 8.2: Leetcode Training (Basic)\n",
    "* 8.3: Leetcode Practice (Advanced)"
   ]
  },
  {
   "cell_type": "markdown",
   "metadata": {},
   "source": [
    "## 8.1 Lecture Note -- Sorting"
   ]
  },
  {
   "cell_type": "markdown",
   "metadata": {},
   "source": [
    "### 8.1.1 Time Complexity and Space Complexity Analysis"
   ]
  },
  {
   "cell_type": "code",
   "execution_count": 1,
   "metadata": {
    "collapsed": true
   },
   "outputs": [],
   "source": [
    "# Example 1\n",
    "def fun(array):\n",
    "    sum = array[0] + array[1]\n",
    "    print(sum)\n",
    "\n",
    "# Time complexity O(1)\n",
    "# Space complexity O(1)\n",
    "\n",
    "# Example 2\n",
    "def fun(array):\n",
    "    sum = array[:]\n",
    "    print(sum)\n",
    "\n",
    "# Time complexity O(1)\n",
    "# Space complexity O(n)"
   ]
  },
  {
   "cell_type": "code",
   "execution_count": 2,
   "metadata": {
    "collapsed": true
   },
   "outputs": [],
   "source": [
    "# Example 3\n",
    "def fun(n):\n",
    "    a = 1 + 2\n",
    "    b = 2 + 3\n",
    "    c = 3 + 4\n",
    "    for i in range(n+1):\n",
    "        print(a)\n",
    "    \n",
    "# Time complexity O(n)\n",
    "# Space complexity O(1)\n",
    "\n",
    "# Example 4\n",
    "def fun(array):\n",
    "    sum = []\n",
    "    for i in range(len(array)):\n",
    "        sum.append(array[i])\n",
    "    \n",
    "# Time complexity O(n)\n",
    "# Space complexity O(n)"
   ]
  },
  {
   "cell_type": "code",
   "execution_count": 3,
   "metadata": {
    "collapsed": true
   },
   "outputs": [],
   "source": [
    "# Example 5\n",
    "def fun(array1, array2):\n",
    "    sum = []\n",
    "    for i in range(len(array1)):\n",
    "        for j in range(len(array2)):\n",
    "            sum.append(array1[i]+array2[j])\n",
    "    \n",
    "# Time complexity O(n^2)\n",
    "# Space complexity O(n^2)\n",
    "\n",
    "# Example 6\n",
    "def fun(array1, array2):\n",
    "    sum = []\n",
    "    for i in range(len(array1)):\n",
    "        for j in range(len(array2)):\n",
    "            print(j)\n",
    "        sum.append(array1[i]+array2[j])\n",
    "    \n",
    "# Time complexity O(n^2)\n",
    "# Space complexity O(n)\n",
    "\n",
    "# Example 7\n",
    "def fun(array1, array2):\n",
    "    sum1 = []\n",
    "    sum2 = []\n",
    "    for i in range(len(array1)):\n",
    "        for j in range(len(array2)):\n",
    "            print(j)\n",
    "        sum.append(array1[i]+array2[j])\n",
    "        \n",
    "    for i in range(len(array1)):\n",
    "        for j in range(len(array2)):\n",
    "            print((i, j))\n",
    "        sum.append(array1[i]+array2[j])\n",
    "    \n",
    "# Time complexity O(n^2)\n",
    "# Space complexity O(2*n) = O(n)"
   ]
  },
  {
   "cell_type": "markdown",
   "metadata": {},
   "source": [
    "### 8.1.2 Sorting\n",
    "\n",
    "Array and Sorting Algorithms\n",
    "* Bubble Sort\n",
    "* Selection Sort\n",
    "* Insertion Sort\n",
    "* Merge Sort\n",
    "* Quick Sort"
   ]
  },
  {
   "cell_type": "markdown",
   "metadata": {},
   "source": [
    "#### 1. Bubble Sort \n",
    "\n",
    "Bubble Sort, or Sinking Sort, is a naive approach. You will go through the array comparing elements side by side and switching them whenever necessary. In each iteration, the largest element in the array will bubble on up to the top.\n",
    "* [youtube](https://www.youtube.com/watch?time_continue=42&v=h_osLG3GmjE)\n",
    "* [Wikipedia](https://en.wikipedia.org/wiki/Bubble_sort)\n",
    "![bubble sort example](source/lesson3_sorting_bubble.png)\n",
    "![bubble sort example](source/lesson3_sorting_bubble.gif)\n",
    "\n",
    "Complexity:\n",
    "* Time complexity: average case = $O(n^2)$, worst case = $O(n-1 + n-2 + \\cdots + 1) = O(n(n+1)/2) = O(n^2)$, best case = $O(n)$\n",
    "* Space complexity: $O(1)$. Since we don't have to use anything extra to do our sort. We have no extra arrays, no extra data structures, nothing like that.\n",
    "\n",
    "**Key Point**:  \n",
    "Observation:  \n",
    "* Iter 1: start index = 0, end index = len(array) - 1\n",
    "* Iter 2: start index = 0, end index = len(array) - 2\n",
    "* Iter 3: start index = 0, end index = len(array) - 3\n",
    "* ...\n",
    "* Iter last: start index = 0, end index = 1  \n",
    "So the outer loop should iterate from len(array)-1 down to 1\n",
    "while the inner loop iterate from 0 to outer index"
   ]
  },
  {
   "cell_type": "code",
   "execution_count": 4,
   "metadata": {},
   "outputs": [
    {
     "name": "stdout",
     "output_type": "stream",
     "text": [
      "[1, 3, 4, 6, 9, 14, 20, 21, 21, 25]\n",
      "[1, 3, 4, 6, 9, 14, 20, 21, 21, 25]\n"
     ]
    }
   ],
   "source": [
    "class Solution(object):\n",
    "    def bubble_sort(self, nums):\n",
    "        if not nums:\n",
    "            return nums\n",
    "        \n",
    "        for i in range(len(nums) - 1, 0, -1):\n",
    "            for j in range(0, i):\n",
    "                if nums[j] > nums[j + 1]:\n",
    "                    # swap\n",
    "                    nums[j], nums[j + 1] = nums[j + 1], nums[j]\n",
    "                    \n",
    "    def sink_sort(self, nums):\n",
    "        if not nums:\n",
    "            return nums\n",
    "        \n",
    "        for i in range(0, len(nums) - 1):\n",
    "            for j in range(len(nums) - 1, i, -1):\n",
    "                if nums[j] < nums[j - 1]:\n",
    "                    # swap\n",
    "                    nums[j], nums[j - 1] = nums[j - 1], nums[j]\n",
    "                    \n",
    "if __name__ == \"__main__\":\n",
    "    soln = Solution()\n",
    "\n",
    "    nums = [21, 4, 1, 3, 9, 20, 25, 6, 21, 14]\n",
    "    soln.bubble_sort(nums)\n",
    "    print(nums)\n",
    "    \n",
    "    nums = [21, 4, 1, 3, 9, 20, 25, 6, 21, 14]\n",
    "    soln.sink_sort(nums)\n",
    "    print(nums)"
   ]
  },
  {
   "cell_type": "markdown",
   "metadata": {
    "collapsed": true
   },
   "source": [
    "#### 2. Selection Sort \n",
    "\n",
    "The algorithm divides the input list into two parts: the sublist of items already sorted, which is built up from left to right at the front (left) of the list, and the sublist of items remaining to be sorted that occupy the rest of the list. Initially, the sorted sublist is empty and the unsorted sublist is the entire input list. The algorithm proceeds by finding the smallest (or largest, depending on sorting order) element in the unsorted sublist, exchanging (swapping) it with the leftmost unsorted element (putting it in sorted order), and moving the sublist boundaries one element to the right.\n",
    "* [Wikipedia](https://en.wikipedia.org/wiki/Selection_sort)\n",
    "![selection sort example](source/lesson3_sorting_selection.gif)\n",
    "\n",
    "Complexity:\n",
    "* Time complexity: average case = $O(n^2)$, worst case = $O(n^2)$, best case = $O(n)$\n",
    "* Space complexity: $O(1)$. Since we don't have to use anything extra to do our sort. We have no extra arrays, no extra data structures, nothing like that."
   ]
  },
  {
   "cell_type": "markdown",
   "metadata": {},
   "source": [
    "*solution 1*: swap max\n",
    "* iteration 1: find max among array[0], array[1], ..., array[n-1], and swap max to the position of array[n-1]\n",
    "* iteration 2: find max among array[0], array[1], ..., array[n-2], and swap max to the position of array[n-2]\n",
    "* ...\n",
    "* iteration n: find max among array[0], and swap max to the position of array[0]"
   ]
  },
  {
   "cell_type": "code",
   "execution_count": 6,
   "metadata": {},
   "outputs": [
    {
     "name": "stdout",
     "output_type": "stream",
     "text": [
      "[1, 3, 4, 6, 9, 14, 20, 21, 21, 25]\n"
     ]
    }
   ],
   "source": [
    "class Solution(object):\n",
    "    def selection_sort(self, nums):\n",
    "        if not nums:\n",
    "            return nums\n",
    "        \n",
    "        for i in range(len(nums) - 1, 0, -1):\n",
    "            max_id = i\n",
    "            for j in range(0, i + 1):\n",
    "                if nums[j] > nums[max_id]:\n",
    "                    max_id = j\n",
    "            nums[max_id], nums[i] = nums[i], nums[max_id]\n",
    "                    \n",
    "if __name__ == \"__main__\":\n",
    "    soln = Solution()\n",
    "\n",
    "    nums = [21, 4, 1, 3, 9, 20, 25, 6, 21, 14]\n",
    "    soln.selection_sort(nums)\n",
    "    print(nums)"
   ]
  },
  {
   "cell_type": "markdown",
   "metadata": {},
   "source": [
    "*solution 2*: swap min\n",
    "* iteration 1: find min among array[0], array[1], ..., array[n-1], and swap max to the position of array[0]\n",
    "* iteration 2: find max among array[1], array[2], ..., array[n-1], and swap max to the position of array[1]\n",
    "* ...\n",
    "* iteration n: find max among array[n-1], and swap max to the position of array[n-1]"
   ]
  },
  {
   "cell_type": "code",
   "execution_count": 7,
   "metadata": {},
   "outputs": [
    {
     "name": "stdout",
     "output_type": "stream",
     "text": [
      "[1, 3, 4, 6, 9, 14, 20, 21, 21, 25]\n"
     ]
    }
   ],
   "source": [
    "class Solution(object):\n",
    "    def selection_sort(self, nums):\n",
    "        if not nums:\n",
    "            return nums\n",
    "        \n",
    "        for i in range(0, len(nums)):\n",
    "            min_id = i\n",
    "            for j in range(i, len(nums)):\n",
    "                if nums[j] < nums[min_id]:\n",
    "                    min_id = j\n",
    "            nums[min_id], nums[i] = nums[i], nums[min_id]\n",
    "                    \n",
    "if __name__ == \"__main__\":\n",
    "    soln = Solution()\n",
    "\n",
    "    nums = [21, 4, 1, 3, 9, 20, 25, 6, 21, 14]\n",
    "    soln.selection_sort(nums)\n",
    "    print(nums)"
   ]
  },
  {
   "cell_type": "markdown",
   "metadata": {
    "collapsed": true
   },
   "source": [
    "#### 3. Insertion Sort \n",
    "\n",
    "Insertion sort iterates, consuming one input element each repetition, and growing a sorted output list. At each iteration, insertion sort removes one element from the input data, finds the location it belongs within the sorted list, and inserts it there. It repeats until no input elements remain.\n",
    "* [Wikipedia](https://en.wikipedia.org/wiki/Insertion_sort)\n",
    "![insertion sort example](source/lesson3_sorting_insertion.gif)\n",
    "\n",
    "Complexity:\n",
    "* Time complexity: average case = $O(n^2)$, worst case = $O(n^2)$, best case = $O(n)$\n",
    "* Space complexity: $O(1)$. Since we don't have to use anything extra to do our sort. We have no extra arrays, no extra data structures, nothing like that."
   ]
  },
  {
   "cell_type": "markdown",
   "metadata": {},
   "source": [
    "*solution 1*: \n",
    "* search: $O(n)$ loop\n",
    "* insert: the elements after the insertion position should move afterwards by 1 step\n",
    "\n",
    "Time complexity: $O((n+n)*n) = O(2n^2) = O(n^2)$"
   ]
  },
  {
   "cell_type": "code",
   "execution_count": 8,
   "metadata": {},
   "outputs": [
    {
     "name": "stdout",
     "output_type": "stream",
     "text": [
      "[1, 3, 4, 6, 9, 14, 20, 21, 21, 25]\n"
     ]
    }
   ],
   "source": [
    "class Solution(object):\n",
    "    def insertion_sort(self, nums):\n",
    "        if not nums:\n",
    "            return nums\n",
    "        \n",
    "        for i in range(1, len(nums)):\n",
    "            curr = nums[i]\n",
    "            index = i\n",
    "            while index > 0 and curr < nums[index - 1]:\n",
    "                nums[index] = nums[index - 1]\n",
    "                index -= 1\n",
    "            nums[index] = curr\n",
    "            \n",
    "                    \n",
    "if __name__ == \"__main__\":\n",
    "    soln = Solution()\n",
    "\n",
    "    nums = [21, 4, 1, 3, 9, 20, 25, 6, 21, 14]\n",
    "    soln.insertion_sort(nums)\n",
    "    print(nums)"
   ]
  },
  {
   "cell_type": "markdown",
   "metadata": {
    "collapsed": true
   },
   "source": [
    "#### 4. Merge Sort \n",
    "\n",
    "Merge sort is a recursive algorithm that continually splits a list in half. If the list is empty or has one item, it is sorted by definition (the base case). If the list has more than one item, we split the list and recursively invoke a merge sort on both halves. Once the two halves are sorted, the fundamental operation, called a merge, is performed. Merging is the process of taking two smaller sorted lists and combining them together into a single, sorted, new list. \n",
    "\n",
    "The overall idea is to split a huge array down as much as possible and then over time build it back up doing comparisons and  sorting at each step along the way. \n",
    "* [youtube](https://www.youtube.com/watch?time_continue=31&v=K916wfSzKxE)\n",
    "* [merge sort in Alorithms textbook](https://algs4.cs.princeton.edu/22mergesort/)\n",
    "* [Wikipedia](https://en.wikipedia.org/wiki/Merge_sort)\n",
    "![merge sort example](source/lesson3_sorting_merge.png)\n",
    "![merge sort example](source/lesson3_sorting_merge.gif)\n",
    "\n",
    "The general idea of breaking up an array sorting all parts of it and building it back up again is called **Divide and Conquer**.\n",
    "\n",
    "The following figure shows our familiar example list as it is being split by mergeSort.\n",
    "![merge sort example](source/lesson3_sorting_merge1.png)\n",
    "\n",
    "The figure followed show the simple lists, now sorted, as they are merged back together.\n",
    "![merge sort example](source/lesson3_sorting_merge2.png)\n",
    "\n",
    "The mergeSort function shown in [ActiveCode 1](http://interactivepython.org/courselib/static/pythonds/SortSearch/TheMergeSort.html#lst-merge) begins by asking the base case question. If the length of the list is less than or equal to one, then we already have a sorted list and no more processing is necessary. If, on the other hand, the length is greater than one, then we use the Python slice operation to extract the left and right halves. It is important to note that the list may not have an even number of items. That does not matter, as the lengths will differ by at most one.\n",
    "\n",
    "[Visualize](https://www.hackerearth.com/practice/algorithms/sorting/merge-sort/visualize/)\n",
    "\n",
    "Complexity:\n",
    "* Time complexity: average case = $O(n\\log n)$, worst case = $O(n\\log{n})$, best case = $O(n\\log{n})$\n",
    "* Space complexity: $O(n)$. We need to set up another array to store all of the elements of the array."
   ]
  },
  {
   "cell_type": "code",
   "execution_count": 9,
   "metadata": {},
   "outputs": [
    {
     "name": "stdout",
     "output_type": "stream",
     "text": [
      "[1, 3, 4, 6, 9, 14, 20, 21, 21, 25]\n"
     ]
    }
   ],
   "source": [
    "# Time complexity for divide \n",
    "#   O(# operations per level * # levels) = O(nlogn)\n",
    "# Time complexity for merge\n",
    "#   O(# operations per level * # levels) = O(nlogn)\n",
    "# Time complexity for divide and conquer (in total)\n",
    "#   O(nlogn + nlogn) = O(nlogn)\n",
    "class Solution(object):                  \n",
    "    def merge_sort(self, nums):\n",
    "        \"\"\"\n",
    "        Time Complexity: O(nlogn)\n",
    "        Space Complexity: O(n)\n",
    "          * Divide: stack |  O(1)  |     \n",
    "                          |   ...  |\n",
    "                          | O(n/4) |\n",
    "                          | O(n/2) |\n",
    "                          |__O(n)__|\n",
    "                 O(n) + O(n/2) + ... + O(1) = O(2n) = O(n)\n",
    "          * Conquer: the same as above\n",
    "        \"\"\"\n",
    "        # base case\n",
    "        if len(nums) <= 1:\n",
    "            return nums\n",
    "        \n",
    "        # what to get from your children\n",
    "        mid = len(nums) // 2\n",
    "        a = self.merge_sort(nums[0:mid])\n",
    "        b = self.merge_sort(nums[mid:])\n",
    "        \n",
    "        # what to do in the current stage\n",
    "        c = self.merge(a, b)\n",
    "        \n",
    "        # what to return to your parent\n",
    "        return c\n",
    "    \n",
    "    def merge(self, a, b):\n",
    "        c = []\n",
    "        \n",
    "        index_a = 0\n",
    "        index_b = 0\n",
    "        \n",
    "        while index_a < len(a) and index_b < len(b):\n",
    "            if a[index_a] <= b[index_b]:\n",
    "                c.append(a[index_a])\n",
    "                index_a += 1\n",
    "            else:\n",
    "                c.append(b[index_b])\n",
    "                index_b += 1\n",
    "                \n",
    "        while index_a < len(a):\n",
    "            c.append(a[index_a])\n",
    "            index_a += 1\n",
    "        while index_b < len(b):\n",
    "            c.append(b[index_b])\n",
    "            index_b += 1\n",
    "            \n",
    "        return c\n",
    "            \n",
    "        \n",
    "if __name__ == \"__main__\":\n",
    "    soln = Solution()\n",
    "\n",
    "    nums = [21, 4, 1, 3, 9, 20, 25, 6, 21, 14]\n",
    "    nums = soln.merge_sort(nums)\n",
    "    print(nums)"
   ]
  },
  {
   "cell_type": "markdown",
   "metadata": {
    "collapsed": true
   },
   "source": [
    "#### 5. Quick Sort \n",
    "\n",
    "In many cases, quick sort is one of the most efficient sorting algorithms. To do a quick sort, you essentially pick one of the values in the array at random. Move all values larger than it above it and all values below it, lower than it. The value that you pick initially is called a pivot. You continue on recursively, picking a pivot in the upper and lower sections of the array, sorting them similarily until the whole array is sorted. The convention is to pick the last element as your pivot.\n",
    "\n",
    "A quick sort first selects a value, which is called the pivot value. Although there are many different ways to choose the pivot value, we will simply use the right item in the list. The role of the pivot value is to assist with splitting the list. The actual position where the pivot value belongs in the final sorted list, commonly called the split point, will be used to divide the list for subsequent calls to the quick sort.\n",
    "\n",
    "* [youtube](https://www.youtube.com/watch?time_continue=201&v=kUon6854joI)\n",
    "* [Wikipedia](https://en.wikipedia.org/wiki/Quicksort)\n",
    "![quick sort animation](source/lesson3_sorting_quick.gif)\n",
    "![quick sort full example](source/lesson3_sorting_quick.png)\n",
    "\n",
    "![quick sort full example](source/lesson3_sorting_quick2.png)\n",
    "\n",
    "[Visualize](https://www.hackerearth.com/practice/algorithms/sorting/quick-sort/visualize/)\n",
    "\n",
    "Complexity:\n",
    "* Time complexity: average case = $O(n\\log{n})$, worst case = $O(n^2)$ (very very low probability), best case = $O(n\\log{n})$.\n",
    "* Space complexity: $O(\\log{n})$, worst case = $O(n)$ (very very low probability).\n",
    "\n",
    "<font color = 'blue'>Problem: why the space complecity for quick sort is $O(\\log{n})$?</font>  \n",
    "Answer: the space consumption depends on the stack space with respect to the recursion algorithm. The stack space is determined by the height of the tree, which is $O(h) = O(\\log n)$"
   ]
  },
  {
   "cell_type": "code",
   "execution_count": 10,
   "metadata": {},
   "outputs": [
    {
     "name": "stdout",
     "output_type": "stream",
     "text": [
      "[1, 3, 4, 6, 9, 14, 20, 21, 21, 25]\n"
     ]
    }
   ],
   "source": [
    "class Solution(object):\n",
    "    def quick_sort(self, nums):\n",
    "        if not nums:\n",
    "            return nums\n",
    "        \n",
    "        self.quick_sort_recur(nums, 0, len(nums) - 1)\n",
    "        \n",
    "    def quick_sort_recur(self, nums, start, end):\n",
    "        # base case\n",
    "        if start >= end:\n",
    "            return nums\n",
    "        \n",
    "        # what to do in the current stage\n",
    "        pivot_index = self.partition(nums, start, end)\n",
    "        \n",
    "        # what to get from your children\n",
    "        self.quick_sort_recur(nums, start, pivot_index - 1)\n",
    "        self.quick_sort_recur(nums, pivot_index + 1, end)\n",
    "        \n",
    "    def partition(self, nums, start, end):\n",
    "        pivot = nums[end]\n",
    "        \n",
    "        left = start\n",
    "        index = start\n",
    "        while index < end:\n",
    "            if nums[index] < pivot:\n",
    "                nums[left], nums[index] = nums[index], nums[left]\n",
    "                left += 1\n",
    "            index += 1\n",
    "            \n",
    "        nums[left], nums[end] = nums[end], nums[left]\n",
    "        return left\n",
    "    \n",
    "if __name__ == \"__main__\":\n",
    "    soln = Solution()\n",
    "\n",
    "    nums = [21, 4, 1, 3, 9, 20, 25, 6, 21, 14]\n",
    "    soln.quick_sort(nums)\n",
    "    print(nums)"
   ]
  },
  {
   "cell_type": "code",
   "execution_count": 11,
   "metadata": {},
   "outputs": [
    {
     "name": "stdout",
     "output_type": "stream",
     "text": [
      "[1, 3, 4, 6, 9, 14, 20, 21, 21, 25]\n"
     ]
    }
   ],
   "source": [
    "from random import randrange\n",
    "\n",
    "class Solution(object):                  \n",
    "\n",
    "    \n",
    "    def quick_sort(self, nums):\n",
    "        if not nums:\n",
    "            return nums\n",
    "        \n",
    "        self.quick_sort_recur(nums, 0, len(nums)-1)\n",
    "        \n",
    "    def quick_sort_recur(self, nums, start, end):\n",
    "        if start >= end:\n",
    "            return\n",
    "        \n",
    "        pivot_idx = randrange(start, end + 1)\n",
    "        new_pivot_idx = self.partition(nums, start, end, pivot_idx)\n",
    "        self.quick_sort_recur(nums, start, new_pivot_idx - 1)\n",
    "        self.quick_sort_recur(nums, new_pivot_idx + 1, end)\n",
    "        \n",
    "    def partition(self, nums, start, end, pivot_idx):\n",
    "        # swap\n",
    "        nums[pivot_idx], nums[end] = nums[end], nums[pivot_idx]\n",
    "        pivot = nums[end]\n",
    "        \n",
    "        slow, fast = start, start\n",
    "        while fast < end:\n",
    "            if nums[fast] < pivot:\n",
    "                nums[fast], nums[slow] = nums[slow], nums[fast]\n",
    "                slow += 1\n",
    "            fast += 1\n",
    "                \n",
    "        nums[slow], nums[end] = nums[end], nums[slow]\n",
    "        \n",
    "        return slow\n",
    "    \n",
    "if __name__ == \"__main__\":\n",
    "    soln = Solution()\n",
    "\n",
    "    nums = [21, 4, 1, 3, 9, 20, 25, 6, 21, 14]\n",
    "    soln.quick_sort(nums)\n",
    "    print(nums)"
   ]
  },
  {
   "cell_type": "markdown",
   "metadata": {},
   "source": [
    "#### Question 1: [Laicode 11] [Rainbow Sort](https://app.laicode.io/app/problem/11)\n",
    "Given an array of balls, where the color of the balls can only be  RED, GREEN, BLUE, sort the balls such that all the RED balls are grouped on the left side, all the green balls are grouped in the middle and all the blue balls are grouped on the right side .(RED is denoted by -1,Green is denoted by 0,BLUE is denoted by 1)\n",
    "\n",
    "Hint:  \n",
    "high level idea: move all -1s to the left, and 1s to the right, then all 0s remain in the middle.  \n",
    "\n",
    "Example:\n",
    "```\n",
    "Array needs to be sorted: 1 -1 0 1 0 -1  \n",
    "Output: -1 -1 0 0 1 1\n",
    "```"
   ]
  },
  {
   "cell_type": "markdown",
   "metadata": {},
   "source": [
    "Solution: 3 pointers. The left of \"left\" pointer is -1s, while the right of \"right\" pointer is 1s, the last point \"index\" is used to iterate in the loop.\n",
    "\n",
    "Example:\n",
    "```\n",
    "Array needs to be sorted: 1 -1 0 1 0 -1  \n",
    "Initial: _[1] -1 0 1  0 (-1), [left]=0, (right)=5, _index=0  \n",
    "Iter 0: 1==1, swap with right, (right)=5-1=4          --> _[-1] -1 0 1 (0) 1\n",
    "Iter 1: -1==-1, swap with left, [left]=0+1=1, index++ --> -1 _[-1] 0 1 (0) 1\n",
    "Iter 2: -1==-1, swap with left, [left]=1+1=2, index++ --> -1 -1 _[0] 1 (0) 1\n",
    "Iter 3: 0==0, no swap, index++                        --> -1 -1 [0] _1 (0) 1\n",
    "Iter 4: 1==1, swap with right, (right)=4-1=3          --> -1 -1 [0] _(0) 1 1\n",
    "Iter 5: 0==0, no swap, index++                        --> -1 -1 [0] (0) _1 1\n",
    "End iteration\n",
    "```"
   ]
  },
  {
   "cell_type": "code",
   "execution_count": 1,
   "metadata": {},
   "outputs": [
    {
     "name": "stdout",
     "output_type": "stream",
     "text": [
      "[-1, 1, 0, -1, 1, 0, -1, 0, 1, -1, 1, 0]\n",
      "[-1, 0, 0, -1, 1, 0, -1, 0, 1, -1, 1, 1]\n",
      "[-1, 0, 0, -1, 1, 0, -1, 0, 1, -1, 1, 1]\n",
      "[-1, -1, 0, 0, 1, 0, -1, 0, 1, -1, 1, 1]\n",
      "[-1, -1, 0, 0, 1, 0, -1, 0, 1, -1, 1, 1]\n",
      "[-1, -1, 0, 0, 1, 0, -1, 0, 1, -1, 1, 1]\n",
      "[-1, -1, -1, 0, 1, 0, 0, 0, 1, -1, 1, 1]\n",
      "[-1, -1, -1, 0, 1, 0, 0, 0, 1, -1, 1, 1]\n",
      "[-1, -1, -1, 0, 1, 0, 0, 0, -1, 1, 1, 1]\n",
      "[-1, -1, -1, 0, 1, 0, 0, 0, -1, 1, 1, 1]\n"
     ]
    }
   ],
   "source": [
    "# Try to debug the following code\n",
    "\n",
    "class Solution(object):\n",
    "    def rainbowSort(self, array):\n",
    "        \"\"\"\n",
    "        input: int[] array\n",
    "        return: int[]\n",
    "        Time complexity: O(n)\n",
    "        Space complexity: O(1)\n",
    "        \"\"\"\n",
    "        if not array:\n",
    "            return array\n",
    "        \n",
    "        left = 0\n",
    "        right = len(array) - 1\n",
    "        index = 0\n",
    "        while index <= right:\n",
    "            if array[index] == -1:\n",
    "                array[index], array[left] = array[left], array[index]\n",
    "                left += 1\n",
    "                index += 1\n",
    "            elif array[index] == 1:\n",
    "                array[index], array[right] = array[right], array[index]\n",
    "                right -= 1\n",
    "                index += 1\n",
    "            else:\n",
    "                index += 1\n",
    "            print(array)\n",
    "\n",
    "if __name__ == \"__main__\":\n",
    "    arr = [-1, 1, 0, -1, 1, 0, -1, 0, 1, -1, 1, 0]\n",
    "    soln = Solution()\n",
    "    soln.rainbowSort(arr)\n",
    "    print(arr)"
   ]
  },
  {
   "cell_type": "code",
   "execution_count": 2,
   "metadata": {},
   "outputs": [
    {
     "name": "stdout",
     "output_type": "stream",
     "text": [
      "[-1, 1, 0, -1, 1, 0, -1, 0, 1, -1, 1, 0]\n",
      "[-1, 0, 0, -1, 1, 0, -1, 0, 1, -1, 1, 1]\n",
      "[-1, 0, 0, -1, 1, 0, -1, 0, 1, -1, 1, 1]\n",
      "[-1, 0, 0, -1, 1, 0, -1, 0, 1, -1, 1, 1]\n",
      "[-1, -1, 0, 0, 1, 0, -1, 0, 1, -1, 1, 1]\n",
      "[-1, -1, 0, 0, 1, 0, -1, 0, 1, -1, 1, 1]\n",
      "[-1, -1, 0, 0, -1, 0, -1, 0, 1, 1, 1, 1]\n",
      "[-1, -1, -1, 0, 0, 0, -1, 0, 1, 1, 1, 1]\n",
      "[-1, -1, -1, 0, 0, 0, -1, 0, 1, 1, 1, 1]\n",
      "[-1, -1, -1, -1, 0, 0, 0, 0, 1, 1, 1, 1]\n",
      "[-1, -1, -1, -1, 0, 0, 0, 0, 1, 1, 1, 1]\n",
      "[-1, -1, -1, -1, 0, 0, 0, 0, 1, 1, 1, 1]\n",
      "[-1, -1, -1, -1, 0, 0, 0, 0, 1, 1, 1, 1]\n"
     ]
    }
   ],
   "source": [
    "class Solution(object):\n",
    "    def rainbowSort(self, array):\n",
    "        \"\"\"\n",
    "        input: int[] array\n",
    "        return: int[]\n",
    "        Time complexity: O(n)\n",
    "        Space complexity: O(1)\n",
    "        \"\"\"\n",
    "        if not array:\n",
    "            return array\n",
    "        \n",
    "        left = 0\n",
    "        right = len(array) - 1\n",
    "        index = 0\n",
    "        while index <= right:\n",
    "            if array[index] == -1:\n",
    "                array[index], array[left] = array[left], array[index]\n",
    "                left += 1\n",
    "                index += 1\n",
    "            elif array[index] == 1:\n",
    "                array[index], array[right] = array[right], array[index]\n",
    "                right -= 1\n",
    "                #index += 1\n",
    "            else:\n",
    "                index += 1\n",
    "            print(array)\n",
    "\n",
    "if __name__ == \"__main__\":\n",
    "    arr = [-1, 1, 0, -1, 1, 0, -1, 0, 1, -1, 1, 0]\n",
    "    soln = Solution()\n",
    "    soln.rainbowSort(arr)\n",
    "    print(arr)"
   ]
  },
  {
   "cell_type": "markdown",
   "metadata": {
    "collapsed": true
   },
   "source": [
    "#### Question 2: Find the k-th largest element in an array.\n",
    "(BA for general idea, DS for implementation)\n",
    "\n",
    "Example: if A = [3, 2, 1, 5, 4], then A[3] is the 1st largest element in A, A[0] is the 3rd largest element in A. Suppose all the entries are distinct."
   ]
  },
  {
   "cell_type": "markdown",
   "metadata": {
    "collapsed": true
   },
   "source": [
    "*Solution 1*:  \n",
    "Sort the array in descending order, and return the element at index k-1. Time Complexity: $O(n\\log{n})$\n",
    "\n",
    "*Solution 2*:  \n",
    "Heap. Time Complexity: $O(n + k\\log{n})$\n",
    "\n",
    "*Solution 3*:  \n",
    "Quick Sort.  \n",
    "```\n",
    "[...]      pivot      [...]\n",
    "x > pivot             x < pivot\n",
    "```"
   ]
  },
  {
   "cell_type": "code",
   "execution_count": 1,
   "metadata": {},
   "outputs": [
    {
     "name": "stdout",
     "output_type": "stream",
     "text": [
      "5\n",
      "4\n",
      "3\n",
      "2\n"
     ]
    }
   ],
   "source": [
    "import random\n",
    "\n",
    "class Solution(object):\n",
    "    def find_kth_largest(self, arr, k):\n",
    "        \"\"\"\n",
    "        arr[left: new_pivot_idx-1] contains elements greater than pivot\n",
    "        arr[new_pivot_idx+1:right] contains elements less than pivot\n",
    "        \"\"\"\n",
    "        if not arr:\n",
    "            return None\n",
    "        if len(arr) < k:\n",
    "            return None\n",
    "\n",
    "        left, right = 0, len(arr) - 1\n",
    "        while left <= right:\n",
    "            pivot_idx = random.randint(left, right)\n",
    "            new_pivot_idx = self.partition(left, right, pivot_idx, arr)\n",
    "            if new_pivot_idx == k - 1:\n",
    "                return arr[new_pivot_idx]\n",
    "            elif new_pivot_idx > k - 1:\n",
    "                right = new_pivot_idx - 1\n",
    "            else:\n",
    "                left = new_pivot_idx + 1\n",
    "\n",
    "    def partition(self, start, end, pivot_idx, arr):\n",
    "        arr[pivot_idx], arr[end] = arr[end], arr[pivot_idx]\n",
    "        pivot = arr[end]\n",
    "        #print(\"original array {}\".format(arr))\n",
    "        left = start\n",
    "        for index in range(start, end):\n",
    "            if arr[index] > pivot:\n",
    "                arr[index], arr[left] = arr[left], arr[index]\n",
    "                left += 1\n",
    "\n",
    "        arr[end], arr[left] = arr[left], arr[end]\n",
    "        #print(\"partioned array {}\".format(arr))\n",
    "        #print(\"pivot value and index are: ({}, {})\".format(pivot, left))\n",
    "        return left    \n",
    "    \n",
    "if __name__ == \"__main__\":\n",
    "    soln = Solution()\n",
    "    \n",
    "    print(soln.find_kth_largest(arr=[3,2,5,1,4,0], k=1))\n",
    "    print(soln.find_kth_largest(arr=[3,2,5,1,4,0], k=2))\n",
    "    print(soln.find_kth_largest(arr=[3,2,5,1,4,0], k=3))\n",
    "    print(soln.find_kth_largest(arr=[2,2], k=2))"
   ]
  },
  {
   "cell_type": "markdown",
   "metadata": {},
   "source": [
    "Time Complexity: \n",
    "\\begin{align}\n",
    "T(n) &= T(n/2) + O(n) \\\\\n",
    "     &= T(n/4) + O(n/2 + n) \\\\\n",
    "     &= \\ldots \\\\\n",
    "     &= T(n/2^{k}) + O(n + n/2 + \\ldots + n/2^{k}) \\\\\n",
    "     &= T(1) + O(2n(1-0.5^k))\n",
    "\\end{align}\n",
    "Let $n = 2^{k}$, then\n",
    "\\begin{align}\n",
    "T(n) = T(1) + O(2n-2)\n",
    "\\end{align}\n",
    "Hence, $T(n) = O(n)$\n",
    "\n",
    "Space Complexity: O(1)"
   ]
  },
  {
   "cell_type": "markdown",
   "metadata": {},
   "source": [
    "#### Quiz 1: Why do we say $O(n\\log{n})$ is the lower bound of comparison based sorting algorithms? Can you give an explanation in 5 min? \n",
    "\n",
    "Given n numbers, how many different orderings? $n!$  \n",
    "x, y, half of $n!$ satisfying x <= y, the other half x > y.  \n",
    "$\\log(n!) = O(n\\log{n})$   \n",
    "[Stirling formula](https://en.wikipedia.org/wiki/Stirling%27s_approximation)\n",
    "\n",
    "#### Quiz 2: Which sorting algorithm to use if you are given 1MB data? What about 10MB, 100MB, 1GB, 1TB, 1PB?  "
   ]
  },
  {
   "cell_type": "markdown",
   "metadata": {},
   "source": [
    "## 8.2 Leetcode Training (Basic)"
   ]
  },
  {
   "cell_type": "markdown",
   "metadata": {},
   "source": [
    "[Leetcode 0056 Medium] [Merge Intervals](Leetcode_0056.ipynb) (Sorting)\n",
    "\n",
    "[Leetcode 0075 Medium] [Sort Colors](Leetcode_0075.ipynb) (Sorting)\n",
    "\n",
    "[Leetcode 0215 Medium] [Kth Largest Element in an Array](Leetcode_0215.ipynb) (Sorting)\n",
    "\n",
    "[Leetcode 0252 Easy] [Meeting Rooms](Leetcode_0252.ipynb) (Sorting)  \n",
    "[Leetcode 0253 Medium] [Meeting Rooms II](Leetcode_0253.ipynb) (Sorting) \n",
    "\n",
    "[Leetcode 0280 Medium] [Wiggle Sort](Leetcode_0280.ipynb) (Sorting)   \n",
    "[Leetcode 0324 Medium] [Wiggle Sort II](Leetcode_0324.ipynb) (Sorting)\n",
    "\n"
   ]
  },
  {
   "cell_type": "markdown",
   "metadata": {},
   "source": [
    "## 8.3 Leetcode Practice (Advanced)"
   ]
  },
  {
   "cell_type": "markdown",
   "metadata": {},
   "source": [
    "[Leetcode 0875 Medium] [Koko Eating Bananas](Leetcode_0875.ipynb) (Sorting)\n",
    "\n",
    "[Leetcode 0973 Medium] [K Closest Points to Origin](Leetcode_0973.ipynb) (Sorting)\n",
    "\n",
    "[Leetcode 1011 Medium] [Capacity To Ship Packages Within D Days](Leetcode_1011.ipynb) (Sorting)\n",
    "\n",
    "[Lioncode 0002 Medium] [Sort Array with A Few Outliers](Lioncode_002.ipynb) (Sorting)"
   ]
  },
  {
   "cell_type": "code",
   "execution_count": null,
   "metadata": {
    "collapsed": true
   },
   "outputs": [],
   "source": []
  }
 ],
 "metadata": {
  "kernelspec": {
   "display_name": "Python 3",
   "language": "python",
   "name": "python3"
  },
  "language_info": {
   "codemirror_mode": {
    "name": "ipython",
    "version": 3
   },
   "file_extension": ".py",
   "mimetype": "text/x-python",
   "name": "python",
   "nbconvert_exporter": "python",
   "pygments_lexer": "ipython3",
   "version": "3.6.1"
  }
 },
 "nbformat": 4,
 "nbformat_minor": 2
}
