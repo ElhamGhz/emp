{
 "cells": [
  {
   "cell_type": "markdown",
   "metadata": {},
   "source": [
    "#### [Leetcode 590 Easy] [N-ary Tree Postorder Traversal](https://leetcode.com/problems/n-ary-tree-postorder-traversal/)\n",
    "\n",
    "Given an n-ary tree, return the preorder traversal of its nodes' values.\n",
    "\n",
    "For example, given a 3-ary tree:\n",
    "```\n",
    "                         1\n",
    "                      /  |  \\\n",
    "                    3    2    4\n",
    "                  /  \\\n",
    "                 5    4\n",
    "\n",
    "Return its preorder traversal as: [5,6,3,2,4,1].\n",
    "```\n",
    "\n",
    "Note:\n",
    "* Recursive solution is trivial, could you do it iteratively?"
   ]
  },
  {
   "cell_type": "code",
   "execution_count": 1,
   "metadata": {
    "collapsed": true
   },
   "outputs": [],
   "source": [
    "\"\"\"\n",
    "# Definition for a Node.\n",
    "class Node(object):\n",
    "    def __init__(self, val, children):\n",
    "        self.val = val\n",
    "        self.children = children\n",
    "\"\"\"\n",
    "class Solution(object):\n",
    "    def postorder(self, root):\n",
    "        \"\"\"\n",
    "        :type root: Node\n",
    "        :rtype: List[int]\n",
    "        \"\"\"\n",
    "        if not root:\n",
    "            return []\n",
    "        \n",
    "        result = []\n",
    "        self.helper(root, result)\n",
    "        \n",
    "        return result\n",
    "        \n",
    "    def helper(self, root, result):\n",
    "        if not root:\n",
    "            return\n",
    "        \n",
    "        for child in root.children:\n",
    "            self.helper(child, result)\n",
    "            \n",
    "        result.append(root.val)    \n",
    "        return"
   ]
  },
  {
   "cell_type": "code",
   "execution_count": null,
   "metadata": {
    "collapsed": true
   },
   "outputs": [],
   "source": []
  }
 ],
 "metadata": {
  "kernelspec": {
   "display_name": "Python 3",
   "language": "python",
   "name": "python3"
  },
  "language_info": {
   "codemirror_mode": {
    "name": "ipython",
    "version": 3
   },
   "file_extension": ".py",
   "mimetype": "text/x-python",
   "name": "python",
   "nbconvert_exporter": "python",
   "pygments_lexer": "ipython3",
   "version": "3.6.3"
  }
 },
 "nbformat": 4,
 "nbformat_minor": 2
}
