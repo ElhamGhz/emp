{
 "cells": [
  {
   "cell_type": "markdown",
   "metadata": {},
   "source": [
    "#### [Leetcode 236 Medium] [Lowest Common Ancestor (LCA) of a Binary Tree](https://leetcode.com/problems/lowest-common-ancestor-of-a-binary-tree/)\n",
    "\n",
    "Given a binary tree, find the lowest common ancestor (LCA) of two given nodes in the tree.\n",
    "\n",
    "According to the definition of LCA on Wikipedia: “The lowest common ancestor is defined between two nodes p and q as the lowest node in T that has both p and q as descendants (where we allow a node to be a descendant of itself).”\n",
    "\n",
    "Given the following binary tree:  root = [3,5,1,6,2,0,8,null,null,7,4]\n",
    "\n",
    "<img src=\"Source/Leetcode_236.png\">\n",
    "\n",
    "Example 1:\n",
    "```\n",
    "Input: root = [3,5,1,6,2,0,8,null,null,7,4], p = 5, q = 1\n",
    "Output: 3\n",
    "Explanation: The LCA of nodes 5 and 1 is 3.\n",
    "```\n",
    "\n",
    "Example 2:\n",
    "```\n",
    "Input: root = [3,5,1,6,2,0,8,null,null,7,4], p = 5, q = 4\n",
    "Output: 5\n",
    "Explanation: The LCA of nodes 5 and 4 is 5, since a node can be a descendant of itself according to the LCA definition.\n",
    "```"
   ]
  },
  {
   "cell_type": "markdown",
   "metadata": {},
   "source": [
    "<font color='blue'>Solution:  </font>\n",
    "\n",
    "```\n",
    "                root\n",
    "               /    \n",
    "          (node1)   \n",
    "          /    \\\n",
    "       node2  node3 <--\n",
    "      /     \\\n",
    "--> node4   node5    \n",
    "```\n",
    "Assume that node1 and node2 are what we seek for, node1 and node2 are expected to be in the binary tree\n",
    "\n",
    "Assume that p and q are the nodes to find.\n",
    "1. What is the base case?  \n",
    "   If root is None, return None. If root == p or root == q, return root.\n",
    "2. What to get from your children?  \n",
    "   LCA result in the children. Three cases: LCA, p or q, None.\n",
    "3. What to do in the current stage?  \n",
    "   Case 1: LCA found at both children, then current root is LCA  \n",
    "   Case 2: LCA found at one side of children, then LCA found in the children\n",
    "4. What to return to your parent?\n",
    "   LCA of p,q from current node"
   ]
  },
  {
   "cell_type": "code",
   "execution_count": 1,
   "metadata": {},
   "outputs": [],
   "source": [
    "from helper import TreeNode\n",
    "from helper import BinaryTree"
   ]
  },
  {
   "cell_type": "code",
   "execution_count": 4,
   "metadata": {},
   "outputs": [
    {
     "name": "stdout",
     "output_type": "stream",
     "text": [
      "[[3], [5, 1], [6, 2, 0, 8], [' ', ' ', 7, 4, ' ', ' ', ' ', ' ']]\n",
      "3\n",
      "5\n"
     ]
    }
   ],
   "source": [
    "class Solution(object):\n",
    "    def lowestCommonAncestor(self, root, p, q):\n",
    "        \"\"\"\n",
    "        :type root: TreeNode\n",
    "        :type p: TreeNode\n",
    "        :type q: TreeNode\n",
    "        :rtype: TreeNode\n",
    "        \"\"\"\n",
    "        # Base case\n",
    "        if not root:\n",
    "            return None\n",
    "        \n",
    "        if root == p or root == q:\n",
    "            return root\n",
    "        \n",
    "        # what to get from your children\n",
    "        left_res = self.lowestCommonAncestor(root.left, p, q)\n",
    "        right_res = self.lowestCommonAncestor(root.right, p, q)\n",
    "        \n",
    "        # what to do in the current stage\n",
    "        if left_res and right_res:\n",
    "            lca = root\n",
    "        elif left_res and not right_res:\n",
    "            lca = left_res\n",
    "        elif not left_res and right_res:\n",
    "            lca = right_res\n",
    "        else:\n",
    "            lca = None\n",
    "            \n",
    "        # what to return to your parent\n",
    "        return lca\n",
    "    \n",
    "if __name__ == \"__main__\":\n",
    "    tree = BinaryTree()\n",
    "    soln = Solution()\n",
    "    \n",
    "    root = TreeNode(3)\n",
    "    root.left = TreeNode(5)\n",
    "    root.right = TreeNode(1)\n",
    "    root.left.left = TreeNode(6)\n",
    "    root.left.right = TreeNode(2)\n",
    "    root.right.left = TreeNode(0)\n",
    "    root.right.right = TreeNode(8)\n",
    "    root.left.right.left = TreeNode(7)\n",
    "    root.left.right.right = TreeNode(4)\n",
    "        \n",
    "    print(tree.BFS_traversal(root))\n",
    "    \n",
    "    p = root.left\n",
    "    q = root.right\n",
    "    lca = soln.lowestCommonAncestor(root, p, q)\n",
    "    print(lca.val) if lca else None\n",
    "    \n",
    "    p = root.left.right.left\n",
    "    q = root.left\n",
    "    lca = soln.lowestCommonAncestor(root, p, q)\n",
    "    print(lca.val) if lca else None"
   ]
  },
  {
   "cell_type": "code",
   "execution_count": null,
   "metadata": {},
   "outputs": [],
   "source": []
  }
 ],
 "metadata": {
  "kernelspec": {
   "display_name": "Python 3",
   "language": "python",
   "name": "python3"
  },
  "language_info": {
   "codemirror_mode": {
    "name": "ipython",
    "version": 3
   },
   "file_extension": ".py",
   "mimetype": "text/x-python",
   "name": "python",
   "nbconvert_exporter": "python",
   "pygments_lexer": "ipython3",
   "version": "3.6.5"
  }
 },
 "nbformat": 4,
 "nbformat_minor": 2
}
