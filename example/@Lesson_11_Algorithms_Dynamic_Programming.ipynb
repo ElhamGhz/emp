{
 "cells": [
  {
   "cell_type": "markdown",
   "metadata": {},
   "source": [
    "# Lesson 11: Algorithms -- Dynamic Programming\n",
    "----\n",
    "In this lesson, we will cover the following parts:\n",
    "* 11.1: Lecture Note\n",
    "* 11.2: Leetcode Training (Basic)\n",
    "* 11.3: Leetcode Practice (Advanced)"
   ]
  },
  {
   "cell_type": "markdown",
   "metadata": {},
   "source": [
    "## 11.0 Summary\n",
    "\n",
    "### 11.0.0 Dynamic Programming\n",
    "动态规划的实质\n",
    "* 记忆化搜索\n",
    "* 避免重复的中间结果计算\n",
    "\n",
    "### 11.0.1 When to / not to Use Dynamic Programming\n",
    "\n",
    "It is highly probable to use dynamic programming when you encounter the following problems\n",
    "1. To get max/min value\n",
    "2. To determine feasibility\n",
    "3. To count possbile solutions\n",
    "\n",
    "#### 什么情况下使用动态规划？\n",
    "满足下面三个条件之,：\n",
    "* 最优：求最大值最小值\n",
    "* 可行：判断是否可行\n",
    "* 方案数：统计方案个数 或者 输出一种最优方案\n",
    "\n",
    "则 *极有可能* 是使用动态规划求解\n",
    "\n",
    "动态规划只能记录一种最优的方案\n",
    "\n",
    "#### 什么情况下不使用动态规划？\n",
    "* 所有方案：求出 所有 具体 的方案而非方案 个数 http://www.lintcode.com/problem/palindrome-partitioning/\n",
    "* 输入集合：输入数据是一个 集合 而不是 序列 http://www.lintcode.com/problem/longest-consecutive-sequence/\n",
    "* 暴力算法的复杂度已经是多项式级别\n",
    "  * 动态规划擅长与优化指数级别复杂度(2^n,n!)到多项式级别复杂度(n^2,n^3)\n",
    "  * 不擅长优化n^3到n^2\n",
    "\n",
    "则 *极不可能* 使用动态规划求解\n",
    "\n",
    "### 11.0.2 动规四要素 vs 递归三要素\n",
    "\n",
    "#### 动规四要素\n",
    "* 状态 State\n",
    "  * 灵感，创㐀力，存储小规模问题的结果\n",
    "* 方程 Function\n",
    "  * 状态之间的联系，怎么通过小的状态，来算大的状态\n",
    "* 初始化 Initialization\n",
    "  * 最极限的小状态是什么, 起点\n",
    "* 答案 Answer\n",
    "  * 最大的那个状态是什么，终点\n",
    "\n",
    "#### 递归三要素：\n",
    "* 定义（状态）\n",
    "  * 接受什么参数\n",
    "  * 做了什么事\n",
    "  * 返回什么值\n",
    "* 拆解（方程）\n",
    "  * 如何将参数变小\n",
    "* 出口（初始化）\n",
    "  * 什么时候可以直接 return\n",
    "\n",
    "### 面试中常见的动态规划类型\n",
    "\n",
    "#### 坐标型动态规划 10%\n",
    "有坐标，有起点、终点\n",
    "\n",
    "* state:\n",
    "  * f[x] 表示我从起点走到坐标x……\n",
    "  * f[x][y] 表示我从起点走到坐标x,y……\n",
    "* function: 研究走到x,y这个点之前的一步\n",
    "* initialize: 起点\n",
    "  * 初始化一个二维的动态规划时，就去初始化第0行和第0列（独孤九剑 —— 破气式）\n",
    "* answer: 终点\n",
    "\n",
    "1. [Minimum Path Sum](http://www.jiuzhang.com/solutions/minimum-path-sum/)\n",
    "2. [Unique Path](http://www.jiuzhang.com/solutions/unique-paths/)\n",
    "3. [Climbing Stairs](http://www.jiuzhang.com/solutions/climbing-stairs/)\n",
    "4. [跳跃游戏 I](http://www.lintcode.com/en/problem/jump-game/)\n",
    "   [跳跃游戏 II](http://www.lintcode.com/en/problem/jump-game-ii/)\n",
    "\n",
    "#### 接龙型动态规划 20% (属于“坐标型”动态规划的一种)\n",
    "\n",
    "1. [Longest Increasing Subsequence](http://www.jiuzhang.com/solutions/longest-increasing-subsequence/)\n",
    "2. [Perfect Squares](http://www.jiuzhang.com/solutions/perfect-squares/)\n",
    "3. [Largest Divisible Subset](http://www.jiuzhang.com/solutions/largest-divisible-subset/)\n",
    "4. [俄罗斯套娃](http://www.lintcode.com/en/problem/russian-doll-envelopes/)\n",
    "5. [青蛙过河](http://www.lintcode.com/en/problem/frog-jump/)\n",
    "\n",
    "#### 划分型动态规划 20%\n",
    "\n",
    "#### 双序列动态规划 20%\n",
    "\n",
    "#### 背包型动态规划 20%\n",
    "\n",
    "#### 区间型动态规划 10%"
   ]
  },
  {
   "cell_type": "markdown",
   "metadata": {},
   "source": [
    "## 11.1: Lecture Note"
   ]
  },
  {
   "cell_type": "markdown",
   "metadata": {},
   "source": [
    "### 11.1.1 通过一道经典题理解动态规划"
   ]
  },
  {
   "cell_type": "markdown",
   "metadata": {},
   "source": [
    "#### Question: [Leetcode 120 Medium] [Triangle](https://leetcode.com/problems/triangle/)\n",
    "\n",
    "Given a triangle, find the minimum path sum from top to bottom. Each step you may move to adjacent numbers on the row below.\n",
    "\n",
    "For example, given the following triangle\n",
    "```\n",
    "[\n",
    "     [2],\n",
    "    [3,4],\n",
    "   [6,5,7],\n",
    "  [4,1,8,3]\n",
    "]\n",
    "The minimum path sum from top to bottom is 11 (i.e., 2 + 3 + 5 + 1 = 11).\n",
    "```\n",
    "\n",
    "Note:\n",
    "* Bonus point if you are able to do this using only O(n) extra space, where n is the total number of rows in the triangle.\n",
    "\n",
    "\n",
    "*Solution*:  \n",
    "* DFS: Traverse\n",
    "* DFS: Divide Conquer\n",
    "* Divide Conquer + Memorization\n",
    "* Traditional Dynamic Programming"
   ]
  },
  {
   "cell_type": "code",
   "execution_count": 25,
   "metadata": {},
   "outputs": [
    {
     "name": "stdout",
     "output_type": "stream",
     "text": [
      "11\n"
     ]
    }
   ],
   "source": [
    "# DFS: traverse / backtracking -- Top Down\n",
    "# Time Complexity: O(2^n)\n",
    "# Space Complexity: O(h) = O(n)\n",
    "\n",
    "class Solution(object):\n",
    "    def minimumTotal(self, triangle):\n",
    "        \"\"\"\n",
    "        :type triangle: List[List[int]]\n",
    "        :rtype: int\n",
    "        \"\"\"\n",
    "        if not triangle or not triangle[0]:\n",
    "            return 0\n",
    "        \n",
    "        self.minimum = float('inf')\n",
    "        prefix_sum = [0]\n",
    "        self.traverse(0, 0, prefix_sum, triangle)\n",
    "        return self.minimum\n",
    "    \n",
    "    def traverse(self, x, y, prefix_sum, triangle):\n",
    "        # found a whole path from top to bottom\n",
    "        if x == len(triangle):\n",
    "            if prefix_sum[0] < self.minimum:\n",
    "                self.minimum = prefix_sum[0]\n",
    "            return\n",
    "\n",
    "        prefix_sum[0] += triangle[x][y]\n",
    "        # possible decisions\n",
    "        dx, dy = [1, 1], [0, 1]\n",
    "        for d in range(len(dx)):\n",
    "            nx, ny = x + dx[d], y + dy[d]\n",
    "            self.traverse(nx, ny, prefix_sum, triangle)\n",
    "                \n",
    "        prefix_sum[0] -= triangle[x][y]\n",
    "\n",
    "                    \n",
    "if __name__ == \"__main__\":\n",
    "    triangle = [\n",
    "        [2],\n",
    "        [3,4],\n",
    "        [6,5,7],\n",
    "        [4,1,8,3]]\n",
    "    \n",
    "    soln = Solution()\n",
    "    print(soln.minimumTotal(triangle))    "
   ]
  },
  {
   "cell_type": "code",
   "execution_count": 26,
   "metadata": {},
   "outputs": [
    {
     "name": "stdout",
     "output_type": "stream",
     "text": [
      "11\n"
     ]
    }
   ],
   "source": [
    "# DFS: traverse / backtracking -- Top Down\n",
    "# Time Complexity: O(2^n)\n",
    "# Space Complexity: O(h) = O(n)\n",
    "\n",
    "class Solution(object):\n",
    "    def minimumTotal(self, triangle):\n",
    "        \"\"\"\n",
    "        :type triangle: List[List[int]]\n",
    "        :rtype: int\n",
    "        \"\"\"\n",
    "        if not triangle or not triangle[0]:\n",
    "            return 0\n",
    "        \n",
    "        self.minimum = float('inf')\n",
    "        prefix_sum = [triangle[0][0]]\n",
    "        self.traverse(0, 0, prefix_sum, triangle)\n",
    "        return self.minimum\n",
    "    \n",
    "    def traverse(self, x, y, prefix_sum, triangle):\n",
    "        # possible decisions\n",
    "        dx, dy = [1, 1], [0, 1]\n",
    "        for d in range(len(dx)):\n",
    "            nx, ny = x + dx[d], y + dy[d]\n",
    "            \n",
    "            if nx == len(triangle):  # Base case\n",
    "                if prefix_sum[0] < self.minimum:\n",
    "                    self.minimum = prefix_sum[0]\n",
    "                return\n",
    "            \n",
    "            prefix_sum[0] += triangle[nx][ny]\n",
    "            self.traverse(nx, ny, prefix_sum, triangle)\n",
    "            prefix_sum[0] -= triangle[nx][ny]\n",
    "\n",
    "                    \n",
    "if __name__ == \"__main__\":\n",
    "    triangle = [\n",
    "        [2],\n",
    "        [3,4],\n",
    "        [6,5,7],\n",
    "        [4,1,8,3]]\n",
    "    \n",
    "    soln = Solution()\n",
    "    print(soln.minimumTotal(triangle))    "
   ]
  },
  {
   "cell_type": "code",
   "execution_count": 30,
   "metadata": {},
   "outputs": [
    {
     "name": "stdout",
     "output_type": "stream",
     "text": [
      "11\n"
     ]
    }
   ],
   "source": [
    "# DFS: divide and conquer -- Bottom Up\n",
    "# Time Complexity: O(2^n)\n",
    "# Space Complexity: O(h) = O(n)\n",
    "\n",
    "class Solution(object):\n",
    "    def minimumTotal(self, triangle):\n",
    "        \"\"\"\n",
    "        :type triangle: List[List[int]]\n",
    "        :rtype: int\n",
    "        \"\"\"\n",
    "        if not triangle or not triangle[0]:\n",
    "            return 0\n",
    "        \n",
    "        return self.divide_conquer(0, 0, triangle)\n",
    "    \n",
    "    def divide_conquer(self, x, y, triangle):\n",
    "        # base case\n",
    "        if x == len(triangle):\n",
    "            return 0\n",
    "        \n",
    "        # what to get from your children\n",
    "        children_res = []\n",
    "        # possible decisions\n",
    "        # dx, dy = [1, 1], [0, 1]\n",
    "        # for d in range(len(dx)):\n",
    "        #    nx, ny = x + dx[d], y + dy[d]\n",
    "        #    results.append(self.divide_conquer(nx, ny, triangle))\n",
    "        children_res.append(self.divide_conquer(x + 1, y, triangle))\n",
    "        children_res.append(self.divide_conquer(x + 1, y + 1, triangle))\n",
    "        \n",
    "        # what to do in the current stage\n",
    "        curr_res = triangle[x][y] + min(children_res)\n",
    "        \n",
    "        # what to return to your parent\n",
    "        return curr_res\n",
    "\n",
    "                    \n",
    "if __name__ == \"__main__\":\n",
    "    triangle = [\n",
    "        [2],\n",
    "        [3,4],\n",
    "        [6,5,7],\n",
    "        [4,1,8,3]]\n",
    "    \n",
    "    soln = Solution()\n",
    "    print(soln.minimumTotal(triangle))    "
   ]
  },
  {
   "cell_type": "code",
   "execution_count": 32,
   "metadata": {},
   "outputs": [
    {
     "name": "stdout",
     "output_type": "stream",
     "text": [
      "11\n"
     ]
    }
   ],
   "source": [
    "# DFS: divide and conquer + Memorization -- Bottom Up 记忆法搜索\n",
    "# Time Complexity: O(n^2), the number of nodes O(1 + 2 + 4 + ... + n) = O(n(n+1)/2) = O(n^2)\n",
    "# Space Complexity: O(n^2)\n",
    "\n",
    "class Solution(object):\n",
    "    def minimumTotal(self, triangle):\n",
    "        \"\"\"\n",
    "        :type triangle: List[List[int]]\n",
    "        :rtype: int\n",
    "        \"\"\"\n",
    "        if not triangle or not triangle[0]:\n",
    "            return 0\n",
    "        \n",
    "        cache = [[None for y in range(len(triangle[x]))] for x in range(len(triangle))]\n",
    "        \n",
    "        return self.divide_conquer(0, 0, triangle, cache)\n",
    "    \n",
    "    def divide_conquer(self, x, y, triangle, cache):\n",
    "        # base case\n",
    "        if x == len(triangle):\n",
    "            return 0\n",
    "        \n",
    "        if cache[x][y]:\n",
    "            return cache[x][y]\n",
    "        \n",
    "        # what to get from your children\n",
    "        children_res = []\n",
    "        # possible decisions\n",
    "        # dx, dy = [1, 1], [0, 1]\n",
    "        # for d in range(len(dx)):\n",
    "        #    nx, ny = x + dx[d], y + dy[d]\n",
    "        #    results.append(self.divide_conquer(nx, ny, triangle))\n",
    "        children_res.append(self.divide_conquer(x + 1, y, triangle, cache))\n",
    "        children_res.append(self.divide_conquer(x + 1, y + 1, triangle, cache))\n",
    "        \n",
    "        # what to do in the current stage\n",
    "        cache[x][y] = triangle[x][y] + min(children_res)\n",
    "        \n",
    "        # what to return to your parent\n",
    "        return cache[x][y]\n",
    "\n",
    "                    \n",
    "if __name__ == \"__main__\":\n",
    "    triangle = [\n",
    "        [2],\n",
    "        [3,4],\n",
    "        [6,5,7],\n",
    "        [4,1,8,3]]\n",
    "    \n",
    "    soln = Solution()\n",
    "    print(soln.minimumTotal(triangle))    "
   ]
  },
  {
   "cell_type": "markdown",
   "metadata": {
    "collapsed": true
   },
   "source": [
    "**记忆化搜索的本质：动态规划**\n",
    "\n",
    "动态规划为什么会快？避免了重复计算！\n",
    "\n",
    "动态规划与分治的区别？\n",
    "\n",
    "**动态规划的实现方式**\n",
    "\n",
    "1. 多重循环\n",
    "  * 优点：正规，大多数面试官可以接受，存在空间优化可能性。\n",
    "  * 缺点：思考有难度。\n",
    "2. 记忆化搜索（基于分治法 Divide and Conquer）\n",
    "  * 优点：容易从搜索算法直接转化过来。有的时候可以节省更多的时间。\n",
    "  * 缺点：递归。\n",
    "  \n",
    "**动规四要素**\n",
    "\n",
    "（BOTTOM UP）  \n",
    "A[][]\n",
    "* 状态 State定义\n",
    "  * f[x][y] 表示从 i，j 出发到达最后一层的最小路径长度\n",
    "* 初始化 Initialization\n",
    "  * 初始化最后一行\n",
    "* 方程 Function\n",
    "  * f[i][j] = min(f[i+1][j], f[i+1][j+1]) + A[i][j]\n",
    "* 答案 Answer\n",
    "  * 起点 f[0][0]\n",
    "  \n",
    "（BOTTOM UP）  \n",
    "A[][]\n",
    "* 状态 State定义\n",
    "  * f[x][y] 表示从 0, 0 出发到达当前点 x,y 的最小路径长度\n",
    "* 初始化 Initialization\n",
    "  * 初始化起点以及三角形的左边和右边\n",
    "* 方程 Function\n",
    "  * f[i][j] = min(f[i-1][j], f[i-1][j-1]) + A[i][j]\n",
    "* 答案 Answer\n",
    "  * 起点 min(f[n-1][0], f[n-1][1], f[n-1][2], ..., f[n-1][n-1])"
   ]
  },
  {
   "cell_type": "code",
   "execution_count": 5,
   "metadata": {},
   "outputs": [
    {
     "name": "stdout",
     "output_type": "stream",
     "text": [
      "[[11], [9, 10], [7, 6, 10], [4, 1, 8, 3]]\n",
      "11\n",
      "[[2], [5, 6], [11, 10, 13], [15, 11, 18, 16]]\n",
      "11\n"
     ]
    }
   ],
   "source": [
    "# 动态规划：多重循环\n",
    "# Time Complexity: O(n^2), the number of nodes O(1 + 2 + 4 + ... + n) = O(n(n+1)/2) = O(n^2)\n",
    "# Space Complexity: O(n^2)\n",
    "\n",
    "class Solution(object):\n",
    "    def minimumTotal1(self, triangle):\n",
    "        \"\"\"\n",
    "        BOTTOM UP\n",
    "        \"\"\"\n",
    "        if not triangle or not triangle[0]:\n",
    "            return 0\n",
    "        \n",
    "        row, col = len(triangle), len(triangle[-1])\n",
    "        \n",
    "        # state definition\n",
    "        # f[x][y] represents the minimum path from (x, y) to the bottom\n",
    "        f = [[0 for y in range(len(triangle[x]))] for x in range(len(triangle))]\n",
    "        \n",
    "        # state initialization\n",
    "        # the bottom row\n",
    "        for j in range(col):\n",
    "            f[row - 1][j] = triangle[row - 1][j]\n",
    "            \n",
    "        # state transition function -- bottom up\n",
    "        for x in range(row - 2, -1, -1):\n",
    "            for y in range(0, x + 1):\n",
    "                f[x][y] = min(f[x + 1][y], f[x + 1][y + 1]) + triangle[x][y]\n",
    "                \n",
    "        print(f)\n",
    "        # final state\n",
    "        return f[0][0]\n",
    "    \n",
    "    def minimumTotal2(self, triangle):\n",
    "        \"\"\"\n",
    "        TOP DOWN\n",
    "        \"\"\"\n",
    "        if not triangle or not triangle[0]:\n",
    "            return 0\n",
    "        \n",
    "        row, col = len(triangle), len(triangle[-1])\n",
    "        \n",
    "        # state definition\n",
    "        # f[x][y] represents the minimum path from (0, 0) to (x, y)\n",
    "        f = [[0 for y in range(len(triangle[x]))] for x in range(len(triangle))]\n",
    "        \n",
    "        # state initialization\n",
    "        # the starting point, the left & right edge of the triangle (只有一条路径)\n",
    "        f[0][0] = triangle[0][0]\n",
    "        for i in range(1, row):\n",
    "            f[i][0] = f[i - 1][0] + triangle[i][0]\n",
    "            f[i][i] = f[i - 1][i - 1] + triangle[i][i]\n",
    "            \n",
    "        # state transition function -- top down\n",
    "        for x in range(1, row):\n",
    "            for y in range(1, x):\n",
    "                f[x][y] = min(f[x - 1][y], f[x - 1][y - 1]) + triangle[x][y]\n",
    "                \n",
    "        print(f)\n",
    "        # final state\n",
    "        return min(f[row - 1])\n",
    "                      \n",
    "if __name__ == \"__main__\":\n",
    "    triangle = [\n",
    "        [2],\n",
    "        [3,4],\n",
    "        [6,5,7],\n",
    "        [4,1,8,3]]\n",
    "    \n",
    "    soln = Solution()\n",
    "    print(soln.minimumTotal1(triangle)) \n",
    "    print(soln.minimumTotal2(triangle)) "
   ]
  },
  {
   "cell_type": "code",
   "execution_count": null,
   "metadata": {
    "collapsed": true
   },
   "outputs": [],
   "source": []
  },
  {
   "cell_type": "markdown",
   "metadata": {
    "collapsed": true
   },
   "source": [
    "### 11.1.1 坐标型动态规划\n",
    "\n",
    "* state:\n",
    "  * f[x] 表示我从起点走到坐标x……\n",
    "  * f[x][y] 表示我从起点走到坐标x,y……\n",
    "* function: 研究走到x,y这个点之前的一步\n",
    "* initialize: 起点\n",
    "  * 初始化一个二维的动态规划时，就去初始化第0行和第0列（独孤九剑 —— 破气式）\n",
    "* answer: 终点"
   ]
  },
  {
   "cell_type": "markdown",
   "metadata": {
    "collapsed": true
   },
   "source": [
    "#### Question 1: [Lintcode 110] [Minimum Path Sum](https://www.jiuzhang.com/solutions/minimum-path-sum/#tag-highlight-lang-python)\n",
    "\n",
    "Given a m x n grid filled with non-negative numbers, find a path from top left to bottom right which minimizes the sum of all numbers along its path.\n",
    "\n",
    "Example 1:\n",
    "```\n",
    "Input:  [[1,3,1],[1,5,1],[4,2,1]]\n",
    "Output: 7\n",
    "\n",
    "Explanation:\n",
    "Path is: 1 -> 3 -> 1 -> 1 -> 1\n",
    "```\n",
    "\n",
    "Example 2:\n",
    "```\n",
    "Input:  [[1,3,2]]\n",
    "Output: 6\n",
    "\n",
    "Explanation:  \n",
    "Path is: 1 -> 3 -> 2\n",
    "```\n",
    "\n",
    "* state: f[x][y]从起点走到x,y的最短路径\n",
    "* intialize: \n",
    "  * f[i][0] = sum(0,0 ~ i,0)\n",
    "  * f[0][i] = sum(0,0 ~ 0,i)\n",
    "* function: f[x][y] = min(f[x-1][y], f[x][y-1]) + A[x][y]\n",
    "* answer: f[n-1][m-1]"
   ]
  },
  {
   "cell_type": "code",
   "execution_count": 7,
   "metadata": {},
   "outputs": [
    {
     "name": "stdout",
     "output_type": "stream",
     "text": [
      "7\n",
      "6\n"
     ]
    }
   ],
   "source": [
    "class Solution:\n",
    "    def minPathSum(self, grid):\n",
    "        \"\"\"\n",
    "        @param grid: a list of lists of integers.\n",
    "        @return: An integer, minimizes the sum of all numbers along its path\n",
    "        \"\"\"\n",
    "        if not grid or not grid[0]:\n",
    "            return 0\n",
    "        \n",
    "        row, col = len(grid), len(grid[0])\n",
    "        \n",
    "        # state definition\n",
    "        # dp[x][y]: minimum path from (0,0) to (x,y)\n",
    "        dp = [[0 for y in range(col)] for x in range(row)]\n",
    "        \n",
    "        # state initialization\n",
    "        dp[0][0] = grid[0][0]\n",
    "        # the first column\n",
    "        for x in range(1, row):\n",
    "            dp[x][0] = dp[x - 1][0] + grid[x][0]\n",
    "        # the first row\n",
    "        for y in range(1, col):\n",
    "            dp[0][y] = dp[0][y - 1] + grid[0][y]\n",
    "            \n",
    "        # state transition\n",
    "        for x in range(1, row):\n",
    "            for y in range(1, col):\n",
    "                dp[x][y] = min(dp[x][y - 1], dp[x - 1][y]) + grid[x][y]\n",
    "                \n",
    "        # final state\n",
    "        return dp[row-1][col-1]\n",
    "    \n",
    "if __name__ == \"__main__\":\n",
    "    soln = Solution()\n",
    "    \n",
    "    print(soln.minPathSum(grid=[[1,3,1],[1,5,1],[4,2,1]]))\n",
    "    print(soln.minPathSum(grid=[[1,3,2]]))"
   ]
  },
  {
   "cell_type": "markdown",
   "metadata": {
    "collapsed": true
   },
   "source": [
    "#### Question 2: [Lintcode 114] [Unique Paths](https://www.jiuzhang.com/solutions/unique-paths/#tag-highlight-lang-python)\n",
    "\n",
    "A robot is located at the top-left corner of a m x n grid.\n",
    "\n",
    "The robot can only move either down or right at any point in time. The robot is trying to reach the bottom-right corner of the grid.\n",
    "\n",
    "How many possible unique paths are there?\n",
    "\n",
    "Example 1:\n",
    "```\n",
    "Input: n = 1, m = 3\n",
    "Output: 1\t\n",
    "Explanation: Only one path to target position.\n",
    "```\n",
    "\n",
    "Example 2:\n",
    "```\n",
    "Input:  n = 3, m = 3\n",
    "Output: 6\t\n",
    "Explanation:\n",
    "\tD : Down\n",
    "\tR : Right\n",
    "\t1) DDRR\n",
    "\t2) DRDR\n",
    "\t3) DRRD\n",
    "\t4) RRDD\n",
    "\t5) RDRD\n",
    "\t6) RDDR\n",
    "```\n",
    "\n",
    "* state: f[x][y]从起点到x,y的路径数\n",
    "* function: (研究倒数第一步) f[x][y] = f[x - 1][y] + f[x][y - 1]\n",
    "* initialize: \n",
    "  * f[0][i] = 1\n",
    "  * f[i][0] = 1\n",
    "* answer: f[n-1][m-1]"
   ]
  },
  {
   "cell_type": "code",
   "execution_count": 11,
   "metadata": {},
   "outputs": [
    {
     "name": "stdout",
     "output_type": "stream",
     "text": [
      "1\n",
      "6\n"
     ]
    }
   ],
   "source": [
    "class Solution:\n",
    "    def uniquePaths(self, m, n):\n",
    "        \"\"\"\n",
    "        @param m: positive integer (1 <= m <= 100)\n",
    "        @param n: positive integer (1 <= n <= 100)\n",
    "        @return: An integer\n",
    "        \"\"\"\n",
    "        # write your code here\n",
    "        if m <= 0 or n <= 0:\n",
    "            return 0\n",
    "        \n",
    "        # state definition\n",
    "        # dp[x][y]: paths from (0,0) to (x,y)\n",
    "        dp = [[0 for y in range(n)] for x in range(m)]\n",
    "        \n",
    "        # state initialization\n",
    "        dp[0][0] = 0\n",
    "        # the first column\n",
    "        for x in range(1, m):\n",
    "            dp[x][0] = 1\n",
    "        # the first row\n",
    "        for y in range(1, n):\n",
    "            dp[0][y] = 1\n",
    "            \n",
    "        # state transition\n",
    "        for x in range(1, m):\n",
    "            for y in range(1, n):\n",
    "                dp[x][y] = dp[x][y - 1] + dp[x - 1][y]\n",
    "                \n",
    "        # final state\n",
    "        return dp[m-1][n-1]\n",
    "\n",
    "if __name__ == \"__main__\":\n",
    "    soln = Solution()\n",
    "    \n",
    "    print(soln.uniquePaths(m=3, n=1))\n",
    "    print(soln.uniquePaths(m=3, n=3))"
   ]
  },
  {
   "cell_type": "markdown",
   "metadata": {},
   "source": [
    "#### Question 2.1: [Lintcode 115] [Unique Paths II](https://www.jiuzhang.com/solution/unique-paths-ii/#tag-highlight-lang-python)\n",
    "\n",
    "Follow up for \"Unique Paths\":\n",
    "\n",
    "Now consider if some obstacles are added to the grids. How many unique paths would there be?\n",
    "\n",
    "An obstacle and empty space is marked as 1 and 0 respectively in the grid.\n",
    "\n",
    "Example 1:\n",
    "```\n",
    "Input: [[0]]\n",
    "Output: 1\n",
    "```\n",
    "\n",
    "Example 2:\n",
    "```\n",
    "Input:  [[0,0,0],[0,1,0],[0,0,0]]\n",
    "Output: 2\n",
    "Explanation:\n",
    "Only 2 different path.\n",
    "```"
   ]
  },
  {
   "cell_type": "code",
   "execution_count": 14,
   "metadata": {},
   "outputs": [
    {
     "name": "stdout",
     "output_type": "stream",
     "text": [
      "0\n",
      "2\n",
      "6\n"
     ]
    }
   ],
   "source": [
    "class Solution:\n",
    "    def uniquePaths(self, grid):\n",
    "        \"\"\"\n",
    "        @param grid: a list of lists of integers.\n",
    "        @return: An integer\n",
    "        \"\"\"\n",
    "        # write your code here\n",
    "        if not grid or not grid[0]:\n",
    "            return 0\n",
    "        \n",
    "        m, n = len(grid), len(grid[0])\n",
    "        # state definition\n",
    "        # dp[x][y]: paths from (0,0) to (x,y)\n",
    "        dp = [[0 for y in range(n)] for x in range(m)]\n",
    "        \n",
    "        # state initialization\n",
    "        dp[0][0] = 0\n",
    "        # the first column\n",
    "        for x in range(1, m):\n",
    "            if grid[x][0] != 1:\n",
    "                dp[x][0] = 1\n",
    "            else:\n",
    "                break\n",
    "        # the first row\n",
    "        for y in range(1, n):\n",
    "            if grid[0][y] != 1:\n",
    "                dp[0][y] = 1\n",
    "            else:\n",
    "                break\n",
    "                \n",
    "        # state transition\n",
    "        for x in range(1, m):\n",
    "            for y in range(1, n):\n",
    "                if grid[x][y] != 1:\n",
    "                    dp[x][y] = dp[x][y - 1] + dp[x - 1][y]\n",
    "                else:\n",
    "                    dp[x][y] = 0\n",
    "                \n",
    "        # final state\n",
    "        return dp[m-1][n-1]\n",
    "\n",
    "if __name__ == \"__main__\":\n",
    "    soln = Solution()\n",
    "    \n",
    "    print(soln.uniquePaths(grid=[[0]]))\n",
    "    print(soln.uniquePaths(grid=[[0,0,0],[0,1,0],[0,0,0]]))\n",
    "    print(soln.uniquePaths(grid=[[0,0,0],[0,0,0],[0,0,0]]))"
   ]
  },
  {
   "cell_type": "markdown",
   "metadata": {
    "collapsed": true
   },
   "source": [
    "#### Question 3: [Lintcode 111] [Climbing Stairs](https://www.jiuzhang.com/solutions/climbing-stairs/#tag-highlight-lang-python)\n",
    "\n",
    "You are climbing a stair case. It takes n steps to reach to the top.\n",
    "\n",
    "Each time you can either climb 1 or 2 steps. In how many distinct ways can you climb to the top?\n",
    "\n",
    "Example 1:\n",
    "```\n",
    "Input:  n = 3\n",
    "Output: 3\n",
    "\n",
    "Explanation:\n",
    "1) 1, 1, 1\n",
    "2) 1, 2\n",
    "3) 2, 1\n",
    "total 3.\n",
    "```\n",
    "\n",
    "Example 2:\n",
    "```\n",
    "Input:  n = 1\n",
    "Output: 1\n",
    "\n",
    "Explanation:  \n",
    "only 1 way.\n",
    "```\n",
    "\n",
    "* state: f[i]表示跳到第i个位置的方案总数\n",
    "* function: f[i] = f[i-1] + f[i-2]\n",
    "* initialize: f[0] = 1\n",
    "* answer: f[n] // index from 0~n"
   ]
  },
  {
   "cell_type": "code",
   "execution_count": 15,
   "metadata": {},
   "outputs": [
    {
     "name": "stdout",
     "output_type": "stream",
     "text": [
      "1\n",
      "3\n"
     ]
    }
   ],
   "source": [
    "class Solution:\n",
    "    def climbStairs(self, n):\n",
    "        \"\"\"\n",
    "        @param n: An integer\n",
    "        @return: An integer\n",
    "        \"\"\"\n",
    "        # write your code here\n",
    "        if n < 0:\n",
    "            return 0\n",
    "        \n",
    "        # state definition\n",
    "        # f[i] represents # ways from 0 to i\n",
    "        f = [0 for i in range(0, n + 1)]\n",
    "        \n",
    "        # state initialization\n",
    "        f[0] = 1\n",
    "        f[1] = 1\n",
    "        \n",
    "        # state transition\n",
    "        for i in range(2, n + 1):\n",
    "            f[i] = f[i - 1] + f[i - 2]\n",
    "            \n",
    "        # state final\n",
    "        return f[n]\n",
    "        \n",
    "if __name__ == \"__main__\":\n",
    "    soln = Solution()\n",
    "    \n",
    "    print(soln.climbStairs(n=1))\n",
    "    print(soln.climbStairs(n=3))"
   ]
  },
  {
   "cell_type": "markdown",
   "metadata": {
    "collapsed": true
   },
   "source": [
    "#### Question 4: [Lintcode 116] [Jump Game](https://www.jiuzhang.com/solution/jump-game/#tag-highlight-lang-python)\n",
    "\n",
    "Given an array of non-negative integers, you are initially positioned at the first index of the array.\n",
    "\n",
    "Each element in the array represents your maximum jump length at that position.\n",
    "\n",
    "Determine if you are able to reach the last index.\n",
    "\n",
    "Example\n",
    "```\n",
    "A = [2,3,1,1,4], return true.\n",
    "A = [3,2,1,0,4], return false.\n",
    "```"
   ]
  },
  {
   "cell_type": "code",
   "execution_count": 2,
   "metadata": {},
   "outputs": [
    {
     "name": "stdout",
     "output_type": "stream",
     "text": [
      "True\n",
      "False\n"
     ]
    }
   ],
   "source": [
    "class Solution:\n",
    "    def canJump(self, A):\n",
    "        \"\"\"\n",
    "        @param A: A list of integers\n",
    "        @return: A boolean\n",
    "        \"\"\"\n",
    "        # write your code here\n",
    "        if not A:\n",
    "            return True\n",
    "        \n",
    "        # sate definition\n",
    "        # f[x] represents whether the point x can be reached\n",
    "        f = [False for i in range(len(A))]\n",
    "        \n",
    "        # state initialization\n",
    "        f[0] = True\n",
    "        \n",
    "        # state transition\n",
    "        # f[i + 1: i + A[i]] = True\n",
    "        for i, num in enumerate(A):\n",
    "            for j in range(i + 1, i + num + 1):\n",
    "                if j < len(A):\n",
    "                    f[j] = True\n",
    "                \n",
    "        # state final\n",
    "        return f[-1]\n",
    "\n",
    "if __name__ == \"__main__\":\n",
    "    soln = Solution()\n",
    "    \n",
    "    print(soln.canJump(A=[2,3,1,1,4]))\n",
    "    print(soln.canJump(A=[3,2,1,0,4]))"
   ]
  },
  {
   "cell_type": "markdown",
   "metadata": {
    "collapsed": true
   },
   "source": [
    "#### Question 4.1: [Lintcode 117] [Jump Game II](https://www.jiuzhang.com/solution/jump-game-ii/#tag-other)\n",
    "\n",
    "Given an array of non-negative integers, you are initially positioned at the first index of the array.\n",
    "\n",
    "Each element in the array represents your maximum jump length at that position.\n",
    "\n",
    "Your goal is to reach the last index in the minimum number of jumps.\n",
    "\n",
    "Example\n",
    "```\n",
    "Given array A = [2,3,1,1,4]\n",
    "\n",
    "The minimum number of jumps to reach the last index is 2. (Jump 1 step from index 0 to 1, then 3 steps to the last index.)\n",
    "```"
   ]
  },
  {
   "cell_type": "code",
   "execution_count": 3,
   "metadata": {},
   "outputs": [
    {
     "name": "stdout",
     "output_type": "stream",
     "text": [
      "2\n",
      "inf\n"
     ]
    }
   ],
   "source": [
    "class Solution:\n",
    "    def Jump(self, A):\n",
    "        \"\"\"\n",
    "        @param A: A list of integers\n",
    "        @return: A boolean\n",
    "        \"\"\"\n",
    "        # write your code here\n",
    "        if not A:\n",
    "            return True\n",
    "        \n",
    "        # sate definition\n",
    "        # f[x] represents the minimum steps from 0 to x\n",
    "        f = [float('inf') for i in range(len(A))]\n",
    "        \n",
    "        # state initialization\n",
    "        f[0] = 0\n",
    "        \n",
    "        # state transition\n",
    "        # f[i + 1: i + A[i]] = min(itself, f[i] + 1)\n",
    "        for i, num in enumerate(A):\n",
    "            for j in range(i + 1, i + num + 1):\n",
    "                if j < len(A):\n",
    "                    f[j] = min(f[j], f[i] + 1)\n",
    "                \n",
    "        # state final\n",
    "        return f[-1]\n",
    "\n",
    "if __name__ == \"__main__\":\n",
    "    soln = Solution()\n",
    "    \n",
    "    print(soln.Jump(A=[2,3,1,1,4]))\n",
    "    print(soln.Jump(A=[3,2,1,0,4]))"
   ]
  },
  {
   "cell_type": "markdown",
   "metadata": {
    "collapsed": true
   },
   "source": [
    "### 11.1.2 接龙型动态规划\n",
    "\n",
    "1. 属于“坐标型”动态规划的一种\n",
    "2. 接龙：上一个元素和下一个元素要满足一定的关系才能接龙"
   ]
  },
  {
   "cell_type": "markdown",
   "metadata": {
    "collapsed": true
   },
   "source": [
    "#### Question 1: [Lintcode 76] [<font color='red'>Longest Increasing Subsequenc (LIS)</font>](https://www.jiuzhang.com/solutions/longest-increasing-subsequence/#tag-highlight-lang-python)\n",
    "\n",
    "Given a sequence of integers, find the longest increasing subsequence (LIS).\n",
    "\n",
    "You code should return the length of the LIS.\n",
    "\n",
    "What's the definition of longest increasing subsequence?\n",
    "* The longest increasing subsequence problem is to find a subsequence of a given sequence in which the subsequence's elements are in sorted order, lowest to highest, and in which the subsequence is as long as possible. This subsequence is not necessarily contiguous, or unique.\n",
    "* https://en.wikipedia.org/wiki/Longest_increasing_subsequence\n",
    "\n",
    "Example 1:\n",
    "```\n",
    "Input:  [5,4,1,2,3]\n",
    "Output:  3\n",
    "\n",
    "Explanation:\n",
    "LIS is [1,2,3]\n",
    "```\n",
    "\n",
    "Example 2:\n",
    "```\n",
    "Input: [4,2,4,5,3,7]\n",
    "Output:  4\n",
    "\n",
    "Explanation: \n",
    "LIS is [2,4,5,7]\n",
    "```\n",
    "\n",
    "接龙关系：递增\n",
    "\n",
    "将n个数看做n个木桩，目的是从某个木桩出发，从前向后，从低往高，看做多能踩多少个木桩。\n",
    "* state: f[i] 表示（从任意某个木桩）跳到第i个木桩，最多踩过多少根木桩\n",
    "* function: f[i] = max{f[j] + 1}, j必须满足 j < i && nums[j] < nums[i]\n",
    "* initialize: f[0..n-1] = 1\n",
    "* answer: max{f[0..n-1]"
   ]
  },
  {
   "cell_type": "code",
   "execution_count": 6,
   "metadata": {},
   "outputs": [
    {
     "name": "stdout",
     "output_type": "stream",
     "text": [
      "[1, 1, 1, 2, 3]\n",
      "3\n",
      "[1, 1, 2, 3, 2, 4]\n",
      "4\n"
     ]
    }
   ],
   "source": [
    "class Solution:\n",
    "    def longestIncreasingSubsequence(self, nums):\n",
    "        \"\"\"\n",
    "        @param nums: An integer array\n",
    "        @return: The length of LIS (longest increasing subsequence)\n",
    "        example:\n",
    "             (3)  13  (5)  14  (2)  10\n",
    "              1        2        1    ?\n",
    "                                     i\n",
    "        \"\"\"\n",
    "        # write your code here\n",
    "        if not nums:\n",
    "            return 0\n",
    "        \n",
    "        # state definition\n",
    "        # f[x] represents the LIS from [0,x] to x\n",
    "        f = [0 for i in range(len(nums))]\n",
    "        \n",
    "        # state initialization\n",
    "        # starting point can be any point in the array\n",
    "        for i in range(len(nums)):\n",
    "            f[i] = 1\n",
    "            \n",
    "        # state transition\n",
    "        for i in range(1, len(nums)):\n",
    "            for j in range(1, i):\n",
    "                if nums[j] < nums[i]:\n",
    "                    f[i] = max(f[i], f[j] + 1)\n",
    "                \n",
    "        # state final\n",
    "        # any point might be the final solution\n",
    "        print(f)\n",
    "        return max(f)\n",
    "        \n",
    "        \n",
    "\n",
    "if __name__ == \"__main__\":\n",
    "    soln = Solution()\n",
    "    \n",
    "    print(soln.longestIncreasingSubsequence(nums=[5,4,1,2,3]))\n",
    "    print(soln.longestIncreasingSubsequence(nums=[4,2,4,5,3,7]))"
   ]
  },
  {
   "cell_type": "markdown",
   "metadata": {},
   "source": [
    "####  Question 1.1 (Follow Up): Print out the Longest Increasing Subsequence"
   ]
  },
  {
   "cell_type": "code",
   "execution_count": 7,
   "metadata": {},
   "outputs": [
    {
     "name": "stdout",
     "output_type": "stream",
     "text": [
      "[1, 2, 3]\n",
      "[2, 4, 5, 7]\n"
     ]
    }
   ],
   "source": [
    "class Solution:\n",
    "    def longestIncreasingSubsequence(self, nums):\n",
    "        \"\"\"\n",
    "        @param nums: An integer array\n",
    "        @return: The length of LIS (longest increasing subsequence)\n",
    "        example:\n",
    "             (3)  13  (5)  14  (2)  10\n",
    "              1        2        1    ?\n",
    "                                     i\n",
    "        \"\"\"\n",
    "        # write your code here\n",
    "        if not nums:\n",
    "            return 0\n",
    "        \n",
    "        # state definition\n",
    "        # f[x] represents the LIS from [0,x] to x\n",
    "        f = [0 for i in range(len(nums))]\n",
    "        \n",
    "        # prev[x] represents the optimal value come from which f[j]\n",
    "        prev = [-1 for i in range(len(nums))]\n",
    "        \n",
    "        # state initialization\n",
    "        # starting point can be any point in the array\n",
    "        for i in range(len(nums)):\n",
    "            f[i] = 1\n",
    "            \n",
    "        # state transition\n",
    "        for i in range(1, len(nums)):\n",
    "            for j in range(1, i):\n",
    "                #if nums[j] < nums[i]:\n",
    "                #    f[i] = max(f[i], f[j] + 1)\n",
    "                if nums[j] < nums[i] and f[i] < f[j] + 1:\n",
    "                    f[i] = f[j] + 1\n",
    "                    prev[i] = j\n",
    "                \n",
    "        # state final  --  max(f)\n",
    "        # any point might be the final solution\n",
    "        # print(f)\n",
    "        longest, last = 0, -1\n",
    "        for i, num in enumerate(f):\n",
    "            if num > longest:\n",
    "                longest = num\n",
    "                last = i\n",
    "        \n",
    "        # construct the optimal path\n",
    "        path = []\n",
    "        index = last\n",
    "        while index != -1:\n",
    "            path.append(nums[index])\n",
    "            index = prev[index]\n",
    "            \n",
    "        path = path[::-1]\n",
    "        \n",
    "        return path\n",
    "        \n",
    "        \n",
    "\n",
    "if __name__ == \"__main__\":\n",
    "    soln = Solution()\n",
    "    \n",
    "    print(soln.longestIncreasingSubsequence(nums=[5,4,1,2,3]))\n",
    "    print(soln.longestIncreasingSubsequence(nums=[4,2,4,5,3,7]))"
   ]
  },
  {
   "cell_type": "markdown",
   "metadata": {
    "collapsed": true
   },
   "source": [
    "#### Question 2: [Lintcode 513] [Perfect Squares](https://www.jiuzhang.com/solutions/perfect-squares/#tag-highlight-lang-python)\n",
    "\n",
    "Given a positive integer n, find the least number of perfect square numbers (for example, 1, 4, 9, 16, ...) which sum to n.\n",
    "\n",
    "Example 1:\n",
    "```\n",
    "Input: 12\n",
    "Output: 3\n",
    "Explanation: 4 + 4 + 4\n",
    "```\n",
    "\n",
    "Example 2:\n",
    "```\n",
    "Input: 13\n",
    "Output: 2\n",
    "Explanation: 4 + 9\n",
    "```\n",
    "\n",
    "\n",
    "*Analysis*: \n",
    "接龙关系：扣掉平方数\n",
    "```\n",
    " index   0   1   2   3   4   5   6   7   8   9   10   11   12   13  \n",
    " f     null  1   2   3   1   2               1\n",
    " ?           1^2         2^2                 3^2\n",
    " \n",
    " f(2) = 2:  2 = 1^2 + 1 (2) \n",
    " f(3) = 3:  3 = 1^2 + 2 (2+1)\n",
    " f(5) = 2:  5 = 1^2 + 4 = 2^2 + 1\n",
    " ...\n",
    " f(12) = ?: 12 = 1^2 + 11 = 2^2 + 8 = 3^2 + 3\n",
    " f(13) = ?: 13 = 1^2 + 12 = 2^2 + 9 = 3^2 + 4\n",
    "```"
   ]
  },
  {
   "cell_type": "code",
   "execution_count": 14,
   "metadata": {},
   "outputs": [
    {
     "name": "stdout",
     "output_type": "stream",
     "text": [
      "[0, 1, 2, 3, 1, 2, 3, 4, 2, 1, 2, 3, 3]\n",
      "3\n",
      "[0, 1, 2, 3, 1, 2, 3, 4, 2, 1, 2, 3, 3, 2]\n",
      "2\n"
     ]
    }
   ],
   "source": [
    "class Solution:    \n",
    "    def numSquares(self, n):\n",
    "        \"\"\"\n",
    "        @param {int} n a positive integer\n",
    "        @return {int} an integer\n",
    "        \"\"\"\n",
    "        # Write your code here\n",
    "        if n <= 0:\n",
    "            return 0\n",
    "        \n",
    "        # state definition\n",
    "        # f[x] represents the least number of perfect square numbers which sum to x\n",
    "        f = [float('inf') for i in range(n + 1)]\n",
    "        \n",
    "        # state initialization\n",
    "        for i in range(1, n//2 + 1):\n",
    "            square = i ** 2\n",
    "            if square <= n:\n",
    "                f[square] = 1\n",
    "               \n",
    "        # state transition\n",
    "        for i in range(1, n + 1):\n",
    "            for j in range(1, i//2 + 1):\n",
    "                square = j ** 2\n",
    "                if square <= i:\n",
    "                    f[i] = min(f[i], f[i - square] + 1)\n",
    "                    \n",
    "        # state final\n",
    "        print(f)\n",
    "        return f[-1]\n",
    "    \n",
    "    def numSquares(self, n):\n",
    "        \"\"\"\n",
    "        @param {int} n a positive integer\n",
    "        @return {int} an integer\n",
    "        \"\"\"\n",
    "        # Write your code here\n",
    "        if n <= 0:\n",
    "            return 0\n",
    "        \n",
    "        # state definition and initialization\n",
    "        # f[x] represents the least number of perfect square numbers which sum to x\n",
    "        f = [i for i in range(n + 1)]\n",
    "               \n",
    "        # state transition\n",
    "        for i in range(1, n + 1):\n",
    "            for j in range(1, i//2 + 1):\n",
    "                square = j ** 2\n",
    "                if square <= i:\n",
    "                    f[i] = min(f[i], f[i - square] + 1)\n",
    "                    \n",
    "        # state final\n",
    "        print(f)\n",
    "        return f[-1]\n",
    "    \n",
    "if __name__ == \"__main__\":\n",
    "    soln = Solution()\n",
    "    \n",
    "    print(soln.numSquares(n=12))\n",
    "    print(soln.numSquares(n=13))"
   ]
  },
  {
   "cell_type": "markdown",
   "metadata": {
    "collapsed": true
   },
   "source": [
    "#### Question 3: [Lintcode 603] [Largest Divisible Subset](https://www.jiuzhang.com/solutions/largest-divisible-subset/#tag-highlight-lang-python)\n",
    "\n",
    "Given a set of distinct positive integers, find the largest subset such that every pair (Si, Sj) of elements in this subset satisfies: Si % Sj = 0 or Sj % Si = 0.\n",
    "\n",
    "If there are multiple solutions, return any subset is fine.\n",
    "\n",
    "Example 1:\n",
    "```\n",
    "Input: nums =  [1,2,3], \n",
    "Output: [1,2] or [1,3]\n",
    "```\n",
    "Example 2:\n",
    "```\n",
    "Input: nums = [1,2,4,8], \n",
    "Output: [1,2,4,8]\n",
    "```\n",
    "\n",
    "按倍数关系接龙， 比如 1 2 4 8 16 \n",
    "\n",
    "example\n",
    "```\n",
    "  nums   1   4   7   2   5   8   9   3   6\n",
    " sorted  1   2   3   4   5   6   7   8   9\n",
    " -------------------------------------------\n",
    "    f    1   2   2   3   2   3   2\n",
    "```"
   ]
  },
  {
   "cell_type": "code",
   "execution_count": 17,
   "metadata": {},
   "outputs": [
    {
     "name": "stdout",
     "output_type": "stream",
     "text": [
      "[1, 2]\n",
      "[1, 2, 4, 8]\n"
     ]
    }
   ],
   "source": [
    "class Solution:\n",
    "    def largestDivisibleSubset(self, nums):\n",
    "        \"\"\"\n",
    "        @param: nums: a set of distinct positive integers\n",
    "        @return: the largest subset \n",
    "        \"\"\"\n",
    "        # write your code here\n",
    "        if not nums:\n",
    "            return []\n",
    "        \n",
    "        nums.sort()\n",
    "        n = len(nums)\n",
    "        \n",
    "        # state definition\n",
    "        # f[x] represents the number of the larest divisible subset of x\n",
    "        f = [0 for i in range(n)]\n",
    "        \n",
    "        # store the previous index\n",
    "        prev = [-1 for i in range(n)]\n",
    "        \n",
    "        # state initialization\n",
    "        for i in range(n):\n",
    "            f[i] = 1\n",
    "            \n",
    "        # state transition\n",
    "        # f[i] = max{f[j] + 1}\n",
    "        # j = [0, i-1], and nums[i] % nums[j] == 0\n",
    "        for i in range(1, n):\n",
    "            for j in range(0, i):\n",
    "                if nums[i] % nums[j] == 0:\n",
    "                    # f[i] = max(f[i], f[j] + 1)\n",
    "                    if f[i] < f[j] + 1:\n",
    "                        f[i] = f[j] + 1\n",
    "                        prev[i] = j\n",
    "                        \n",
    "        # state final\n",
    "        # return max(f)\n",
    "        largest, last = 0, -1\n",
    "        for i in range(n):\n",
    "            if largest < f[i]:\n",
    "                largest = f[i]\n",
    "                last = i\n",
    "                \n",
    "        # print out the largest subset\n",
    "        path = []\n",
    "        index = last\n",
    "        while index != -1:\n",
    "            path.append(nums[index])\n",
    "            index = prev[index]\n",
    "        path = path[::-1]\n",
    "        \n",
    "        return path\n",
    "    \n",
    "if __name__ == \"__main__\":\n",
    "    soln = Solution()\n",
    "    \n",
    "    print(soln.largestDivisibleSubset(nums=[1,2,3]))\n",
    "    print(soln.largestDivisibleSubset(nums=[1,2,4,8]))"
   ]
  },
  {
   "cell_type": "markdown",
   "metadata": {
    "collapsed": true
   },
   "source": [
    "#### Question 4: [Lintcode 602] [Russian Doll Envelopes 俄罗斯套娃信封](https://www.jiuzhang.com/solution/russian-doll-envelopes/#tag-highlight-lang-python)\n",
    "\n",
    "Give a number of envelopes with widths and heights given as a pair of integers (w, h). One envelope can fit into another if and only if both the width and height of one envelope is greater than the width and height of the other envelope.\n",
    "\n",
    "Find the maximum number of nested layers of envelopes.\n",
    "\n",
    "Example 1:\n",
    "```\n",
    "Input：[[5,5],[6,4],[6,7],[2,3]]\n",
    "Output：3\n",
    "Explanation：\n",
    "the maximum number of envelopes you can Russian doll is 3 ([2,3] => [5,5] => [6,7]).\n",
    "```\n",
    "\n",
    "Example 2:\n",
    "```\n",
    "Input：[[4,5],[4,6],[6,7],[2,3],[1,1]]\n",
    "Output：4\n",
    "Explanation：\n",
    "the maximum number of envelopes you can Russian doll is 4 ([1,1] => [2,3] => [4,5] / [4,6] => [6,7]).\n",
    "```"
   ]
  },
  {
   "cell_type": "code",
   "execution_count": 20,
   "metadata": {},
   "outputs": [
    {
     "name": "stdout",
     "output_type": "stream",
     "text": [
      "3\n",
      "4\n"
     ]
    }
   ],
   "source": [
    "class Solution:\n",
    "    def maxEnvelopes(self, envelopes):\n",
    "        \"\"\"\n",
    "        @param: envelopes: a number of envelopes with widths and heights\n",
    "        @return: the maximum number of envelopes\n",
    "        \"\"\"\n",
    "        # write your code here\n",
    "        if not envelopes or not envelopes[0]:\n",
    "            return 0\n",
    "        \n",
    "        envelopes.sort()\n",
    "        # after sort, we need to find LIS in the height\n",
    "        \n",
    "        n = len(envelopes)\n",
    "        \n",
    "        # state definition and initialization\n",
    "        # f[x] represent the length of LIS from [0, x] to x\n",
    "        f = [1 for i in range(n)]\n",
    "        \n",
    "        # state transition\n",
    "        for i in range(0, n):\n",
    "            for j in range(0, i):\n",
    "                if (envelopes[i][0] > envelopes[j][0] and \n",
    "                    envelopes[i][1] > envelopes[j][1]):\n",
    "                    if f[i] < f[j] + 1:\n",
    "                        f[i] = f[j] + 1        \n",
    "        \n",
    "        # state final\n",
    "        return max(f)\n",
    "    \n",
    "if __name__ == \"__main__\":\n",
    "    soln = Solution()\n",
    "    \n",
    "    print(soln.maxEnvelopes(envelopes=[[5,5],[6,4],[6,7],[2,3]]))\n",
    "    print(soln.maxEnvelopes(envelopes=[[4,6],[4,5],[6,7],[2,3],[1,1]]))"
   ]
  },
  {
   "cell_type": "code",
   "execution_count": 21,
   "metadata": {},
   "outputs": [
    {
     "name": "stdout",
     "output_type": "stream",
     "text": [
      "(3, [[2, 3], [5, 5], [6, 7]])\n",
      "(4, [[1, 1], [2, 3], [4, 5], [6, 7]])\n"
     ]
    }
   ],
   "source": [
    "# follow up: print out one possible solution\n",
    "\n",
    "class Solution:\n",
    "    def maxEnvelopes(self, envelopes):\n",
    "        \"\"\"\n",
    "        @param: envelopes: a number of envelopes with widths and heights\n",
    "        @return: the maximum number of envelopes\n",
    "        \"\"\"\n",
    "        # write your code here\n",
    "        if not envelopes or not envelopes[0]:\n",
    "            return 0\n",
    "        \n",
    "        envelopes.sort()\n",
    "        # after sort, we need to find LIS in the height\n",
    "        \n",
    "        n = len(envelopes)\n",
    "        \n",
    "        # state definition and initialization\n",
    "        # f[x] represent the length of LIS from [0, x] to x\n",
    "        f = [1 for i in range(n)]\n",
    "        \n",
    "        prev = [-1 for i in range(n)]\n",
    "        \n",
    "        # state transition\n",
    "        for i in range(0, n):\n",
    "            for j in range(0, i):\n",
    "                if (envelopes[i][0] > envelopes[j][0] and \n",
    "                    envelopes[i][1] > envelopes[j][1]):\n",
    "                    if f[i] < f[j] + 1:\n",
    "                        f[i] = f[j] + 1\n",
    "                        prev[i] = j\n",
    "        \n",
    "        # state final\n",
    "        # return max(f)\n",
    "        largest, last = 0, -1\n",
    "        for i in range(n):\n",
    "            if largest < f[i]:\n",
    "                largest = f[i]\n",
    "                last = i\n",
    "                \n",
    "        # print out the solution\n",
    "        path = []\n",
    "        index = last\n",
    "        while index != -1:\n",
    "            path.append(envelopes[index])\n",
    "            index = prev[index]\n",
    "        path = path[::-1]\n",
    "        \n",
    "        return last, path\n",
    "    \n",
    "if __name__ == \"__main__\":\n",
    "    soln = Solution()\n",
    "    \n",
    "    print(soln.maxEnvelopes(envelopes=[[5,5],[6,4],[6,7],[2,3]]))\n",
    "    print(soln.maxEnvelopes(envelopes=[[4,6],[4,5],[6,7],[2,3],[1,1]]))"
   ]
  },
  {
   "cell_type": "markdown",
   "metadata": {
    "collapsed": true
   },
   "source": [
    "#### Question 5: [Lintcode 622] [Frog Jump](https://www.jiuzhang.com/solution/frog-jump/)\n",
    "\n",
    "A frog is crossing a river. The river is divided into x units and at each unit there may or may not exist a stone. The frog can jump on a stone, but it must not jump into the water.\n",
    "\n",
    "Given a list of stones' positions (in units) in sorted ascending order, determine if the frog is able to cross the river by landing on the last stone. Initially, the frog is on the first stone and assume the first jump must be 1 unit.\n",
    "\n",
    "If the frog's last jump was k units, then its next jump must be either k - 1, k, or k + 1 units. Note that the frog can only jump in the forward direction.\n",
    "\n",
    "Note:\n",
    "* The number of stones is ≥ 2 and is < 1100.\n",
    "* Each stone's position will be a non-negative integer < 2^31.\n",
    "* The first stone's position is always 0.\n",
    "\n",
    "Example 1:\n",
    "```\n",
    "Given stones = [0,1,3,5,6,8,12,17]\n",
    "Input:\n",
    "[0,1,3,5,6,8,12,17]\n",
    "Output:\n",
    "true\n",
    "\n",
    "Explanation:\n",
    "There are a total of 8 stones.\n",
    "The first stone at the 0th unit, second stone at the 1st unit,third stone at the 3rd unit, and so on...The last stone at the 17th unit.\n",
    "Return true. The frog can jump to the last stone by jumping 1 unit to the 2nd stone, then 2 units to the 3rd stone, then 2 units to the 4th stone, then 3 units to the 6th stone, 4 units to the 7th stone, and 5 units to the 8th stone.\n",
    "```\n",
    "\n",
    "Example 2:\n",
    "```\n",
    "Given stones = [0,1,2,3,4,8,9,11]\n",
    "Input:\n",
    "[0,1,2,3,4,8,9,11]\n",
    "Output:\n",
    "false\n",
    "\n",
    "Explanation:\n",
    "Return false. There is no way to jump to the last stone as the gap between the 5th and 6th stone is too large.\n",
    "```"
   ]
  },
  {
   "cell_type": "code",
   "execution_count": 28,
   "metadata": {},
   "outputs": [
    {
     "name": "stdout",
     "output_type": "stream",
     "text": [
      "{0: {0}, 1: {1}, 3: {2}, 5: {2}, 6: {1, 3}, 8: {2, 3}, 12: {4}, 17: {5}}\n",
      "True\n",
      "{0: {0}, 1: {1}, 2: {1}, 3: {1, 2}, 4: {1, 2}, 8: set(), 9: set(), 11: set()}\n",
      "False\n"
     ]
    }
   ],
   "source": [
    "class Solution:\n",
    "    def canCross(self, stones):\n",
    "        \"\"\"\n",
    "        @param stones: a list of stones' positions in sorted ascending order\n",
    "        @return: true if the frog is able to cross the river or false\n",
    "        \"\"\"\n",
    "        # write your code here\n",
    "        if not stones:\n",
    "            return True\n",
    "        \n",
    "        # state definition\n",
    "        # f[stone] is a set, recording the distances the frog can jump\n",
    "        f = {}\n",
    "        for stone in stones:\n",
    "            f[stone] = set()\n",
    "            \n",
    "        # state initialization\n",
    "        f[stones[0]].add(0)\n",
    "        \n",
    "        # state transition\n",
    "        # 跳 k - 1 到 stone + k - 1: dp[stone + k - 1].add(k - 1)\n",
    "        # 跳 k     到 stone + k:     dp[stone + k].add(k)\n",
    "        # 跳 k + 1 到 stone + k + 1: dp[stone + k + 1].add(k + 1)\n",
    "        for stone in stones:\n",
    "            for k in f[stone]:\n",
    "                # k - 1\n",
    "                if k - 1 > 0 and stone + k - 1 in f:\n",
    "                    f[stone + k - 1].add(k - 1)\n",
    "                # k\n",
    "                if stone + k in f:\n",
    "                    f[stone + k].add(k)\n",
    "                # k + 1\n",
    "                if stone + k + 1 in f:\n",
    "                    f[stone + k + 1].add(k + 1)\n",
    "                    \n",
    "        # state final\n",
    "        print(f)\n",
    "        return len(f[stones[-1]]) > 0\n",
    "    \n",
    "if __name__ == \"__main__\":\n",
    "    soln = Solution()\n",
    "    \n",
    "    print(soln.canCross(stones=[0,1,3,5,6,8,12,17]))\n",
    "    print(soln.canCross(stones=[0,1,2,3,4,8,9,11]))"
   ]
  },
  {
   "cell_type": "code",
   "execution_count": null,
   "metadata": {
    "collapsed": true
   },
   "outputs": [],
   "source": []
  },
  {
   "cell_type": "code",
   "execution_count": null,
   "metadata": {
    "collapsed": true
   },
   "outputs": [],
   "source": []
  },
  {
   "cell_type": "code",
   "execution_count": null,
   "metadata": {
    "collapsed": true
   },
   "outputs": [],
   "source": []
  },
  {
   "cell_type": "code",
   "execution_count": null,
   "metadata": {
    "collapsed": true
   },
   "outputs": [],
   "source": []
  },
  {
   "cell_type": "code",
   "execution_count": null,
   "metadata": {
    "collapsed": true
   },
   "outputs": [],
   "source": []
  },
  {
   "cell_type": "code",
   "execution_count": null,
   "metadata": {
    "collapsed": true
   },
   "outputs": [],
   "source": []
  },
  {
   "cell_type": "code",
   "execution_count": null,
   "metadata": {
    "collapsed": true
   },
   "outputs": [],
   "source": []
  },
  {
   "cell_type": "code",
   "execution_count": null,
   "metadata": {
    "collapsed": true
   },
   "outputs": [],
   "source": []
  },
  {
   "cell_type": "code",
   "execution_count": null,
   "metadata": {
    "collapsed": true
   },
   "outputs": [],
   "source": []
  },
  {
   "cell_type": "code",
   "execution_count": null,
   "metadata": {
    "collapsed": true
   },
   "outputs": [],
   "source": []
  },
  {
   "cell_type": "code",
   "execution_count": null,
   "metadata": {
    "collapsed": true
   },
   "outputs": [],
   "source": []
  },
  {
   "cell_type": "code",
   "execution_count": null,
   "metadata": {
    "collapsed": true
   },
   "outputs": [],
   "source": []
  },
  {
   "cell_type": "code",
   "execution_count": null,
   "metadata": {
    "collapsed": true
   },
   "outputs": [],
   "source": []
  },
  {
   "cell_type": "code",
   "execution_count": null,
   "metadata": {
    "collapsed": true
   },
   "outputs": [],
   "source": []
  },
  {
   "cell_type": "code",
   "execution_count": null,
   "metadata": {
    "collapsed": true
   },
   "outputs": [],
   "source": []
  },
  {
   "cell_type": "code",
   "execution_count": null,
   "metadata": {
    "collapsed": true
   },
   "outputs": [],
   "source": []
  },
  {
   "cell_type": "code",
   "execution_count": null,
   "metadata": {
    "collapsed": true
   },
   "outputs": [],
   "source": []
  },
  {
   "cell_type": "code",
   "execution_count": null,
   "metadata": {
    "collapsed": true
   },
   "outputs": [],
   "source": []
  },
  {
   "cell_type": "code",
   "execution_count": null,
   "metadata": {
    "collapsed": true
   },
   "outputs": [],
   "source": []
  },
  {
   "cell_type": "code",
   "execution_count": null,
   "metadata": {
    "collapsed": true
   },
   "outputs": [],
   "source": []
  },
  {
   "cell_type": "code",
   "execution_count": null,
   "metadata": {
    "collapsed": true
   },
   "outputs": [],
   "source": []
  },
  {
   "cell_type": "code",
   "execution_count": null,
   "metadata": {
    "collapsed": true
   },
   "outputs": [],
   "source": []
  },
  {
   "cell_type": "code",
   "execution_count": null,
   "metadata": {
    "collapsed": true
   },
   "outputs": [],
   "source": []
  },
  {
   "cell_type": "code",
   "execution_count": null,
   "metadata": {
    "collapsed": true
   },
   "outputs": [],
   "source": []
  },
  {
   "cell_type": "code",
   "execution_count": null,
   "metadata": {
    "collapsed": true
   },
   "outputs": [],
   "source": []
  },
  {
   "cell_type": "code",
   "execution_count": null,
   "metadata": {
    "collapsed": true
   },
   "outputs": [],
   "source": []
  },
  {
   "cell_type": "code",
   "execution_count": null,
   "metadata": {
    "collapsed": true
   },
   "outputs": [],
   "source": []
  },
  {
   "cell_type": "code",
   "execution_count": null,
   "metadata": {
    "collapsed": true
   },
   "outputs": [],
   "source": []
  },
  {
   "cell_type": "code",
   "execution_count": null,
   "metadata": {
    "collapsed": true
   },
   "outputs": [],
   "source": []
  },
  {
   "cell_type": "code",
   "execution_count": null,
   "metadata": {
    "collapsed": true
   },
   "outputs": [],
   "source": []
  },
  {
   "cell_type": "code",
   "execution_count": null,
   "metadata": {
    "collapsed": true
   },
   "outputs": [],
   "source": []
  },
  {
   "cell_type": "code",
   "execution_count": null,
   "metadata": {
    "collapsed": true
   },
   "outputs": [],
   "source": []
  },
  {
   "cell_type": "code",
   "execution_count": null,
   "metadata": {
    "collapsed": true
   },
   "outputs": [],
   "source": []
  },
  {
   "cell_type": "code",
   "execution_count": null,
   "metadata": {
    "collapsed": true
   },
   "outputs": [],
   "source": []
  },
  {
   "cell_type": "code",
   "execution_count": null,
   "metadata": {
    "collapsed": true
   },
   "outputs": [],
   "source": []
  },
  {
   "cell_type": "markdown",
   "metadata": {},
   "source": [
    "## 11.2: Leetcode Training (Basic)"
   ]
  },
  {
   "cell_type": "markdown",
   "metadata": {
    "collapsed": true
   },
   "source": [
    "[Leetcode 0005 Medium] [Longest Palindromic Substring](Leetcode_0005.ipynb) (DP)\n",
    "\n",
    "[Leetcode 0120 Medium] [Triangle](Leetcode_0120.ipynb) (DP)\n",
    "\n",
    "[Leetcode 0121 Easy] [Best Time to Buy and Sell Stock](Leetcode_0121.ipynb) (DP)\n",
    "\n",
    "[Leetcode 0139 Medium] [Word Break](Leetcode_0139.ipynb) (DP) \n",
    "\n",
    "[Leetcode 0256 East] [Paint House I](Leetcode_0256.ipynb) (DP)  \n",
    "[Leetcode 0265 Hard] [Paint House II](Leetcode_0265.ipynb) (DP)"
   ]
  },
  {
   "cell_type": "markdown",
   "metadata": {},
   "source": [
    "## 11.3: Leetcode Practice (Advanced)"
   ]
  },
  {
   "cell_type": "markdown",
   "metadata": {
    "collapsed": true
   },
   "source": [
    "[Leetcode 0673 Medium] [Number of Longest Increasing Subsequence](Leetcode_0673.ipynb) (DP)\n",
    "\n",
    "[Leetcode 0674 Easy] [Longest Continuous Increasing Subsequence](Leetcode_0674.ipynb) (DP)\n",
    "\n",
    "[Leetcode 0837 Medium] [New 21 Game](Leetcode_0837.ipynb) (DP)\n",
    "\n",
    "[Leetcode 0935 Medium] [Knight Dialer](Leetcode_0935.ipynb) (DP) \n",
    "[Lioncode 0004 Medium] [The Knight’s Dialer](Lioncode_004.ipynb) (DP)"
   ]
  },
  {
   "cell_type": "code",
   "execution_count": null,
   "metadata": {
    "collapsed": true
   },
   "outputs": [],
   "source": []
  }
 ],
 "metadata": {
  "kernelspec": {
   "display_name": "Python 3",
   "language": "python",
   "name": "python3"
  },
  "language_info": {
   "codemirror_mode": {
    "name": "ipython",
    "version": 3
   },
   "file_extension": ".py",
   "mimetype": "text/x-python",
   "name": "python",
   "nbconvert_exporter": "python",
   "pygments_lexer": "ipython3",
   "version": "3.6.1"
  }
 },
 "nbformat": 4,
 "nbformat_minor": 2
}
