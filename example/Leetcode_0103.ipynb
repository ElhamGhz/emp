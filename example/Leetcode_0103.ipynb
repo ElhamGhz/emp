{
 "cells": [
  {
   "cell_type": "markdown",
   "metadata": {},
   "source": [
    "#### [Leetcode 103 Medium] [Binary Tree Zigzag Level Order Traversal](https://leetcode.com/problems/binary-tree-zigzag-level-order-traversal/)\n",
    "\n",
    "Given a binary tree, return the zigzag level order traversal of its nodes' values. (ie, from left to right, then right to left for the next level and alternate between).\n",
    "\n",
    "For example:\n",
    "```\n",
    "Given binary tree [3,9,20,null,null,15,7],\n",
    "    3\n",
    "   / \\\n",
    "  9  20\n",
    "    /  \\\n",
    "   15   7\n",
    "return its zigzag level order traversal as:\n",
    "[\n",
    "  [3],\n",
    "  [20,9],\n",
    "  [15,7]\n",
    "]\n",
    "```"
   ]
  },
  {
   "cell_type": "code",
   "execution_count": 2,
   "metadata": {},
   "outputs": [],
   "source": [
    "from helper import TreeNode\n",
    "from helper import BinaryTree"
   ]
  },
  {
   "cell_type": "code",
   "execution_count": 3,
   "metadata": {},
   "outputs": [
    {
     "name": "stdout",
     "output_type": "stream",
     "text": [
      "[[3], [9, 20], [' ', ' ', 15, 7]]\n",
      "[[3], [20, 9], [15, 7]]\n"
     ]
    }
   ],
   "source": [
    "# Definition for a binary tree node.\n",
    "# class TreeNode(object):\n",
    "#     def __init__(self, x):\n",
    "#         self.val = x\n",
    "#         self.left = None\n",
    "#         self.right = None\n",
    "\n",
    "class Solution(object):\n",
    "    def zigzagLevelOrder(self, root):\n",
    "        \"\"\"\n",
    "        :type root: TreeNode\n",
    "        :rtype: List[List[int]]\n",
    "        \"\"\"\n",
    "        if not root:\n",
    "            return []\n",
    "        \n",
    "        results = []        \n",
    "        frontier = [root]\n",
    "        reverse = False\n",
    "        \n",
    "        while frontier:\n",
    "            current = []\n",
    "            post = []\n",
    "            for head in frontier:\n",
    "                current.append(head.val)\n",
    "                \n",
    "                if head.left:\n",
    "                    post.append(head.left)\n",
    "                if head.right:\n",
    "                    post.append(head.right)\n",
    "            \n",
    "            if reverse:\n",
    "                results.append(current[::-1])\n",
    "            else:\n",
    "                results.append(current)\n",
    "            # results.append(current[::-1] if reverse else current[:])\n",
    "            frontier = post\n",
    "            reverse = not reverse\n",
    "            \n",
    "        return results\n",
    "    \n",
    "if __name__ == \"__main__\":\n",
    "    tree = BinaryTree()\n",
    "    soln = Solution()\n",
    "\n",
    "    root = TreeNode(3)\n",
    "    root.left = TreeNode(9)\n",
    "    root.right = TreeNode(20)\n",
    "    root.right.left = TreeNode(15)\n",
    "    root.right.right = TreeNode(7)\n",
    "\n",
    "    print(tree.BFS_traversal(root))\n",
    "    print(soln.zigzagLevelOrder(root))"
   ]
  },
  {
   "cell_type": "code",
   "execution_count": null,
   "metadata": {},
   "outputs": [],
   "source": []
  },
  {
   "cell_type": "code",
   "execution_count": null,
   "metadata": {},
   "outputs": [],
   "source": []
  },
  {
   "cell_type": "markdown",
   "metadata": {},
   "source": [
    "c++"
   ]
  },
  {
   "cell_type": "code",
   "execution_count": null,
   "metadata": {},
   "outputs": [],
   "source": [
    "/**\n",
    " * Definition for a binary tree node.\n",
    " * struct TreeNode {\n",
    " *     int val;\n",
    " *     TreeNode *left;\n",
    " *     TreeNode *right;\n",
    " *     TreeNode(int x) : val(x), left(NULL), right(NULL) {}\n",
    " * };\n",
    " */\n",
    "class Solution {\n",
    "public:\n",
    "    vector<vector<int>> zigzagLevelOrder(TreeNode* root) {\n",
    "        if (!root) {\n",
    "            return {};\n",
    "        }\n",
    "        \n",
    "        vector<vector<int>> ans;\n",
    "        vector<int> curr_soln;\n",
    "        \n",
    "        vector<TreeNode *> frontier;\n",
    "        frontier.push_back(root);\n",
    "        vector<TreeNode *> post;\n",
    "        \n",
    "        bool reversed{false};\n",
    "        while(!frontier.empty()) {\n",
    "            post.clear();\n",
    "            curr_soln.clear();\n",
    "            for(TreeNode * node : frontier) {\n",
    "                curr_soln.push_back(node -> val);\n",
    "                if(node -> left) {\n",
    "                    post.push_back(node -> left);\n",
    "                }\n",
    "                if(node -> right) {\n",
    "                    post.push_back(node -> right);\n",
    "                }\n",
    "            }\n",
    "            frontier.swap(post);\n",
    "            if(reversed) {\n",
    "                reverse(curr_soln.begin(), curr_soln.end());\n",
    "            }\n",
    "            ans.push_back(curr_soln);\n",
    "            reversed = !reversed;\n",
    "        }\n",
    "        return ans;\n",
    "    }\n",
    "};"
   ]
  }
 ],
 "metadata": {
  "kernelspec": {
   "display_name": "Python 3",
   "language": "python",
   "name": "python3"
  },
  "language_info": {
   "codemirror_mode": {
    "name": "ipython",
    "version": 3
   },
   "file_extension": ".py",
   "mimetype": "text/x-python",
   "name": "python",
   "nbconvert_exporter": "python",
   "pygments_lexer": "ipython3",
   "version": "3.6.5"
  }
 },
 "nbformat": 4,
 "nbformat_minor": 2
}
