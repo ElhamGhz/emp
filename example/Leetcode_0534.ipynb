{
 "cells": [
  {
   "cell_type": "markdown",
   "metadata": {},
   "source": [
    "#### [Leetcode 534 Easy] [Diameter of Binary Tree](https://leetcode.com/problems/diameter-of-binary-tree/)\n",
    "\n",
    "Given a binary tree, you need to compute the length of the diameter of the tree. The diameter of a binary tree is the length of the longest path between any two nodes in a tree. This path may or may not pass through the root.\n",
    "\n",
    "Example:\n",
    "```\n",
    "Given a binary tree \n",
    "          1\n",
    "         / \\\n",
    "        2   3\n",
    "       / \\     \n",
    "      4   5    \n",
    "Return 3, which is the length of the path [4,2,1,3] or [5,2,1,3].\n",
    "```\n",
    "\n",
    "Note: The length of path between two nodes is represented by the number of edges between them."
   ]
  },
  {
   "cell_type": "code",
   "execution_count": 1,
   "metadata": {
    "collapsed": true
   },
   "outputs": [],
   "source": [
    "from helper import TreeNode"
   ]
  },
  {
   "cell_type": "code",
   "execution_count": 10,
   "metadata": {},
   "outputs": [],
   "source": [
    "# Definition for a binary tree node.\n",
    "# class TreeNode(object):\n",
    "#     def __init__(self, x):\n",
    "#         self.val = x\n",
    "#         self.left = None\n",
    "#         self.right = None\n",
    "\n",
    "class Solution(object):\n",
    "    def diameterOfBinaryTree(self, root):\n",
    "        \"\"\"\n",
    "        :type root: TreeNode\n",
    "        :rtype: int\n",
    "        \"\"\"\n",
    "        if not root:\n",
    "            return 0\n",
    "        \n",
    "        diameter = [0]\n",
    "        \n",
    "        self.helper(root, diameter)\n",
    "        \n",
    "        return diameter[0]\n",
    "    \n",
    "    def helper(self, root, diameter):\n",
    "        # base case\n",
    "        if not root: # the height of none node is 0\n",
    "            return 0\n",
    "            \n",
    "        # what to get from your children\n",
    "        left_height = self.helper(root.left, diameter)\n",
    "        right_height = self.helper(root.right, diameter)\n",
    "        \n",
    "        # what to do in the current stage\n",
    "        #  path_len = # node - 1\n",
    "        path_len = left_height + 1 + right_height - 1\n",
    "        if diameter[0] < path_len:\n",
    "            diameter[0] = path_len\n",
    "        \n",
    "        # what to return to your parent -- height\n",
    "        return max(left_height, right_height) + 1"
   ]
  },
  {
   "cell_type": "code",
   "execution_count": 11,
   "metadata": {},
   "outputs": [
    {
     "name": "stdout",
     "output_type": "stream",
     "text": [
      "3\n"
     ]
    }
   ],
   "source": [
    "root = TreeNode(1)\n",
    "root.left = TreeNode(2)\n",
    "root.right = TreeNode(3)\n",
    "root.left.left = TreeNode(4)\n",
    "root.left.right = TreeNode(5)\n",
    "\n",
    "soln = Solution()\n",
    "print(soln.diameterOfBinaryTree(root))"
   ]
  },
  {
   "cell_type": "code",
   "execution_count": null,
   "metadata": {
    "collapsed": true
   },
   "outputs": [],
   "source": []
  },
  {
   "cell_type": "markdown",
   "metadata": {},
   "source": [
    "#### Follow up: print the shortest path"
   ]
  },
  {
   "cell_type": "code",
   "execution_count": 75,
   "metadata": {},
   "outputs": [],
   "source": [
    "# Definition for a binary tree node.\n",
    "# class TreeNode(object):\n",
    "#     def __init__(self, x):\n",
    "#         self.val = x\n",
    "#         self.left = None\n",
    "#         self.right = None\n",
    "\n",
    "class Solution(object):\n",
    "    def diameterOfBinaryTree(self, root):\n",
    "        \"\"\"\n",
    "        :type root: TreeNode\n",
    "        :rtype: int\n",
    "        \"\"\"\n",
    "        if not root:\n",
    "            return 0\n",
    "        \n",
    "        diameter = [0]\n",
    "        longest_path = []\n",
    "        \n",
    "        self.helper(root, diameter, longest_path)\n",
    "        \n",
    "        return diameter[0], longest_path\n",
    "    \n",
    "    def helper(self, root, diameter, longest_path):\n",
    "        # base case\n",
    "        if not root: # the height of none node is 0\n",
    "            return 0, []\n",
    "        \n",
    "        # what to get from your children\n",
    "        left_height, left_paths = self.helper(root.left, diameter, longest_path)\n",
    "        right_height, right_paths = self.helper(root.right, diameter, longest_path)\n",
    "        \n",
    "        # what to do in the current stage\n",
    "        #  path_len = # node - 1\n",
    "        path_len = left_height + 1 + right_height - 1\n",
    "        if diameter[0] < path_len:\n",
    "            while longest_path:\n",
    "                longest_path.pop()\n",
    "            diameter[0] = path_len\n",
    "            for left_path in left_paths:\n",
    "                for right_path in right_paths:\n",
    "                    curr_path = left_path + [root.val] + right_path[::-1]\n",
    "                    longest_path.append(curr_path[:])\n",
    "\n",
    "            \n",
    "        height = max(left_height, right_height) + 1\n",
    "        paths = []\n",
    "        if left_height > right_height:\n",
    "            for left_path in left_paths:\n",
    "                paths.append(left_path + [root.val])\n",
    "        elif left_height < right_height:\n",
    "            for right_path in right_paths:\n",
    "                paths.append(right_path + [root.val])\n",
    "        else:\n",
    "            for left_path in left_paths:\n",
    "                paths.append(left_path + [root.val])\n",
    "            for right_path in right_paths:\n",
    "                paths.append(right_path + [root.val])\n",
    "            if not left_paths and not right_paths:\n",
    "                paths.append([root.val])\n",
    "        \n",
    "        print('post', root.val, height, path_len, diameter, paths)\n",
    "        #print(height, path)\n",
    "        # what to return to your parent -- height, longest_single_path\n",
    "        return height, paths"
   ]
  },
  {
   "cell_type": "code",
   "execution_count": 76,
   "metadata": {},
   "outputs": [
    {
     "name": "stdout",
     "output_type": "stream",
     "text": [
      "post 4 1 0 [0] [[4]]\n",
      "post 5 1 0 [0] [[5]]\n",
      "post 2 2 2 [2] [[4, 2], [5, 2]]\n",
      "post 3 1 0 [2] [[3]]\n",
      "post 1 3 3 [3] [[4, 2, 1], [5, 2, 1]]\n",
      "(3, [[4, 2, 1, 3], [5, 2, 1, 3]])\n"
     ]
    }
   ],
   "source": [
    "root = TreeNode(1)\n",
    "root.left = TreeNode(2)\n",
    "root.right = TreeNode(3)\n",
    "root.left.left = TreeNode(4)\n",
    "root.left.right = TreeNode(5)\n",
    "\n",
    "soln = Solution()\n",
    "print(soln.diameterOfBinaryTree(root))"
   ]
  },
  {
   "cell_type": "markdown",
   "metadata": {},
   "source": [
    "<font color='red'>DEBUG: </font>  \n",
    "In the following coding, we use a longest_path to store the longest path that we encounter. But we get an empty list after we finish the recursion function. What is the root? How can you fix it?"
   ]
  },
  {
   "cell_type": "code",
   "execution_count": 44,
   "metadata": {
    "collapsed": true
   },
   "outputs": [],
   "source": [
    "# Definition for a binary tree node.\n",
    "# class TreeNode(object):\n",
    "#     def __init__(self, x):\n",
    "#         self.val = x\n",
    "#         self.left = None\n",
    "#         self.right = None\n",
    "\n",
    "class Solution(object):\n",
    "    def diameterOfBinaryTree(self, root):\n",
    "        \"\"\"\n",
    "        :type root: TreeNode\n",
    "        :rtype: int\n",
    "        \"\"\"\n",
    "        if not root:\n",
    "            return 0\n",
    "        \n",
    "        diameter = [0]\n",
    "        longest_path = []\n",
    "        \n",
    "        self.helper(root, diameter, longest_path)\n",
    "        \n",
    "        return diameter[0], longest_path\n",
    "    \n",
    "    def helper(self, root, diameter, longest_path):\n",
    "        # base case\n",
    "        if not root: # the height of none node is 0\n",
    "            return 0, []\n",
    "        \n",
    "        print('pre', root.val, diameter, longest_path)\n",
    "        # what to get from your children\n",
    "        left_height, left_path = self.helper(root.left, diameter, longest_path)\n",
    "        right_height, right_path = self.helper(root.right, diameter, longest_path)\n",
    "        \n",
    "        # what to do in the current stage\n",
    "        #  path_len = # node - 1\n",
    "        path_len = left_height + 1 + right_height - 1\n",
    "        if diameter[0] < path_len:\n",
    "            diameter[0] = path_len\n",
    "            longest_path = left_path + [root.val] + right_path[::-1]\n",
    "            #print(longest_path)\n",
    "            \n",
    "        height = max(left_height, right_height) + 1\n",
    "        path = left_path + [root.val] if left_height > right_height else right_path + [root.val]\n",
    "        \n",
    "        print('post', root.val, height, path_len, diameter, longest_path)\n",
    "        #print(height, path)\n",
    "        # what to return to your parent -- height, longest_single_path\n",
    "        return height, path"
   ]
  },
  {
   "cell_type": "code",
   "execution_count": 45,
   "metadata": {},
   "outputs": [
    {
     "name": "stdout",
     "output_type": "stream",
     "text": [
      "pre 1 [0] []\n",
      "pre 2 [0] []\n",
      "pre 4 [0] []\n",
      "post 4 1 0 [0] []\n",
      "pre 5 [0] []\n",
      "post 5 1 0 [0] []\n",
      "post 2 2 2 [2] [4, 2, 5]\n",
      "pre 3 [2] []\n",
      "post 3 1 0 [2] []\n",
      "post 1 3 3 [3] [5, 2, 1, 3]\n",
      "(3, [])\n"
     ]
    }
   ],
   "source": [
    "root = TreeNode(1)\n",
    "root.left = TreeNode(2)\n",
    "root.right = TreeNode(3)\n",
    "root.left.left = TreeNode(4)\n",
    "root.left.right = TreeNode(5)\n",
    "\n",
    "soln = Solution()\n",
    "print(soln.diameterOfBinaryTree(root))"
   ]
  },
  {
   "cell_type": "markdown",
   "metadata": {},
   "source": [
    "Think of the following two examples. Can you get any hint from it?"
   ]
  },
  {
   "cell_type": "code",
   "execution_count": 50,
   "metadata": {},
   "outputs": [
    {
     "name": "stdout",
     "output_type": "stream",
     "text": [
      "[10, 10, 10]\n",
      "[]\n"
     ]
    }
   ],
   "source": [
    "def fun1(nums):\n",
    "    nums.append(10)\n",
    "\n",
    "def fun2(nums):\n",
    "    nums = nums + [10]\n",
    "    \n",
    "## Test 1\n",
    "nums = []\n",
    "fun1(nums)\n",
    "fun1(nums)\n",
    "fun1(nums)\n",
    "print(nums)\n",
    "\n",
    "nums = []\n",
    "fun2(nums)\n",
    "fun2(nums)\n",
    "fun2(nums)\n",
    "print(nums)"
   ]
  },
  {
   "cell_type": "code",
   "execution_count": null,
   "metadata": {
    "collapsed": true
   },
   "outputs": [],
   "source": []
  },
  {
   "cell_type": "code",
   "execution_count": null,
   "metadata": {
    "collapsed": true
   },
   "outputs": [],
   "source": []
  }
 ],
 "metadata": {
  "kernelspec": {
   "display_name": "Python 3",
   "language": "python",
   "name": "python3"
  },
  "language_info": {
   "codemirror_mode": {
    "name": "ipython",
    "version": 3
   },
   "file_extension": ".py",
   "mimetype": "text/x-python",
   "name": "python",
   "nbconvert_exporter": "python",
   "pygments_lexer": "ipython3",
   "version": "3.6.5"
  }
 },
 "nbformat": 4,
 "nbformat_minor": 2
}
