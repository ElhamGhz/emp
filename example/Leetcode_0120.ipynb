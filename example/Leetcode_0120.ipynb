{
 "cells": [
  {
   "cell_type": "markdown",
   "metadata": {},
   "source": [
    "#### [Leetcode 120 Medium] [Triangle](https://leetcode.com/problems/triangle/)\n",
    "\n",
    "Given a triangle, find the minimum path sum from top to bottom. Each step you may move to adjacent numbers on the row below.\n",
    "\n",
    "For example, given the following triangle\n",
    "```\n",
    "[\n",
    "     [2],\n",
    "    [3,4],\n",
    "   [6,5,7],\n",
    "  [4,1,8,3]\n",
    "]\n",
    "The minimum path sum from top to bottom is 11 (i.e., 2 + 3 + 5 + 1 = 11).\n",
    "```\n",
    "\n",
    "Note:\n",
    "* Bonus point if you are able to do this using only O(n) extra space, where n is the total number of rows in the triangle."
   ]
  },
  {
   "cell_type": "markdown",
   "metadata": {},
   "source": [
    "<font color='blue'>Solution: DFS -- Traverse (multi-stage decision-making) </font> \n",
    "\n",
    "* Time Complexity: O(2^n)"
   ]
  },
  {
   "cell_type": "code",
   "execution_count": 22,
   "metadata": {},
   "outputs": [
    {
     "name": "stdout",
     "output_type": "stream",
     "text": [
      "11\n"
     ]
    }
   ],
   "source": [
    "class Solution(object):\n",
    "    def minimumTotal(self, triangle):\n",
    "        \"\"\"\n",
    "        :type triangle: List[List[int]]\n",
    "        :rtype: int\n",
    "        \"\"\"\n",
    "        if not triangle:\n",
    "            return 0\n",
    "        \n",
    "        self.best = float('inf')\n",
    "        sums = [triangle[0][0]]\n",
    "        self.traverse(sums, 0, 0, triangle)\n",
    "        return self.best\n",
    "    \n",
    "    def traverse(self, sums, x, y, triangle):\n",
    "        if x == len(triangle) - 1:\n",
    "            # found a whole path from top to bottom\n",
    "            if sums[0] < self.best:\n",
    "                self.best = sums[0]\n",
    "            return       \n",
    " \n",
    "        dx, dy = [1, 1], [0, 1]\n",
    "        \n",
    "        for d in range(2):\n",
    "            nx, ny = x + dx[d], y + dy[d]            \n",
    "\n",
    "            if ((0 <= nx < len(triangle)) and \n",
    "                (0 <= ny < len(triangle[nx]))):\n",
    "                sums[0] = sums[0] + triangle[nx][ny]\n",
    "                self.traverse(sums, nx, ny, triangle)\n",
    "                sums[0] = sums[0] - triangle[nx][ny]\n",
    "        \n",
    "    \n",
    "    \n",
    "if __name__ == \"__main__\":\n",
    "    soln = Solution()    \n",
    "    \n",
    "    triangle = [\n",
    "        [2],\n",
    "        [3,4],\n",
    "        [6,5,7],\n",
    "        [4,1,8,3]\n",
    "    ]\n",
    "    print(soln.minimumTotal(triangle))\n",
    "    "
   ]
  },
  {
   "cell_type": "markdown",
   "metadata": {},
   "source": [
    "<font color='blue'>Solution: DFS -- Divide and Conquer </font> \n",
    "\n",
    "* Time Complexity: O(2^n)"
   ]
  },
  {
   "cell_type": "code",
   "execution_count": 30,
   "metadata": {},
   "outputs": [
    {
     "name": "stdout",
     "output_type": "stream",
     "text": [
      "11\n"
     ]
    }
   ],
   "source": [
    "class Solution(object):\n",
    "    def minimumTotal(self, triangle):\n",
    "        \"\"\"\n",
    "        :type triangle: List[List[int]]\n",
    "        :rtype: int\n",
    "        \"\"\"\n",
    "        if not triangle:\n",
    "            return 0\n",
    "        \n",
    "        return self.divide_conquer(0, 0, triangle)\n",
    "    \n",
    "    def divide_conquer(self, x, y, triangle):\n",
    "        # return minimum path from (x, y) to bottom\n",
    "        \n",
    "        # Base case\n",
    "        if x == len(triangle):\n",
    "            return 0\n",
    "        \n",
    "        # what to get from your children\n",
    "        child_sum = []\n",
    "        dx, dy = [1, 1], [0, 1]\n",
    "        for d in range(2):\n",
    "            nx, ny = x + dx[d], y + dy[d]\n",
    "            child_sum.append(self.divide_conquer(nx, ny, triangle))\n",
    "        \n",
    "        # what to do in the current stage\n",
    "        sums = triangle[x][y] + min(child_sum)\n",
    "        \n",
    "        # what to return to your parent\n",
    "        return sums\n",
    "        \n",
    "        #return A[x][y] + min(\n",
    "        #    self.divide_conquer(x + 1, y, triangle),\n",
    "        #    self.divide_conquer(x, y + 1, triangle))\n",
    "    \n",
    "    \n",
    "if __name__ == \"__main__\":\n",
    "    soln = Solution()    \n",
    "    \n",
    "    triangle = [\n",
    "        [2],\n",
    "        [3,4],\n",
    "        [6,5,7],\n",
    "        [4,1,8,3]\n",
    "    ]\n",
    "    print(soln.minimumTotal(triangle))\n",
    "    "
   ]
  },
  {
   "cell_type": "markdown",
   "metadata": {},
   "source": [
    "<font color='blue'>Solution: DFS -- Divide and Conquer + memory 记忆化搜索 </font> \n",
    "\n",
    "* Time Complexity: O(n^2)  # 1/2 * n^2 is the number of all points in the triangle \n",
    "\n",
    "多重循环：正规，大多数面试官可以接受，存在空间优化可能性；但是思考有难度\n",
    "\n",
    "记忆化搜索： 容易从搜索算法直接转化过来。有的时候可以节省更多的时间。但是要递归。"
   ]
  },
  {
   "cell_type": "code",
   "execution_count": 36,
   "metadata": {},
   "outputs": [
    {
     "name": "stdout",
     "output_type": "stream",
     "text": [
      "11\n"
     ]
    }
   ],
   "source": [
    "class Solution(object):\n",
    "    def minimumTotal(self, triangle):\n",
    "        \"\"\"\n",
    "        :type triangle: List[List[int]]\n",
    "        :rtype: int\n",
    "        \"\"\"\n",
    "        if not triangle:\n",
    "            return 0\n",
    "        \n",
    "        # initialize\n",
    "        cache = [[None for y in range(len(triangle[x]))] for x in range(len(triangle))]\n",
    "        \n",
    "        return self.divide_conquer(0, 0, triangle, cache)\n",
    "    \n",
    "    def divide_conquer(self, x, y, triangle, cache):\n",
    "        # return minimum path from (x, y) to bottom\n",
    "        \n",
    "        # Base case\n",
    "        if x == len(triangle):\n",
    "            return 0\n",
    "        \n",
    "        if cache[x][y]:\n",
    "            return cache[x][y]\n",
    "        \n",
    "        # what to get from your children\n",
    "        child_sum = []\n",
    "        dx, dy = [1, 1], [0, 1]\n",
    "        for d in range(2):\n",
    "            nx, ny = x + dx[d], y + dy[d]\n",
    "            child_sum.append(self.divide_conquer(nx, ny, triangle, cache))\n",
    "        \n",
    "        # what to do in the current stage\n",
    "        cache[x][y] = triangle[x][y] + min(child_sum)\n",
    "        \n",
    "        # what to return to your parent\n",
    "        return cache[x][y]\n",
    "        \n",
    "    \n",
    "    \n",
    "if __name__ == \"__main__\":\n",
    "    soln = Solution()    \n",
    "    \n",
    "    triangle = [\n",
    "        [2],\n",
    "        [3,4],\n",
    "        [6,5,7],\n",
    "        [4,1,8,3]\n",
    "    ]\n",
    "\n",
    "    print(soln.minimumTotal(triangle))\n",
    "    "
   ]
  },
  {
   "cell_type": "code",
   "execution_count": null,
   "metadata": {
    "collapsed": true
   },
   "outputs": [],
   "source": []
  }
 ],
 "metadata": {
  "kernelspec": {
   "display_name": "Python 3",
   "language": "python",
   "name": "python3"
  },
  "language_info": {
   "codemirror_mode": {
    "name": "ipython",
    "version": 3
   },
   "file_extension": ".py",
   "mimetype": "text/x-python",
   "name": "python",
   "nbconvert_exporter": "python",
   "pygments_lexer": "ipython3",
   "version": "3.6.3"
  }
 },
 "nbformat": 4,
 "nbformat_minor": 2
}
