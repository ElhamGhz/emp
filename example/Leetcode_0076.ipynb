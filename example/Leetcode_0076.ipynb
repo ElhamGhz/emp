{
 "cells": [
  {
   "cell_type": "markdown",
   "metadata": {},
   "source": [
    "#### [Leetcode 76 Hard] [Minimum Window Substring](https://leetcode.com/problems/minimum-window-substring/)\n",
    "\n",
    "Given a string S and a string T, find the minimum window in S which will contain all the characters in T in complexity O(n).\n",
    "\n",
    "Example:\n",
    "```\n",
    "Input: S = \"ADOBECODEBANC\", T = \"ABC\"\n",
    "Output: \"BANC\"\n",
    "```\n",
    "\n",
    "Note:\n",
    "* If there is no such window in S that covers all characters in T, return the empty string \"\".\n",
    "* If there is such window, you are guaranteed that there will always be only one unique minimum window in S."
   ]
  },
  {
   "cell_type": "markdown",
   "metadata": {},
   "source": [
    "Hint:\n",
    "1. Use two pointers to create a window of letters in S, which would have all the characters from T.\n",
    "2. Since you have to find the minimum window in S which has all the characters from T, you need to expand and contract the window using the two pointers and keep checking the window for all the characters. This approach is also called Sliding Window Approach.\n",
    "\n",
    "```\n",
    "L ------------------------ R , Suppose this is the window that contains all characters of T \n",
    "                          \n",
    "        L----------------- R , this is the contracted window. We found a smaller window that still contains all the characters in T\n",
    "\n",
    "When the window is no longer valid, start expanding again using the right pointer. \n",
    "```"
   ]
  },
  {
   "cell_type": "markdown",
   "metadata": {},
   "source": [
    "<font color='blue'>Solution: </font> sliding window with two pointers\n",
    "\n",
    "双指针思想，尾指针不断往后扫，当扫到有一个窗口包含了所有T的字符，然后再收缩头指针，直到不包含所有T的字符，然后尾指针继续往后扫。最后记录所有可能的情况中窗口最小的。"
   ]
  },
  {
   "cell_type": "code",
   "execution_count": 17,
   "metadata": {},
   "outputs": [],
   "source": [
    "class Solution(object):\n",
    "    def minWindow(self, s, t):\n",
    "        \"\"\"\n",
    "        :type s: str\n",
    "        :type t: str\n",
    "        :rtype: str\n",
    "        \"\"\"\n",
    "        if not s or not t or len(s) < len(t):\n",
    "            return \"\"\n",
    "        \n",
    "        counter = self.count_frequencies(t)\n",
    "        \n",
    "        left, right = 0, 0\n",
    "        count = 0\n",
    "        min_len = len(s) + 1\n",
    "        min_res = \"\"\n",
    "        \n",
    "        while right < len(s):              \n",
    "            \n",
    "            if s[right] in counter:\n",
    "                counter[s[right]] -= 1\n",
    "                if counter[s[right]] == 0:\n",
    "                    count += 1\n",
    "            \n",
    "            # Shrink the window by moving left pointer forward\n",
    "            while left <= right and count == len(counter):\n",
    "                if min_len > right - left + 1:\n",
    "                    min_len = right - left + 1\n",
    "                    min_res = s[left:right + 1]\n",
    "                if s[left] in counter:\n",
    "                    counter[s[left]] += 1\n",
    "                    if counter[s[left]] > 0:\n",
    "                        count -= 1\n",
    "                left += 1\n",
    "            \n",
    "            # Expand the window by moving right pointer forward    \n",
    "            right += 1   \n",
    "            \n",
    "        return min_res\n",
    "                \n",
    "    def count_frequencies(self, string):\n",
    "        if not string:\n",
    "            return {}\n",
    "        \n",
    "        counter = {}\n",
    "        for char in string:\n",
    "            counter[char] = counter.get(char, 0) + 1\n",
    "            \n",
    "        return counter\n",
    "        "
   ]
  },
  {
   "cell_type": "code",
   "execution_count": 18,
   "metadata": {},
   "outputs": [
    {
     "name": "stdout",
     "output_type": "stream",
     "text": [
      "BANC\n"
     ]
    }
   ],
   "source": [
    "soln = Solution()\n",
    "print(soln.minWindow(s=\"ADOBECODEBANC\", t=\"ABC\"))"
   ]
  },
  {
   "cell_type": "code",
   "execution_count": null,
   "metadata": {},
   "outputs": [],
   "source": []
  }
 ],
 "metadata": {
  "kernelspec": {
   "display_name": "Python 3",
   "language": "python",
   "name": "python3"
  },
  "language_info": {
   "codemirror_mode": {
    "name": "ipython",
    "version": 3
   },
   "file_extension": ".py",
   "mimetype": "text/x-python",
   "name": "python",
   "nbconvert_exporter": "python",
   "pygments_lexer": "ipython3",
   "version": "3.6.5"
  }
 },
 "nbformat": 4,
 "nbformat_minor": 2
}
