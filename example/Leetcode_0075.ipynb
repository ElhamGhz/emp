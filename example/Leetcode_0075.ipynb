{
 "cells": [
  {
   "cell_type": "markdown",
   "metadata": {},
   "source": [
    "#### [Leetcode 75 Medium] [Sort Colors](https://leetcode.com/problems/sort-colors/)\n",
    "\n",
    "Given an array with n objects colored red, white or blue, sort them in-place so that objects of the same color are adjacent, with the colors in the order red, white and blue.\n",
    "\n",
    "Here, we will use the integers 0, 1, and 2 to represent the color red, white, and blue respectively.\n",
    "\n",
    "Note: You are not suppose to use the library's sort function for this problem.\n",
    "\n",
    "Example:\n",
    "```\n",
    "Input: [2,0,2,1,1,0]\n",
    "Output: [0,0,1,1,2,2]\n",
    "```\n",
    "\n",
    "Follow up:\n",
    "* A rather straight forward solution is a two-pass algorithm using counting sort.\n",
    "* First, iterate the array counting number of 0's, 1's, and 2's, then overwrite array with total number of 0's, then 1's and followed by 2's.\n",
    "* Could you come up with a one-pass algorithm using only constant space?"
   ]
  },
  {
   "cell_type": "code",
   "execution_count": 19,
   "metadata": {},
   "outputs": [],
   "source": [
    "class Solution(object):\n",
    "    def sortColors(self, nums):\n",
    "        \"\"\"\n",
    "        :type nums: List[int]\n",
    "        :rtype: None Do not return anything, modify nums in-place instead.\n",
    "        \"\"\"\n",
    "        if not nums:\n",
    "            return nums\n",
    "        \n",
    "        left, right, index = 0, len(nums) - 1, 0\n",
    "        \n",
    "        while index <= right:\n",
    "            \n",
    "            if nums[index] == 0:\n",
    "                nums[left], nums[index] = nums[index], nums[left]\n",
    "                left += 1\n",
    "                index += 1\n",
    "            elif nums[index] == 2:\n",
    "                nums[right], nums[index] = nums[index], nums[right]\n",
    "                right -= 1\n",
    "            else:\n",
    "                index += 1\n",
    "                \n",
    "            print(index, nums)\n",
    "            \n",
    "        return nums"
   ]
  },
  {
   "cell_type": "code",
   "execution_count": 20,
   "metadata": {},
   "outputs": [
    {
     "name": "stdout",
     "output_type": "stream",
     "text": [
      "0 [0, 0, 2, 1, 1, 2]\n",
      "1 [0, 0, 2, 1, 1, 2]\n",
      "2 [0, 0, 2, 1, 1, 2]\n",
      "2 [0, 0, 1, 1, 2, 2]\n",
      "3 [0, 0, 1, 1, 2, 2]\n",
      "4 [0, 0, 1, 1, 2, 2]\n",
      "[0, 0, 1, 1, 2, 2]\n"
     ]
    }
   ],
   "source": [
    "soln = Solution()\n",
    "\n",
    "nums=[2,0,2,1,1,0]\n",
    "soln.sortColors(nums)\n",
    "print(nums)"
   ]
  },
  {
   "cell_type": "markdown",
   "metadata": {},
   "source": [
    "#### Follow up: \n",
    "给了一个字符串，包含了若干大写字母和小写字母，然后要求将字符串的小写字母移到字符串的前面，大写字母移到字符串的后面，顺序无所谓。感觉好像还是leetcode的原题，但是没有找到。\n",
    "用了两个指针来做，第一个指针遍历整个字符串，第二个指针记录index最小的大写字母，每次遍历到小写字母的时候，如果index大于指针记录的大写字母的位置就交换，然后再去找下一个大写字母。\n",
    "感觉有一点brute force，可能还有更好的方法吧。然后问了下复杂度，因为两个指针的位置都是递增的，所以应该是O(n)，然后又问了下认为哪些test case比较好，随便说了一下就结束了。"
   ]
  },
  {
   "cell_type": "code",
   "execution_count": null,
   "metadata": {
    "collapsed": true
   },
   "outputs": [],
   "source": []
  }
 ],
 "metadata": {
  "kernelspec": {
   "display_name": "Python 3",
   "language": "python",
   "name": "python3"
  },
  "language_info": {
   "codemirror_mode": {
    "name": "ipython",
    "version": 3
   },
   "file_extension": ".py",
   "mimetype": "text/x-python",
   "name": "python",
   "nbconvert_exporter": "python",
   "pygments_lexer": "ipython3",
   "version": "3.6.5"
  }
 },
 "nbformat": 4,
 "nbformat_minor": 2
}
