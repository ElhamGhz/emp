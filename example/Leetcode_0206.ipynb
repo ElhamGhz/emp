{
 "cells": [
  {
   "cell_type": "markdown",
   "metadata": {},
   "source": [
    "#### [Leetcode 206 Easy] [Reverse Linked List](https://leetcode.com/problems/reverse-linked-list/) \n",
    "\n",
    "Reverse a singly linked list.\n",
    "\n",
    "Example:\n",
    "```\n",
    "Input: 1->2->3->4->5->NULL\n",
    "Output: 5->4->3->2->1->NULL\n",
    "```\n",
    "\n",
    "Follow up:\n",
    "* A linked list can be reversed either iteratively or recursively. Could you implement both?"
   ]
  },
  {
   "cell_type": "code",
   "execution_count": 1,
   "metadata": {},
   "outputs": [],
   "source": [
    "from helper import ListNode\n",
    "from helper import LinkedList"
   ]
  },
  {
   "cell_type": "code",
   "execution_count": 2,
   "metadata": {},
   "outputs": [
    {
     "name": "stdout",
     "output_type": "stream",
     "text": [
      "(1 .-)->(2 .-)->(3 .-)->(4 .-)->(5 .-)->NULL\n",
      "(5 .-)->(4 .-)->(3 .-)->(2 .-)->(1 .-)->NULL\n"
     ]
    }
   ],
   "source": [
    "# Definition for singly-linked list.\n",
    "# class ListNode(object):\n",
    "#     def __init__(self, x):\n",
    "#         self.val = x\n",
    "#         self.next = None\n",
    "\n",
    "class Solution(object):\n",
    "    def reverseList(self, head):\n",
    "        \"\"\"\n",
    "        :type head: ListNode\n",
    "        :rtype: ListNode\n",
    "        \"\"\"\n",
    "        # Base case: tail\n",
    "        if not head or not head.next:\n",
    "            return head\n",
    "        \n",
    "        # what to get from your child\n",
    "        child_head = self.reverseList(head.next)\n",
    "        \n",
    "        # what to do in the current stage\n",
    "        # head --> (node <-- ... <-- child_head)\n",
    "        post = head.next\n",
    "        # head <--> (node <-- ... <-- child_head)\n",
    "        post.next = head\n",
    "        # head <-- (node <-- ... <-- child_head)\n",
    "        head.next = None\n",
    "        \n",
    "        # what to return to your parent\n",
    "        return child_head\n",
    "        \n",
    "if __name__ == \"__main__\":\n",
    "    linked_list = LinkedList()\n",
    "    \n",
    "    head = ListNode(1)\n",
    "    head.next = ListNode(2)\n",
    "    head.next.next = ListNode(3)\n",
    "    head.next.next.next = ListNode(4)\n",
    "    head.next.next.next.next = ListNode(5)\n",
    "    linked_list.printList(head)\n",
    "    \n",
    "    soln = Solution()\n",
    "    new_head = soln.reverseList(head)\n",
    "    linked_list.printList(new_head)        "
   ]
  },
  {
   "cell_type": "code",
   "execution_count": 3,
   "metadata": {},
   "outputs": [
    {
     "name": "stdout",
     "output_type": "stream",
     "text": [
      "(1 .-)->(2 .-)->(3 .-)->(4 .-)->(5 .-)->NULL\n",
      "(5 .-)->(4 .-)->(3 .-)->(2 .-)->(1 .-)->NULL\n"
     ]
    }
   ],
   "source": [
    "# Definition for singly-linked list.\n",
    "# class ListNode(object):\n",
    "#     def __init__(self, x):\n",
    "#         self.val = x\n",
    "#         self.next = None\n",
    "\n",
    "class Solution(object):\n",
    "    def reverseList(self, head):\n",
    "        \"\"\"\n",
    "        :type head: ListNode\n",
    "        :rtype: ListNode\n",
    "        \"\"\"\n",
    "        prev, curr = None, head\n",
    "        while curr:\n",
    "            # prev --> (curr) --> post\n",
    "            post = curr.next\n",
    "            # prev <-- (curr) --> post\n",
    "            curr.next = prev\n",
    "            # move pointer forward\n",
    "            # prev <-- (curr) --> post\n",
    "            #          (prev) --> curr\n",
    "            prev, curr = curr, post\n",
    "            \n",
    "        return prev            \n",
    "        \n",
    "if __name__ == \"__main__\":\n",
    "    linked_list = LinkedList()\n",
    "    \n",
    "    head = ListNode(1)\n",
    "    head.next = ListNode(2)\n",
    "    head.next.next = ListNode(3)\n",
    "    head.next.next.next = ListNode(4)\n",
    "    head.next.next.next.next = ListNode(5)\n",
    "    linked_list.printList(head)\n",
    "    \n",
    "    soln = Solution()\n",
    "    new_head = soln.reverseList(head)\n",
    "    linked_list.printList(new_head)        "
   ]
  },
  {
   "cell_type": "code",
   "execution_count": null,
   "metadata": {},
   "outputs": [],
   "source": []
  }
 ],
 "metadata": {
  "kernelspec": {
   "display_name": "Python 3",
   "language": "python",
   "name": "python3"
  },
  "language_info": {
   "codemirror_mode": {
    "name": "ipython",
    "version": 3
   },
   "file_extension": ".py",
   "mimetype": "text/x-python",
   "name": "python",
   "nbconvert_exporter": "python",
   "pygments_lexer": "ipython3",
   "version": "3.6.5"
  }
 },
 "nbformat": 4,
 "nbformat_minor": 2
}
