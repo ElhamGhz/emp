{
 "cells": [
  {
   "cell_type": "markdown",
   "metadata": {},
   "source": [
    "#### [Leetcode 673] [Number of Longest Increasing Subsequence](https://leetcode.com/problems/number-of-longest-increasing-subsequence/)\n",
    "\n",
    "Given an unsorted array of integers, find the number of longest increasing subsequence.\n",
    "\n",
    "Example 1:\n",
    "```\n",
    "Input: [1,3,5,4,7]\n",
    "Output: 2\n",
    "Explanation: The two longest increasing subsequence are [1, 3, 4, 7] and [1, 3, 5, 7].\n",
    "```\n",
    "\n",
    "Example 2:\n",
    "```\n",
    "Input: [2,2,2,2,2]\n",
    "Output: 5\n",
    "Explanation: The length of longest continuous increasing subsequence is 1, and there are 5 subsequences' length is 1, so output 5.\n",
    "```\n",
    "\n",
    "Note: Length of the given array will be not exceed 2000 and the answer is guaranteed to be fit in 32-bit signed int."
   ]
  },
  {
   "cell_type": "markdown",
   "metadata": {},
   "source": [
    "<font color='blue'>Solution: </font> DP\n",
    "\n",
    "对于这种求个数的问题，直觉告诉我们应该要使用DP来做。其实这道题在设计DP数组的时候有个坑，如果我们将dp[i]定义为到i位置的最长子序列的个数的话，那么递推公式不好找。但是如果我们将dp[i]定义为以nums[i]为结尾的递推序列的个数的话，再配上这些递推序列的长度，将会比较容易的发现递推关系。这里我们用len[i]表示以nums[i]为结尾的递推序列的长度，用cnt[i]表示以nums[i]为结尾的递推序列的个数，初始化都赋值为1，只要有数字，那么至少都是1。然后我们遍历数组，对于每个遍历到的数字nums[i]，我们再遍历其之前的所有数字nums[j]，当nums[i]小于等于nums[j]时，不做任何处理，因为不是递增序列。反之，则判断len[i]和len[j]的关系，如果len[i]等于len[j] + 1，说明nums[i]这个数字可以加在以nums[j]结尾的递增序列后面，并且以nums[j]结尾的递增序列个数可以直接加到以nums[i]结尾的递增序列个数上。如果len[i]小于len[j] + 1，说明我们找到了一条长度更长的递增序列，那么我们此时奖len[i]更新为len[j]+1，并且原本的递增序列都不能用了，直接用cnt[j]来代替。我们在更新完len[i]和cnt[i]之后，要更新mx和res，如果mx等于len[i]，则把cnt[i]加到res之上；如果mx小于len[i]，则更新mx为len[i]，更新结果res为cnt[i]\n",
    "\n",
    "* len[i] 代表以第 i 个数结尾的最长上升子序列的长度。\n",
    "* cnt[i] 代表以第 i 个数结尾的最长上升子序列的个数。\n",
    "* len[i] = max(len[j] + 1), nums[j] < nums[i]。\n",
    "* cnt[i] = sum(cnt[j]), nums[j] < nums[i] and len[j] == len[i] - 1。\n",
    "\n",
    "Complexity Analysis:\n",
    "* Time Complexity: O(n^2)\n",
    "* Space Complexity: O(n)"
   ]
  },
  {
   "cell_type": "code",
   "execution_count": 11,
   "metadata": {},
   "outputs": [],
   "source": [
    "class Solution(object):\n",
    "    def findNumberOfLIS(self, nums):\n",
    "        \"\"\"\n",
    "        :type nums: List[int]\n",
    "        :rtype: int\n",
    "        \"\"\"\n",
    "        n = len(nums)\n",
    "        if n <= 1:\n",
    "            return n\n",
    "            \n",
    "        max_len = 0\n",
    "        result = 0\n",
    "        \n",
    "        length = [0 for _ in range(n)]\n",
    "        count  = [0 for _ in range(n)]\n",
    "        \n",
    "        for i in range(n):\n",
    "            length[i], count[i] = 1, 1\n",
    "            for j in range(0, i):\n",
    "                if nums[i] > nums[j]:\n",
    "                    if length[i] == length[j] + 1:\n",
    "                        count[i] += count[j]\n",
    "                    if length[i] < length[j] + 1:\n",
    "                        length[i] = length[j] + 1\n",
    "                        count[i] = count[j]\n",
    "            \n",
    "            print(\"index: {}, length: {}, count: {}\".format(i, length[i], count[i]))\n",
    "            if max_len == length[i]:\n",
    "                result += count[i]\n",
    "            if max_len < length[i]:\n",
    "                max_len = length[i]\n",
    "                result = count[i]\n",
    "                \n",
    "        return result"
   ]
  },
  {
   "cell_type": "code",
   "execution_count": 12,
   "metadata": {},
   "outputs": [
    {
     "name": "stdout",
     "output_type": "stream",
     "text": [
      "index: 0, length: 1, count: 1\n",
      "index: 1, length: 2, count: 1\n",
      "index: 2, length: 3, count: 1\n",
      "index: 3, length: 3, count: 1\n",
      "index: 4, length: 4, count: 2\n",
      "2\n",
      "index: 0, length: 1, count: 1\n",
      "index: 1, length: 1, count: 1\n",
      "index: 2, length: 1, count: 1\n",
      "index: 3, length: 1, count: 1\n",
      "index: 4, length: 1, count: 1\n",
      "5\n"
     ]
    }
   ],
   "source": [
    "soln = Solution()\n",
    "print(soln.findNumberOfLIS(nums=[1,3,5,4,7]))\n",
    "print(soln.findNumberOfLIS(nums=[2,2,2,2,2]))"
   ]
  },
  {
   "cell_type": "code",
   "execution_count": null,
   "metadata": {},
   "outputs": [],
   "source": []
  }
 ],
 "metadata": {
  "kernelspec": {
   "display_name": "Python 3",
   "language": "python",
   "name": "python3"
  },
  "language_info": {
   "codemirror_mode": {
    "name": "ipython",
    "version": 3
   },
   "file_extension": ".py",
   "mimetype": "text/x-python",
   "name": "python",
   "nbconvert_exporter": "python",
   "pygments_lexer": "ipython3",
   "version": "3.6.5"
  }
 },
 "nbformat": 4,
 "nbformat_minor": 2
}
