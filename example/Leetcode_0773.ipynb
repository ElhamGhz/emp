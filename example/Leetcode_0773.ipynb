{
 "cells": [
  {
   "cell_type": "markdown",
   "metadata": {},
   "source": [
    "#### [Leetcode 773 Hard] [Sliding Puzzle](https://leetcode.com/problems/sliding-puzzle/)\n",
    "\n",
    "On a 2x3 board, there are 5 tiles represented by the integers 1 through 5, and an empty square represented by 0.\n",
    "\n",
    "A move consists of choosing 0 and a 4-directionally adjacent number and swapping it.\n",
    "\n",
    "The state of the board is solved if and only if the board is [[1,2,3],[4,5,0]].\n",
    "\n",
    "Given a puzzle board, return the least number of moves required so that the state of the board is solved. If it is impossible for the state of the board to be solved, return -1.\n",
    "\n",
    "Examples:\n",
    "```\n",
    "Input: board = [[1,2,3],[4,0,5]]\n",
    "Output: 1\n",
    "Explanation: Swap the 0 and the 5 in one move.\n",
    "Input: board = [[1,2,3],[5,4,0]]\n",
    "Output: -1\n",
    "Explanation: No number of moves will make the board solved.\n",
    "Input: board = [[4,1,2],[5,0,3]]\n",
    "Output: 5\n",
    "Explanation: 5 is the smallest number of moves that solves the board.\n",
    "An example path:\n",
    "After move 0: [[4,1,2],[5,0,3]]\n",
    "After move 1: [[4,1,2],[0,5,3]]\n",
    "After move 2: [[0,1,2],[4,5,3]]\n",
    "After move 3: [[1,0,2],[4,5,3]]\n",
    "After move 4: [[1,2,0],[4,5,3]]\n",
    "After move 5: [[1,2,3],[4,5,0]]\n",
    "Input: board = [[3,2,4],[1,5,0]]\n",
    "Output: 14\n",
    "```\n",
    "\n",
    "Note:\n",
    "* board will be a 2 x 3 array as described above.\n",
    "* board[i][j] will be a permutation of [0, 1, 2, 3, 4, 5]."
   ]
  },
  {
   "cell_type": "markdown",
   "metadata": {},
   "source": [
    "Hint:\n",
    "1. Perform a breadth-first-search, where the nodes are the puzzle boards and edges are if two puzzle boards can be transformed into one another with one move."
   ]
  },
  {
   "cell_type": "markdown",
   "metadata": {},
   "source": [
    "<font color='red'>IMPORTANT: </font> read this [Introduction to the A\\* Algorithm](https://www.redblobgames.com/pathfinding/a-star/introduction.html)"
   ]
  },
  {
   "cell_type": "markdown",
   "metadata": {},
   "source": [
    "<font color='blue'>Solution: </font>: BFS\n",
    "* Time Complexity: O(n!), n = row \\* col\n",
    "* Space Complexity: O(n)\n",
    "\n",
    "使用最普通的BFS遍历方式, 就检查上下左右四个方向，那么这样我们就不能压缩二维数组成一个字符串了，我们visited数组中只能放二维数组了，同样的，queue 中也只能放二维数组，由于二维数组要找0的位置的话，还需要遍历，为了节省遍历时间，我们将0的位置也放入queue中，那么queue中的放的就是一个pair对儿，保存当前状态，已经0的位置，初始时将棋盘以及0的位置排入queue中。之后的操作就跟之前的解法没啥区别了，只不过这里我们的心位置就是上下左右，如果未越界的话，那么和0交换位置，看新状态是否已经出现过，如果这个状态不在visited中，则加入visited，并且压入队列queue，步数自增1。如果while循环退出后都没有回到正确状态，则返回-1"
   ]
  },
  {
   "cell_type": "code",
   "execution_count": 1,
   "metadata": {
    "collapsed": true
   },
   "outputs": [],
   "source": [
    "class Solution(object):\n",
    "    def slidingPuzzle(self, board):\n",
    "        \"\"\"\n",
    "        :type board: List[List[int]]\n",
    "        :rtype: int\n",
    "        \"\"\"\n",
    "        # results = []\n",
    "        count = 0\n",
    "        \n",
    "        frontier = []\n",
    "        visited = set()\n",
    "        \n",
    "        row = len(board)\n",
    "        col = len(board[0])\n",
    "        \n",
    "        # set up the target\n",
    "        # in python, list is not hashtable\n",
    "        # hence we use a string\n",
    "        target_board = [str(i) for i in range(1, row * col + 1)]\n",
    "        target_board[-1] = str(0)\n",
    "        target = \"\".join(target_board)\n",
    "        \n",
    "        # set up the start string\n",
    "        start = self.board2str(board)\n",
    "        \n",
    "        # seek the starting point: the location of 0  \n",
    "        for i in range(row):\n",
    "            for j in range(col):\n",
    "                if board[i][j] == 0:\n",
    "                    frontier.append((start, i, j))                  \n",
    "        \n",
    "        \n",
    "        dx, dy = [-1, 0, 1, 0], [0, -1, 0, 1]\n",
    "        while frontier:\n",
    "            post = []\n",
    "            for grid, x, y in frontier:  # get the x, y position of a node\n",
    "                if grid == target:\n",
    "                    return count\n",
    "                \n",
    "                for d in range(4):\n",
    "                    nx, ny = x + dx[d], y + dy[d]\n",
    "                    if ((0 <= nx < row) and (0 <= ny < col)):\n",
    "                        # update the grid\n",
    "                        new_grid = list(grid)\n",
    "                        new_grid[x * col + y], new_grid[nx * col + ny] = new_grid[nx * col + ny], new_grid[x * col + y]\n",
    "                        new_grid = \"\".join(new_grid)\n",
    "                        if new_grid not in visited:\n",
    "                            visited.add(new_grid)\n",
    "                            post.append((new_grid, nx, ny))\n",
    "\n",
    "            count += 1\n",
    "            frontier = post\n",
    "                \n",
    "        return -1\n",
    "    \n",
    "    def board2str(self, board):\n",
    "        arr = []\n",
    "        for i in range(len(board)):\n",
    "            for j in range(len(board[0])):\n",
    "                arr.append(str(board[i][j]))\n",
    "        \n",
    "        return \"\".join(arr)"
   ]
  },
  {
   "cell_type": "code",
   "execution_count": 2,
   "metadata": {},
   "outputs": [
    {
     "name": "stdout",
     "output_type": "stream",
     "text": [
      "1\n",
      "-1\n",
      "5\n",
      "14\n"
     ]
    }
   ],
   "source": [
    "soln = Solution()\n",
    "print(soln.slidingPuzzle( board=[[1,2,3],[4,0,5]]))\n",
    "print(soln.slidingPuzzle( board=[[1,2,3],[5,4,0]]))\n",
    "print(soln.slidingPuzzle( board=[[4,1,2],[5,0,3]]))\n",
    "print(soln.slidingPuzzle( board=[[3,2,4],[1,5,0]]))"
   ]
  },
  {
   "cell_type": "markdown",
   "metadata": {},
   "source": [
    "#### Follow up 2: Output: procedure\n"
   ]
  },
  {
   "cell_type": "code",
   "execution_count": 13,
   "metadata": {
    "collapsed": true
   },
   "outputs": [],
   "source": [
    "class Solution(object):\n",
    "    def slidingPuzzle(self, board):\n",
    "        \"\"\"\n",
    "        :type board: List[List[int]]\n",
    "        :rtype: int\n",
    "        \"\"\"\n",
    "        # results = []\n",
    "        count = 0\n",
    "        \n",
    "        frontier = []\n",
    "        came_from = {}\n",
    "        \n",
    "        row = len(board)\n",
    "        col = len(board[0])\n",
    "        \n",
    "        # set up the target\n",
    "        # in python, list is not hashtable\n",
    "        # hence we use a string\n",
    "        target_board = [str(i) for i in range(1, row * col + 1)]\n",
    "        target_board[-1] = str(0)\n",
    "        target = \"\".join(target_board)\n",
    "        \n",
    "        # set up the start string\n",
    "        start = self.board2str(board)\n",
    "        \n",
    "        # seek the starting point: the location of 0  \n",
    "        for i in range(row):\n",
    "            for j in range(col):\n",
    "                if board[i][j] == 0:\n",
    "                    frontier.append((start, i, j))\n",
    "                    \n",
    "        came_from[start] = None        \n",
    "        \n",
    "        dx, dy = [-1, 0, 1, 0], [0, -1, 0, 1]\n",
    "        while frontier:\n",
    "            post = []\n",
    "            for grid, x, y in frontier:  # get the current state\n",
    "                if grid == target:\n",
    "                    # construct the path\n",
    "                    path = []\n",
    "                    current = target\n",
    "                    while current != start:\n",
    "                        path.append(current)\n",
    "                        current = came_from[current]\n",
    "                    path.append(start)\n",
    "                    path = path[:]\n",
    "                    #print(count, path)\n",
    "                    return count, path\n",
    "                \n",
    "                for d in range(4):\n",
    "                    nx, ny = x + dx[d], y + dy[d]\n",
    "                    if ((0 <= nx < row) and (0 <= ny < col)):\n",
    "                        # update the grid\n",
    "                        new_grid = list(grid)\n",
    "                        new_grid[x * col + y], new_grid[nx * col + ny] = new_grid[nx * col + ny], new_grid[x * col + y]\n",
    "                        new_grid = \"\".join(new_grid)\n",
    "                        if new_grid not in came_from:\n",
    "                            came_from[new_grid] = grid\n",
    "                            post.append((new_grid, nx, ny)) # add the next state\n",
    "\n",
    "            count += 1\n",
    "            frontier = post\n",
    "                \n",
    "        return -1, None\n",
    "    \n",
    "    def board2str(self, board):\n",
    "        arr = []\n",
    "        for i in range(len(board)):\n",
    "            for j in range(len(board[0])):\n",
    "                arr.append(str(board[i][j]))\n",
    "        \n",
    "        return \"\".join(arr)"
   ]
  },
  {
   "cell_type": "code",
   "execution_count": 14,
   "metadata": {},
   "outputs": [
    {
     "name": "stdout",
     "output_type": "stream",
     "text": [
      "(5, ['123450', '120453', '102453', '012453', '412053', '412503'])\n"
     ]
    }
   ],
   "source": [
    "soln = Solution()\n",
    "res = soln.slidingPuzzle(board=[[4,1,2],[5,0,3]])\n",
    "print(res)"
   ]
  },
  {
   "cell_type": "markdown",
   "metadata": {},
   "source": [
    "#### Follow up 3: Optimization by A\\*"
   ]
  },
  {
   "cell_type": "code",
   "execution_count": 40,
   "metadata": {
    "collapsed": true
   },
   "outputs": [],
   "source": [
    "import heapq\n",
    "\n",
    "class Solution(object):\n",
    "    def slidingPuzzle(self, board):\n",
    "        \"\"\"\n",
    "        :type board: List[List[int]]\n",
    "        :rtype: int\n",
    "        \"\"\"       \n",
    "        row = len(board)\n",
    "        col = len(board[0])\n",
    "        \n",
    "        frontier = []\n",
    "        # set up the start string\n",
    "        start = self.board2str(board)        \n",
    "        # seek the starting point: the location of 0  \n",
    "        for i in range(row):\n",
    "            for j in range(col):\n",
    "                if board[i][j] == 0:\n",
    "                    heapq.heappush(frontier, (0, 0 ,start, i, j)) # cost, count, node, x, y\n",
    "                                        \n",
    "        came_from = {}\n",
    "        came_from[start] = (None, float('inf'))\n",
    "        \n",
    "        cost_so_far = {}\n",
    "        cost_so_far[start] = 0\n",
    "\n",
    "        # set up the target\n",
    "        # in python, list is not hashtable\n",
    "        # hence we use a string\n",
    "        target_board = [str(i) for i in range(1, row * col + 1)]\n",
    "        target_board[-1] = str(0)\n",
    "        target = \"\".join(target_board)      \n",
    "    \n",
    "        dx, dy = [-1, 0, 1, 0], [0, -1, 0, 1]\n",
    "        while frontier:\n",
    "            curr_cost, curr_count, curr_grid, x, y = heapq.heappop(frontier)\n",
    "            if curr_grid == target:\n",
    "                # construct the path\n",
    "                path = []\n",
    "                current, priority = target, 0\n",
    "                while current != start:\n",
    "                    path.append((current, priority))\n",
    "                    current, priority = came_from[current]\n",
    "                path.append(start)\n",
    "                path = path[::-1]\n",
    "                #print(count, path)\n",
    "                return curr_count, path\n",
    "\n",
    "            for d in range(4):\n",
    "                nx, ny = x + dx[d], y + dy[d]\n",
    "                if ((0 <= nx < row) and (0 <= ny < col)):\n",
    "                    # update the grid\n",
    "                    next_grid = list(curr_grid)\n",
    "                    next_grid[x * col + y], next_grid[nx * col + ny] = next_grid[nx * col + ny], next_grid[x * col + y]\n",
    "                    next_grid = \"\".join(next_grid)\n",
    "                    \n",
    "                    next_cost = cost_so_far[curr_grid]\n",
    "                    if next_grid not in cost_so_far or next_cost < cost_so_far[next_grid]:\n",
    "                        priority = next_cost + self.get_cost(next_grid, target, col)\n",
    "                        cost_so_far[next_grid] = priority                        \n",
    "                        heapq.heappush(frontier, (priority, curr_count + 1, next_grid, nx, ny)) # add the next state\n",
    "                        #print(frontier)\n",
    "                        came_from[next_grid] = (curr_grid, priority)\n",
    "               \n",
    "        return -1, None\n",
    "    \n",
    "    def board2str(self, board):\n",
    "        arr = []\n",
    "        for i in range(len(board)):\n",
    "            for j in range(len(board[0])):\n",
    "                arr.append(str(board[i][j]))\n",
    "        \n",
    "        return \"\".join(arr)\n",
    "    \n",
    "    def get_cost(self, string, target, col):\n",
    "        total_cost = 0\n",
    "        \n",
    "        for curr_index, char in enumerate(string):\n",
    "            curr_row, curr_col = curr_index // col,  curr_index % col\n",
    "            target_index = target.index(char)\n",
    "            target_row, target_col = target_index // col,  target_index % col\n",
    "            cost = abs(target_row - curr_row) + abs(target_col - curr_col)\n",
    "            total_cost += cost\n",
    "            \n",
    "        return total_cost"
   ]
  },
  {
   "cell_type": "code",
   "execution_count": 41,
   "metadata": {},
   "outputs": [
    {
     "name": "stdout",
     "output_type": "stream",
     "text": [
      "(1, ['123405', ('123450', 0)])\n",
      "(-1, None)\n",
      "(5, ['412503', ('412053', 12), ('012453', 16), ('102453', 18), ('120453', 18), ('123450', 0)])\n",
      "(14, ['324150', ('324105', 18), ('304125', 26), ('340125', 34), ('345120', 44), ('345102', 54), ('305142', 64), ('035142', 72), ('135042', 78), ('135402', 82), ('135420', 86), ('130425', 90), ('103425', 92), ('123405', 92), ('123450', 0)])\n"
     ]
    }
   ],
   "source": [
    "soln = Solution()\n",
    "print(soln.slidingPuzzle( board=[[1,2,3],[4,0,5]]))\n",
    "print(soln.slidingPuzzle( board=[[1,2,3],[5,4,0]]))\n",
    "print(soln.slidingPuzzle( board=[[4,1,2],[5,0,3]]))\n",
    "print(soln.slidingPuzzle( board=[[3,2,4],[1,5,0]]))"
   ]
  },
  {
   "cell_type": "markdown",
   "metadata": {
    "collapsed": true
   },
   "source": [
    "#### Follow up: How to determine whether the solution exists\n",
    "\n",
    "可以在O((nm)^2)或是O(nm lg(nm))的时间根据奇偶性判断 [Source](https://www.cs.bham.ac.uk/~mdr/teaching/modules04/java2/TilesSolvability.html)"
   ]
  },
  {
   "cell_type": "markdown",
   "metadata": {},
   "source": []
  },
  {
   "cell_type": "code",
   "execution_count": null,
   "metadata": {
    "collapsed": true
   },
   "outputs": [],
   "source": []
  }
 ],
 "metadata": {
  "kernelspec": {
   "display_name": "Python 3",
   "language": "python",
   "name": "python3"
  },
  "language_info": {
   "codemirror_mode": {
    "name": "ipython",
    "version": 3
   },
   "file_extension": ".py",
   "mimetype": "text/x-python",
   "name": "python",
   "nbconvert_exporter": "python",
   "pygments_lexer": "ipython3",
   "version": "3.6.5"
  }
 },
 "nbformat": 4,
 "nbformat_minor": 2
}
