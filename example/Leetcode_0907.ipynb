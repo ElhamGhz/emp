{
 "cells": [
  {
   "cell_type": "markdown",
   "metadata": {},
   "source": [
    "#### [Leetcode 907 Medium] [Sum of Subarray Minimums](https://leetcode.com/problems/sum-of-subarray-minimums/)\n",
    "\n",
    "Given an array of integers A, find the sum of min(B), where B ranges over every (contiguous) subarray of A.\n",
    "\n",
    "Since the answer may be large, return the answer modulo 10^9 + 7.\n",
    "\n",
    "Example 1:\n",
    "```\n",
    "Input: [3,1,2,4]\n",
    "Output: 17\n",
    "Explanation: Subarrays are [3], [1], [2], [4], [3,1], [1,2], [2,4], [3,1,2], [1,2,4], [3,1,2,4]. \n",
    "Minimums are 3, 1, 2, 4, 1, 1, 2, 1, 1, 1.  Sum is 17.\n",
    "```\n",
    "Note:\n",
    "1. 1 <= A.length <= 30000\n",
    "2. 1 <= A[i] <= 30000"
   ]
  },
  {
   "cell_type": "markdown",
   "metadata": {},
   "source": [
    "<font color='blue'>Solution: </font>  Brute Force  \n",
    "\n",
    "1. order matters, unlike [花花酱 LeetCode 898. Bitwise ORs of Subarrays](https://zxi.mytechroad.com/blog/dynamic-programming/leetcode-898-bitwise-ors-of-subarrays/) we can not sort the numbers in this problem.\n",
    "  1. e.g. sumSubarrayMins([3, 1, 2, 4]) !=sumSubarrayMins([1, 2, 3, 4]) since the first one will not have a subarray of [3,4].\n",
    "2. For A[i], assuming there are L numbers that are greater than A[i] in range A[0] ~ A[i – 1], and there are R numbers that are greater or equal than A[i] in the range of A[i+1] ~ A[n – 1]. Thus A[i] will be the min of (L + 1) * (R + 1) subsequences.\n",
    "  2. e.g. A = [3,1,2,4], A[1] = 1, L = 1, R = 2, there are (1 + 1) * (2 + 1) = 6 subsequences are 1 is the min number. [3,1], [3,1,2], [3,1,2,4], [1], [1,2], [1,2,4]\n",
    "\n",
    "Complexity Analysis\n",
    "* Time complexity: O(n^2)\n",
    "* Space complexity: O(1)"
   ]
  },
  {
   "cell_type": "code",
   "execution_count": 4,
   "metadata": {
    "collapsed": true
   },
   "outputs": [],
   "source": [
    "class Solution(object):\n",
    "    def sumSubarrayMins(self, A):\n",
    "        \"\"\"\n",
    "        :type A: List[int]\n",
    "        :rtype: int\n",
    "        \"\"\"\n",
    "        if not A:\n",
    "            return 0\n",
    "        \n",
    "        kmod = 10 ** 9 + 7\n",
    "        n = len(A)\n",
    "        sums = 0\n",
    "        for i in range(n):\n",
    "            left, right = 1, 1\n",
    "            while i - left >= 0 and A[i - left] > A[i]:\n",
    "                left += 1\n",
    "            while i + right < n and A[i + right] < A[i]:\n",
    "                right += 1\n",
    "            sums += A[i] * left * right\n",
    "            \n",
    "        return sums % kmod"
   ]
  },
  {
   "cell_type": "code",
   "execution_count": 5,
   "metadata": {},
   "outputs": [
    {
     "name": "stdout",
     "output_type": "stream",
     "text": [
      "17\n"
     ]
    }
   ],
   "source": [
    "soln = Solution()\n",
    "print(soln.sumSubarrayMins(A=[3,1,2,4]))"
   ]
  },
  {
   "cell_type": "markdown",
   "metadata": {},
   "source": [
    "<font color='blue'>Solution: </font>  Monotonic Stack  \n",
    "\n",
    "* Time complexity: O(n)\n",
    "* Space complexity: O(n)\n",
    "\n",
    "We can use a monotonic stack to compute left[i] and right[i] similar to [花花酱 LeetCode 901. Online Stock Span](https://zxi.mytechroad.com/blog/stack/leetcode-901-online-stock-span/)"
   ]
  },
  {
   "cell_type": "code",
   "execution_count": 14,
   "metadata": {},
   "outputs": [],
   "source": [
    "class Solution(object):\n",
    "    def sumSubarrayMins(self, A):\n",
    "        \"\"\"\n",
    "        :type A: List[int]\n",
    "        :rtype: int\n",
    "        \"\"\"\n",
    "        if not A:\n",
    "            return 0\n",
    "        \n",
    "        kmod = 10 ** 9 + 7\n",
    "        n = len(A)\n",
    "        \n",
    "        stack = []\n",
    "        left = [1 for _ in range(n)]\n",
    "        for i in range(n):\n",
    "            while stack and stack[-1][0] > A[i]:\n",
    "                left[i] += stack.pop()[1]\n",
    "            stack.append((A[i], left[i]))\n",
    "        \n",
    "        stack = []\n",
    "        right = [1 for _ in range(n)]\n",
    "        for i in range(n-1, -1, -1):\n",
    "            while stack and stack[-1][0] > A[i]:\n",
    "                right[i] += stack.pop()[1]\n",
    "            stack.append((A[i], right[i]))\n",
    "        \n",
    "        sums = sum((left[i] * right[i]) * A[i] for i in range(n))\n",
    "        sums = sums % kmod\n",
    "        #print(left, right, A)\n",
    "        return sums"
   ]
  },
  {
   "cell_type": "code",
   "execution_count": 13,
   "metadata": {},
   "outputs": [
    {
     "name": "stdout",
     "output_type": "stream",
     "text": [
      "[1, 2, 1, 1] [1, 3, 2, 1] [3, 1, 2, 4]\n",
      "17\n"
     ]
    }
   ],
   "source": [
    "soln = Solution()\n",
    "\n",
    "print(soln.sumSubarrayMins(A=[3,1,2,4]))"
   ]
  },
  {
   "cell_type": "code",
   "execution_count": null,
   "metadata": {},
   "outputs": [],
   "source": []
  }
 ],
 "metadata": {
  "kernelspec": {
   "display_name": "Python 3",
   "language": "python",
   "name": "python3"
  },
  "language_info": {
   "codemirror_mode": {
    "name": "ipython",
    "version": 3
   },
   "file_extension": ".py",
   "mimetype": "text/x-python",
   "name": "python",
   "nbconvert_exporter": "python",
   "pygments_lexer": "ipython3",
   "version": "3.6.1"
  }
 },
 "nbformat": 4,
 "nbformat_minor": 2
}
