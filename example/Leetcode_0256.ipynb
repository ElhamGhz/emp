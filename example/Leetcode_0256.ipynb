{
 "cells": [
  {
   "cell_type": "markdown",
   "metadata": {},
   "source": [
    "#### [Leetcode 256 East] [Paint House I](https://leetcode.com/problems/paint-house/)\n",
    "\n",
    "There are a row of n houses, each house can be painted with one of the three colors: red, blue or green. The cost of painting each house with a certain color is different. You have to paint all the houses such that no two adjacent houses have the same color.\n",
    "\n",
    "The cost of painting each house with a certain color is represented by a n x 3 cost matrix. For example, costs[0][0] is the cost of painting house 0 with color red; costs[1][2] is the cost of painting house 1 with color green, and so on... Find the minimum cost to paint all houses.\n",
    "\n",
    "Note:\n",
    "All costs are positive integers.\n",
    "\n",
    "Example:\n",
    "```\n",
    "Input: [[17,2,17],[16,16,5],[14,3,19]]\n",
    "Output: 10\n",
    "Explanation: Paint house 0 into blue, paint house 1 into green, paint house 2 into blue. \n",
    "             Minimum cost: 2 + 5 + 3 = 10.\n",
    "```"
   ]
  },
  {
   "cell_type": "markdown",
   "metadata": {},
   "source": [
    "<font color='blue'>Solution: </font> Dynamic Programming  \n",
    "\n",
    "这道题说有n个房子，每个房子可以用红绿蓝三种颜色刷，每个房子的用每种颜色刷的花费都不同，限制条件是相邻的房子不能用相同的颜色来刷，现在让我们求刷完所有的房子的最低花费是多少。这题跟House Robber II和House Robber很类似，不过那题不是每个房子都抢，相邻的房子不抢，而这道题是每个房子都刷，相邻的房子不能刷同一种颜色。而Paint Fence那道题主要考察我们有多少种刷法，这几道题很类似，但都不一样，需要我们分别区分。但是它们的解题思想都一样，需要用动态规划Dynamic Programming来做，这道题我们需要维护一个二维的动态数组dp，其中dp[i][j]表示刷到第i+1房子用颜色j的最小花费，递推式为:\n",
    "\n",
    "dp[i][j] = dp[i][j] + min(dp[i - 1][(j + 1) % 3], dp[i - 1][(j + 2) % 3])；\n",
    "\n",
    "这个也比较好理解，如果当前的房子要用红色刷，那么上一个房子只能用绿色或蓝色来刷，那么我们要求刷到当前房子，且当前房子用红色刷的最小花费就等于当前房子用红色刷的钱加上刷到上一个房子用绿色和刷到上一个房子用蓝色的较小值，这样当我们算到最后一个房子时，我们只要取出三个累计花费的最小值即可"
   ]
  },
  {
   "cell_type": "code",
   "execution_count": 3,
   "metadata": {},
   "outputs": [],
   "source": [
    "class Solution(object):\n",
    "    def minCost(self, costs):\n",
    "        \"\"\"\n",
    "        :type costs: List[List[int]]\n",
    "        :rtype: int\n",
    "        \"\"\"\n",
    "        # Edge case\n",
    "        if not costs or not costs[0]:\n",
    "            return 0\n",
    "        \n",
    "        # initialization\n",
    "        dp = costs[:]\n",
    "        \n",
    "        n = len(costs)  # number of houses\n",
    "        m = len(costs[0])  # number of paints\n",
    "        \n",
    "        for i in range(1, n):\n",
    "            for j in range(0, m):\n",
    "                min_val = float('inf')\n",
    "                for k in range(1, m):\n",
    "                    if min_val > dp[i - 1][(j + k) % 3]:\n",
    "                        min_val = dp[i - 1][(j + k) % 3]\n",
    "                dp[i][j] += min_val\n",
    "                \n",
    "        result = float('inf')\n",
    "        for j in range(0, m):\n",
    "            if result > dp[-1][j]:\n",
    "                result = dp[-1][j]\n",
    "                \n",
    "        return result"
   ]
  },
  {
   "cell_type": "code",
   "execution_count": 5,
   "metadata": {},
   "outputs": [
    {
     "name": "stdout",
     "output_type": "stream",
     "text": [
      "10\n"
     ]
    }
   ],
   "source": [
    "soln = Solution()\n",
    "print(soln.minCost(costs=[[17,2,17],[16,16,5],[14,3,19]]))"
   ]
  },
  {
   "cell_type": "code",
   "execution_count": null,
   "metadata": {},
   "outputs": [],
   "source": []
  }
 ],
 "metadata": {
  "kernelspec": {
   "display_name": "Python 3",
   "language": "python",
   "name": "python3"
  },
  "language_info": {
   "codemirror_mode": {
    "name": "ipython",
    "version": 3
   },
   "file_extension": ".py",
   "mimetype": "text/x-python",
   "name": "python",
   "nbconvert_exporter": "python",
   "pygments_lexer": "ipython3",
   "version": "3.6.5"
  }
 },
 "nbformat": 4,
 "nbformat_minor": 2
}
