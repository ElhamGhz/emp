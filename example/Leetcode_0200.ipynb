{
 "cells": [
  {
   "cell_type": "markdown",
   "metadata": {},
   "source": [
    "#### [Leetcode 200 Medium] [Number of Islands](https://leetcode.com/problems/number-of-islands/)\n",
    "\n",
    "Given a 2d grid map of '1's (land) and '0's (water), count the number of islands. An island is surrounded by water and is formed by connecting adjacent lands horizontally or vertically. You may assume all four edges of the grid are all surrounded by water.\n",
    "\n",
    "Example 1:\n",
    "```\n",
    "Input:\n",
    "11110\n",
    "11010\n",
    "11000\n",
    "00000\n",
    "\n",
    "Output: 1\n",
    "```\n",
    "\n",
    "Example 2:\n",
    "```\n",
    "Input:\n",
    "11000\n",
    "11000\n",
    "00100\n",
    "00011\n",
    "\n",
    "Output: 3\n",
    "```"
   ]
  },
  {
   "cell_type": "markdown",
   "metadata": {},
   "source": [
    "BFS"
   ]
  },
  {
   "cell_type": "code",
   "execution_count": 10,
   "metadata": {},
   "outputs": [
    {
     "name": "stdout",
     "output_type": "stream",
     "text": [
      "1\n",
      "3\n"
     ]
    }
   ],
   "source": [
    "class Solution(object):\n",
    "    def numIslands(self, grid):\n",
    "        \"\"\"\n",
    "        :type grid: List[List[str]]\n",
    "        :rtype: int\n",
    "        \"\"\"\n",
    "        if not grid:\n",
    "            return 0\n",
    "        \n",
    "        count = 0\n",
    "        for row in range(len(grid)):\n",
    "            for col in range(len(grid[0])):\n",
    "                if grid[row][col] == '1':\n",
    "                    count += 1\n",
    "                    grid[row][col] = '0'\n",
    "                    self.bfs(grid, row ,col)\n",
    "                    \n",
    "        return count\n",
    "    \n",
    "    def bfs(self, grid, row, col):\n",
    "        frontier = [(row, col)]\n",
    "        \n",
    "        dx, dy = [-1, 0, 1, 0], [0, -1, 0, 1]\n",
    "        \n",
    "        while frontier:\n",
    "            post = []\n",
    "            for x, y in frontier:\n",
    "                for d in range(4):\n",
    "                    nx, ny = x + dx[d], y + dy[d]\n",
    "                    if ((0 <= nx < len(grid)) and \n",
    "                        (0 <= ny < len(grid[0])) and \n",
    "                        grid[nx][ny] == '1'):\n",
    "                        grid[nx][ny] = '0'\n",
    "                        post.append((nx, ny))\n",
    "            \n",
    "            frontier = post\n",
    "            \n",
    "if __name__ == '__main__':\n",
    "    soln = Solution()\n",
    "    \n",
    "    grid = [[\"1\",\"1\",\"1\",\"1\",\"0\"],[\"1\",\"1\",\"0\",\"1\",\"0\"],[\"1\",\"1\",\"0\",\"0\",\"0\"],[\"0\",\"0\",\"0\",\"0\",\"0\"]]\n",
    "    print(soln.numIslands(grid))\n",
    "    \n",
    "    grid = [[\"1\",\"1\",\"0\",\"0\",\"0\"],[\"1\",\"1\",\"0\",\"0\",\"0\"],[\"0\",\"0\",\"1\",\"0\",\"0\"],[\"0\",\"0\",\"0\",\"1\",\"1\"]]\n",
    "    print(soln.numIslands(grid))"
   ]
  },
  {
   "cell_type": "markdown",
   "metadata": {},
   "source": [
    "DFS"
   ]
  },
  {
   "cell_type": "code",
   "execution_count": 11,
   "metadata": {},
   "outputs": [
    {
     "name": "stdout",
     "output_type": "stream",
     "text": [
      "1\n",
      "3\n"
     ]
    }
   ],
   "source": [
    "class Solution(object):\n",
    "    def numIslands(self, grid):\n",
    "        \"\"\"\n",
    "        :type grid: List[List[str]]\n",
    "        :rtype: int\n",
    "        \"\"\"\n",
    "        if not grid:\n",
    "            return 0\n",
    "        \n",
    "        count = 0\n",
    "        for row in range(len(grid)):\n",
    "            for col in range(len(grid[0])):\n",
    "                if grid[row][col] == '1':\n",
    "                    count += 1\n",
    "                    grid[row][col] = '0'\n",
    "                    self.dfs(grid, row ,col)\n",
    "                    \n",
    "        return count\n",
    "    \n",
    "    def dfs(self, grid, x, y):\n",
    "        # base case\n",
    "        if x == len(grid) or y == len(grid[0]):\n",
    "            return\n",
    "        \n",
    "        # recursion part\n",
    "        dx, dy = [-1, 0, 1, 0], [0, -1, 0, 1]\n",
    "        \n",
    "\n",
    "        for d in range(4):\n",
    "            nx, ny = x + dx[d], y + dy[d]\n",
    "            if ((0 <= nx < len(grid)) and \n",
    "                (0 <= ny < len(grid[0])) and \n",
    "                grid[nx][ny] == '1'):\n",
    "                grid[nx][ny] = '0'\n",
    "                self.dfs(grid, nx, ny)\n",
    "            \n",
    "\n",
    "            \n",
    "if __name__ == '__main__':\n",
    "    soln = Solution()\n",
    "    \n",
    "    grid = [[\"1\",\"1\",\"1\",\"1\",\"0\"],[\"1\",\"1\",\"0\",\"1\",\"0\"],[\"1\",\"1\",\"0\",\"0\",\"0\"],[\"0\",\"0\",\"0\",\"0\",\"0\"]]\n",
    "    print(soln.numIslands(grid))\n",
    "    \n",
    "    grid = [[\"1\",\"1\",\"0\",\"0\",\"0\"],[\"1\",\"1\",\"0\",\"0\",\"0\"],[\"0\",\"0\",\"1\",\"0\",\"0\"],[\"0\",\"0\",\"0\",\"1\",\"1\"]]\n",
    "    print(soln.numIslands(grid))"
   ]
  },
  {
   "cell_type": "code",
   "execution_count": null,
   "metadata": {},
   "outputs": [],
   "source": []
  }
 ],
 "metadata": {
  "kernelspec": {
   "display_name": "Python 3",
   "language": "python",
   "name": "python3"
  },
  "language_info": {
   "codemirror_mode": {
    "name": "ipython",
    "version": 3
   },
   "file_extension": ".py",
   "mimetype": "text/x-python",
   "name": "python",
   "nbconvert_exporter": "python",
   "pygments_lexer": "ipython3",
   "version": "3.6.5"
  }
 },
 "nbformat": 4,
 "nbformat_minor": 2
}
