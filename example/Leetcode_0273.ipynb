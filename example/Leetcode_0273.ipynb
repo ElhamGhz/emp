{
 "cells": [
  {
   "cell_type": "markdown",
   "metadata": {},
   "source": [
    "#### [Leetcode 273 Hard] [Integer to English Words](Leetcode_0273.ipynb)\n",
    "\n",
    "Convert a non-negative integer to its english words representation. Given input is guaranteed to be less than $2^{31} - 1$.\n",
    "\n",
    "Example 1:\n",
    "```\n",
    "Input: 123\n",
    "Output: \"One Hundred Twenty Three\"\n",
    "```\n",
    "\n",
    "Example 2:\n",
    "```\n",
    "Input: 12345\n",
    "Output: \"Twelve Thousand Three Hundred Forty Five\"\n",
    "```\n",
    "\n",
    "Example 3:\n",
    "```\n",
    "Input: 1234567\n",
    "Output: \"One Million Two Hundred Thirty Four Thousand Five Hundred Sixty Seven\"\n",
    "```\n",
    "\n",
    "Example 4:\n",
    "```\n",
    "Input: 1234567891\n",
    "Output: \"One Billion Two Hundred Thirty Four Million Five Hundred Sixty Seven Thousand Eight Hundred Ninety One\"\n",
    "```"
   ]
  },
  {
   "cell_type": "markdown",
   "metadata": {},
   "source": [
    "Hints:\n",
    "1. Did you see a pattern in dividing the number into chunk of words? For example, 123 and 123000.\n",
    "2. Group the number by thousands (3 digits). You can write a helper function that takes a number less than 1000 and convert just that chunk to words.\n",
    "3. There are many edge cases. What are some good test cases? Does your code work with input such as 0? Or 1000010? (middle chunk is zero and should not be printed out)"
   ]
  },
  {
   "cell_type": "markdown",
   "metadata": {},
   "source": [
    "<font color='blue'>Solution: </font>\n",
    "\n",
    "这道题让我们把一个整型数转为用英文单词描述，就像在check上写钱数的方法，我最开始的方法特别复杂，因为我用了几个switch语句来列出所有的单词，但是我看网上大神们的解法都是用数组来枚举的，特别的巧妙而且省地方，膜拜学习中。题目中给足了提示，首先告诉我们要3个一组的进行处理，而且题目中限定了输入数字范围为0到231 - 1之间，最高只能到billion位，3个一组也只需处理四组即可，那么我们需要些一个处理三个一组数字的函数，我们需要把1到19的英文单词都列出来，放到一个数组里，还要把20,30，... 到90的英文单词列出来放到另一个数组里，然后我们需要用写技巧，比如一个三位数n，百位数表示为n/100，后两位数一起表示为n%100，十位数表示为n%100/10，个位数表示为n%10，然后我们看后两位数是否小于20，小于的话直接从数组中取出单词，如果大于等于20的话，则分别将十位和个位数字的单词从两个数组中取出来。然后再来处理百位上的数字，还要记得加上Hundred。主函数中调用四次这个帮助函数，然后中间要插入\"Thousand\", \"Million\", \"Billion\"到对应的位置，最后check一下末尾是否有空格，把空格都删掉，返回的时候检查下输入是否为0，是的话要返回'Zero'。\n",
    "\n",
    "* Time Complexity: O(n)\n",
    "* Space Complexity: O(n)"
   ]
  },
  {
   "cell_type": "code",
   "execution_count": 11,
   "metadata": {},
   "outputs": [
    {
     "name": "stdout",
     "output_type": "stream",
     "text": [
      "One Hundred Twenty Three\n",
      "Twelve Thousand Three Hundred Forty Five\n",
      "One Million Two Hundred Thirty Four Thousand Five Hundred Sixty Seven\n",
      "One Billion Two Hundred Thirty Four Million Five Hundred Sixty Seven Thousand Eight Hundred Ninety One\n"
     ]
    }
   ],
   "source": [
    "class Solution(object):\n",
    "    def numberToWords(self, num):\n",
    "        \"\"\"\n",
    "        :type num: int\n",
    "        :rtype: str\n",
    "        \"\"\"\n",
    "        label = {1: 'Thousand', \n",
    "                 2: 'Million',\n",
    "                 3: 'Billion'}\n",
    "        \n",
    "        if num == 0:\n",
    "            return 'Zero'\n",
    "        \n",
    "        result = self.helper(num % 1000)\n",
    "        num = num // 1000\n",
    "        \n",
    "        count = 0\n",
    "        while num:\n",
    "            count += 1\n",
    "            #print(count)\n",
    "            if num % 1000:\n",
    "                header = self.helper(num % 1000) + ' ' + label[count]\n",
    "                if result:\n",
    "                    result = header + ' ' + result\n",
    "                else:\n",
    "                    result = header\n",
    "            num = num // 1000\n",
    "            \n",
    "        return result\n",
    "        \n",
    "    def helper(self, chunk):\n",
    "        if chunk == 0:\n",
    "            return ''\n",
    "        \n",
    "        checkup_1 = [\"\", \"One\", \"Two\", \"Three\", \"Four\", \"Five\", \n",
    "                      \"Six\", \"Seven\", \"Eight\", \"Nine\", \"Ten\", \n",
    "                      \"Eleven\", \"Twelve\", \"Thirteen\", \"Fourteen\", \"Fifteen\", \n",
    "                      \"Sixteen\", \"Seventeen\", \"Eighteen\", \"Nineteen\"]\n",
    "        \n",
    "        checkup_2 = [\"\", \"\", \"Twenty\", \"Thirty\", \"Forty\", \"Fifty\", \n",
    "                     \"Sixty\", \"Seventy\", \"Eighty\", \"Ninety\"]\n",
    "                \n",
    "        hundreds = chunk // 100\n",
    "        tens = chunk % 100\n",
    "        units = chunk % 10\n",
    "        \n",
    "        result = ''\n",
    "        if hundreds:\n",
    "            result += checkup_1[hundreds] + ' '+ 'Hundred'\n",
    "        if tens >= 20:\n",
    "            if result:\n",
    "                result += ' '\n",
    "            result += checkup_2[tens // 10]\n",
    "            if units:\n",
    "                result += ' ' + checkup_1[units]\n",
    "        elif tens:\n",
    "            if result:\n",
    "                result += ' '\n",
    "            result += checkup_1[tens]\n",
    "            \n",
    "        return result            \n",
    "        \n",
    "        \n",
    "        \n",
    "if __name__ == \"__main__\":\n",
    "    soln = Solution()\n",
    "    \n",
    "    print(soln.numberToWords(num=123))\n",
    "    print(soln.numberToWords(num=12345))\n",
    "    print(soln.numberToWords(num=1234567))\n",
    "    print(soln.numberToWords(num=1234567891))"
   ]
  },
  {
   "cell_type": "code",
   "execution_count": null,
   "metadata": {},
   "outputs": [],
   "source": []
  },
  {
   "cell_type": "code",
   "execution_count": null,
   "metadata": {},
   "outputs": [],
   "source": []
  },
  {
   "cell_type": "code",
   "execution_count": null,
   "metadata": {},
   "outputs": [],
   "source": []
  }
 ],
 "metadata": {
  "kernelspec": {
   "display_name": "Python 3",
   "language": "python",
   "name": "python3"
  },
  "language_info": {
   "codemirror_mode": {
    "name": "ipython",
    "version": 3
   },
   "file_extension": ".py",
   "mimetype": "text/x-python",
   "name": "python",
   "nbconvert_exporter": "python",
   "pygments_lexer": "ipython3",
   "version": "3.6.5"
  }
 },
 "nbformat": 4,
 "nbformat_minor": 2
}
