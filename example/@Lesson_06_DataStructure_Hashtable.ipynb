{
 "cells": [
  {
   "cell_type": "markdown",
   "metadata": {},
   "source": [
    "# Lesson 6: DATA STRUCTURE -- Hashtable\n",
    "---\n",
    "In this lesson, we will cover the following parts:\n",
    "* 6.1: Lecture Note\n",
    "* 6.2: Leetcode Training (Basic)\n",
    "* 6.3: Leetcode Practice (Advanced)\n",
    "\n",
    "(空间换时间)\n",
    "Both BA/DS: this is a basic data structure commonly used in various applications. In many interview questions, if looking up a certain element in a collection is frequently used, you should consider using hashtable\n",
    "\n",
    "hash_table (general term)\n",
    "* one to one mapping\n",
    "* hash_table is a <key, value> pair, key map to value\n",
    "* does NOT allow duplicate key\n",
    "* allow duplicate value\n",
    "* hash_set is a set {1, 3}, it only contains keys\n",
    "\n",
    "In Python, we can use set and dictionary to represent hash_set and hash_table."
   ]
  },
  {
   "cell_type": "markdown",
   "metadata": {},
   "source": [
    "## 6.1 Lecture Note -- Dictionary and Set\n",
    "\n",
    "### 6.1.1 Dictionary\n",
    "![Dictionary](source/lesson8_hashtable_dictionary.png)\n",
    "\n",
    "A data structure stores pairs of data:\n",
    "* key\n",
    "* value\n",
    "```python\n",
    "my_dict = {}\n",
    "grades = {'Ana':'B', 'John':'A+', 'Denise':'A', 'Katy':'A'}\n",
    "```\n",
    "\n",
    "Similar to indexing into a list  \n",
    "looks up the key  \n",
    "Returns the value associated with the key  \n",
    "if key isn't found, get an error\n",
    "```python\n",
    "grades = {'Ana':'B', 'John':'A+', 'Denise':'A', 'Katy':'A'}\n",
    "grades['John']  # evaluates to 'A+'\n",
    "grades['Sylvan'] # gives a KeyError (Python raises a KeyError whenver a dict() object is requrested (using the format a = adict[key]) and the key is not in the dictionary).\n",
    "```"
   ]
  },
  {
   "cell_type": "markdown",
   "metadata": {},
   "source": [
    "#### <font color='red'>How to realize a hashtable 哈希表 in the low level?</font>\n",
    "\n",
    "取决于处理 Hash Collision 的方式：\n",
    "1. Open Hashing（动态分配空间给哈希表，当别人占了我的坑，我就用链表的方式一起共用一个坑）：数组 + 链表\n",
    "2. Closed Hashing (已经分配了一片固定大小的内存空间来存储这个哈希表，当别人占了你的坑的时候，你就去占别人的坑)：数组 + linear / quadratic probing\n",
    "\n",
    "Hash Function：\n",
    "* 使命：对于任意的 key 得到一个固定且无规律的介于 0~capacity-1 的整数\n",
    "\n",
    "Rehashing: 当当前所分配的空间被使用了比如 1/10 的时候，就需要再分配一片更大的空间（比如2倍于之前的空间大小）\n"
   ]
  },
  {
   "cell_type": "markdown",
   "metadata": {},
   "source": [
    "#### Operations:\n",
    "* Add an entry\n",
    "```python\n",
    "grades['Sylvan'] = 'A'\n",
    "```\n",
    "* Check if key in dictionary\n",
    "```python\n",
    "'John' in grades  # return True\n",
    "'Daniel' in grades  # return False\n",
    "```\n",
    "* Delete entry\n",
    "```python\n",
    "del grades['Ana']\n",
    "```\n",
    "* Get all keys as a list\n",
    "```python\n",
    "grades.keys()  # return ['Denise', 'Katy', 'John', 'Ana']\n",
    "```\n",
    "* Get all values as a list\n",
    "```python\n",
    "grades.values  # returns ['A', 'A', 'A+', 'B']\n",
    "```\n",
    "\n",
    "Dictionary\n",
    "* values\n",
    "  * any type (immutable and mutable)\n",
    "  * can be duplicates\n",
    "  * dictionary value can be a list or another dictionary\n",
    "* keys\n",
    "  * must be unique\n",
    "  * ummutable type\n",
    "* No order to keys or values!\n",
    "![listvsdict](source/lesson8_hashtable_dictionary2.png)"
   ]
  },
  {
   "cell_type": "markdown",
   "metadata": {},
   "source": [
    "#### Dictionary Comprehension\n",
    "Simiar to list comprehension:  \n",
    "```python\n",
    "[val for val in collection if condition]\n",
    "```\n",
    "change [] to {}\n",
    "```python\n",
    "{key_expr: value_expr for value in collection if condition}\n",
    "```"
   ]
  },
  {
   "cell_type": "markdown",
   "metadata": {},
   "source": [
    "#### Question 1: Count word occurrences"
   ]
  },
  {
   "cell_type": "code",
   "execution_count": 1,
   "metadata": {},
   "outputs": [
    {
     "name": "stdout",
     "output_type": "stream",
     "text": [
      "{'how': 2, 'hi': 3, 'me': 1, 'you': 3}\n"
     ]
    }
   ],
   "source": [
    "class Solution(object):\n",
    "    def count_words_freqs(self, words):\n",
    "        if not words:\n",
    "            return {}\n",
    "        \n",
    "        my_dict = {}\n",
    "        \n",
    "        for word in words:\n",
    "            my_dict[word] = my_dict.get(word, 0) + 1\n",
    "            \n",
    "        return my_dict\n",
    "\n",
    "# Time Complexity: O(n)\n",
    "# Space Complexity: O(1)\n",
    "\n",
    "if __name__ == \"__main__\":\n",
    "    soln = Solution()\n",
    "    freqs = soln.count_words_freqs(words=['how', 'hi', 'me', 'hi', 'how', 'hi', 'you', 'you', 'you'])\n",
    "    print(freqs)"
   ]
  },
  {
   "cell_type": "markdown",
   "metadata": {},
   "source": [
    "#### Question 2: Most Common Word\n",
    "Input: word --> count dictionary"
   ]
  },
  {
   "cell_type": "code",
   "execution_count": 2,
   "metadata": {},
   "outputs": [
    {
     "name": "stdout",
     "output_type": "stream",
     "text": [
      "(['hi', 'you'], 3)\n"
     ]
    }
   ],
   "source": [
    "class Solution(object):\n",
    "    def get_most_common_words(self, freqs):\n",
    "        if not freqs:\n",
    "            return ()\n",
    "        \n",
    "        values = freqs.values()\n",
    "        best = max(values)\n",
    "        most_common_words = [\n",
    "            key\n",
    "            for key, val in freqs.items()\n",
    "            if val == best\n",
    "        ]\n",
    "        \n",
    "        return (most_common_words, best)\n",
    "    \n",
    "# Time Complexity: O(n)\n",
    "# Space Complexity: O(n), since the set values occupies additional memeory\n",
    "\n",
    "if __name__ == \"__main__\":\n",
    "    soln = Solution()\n",
    "    most_common_words = soln.get_most_common_words(freqs)\n",
    "    print(most_common_words)"
   ]
  },
  {
   "cell_type": "markdown",
   "metadata": {},
   "source": [
    "#### Question 3: 合并大小写的频次"
   ]
  },
  {
   "cell_type": "code",
   "execution_count": 3,
   "metadata": {},
   "outputs": [
    {
     "name": "stdout",
     "output_type": "stream",
     "text": [
      "{'a': 17, 'b': 34, 'z': 3}\n"
     ]
    }
   ],
   "source": [
    "class Solution(object):\n",
    "    def merge_upper_lower(self, dic):\n",
    "        if not dic:\n",
    "            return {}\n",
    "        \n",
    "        my_dict = {}\n",
    "        \n",
    "        for key, val in dic.items():\n",
    "            my_dict[key.lower()] = dic.get(key.lower(), 0) + dic.get(key.upper(), 0)\n",
    "            \n",
    "        return my_dict\n",
    "    \n",
    "    def merge_upper_lower(self, dic):\n",
    "        if not dic:\n",
    "            return {}\n",
    "        \n",
    "        my_dict = {\n",
    "            key.lower(): dic.get(key.lower(), 0) + dic.get(key.upper(), 0)\n",
    "            for key in dic\n",
    "        }\n",
    "            \n",
    "        return my_dict\n",
    "    \n",
    "if __name__ == \"__main__\":\n",
    "    soln = Solution()\n",
    "print(soln.merge_upper_lower(dic={'a': 10, 'b':34, 'A':7, 'Z':3}))"
   ]
  },
  {
   "cell_type": "markdown",
   "metadata": {},
   "source": [
    "#### Question 4: Exchange keys and values (no duplicate in values)\n",
    "\n",
    "```\n",
    "Input: {'a':10, 'b':34}\n",
    "Output: {10: 'a', 34: 'b'}\n",
    "```"
   ]
  },
  {
   "cell_type": "code",
   "execution_count": 5,
   "metadata": {},
   "outputs": [
    {
     "name": "stdout",
     "output_type": "stream",
     "text": [
      "{10: 'a', 34: 'b'}\n"
     ]
    }
   ],
   "source": [
    "class Solution(object):\n",
    "    def swap_key_val(self, dic):\n",
    "        if not dic:\n",
    "            return {}\n",
    "        \n",
    "        my_dic = {\n",
    "            val: key\n",
    "            for key, val in dic.items()\n",
    "        }\n",
    "        \n",
    "        return my_dic\n",
    "    \n",
    "if __name__ == \"__main__\":\n",
    "    soln = Solution()\n",
    "    print(soln.swap_key_val(dic={'a':10, 'b':34}))"
   ]
  },
  {
   "cell_type": "markdown",
   "metadata": {},
   "source": [
    "### 6.1.2 Set\n",
    "\n",
    "Sets are mutable unordered collections of unique elements.  \n",
    "Sets do not record element position or order of insertion. Accordingly, sets do not support indexing, slicing, or other sequence-like behavior.  \n",
    "Sets are implemented using dictionaries. They cannot contain mutable elements such as lists or dictionaries. However, they can contain immutable collections.\n",
    "[Set Reference](https://python-reference.readthedocs.io/en/latest/sets)"
   ]
  },
  {
   "cell_type": "markdown",
   "metadata": {},
   "source": [
    "#### Set Operations\n",
    "* Add one element\n",
    "```python\n",
    "x = {'a', 'b', 'c', 'd'}\n",
    "x.add('e')\n",
    "```\n",
    "* Add multiple elements\n",
    "```python\n",
    "x = {'a', 'b', 'c', 'd'}\n",
    "x.update({'e', 'f'})\n",
    "```\n",
    "* Delete an element from the set. If the element doesn't exist, raise a KeyError\n",
    "```python\n",
    "x = {'a', 'b', 'c', 'd'}\n",
    "x.remove('a')\n",
    "```\n",
    "* Delete an element from the set.\n",
    "```python\n",
    "x = {'a', 'b', 'c', 'd'}\n",
    "x.discard('a')\n",
    "```\n",
    "* Delete one random element from the set. If the set is empty, raise a KeyError\n",
    "```python\n",
    "x = {'a', 'b', 'c', 'd'}\n",
    "x.pop()\n",
    "```\n",
    "* Clear elements from set\n",
    "```python\n",
    "x = {'a', 'b', 'c', 'd'}\n",
    "x.clear()\n",
    "```\n",
    "* Union two sets\n",
    "```python\n",
    "x = set(['a', 'b', 'c', 'd'])\n",
    "y = set(['e', 'f'])\n",
    "x.union(y)\n",
    "```\n",
    "* Difference between two sets. To find the difference between two sets, use set1.difference(set2). Be aware that x.difference(y) is different from y.difference(x).\n",
    "```python\n",
    "x = set(['Postcard', 'Radio', 'Telegram'])\n",
    "y = set(['Radio', 'Television'])\n",
    "x.difference(y)  # {'Postcard', 'Telegram'}\n",
    "y.difference(x)  # {'Television'}\n",
    "```\n",
    "* Subset. To test if a set is a subset, use:\n",
    "```python\n",
    "x = set(['a', 'b', 'c', 'd'])\n",
    "y = set(['c', 'd'])\n",
    "x.issubset(y)  # False\n",
    "y.issubset(x)  # True\n",
    "```\n",
    "* Super-set. To test if a set is a super-set, use:\n",
    "```python\n",
    "x = set(['a', 'b', 'c', 'd'])\n",
    "y = set(['c', 'd'])\n",
    "x.issuperset(y)  # True\n",
    "y.issuperset(x)  # False\n",
    "```\n",
    "* Intersection. To test for intersection, use:\n",
    "```python\n",
    "x = set(['a', 'b', 'c', 'd'])\n",
    "y = set(['c', 'd'])\n",
    "x.intersection(y)  # {'c', 'd'}\n",
    "y.intersection(x)  # {'c', 'd'}\n",
    "```\n",
    "\n",
    "**Operators for sets**  \n",
    "Sets and common sets supports the following operators:\n",
    "* key in set1      # containment check\n",
    "* key not in set1  # non-containment check\n",
    "* set1 == set2     # set1 is equivalent to set2\n",
    "* set1 != set2     # set1 is not equivalent to set2\n",
    "* set1 <= set2     # set1 is subset of set2\n",
    "* set1 < set2      # set1 is proper subset of set2\n",
    "* set1 >= set2     # set1 is superset of set2\n",
    "* set1 > set2      # set1 is proper superset of set2\n",
    "* set1 | set2      # the union of set1 and set2\n",
    "* set1 & set2      # the intersection of set1 and set2\n",
    "* set1 - set2      # the set of elements in set1 but not in set2\n",
    "* set1 ^ set2      # the set of elements in precisely one of set1 or set2\n",
    "* x in my_set      # membership"
   ]
  },
  {
   "cell_type": "markdown",
   "metadata": {},
   "source": [
    "#### Set Comprehension\n",
    "Simiar to list comprehension:  \n",
    "```python\n",
    "[val for val in collection if condition]\n",
    "```\n",
    "change [] to {}\n",
    "```python\n",
    "{expr for value in collection if condition}\n",
    "```\n",
    "\n",
    "For example:  \n",
    "```python\n",
    "squared = {x**2 for x in [1, 1, 2]}\n",
    "print(squared)\n",
    "# {1, 4}\n",
    "```"
   ]
  },
  {
   "cell_type": "markdown",
   "metadata": {},
   "source": [
    "#### Question 5: Two Sums.\n",
    "Given an array of integers, return indices of the two numbers such that they add up to a specific target. You may assume that each input would have exactly one solution, and you may not use the same element twice.\n",
    "```\n",
    "A = [1, 2, 0, 5, 8, 10], target = 15\n",
    "idx  0  1  2  3  4  5\n",
    "Return (3, 5)\n",
    "```"
   ]
  },
  {
   "cell_type": "code",
   "execution_count": 6,
   "metadata": {},
   "outputs": [
    {
     "name": "stdout",
     "output_type": "stream",
     "text": [
      "(3, 5)\n",
      "()\n"
     ]
    }
   ],
   "source": [
    "class Solution(object):\n",
    "    def two_sum(self, nums, target):\n",
    "        if not nums:\n",
    "            return ()\n",
    "        \n",
    "        my_dict = dict()\n",
    "        for idx in range(len(nums)):\n",
    "            num = nums[idx]\n",
    "            if target - num in my_dict:\n",
    "                return (my_dict[target-num], idx)\n",
    "            else:\n",
    "                my_dict[num] = idx\n",
    "                \n",
    "        return ()\n",
    "\n",
    "if __name__ == \"__main__\":\n",
    "    soln = Solution()\n",
    "    print(soln.two_sum(nums=[1, 2, 0, 5, 8, 10], target=15))\n",
    "    print(soln.two_sum(nums=[1, 2, 0, 5, 8, 10], target=14))"
   ]
  },
  {
   "cell_type": "markdown",
   "metadata": {},
   "source": [
    "#### Question 5\\* (Follow up): Two Sums with sorted array."
   ]
  },
  {
   "cell_type": "code",
   "execution_count": 7,
   "metadata": {},
   "outputs": [
    {
     "name": "stdout",
     "output_type": "stream",
     "text": [
      "(3, 5)\n",
      "()\n"
     ]
    }
   ],
   "source": [
    "class Solution(object):\n",
    "    def two_sum(self, nums, target):\n",
    "        if not nums:\n",
    "            return ()\n",
    "        \n",
    "        left, right = 0, len(nums) - 1\n",
    "        while left < right:\n",
    "            if nums[left] + nums[right] < target:\n",
    "                left += 1\n",
    "            elif nums[left] + nums[right] > target:\n",
    "                right -= 1\n",
    "            else:\n",
    "                return (left, right)\n",
    "            \n",
    "        return ()\n",
    "    \n",
    "if __name__ == \"__main__\":\n",
    "    soln = Solution()\n",
    "    print(soln.two_sum(nums=[1, 2, 0, 5, 8, 10], target=15))\n",
    "    print(soln.two_sum(nums=[1, 2, 0, 5, 8, 10], target=14))"
   ]
  },
  {
   "cell_type": "markdown",
   "metadata": {},
   "source": [
    "#### Question 5\\*\\* (Follow Up): 3 Sum\n",
    "\n",
    "Given an unsorted integer array, check if there are three numbers have sum of a target \n",
    "\n",
    "input: array, target\n",
    "\n",
    "Example\n",
    "```\n",
    "array = [1, 4, 7, 10, 13], target 18\n",
    "```\n",
    "\n",
    "<font color='blue'>Solution 1: </font>  unsorted, boil down to unsorted 2 sum problem.\n",
    "```\n",
    "array = [1, 4, 7, 10, 13]\n",
    "         i\n",
    "```\n",
    "fix i, then the sub-problem becomes a unsorted 2 sum problem.\n",
    "\n",
    "Time $O(n^2)$, Space $O(n)$\n",
    "\n",
    "<font color='blue'>Solution 2: </font>  sort first, boil down to sorted 2 sum problem.\n",
    "```\n",
    "array = [1, 4, 7, 10, 13]\n",
    "         i\n",
    "```\n",
    "Why to sort first? Time to sort $O(n\\log n)$ < $O(n^2)$, it will not influence the time complexity to the whole problem\n",
    "\n",
    "Time $O(n^2)$, Space $O(1)$"
   ]
  },
  {
   "cell_type": "code",
   "execution_count": 13,
   "metadata": {},
   "outputs": [
    {
     "name": "stdout",
     "output_type": "stream",
     "text": [
      "True\n",
      "True\n"
     ]
    }
   ],
   "source": [
    "class Solution(object):\n",
    "    def three_sum(self, nums, target):\n",
    "        if not nums:\n",
    "            return False\n",
    "        \n",
    "        nums.sort()\n",
    "        \n",
    "        for index in range(0, len(nums)-2):\n",
    "            left, right = index + 1, len(nums) - 1\n",
    "            while left < right:\n",
    "                temp_sum = nums[index] + nums[left] + nums[right]\n",
    "                # print(temp_sum, nums[index], nums[left], nums[right])\n",
    "                if temp_sum < target:\n",
    "                    left += 1\n",
    "                elif temp_sum > target:\n",
    "                    right -= 1\n",
    "                else:\n",
    "                    return True\n",
    "\n",
    "            return False\n",
    "        \n",
    "if __name__ == \"__main__\":\n",
    "    soln = Solution()\n",
    "    print(soln.three_sum(nums=[1, 2, 0, 5, 8, 10], target=13))\n",
    "    print(soln.three_sum(nums=[1, 4, 7, 10, 13], target=18))"
   ]
  },
  {
   "cell_type": "markdown",
   "metadata": {},
   "source": [
    "#### Question 5\\*\\*\\* (Follow Up): 4 Sum\n",
    "\n",
    "Given an unsorted integer array, check if there are four numbers have sum of a target.\n",
    "\n",
    "input: array, target\n",
    "\n",
    "Example\n",
    "```\n",
    "array = [1, 4, 7, 10, 13], target 22\n",
    "```\n",
    "\n",
    "<font color='blue'>Solution 1: </font>  unsorted, boil down to unsorted 3 sum problem.  \n",
    "```\n",
    "array = [1, 4, 7, 10, 13]\n",
    "         i\n",
    "```\n",
    "fix i, then the sub-problem becomes a unsorted 3 sum problem.\n",
    "```python\n",
    "for i in range(0, len(arr) - 3):\n",
    "    for j in range(i + 1,  len(arr) - 2):\n",
    "        # start 2 sum\n",
    "```\n",
    "Time $O(n^3)$, Space $O(n)$\n",
    "\n",
    "<font color='blue'>Solution 2: </font>  unsorted, boil down to unsorted 2 sum problem.  \n",
    "\n",
    "问题转换成：如何找到 pair of two sum，和是 target\n",
    "1. 先配对\n",
    "2. sort 一遍 或者 hashset (two sum 方法）\n",
    "\n",
    "```\n",
    "[1,  4,  7,  10, 13]\n",
    "\n",
    "step 1: find all pairs \n",
    "[ 1 + 4, 1 + 7, 1 + 10, 1 + 13,\n",
    "  4 + 7, 4 +10, 4 + 13,\n",
    "  7 +10, 7 +13,\n",
    "  10+13\n",
    "]\n",
    "\n",
    "step 2: run two sum on the array of pairs\n",
    "```\n",
    "\n",
    "需要注意（potential caveat）：重复使用了一样的数字， pair of 1+4， 1+7，如何发现重复使用的数字？\n",
    "\n",
    "```python\n",
    "class TwoSumPair(object):\n",
    "    # numbe1, number2\n",
    "    # sum\n",
    "    # index1, index2\n",
    "    def __init__(self, index1, index2):\n",
    "        self.index1 = index1\n",
    "        self.index2 = index2\n",
    "        self.number1 = array[index1]\n",
    "        self.number2 = array[index2]\n",
    "        self.sum = self.number1 + self.number2\n",
    "        \n",
    "pair_list = [TwoSumPair(0,1), TwoSumPair(0,2), TwoSumPair(0,3), TwoSumPair(0,4), ...,\n",
    "                              TwoSumPair(1,2), TwoSumPair(1,3), TwoSumPair(1,4), ...,\n",
    "                                               TwoSumPair(2,3), TwoSumPair(2,4), ...\n",
    "            ]\n",
    "```\n",
    "1. Step 1: Create 配对数组 TwoSumPair $O(n^2)$\n",
    "2. Step 2.1: Run two sum on 配对数组 $O(n^2)$，配对数组size就是$n^2$，原因：$C(n,2)$ ~ $n^2$\n",
    "3. Step 2.2: Check if duplicate index $O(1)$  \n",
    "  e.g. pair1.index1 != pair2.index1 && pair1.index1 ！= pair2.index2 && pair1.index2 != pair2.index1 && pair1.index2 != pair2.index2\n",
    "  \n",
    "Time $O(n^2)$, Space $O(n^2)$"
   ]
  },
  {
   "cell_type": "markdown",
   "metadata": {},
   "source": [
    "#### Question 5\\*: 2 Difference\n",
    "\n",
    "Example\n",
    "```\n",
    "[1,  4,  6,  10, 13], target, check if any two numbers diff == target\n",
    "```\n",
    "\n",
    "Note that:\n",
    "* |1 - 4| = |4 - 1|\n",
    "\n",
    "<font color='blue'>Solution 1: </font> assume sorted, slow and fast pointers 同向而行  \n",
    "```\n",
    "[1,  4,  6,  10, 13], diff_target = 4\n",
    "         i\n",
    "              j\n",
    "```\n",
    "\n",
    "Time $O(n)$, Space $O(1)$\n",
    "\n",
    "<font color='blue'>Solution 2: </font> unsorted, hashtable\n",
    "* step 1: create HashSet\n",
    "* step 2: loop array, check array[i] - target or array[i] + target in the set:\n",
    "  * If yes, return true\n",
    "  * If no,, add array[i] into the HashSet\n",
    "\n",
    "Time $O(n)$, Space $O(n)$"
   ]
  },
  {
   "cell_type": "code",
   "execution_count": 16,
   "metadata": {},
   "outputs": [
    {
     "name": "stdout",
     "output_type": "stream",
     "text": [
      "(2, 3)\n",
      "(2, 3)\n"
     ]
    }
   ],
   "source": [
    "class Solution(object):\n",
    "    def two_difference_1(self, array, target):\n",
    "        if not array:\n",
    "            return (-1, -1)\n",
    "        \n",
    "        slow = 0\n",
    "        fast = 1\n",
    "        while fast < len(array):\n",
    "            if array[fast] - array[slow] < target:\n",
    "                fast += 1\n",
    "            elif array[fast] - array[slow] > target:\n",
    "                slow += 1\n",
    "            else:\n",
    "                return (slow, fast)\n",
    "            \n",
    "        return (-1, -1)\n",
    "    \n",
    "    def two_difference_2(self, array, target):\n",
    "        if not array:\n",
    "            return (-1, -1)\n",
    "        \n",
    "        hashtable = {}\n",
    "        for index, num in enumerate(array):\n",
    "            if (num - target) in hashtable:\n",
    "                return (hashtable[num - target], index)\n",
    "            elif (num + target) in hashtable:\n",
    "                return (index, hashtable[num + target])\n",
    "            else:\n",
    "                hashtable[num] = index\n",
    "                \n",
    "        return (-1, -1)\n",
    "    \n",
    "if __name__ == \"__main__\":\n",
    "    soln = Solution()\n",
    "    \n",
    "    print(soln.two_difference_1(array=[1, 4, 6, 10, 13], target=4))\n",
    "    print(soln.two_difference_2(array=[1, 4, 6, 10, 13], target=4))"
   ]
  },
  {
   "cell_type": "markdown",
   "metadata": {},
   "source": [
    "#### Question 6: Continuous Subarrays\n",
    "Given an array of integers and an integer k, you need to find the total number of continuous subarrays whose sum equals to k.\n",
    "\n",
    "Example:\n",
    "```\n",
    "nums = [   1, 6,  5,  2,  3, 4,   0], k = 7, \n",
    "return 4\n",
    "```\n",
    "\n",
    "*Solution*:\n",
    "```\n",
    "Explanation:\n",
    "nums =       [   1, 6,  5,  2,  3, 4,   0], k = 7, \n",
    "prefix_sum = [0, 1, 7, 12, 14, 17, 21, 21]\n",
    "                           i        j\n",
    "prefix_sum[j] - prefix_sum[i] == target, which is equivalent to\n",
    "prefix_sum[j] - target == prefix_sum[i]\n",
    "save prefix_sum[i] to a dictionary and then check if (prefix_sum[j]-target) in dict\n",
    "```"
   ]
  },
  {
   "cell_type": "code",
   "execution_count": 17,
   "metadata": {},
   "outputs": [
    {
     "name": "stdout",
     "output_type": "stream",
     "text": [
      "4\n",
      "6\n"
     ]
    }
   ],
   "source": [
    "class Solution(object):\n",
    "    def subarray_sum(self, nums, target):\n",
    "        if not nums:\n",
    "            return 0\n",
    "        \n",
    "        count = 0\n",
    "        sums = {}\n",
    "        sums[0] = 1\n",
    "        cur_sum = 0\n",
    "        \n",
    "        for idx, num in enumerate(nums):\n",
    "            cur_sum = cur_sum + num\n",
    "            # print(cur_sum, cur_sum-target, sums.keys(), cur_sum-target in sums)\n",
    "            if cur_sum - target in sums:\n",
    "                count += sums[cur_sum-target]\n",
    "            sums[cur_sum] = sums.get(cur_sum, 0) + 1\n",
    "            \n",
    "        return count\n",
    "    \n",
    "# Time Complexity: O(n)\n",
    "# Space Complexity: O(n)\n",
    "\n",
    "if __name__ == \"__main__\":\n",
    "    soln = Solution()\n",
    "    print(soln.subarray_sum(nums=[1, 6, 5, 2, 3, 4, 0], target=7))\n",
    "    print(soln.subarray_sum(nums=[1, 6, 0, 5, 2, 3, 4, 0], target=7))"
   ]
  },
  {
   "cell_type": "markdown",
   "metadata": {},
   "source": [
    "* Given an element x in a list, you need to spend $O(n)$ to find the location of x.\n",
    "* Given a key x in a hashtable, you need to spend $O(1)$ to find the location of x.\n",
    "\n",
    "**Hash Collision**  \n",
    "Given two keys, x!=y, if hash(x) == hash(y) ==> collision\n",
    "\n",
    "Handle Hash Collision:\n",
    "1. open adddresing\n",
    "2. Separate chaining\n",
    "\n",
    "[Hash Table Reference](https://en.wikipedia.org/wiki/Hash_table)"
   ]
  },
  {
   "cell_type": "markdown",
   "metadata": {},
   "source": [
    "#### Question 7: Top K Frequent Words\n",
    "For a compisition with different kinds of words, try to find the top-k frequent words from the composition.\n",
    "\n",
    "Example:\n",
    "```\n",
    "['A','A','A','B','B','C', 'D', 'D', 'D', 'D'], k = 2 \n",
    "==> {'A':3, 'B':2, 'C':1, 'D':3} ==> ['A', 'D']\n",
    "```\n"
   ]
  },
  {
   "cell_type": "markdown",
   "metadata": {},
   "source": [
    "*Solution 1:*  \n",
    "dictionary + heap  \n",
    "{key = word_i: value = counter for word_i}  \n",
    "For example\n",
    "```\n",
    "{'A':3, 'B':2, 'C':1, 'D':3}\n",
    "heap (-3, 'A') (-3, 'D') (-2, 'B') (-1, 'C')\n",
    "```\n",
    "\n",
    "*Solution 2: *  \n",
    "1. Step 1: read the composition, and count the frequency of each word by using the hash_table.\n",
    "2. Step 2: build a min-heap for the first k elements of the hash_table.\n",
    "3. Step 3: iterate over each element from the k+1 -th to the n-th element, and update the min-heap as follows:\n",
    "  * if the i-th element > min_heap.top(), the remove top and insert i-th element.\n",
    "  * otherwise, do nothing.\n",
    "\n",
    "For example\n",
    "```\n",
    "{'A':3, 'B':2, 'C':1, 'D':3}, k = 2\n",
    "heap (1, 'C') (2, 'B') (3, 'A') (3, 'D')\n",
    "```\n",
    "Time Complexity: $O(k + (n-k)\\log{k})$"
   ]
  },
  {
   "cell_type": "code",
   "execution_count": 18,
   "metadata": {},
   "outputs": [
    {
     "name": "stdout",
     "output_type": "stream",
     "text": [
      "['D', 'A']\n",
      "['A', 'D']\n"
     ]
    }
   ],
   "source": [
    "import heapq\n",
    "\n",
    "class Solution(object):\n",
    "    def get_top_k_words_1(self, words, k):\n",
    "        if not words:\n",
    "            return []\n",
    "        \n",
    "        freqs = {}\n",
    "        freqs_heap = []\n",
    "        top_list = []\n",
    "        \n",
    "        # from list to dictionary\n",
    "        for word in words:\n",
    "            freqs[word] = freqs.get(word, 0) + 1\n",
    "        \n",
    "        # push to heap\n",
    "        for key, val in freqs.items():\n",
    "            heapq.heappush(freqs_heap, (-val, key))\n",
    "            \n",
    "        # top k\n",
    "        for idx in range(0, k):\n",
    "            top_list.append(heapq.heappop(freqs_heap)[1])\n",
    "            \n",
    "        return top_list\n",
    "    \n",
    "    # Time Complexity: O(n + n + klogn)\n",
    "    # O(n) for creating the dictionary\n",
    "    # O(n) for heap.heappush\n",
    "    # O(klogn) for heap.heappop. logn is the height for the heap tree\n",
    "    \n",
    "    def get_top_k_words_2(self, words, k):\n",
    "        if not words:\n",
    "            return []\n",
    "        \n",
    "        freqs = {}\n",
    "        freqs_heap = []\n",
    "        top_list = []\n",
    "        \n",
    "        # from list to dictionary\n",
    "        for word in words:\n",
    "            freqs[word] = freqs.get(word, 0) + 1\n",
    "       \n",
    "        for key, val in freqs.items():\n",
    "            # push to heap\n",
    "            heapq.heappush(freqs_heap, (val, key))\n",
    "            # pop\n",
    "            if len(freqs_heap) > k:\n",
    "                heapq.heappop(freqs_heap)\n",
    "                            \n",
    "        # top k\n",
    "        for idx in range(0, k):\n",
    "            top_list.append(heapq.heappop(freqs_heap)[1])\n",
    "            \n",
    "        return top_list\n",
    "    \n",
    "    # Time Complexity: O(n + k + (n-k)logk)\n",
    "    # O(n) for creating the dictionary\n",
    "    # O(k) for heap.heappush\n",
    "    # O((n-k)logk) for heap.heappop.  logk is the height for the heap tree\n",
    "    \n",
    "if __name__ == \"__main__\":\n",
    "    soln = Solution()\n",
    "    print(soln.get_top_k_words_1(words=['A','A','A','B','B','C', 'D', 'D', 'D', 'D'], k=2))\n",
    "    print(soln.get_top_k_words_2(words=['A','A','A','B','B','C', 'D', 'D', 'D', 'D'], k=2))"
   ]
  },
  {
   "cell_type": "markdown",
   "metadata": {},
   "source": [
    "#### Question 8: Palindromic Permutations\n",
    "Given a string, determine if a permutation of the string could form a palindrome.  \n",
    "For example, \"edified\" can be permuted to form \"deified\".\n",
    "\n",
    "A palindrome is a word that reads the same forwards and backwards, e.g. 'level, 'rotator'.\n",
    "\n",
    "\n",
    "Example 1:\n",
    "```\n",
    "Input: \"code\"\n",
    "Output: false\n",
    "```\n",
    "Example 2:\n",
    "```\n",
    "Input: \"aab\"\n",
    "Output: true\n",
    "```\n",
    "Example 3:\n",
    "```\n",
    "Input: \"carerac\"\n",
    "Output: true\n",
    "```"
   ]
  },
  {
   "cell_type": "markdown",
   "metadata": {},
   "source": [
    "*Solution*: \n",
    "\n",
    "最多只有一个奇数个数"
   ]
  },
  {
   "cell_type": "code",
   "execution_count": 19,
   "metadata": {},
   "outputs": [
    {
     "name": "stdout",
     "output_type": "stream",
     "text": [
      "False\n",
      "True\n",
      "True\n"
     ]
    }
   ],
   "source": [
    "class Solution(object):\n",
    "    def is_palindrome(self, word):\n",
    "        if not word:\n",
    "            return True\n",
    "        \n",
    "        freqs = {}\n",
    "        \n",
    "        for char in word:\n",
    "            freqs[char] = freqs.get(char, 0) + 1\n",
    "            \n",
    "        odd_count = 0\n",
    "        for key, val in freqs.items():\n",
    "            if val % 2 == 1:\n",
    "                odd_count += 1\n",
    "                if odd_count > 1:\n",
    "                    return False\n",
    "                \n",
    "        return True\n",
    "    \n",
    "if __name__ == \"__main__\":\n",
    "    soln = Solution()\n",
    "    print(soln.is_palindrome(word=\"code\"))\n",
    "    print(soln.is_palindrome(word=\"aab\"))\n",
    "    print(soln.is_palindrome(word=\"carerac\"))"
   ]
  },
  {
   "cell_type": "markdown",
   "metadata": {
    "collapsed": true
   },
   "source": [
    "#### Question 9: Find the length of longest subarray with distinct entries.\n",
    "\n",
    "Example:\n",
    "```\n",
    "Input: arr = [f, s, f, e, t, w, e, n, w, e]\n",
    "Output: the longest distinct subarray is [s, f, e, t, w]\n",
    "```"
   ]
  },
  {
   "cell_type": "markdown",
   "metadata": {
    "collapsed": true
   },
   "source": [
    "*Solution 1*: Brute-Force  \n",
    "For each subarray, test if all its elements are distinct using a hash table. \n",
    "\n",
    "How many subarrays? $O(n^2)$, and average length of subarray is $O(n)$, total time is $O(n^3)$.\n",
    "\n",
    "*Solution 2*: 中心开花，左右出发 $O(n^2)$\n",
    "\n",
    "*Solution 3*:  \n",
    "1.[f, _s, f, e, t_, w, e, n, w, e]  \n",
    "2.[f, _s, f, e, t, w_, e, n, w, e]  \n",
    "假设我们知道最长无重复子串(longest deplicate-free subarray)在index k处结束，那么在k+1处的最长无重复子串是：  \n",
    "1) 在k处的子串加上k+1处的元素，如果k+1位置的元素没出现在以k为结束位置的最长重复子串  \n",
    "2) 从以k位置结束的子串中与k+1位置元素相同元素的后一个位置开始到k+1位置结束的子串，如果k+1位置的元素出现在以k为结束位置的子串中。\n",
    "\n",
    "Running Example:\n",
    "```\n",
    "arr = [f, s, f, e, t, w, e, n, w, e]\n",
    "idx    0  1  2  3  4  5  6  7  8  9\n",
    "start = 0, k = 2, maxlen = 0    : f --> 0, s --> 1\n",
    "start = 1, k = 2, maxlen = 2    : f --> 2, s --> 1\n",
    "start = 1, k = 6, maxlen = 6-1=5: f --> 2, s --> 1, e --> 3, t --> 4, w --> 5\n",
    "start = 4, k = 6, maxlen = 6-1=5: f --> 2, s --> 1, e --> 6, t --> 4, w --> 5\n",
    "start = 4, k = 8, maxlen = 6-1=5: f --> 2, s --> 1, e --> 6, t --> 4, w --> 5, n --> 7\n",
    "start = 6, k = 8, maxlen = 6-1=5: f --> 2, s --> 1, e --> 6, t --> 4, w --> 8, n --> 7\n",
    "start = 7, k = 9, maxlen = 6-1=5: f --> 2, s --> 1, e --> 9, t --> 4, w --> 8, n --> 7\n",
    "\n",
    "Corner case: maxlen = max(maxlen, len(arr)-start) = max(5,3) = 5\n",
    "```"
   ]
  },
  {
   "cell_type": "code",
   "execution_count": 3,
   "metadata": {},
   "outputs": [
    {
     "name": "stdout",
     "output_type": "stream",
     "text": [
      "5\n"
     ]
    }
   ],
   "source": [
    "class Solution(object):\n",
    "    def longest_subarray(self, arr):\n",
    "        recent_occur = {}\n",
    "        start = 0  # or left = 0\n",
    "        max_len = 0\n",
    "\n",
    "        for index, element in enumerate(arr):\n",
    "            if element in recent_occur:\n",
    "                if recent_occur[element] >= start:\n",
    "                    max_len = max(max_len, index - start)\n",
    "                    start = recent_occur[element] + 1\n",
    "            recent_occur[element] = index\n",
    "\n",
    "        max_len = max(max_len, len(arr) - start)\n",
    "        return max_len\n",
    "\n",
    "    # Time Complexity: O(n)\n",
    "    # Space Complexity: O(d)  d -- # distinct elements in the array\n",
    "    \n",
    "if __name__ == \"__main__\":\n",
    "    soln = Solution()\n",
    "    print(soln.longest_subarray(arr=['f', 's', 'f', 'e', 't', 'w', 'e', 'n', 'w', 'e']))"
   ]
  },
  {
   "cell_type": "markdown",
   "metadata": {
    "collapsed": true
   },
   "source": [
    "#### Question 10: Given a nested dictionary as follows:\n",
    "\n",
    "```python\n",
    "data = {'one': {'label': 'This is shot 001', 'start': 1, 'end': 10},\n",
    "        'two': {'label': 'This is shot 002', 'start': 11, 'end': 25},\n",
    "        'three': 'This is shot 003'\n",
    "       }\n",
    "```\n",
    "print the unfolded version of each element.  \n",
    "E.g. \n",
    "```python\n",
    "'one->label->This is shot 001', 'one->start->1', 'one->end->10',\n",
    "'two->label->This is shot 002', 'two->start->11', 'two->end->25', ...\n",
    "```\n"
   ]
  },
  {
   "cell_type": "markdown",
   "metadata": {
    "collapsed": true
   },
   "source": [
    "<font color=\"blue\">*Solution*:</font>      \n",
    "Actually, this can be viewed as a tree structure \n",
    "```\n",
    "              root (data)\n",
    "          /        |        \\\n",
    "        one        two      three\n",
    "    /    |    \\\n",
    " label  start  end\n",
    "   |     |      |\n",
    " (str)  (1)    (10)  <----- they are not dictionary\n",
    "```\n",
    "The unfolded version of each element is a Three pre-order traversal of the tree.\n",
    "\n",
    "Time Complexity: $O(n)$ 每个节点遍历一遍  \n",
    "Space Complexity: $O(h)$ where h is the height of the tree"
   ]
  },
  {
   "cell_type": "code",
   "execution_count": 5,
   "metadata": {},
   "outputs": [
    {
     "name": "stdout",
     "output_type": "stream",
     "text": [
      "['one->label->This is shot 001', 'one->start->1', 'one->end->10', 'two->label->This is shot 002', 'two->start->11', 'two->end->25', 'three->This is shot 003']\n"
     ]
    }
   ],
   "source": [
    "class Solution(object):\n",
    "    def nest_dict(self, data):\n",
    "        # Base Case: the type of data is not a dict\n",
    "        if type(data) is not dict:\n",
    "            return [str(data)]  # why put string in a list[]?\n",
    "\n",
    "        # Recursion Part\n",
    "        result = []\n",
    "        for key, val in data.items():\n",
    "            # what to get from your children\n",
    "            children_data = self.nest_dict(val)\n",
    "            # what to do in the current stage\n",
    "            for element in children_data:\n",
    "                result.append(str(key) + '->' + element)\n",
    "\n",
    "        # what to return to your parent\n",
    "        return result\n",
    "    \n",
    "if __name__ == \"__main__\":\n",
    "    soln = Solution()\n",
    "    data = {'one': {'label': 'This is shot 001', 'start': 1, 'end': 10},\n",
    "        'two': {'label': 'This is shot 002', 'start': 11, 'end': 25},\n",
    "        'three': 'This is shot 003'\n",
    "       }\n",
    "    print(soln.nest_dict(data))"
   ]
  },
  {
   "cell_type": "markdown",
   "metadata": {},
   "source": [
    "#### Question 11: Find the nearest repeated entries in an array.\n",
    "\n",
    "Write code that takes as input an array and finds the distance between a closest pair of equal entries.  \n",
    "E.g.\n",
    "```python\n",
    "arr = ['All','work','and','no','play','makes','for','no','work','no','fun', 'and','no', 'results']\n",
    "                                                     i           j    \n",
    "```"
   ]
  },
  {
   "cell_type": "code",
   "execution_count": 9,
   "metadata": {},
   "outputs": [
    {
     "name": "stdout",
     "output_type": "stream",
     "text": [
      "2\n"
     ]
    }
   ],
   "source": [
    "# Dictionary: word -> index of last appearance\n",
    "\n",
    "class Solution(object):\n",
    "    \n",
    "    def nearest_repeat(self, arr):\n",
    "        counter = dict()\n",
    "        minimum = len(arr)\n",
    "\n",
    "        for i, element in enumerate(arr):\n",
    "            if element in counter:\n",
    "                minimum = min(minimum, i - counter[element])\n",
    "            counter[element] = i\n",
    "\n",
    "        return minimum\n",
    "\n",
    "# Time Complexity: O(n),  n -- length of the arr\n",
    "# Space Complexity: O(d), d -- #distinct entries in arr\n",
    "    \n",
    "if __name__ == \"__main__\":\n",
    "    soln = Solution()\n",
    "    arr = ['All','work','and','no','play','makes','for','no','work','no','fun', 'and','no', 'results']\n",
    "    print(soln.nearest_repeat(arr))"
   ]
  },
  {
   "cell_type": "markdown",
   "metadata": {},
   "source": [
    "#### Question 12: Find the length of a longest contained range.\n",
    "Given an integer array, find the size of a largest subset of integers in the array having the property that if two integers are in the subset, then so are all integers between them.\n",
    "\n",
    "Example\n",
    "```python\n",
    "arr = [3, -2, 7, 9, 8, 1, 2, 0, -1, 5, 8]\n",
    "the biggest contained range is [-2,-1,0,1,2,3], return 6\n",
    "```"
   ]
  },
  {
   "cell_type": "markdown",
   "metadata": {},
   "source": [
    "<font color=\"blue\">*Solution 1*: Brute Force Time Complexity $O(n\\log n)$</font>     \n",
    "1. sort the array, $O(n\\log n)$, \n",
    "2. search from each position, $O(n)$\n",
    "\n",
    "<font color=\"blue\">*Solution 2*: 中心开花， 左右出发 Time Complexity $O(n)$</font>\n",
    "1. convert the list to a set named sets, $O(n)$\n",
    "2. iterate from the first element to the last one in the set, $O(n)$\n",
    "  * pick up the element by sets.pop(), e.g., 3 中心开花\n",
    "    * search for the left -- whether 3-1=2 in the set, Yes, sets.remove(2)\n",
    "      * search for the left again -- whether 1  in the set, Yes, sets.remove(1)\n",
    "      * search for the left again -- whether 0  in the set, Yes, sets.remove(0)\n",
    "      * search for the left again -- whether -1 in the set, Yes, sets.remove(-1)\n",
    "      * search for the left again -- whether -2  in the set, Yes, sets.remove(-2)\n",
    "      * search for the left again -- whether -3  in the set, No, Stop\n",
    "    * search for the right -- whether 3+1=4 in the set, No, stop\n",
    "  * pick up the next element by sets.pop()\n",
    "  * ......"
   ]
  },
  {
   "cell_type": "code",
   "execution_count": 11,
   "metadata": {},
   "outputs": [
    {
     "name": "stdout",
     "output_type": "stream",
     "text": [
      "6\n"
     ]
    }
   ],
   "source": [
    "class Solution(object):\n",
    "    def longest_contained_range(self, arr):\n",
    "        sets = set(arr)\n",
    "        max_len = 0\n",
    "\n",
    "        # 中心开花 遍历set\n",
    "        while sets:\n",
    "            elem = sets.pop()\n",
    "\n",
    "            # 左边出发\n",
    "            lower = elem - 1        \n",
    "            while lower in sets:\n",
    "                sets.remove(lower)\n",
    "                lower = lower - 1\n",
    "\n",
    "            # 右边出发\n",
    "            upper = elem + 1\n",
    "            while upper in sets:\n",
    "                sets.remove(upper)\n",
    "                upper = upper + 1\n",
    "\n",
    "            max_len = max(max_len, upper - lower - 1)\n",
    "\n",
    "        return max_len    \n",
    "\n",
    "# Time Complexity: O(n)\n",
    "# Space Complexity: O(d), d -- #distinct elements in array\n",
    "\n",
    "if __name__ == \"__main__\":\n",
    "    soln = Solution()\n",
    "    arr = [3, -2, 7, 9, 8, 1, 2, 0, -1, 5, 8]\n",
    "    print(soln.longest_contained_range(arr))"
   ]
  },
  {
   "cell_type": "markdown",
   "metadata": {},
   "source": [
    "#### Question 13: [Laicode 68 Medium] [Missing Number I](https://app.laicode.io/app/problem/68)\n",
    "Given an integer array of size N - 1, containing all the numbers from 1 to N except one, find the missing number.\n",
    "\n",
    "Assumptions\n",
    "* The given array is not null, and N >= 1\n",
    "\n",
    "Examples\n",
    "```\n",
    "A = {2, 1, 4}, the missing number is 3\n",
    "A = {1, 2, 3}, the missing number is 4\n",
    "A = {}, the missing number is 1\n",
    "```"
   ]
  },
  {
   "cell_type": "code",
   "execution_count": 12,
   "metadata": {},
   "outputs": [
    {
     "name": "stdout",
     "output_type": "stream",
     "text": [
      "3\n",
      "4\n",
      "1\n",
      "3\n",
      "4\n",
      "1\n"
     ]
    }
   ],
   "source": [
    "class Solution(object):\n",
    "    def missing(self, array):\n",
    "        \"\"\"\n",
    "        input: int[] array\n",
    "        return: int\n",
    "        Time Complexity: O(n)\n",
    "        Space Complexity: O(n)\n",
    "        \"\"\"\n",
    "        # write your solution here\n",
    "        if not array:\n",
    "            return 1\n",
    "        \n",
    "        sets = set(array)\n",
    "        N = len(array) + 1\n",
    "        \n",
    "        for item in range(1, N + 1):\n",
    "            if item not in sets:\n",
    "                return item\n",
    "            \n",
    "        return -1\n",
    "\n",
    "    \n",
    "    def missing_2(self, array):\n",
    "        \"\"\"\n",
    "        input: int[] array\n",
    "        return: int\n",
    "        Time Complexity: O(n)\n",
    "        Space Complexity: O(1)\n",
    "        \"\"\"\n",
    "        # write your solution here\n",
    "        if not array:\n",
    "            return 1\n",
    "        \n",
    "        N = len(array) + 1\n",
    "        \n",
    "        sum_expected = (N * ( 1 + N)) // 2\n",
    "        sum_actual = sum(array)\n",
    "        diff = sum_expected - sum_actual\n",
    "        \n",
    "        return diff\n",
    "    \n",
    "if __name__ == \"__main__\":\n",
    "    soln = Solution()\n",
    "    print(soln.missing(array={2, 1, 4}))\n",
    "    print(soln.missing(array={1, 2, 3}))\n",
    "    print(soln.missing(array={}))\n",
    "\n",
    "    print(soln.missing_2(array={2, 1, 4}))\n",
    "    print(soln.missing_2(array={1, 2, 3}))\n",
    "    print(soln.missing_2(array={}))"
   ]
  },
  {
   "cell_type": "markdown",
   "metadata": {},
   "source": [
    "## 6.2: Leetcode Training (Basic)"
   ]
  },
  {
   "cell_type": "markdown",
   "metadata": {},
   "source": [
    "[Leetcode 0001 Easy] [Two Sum](Leetcode_0001.ipynb) (HashTable)\n",
    "\n",
    "[Leetcode 0003 Medium] [Longest Substring Without Repeating Characters](Leetcode_0003.ipynb) (HashTable)"
   ]
  },
  {
   "cell_type": "markdown",
   "metadata": {},
   "source": [
    "## 6.3: Leetcode Practice (Advanced)"
   ]
  },
  {
   "cell_type": "code",
   "execution_count": null,
   "metadata": {
    "collapsed": true
   },
   "outputs": [],
   "source": []
  },
  {
   "cell_type": "code",
   "execution_count": null,
   "metadata": {
    "collapsed": true
   },
   "outputs": [],
   "source": []
  },
  {
   "cell_type": "code",
   "execution_count": null,
   "metadata": {
    "collapsed": true
   },
   "outputs": [],
   "source": []
  }
 ],
 "metadata": {
  "kernelspec": {
   "display_name": "Python 3",
   "language": "python",
   "name": "python3"
  },
  "language_info": {
   "codemirror_mode": {
    "name": "ipython",
    "version": 3
   },
   "file_extension": ".py",
   "mimetype": "text/x-python",
   "name": "python",
   "nbconvert_exporter": "python",
   "pygments_lexer": "ipython3",
   "version": "3.6.1"
  }
 },
 "nbformat": 4,
 "nbformat_minor": 2
}
