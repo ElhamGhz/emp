{
 "cells": [
  {
   "cell_type": "markdown",
   "metadata": {},
   "source": [
    "#### [Lioncode 007 Medium] [Number of Squares]\n",
    "平面上N个点，找出所有的正方形，时间复杂度越低越好。\n",
    "\n"
   ]
  },
  {
   "cell_type": "markdown",
   "metadata": {},
   "source": [
    "<font color='blue'>Solution: </font>\n",
    "\n",
    "平面上给定两个点，可以确定 3 个正方形（两个点构成对角线端点 = 1 个正方形，构成一条边=2\n",
    "个正方形）。\n",
    "\n",
    "把所有点用 set hash，穷举所有 2 个点组成的点对，算出另外两个点，看是否在 set 中。\n",
    "如果在，再检验当前正方形是否已经被搜索过，没有的话就将当前正方形 4 个点排序转 tuple hash\n",
    "存到已找到的集合里"
   ]
  },
  {
   "cell_type": "code",
   "execution_count": null,
   "metadata": {
    "collapsed": true
   },
   "outputs": [],
   "source": []
  }
 ],
 "metadata": {
  "kernelspec": {
   "display_name": "Python 3",
   "language": "python",
   "name": "python3"
  },
  "language_info": {
   "codemirror_mode": {
    "name": "ipython",
    "version": 3
   },
   "file_extension": ".py",
   "mimetype": "text/x-python",
   "name": "python",
   "nbconvert_exporter": "python",
   "pygments_lexer": "ipython3",
   "version": "3.6.3"
  }
 },
 "nbformat": 4,
 "nbformat_minor": 2
}
