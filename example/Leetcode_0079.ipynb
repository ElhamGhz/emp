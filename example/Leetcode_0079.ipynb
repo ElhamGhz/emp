{
 "cells": [
  {
   "cell_type": "markdown",
   "metadata": {},
   "source": [
    "#### [Leetcode 79 Medium] [Word Search](https://leetcode.com/problems/word-search/)\n",
    "\n",
    "Given a 2D board and a word, find if the word exists in the grid.\n",
    "\n",
    "The word can be constructed from letters of sequentially adjacent cell, where \"adjacent\" cells are those horizontally or vertically neighboring. The same letter cell may not be used more than once.\n",
    "\n",
    "Example:\n",
    "```\n",
    "board =\n",
    "[\n",
    "  ['A','B','C','E'],\n",
    "  ['S','F','C','S'],\n",
    "  ['A','D','E','E']\n",
    "]\n",
    "\n",
    "Given word = \"ABCCED\", return true.\n",
    "Given word = \"SEE\", return true.\n",
    "Given word = \"ABCB\", return false.\n",
    "```"
   ]
  },
  {
   "cell_type": "code",
   "execution_count": 3,
   "metadata": {},
   "outputs": [
    {
     "name": "stdout",
     "output_type": "stream",
     "text": [
      "True\n",
      "True\n",
      "False\n"
     ]
    }
   ],
   "source": [
    "class Solution(object):\n",
    "    def exist(self, board, word):\n",
    "        \"\"\"\n",
    "        :type board: List[List[str]]\n",
    "        :type word: str\n",
    "        :rtype: bool\n",
    "        \"\"\"\n",
    "        if not board or not board[0] or not word:\n",
    "            return False\n",
    "        \n",
    "        for x in range(len(board)):\n",
    "            for y in range(len(board[0])):\n",
    "                if board[x][y] == word[0]:\n",
    "                    visited = set()\n",
    "                    #solution = [word[0]]\n",
    "                    if self.backtracking(x, y, board, 1, word, visited):\n",
    "                        return True\n",
    "        \n",
    "        return False\n",
    "    \n",
    "    def backtracking(self, x, y, board, stage_idx, word, visited):\n",
    "        # base case\n",
    "        if stage_idx == len(word):\n",
    "            return True\n",
    "\n",
    "        dx, dy = [1, 0, -1, 0], [0, -1, 0, 1]\n",
    "        direction = ['down', 'left', 'up', 'right']\n",
    "        \n",
    "        visited.add((x,y))           \n",
    "\n",
    "        for direct in range(4): # up, down, left, right\n",
    "            nx = x + dx[direct]\n",
    "            ny = y + dy[direct]\n",
    "\n",
    "            if ((0 <= nx < len(board)) and (0 <= ny < len(board[0])) and \n",
    "            ((nx, ny) not in visited) and (board[nx][ny] == word[stage_idx+1-1])):\n",
    "\n",
    "                if self.backtracking(nx, ny, board, stage_idx+1, word, visited):  # Bug Free: remember to use new x and new y\n",
    "                    return True                    \n",
    "\n",
    "        visited.discard((x, y))      \n",
    "        return False\n",
    "    \n",
    "if __name__ == \"__main__\":\n",
    "    \n",
    "    soln = Solution()\n",
    "    \n",
    "    board = [\n",
    "        ['A','B','C','E'],\n",
    "        ['S','F','C','S'],\n",
    "        ['A','D','E','E']\n",
    "    ]\n",
    "\n",
    "    print(soln.exist(board, word=\"ABCCED\"))\n",
    "    print(soln.exist(board, word=\"SEE\"))\n",
    "    print(soln.exist(board, word=\"ABCB\"))"
   ]
  },
  {
   "cell_type": "code",
   "execution_count": null,
   "metadata": {},
   "outputs": [],
   "source": []
  }
 ],
 "metadata": {
  "kernelspec": {
   "display_name": "Python 3",
   "language": "python",
   "name": "python3"
  },
  "language_info": {
   "codemirror_mode": {
    "name": "ipython",
    "version": 3
   },
   "file_extension": ".py",
   "mimetype": "text/x-python",
   "name": "python",
   "nbconvert_exporter": "python",
   "pygments_lexer": "ipython3",
   "version": "3.6.5"
  }
 },
 "nbformat": 4,
 "nbformat_minor": 2
}
