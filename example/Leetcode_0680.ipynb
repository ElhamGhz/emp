{
 "cells": [
  {
   "cell_type": "markdown",
   "metadata": {},
   "source": [
    "#### [Leetcode 680 Easy] [Valid Palindrome II](https://leetcode.com/problems/valid-palindrome-ii/)\n",
    "\n",
    "Given a non-empty string s, you may delete at most one character. Judge whether you can make it a palindrome.\n",
    "\n",
    "Example 1:\n",
    "```\n",
    "Input: \"aba\"\n",
    "Output: True\n",
    "```\n",
    "\n",
    "Example 2:\n",
    "```\n",
    "Input: \"abca\"\n",
    "Output: True\n",
    "Explanation: You could delete the character 'c'.\n",
    "```\n",
    "\n",
    "Note:\n",
    "* The string will only contain lowercase characters a-z. The maximum length of the string is 50000."
   ]
  },
  {
   "cell_type": "markdown",
   "metadata": {},
   "source": [
    "<font color='blue'>Solution: </font> Greedy, delete the first unmatched char\n",
    "* Time Comlexity: O(n)"
   ]
  },
  {
   "cell_type": "code",
   "execution_count": 30,
   "metadata": {},
   "outputs": [],
   "source": [
    "class Solution(object):\n",
    "    def validPalindrome(self, s):\n",
    "        \"\"\"\n",
    "        :type s: str\n",
    "        :rtype: bool\n",
    "        \"\"\"\n",
    "        if not s:\n",
    "            return True\n",
    "        \n",
    "        left = 0\n",
    "        right = len(s) - 1\n",
    "        \n",
    "        while left < right:\n",
    "            if s[left] != s[right]:\n",
    "                return (self.isPalindrome(s, left + 1, right) or\n",
    "                        self.isPalindrome(s, left, right - 1))\n",
    "            else:\n",
    "                left += 1\n",
    "                right -= 1\n",
    "            \n",
    "        return True            \n",
    "        \n",
    "    def isPalindrome(self, s, left, right):\n",
    "        while left < right:\n",
    "            if s[left] != s[right]:\n",
    "                return False\n",
    "            else:\n",
    "                left += 1\n",
    "                right -= 1\n",
    "        return True"
   ]
  },
  {
   "cell_type": "code",
   "execution_count": 32,
   "metadata": {},
   "outputs": [
    {
     "name": "stdout",
     "output_type": "stream",
     "text": [
      "True\n",
      "True\n",
      "True\n"
     ]
    }
   ],
   "source": [
    "soln = Solution()\n",
    "print(soln.validPalindrome(s=\"aba\"))\n",
    "print(soln.validPalindrome(s=\"abca\"))\n",
    "print(soln.validPalindrome(s=\"puufxoohdfpgjdmysgvhmvffcnqxjjxqncffvmhvgsymdjgpfdhooxfuupu\"))"
   ]
  },
  {
   "cell_type": "markdown",
   "metadata": {
    "collapsed": true
   },
   "source": [
    "#### Follow up:\n",
    "现在给你一个字符串，你可以增加或者删除，要尽可能的balance，也就是和原来的字符串要尽可能的相似，你要怎么做（这里我们认为添加是+1 删除是-1 然后想办法让操作完之后接近0），要返回回文字符串\n",
    "我一开始说dp，面试官说，别别别，直接暴力，我们暴力来看. check 1point3acres for more.\n",
    "\n",
    "然后我给他说我可以用DFS做，他说可以，不过我们简单一点，先考虑删除怎么做\n",
    "然后我就写了删除怎么做\n",
    "\n",
    "之后他说可以，那我们再考虑添加怎么做\n",
    "我就又写了个添加怎么做\n",
    "\n",
    "最后就是合并两个，但是时间不太够了，就大致说了一下。分析了复杂度（时间和空间）"
   ]
  },
  {
   "cell_type": "code",
   "execution_count": null,
   "metadata": {
    "collapsed": true
   },
   "outputs": [],
   "source": []
  }
 ],
 "metadata": {
  "kernelspec": {
   "display_name": "Python 3",
   "language": "python",
   "name": "python3"
  },
  "language_info": {
   "codemirror_mode": {
    "name": "ipython",
    "version": 3
   },
   "file_extension": ".py",
   "mimetype": "text/x-python",
   "name": "python",
   "nbconvert_exporter": "python",
   "pygments_lexer": "ipython3",
   "version": "3.6.5"
  }
 },
 "nbformat": 4,
 "nbformat_minor": 2
}
