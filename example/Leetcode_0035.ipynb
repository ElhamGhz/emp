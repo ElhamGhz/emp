{
 "cells": [
  {
   "cell_type": "markdown",
   "metadata": {},
   "source": [
    "#### [Leetcode 0035 Easy] [Search Insert Position](https://leetcode.com/problems/search-insert-position/) (Binary Search)\n",
    "\n",
    "Given a sorted array and a target value, return the index if the target is found. If not, return the index where it would be if it were inserted in order.\n",
    "\n",
    "You may assume no duplicates in the array.\n",
    "\n",
    "Example 1:\n",
    "```\n",
    "Input: [1,3,5,6], 5\n",
    "Output: 2\n",
    "```\n",
    "\n",
    "Example 2:\n",
    "```\n",
    "Input: [1,3,5,6], 2\n",
    "Output: 1\n",
    "```\n",
    "\n",
    "Example 3:\n",
    "```\n",
    "Input: [1,3,5,6], 7\n",
    "Output: 4\n",
    "```\n",
    "\n",
    "Example 4:\n",
    "```\n",
    "Input: [1,3,5,6], 0\n",
    "Output: 0\n",
    "```"
   ]
  },
  {
   "cell_type": "code",
   "execution_count": 1,
   "metadata": {},
   "outputs": [
    {
     "name": "stdout",
     "output_type": "stream",
     "text": [
      "True\n",
      "True\n",
      "True\n",
      "True\n"
     ]
    }
   ],
   "source": [
    "class Solution:\n",
    "    def searchInsert(self, nums, target):\n",
    "        \"\"\"\n",
    "        find num[index] larger than or equal to target\n",
    "        Time Complexity: O(logn)\n",
    "        Space Complexity: O(1)\n",
    "        \"\"\"\n",
    "        # Edge Case\n",
    "        if not nums:\n",
    "            return 0\n",
    "        \n",
    "        left, right = 0, len(nums) - 1\n",
    "        while left < right - 1:\n",
    "            mid = left + (right - left) // 2\n",
    "            if nums[mid] == target:\n",
    "                return mid\n",
    "            elif nums[mid] < target:\n",
    "                left = mid\n",
    "            else:\n",
    "                right = mid\n",
    "                \n",
    "        #print(left, right)\n",
    "        # post-processing\n",
    "        if nums[left] >= target:\n",
    "            return left\n",
    "        if nums[right] >= target:\n",
    "            return right\n",
    "        \n",
    "        return len(nums)\n",
    "        \n",
    "if __name__ == \"__main__\":\n",
    "    soln = Solution()\n",
    "    \n",
    "    print(soln.searchInsert(nums=[1,3,5,6], target=5) == 2)\n",
    "    print(soln.searchInsert(nums=[1,3,5,6], target=2) == 1)\n",
    "    print(soln.searchInsert(nums=[1,3,5,6], target=7) == 4)\n",
    "    print(soln.searchInsert(nums=[1,3,5,6], target=0) == 0)"
   ]
  },
  {
   "cell_type": "code",
   "execution_count": null,
   "metadata": {
    "collapsed": true
   },
   "outputs": [],
   "source": []
  }
 ],
 "metadata": {
  "kernelspec": {
   "display_name": "Python 3",
   "language": "python",
   "name": "python3"
  },
  "language_info": {
   "codemirror_mode": {
    "name": "ipython",
    "version": 3
   },
   "file_extension": ".py",
   "mimetype": "text/x-python",
   "name": "python",
   "nbconvert_exporter": "python",
   "pygments_lexer": "ipython3",
   "version": "3.6.3"
  }
 },
 "nbformat": 4,
 "nbformat_minor": 2
}
