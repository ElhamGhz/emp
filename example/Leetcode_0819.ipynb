{
 "cells": [
  {
   "cell_type": "markdown",
   "metadata": {},
   "source": [
    "#### [Leetcode 819 Easy] [Most Common Word](https://leetcode.com/problems/most-common-word/)\n",
    "\n",
    "Given a paragraph and a list of banned words, return the most frequent word that is not in the list of banned words.  It is guaranteed there is at least one word that isn't banned, and that the answer is unique.\n",
    "\n",
    "Words in the list of banned words are given in lowercase, and free of punctuation.  Words in the paragraph are not case sensitive.  The answer is in lowercase.\n",
    "\n",
    "Example:\n",
    "```\n",
    "Input: \n",
    "paragraph = \"Bob hit a ball, the hit BALL flew far after it was hit.\"\n",
    "banned = [\"hit\"]\n",
    "Output: \"ball\"\n",
    "\n",
    "Explanation: \n",
    "\"hit\" occurs 3 times, but it is a banned word.\n",
    "\"ball\" occurs twice (and no other word does), so it is the most frequent non-banned word in the paragraph. \n",
    "Note that words in the paragraph are not case sensitive,\n",
    "that punctuation is ignored (even if adjacent to words, such as \"ball,\"), \n",
    "and that \"hit\" isn't the answer even though it occurs more because it is banned.\n",
    "```\n",
    "\n",
    "Note:\n",
    "* 1 <= paragraph.length <= 1000.\n",
    "* 0 <= banned.length <= 100.\n",
    "* 1 <= banned[i].length <= 10.\n",
    "* The answer is unique, and written in lowercase (even if its occurrences in paragraph may have uppercase symbols, and even if it is a proper noun.)\n",
    "* paragraph only consists of letters, spaces, or the punctuation symbols !?',;.\n",
    "* There are no hyphens or hyphenated words.\n",
    "* Words only consist of letters, never apostrophes or other punctuation symbols."
   ]
  },
  {
   "cell_type": "markdown",
   "metadata": {},
   "source": [
    "<font color='blue'>Solution: </font>  Counting  \n",
    "\n",
    "Intuition\n",
    "\n",
    "This problem is about the implementation, as the question tells us how to solve the problem. We'll count each word separately, ignoring punctuation and converting each word to lowercase. The word with the highest frequency that isn't in the banned list is the answer.\n",
    "\n",
    "Algorithm\n",
    "\n",
    "We'll need some count of words (converted to lowercase) that we have seen in the paragraph. As we iterate through the paragraph, we will collect these words (with punctuation removed and converted to lowercase).\n",
    "\n",
    "There are two ways we could try to collect these words: we could try to split the paragraph (delimited by spaces) and then clean up the fragment like \"Bob!\" to be \"bob\". Or, we could add characters one by one to build the next word, stopping when we reach a character that isn't a letter.\n",
    "\n",
    "For each word (lowercase, and free of punctuation), we'll update our count and update the answer if the count of that word is highest (and the word is not banned.)\n",
    "\n",
    "Complexity Analysis\n",
    "\n",
    "Time Complexity: O(P), where P is the size of paragraph and B is the size of banned.\n",
    "\n",
    "Space Complexity: O(P + B), to store the count and the banned set."
   ]
  },
  {
   "cell_type": "code",
   "execution_count": 18,
   "metadata": {},
   "outputs": [
    {
     "name": "stdout",
     "output_type": "stream",
     "text": [
      "\n",
      "ball\n",
      "bob\n"
     ]
    }
   ],
   "source": [
    "class Solution(object):\n",
    "    def mostCommonWord(self, paragraph, banned):\n",
    "        \"\"\"\n",
    "        :type paragraph: str\n",
    "        :type banned: List[str]\n",
    "        :rtype: str\n",
    "        \"\"\"\n",
    "        if not paragraph:\n",
    "            return \"\"\n",
    "        \n",
    "        banned = set(banned)\n",
    "        \n",
    "        left = 0 \n",
    "        right = 0\n",
    "        counter = {}\n",
    "        max_count = 0\n",
    "        result = \"\"\n",
    "        for index in range(len(paragraph)):\n",
    "            if index + 1 == len(paragraph) or not paragraph[index + 1].isalpha():\n",
    "                right = index\n",
    "                word = paragraph[left:right + 1].lower()\n",
    "                if word and word not in banned:\n",
    "                    counter[word] = counter.get(word, 0) + 1\n",
    "                    if counter[word] > max_count:\n",
    "                        max_count = counter[word]\n",
    "                        result = word\n",
    "                    \n",
    "                left = index + 2\n",
    "        #print(counter)        \n",
    "        return result                \n",
    "        \n",
    "        \n",
    "        \n",
    "if __name__ == \"__main__\":\n",
    "    soln = Solution()\n",
    "    \n",
    "    print(soln.mostCommonWord(paragraph=\"\", banned=['a'])) \n",
    "    print(soln.mostCommonWord(paragraph=\"Bob hit a ball, the hit BALL flew far after it was hit.\", banned=[\"hit\"])) \n",
    "    print(soln.mostCommonWord(paragraph=\"Bob!\", banned=[\"hit\"])) "
   ]
  },
  {
   "cell_type": "code",
   "execution_count": null,
   "metadata": {
    "collapsed": true
   },
   "outputs": [],
   "source": []
  },
  {
   "cell_type": "code",
   "execution_count": null,
   "metadata": {},
   "outputs": [],
   "source": []
  },
  {
   "cell_type": "code",
   "execution_count": null,
   "metadata": {
    "collapsed": true
   },
   "outputs": [],
   "source": []
  }
 ],
 "metadata": {
  "kernelspec": {
   "display_name": "Python 3",
   "language": "python",
   "name": "python3"
  },
  "language_info": {
   "codemirror_mode": {
    "name": "ipython",
    "version": 3
   },
   "file_extension": ".py",
   "mimetype": "text/x-python",
   "name": "python",
   "nbconvert_exporter": "python",
   "pygments_lexer": "ipython3",
   "version": "3.6.5"
  }
 },
 "nbformat": 4,
 "nbformat_minor": 2
}
