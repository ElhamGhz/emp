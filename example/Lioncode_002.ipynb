{
 "cells": [
  {
   "cell_type": "markdown",
   "metadata": {},
   "source": [
    "#### [Lioncode 002 Medium] [Sort Array with A Few Outliers](https://www.1point3acres.com/bbs/thread-511222-1-1.html)\n",
    "\n",
    "Given an originaly sorted array (increasingly), where k numbers (k is unkown) are replaced. You are asked to sort this array again.\n",
    "\n",
    "Example 1:\n",
    "```\n",
    "Input: [1,3,200,7,8,100]  \n",
    "Output: [1,3,7,8,100,200]\n",
    "```\n",
    "\n",
    "Example 2:\n",
    "```\n",
    "Input: [1,3,2,4,5,7,6,8]\n",
    "Output: [1,2,3,4,5,6,7,8]\n",
    "```\n",
    "Note:\n",
    "* Can you realize it in time O(nlogn)?\n",
    "* Can you realize it in time O(nlogk)?\n",
    "* Can you realize it in time O(n + klogk)?"
   ]
  },
  {
   "cell_type": "markdown",
   "metadata": {
    "collapsed": true
   },
   "source": [
    "<font color='blue'>Solution 1: </font> Sort the array directly  \n",
    "* Time Complexity: O(nlogn)"
   ]
  },
  {
   "cell_type": "code",
   "execution_count": 1,
   "metadata": {
    "collapsed": true
   },
   "outputs": [],
   "source": [
    "class Solution(object):\n",
    "    def sorting(self, arr):\n",
    "        if not arr:\n",
    "            return arr\n",
    "        \n",
    "        arr.sort()\n",
    "        \n",
    "        return arr"
   ]
  },
  {
   "cell_type": "code",
   "execution_count": 5,
   "metadata": {},
   "outputs": [
    {
     "name": "stdout",
     "output_type": "stream",
     "text": [
      "[1, 3, 7, 8, 100, 200]\n",
      "[1, 2, 3, 4, 5, 6, 7, 8]\n"
     ]
    }
   ],
   "source": [
    "soln = Solution()\n",
    "print(soln.sorting(arr=[1,3,200,7,8,100]))\n",
    "print(soln.sorting(arr=[1,3,2,4,5,7,6,8]))"
   ]
  },
  {
   "cell_type": "markdown",
   "metadata": {},
   "source": [
    "<font color='blue'>Solution 2: </font> 发现一个异常点(当遇到一个数字大于它后面的数字)就重新开一个数组，这样遍历一遍后就会得到至多k个升序数组，然后就merge k sorted list\n",
    "* Time Complexity: O(nlogk)\n",
    "  * iteration to divide arr into subarr: O(n)\n",
    "  * heap: O(nlogk)\n",
    "* Space Complexity: O(n)\n",
    "  * subarr: O(n)\n",
    "  * heap: O(k)"
   ]
  },
  {
   "cell_type": "code",
   "execution_count": 13,
   "metadata": {
    "collapsed": true
   },
   "outputs": [],
   "source": [
    "import heapq\n",
    "\n",
    "class Solution(object):\n",
    "    def sorting(self, arr):\n",
    "        if not arr:\n",
    "            return arr\n",
    "        \n",
    "        lists = []\n",
    "        subarr = [] # to store a sorted subarray\n",
    "        for index in range(0, len(arr)):\n",
    "            subarr.append(arr[index])\n",
    "            \n",
    "            # bug free: do not forget the case related to the last element\n",
    "            if ((index + 1 == len(arr)) \n",
    "                or (index + 1 < len(arr) and arr[index] > arr[index + 1])):\n",
    "                lists.append(subarr)\n",
    "                subarr = []\n",
    "        \n",
    "        sorted_arr = self.merge_sorted_arraies(lists)\n",
    "        return sorted_arr\n",
    "    \n",
    "    def merge_sorted_arraies(self, lists):\n",
    "        if not lists:\n",
    "            return []\n",
    "        \n",
    "        k = len(lists)\n",
    "        heap = []\n",
    "        \n",
    "        for i in range(k):\n",
    "            if lists[i]:\n",
    "                heapq.heappush(heap, (lists[i][0], i, 0))\n",
    "        \n",
    "        sorted_arr = []\n",
    "        while heap:\n",
    "            value, row, index = heapq.heappop(heap)\n",
    "            sorted_arr.append(value)\n",
    "            if index + 1 < len(lists[row]):\n",
    "                heapq.heappush(heap, (lists[row][index + 1], row, index + 1))\n",
    "                \n",
    "        return sorted_arr                "
   ]
  },
  {
   "cell_type": "code",
   "execution_count": 14,
   "metadata": {},
   "outputs": [
    {
     "name": "stdout",
     "output_type": "stream",
     "text": [
      "[1, 3, 7, 8, 100, 200]\n",
      "[1, 2, 3, 4, 5, 6, 7, 8]\n"
     ]
    }
   ],
   "source": [
    "soln = Solution()\n",
    "print(soln.sorting(arr=[1,3,200,7,8,100]))\n",
    "print(soln.sorting(arr=[1,3,2,4,5,7,6,8]))"
   ]
  },
  {
   "cell_type": "markdown",
   "metadata": {},
   "source": [
    "<font color='blue'>Solution 3: </font> 扫描，发现异常点以后，就把这个点和之前的那个点拿出来，这样扫描一遍后就会得到两个数组，一个是已经升序的，另外一个是2k未排序的。klogk排序乱序短数组，然后merge 2 sorted list，然后就merge k sorted list。遍历， 每次遍历和栈顶元素比较，碰到比栈顶小的数就把栈顶元素pop,和当前值一起存到另一个数组。这样一遍遍历下来得到两个数组，可以保证存在栈里的数组是单调的，另一个数组的size应该是O（k）,然后sort一下，merge 两个数组。复杂度是 n+klogk。\n",
    "* Time Complexity: O(n + klogk)\n",
    "  * Iteration: O(n)\n",
    "  * Sort the execptions: O(2klog(2k))\n",
    "  * Merge: O(n)\n",
    "* Space Complexity: O(n + log(k))\n",
    "  * Iteration with stack: O(n)\n",
    "  * Sort the exceptions: O(log(2k))\n",
    "  * Merge: O(1)"
   ]
  },
  {
   "cell_type": "code",
   "execution_count": 25,
   "metadata": {
    "collapsed": true
   },
   "outputs": [],
   "source": [
    "class Solution(object):\n",
    "    def sorting(self, arr):\n",
    "        if not arr:\n",
    "            return arr\n",
    "        \n",
    "        stack_sorted = []  # store the sorted elements\n",
    "        stack_unsorted = []  # store the exceptional elements\n",
    "        \n",
    "        for num in arr:\n",
    "            if stack_sorted and num < stack_sorted[-1]:\n",
    "                stack_unsorted.append(stack_sorted.pop())\n",
    "                stack_unsorted.append(num)\n",
    "            else:\n",
    "                stack_sorted.append(num)\n",
    "        \n",
    "        stack_unsorted.sort()        \n",
    "        #print(stack_sorted, stack_unsorted)\n",
    "        \n",
    "        return self.merge(stack_sorted, stack_unsorted)\n",
    "        \n",
    "    def merge(self, arr1, arr2):\n",
    "        if not arr1:\n",
    "            return arr2\n",
    "        if not arr2:\n",
    "            return arr1\n",
    "        \n",
    "        result = []\n",
    "        index1, index2 = 0, 0\n",
    "        while index1 < len(arr1) and index2 < len(arr2):\n",
    "            if arr1[index1] <= arr2[index2]:\n",
    "                result.append(arr1[index1])\n",
    "                index1 += 1\n",
    "            else:\n",
    "                result.append(arr2[index2])\n",
    "                index2 += 1\n",
    "        \n",
    "        while index1 < len(arr1):\n",
    "            result.append(arr1[index1])\n",
    "            index1 += 1\n",
    "            \n",
    "        while index2 < len(arr2):\n",
    "            result.append(arr2[index2])\n",
    "            index2 += 1\n",
    "            \n",
    "        return result"
   ]
  },
  {
   "cell_type": "code",
   "execution_count": 24,
   "metadata": {},
   "outputs": [
    {
     "name": "stdout",
     "output_type": "stream",
     "text": [
      "[1, 3, 8, 100] [7, 200]\n",
      "[1, 3, 7, 8, 100, 200]\n",
      "[1, 4, 5, 8] [2, 3, 6, 7]\n",
      "[1, 2, 3, 4, 5, 6, 7, 8]\n"
     ]
    }
   ],
   "source": [
    "soln = Solution()\n",
    "print(soln.sorting(arr=[1,3,200,7,8,100]))\n",
    "print(soln.sorting(arr=[1,3,2,4,5,7,6,8]))"
   ]
  },
  {
   "cell_type": "code",
   "execution_count": null,
   "metadata": {
    "collapsed": true
   },
   "outputs": [],
   "source": []
  }
 ],
 "metadata": {
  "kernelspec": {
   "display_name": "Python 3",
   "language": "python",
   "name": "python3"
  },
  "language_info": {
   "codemirror_mode": {
    "name": "ipython",
    "version": 3
   },
   "file_extension": ".py",
   "mimetype": "text/x-python",
   "name": "python",
   "nbconvert_exporter": "python",
   "pygments_lexer": "ipython3",
   "version": "3.6.3"
  }
 },
 "nbformat": 4,
 "nbformat_minor": 2
}
