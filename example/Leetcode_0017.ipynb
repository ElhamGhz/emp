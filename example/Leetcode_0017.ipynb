{
 "cells": [
  {
   "cell_type": "markdown",
   "metadata": {},
   "source": [
    "#### [Leetcode 17 Medium] [Letter Combinations of a Phone Number](https://leetcode.com/problems/letter-combinations-of-a-phone-number/)\n",
    "\n",
    "Given a string containing digits from 2-9 inclusive, return all possible letter combinations that the number could represent.\n",
    "\n",
    "A mapping of digit to letters (just like on the telephone buttons) is given below. Note that 1 does not map to any letters.\n",
    "\n",
    "<img src=\"Source/Leetcode_017.png\">\n",
    "\n",
    "Example:\n",
    "```\n",
    "Input: \"23\"\n",
    "Output: [\"ad\", \"ae\", \"af\", \"bd\", \"be\", \"bf\", \"cd\", \"ce\", \"cf\"].\n",
    "```\n",
    "\n",
    "Note:\n",
    "* Although the above answer is in lexicographical order, your answer could be in any order you want."
   ]
  },
  {
   "cell_type": "code",
   "execution_count": 4,
   "metadata": {},
   "outputs": [
    {
     "name": "stdout",
     "output_type": "stream",
     "text": [
      "['ad', 'ae', 'af', 'bd', 'be', 'bf', 'cd', 'ce', 'cf']\n"
     ]
    }
   ],
   "source": [
    "class Solution(object):\n",
    "    def letterCombinations(self, digits):\n",
    "        \"\"\"\n",
    "        :type digits: str\n",
    "        :rtype: List[str]\n",
    "        \"\"\"\n",
    "        \n",
    "        if not digits:\n",
    "            return []\n",
    "        \n",
    "        dic = {'2': ['a', 'b', 'c'], \n",
    "               '3': ['d', 'e', 'f'], \n",
    "               '4': ['g', 'h', 'i'], \n",
    "               '5': ['j', 'k', 'l'], \n",
    "               '6': ['m', 'n', 'o'], \n",
    "               '7': ['p', 'q', 'r', 's'], \n",
    "               '8': ['t', 'u', 'v'], \n",
    "               '9': ['w', 'x', 'y', 'z'], \n",
    "              }\n",
    "        \n",
    "        result, solution = [], []\n",
    "        self.dfs(result, solution, 0, digits, dic)\n",
    "        \n",
    "        return result\n",
    "        \n",
    "    def dfs(self, result, solution, stage_idx, digits, dic):\n",
    "        if stage_idx == len(digits):\n",
    "            result.append(''.join(solution[:]))\n",
    "            return\n",
    "        \n",
    "        for char in dic[digits[stage_idx]]:\n",
    "            solution.append(char)\n",
    "            self.dfs(result, solution, stage_idx + 1, digits, dic)\n",
    "            solution.pop()\n",
    "            \n",
    "if __name__ == \"__main__\":\n",
    "    soln = Solution()\n",
    "    \n",
    "    print(soln.letterCombinations(digits='23'))"
   ]
  },
  {
   "cell_type": "code",
   "execution_count": null,
   "metadata": {},
   "outputs": [],
   "source": []
  }
 ],
 "metadata": {
  "kernelspec": {
   "display_name": "Python 3",
   "language": "python",
   "name": "python3"
  },
  "language_info": {
   "codemirror_mode": {
    "name": "ipython",
    "version": 3
   },
   "file_extension": ".py",
   "mimetype": "text/x-python",
   "name": "python",
   "nbconvert_exporter": "python",
   "pygments_lexer": "ipython3",
   "version": "3.6.5"
  }
 },
 "nbformat": 4,
 "nbformat_minor": 2
}
