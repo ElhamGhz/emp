{
 "cells": [
  {
   "cell_type": "markdown",
   "metadata": {},
   "source": [
    "#### [Leetcode 986 Medium] [Interval List Intersections](https://leetcode.com/problems/interval-list-intersections/)\n",
    "Given two lists of closed intervals, each list of intervals is pairwise disjoint and in sorted order.\n",
    "\n",
    "Return the intersection of these two interval lists.\n",
    "\n",
    "(Formally, a closed interval [a, b] (with a <= b) denotes the set of real numbers x with a <= x <= b.  The intersection of two closed intervals is a set of real numbers that is either empty, or can be represented as a closed interval.  For example, the intersection of [1, 3] and [2, 4] is [2, 3].)\n",
    "\n",
    "Example 1:\n",
    "```\n",
    "Input: A = [[0,2],[5,10],[13,23],[24,25]], B = [[1,5],[8,12],[15,24],[25,26]]\n",
    "Output: [[1,2],[5,5],[8,10],[15,23],[24,24],[25,25]]\n",
    "Reminder: The inputs and the desired output are lists of Interval objects, and not arrays or lists.\n",
    "```"
   ]
  },
  {
   "cell_type": "code",
   "execution_count": 4,
   "metadata": {},
   "outputs": [],
   "source": [
    "class Solution:\n",
    "    def intervalIntersection(self, A, B):\n",
    "        if not A or not B:\n",
    "            return []\n",
    "        \n",
    "        index_A, index_B = 0, 0\n",
    "        results = []\n",
    "        \n",
    "        while index_A < len(A) and index_B < len(B):\n",
    "            start = max(A[index_A][0], B[index_B][0])\n",
    "            end = min(A[index_A][1], B[index_B][1])\n",
    "            if start <= end:\n",
    "                results.append([start, end])\n",
    "            if A[index_A][1] < B[index_B][1]:\n",
    "                index_A += 1\n",
    "            else:\n",
    "                index_B += 1\n",
    "                \n",
    "        return results\n",
    "    \n",
    "    def intervalIntersection2(self, A, B):\n",
    "        # edge case\n",
    "        if not A or not B:\n",
    "            return []\n",
    "        \n",
    "        return self.helper(A, B, 0, 0)\n",
    "    \n",
    "    def helper(self, A, B, index_A, index_B):\n",
    "        # Base case\n",
    "        if index_A == len(A) or index_B == len(B):\n",
    "            return []\n",
    "        \n",
    "        # what to get from your children\n",
    "        if A[index_A][1] < B[index_B][1]:\n",
    "            child_result = self.helper(A, B, index_A + 1, index_B)\n",
    "        else:\n",
    "            child_result = self.helper(A, B, index_A, index_B + 1)        \n",
    "        \n",
    "        # what to do in the current layer\n",
    "        start = max(A[index_A][0], B[index_B][0])\n",
    "        end = min(A[index_A][1], B[index_B][1])\n",
    "        if start <= end:\n",
    "            current_result = ([start, end])\n",
    "        else:\n",
    "            current_result = []\n",
    "            \n",
    "        results = []\n",
    "        if current_result:\n",
    "            results.append(current_result)\n",
    "        if child_result:\n",
    "            results += child_result\n",
    "            \n",
    "        # what to return to your parent\n",
    "        return results\n",
    "        "
   ]
  },
  {
   "cell_type": "code",
   "execution_count": 6,
   "metadata": {},
   "outputs": [
    {
     "name": "stdout",
     "output_type": "stream",
     "text": [
      "[[1, 2], [5, 5], [8, 10], [15, 23], [24, 24], [25, 25]]\n"
     ]
    }
   ],
   "source": [
    "soln = Solution()\n",
    "print(soln.intervalIntersection(A = [[0,2],[5,10],[13,23],[24,25]], B = [[1,5],[8,12],[15,24],[25,26]]))"
   ]
  },
  {
   "cell_type": "markdown",
   "metadata": {},
   "source": [
    "#### Follow up: 给两个Array of intervals， 每个array内部是无序的，也可能有overlap。求这两个array所覆盖的区域之间有没有overlap.\n",
    "\n",
    "Solution: \n",
    "* Sort the two array first\n",
    "* Merge the overlapped intervals in each array\n",
    "* Get the intersection of two preprocessed array"
   ]
  },
  {
   "cell_type": "code",
   "execution_count": null,
   "metadata": {
    "collapsed": true
   },
   "outputs": [],
   "source": []
  },
  {
   "cell_type": "code",
   "execution_count": null,
   "metadata": {
    "collapsed": true
   },
   "outputs": [],
   "source": []
  }
 ],
 "metadata": {
  "kernelspec": {
   "display_name": "Python 3",
   "language": "python",
   "name": "python3"
  },
  "language_info": {
   "codemirror_mode": {
    "name": "ipython",
    "version": 3
   },
   "file_extension": ".py",
   "mimetype": "text/x-python",
   "name": "python",
   "nbconvert_exporter": "python",
   "pygments_lexer": "ipython3",
   "version": "3.6.5"
  }
 },
 "nbformat": 4,
 "nbformat_minor": 2
}
