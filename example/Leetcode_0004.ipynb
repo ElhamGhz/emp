{
 "cells": [
  {
   "cell_type": "markdown",
   "metadata": {},
   "source": [
    "#### [Leetcode 0004 Hard] [Median of Two Sorted Arrays](https://leetcode.com/problems/median-of-two-sorted-arrays/)\n",
    "\n",
    "There are two sorted arrays nums1 and nums2 of size m and n respectively.\n",
    "\n",
    "Find the median of the two sorted arrays. The overall run time complexity should be O(log (m+n)).\n",
    "\n",
    "You may assume nums1 and nums2 cannot be both empty.\n",
    "\n",
    "Example 1:\n",
    "```\n",
    "nums1 = [1, 3]\n",
    "nums2 = [2]\n",
    "The median is 2.0\n",
    "```\n",
    "Example 2:\n",
    "```\n",
    "nums1 = [1, 2]\n",
    "nums2 = [3, 4]\n",
    "The median is (2 + 3)/2 = 2.5\n",
    "```"
   ]
  },
  {
   "cell_type": "markdown",
   "metadata": {},
   "source": [
    "subquestion: find the k-th largest element in the two sorted arrays\n",
    "\n",
    "```\n",
    "Step 1: k = n//2 + 1 = 6, k//2 - 1 = 2\n",
    "nums1 = [1, 3, 5, 7, 9]\n",
    "               |\n",
    "             k//2-1\n",
    "nums2 = [0, 2, 4, 6, 8, 10]\n",
    "               |\n",
    "             k//2-1\n",
    "nums1[k//2-1] >= nums2[k//2-1], ==> nums2[0:k//2] < nums[k] ==> Drop nums2[0:k//2], ie, nums2[0:2]\n",
    "\n",
    "Step 2: k = k-k//2 = 3, k//2 - 1 = 0\n",
    "nums1 = [1, 3, 5, 7, 9]\n",
    "         |\n",
    "       k//2-1\n",
    "nums2 = [4, 6, 8, 10]\n",
    "         |\n",
    "       k//2-1\n",
    "nums1[k//2-1] < nums2[k//2-1], ==> nums1[0:k//2] < nums[k] ==> Drop nums1[0:k//2], ie, nums1[0]\n",
    "\n",
    "Step 3: k = k-k//2 = 2, k//2 - 1 = 0\n",
    "nums1 = [3, 5, 7, 9]\n",
    "         |\n",
    "       k//2-1\n",
    "nums2 = [4, 6, 8, 10]\n",
    "         |\n",
    "       k//2-1\n",
    "nums1[k//2-1] < nums2[k//2-1], ==> nums1[0:k//2] < nums[k] ==> Drop nums1[0:k//2], ie, nums1[0]\n",
    "\n",
    "Step 4: k = k-k//2 = 1, k//2 - 1 = -1\n",
    "nums1 = [5, 7, 9]\n",
    "         |\n",
    "       k//2-1\n",
    "nums2 = [6, 8, 10]\n",
    "         |\n",
    "       k//2-1\n",
    "nums1[k//2-1] < nums2[k//2-1], ==> return min(nums1[0], nums[0]) ==> return 5\n",
    "```"
   ]
  },
  {
   "cell_type": "code",
   "execution_count": 2,
   "metadata": {},
   "outputs": [
    {
     "name": "stdout",
     "output_type": "stream",
     "text": [
      "True\n",
      "True\n"
     ]
    }
   ],
   "source": [
    "class Solution:\n",
    "    def findMedianSortedArrays(self, nums1, nums2):\n",
    "        \"\"\"\n",
    "        :type nums1: List[int]\n",
    "        :type nums2: List[int]\n",
    "        :rtype: float\n",
    "        \"\"\"\n",
    "        n = len(nums1) + len(nums2)\n",
    "        if n % 2 == 1:\n",
    "            return self.findKth(nums1, nums2, n//2 + 1)\n",
    "        else:\n",
    "            smaller = self.findKth(nums1, nums2, n//2)\n",
    "            bigger = self.findKth(nums1, nums2, n//2 + 1)\n",
    "            return (smaller + bigger) / 2.0\n",
    "\n",
    "    def findKth(self, nums1, nums2, k):\n",
    "        if len(nums1) == 0:\n",
    "            return nums2[k - 1]\n",
    "        if len(nums2) == 0:\n",
    "            return nums1[k - 1]\n",
    "        if k == 1:\n",
    "            return min(nums1[0], nums2[0])\n",
    "        \n",
    "        a = nums1[k//2 - 1] if len(nums1) >= k//2 else float('inf')\n",
    "        b = nums2[k//2 - 1] if len(nums2) >= k//2 else float('inf')\n",
    "        \n",
    "        if a < b:\n",
    "            return self.findKth(nums1[k // 2:], nums2, k - k//2)\n",
    "        else:\n",
    "            return self.findKth(nums1, nums2[k // 2:], k - k//2)\n",
    "        \n",
    "if __name__ == \"__main__\":\n",
    "    soln = Solution()\n",
    "    print(soln.findMedianSortedArrays(nums1=[1, 3], nums2=[2]) == 2)\n",
    "    print(soln.findMedianSortedArrays(nums1=[1, 2], nums2=[3, 4]) == 2.5)"
   ]
  },
  {
   "cell_type": "code",
   "execution_count": null,
   "metadata": {},
   "outputs": [],
   "source": []
  }
 ],
 "metadata": {
  "kernelspec": {
   "display_name": "Python 3",
   "language": "python",
   "name": "python3"
  },
  "language_info": {
   "codemirror_mode": {
    "name": "ipython",
    "version": 3
   },
   "file_extension": ".py",
   "mimetype": "text/x-python",
   "name": "python",
   "nbconvert_exporter": "python",
   "pygments_lexer": "ipython3",
   "version": "3.6.5"
  }
 },
 "nbformat": 4,
 "nbformat_minor": 2
}
