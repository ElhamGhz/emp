{
 "cells": [
  {
   "cell_type": "markdown",
   "metadata": {},
   "source": [
    "#### Question: [Leetcode 346 Easy] [Moving Average from Data Stream](https://leetcode.com/problems/moving-average-from-data-stream/)\n",
    "\n",
    "Given a stream of integers and a window size, calculate the moving average of all integers in the sliding window.\n",
    "\n",
    "Example:\n",
    "```\n",
    "MovingAverage m = new MovingAverage(3);\n",
    "m.next(1) = 1\n",
    "m.next(10) = (1 + 10) / 2\n",
    "m.next(3) = (1 + 10 + 3) / 3\n",
    "m.next(5) = (10 + 3 + 5) / 3\n",
    "```"
   ]
  },
  {
   "cell_type": "markdown",
   "metadata": {
    "collapsed": true
   },
   "source": [
    "<font color='blue'>Solution: </font>"
   ]
  },
  {
   "cell_type": "code",
   "execution_count": 1,
   "metadata": {
    "collapsed": true
   },
   "outputs": [],
   "source": [
    "from collections import deque\n",
    "\n",
    "class MovingAverage(object):\n",
    "\n",
    "    def __init__(self, size):\n",
    "        \"\"\"\n",
    "        Initialize your data structure here.\n",
    "        :type size: int\n",
    "        \"\"\"\n",
    "        self.queue = deque()\n",
    "        self.size = size\n",
    "        self.sums = 0       \n",
    "        \n",
    "\n",
    "    def next(self, val):\n",
    "        \"\"\"\n",
    "        :type val: int\n",
    "        :rtype: float\n",
    "        \"\"\"\n",
    "        if len(self.queue) >= self.size:\n",
    "            self.sums -= self.queue.popleft()\n",
    "        self.queue.append(val)\n",
    "        self.sums += val\n",
    "        return self.sums / len(self.queue)\n",
    "        \n",
    "\n",
    "\n",
    "# Your MovingAverage object will be instantiated and called as such:\n",
    "# obj = MovingAverage(size)\n",
    "# param_1 = obj.next(val)"
   ]
  },
  {
   "cell_type": "code",
   "execution_count": null,
   "metadata": {
    "collapsed": true
   },
   "outputs": [],
   "source": []
  },
  {
   "cell_type": "markdown",
   "metadata": {},
   "source": [
    "#### Follow up Question: Realize API for SpeedSmoother\n"
   ]
  },
  {
   "cell_type": "code",
   "execution_count": 11,
   "metadata": {},
   "outputs": [
    {
     "name": "stdout",
     "output_type": "stream",
     "text": [
      "deque([(0.5, 3)])\n",
      "deque([(0.5, 3), (2.5, 8)])\n",
      "deque([(0.5, 3), (2.5, 8), (3, 13)])\n",
      "deque([(0.5, 3), (2.5, 8), (3, 13), (4, 17)])\n",
      "deque([(0.5, 3), (2.5, 8), (3, 13), (4, 17), (5, 20)])\n",
      "deque([(0.5, 3), (2.5, 8), (3, 13), (4, 17), (5, 20), (7, 28)])\n",
      "deque([(0.5, 3), (2.5, 8), (3, 13), (4, 17), (5, 20), (7, 28), (8, 29)])\n",
      "deque([(0.5, 3), (2.5, 8), (3, 13), (4, 17), (5, 20), (7, 28), (8, 29), (9, 34)])\n",
      "deque([(0.5, 3), (2.5, 8), (3, 13), (4, 17), (5, 20), (7, 28), (8, 29), (9, 34), (10, 38)])\n",
      "deque([(2.5, 8), (3, 13), (4, 17), (5, 20), (7, 28), (8, 29), (9, 34), (10, 38), (11, 42)])\n",
      "4 28 42 14 4\n",
      "Average speed in the last 3 seconds:  3.5\n",
      "3 20 42 22 5\n",
      "Average speed in the last 5 seconds:  4.4\n"
     ]
    }
   ],
   "source": [
    "from collections import deque\n",
    "\n",
    "class SpeedSmoother:\n",
    "    #pass  # you should implement this class\n",
    "    def __init__(self, max_duration=10):\n",
    "        self.queue = deque() # (time, prefix_sum)\n",
    "        #self.sums = deque()\n",
    "        self.max_duration = max_duration\n",
    "\n",
    "    def feed(self, time, speed):\n",
    "        if not self.queue:\n",
    "            self.queue.append((time, speed))\n",
    "        else:\n",
    "            # pop()\n",
    "            while self.queue:\n",
    "                prev_time, prev_sum = self.queue[0]\n",
    "                duration = time - prev_time\n",
    "                if duration <= self.max_duration:\n",
    "                    break\n",
    "                self.queue.popleft()\n",
    "\n",
    "            if self.queue:\n",
    "                self.queue.append((time, speed + self.queue[-1][1]))\n",
    "            else:\n",
    "                self.queue.append((time, speed))\n",
    "\n",
    "    def average_speed(self, time_zone):\n",
    "        if not self.queue:\n",
    "            return 0.0\n",
    "\n",
    "        curr_time, curr_sum = self.queue[-1]\n",
    "        target_time = curr_time - time_zone\n",
    "\n",
    "        # use binary search to find the first index in the queue larger/== the target\n",
    "        target_index = self.binary_search(target_time) - 1\n",
    "      \n",
    "        if target_index is not None:\n",
    "            \n",
    "            target_sum = self.queue[target_index][1]\n",
    "            total = curr_sum - target_sum\n",
    "            length = len(self.queue) - target_index - 1 \n",
    "            print(target_index, target_sum, curr_sum, total, length)\n",
    "\n",
    "            return total / length\n",
    "        else:\n",
    "            return 0.0\n",
    "\n",
    "\n",
    "    def binary_search(self, target_time):\n",
    "        left = 0\n",
    "        right = len(self.queue)\n",
    "\n",
    "        while left < right - 1:\n",
    "            mid = left + (right - left) // 2\n",
    "\n",
    "            mid_time = self.queue[mid][0]\n",
    "            if mid_time < target_time:\n",
    "                left = mid\n",
    "            elif mid_time > target_time:\n",
    "                right = mid\n",
    "            else:\n",
    "                return mid\n",
    "\n",
    "        if self.queue[left][0] >= target_time:\n",
    "            return left\n",
    "        elif self.queue[right][0] >= target_time:\n",
    "            return right\n",
    "        else:\n",
    "            return None\n",
    "\n",
    "# Usage\n",
    "smoother = SpeedSmoother(max_duration=10)\n",
    "\n",
    "data = [(0.5, 3), (2.5, 5), (3, 5), (4, 4), (5, 3), (7, 8), (8, 1), (9, 5), (10, 4), (11, 4)]\n",
    "for t, speed in data:\n",
    "    smoother.feed(t, speed)\n",
    "    print(smoother.queue)\n",
    "    \n",
    "print(\"Average speed in the last 3 seconds: \", smoother.average_speed(3))\n",
    "print(\"Average speed in the last 5 seconds: \", smoother.average_speed(5))\n",
    "\n",
    "# (0.5, 3), (2.5, 5), (3, 5), (4, 4), ..., (11, 5)\n",
    "# (0.5 ), ( 0.8),  ,,,. (11, 5)\n",
    "# average_speed(3) = (5 + 5 + 4) / 3"
   ]
  },
  {
   "cell_type": "code",
   "execution_count": null,
   "metadata": {
    "collapsed": true
   },
   "outputs": [],
   "source": []
  },
  {
   "cell_type": "code",
   "execution_count": null,
   "metadata": {
    "collapsed": true
   },
   "outputs": [],
   "source": []
  }
 ],
 "metadata": {
  "kernelspec": {
   "display_name": "Python 3",
   "language": "python",
   "name": "python3"
  },
  "language_info": {
   "codemirror_mode": {
    "name": "ipython",
    "version": 3
   },
   "file_extension": ".py",
   "mimetype": "text/x-python",
   "name": "python",
   "nbconvert_exporter": "python",
   "pygments_lexer": "ipython3",
   "version": "3.6.3"
  }
 },
 "nbformat": 4,
 "nbformat_minor": 2
}
