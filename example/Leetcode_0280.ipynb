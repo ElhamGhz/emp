{
 "cells": [
  {
   "cell_type": "markdown",
   "metadata": {},
   "source": [
    "#### [Leetcode 280 Medium] [Wiggle Sort](https://leetcode.com/problems/wiggle-sort/)\n",
    "\n",
    "Given an unsorted array nums, reorder it in-place such that nums[0] <= nums[1] >= nums[2] <= nums[3]....\n",
    "\n",
    "Example:\n",
    "```\n",
    "Input: nums = [3,5,2,1,6,4]\n",
    "Output: One possible answer is [3,5,1,6,2,4]\n",
    "```"
   ]
  },
  {
   "cell_type": "markdown",
   "metadata": {},
   "source": [
    "<font color='blue'>Solution: </font> Sorting  \n",
    "\n",
    "A Simple Solution is to use sorting. First sort the input array, then swap all adjacent elements.\n",
    "\n",
    "For example, let the input array be {3, 6, 5, 10, 7, 20}. After sorting, we get {3, 5, 6, 7, 10, 20}. After swapping adjacent elements, we get {3, 6, 5, 10, 7, 20}.\n",
    "\n",
    "* Time Complexity: O(nlogn)\n",
    "* Space Complexity: O(logn)"
   ]
  },
  {
   "cell_type": "code",
   "execution_count": 2,
   "metadata": {},
   "outputs": [],
   "source": [
    "class Solution(object):\n",
    "    def wiggleSort(self, nums):\n",
    "        \"\"\"\n",
    "        :type nums: List[int]\n",
    "        :rtype: None Do not return anything, modify nums in-place instead.\n",
    "        \"\"\"\n",
    "        if not nums or len(nums) <= 1:\n",
    "            return \n",
    "        \n",
    "        nums.sort()\n",
    "        \n",
    "        slow, fast = 1, 2\n",
    "        \n",
    "        while slow < len(nums) and fast < len(nums):\n",
    "            nums[slow], nums[fast] = nums[fast], nums[slow]\n",
    "            slow += 2\n",
    "            fast += 2"
   ]
  },
  {
   "cell_type": "markdown",
   "metadata": {
    "collapsed": true
   },
   "source": [
    "<font color='blue'>Solution: </font> Odd Even  \n",
    "\n",
    "根据题目要求的nums[0] <= nums[1] >= nums[2] <= nums[3]....，我们可以总结出如下规律：\n",
    "\n",
    "当i为奇数时，nums[i] >= nums[i - 1]\n",
    "\n",
    "当i为偶数时，nums[i] <= nums[i - 1]\n",
    "\n",
    "那么我们只要对每个数字，根据其奇偶性，跟其对应的条件比较，如果不符合就和前面的数交换位置即可，参见代码如下：acent elements, we get {3, 6, 5, 10, 7, 20}.\n",
    "\n",
    "* Time Complexity: O(n)\n",
    "* Space Complexity: O(1)"
   ]
  },
  {
   "cell_type": "code",
   "execution_count": 3,
   "metadata": {},
   "outputs": [],
   "source": [
    "class Solution(object):\n",
    "    def wiggleSort(self, nums):\n",
    "        \"\"\"\n",
    "        :type nums: List[int]\n",
    "        :rtype: None Do not return anything, modify nums in-place instead.\n",
    "        奇大偶小\n",
    "        \"\"\"\n",
    "        if not nums or len(nums) <= 1:\n",
    "            return\n",
    "        \n",
    "        for i in range(1, len(nums)):\n",
    "            if ((i % 2 == 1 and nums[i] < nums[i - 1]) or \n",
    "                (i % 2 == 0 and nums[i] > nums[i - 1])):\n",
    "                nums[i - 1], nums[i] = nums[i], nums[i - 1]\n",
    "                "
   ]
  },
  {
   "cell_type": "code",
   "execution_count": null,
   "metadata": {},
   "outputs": [],
   "source": []
  }
 ],
 "metadata": {
  "kernelspec": {
   "display_name": "Python 3",
   "language": "python",
   "name": "python3"
  },
  "language_info": {
   "codemirror_mode": {
    "name": "ipython",
    "version": 3
   },
   "file_extension": ".py",
   "mimetype": "text/x-python",
   "name": "python",
   "nbconvert_exporter": "python",
   "pygments_lexer": "ipython3",
   "version": "3.6.5"
  }
 },
 "nbformat": 4,
 "nbformat_minor": 2
}
