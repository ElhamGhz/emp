{
 "cells": [
  {
   "cell_type": "markdown",
   "metadata": {},
   "source": [
    "#### [Leetcode 2 Medium] [Add Two Numbers](Leetcode_0002.ipynb) \n",
    "\n",
    "You are given two non-empty linked lists representing two non-negative integers. The digits are stored in reverse order and each of their nodes contain a single digit. Add the two numbers and return it as a linked list.\n",
    "\n",
    "You may assume the two numbers do not contain any leading zero, except the number 0 itself.\n",
    "\n",
    "Example:\n",
    "```\n",
    "Input: (2 -> 4 -> 3) + (5 -> 6 -> 4)\n",
    "Output: 7 -> 0 -> 8\n",
    "Explanation: 342 + 465 = 807.\n",
    "```"
   ]
  },
  {
   "cell_type": "code",
   "execution_count": 2,
   "metadata": {},
   "outputs": [],
   "source": [
    "from helper import ListNode\n",
    "from helper import LinkedList"
   ]
  },
  {
   "cell_type": "code",
   "execution_count": 3,
   "metadata": {},
   "outputs": [
    {
     "name": "stdout",
     "output_type": "stream",
     "text": [
      "(2 .-)->(4 .-)->(3 .-)->NULL\n",
      "(5 .-)->(6 .-)->(4 .-)->NULL\n",
      "(7 .-)->(0 .-)->(8 .-)->NULL\n"
     ]
    }
   ],
   "source": [
    "# Definition for singly-linked list.\n",
    "# class ListNode(object):\n",
    "#     def __init__(self, x):\n",
    "#         self.val = x\n",
    "#         self.next = None\n",
    "\n",
    "class Solution(object):\n",
    "    def addTwoNumbers(self, l1, l2):\n",
    "        \"\"\"\n",
    "        :type l1: ListNode\n",
    "        :type l2: ListNode\n",
    "        :rtype: ListNode\n",
    "        \"\"\"\n",
    "        # Edge case\n",
    "        if not l1:\n",
    "            return l2\n",
    "        if not l2:\n",
    "            return l1\n",
    "\n",
    "        head1 = l1\n",
    "        head2 = l2\n",
    "        \n",
    "        # addition\n",
    "        carry = 0\n",
    "        fake_head = ListNode(None)\n",
    "        curr = fake_head\n",
    "        while head1 and head2:\n",
    "            temp = head1.val + head2.val + carry\n",
    "            carry = temp // 10\n",
    "            # create new connection\n",
    "            curr.next = ListNode(temp % 10)\n",
    "            # move forward\n",
    "            curr = curr.next\n",
    "            head1 = head1.next\n",
    "            head2 = head2.next\n",
    "            \n",
    "        while head1:\n",
    "            temp = head1.val + carry\n",
    "            carry = temp // 10\n",
    "            # create new connection\n",
    "            curr.next = ListNode(temp % 10)\n",
    "            # move forward\n",
    "            curr = curr.next\n",
    "            head1 = head1.next\n",
    "        while head2:\n",
    "            temp = head2.val + carry\n",
    "            carry = temp // 10\n",
    "            # create new connection\n",
    "            curr.next = ListNode(temp % 10)\n",
    "            # move forward\n",
    "            curr = curr.next\n",
    "            head2 = head2.next\n",
    "            \n",
    "        if carry:\n",
    "            curr.next = ListNode(carry)\n",
    "        \n",
    "        return fake_head.next\n",
    "    \n",
    "if __name__ == \"__main__\":\n",
    "    linked_list = LinkedList()\n",
    "    \n",
    "    head1 = ListNode(2)\n",
    "    head1.next = ListNode(4)\n",
    "    head1.next.next = ListNode(3)\n",
    "    linked_list.printList(head1)\n",
    "    \n",
    "    head2 = ListNode(5)\n",
    "    head2.next = ListNode(6)\n",
    "    head2.next.next = ListNode(4)\n",
    "    linked_list.printList(head2)\n",
    "    \n",
    "    soln = Solution()\n",
    "    head = soln.addTwoNumbers(head1, head2)\n",
    "    linked_list.printList(head)\n",
    "    "
   ]
  },
  {
   "cell_type": "code",
   "execution_count": null,
   "metadata": {},
   "outputs": [],
   "source": []
  },
  {
   "cell_type": "code",
   "execution_count": null,
   "metadata": {},
   "outputs": [],
   "source": []
  },
  {
   "cell_type": "code",
   "execution_count": null,
   "metadata": {},
   "outputs": [],
   "source": []
  }
 ],
 "metadata": {
  "kernelspec": {
   "display_name": "Python 3",
   "language": "python",
   "name": "python3"
  },
  "language_info": {
   "codemirror_mode": {
    "name": "ipython",
    "version": 3
   },
   "file_extension": ".py",
   "mimetype": "text/x-python",
   "name": "python",
   "nbconvert_exporter": "python",
   "pygments_lexer": "ipython3",
   "version": "3.6.5"
  }
 },
 "nbformat": 4,
 "nbformat_minor": 2
}
