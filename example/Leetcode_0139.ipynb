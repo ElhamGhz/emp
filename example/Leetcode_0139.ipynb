{
 "cells": [
  {
   "cell_type": "markdown",
   "metadata": {},
   "source": [
    "#### [Leetcode 139 Medium] [Word Break](https://leetcode.com/problems/word-break/) \n",
    "\n",
    "Given a non-empty string s and a dictionary wordDict containing a list of non-empty words, determine if s can be segmented into a space-separated sequence of one or more dictionary words.\n",
    "\n",
    "Note:\n",
    "* The same word in the dictionary may be reused multiple times in the segmentation.\n",
    "* You may assume the dictionary does not contain duplicate words.\n",
    "\n",
    "Example 1:\n",
    "```\n",
    "Input: s = \"leetcode\", wordDict = [\"leet\", \"code\"]\n",
    "Output: true\n",
    "Explanation: Return true because \"leetcode\" can be segmented as \"leet code\".\n",
    "```\n",
    "\n",
    "Example 2:\n",
    "```\n",
    "Input: s = \"applepenapple\", wordDict = [\"apple\", \"pen\"]\n",
    "Output: true\n",
    "Explanation: Return true because \"applepenapple\" can be segmented as \"apple pen apple\".\n",
    "             Note that you are allowed to reuse a dictionary word.\n",
    "```\n",
    "\n",
    "Example 3:\n",
    "```\n",
    "Input: s = \"catsandog\", wordDict = [\"cats\", \"dog\", \"sand\", \"and\", \"cat\"]\n",
    "Output: false\n",
    "```"
   ]
  },
  {
   "cell_type": "code",
   "execution_count": null,
   "metadata": {
    "collapsed": true
   },
   "outputs": [],
   "source": [
    "class Solution:\n",
    "    def wordBreak(self, s: str, wordDict: List[str]) -> bool:\n",
    "        \"\"\"\n",
    "        Solution: \n",
    "        https://blog.csdn.net/fuxuemingzhu/article/details/79368360\n",
    "        dp[i]代表的是[0,i)符不符合word break\n",
    "        \"\"\"\n",
    "        dp = [False for _ in range(len(s) + 1)]\n",
    "        \n",
    "        dp[0] = True\n",
    "        for end in range(0, len(s) + 1):\n",
    "            for start in range(0, end):\n",
    "                if dp[start] is True and s[start:end] in wordDict:\n",
    "                    dp[end] = True\n",
    "                    \n",
    "        return dp[-1]"
   ]
  }
 ],
 "metadata": {
  "kernelspec": {
   "display_name": "Python 3",
   "language": "python",
   "name": "python3"
  },
  "language_info": {
   "codemirror_mode": {
    "name": "ipython",
    "version": 3
   },
   "file_extension": ".py",
   "mimetype": "text/x-python",
   "name": "python",
   "nbconvert_exporter": "python",
   "pygments_lexer": "ipython3",
   "version": "3.6.3"
  }
 },
 "nbformat": 4,
 "nbformat_minor": 2
}
