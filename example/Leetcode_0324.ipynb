{
 "cells": [
  {
   "cell_type": "markdown",
   "metadata": {},
   "source": [
    "#### [Leetcode 324 Medium] [Wiggle Sort II](https://leetcode.com/problems/wiggle-sort-ii/)\n",
    "\n",
    "Given an unsorted array nums, reorder it such that nums[0] < nums[1] > nums[2] < nums[3]....\n",
    "\n",
    "Example 1:\n",
    "```\n",
    "Input: nums = [1, 5, 1, 1, 6, 4]\n",
    "Output: One possible answer is [1, 4, 1, 5, 1, 6].\n",
    "```\n",
    "\n",
    "Example 2:\n",
    "```\n",
    "Input: nums = [1, 3, 2, 2, 3, 1]\n",
    "Output: One possible answer is [2, 3, 1, 3, 1, 2].\n",
    "```\n",
    "\n",
    "Note:\n",
    "* You may assume all input has valid answer.\n",
    "\n",
    "Follow Up:\n",
    "* Can you do it in O(n) time and/or in-place with O(1) extra space?"
   ]
  },
  {
   "cell_type": "markdown",
   "metadata": {},
   "source": [
    "<font color='blue'>Solution</font> Sort  \n",
    "\n",
    "一开始想的方法是把数组复制一份，然后按最小、最大、最小...依次放数字，结果WA。\n",
    "\n",
    "比如下面这个例子：[1,3,2,2,3,1]\n",
    "\n",
    "按这个方法得到的输出是[1,3,1,3,2,2]，最后两个数不符合要求。在做的过程中，最小和最大数的差距逐渐缩小，导致最后无法达成严格的大小关系。可见这种方法最大的困难在于如何避免连续两个数相等（甚至可行解就很少）。\n",
    "\n",
    "如果取完最小的，不取当前最大，取一个比较大的数？比如，这个“比较大的数”取排序完靠中间的。上面的例子，排序后是1,1,2, | 2,3,3，取右半边第一个数。但是还是有问题，比如4,5,5,6，按这个方法得到的是4,5,5,6，中间两个又相等了，当排序后中位数不止一个时，就会有这个问题。有效的克服办法是，小的从中间开始递减着取，大的从最大开始递减着取：\n",
    "\n",
    "我们可以先给数组排序，然后在做调整。调整的方法是找到数组的中间的数，相当于把有序数组从中间分成两部分，然后从前半段的末尾取一个，在从后半的末尾去一个，这样保证了第一个数小于第二个数，然后从前半段取倒数第二个，从后半段取倒数第二个，这保证了第二个数大于第三个数，且第三个数小于第四个数，以此类推直至都取完.\n",
    "\n",
    "* Time Complexity: O(nlogn)\n",
    "* Space Complexity: O(n + logn) = O(n)\n",
    "\n",
    "[Source](https://www.cnblogs.com/ilovezyg/p/6901280.html)"
   ]
  },
  {
   "cell_type": "code",
   "execution_count": 11,
   "metadata": {},
   "outputs": [],
   "source": [
    "class Solution(object):\n",
    "    def wiggleSort(self, nums):\n",
    "        \"\"\"\n",
    "        :type nums: List[int]\n",
    "        :rtype: None Do not return anything, modify nums in-place instead.\n",
    "        \"\"\"\n",
    "        sorted_nums = sorted(nums)\n",
    "        \n",
    "        n = len(nums)\n",
    "        mid, end = (n + 1) // 2 - 1, n - 1\n",
    "        \n",
    "        for i in range(n):\n",
    "            # odd\n",
    "            if i & 1:\n",
    "                nums[i] = sorted_nums[end]\n",
    "                end -= 1\n",
    "            # even\n",
    "            elif 0 <= mid:\n",
    "                nums[i] = sorted_nums[mid]\n",
    "                mid -= 1\n",
    "                \n",
    "                "
   ]
  },
  {
   "cell_type": "code",
   "execution_count": 12,
   "metadata": {},
   "outputs": [
    {
     "name": "stdout",
     "output_type": "stream",
     "text": [
      "[1, 6, 1, 5, 1, 4]\n",
      "[1, 6, 1, 5, 1]\n"
     ]
    }
   ],
   "source": [
    "soln = Solution()\n",
    "\n",
    "nums = [1, 5, 1, 1, 6, 4]\n",
    "soln.wiggleSort(nums)\n",
    "print(nums)\n",
    "\n",
    "nums = [1, 5, 1, 1, 6]\n",
    "soln.wiggleSort(nums)\n",
    "print(nums)"
   ]
  },
  {
   "cell_type": "markdown",
   "metadata": {},
   "source": [
    "<font color='blue'>Solution</font> Sort\n",
    "\n",
    "We can avoid to use any extra space to store sorted array\n",
    "\n",
    "* Time Complexity: O(nlogn)\n",
    "* Space Complexity: O(logn)\n",
    "\n",
    "[Source](https://leetcode.com/problems/wiggle-sort-ii/discuss/77678/3-lines-Python-with-Explanation-Proof)"
   ]
  },
  {
   "cell_type": "code",
   "execution_count": 14,
   "metadata": {},
   "outputs": [],
   "source": [
    "class Solution(object):\n",
    "    def wiggleSort(self, nums):\n",
    "        \"\"\"\n",
    "        :type nums: List[int]\n",
    "        :rtype: None Do not return anything, modify nums in-place instead.\n",
    "        \"\"\"\n",
    "        nums.sort()\n",
    "        \n",
    "        half = len(nums[::2])\n",
    "        \n",
    "        nums[::2], nums[1::2] = nums[:half][::-1], nums[half:][::-1]"
   ]
  },
  {
   "cell_type": "code",
   "execution_count": 15,
   "metadata": {},
   "outputs": [
    {
     "name": "stdout",
     "output_type": "stream",
     "text": [
      "[1, 6, 1, 5, 1, 4]\n",
      "[1, 6, 1, 5, 1]\n"
     ]
    }
   ],
   "source": [
    "soln = Solution()\n",
    "\n",
    "nums = [1, 5, 1, 1, 6, 4]\n",
    "soln.wiggleSort(nums)\n",
    "print(nums)\n",
    "\n",
    "nums = [1, 5, 1, 1, 6]\n",
    "soln.wiggleSort(nums)\n",
    "print(nums)"
   ]
  },
  {
   "cell_type": "markdown",
   "metadata": {},
   "source": [
    "<font color='blue'>Solution</font> Partition  \n",
    "\n",
    "能不能优化？比如，完整的排序有没有必要？再看上面的操作，其实我们是想把整个数组划分成左右两部分，使得左边的比右边的小，然后左、右交替着取。这样就自然联想到了快速排序的partition操作，但是这里最好能够将划分做得均衡，因此可以求kth largest element in an array ( https://leetcode.com/problems/kth-largest-element-in-an-array/ )。另外，除了均衡，仍然要克服中位数不止一个的情形，比如类似4,5,5,5,5,6,6,6的case，因此在做完划分最好将中位数调整一下位置：一种可行方法是把中位数全部挤到中间。\n",
    "\n",
    "* Time Complexity: O(n)\n",
    "* Space Complexity: O(n)\n",
    "\n",
    "[Source](https://www.cnblogs.com/ilovezyg/p/6901280.html)"
   ]
  },
  {
   "cell_type": "code",
   "execution_count": null,
   "metadata": {},
   "outputs": [],
   "source": []
  }
 ],
 "metadata": {
  "kernelspec": {
   "display_name": "Python 3",
   "language": "python",
   "name": "python3"
  },
  "language_info": {
   "codemirror_mode": {
    "name": "ipython",
    "version": 3
   },
   "file_extension": ".py",
   "mimetype": "text/x-python",
   "name": "python",
   "nbconvert_exporter": "python",
   "pygments_lexer": "ipython3",
   "version": "3.6.5"
  }
 },
 "nbformat": 4,
 "nbformat_minor": 2
}
