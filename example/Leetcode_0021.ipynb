{
 "cells": [
  {
   "cell_type": "markdown",
   "metadata": {},
   "source": [
    "#### [Leetcode 21 Easy] [Merge Two Sorted Lists](https://leetcode.com/problems/merge-two-sorted-lists/)\n",
    "\n",
    "Merge two sorted linked lists and return it as a new list. The new list should be made by splicing together the nodes of the first two lists.\n",
    "\n",
    "Example:\n",
    "```\n",
    "Input: 1->2->4, 1->3->4\n",
    "Output: 1->1->2->3->4->4\n",
    "```"
   ]
  },
  {
   "cell_type": "markdown",
   "metadata": {},
   "source": [
    "<font color='blue'>Solution: </font> Iteration  \n",
    "* Time Complexity: O(n + m)\n",
    "* Space Complexity: O(1)"
   ]
  },
  {
   "cell_type": "code",
   "execution_count": 2,
   "metadata": {},
   "outputs": [],
   "source": [
    "from helper import ListNode\n",
    "from helper import LinkedList"
   ]
  },
  {
   "cell_type": "code",
   "execution_count": 3,
   "metadata": {},
   "outputs": [
    {
     "name": "stdout",
     "output_type": "stream",
     "text": [
      "(1 .-)->(2 .-)->(4 .-)->NULL\n",
      "(1 .-)->(3 .-)->(4 .-)->(8 .-)->NULL\n",
      "(1 .-)->(1 .-)->(2 .-)->(3 .-)->(4 .-)->(4 .-)->(8 .-)->NULL\n"
     ]
    }
   ],
   "source": [
    "# Definition for singly-linked list.\n",
    "# class ListNode(object):\n",
    "#     def __init__(self, x):\n",
    "#         self.val = x\n",
    "#         self.next = None\n",
    "\n",
    "class Solution(object):\n",
    "    def mergeTwoLists(self, l1, l2):\n",
    "        \"\"\"\n",
    "        :type l1: ListNode\n",
    "        :type l2: ListNode\n",
    "        :rtype: ListNode\n",
    "        \"\"\"\n",
    "        fake_head = ListNode(None)\n",
    "        curr_head = fake_head\n",
    "        \n",
    "        while l1 and l2:\n",
    "            if l1.val <= l2.val:\n",
    "                curr_head.next = l1\n",
    "                l1 = l1.next                \n",
    "            else:\n",
    "                curr_head.next = l2\n",
    "                l2 = l2.next\n",
    "            curr_head = curr_head.next\n",
    "            \n",
    "        if l1:\n",
    "            curr_head.next = l1\n",
    "        if l2:\n",
    "            curr_head.next = l2\n",
    "            \n",
    "        return fake_head.next\n",
    "    \n",
    "if __name__ == \"__main__\":\n",
    "    l1 = ListNode(1)\n",
    "    l1.next = ListNode(2)\n",
    "    l1.next.next = ListNode(4)\n",
    "\n",
    "    l2 = ListNode(1)\n",
    "    l2.next = ListNode(3)\n",
    "    l2.next.next = ListNode(4)\n",
    "    l2.next.next.next = ListNode(8)\n",
    "\n",
    "    linkedlist = LinkedList()\n",
    "    linkedlist.printList(l1)\n",
    "    linkedlist.printList(l2)\n",
    "\n",
    "    soln = Solution()\n",
    "    head = soln.mergeTwoLists(l1, l2)\n",
    "    linkedlist.printList(head)"
   ]
  },
  {
   "cell_type": "markdown",
   "metadata": {},
   "source": [
    "<font color='blue'>Solution: </font> Recursion  \n",
    "* Time Complexity: O(n + m)\n",
    "* Space Complexity: O(n + m)"
   ]
  },
  {
   "cell_type": "code",
   "execution_count": 4,
   "metadata": {},
   "outputs": [
    {
     "name": "stdout",
     "output_type": "stream",
     "text": [
      "(1 .-)->(2 .-)->(4 .-)->NULL\n",
      "(1 .-)->(3 .-)->(4 .-)->(8 .-)->NULL\n",
      "(1 .-)->(1 .-)->(2 .-)->(3 .-)->(4 .-)->(4 .-)->(8 .-)->NULL\n"
     ]
    }
   ],
   "source": [
    "class Solution(object):\n",
    "    def mergeTwoLists(self, l1, l2):\n",
    "        \"\"\"\n",
    "        :type l1: ListNode\n",
    "        :type l2: ListNode\n",
    "        :rtype: ListNode\n",
    "        \"\"\"\n",
    "        # base case\n",
    "        if not l1:\n",
    "            return l2\n",
    "        if not l2:\n",
    "            return l1\n",
    "        \n",
    "        if l1.val <= l2.val:\n",
    "            # what to get from the child\n",
    "            child_head = self.mergeTwoLists(l1.next, l2)\n",
    "            # what to do in the current layer / stage\n",
    "            l1.next = child_head\n",
    "            # what to return to the parent\n",
    "            return l1\n",
    "        else:\n",
    "            # what to get from the child\n",
    "            child_head = self.mergeTwoLists(l1, l2.next)\n",
    "            # what to do in the current layer / stage\n",
    "            l2.next = child_head\n",
    "            # what to return to the parent\n",
    "            return l2\n",
    "        \n",
    "if __name__ == \"__main__\":\n",
    "    l1 = ListNode(1)\n",
    "    l1.next = ListNode(2)\n",
    "    l1.next.next = ListNode(4)\n",
    "\n",
    "    l2 = ListNode(1)\n",
    "    l2.next = ListNode(3)\n",
    "    l2.next.next = ListNode(4)\n",
    "    l2.next.next.next = ListNode(8)\n",
    "\n",
    "    linkedlist = LinkedList()\n",
    "    linkedlist.printList(l1)\n",
    "    linkedlist.printList(l2)\n",
    "\n",
    "    soln = Solution()\n",
    "    head = soln.mergeTwoLists(l1, l2)\n",
    "    linkedlist.printList(head)"
   ]
  },
  {
   "cell_type": "code",
   "execution_count": null,
   "metadata": {},
   "outputs": [],
   "source": []
  }
 ],
 "metadata": {
  "kernelspec": {
   "display_name": "Python 3",
   "language": "python",
   "name": "python3"
  },
  "language_info": {
   "codemirror_mode": {
    "name": "ipython",
    "version": 3
   },
   "file_extension": ".py",
   "mimetype": "text/x-python",
   "name": "python",
   "nbconvert_exporter": "python",
   "pygments_lexer": "ipython3",
   "version": "3.6.5"
  }
 },
 "nbformat": 4,
 "nbformat_minor": 2
}
