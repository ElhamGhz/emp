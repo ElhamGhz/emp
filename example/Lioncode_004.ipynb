{
 "cells": [
  {
   "cell_type": "markdown",
   "metadata": {},
   "source": [
    "#### [Lioncode 004 Medium] [The Knight’s Dialer](https://hackernoon.com/google-interview-questions-deconstructed-the-knights-dialer-f780d516f029) \n",
    "\n",
    "[骑士拨号](https://new.qq.com/omn/20181026/20181026A0CPPC.html)\n",
    "\n",
    "给一个函数，input是0到9，output是下一步能走的位置一个list，list的范围也是0-9。给定你这个要走K个step和一个初始值(0-9), 问你最后能走出多少种走法。\n",
    "\n",
    "楼主一开始用DFS做被面试小哥说方法太傻了，后来提示了好久才用简单的那个方法写出来了.\n",
    "\n",
    "\n",
    "试想一下，你将骑士放在电话拨号盘上。骑士按照大写“L”的形状移动：水平两步，然后是垂直一步，或者水平一步，然后垂直两步.\n",
    "\n",
    "假设你只按照骑士的步法来按键盘上的按键。每当骑士落在一个按键上，我们就按那个按键，然后继续下一跳。起始位置被标记为已按过。\n",
    "\n",
    "从某个特定的位置开始，在 N 跳内可以拨打多少个不同的号码？"
   ]
  },
  {
   "cell_type": "markdown",
   "metadata": {},
   "source": [
    "<font color='blue'>Solution: </font> DFS  \n",
    "\n",
    "Time Complexity: O(2^n)"
   ]
  },
  {
   "cell_type": "code",
   "execution_count": 7,
   "metadata": {
    "collapsed": true
   },
   "outputs": [],
   "source": [
    "class Solution(object):\n",
    "    def count_sequences(self, start_position, num_hops):\n",
    "        # Base case\n",
    "        if num_hops == 0:\n",
    "            return 1\n",
    "        \n",
    "        \n",
    "        # what to get from your children\n",
    "        children_counts = []\n",
    "        for position in self.neighbors(start_position):\n",
    "            children_counts.append(self.count_sequences(position, num_hops - 1))\n",
    "            \n",
    "        # what to do in the current stage\n",
    "        count = sum(children_counts)\n",
    "        \n",
    "        # what to return to your parent\n",
    "        return count\n",
    "        \n",
    "    def neighbors(self, position):\n",
    "        NEIGHBORS_MAP = {\n",
    "            1: (6, 8),\n",
    "            2: (7, 9),\n",
    "            3: (4, 8),\n",
    "            4: (3, 9, 0),\n",
    "            5: tuple(),  # 5 has no neighbors\n",
    "            6: (1, 7, 0),\n",
    "            7: (2, 6),\n",
    "            8: (1, 3),\n",
    "            9: (2, 4),\n",
    "            0: (4, 6),\n",
    "        }\n",
    "        return NEIGHBORS_MAP[position]"
   ]
  },
  {
   "cell_type": "code",
   "execution_count": 8,
   "metadata": {},
   "outputs": [
    {
     "name": "stdout",
     "output_type": "stream",
     "text": [
      "6\n"
     ]
    }
   ],
   "source": [
    "if __name__ == '__main__':\n",
    "    soln = Solution()\n",
    "    \n",
    "    print(soln.count_sequences(6, 2)) "
   ]
  },
  {
   "cell_type": "markdown",
   "metadata": {},
   "source": [
    "We can use memoization (not memorization), which basically means we record results of function calls we’ve seen before and use those instead of redoing the work. This way, when we encounter a place in the call graph where we would unnecessarily recompute an entire subtree, we instead immediately return the result we already computed. \n",
    "\n",
    "Time Complexity: O(n)\n",
    "\n",
    "This solution has two drawback, one major(ish) and one minor. The major-ish drawback is that it’s recursive. Most languages place limits on the maximal size of their call stacks, which means there’s always a maximal number of hops an implementation can support. On my machine it fails after about 1000 hops. This is a major-ish limitation rather than a major one because any recursive function can be re-implemented in an iterative way, but still, it’s a hassle. As for the minor limitation, that actually leads us into the next solution…"
   ]
  },
  {
   "cell_type": "code",
   "execution_count": 10,
   "metadata": {},
   "outputs": [
    {
     "name": "stdout",
     "output_type": "stream",
     "text": [
      "6\n"
     ]
    }
   ],
   "source": [
    "class Solution(object):\n",
    "    def __init__(self):\n",
    "        self.cache = {}\n",
    "        \n",
    "    def count_sequences(self, start_position, num_hops):\n",
    "        \n",
    "        if (start_position, num_hops) in self.cache:\n",
    "            return self.cache[(start_position, num_hops)]\n",
    "        \n",
    "        # Base case\n",
    "        if num_hops == 0:\n",
    "            return 1\n",
    "        \n",
    "        \n",
    "        # what to get from your children\n",
    "        children_counts = []\n",
    "        for position in self.neighbors(start_position):\n",
    "            children_counts.append(self.count_sequences(position, num_hops - 1))\n",
    "            \n",
    "        # what to do in the current stage\n",
    "        count = sum(children_counts)\n",
    "        self.cache[(start_position, num_hops)] = count\n",
    "        \n",
    "        # what to return to your parent\n",
    "        return count\n",
    "        \n",
    "    def neighbors(self, position):\n",
    "        NEIGHBORS_MAP = {\n",
    "            1: (6, 8),\n",
    "            2: (7, 9),\n",
    "            3: (4, 8),\n",
    "            4: (3, 9, 0),\n",
    "            5: tuple(),  # 5 has no neighbors\n",
    "            6: (1, 7, 0),\n",
    "            7: (2, 6),\n",
    "            8: (1, 3),\n",
    "            9: (2, 4),\n",
    "            0: (4, 6),\n",
    "        }\n",
    "        return NEIGHBORS_MAP[position]\n",
    "    \n",
    "    \n",
    "if __name__ == '__main__':\n",
    "    soln = Solution()\n",
    "    \n",
    "    print(soln.count_sequences(6, 2)) "
   ]
  },
  {
   "cell_type": "markdown",
   "metadata": {},
   "source": [
    "<font color='blue'>Solution: </font> Dynamic Programming  \n",
    "\n",
    "Visit layers with N hops only after you’ve visited layers with N-1 hops. Those of you who studied or are studying discrete mathematics will recognize all the necessary ingredients for an induction: we know that the values of zero-hop function calls are always one (the base case). We also know how to combine N-1 hop values to get N hop values, using the recurrence relation (the inductive step). We can start with a base case of zero hops and induce all values greater than zero.\n",
    "\n",
    "$$T(P, N) = \\sum\\limits_{p \\in neighbors(P)} T(p, N - 1)$$\n",
    "            \n",
    "Time Complexity: O(n)\n",
    "\n",
    "So what’s better about this version than the recursive, depth-first solution? Not a ton, but it has a few benefits. First off, it’s not recursive, meaning it can run for extremely large values without crashing. Second off, it uses constant memory, because it only ever needs two arrays of fixed size rather than the ever-growing cache of the memoization solution. Finally, it’s still linear time: I can compute 200,000 hops in just under twenty seconds."
   ]
  },
  {
   "cell_type": "code",
   "execution_count": 12,
   "metadata": {},
   "outputs": [
    {
     "name": "stdout",
     "output_type": "stream",
     "text": [
      "6\n"
     ]
    }
   ],
   "source": [
    "class Solution(object):     \n",
    "    def count_sequences(self, start_position, num_hops):\n",
    "        \n",
    "        prior_case = [1 for i in range(10)]\n",
    "        curr_case = [0 for i in range(10)]\n",
    "        \n",
    "        for i in range(0, num_hops):\n",
    "            curr_case = [0 for i in range(10)]\n",
    "            \n",
    "            for position in range(0, 10):\n",
    "                for neighbor in self.neighbors(position):\n",
    "                    curr_case[position] += prior_case[neighbor]\n",
    "            prior_case = curr_case\n",
    "        \n",
    "        return curr_case[start_position]\n",
    "        \n",
    "    def neighbors(self, position):\n",
    "        NEIGHBORS_MAP = {\n",
    "            1: (6, 8),\n",
    "            2: (7, 9),\n",
    "            3: (4, 8),\n",
    "            4: (3, 9, 0),\n",
    "            5: tuple(),  # 5 has no neighbors\n",
    "            6: (1, 7, 0),\n",
    "            7: (2, 6),\n",
    "            8: (1, 3),\n",
    "            9: (2, 4),\n",
    "            0: (4, 6),\n",
    "        }\n",
    "        return NEIGHBORS_MAP[position]\n",
    "    \n",
    "    \n",
    "if __name__ == '__main__':\n",
    "    soln = Solution()\n",
    "    \n",
    "    print(soln.count_sequences(6, 2)) "
   ]
  },
  {
   "cell_type": "markdown",
   "metadata": {},
   "source": [
    "[Best Solution](https://medium.com/@alexgolec/google-interview-questions-deconstructed-the-knights-dialer-impossibly-fast-edition-c288da1685b8)"
   ]
  },
  {
   "cell_type": "code",
   "execution_count": null,
   "metadata": {
    "collapsed": true
   },
   "outputs": [],
   "source": []
  },
  {
   "cell_type": "code",
   "execution_count": null,
   "metadata": {
    "collapsed": true
   },
   "outputs": [],
   "source": []
  },
  {
   "cell_type": "markdown",
   "metadata": {},
   "source": [
    "<font color='blue'>Solution: </font> BFS  \n",
    "可以直接按照层数一层层走 只需要知道最后能走出多少种走法 不需要具体到每个走法是怎么走的 所以每次mantain一个current level的list和previous level的list就可以了 到最后看一下list的长度多少就可以了"
   ]
  },
  {
   "cell_type": "code",
   "execution_count": null,
   "metadata": {
    "collapsed": true
   },
   "outputs": [],
   "source": []
  }
 ],
 "metadata": {
  "kernelspec": {
   "display_name": "Python 3",
   "language": "python",
   "name": "python3"
  },
  "language_info": {
   "codemirror_mode": {
    "name": "ipython",
    "version": 3
   },
   "file_extension": ".py",
   "mimetype": "text/x-python",
   "name": "python",
   "nbconvert_exporter": "python",
   "pygments_lexer": "ipython3",
   "version": "3.6.3"
  }
 },
 "nbformat": 4,
 "nbformat_minor": 2
}
