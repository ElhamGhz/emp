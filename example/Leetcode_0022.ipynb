{
 "cells": [
  {
   "cell_type": "markdown",
   "metadata": {},
   "source": [
    "#### [Leetcode 22 Medium] [Generate Parentheses](https://leetcode.com/problems/generate-parentheses/)\n",
    "\n",
    "Given n pairs of parentheses, write a function to generate all combinations of well-formed parentheses.\n",
    "\n",
    "For example, given n = 3, a solution set is:\n",
    "```\n",
    "[\n",
    "  \"((()))\",\n",
    "  \"(()())\",\n",
    "  \"(())()\",\n",
    "  \"()(())\",\n",
    "  \"()()()\"\n",
    "]\n",
    "```"
   ]
  },
  {
   "cell_type": "code",
   "execution_count": 5,
   "metadata": {},
   "outputs": [
    {
     "name": "stdout",
     "output_type": "stream",
     "text": [
      "['()']\n",
      "['(())', '()()']\n",
      "['((()))', '(()())', '(())()', '()(())', '()()()']\n"
     ]
    }
   ],
   "source": [
    "class Solution(object):\n",
    "    def generateParenthesis(self, n):\n",
    "        \"\"\"\n",
    "        :type n: int\n",
    "        :rtype: List[str]\n",
    "        \"\"\"\n",
    "        results, solution = [], []\n",
    "        \n",
    "        self.backtracking(results, solution, 0, 0, n)\n",
    "        return results\n",
    "    \n",
    "    def backtracking(self, results, solution, left, right, n):\n",
    "        if len(solution) == 2*n:  # or we can use if right == 3\n",
    "            results.append(\"\".join(solution[:]))\n",
    "            return\n",
    "        else:\n",
    "            # Case 1: add '('\n",
    "            if left < n:\n",
    "                solution.append('(')\n",
    "                self.backtracking(results, solution, left+1, right, n)\n",
    "                solution.pop()\n",
    "            # Case 2: add ')'\n",
    "            if right < left:\n",
    "                solution.append(')')\n",
    "                self.backtracking(results, solution, left, right+1, n)\n",
    "                solution.pop()\n",
    "                \n",
    "if __name__ == \"__main__\":\n",
    "    soln = Solution()\n",
    "    \n",
    "    print(soln.generateParenthesis(n=1))\n",
    "    print(soln.generateParenthesis(n=2))\n",
    "    print(soln.generateParenthesis(n=3))"
   ]
  },
  {
   "cell_type": "code",
   "execution_count": null,
   "metadata": {},
   "outputs": [],
   "source": []
  }
 ],
 "metadata": {
  "kernelspec": {
   "display_name": "Python 3",
   "language": "python",
   "name": "python3"
  },
  "language_info": {
   "codemirror_mode": {
    "name": "ipython",
    "version": 3
   },
   "file_extension": ".py",
   "mimetype": "text/x-python",
   "name": "python",
   "nbconvert_exporter": "python",
   "pygments_lexer": "ipython3",
   "version": "3.6.5"
  }
 },
 "nbformat": 4,
 "nbformat_minor": 2
}
