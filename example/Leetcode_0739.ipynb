{
 "cells": [
  {
   "cell_type": "markdown",
   "metadata": {},
   "source": [
    "#### [Leetcode 739 Medium] [Daily Temperatures](https://leetcode.com/problems/daily-temperatures/)\n",
    "\n",
    "Given a list of daily temperatures T, return a list such that, for each day in the input, tells you how many days you would have to wait until a warmer temperature. If there is no future day for which this is possible, put 0 instead.\n",
    "\n",
    "For example, given the list of temperatures T = [73, 74, 75, 71, 69, 72, 76, 73], your output should be [1, 1, 4, 2, 1, 1, 0, 0].\n",
    "\n",
    "Note: The length of temperatures will be in the range [1, 30000]. Each temperature will be an integer in the range [30, 100]."
   ]
  },
  {
   "cell_type": "markdown",
   "metadata": {},
   "source": [
    "<font color='blue'>Solution: </font>  reversed iteration  \n",
    "\n",
    "这个题难在找到下一个比当前气温高的位置和当前位置的差。注意到题目中温度变化范围只有60，而天数的变化范围有30000，所以对温度遍历是可以接受的，对天数遍历不可接受。\n",
    "\n",
    "所以我们倒序遍历温度，保留每个温度的最新的天数位置，保存在字典中。对当前的温度，我们从字典中找所有比他大的温度的位置，保留最小值。如果没有比他大的，就写入0.\n"
   ]
  },
  {
   "cell_type": "code",
   "execution_count": 1,
   "metadata": {
    "collapsed": true
   },
   "outputs": [],
   "source": [
    "class Solution(object):\n",
    "    def dailyTemperatures(self, T):\n",
    "        \"\"\"\n",
    "        :type T: List[int]\n",
    "        :rtype: List[int]\n",
    "        \"\"\"\n",
    "        save = {}\n",
    "        answer = []\n",
    "        for day in range(len(T) - 1, -1, -1):\n",
    "            temp = T[day]\n",
    "            save[temp] = day\n",
    "            larger = []\n",
    "            for i in range(temp + 1, 102):\n",
    "                if i in save:\n",
    "                    larger.append(save[i] - day)\n",
    "            if larger:\n",
    "                answer.append(min(larger))\n",
    "            else:\n",
    "                answer.append(0)\n",
    "        return answer[::-1]\n"
   ]
  },
  {
   "cell_type": "markdown",
   "metadata": {
    "collapsed": true
   },
   "source": [
    "<font color='blue'>Solution: </font>  stack  \n",
    "\n",
    "如果正序遍历的话需要一个栈，栈的操作是这样的：\n",
    "\n",
    "如果栈是空或者栈顶的元素小于当前元素，那么说明前面的这天的温度小于今天的，所以直接弹出前面这天，并且把他这天的结果设置为和今天的位置差。\n",
    "\n",
    "需要注意的是，无论当天的温度是高是低，它的结果的确定需要根据后面确定，所以要入栈。"
   ]
  },
  {
   "cell_type": "code",
   "execution_count": 4,
   "metadata": {},
   "outputs": [],
   "source": [
    "class Solution(object):\n",
    "    def dailyTemperatures(self, T):\n",
    "        \"\"\"\n",
    "        :type T: List[int]\n",
    "        :rtype: List[int]\n",
    "        \"\"\"\n",
    "        n = len(T)\n",
    "        stack = []\n",
    "        results = [0 for _ in range(n)]\n",
    "        \n",
    "        for index, temp in enumerate(T):\n",
    "            while stack and stack[-1][1] < temp:\n",
    "                original_index = stack.pop()[0]\n",
    "                results[original_index] = index - original_index\n",
    "            stack.append((index, temp))\n",
    "            \n",
    "        return results"
   ]
  },
  {
   "cell_type": "markdown",
   "metadata": {},
   "source": [
    "#### Follow up:\n",
    "给了一列数字，要求返回每个数字的左边的最后一个比他大的数字的坐标，如果没有就返回-1。例如5 4 2 1 3，就返回-1 0 1 2 1。有点类似leetcode的739题，主要是用stack来解决。\n",
    "一开始是用的顺序遍历来做的，然后面试官给了一个反例，想了一会就在面试官要提示的时候想出来应该逆序来操作，然后改了下代码写出来了。\n",
    "\n",
    "想了一下，stack那道题顺序遍历也是可以的，当遍历的数字比stack顶端小的时候就压进stack，大于等于栈顶的时候就pop掉顶部元素。可能当时有点紧张，思路不太对。"
   ]
  },
  {
   "cell_type": "code",
   "execution_count": 10,
   "metadata": {},
   "outputs": [],
   "source": [
    "class Solution(object):\n",
    "    def last_bigger(self, nums):\n",
    "        \"\"\"\n",
    "        :type nums: List[int]\n",
    "        :rtype: List[int]\n",
    "        \"\"\"\n",
    "        n = len(nums)\n",
    "        stack = []\n",
    "        results = [-1 for _ in range(n)]\n",
    "        \n",
    "        for index, num in enumerate(nums):\n",
    "            while stack and stack[-1][1] < num:\n",
    "                original_index = stack.pop()[0]\n",
    "            if stack and stack[-1][1] > num:\n",
    "                original_index = stack[-1][0]\n",
    "                results[index] = original_index\n",
    "            stack.append((index, num))\n",
    "            \n",
    "        return results"
   ]
  },
  {
   "cell_type": "code",
   "execution_count": 11,
   "metadata": {},
   "outputs": [
    {
     "name": "stdout",
     "output_type": "stream",
     "text": [
      "[-1, 0, 1, 2, 1]\n"
     ]
    }
   ],
   "source": [
    "soln = Solution()\n",
    "print(soln.last_bigger(nums=[5,4,2,1,3]))"
   ]
  },
  {
   "cell_type": "code",
   "execution_count": null,
   "metadata": {},
   "outputs": [],
   "source": []
  }
 ],
 "metadata": {
  "kernelspec": {
   "display_name": "Python 3",
   "language": "python",
   "name": "python3"
  },
  "language_info": {
   "codemirror_mode": {
    "name": "ipython",
    "version": 3
   },
   "file_extension": ".py",
   "mimetype": "text/x-python",
   "name": "python",
   "nbconvert_exporter": "python",
   "pygments_lexer": "ipython3",
   "version": "3.6.5"
  }
 },
 "nbformat": 4,
 "nbformat_minor": 2
}
