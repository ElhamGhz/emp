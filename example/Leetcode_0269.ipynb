{
 "cells": [
  {
   "cell_type": "markdown",
   "metadata": {},
   "source": [
    "#### [Leetcode 269 Hard] [Alien Dictionary](https://leetcode.com/problems/alien-dictionary/)\n",
    "\n",
    "There is a new alien language which uses the latin alphabet. However, the order among letters are unknown to you. You receive a list of non-empty words from the dictionary, where words are sorted lexicographically by the rules of this new language. Derive the order of letters in this language.\n",
    "\n",
    "Example 1:\n",
    "```\n",
    "Input:\n",
    "[\n",
    "  \"wrt\",\n",
    "  \"wrf\",\n",
    "  \"er\",\n",
    "  \"ett\",\n",
    "  \"rftt\"\n",
    "]\n",
    "\n",
    "Output: \"wertf\"\n",
    "```\n",
    "\n",
    "Example 2:\n",
    "```\n",
    "Input:\n",
    "[\n",
    "  \"z\",\n",
    "  \"x\"\n",
    "]\n",
    "\n",
    "Output: \"zx\"\n",
    "```\n",
    "\n",
    "Example 3:\n",
    "```\n",
    "Input:\n",
    "[\n",
    "  \"z\",\n",
    "  \"x\",\n",
    "  \"z\"\n",
    "] \n",
    "\n",
    "Output: \"\" \n",
    "\n",
    "Explanation: The order is invalid, so return \"\".\n",
    "```\n",
    "\n",
    "Note:\n",
    "* You may assume all letters are in lowercase.\n",
    "* You may assume that if a is a prefix of b, then a must appear before b in the given dictionary.\n",
    "* If the order is invalid, return an empty string.\n",
    "* There may be multiple valid order of letters, return any one of them is fine."
   ]
  },
  {
   "cell_type": "markdown",
   "metadata": {},
   "source": [
    "<font color='blue'>Solution:  </font> Topological Sorting  \n",
    "\n",
    "The idea is to create a graph of characters and then find topological sorting of the created graph. Following are the detailed steps.\n",
    "\n",
    "1) Create a graph g with number of vertices equal to the size of alphabet in the given alien language. For example, if the alphabet size is 5, then there can be 5 characters in words. Initially there are no edges in graph.\n",
    "\n",
    "2) Do following for every pair of adjacent words in given sorted array.\n",
    "…..a) Let the current pair of words be word1 and word2. One by one compare characters of both words and find the first mismatching characters.\n",
    "…..b) Create an edge in g from mismatching character of word1 to that of word2.\n",
    "\n",
    "3) Print topological sorting of the above created graph.\n",
    "\n",
    "Time Complexity: The first step to create a graph takes O(n + alhpa) time where n is number of given words and alpha is number of characters in given alphabet. The second step is also topological sorting. Note that there would be alpha vertices and at-most (n-1) edges in the graph. The time complexity of topological sorting is O(V+E) which is O(n + aplha) here. So overall time complexity is O(n + aplha) + O(n + aplha) which is O(n + aplha)."
   ]
  },
  {
   "cell_type": "code",
   "execution_count": 24,
   "metadata": {},
   "outputs": [],
   "source": [
    "class Solution(object):\n",
    "    def alienOrder(self, words):\n",
    "        \"\"\"\n",
    "        :type words: List[str]\n",
    "        :rtype: str\n",
    "        \"\"\"\n",
    "        # create graph\n",
    "        graph = {c: [] for word in words for c in word}\n",
    "        for word1, word2 in zip(words[0:-1], words[1:]):\n",
    "            #print(word1, word2)\n",
    "            for i in range(min(len(word1), len(word2))):\n",
    "                if word1[i] != word2[i]:\n",
    "                    graph[word1[i]].append(word2[i])\n",
    "                    break\n",
    "        #print(graph)\n",
    "        \n",
    "        # DFS\n",
    "        visited = {char: -1 for char in graph}  # not visited\n",
    "        #print(visited)\n",
    "        results = []\n",
    "        for u in graph:\n",
    "            if visited[u] == -1:\n",
    "                if not self.dfs(graph, visited, u, results):\n",
    "                    return \"\"\n",
    "                \n",
    "        return \"\".join(results[::-1])\n",
    "    \n",
    "    def dfs(self, graph, visited, u, results):\n",
    "        visited[u] = 0  # visiting\n",
    "        if u in graph:\n",
    "            for v in graph[u]:\n",
    "                if visited[v] == 0:\n",
    "                    return False\n",
    "                if visited[v] == -1 and not self.dfs(graph, visited, v, results):\n",
    "                    return False\n",
    "        visited[u] = 1  # visited\n",
    "        results.append(u)\n",
    "        \n",
    "        return True"
   ]
  },
  {
   "cell_type": "code",
   "execution_count": 25,
   "metadata": {},
   "outputs": [
    {
     "name": "stdout",
     "output_type": "stream",
     "text": [
      "wertf\n"
     ]
    }
   ],
   "source": [
    "soln = Solution()\n",
    "print(soln.alienOrder(words=[\n",
    "  \"wrt\",\n",
    "  \"wrf\",\n",
    "  \"er\",\n",
    "  \"ett\",\n",
    "  \"rftt\"\n",
    "]))"
   ]
  },
  {
   "cell_type": "code",
   "execution_count": null,
   "metadata": {},
   "outputs": [],
   "source": []
  }
 ],
 "metadata": {
  "kernelspec": {
   "display_name": "Python 3",
   "language": "python",
   "name": "python3"
  },
  "language_info": {
   "codemirror_mode": {
    "name": "ipython",
    "version": 3
   },
   "file_extension": ".py",
   "mimetype": "text/x-python",
   "name": "python",
   "nbconvert_exporter": "python",
   "pygments_lexer": "ipython3",
   "version": "3.6.5"
  }
 },
 "nbformat": 4,
 "nbformat_minor": 2
}
