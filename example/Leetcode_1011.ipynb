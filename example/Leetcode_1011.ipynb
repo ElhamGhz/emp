{
 "cells": [
  {
   "cell_type": "markdown",
   "metadata": {},
   "source": [
    "#### Question: [Leetcode 1011 Medium] [Capacity To Ship Packages Within D Days](https://leetcode.com/problems/capacity-to-ship-packages-within-d-days/)\n",
    "\n",
    "A conveyor belt has packages that must be shipped from one port to another within D days.\n",
    "\n",
    "The i-th package on the conveyor belt has a weight of weights[i].  Each day, we load the ship with packages on the conveyor belt (in the order given by weights). We may not load more weight than the maximum weight capacity of the ship.\n",
    "\n",
    "Return the least weight capacity of the ship that will result in all the packages on the conveyor belt being shipped within D days.\n",
    "\n",
    " \n",
    "\n",
    "Example 1:\n",
    "```\n",
    "Input: weights = [1,2,3,4,5,6,7,8,9,10], D = 5\n",
    "Output: 15\n",
    "Explanation: \n",
    "A ship capacity of 15 is the minimum to ship all the packages in 5 days like this:\n",
    "1st day: 1, 2, 3, 4, 5\n",
    "2nd day: 6, 7\n",
    "3rd day: 8\n",
    "4th day: 9\n",
    "5th day: 10\n",
    "\n",
    "Note that the cargo must be shipped in the order given, so using a ship of capacity 14 and splitting the packages into parts like (2, 3, 4, 5), (1, 6, 7), (8), (9), (10) is not allowed. \n",
    "```\n",
    "\n",
    "Example 2:\n",
    "```\n",
    "Input: weights = [3,2,2,4,1,4], D = 3\n",
    "Output: 6\n",
    "Explanation: \n",
    "A ship capacity of 6 is the minimum to ship all the packages in 3 days like this:\n",
    "1st day: 3, 2\n",
    "2nd day: 2, 4\n",
    "3rd day: 1, 4\n",
    "```\n",
    "\n",
    "Example 3:\n",
    "```\n",
    "Input: weights = [1,2,3,1,1], D = 4\n",
    "Output: 3\n",
    "Explanation: \n",
    "1st day: 1\n",
    "2nd day: 2\n",
    "3rd day: 3\n",
    "4th day: 1, 1\n",
    "```\n",
    "\n",
    "Note:\n",
    "* 1 <= D <= weights.length <= 50000\n",
    "* 1 <= weights[i] <= 500"
   ]
  },
  {
   "cell_type": "markdown",
   "metadata": {},
   "source": [
    "Hint: \n",
    "1. Binary search on the answer. We need a function possible(capacity) which returns true if and only if we can do the task in D days."
   ]
  },
  {
   "cell_type": "markdown",
   "metadata": {},
   "source": [
    "<font color='blue'>Solution: </font> Binary Search  \n",
    "对于要进行查找的重量，我们都去计算这个重量情况下，是不是能够在D天之内把所有的货物都拉出去。然后进行简单的二分就可以了。和猴子吃香蕉的题目如出一辙。\n",
    "\n",
    "Time Complexity: O(n log(sum(weights) - max(weights))"
   ]
  },
  {
   "cell_type": "code",
   "execution_count": 19,
   "metadata": {
    "collapsed": true
   },
   "outputs": [],
   "source": [
    "class Solution(object):\n",
    "    def shipWithinDays(self, weights, D):\n",
    "        \"\"\"\n",
    "        :type weights: List[int]\n",
    "        :type D: int\n",
    "        :rtype: int\n",
    "        \"\"\"\n",
    "        left = max(weights)\n",
    "        right = sum(weights)\n",
    "        \n",
    "        while left < right - 1:\n",
    "            mid = left + (right - left) // 2\n",
    "            mid_day = self.day_cost(weights, mid)\n",
    "            #print(mid, mid_day)\n",
    "            if mid_day == D:\n",
    "                right = mid\n",
    "            elif mid_day < D:\n",
    "                right = mid\n",
    "            else:\n",
    "                left = mid\n",
    "        \n",
    "        \n",
    "        if self.day_cost(weights, left) <= D:\n",
    "            return left\n",
    "        else:\n",
    "            return right\n",
    "            \n",
    "    def day_cost(self, weights, capacity):\n",
    "        count = 1\n",
    "        sums = 0\n",
    "        for weight in weights:\n",
    "            if sums + weight > capacity:\n",
    "                count += 1\n",
    "                sums = 0\n",
    "            sums += weight\n",
    "        return count"
   ]
  },
  {
   "cell_type": "code",
   "execution_count": 20,
   "metadata": {},
   "outputs": [
    {
     "name": "stdout",
     "output_type": "stream",
     "text": [
      "15\n"
     ]
    }
   ],
   "source": [
    "soln = Solution()\n",
    "print(soln.shipWithinDays(weights=[1,2,3,4,5,6,7,8,9,10], D=5))"
   ]
  },
  {
   "cell_type": "markdown",
   "metadata": {
    "collapsed": true
   },
   "source": [
    "#### [Lioncode 008 Medium] [Division of Nums Over k]\n",
    "\n",
    "给vector<int> nums长度n, int K>=n  \n",
    "條件\n",
    "* k1+k2+...+kn=K, (正整数k分成n分(n = nums.size())的意思)\n",
    "* k1,k2,...,kn>=1\n",
    "* k1,...,kn are positive integers\n",
    "\n",
    "求最小的max(nums[i]/ki)\n",
    "\n",
    "基本上用heap就解决了"
   ]
  },
  {
   "cell_type": "code",
   "execution_count": 31,
   "metadata": {
    "collapsed": true
   },
   "outputs": [],
   "source": [
    "import math\n",
    "\n",
    "class Solution(object):\n",
    "    def get_division(self, K, n):\n",
    "        \"\"\"\n",
    "        K: distance\n",
    "        n: time\n",
    "        \"\"\"\n",
    "        if K < n:\n",
    "            return -1\n",
    "        \n",
    "        left, right = 1, K\n",
    "        while left < right - 1:\n",
    "            mid = left + (right - left) // 2\n",
    "            mid_time = math.ceil(K / mid)\n",
    "            #print(mid, mid_time)\n",
    "            if mid_time == n:\n",
    "                right = mid\n",
    "            elif mid_time < n:\n",
    "                right = mid\n",
    "            else:\n",
    "                left = mid\n",
    "                \n",
    "        if math.ceil(K / left) <= n:\n",
    "            return left\n",
    "        else:\n",
    "            return right"
   ]
  },
  {
   "cell_type": "code",
   "execution_count": 33,
   "metadata": {},
   "outputs": [
    {
     "name": "stdout",
     "output_type": "stream",
     "text": [
      "5\n",
      "4\n",
      "3\n"
     ]
    }
   ],
   "source": [
    "soln = Solution()\n",
    "print(soln.get_division(K=10, n=2))\n",
    "print(soln.get_division(K=10, n=3))\n",
    "print(soln.get_division(K=10, n=4))"
   ]
  },
  {
   "cell_type": "code",
   "execution_count": null,
   "metadata": {
    "collapsed": true
   },
   "outputs": [],
   "source": []
  }
 ],
 "metadata": {
  "kernelspec": {
   "display_name": "Python 3",
   "language": "python",
   "name": "python3"
  },
  "language_info": {
   "codemirror_mode": {
    "name": "ipython",
    "version": 3
   },
   "file_extension": ".py",
   "mimetype": "text/x-python",
   "name": "python",
   "nbconvert_exporter": "python",
   "pygments_lexer": "ipython3",
   "version": "3.6.3"
  }
 },
 "nbformat": 4,
 "nbformat_minor": 2
}
