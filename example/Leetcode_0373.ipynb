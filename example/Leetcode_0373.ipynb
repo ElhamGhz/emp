{
 "cells": [
  {
   "cell_type": "markdown",
   "metadata": {},
   "source": [
    "#### [Leetcode 373 Medium] [Find K Pairs with Smallest Sums](https://leetcode.com/problems/find-k-pairs-with-smallest-sums/)\n",
    "\n",
    "You are given two integer arrays nums1 and nums2 sorted in ascending order and an integer k.\n",
    "\n",
    "Define a pair (u,v) which consists of one element from the first array and one element from the second array.\n",
    "\n",
    "Find the k pairs (u1,v1),(u2,v2) ...(uk,vk) with the smallest sums.\n",
    "\n",
    "Example 1:\n",
    "```\n",
    "Input: nums1 = [1,7,11], nums2 = [2,4,6], k = 3\n",
    "Output: [[1,2],[1,4],[1,6]] \n",
    "Explanation: The first 3 pairs are returned from the sequence: \n",
    "             [1,2],[1,4],[1,6],[7,2],[7,4],[11,2],[7,6],[11,4],[11,6]\n",
    "```\n",
    "\n",
    "Example 2:\n",
    "```\n",
    "Input: nums1 = [1,1,2], nums2 = [1,2,3], k = 2\n",
    "Output: [1,1],[1,1]\n",
    "Explanation: The first 2 pairs are returned from the sequence: \n",
    "             [1,1],[1,1],[1,2],[2,1],[1,2],[2,2],[1,3],[1,3],[2,3]\n",
    "```\n",
    "\n",
    "Example 3:\n",
    "```\n",
    "Input: nums1 = [1,2], nums2 = [3], k = 3\n",
    "Output: [1,3],[2,3]\n",
    "Explanation: All possible pairs are returned from the sequence: [1,3],[2,3]\n",
    "```"
   ]
  },
  {
   "cell_type": "markdown",
   "metadata": {},
   "source": [
    "<font color='blue'>Solution: </font> Brute Force  \n",
    "\n",
    "1. Find all pairs and store their sums. Time complexity of this step is O(n1 * n2) where n1 and n2 are sizes of input arrays.\n",
    "2. Then sort pairs according to sum. Time complexity of this step is O(n1 * n2 * log (n1 * n2))\n",
    "\n",
    "Overall Time Complexity : O(n1 \\* n2 \\* log (n1 \\* n2))\n",
    "\n",
    " \n",
    "<font color='blue'>Solution: </font> Iteratve k elements of arr2   \n",
    "\n",
    "We one by one find k smallest sum pairs, starting from least sum pair. The idea is to keep track of all elements of arr2[] which have been already considered for every element arr1[i1] so that in an iteration we only consider next element. For this purpose, we use an index array index2[] to track the indexes of next elements in the other array. It simply means that which element of second array to be added with the element of first array in each and every iteration. We increment value in index array for the element that forms next minimum value pair.\n",
    "\n",
    "Time Complexity : O(k\\*n1)\n",
    "\n",
    "<font color='blue'>Solution: </font> Using Sorting, Min heap, Map  \n",
    "\n",
    "Instead of brute forcing through all the possible sum combinations we should find a way to limit our search space to possible candidate sum combinations.\n",
    "\n",
    "1. Sort both arrays array A and array B.\n",
    "2. Create a min heap i.e priority_queue in C++ to store the sum combinations along with the indices of elements from both arrays A and B which make up the sum. Heap is ordered by the sum.\n",
    "3. Initialize the heap with the minimum possible sum combination i.e (A[0] + B[0]) and with the indices of elements from both arrays (0, 0). The tuple inside min heap will be (A[0] + B[0], 0, 0). Heap is ordered by first value i.e sum of both elements.\n",
    "4. Pop the heap to get the current smallest sum and along with the indices of the element that make up the sum. Let the tuple be (sum, i, j).\n",
    "5. Next insert (A[i + 1] + A[j], i + 1, j) and (A[i] + A[j + 1], i, j + 1) into the min heap but make sure that the pair of indices i.e (i + 1, j) and (i, j + 1) are not already present in the min heap.To check this we can use set in C++.\n",
    "6. Go back to 4 until K times.\n",
    "\n",
    "Time Complexity : O(k\\*logk) assuming k<=n"
   ]
  },
  {
   "cell_type": "code",
   "execution_count": 10,
   "metadata": {},
   "outputs": [],
   "source": [
    "import heapq\n",
    "\n",
    "class Solution(object):\n",
    "    def kSmallestPairs(self, nums1, nums2, k):\n",
    "        \"\"\"\n",
    "        :type nums1: List[int]\n",
    "        :type nums2: List[int]\n",
    "        :type k: int\n",
    "        :rtype: List[List[int]]\n",
    "        \"\"\"\n",
    "        if not nums1 or not nums2 or k == 0:\n",
    "            return []  \n",
    "        \n",
    "        results = []\n",
    "        \n",
    "        heap = [(nums1[0] + nums2[0], 0, 0)]\n",
    "        heapq.heapify(heap)\n",
    "        visited = set((0, 0))\n",
    "        \n",
    "        count = 0\n",
    "        while heap and count < k:\n",
    "            sums, index1, index2 = heapq.heappop(heap)\n",
    "            results.append([nums1[index1], nums2[index2]])\n",
    "            count += 1\n",
    "            if index1 + 1 < len(nums1) and (index1 + 1, index2) not in visited:\n",
    "                heapq.heappush(heap, (nums1[index1 + 1] + nums2[index2], index1 + 1, index2))\n",
    "                visited.add((index1 + 1, index2))\n",
    "            if index2 + 1 < len(nums2) and (index1, index2 + 1) not in visited:\n",
    "                heapq.heappush(heap, (nums1[index1] + nums2[index2 + 1], index1, index2 + 1))\n",
    "                visited.add((index1, index2 + 1))\n",
    "                \n",
    "        return results"
   ]
  },
  {
   "cell_type": "code",
   "execution_count": 11,
   "metadata": {},
   "outputs": [
    {
     "name": "stdout",
     "output_type": "stream",
     "text": [
      "[[1, 1], [1, 1], [1, 2], [1, 2], [2, 1], [1, 3], [1, 3], [2, 2], [2, 3]]\n"
     ]
    }
   ],
   "source": [
    "soln = Solution()\n",
    "#print(soln.kSmallestPairs(nums1 = [1,7,11], nums2 = [2,4,6], k = 3))\n",
    "#print(soln.kSmallestPairs(nums1 = [1,1,2], nums2 = [1,2,3], k = 2))\n",
    "#print(soln.kSmallestPairs(nums1 = [1,2], nums2 = [3], k = 3))\n",
    "\n",
    "print(soln.kSmallestPairs(nums1 = [1,1,2], nums2 = [1,2,3], k = 10))"
   ]
  },
  {
   "cell_type": "code",
   "execution_count": null,
   "metadata": {
    "collapsed": true
   },
   "outputs": [],
   "source": []
  },
  {
   "cell_type": "markdown",
   "metadata": {},
   "source": [
    "#### Follow up:\n",
    "给m个数组，每个数组里有n个值，都是按照升序排好了。\n",
    "现在从每个数组里分别取1个值，并对这些值求和，这个和记为y。\n",
    "求前x个最小的y。\n",
    "比如：给定数组\n",
    "num1 = [1,2,3]\n",
    "num2 = [4,9,10]\n",
    "x=2，则最小的两个值是：\n",
    "1+4 = 5\n",
    "2+4 = 6\n",
    "\n",
    "要用优先队列；"
   ]
  }
 ],
 "metadata": {
  "kernelspec": {
   "display_name": "Python 3",
   "language": "python",
   "name": "python3"
  },
  "language_info": {
   "codemirror_mode": {
    "name": "ipython",
    "version": 3
   },
   "file_extension": ".py",
   "mimetype": "text/x-python",
   "name": "python",
   "nbconvert_exporter": "python",
   "pygments_lexer": "ipython3",
   "version": "3.6.5"
  }
 },
 "nbformat": 4,
 "nbformat_minor": 2
}
