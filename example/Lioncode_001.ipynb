{
 "cells": [
  {
   "cell_type": "markdown",
   "metadata": {},
   "source": [
    "#### [Lioncode 001 Medium] [Convert m-ary Tree to Binary Tree] \n",
    "\n",
    "<img src=\"source/Laioncode001_binarytree_m2b.png\">"
   ]
  },
  {
   "cell_type": "code",
   "execution_count": 17,
   "metadata": {
    "collapsed": true
   },
   "outputs": [],
   "source": [
    "from helper import TreeNode\n",
    "from helper import Traversal"
   ]
  },
  {
   "cell_type": "code",
   "execution_count": 18,
   "metadata": {
    "collapsed": true
   },
   "outputs": [],
   "source": [
    "class MTreeNode(object):\n",
    "    def __init__(self, val):\n",
    "        self.val = val\n",
    "        self.children = []\n",
    "\n",
    "class Solution(object):\n",
    "    def mray_binary(self, mroot):\n",
    "        # base case\n",
    "        if not mroot:\n",
    "            return None\n",
    "\n",
    "        # what to get from your children\n",
    "        children_root = []\n",
    "        for child in mroot.children:\n",
    "            children_root.append(mray_binary(child))\n",
    "\n",
    "        # what to do in the current layer\n",
    "        root = TreeNode(mroot.val)\n",
    "        if not children_root:\n",
    "            return root\n",
    "        else:\n",
    "            root.left = children_root[0]\n",
    "            for index in range(1, len(children_root)):\n",
    "                children_root[index - 1].right = children_root[index]\n",
    "            return root"
   ]
  },
  {
   "cell_type": "code",
   "execution_count": 19,
   "metadata": {},
   "outputs": [
    {
     "name": "stdout",
     "output_type": "stream",
     "text": [
      "[[1], [2, ' '], [6, 3], [' ', 7, 8, 4], [' ', ' ', ' ', ' ', ' ', 5], [9, ' '], [' ', 10], [' ', 11]]\n"
     ]
    }
   ],
   "source": [
    "node1 = MTreeNode(1)\n",
    "node2 = MTreeNode(2)\n",
    "node3 = MTreeNode(3)\n",
    "node4 = MTreeNode(4)\n",
    "node5 = MTreeNode(5)\n",
    "node6 = MTreeNode(6)\n",
    "node7 = MTreeNode(7)\n",
    "node8 = MTreeNode(8)\n",
    "node9 = MTreeNode(9)\n",
    "node10 = MTreeNode(10)\n",
    "node11 = MTreeNode(11)\n",
    "\n",
    "mroot = node1\n",
    "node1.children = [node2, node3, node4, node5]\n",
    "node2.children = [node6, node7]\n",
    "node3.children = [node8]\n",
    "node5.children = [node9, node10, node11]\n",
    "\n",
    "\n",
    "soln = Solution()\n",
    "root = soln.mray_binary(mroot)\n",
    "\n",
    "traversal = Traversal()\n",
    "print(traversal.BFS_traversal(root))"
   ]
  },
  {
   "cell_type": "code",
   "execution_count": null,
   "metadata": {
    "collapsed": true
   },
   "outputs": [],
   "source": []
  },
  {
   "cell_type": "code",
   "execution_count": null,
   "metadata": {
    "collapsed": true
   },
   "outputs": [],
   "source": []
  }
 ],
 "metadata": {
  "kernelspec": {
   "display_name": "Python 3",
   "language": "python",
   "name": "python3"
  },
  "language_info": {
   "codemirror_mode": {
    "name": "ipython",
    "version": 3
   },
   "file_extension": ".py",
   "mimetype": "text/x-python",
   "name": "python",
   "nbconvert_exporter": "python",
   "pygments_lexer": "ipython3",
   "version": "3.6.5"
  }
 },
 "nbformat": 4,
 "nbformat_minor": 2
}
