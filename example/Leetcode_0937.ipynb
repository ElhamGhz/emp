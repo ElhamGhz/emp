{
 "cells": [
  {
   "cell_type": "markdown",
   "metadata": {},
   "source": [
    "#### [Leetcode 937 Easy] [Reorder Log Files](https://leetcode.com/problems/reorder-log-files/)\n",
    "\n",
    "You have an array of logs.  Each log is a space delimited string of words.\n",
    "\n",
    "For each log, the first word in each log is an alphanumeric identifier.  Then, either:\n",
    "* Each word after the identifier will consist only of lowercase letters, or;\n",
    "* Each word after the identifier will consist only of digits.\n",
    "\n",
    "We will call these two varieties of logs letter-logs and digit-logs.  It is guaranteed that each log has at least one word after its identifier.\n",
    "\n",
    "Reorder the logs so that all of the letter-logs come before any digit-log.  The letter-logs are ordered lexicographically ignoring identifier, with the identifier used in case of ties.  The digit-logs should be put in their original order.\n",
    "\n",
    "Return the final order of the logs.\n",
    "\n",
    "Example 1:\n",
    "```\n",
    "Input: [\"a1 9 2 3 1\",\"g1 act car\",\"zo4 4 7\",\"ab1 off key dog\",\"a8 act zoo\"]\n",
    "Output: [\"g1 act car\",\"a8 act zoo\",\"ab1 off key dog\",\"a1 9 2 3 1\",\"zo4 4 7\"]\n",
    "```\n",
    "\n",
    "Note:\n",
    "* 0 <= logs.length <= 100\n",
    "* 3 <= logs[i].length <= 100\n",
    "* logs[i] is guaranteed to have an identifier, and a word after the identifier."
   ]
  },
  {
   "cell_type": "markdown",
   "metadata": {},
   "source": [
    "首先需要进行分割成索引和内容，然后对内容的第一个单词进行判断，如果是英文字符串，那么把内容和索引构成tuple放到letters的列表里；如果是数字字符串，那么直接把当前的这个log放到nums列表里。\n",
    "\n",
    "然后我们需要对letters进行排序，因为tuple里首先是内容，然后是索引，所以会先对内容进行排序，然后再对索引进行排序。\n",
    "\n",
    "把letters排序的结果重置成正常的状态和nums拼接在一起，返回即可。\n",
    "\n",
    "时间复杂度是O(n + mlogm)，空间复杂度是O(n)。"
   ]
  },
  {
   "cell_type": "code",
   "execution_count": 4,
   "metadata": {},
   "outputs": [
    {
     "name": "stdout",
     "output_type": "stream",
     "text": [
      "['g1 act car', 'a8 act zoo', 'ab1 off key dog', 'a1 9 2 3 1', 'zo4 4 7']\n"
     ]
    }
   ],
   "source": [
    "class Solution(object):\n",
    "    def reorderLogFiles(self, logs):\n",
    "        \"\"\"\n",
    "        :type logs: List[str]\n",
    "        :rtype: List[str]\n",
    "        \"\"\"\n",
    "        if not logs:\n",
    "            return []\n",
    "        \n",
    "        letters = []\n",
    "        nums = []\n",
    "        \n",
    "        for log in logs:\n",
    "            logsplit = log.split(\" \")\n",
    "            if logsplit[1].isalpha():  # letter logs\n",
    "                letters.append((\" \".join(logsplit[1:]), logsplit[0]))\n",
    "            else:\n",
    "                nums.append(log)\n",
    "                \n",
    "        letters.sort()\n",
    "        \n",
    "        results = []\n",
    "        for letter1, letter0 in letters:\n",
    "            results.append(letter0 + \" \" + letter1)\n",
    "        results += nums\n",
    "        \n",
    "        return results\n",
    "    \n",
    "if __name__ == \"__main__\":\n",
    "    soln = Solution()\n",
    "    \n",
    "    print(soln.reorderLogFiles(logs=[\"a1 9 2 3 1\",\"g1 act car\",\"zo4 4 7\",\"ab1 off key dog\",\"a8 act zoo\"]))"
   ]
  },
  {
   "cell_type": "code",
   "execution_count": null,
   "metadata": {
    "collapsed": true
   },
   "outputs": [],
   "source": []
  },
  {
   "cell_type": "code",
   "execution_count": null,
   "metadata": {
    "collapsed": true
   },
   "outputs": [],
   "source": []
  },
  {
   "cell_type": "code",
   "execution_count": null,
   "metadata": {
    "collapsed": true
   },
   "outputs": [],
   "source": []
  }
 ],
 "metadata": {
  "kernelspec": {
   "display_name": "Python 3",
   "language": "python",
   "name": "python3"
  },
  "language_info": {
   "codemirror_mode": {
    "name": "ipython",
    "version": 3
   },
   "file_extension": ".py",
   "mimetype": "text/x-python",
   "name": "python",
   "nbconvert_exporter": "python",
   "pygments_lexer": "ipython3",
   "version": "3.6.5"
  }
 },
 "nbformat": 4,
 "nbformat_minor": 2
}
