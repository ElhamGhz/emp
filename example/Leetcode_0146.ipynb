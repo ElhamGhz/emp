{
 "cells": [
  {
   "cell_type": "markdown",
   "metadata": {},
   "source": [
    "#### [Leetcode 146 Hard] [LRU Cache](https://leetcode.com/problems/lru-cache/)\n",
    "\n",
    "Design and implement a data structure for Least Recently Used (LRU) cache. It should support the following operations: get and put.\n",
    "\n",
    "get(key) - Get the value (will always be positive) of the key if the key exists in the cache, otherwise return -1.\n",
    "put(key, value) - Set or insert the value if the key is not already present. When the cache reached its capacity, it should invalidate the least recently used item before inserting a new item.\n",
    "\n",
    "Follow up:\n",
    "* Could you do both operations in O(1) time complexity?\n",
    "\n",
    "Example:\n",
    "```\n",
    "LRUCache cache = new LRUCache( 2 /* capacity */ );\n",
    "\n",
    "cache.put(1, 1);\n",
    "cache.put(2, 2);\n",
    "cache.get(1);       // returns 1\n",
    "cache.put(3, 3);    // evicts key 2\n",
    "cache.get(2);       // returns -1 (not found)\n",
    "cache.put(4, 4);    // evicts key 1\n",
    "cache.get(1);       // returns -1 (not found)\n",
    "cache.get(3);       // returns 3\n",
    "cache.get(4);       // returns 4\n",
    "```"
   ]
  },
  {
   "cell_type": "markdown",
   "metadata": {},
   "source": [
    "涉及删除和移动操作，使用链表，链表是有序的，一直维护，近期最多使用的放于尾部，那么每次缓存达到上限的时候，删除头部即可，其余为链表的基础操作模拟即可。"
   ]
  },
  {
   "cell_type": "code",
   "execution_count": 8,
   "metadata": {},
   "outputs": [
    {
     "name": "stdout",
     "output_type": "stream",
     "text": [
      "None\n",
      "None\n",
      "1\n",
      "None\n",
      "-1\n",
      "None\n",
      "-1\n",
      "3\n",
      "4\n"
     ]
    }
   ],
   "source": [
    "class LRUCache(object):\n",
    "\n",
    "    def __init__(self, capacity):\n",
    "        \"\"\"\n",
    "        :type capacity: int\n",
    "        \"\"\"\n",
    "        self.key_to_prev = {}  # key: key of the node, value: previous node\n",
    "        self.fake_head = LinkedNode()\n",
    "        self.tail = self.fake_head\n",
    "        self.capacity = capacity\n",
    "        \n",
    "\n",
    "    def get(self, key):\n",
    "        \"\"\"\n",
    "        :type key: int\n",
    "        :rtype: int\n",
    "        \"\"\"\n",
    "        if key not in self.key_to_prev:\n",
    "            return -1\n",
    "        self.kick(self.key_to_prev[key])\n",
    "        return self.key_to_prev[key].next.val\n",
    "        \n",
    "\n",
    "    def put(self, key, value):\n",
    "        \"\"\"\n",
    "        :type key: int\n",
    "        :type value: int\n",
    "        :rtype: None\n",
    "        \"\"\"\n",
    "        if key in self.key_to_prev:\n",
    "            self.kick(self.key_to_prev[key])\n",
    "            self.key_to_prev[key].next.val = value\n",
    "        else:\n",
    "            self.push_back(LinkedNode(key, value))  # add new node, if the node does not exist\n",
    "            if len(self.key_to_prev) > self.capacity:  # pop the head if it overceed the capacity\n",
    "                self.pop_front()\n",
    "        \n",
    "    def push_back(self, node):  # add new node\n",
    "        self.key_to_prev[node.key] = self.tail\n",
    "        \n",
    "        # create new connection\n",
    "        self.tail.next = node\n",
    "        \n",
    "        # move tail forward\n",
    "        self.tail = node\n",
    "        \n",
    "    def kick(self, prev):  # move the node to the tail\n",
    "        node = prev.next\n",
    "        if node == self.tail:\n",
    "            return\n",
    "        \n",
    "        # remove the node: prev --> node --> post\n",
    "        post = node.next\n",
    "        # prev --> post\n",
    "        prev.next = post\n",
    "        if post:\n",
    "            self.key_to_prev[post.key] = prev\n",
    "            # remove the connection: node --> post \n",
    "            node.next = None\n",
    "            \n",
    "        # move the node to the tail\n",
    "        self.push_back(node)\n",
    "        \n",
    "    def pop_front(self):  # remove the head\n",
    "        head = self.fake_head.next\n",
    "        \n",
    "        # remove the node: fake_head --> head --> post              \n",
    "        post = head.next\n",
    "        self.fake_head.next = post\n",
    "        if post:\n",
    "            self.key_to_prev[post.key] = self.fake_head\n",
    "            \n",
    "        del self.key_to_prev[head.key]\n",
    "        head.next = None\n",
    "        \n",
    "        \n",
    "        \n",
    "        \n",
    "        \n",
    "class LinkedNode(object):\n",
    "    def __init__(self, key=None, val=None, next=None):\n",
    "        self.key = key\n",
    "        self.val = val\n",
    "        self.next = next\n",
    "\n",
    "# Your LRUCache object will be instantiated and called as such:\n",
    "# obj = LRUCache(capacity)\n",
    "# param_1 = obj.get(key)\n",
    "# obj.put(key,value)\n",
    "\n",
    "if __name__ == \"__main__\":\n",
    "    cache = LRUCache(2)\n",
    "    \n",
    "    print(cache.put(1, 1));\n",
    "    print(cache.put(2, 2));\n",
    "    print(cache.get(1));       # returns 1\n",
    "    print(cache.put(3, 3));    # evicts key 2\n",
    "    print(cache.get(2));       # returns -1 (not found)\n",
    "    print(cache.put(4, 4));    # evicts key 1\n",
    "    print(cache.get(1));       # returns -1 (not found)\n",
    "    print(cache.get(3));       # returns 3\n",
    "    print(cache.get(4));       # returns 4"
   ]
  },
  {
   "cell_type": "code",
   "execution_count": null,
   "metadata": {
    "collapsed": true
   },
   "outputs": [],
   "source": []
  },
  {
   "cell_type": "code",
   "execution_count": null,
   "metadata": {
    "collapsed": true
   },
   "outputs": [],
   "source": []
  },
  {
   "cell_type": "code",
   "execution_count": null,
   "metadata": {
    "collapsed": true
   },
   "outputs": [],
   "source": []
  }
 ],
 "metadata": {
  "kernelspec": {
   "display_name": "Python 3",
   "language": "python",
   "name": "python3"
  },
  "language_info": {
   "codemirror_mode": {
    "name": "ipython",
    "version": 3
   },
   "file_extension": ".py",
   "mimetype": "text/x-python",
   "name": "python",
   "nbconvert_exporter": "python",
   "pygments_lexer": "ipython3",
   "version": "3.6.3"
  }
 },
 "nbformat": 4,
 "nbformat_minor": 2
}
