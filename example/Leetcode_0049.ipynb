{
 "cells": [
  {
   "cell_type": "markdown",
   "metadata": {},
   "source": [
    "#### [Leetcode 49 Medium] [Group Anagrams](https://leetcode.com/problems/group-anagrams/)\n",
    "\n",
    "Given an array of strings, group anagrams together.\n",
    "\n",
    "Example:\n",
    "```\n",
    "Input: [\"eat\", \"tea\", \"tan\", \"ate\", \"nat\", \"bat\"],\n",
    "Output:\n",
    "[\n",
    "  [\"ate\",\"eat\",\"tea\"],\n",
    "  [\"nat\",\"tan\"],\n",
    "  [\"bat\"]\n",
    "]\n",
    "```\n",
    "\n",
    "Note:\n",
    "* All inputs will be in lowercase.\n",
    "* The order of your output does not matter."
   ]
  },
  {
   "cell_type": "code",
   "execution_count": 3,
   "metadata": {},
   "outputs": [
    {
     "name": "stdout",
     "output_type": "stream",
     "text": [
      "[]\n",
      "[['eat', 'tea', 'ate'], ['tan', 'nat'], ['bat']]\n"
     ]
    }
   ],
   "source": [
    "class Solution(object):\n",
    "    def groupAnagrams(self, strs):\n",
    "        \"\"\"\n",
    "        :type strs: List[str]\n",
    "        :rtype: List[List[str]]\n",
    "        \"\"\"\n",
    "        if not strs:\n",
    "            return []\n",
    "        \n",
    "        counter = {}        \n",
    "        for string in strs:\n",
    "            string_sorted = \"\".join(sorted(string))\n",
    "            if string_sorted not in counter:\n",
    "                counter[string_sorted] = []\n",
    "            counter[string_sorted].append(string)\n",
    " \n",
    "        results = []\n",
    "        for _, value in counter.items():\n",
    "            results.append(value)\n",
    "            \n",
    "        return results\n",
    "        \n",
    "        \n",
    "if __name__ == '__main__':\n",
    "    soln = Solution()\n",
    "    \n",
    "    print(soln.groupAnagrams(strs=[])) \n",
    "    print(soln.groupAnagrams(strs=[\"eat\", \"tea\", \"tan\", \"ate\", \"nat\", \"bat\"])) "
   ]
  },
  {
   "cell_type": "markdown",
   "metadata": {},
   "source": [
    "Use defaultdict to simplify the coding"
   ]
  },
  {
   "cell_type": "code",
   "execution_count": 4,
   "metadata": {},
   "outputs": [
    {
     "name": "stdout",
     "output_type": "stream",
     "text": [
      "[]\n",
      "[['eat', 'tea', 'ate'], ['tan', 'nat'], ['bat']]\n"
     ]
    }
   ],
   "source": [
    "from collections import defaultdict\n",
    "\n",
    "class Solution(object):\n",
    "    def groupAnagrams(self, strs):\n",
    "        \"\"\"\n",
    "        :type strs: List[str]\n",
    "        :rtype: List[List[str]]\n",
    "        \"\"\"\n",
    "        if not strs:\n",
    "            return []\n",
    "        \n",
    "        counter = defaultdict(list)        \n",
    "        for string in strs:\n",
    "            string_sorted = \"\".join(sorted(string))\n",
    "            counter[string_sorted].append(string)\n",
    " \n",
    "        results = []\n",
    "        for _, value in counter.items():\n",
    "            results.append(value)\n",
    "            \n",
    "        return results\n",
    "        \n",
    "        \n",
    "if __name__ == '__main__':\n",
    "    soln = Solution()\n",
    "    \n",
    "    print(soln.groupAnagrams(strs=[])) \n",
    "    print(soln.groupAnagrams(strs=[\"eat\", \"tea\", \"tan\", \"ate\", \"nat\", \"bat\"])) "
   ]
  },
  {
   "cell_type": "code",
   "execution_count": null,
   "metadata": {
    "collapsed": true
   },
   "outputs": [],
   "source": []
  },
  {
   "cell_type": "code",
   "execution_count": null,
   "metadata": {
    "collapsed": true
   },
   "outputs": [],
   "source": []
  }
 ],
 "metadata": {
  "kernelspec": {
   "display_name": "Python 3",
   "language": "python",
   "name": "python3"
  },
  "language_info": {
   "codemirror_mode": {
    "name": "ipython",
    "version": 3
   },
   "file_extension": ".py",
   "mimetype": "text/x-python",
   "name": "python",
   "nbconvert_exporter": "python",
   "pygments_lexer": "ipython3",
   "version": "3.6.5"
  }
 },
 "nbformat": 4,
 "nbformat_minor": 2
}
