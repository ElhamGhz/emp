{
 "cells": [
  {
   "cell_type": "markdown",
   "metadata": {},
   "source": [
    "#### [Lioncode 005 Medium] Unifrom Tree\n",
    "Determine a given tree is uniform or not?\n",
    "```\n",
    "                2\n",
    "               /  \\\n",
    "              1     0\n",
    "             / \\   / \\\n",
    "            1  1  0   0\n",
    "```"
   ]
  },
  {
   "cell_type": "code",
   "execution_count": 2,
   "metadata": {
    "collapsed": true
   },
   "outputs": [],
   "source": [
    "from helper import TreeNode"
   ]
  },
  {
   "cell_type": "code",
   "execution_count": 3,
   "metadata": {
    "collapsed": true
   },
   "outputs": [],
   "source": [
    "class Solution(object):\n",
    "    def is_uniform(self, root):\n",
    "        if not root:\n",
    "            return True\n",
    "        \n",
    "        return self.helper(root, root.val)\n",
    "        \n",
    "    def helper(self, root, parent_val):\n",
    "        if not root:\n",
    "            return True\n",
    "        \n",
    "        # what to do in the current layer\n",
    "        if root.val != parent_val:\n",
    "            return False\n",
    "        \n",
    "        # what to get from your children\n",
    "        left_result = self.helper(root.left, root.val)\n",
    "        right_result = self.helper(root.right, root.val)\n",
    "        \n",
    "        # what to do in the current layer\n",
    "        if left_result is False:\n",
    "            return False\n",
    "        if right_result is False:\n",
    "            return False\n",
    "        \n",
    "        return True        "
   ]
  },
  {
   "cell_type": "code",
   "execution_count": 4,
   "metadata": {},
   "outputs": [
    {
     "name": "stdout",
     "output_type": "stream",
     "text": [
      "False\n",
      "True\n"
     ]
    }
   ],
   "source": [
    "root = TreeNode(1)\n",
    "root.left = TreeNode(1)\n",
    "root.right = TreeNode(0)\n",
    "root.left.left = TreeNode(1)\n",
    "root.left.right = TreeNode(1)\n",
    "root.right.left = TreeNode(0)\n",
    "root.right.right = TreeNode(0)\n",
    "\n",
    "soln = Solution()\n",
    "print(soln.is_uniform(root))\n",
    "\n",
    "root = TreeNode(1)\n",
    "root.left = TreeNode(1)\n",
    "root.right = TreeNode(1)\n",
    "root.left.left = TreeNode(1)\n",
    "root.left.right = TreeNode(1)\n",
    "root.right.left = TreeNode(1)\n",
    "root.right.right = TreeNode(1)\n",
    "\n",
    "soln = Solution()\n",
    "print(soln.is_uniform(root))"
   ]
  },
  {
   "cell_type": "code",
   "execution_count": 5,
   "metadata": {
    "collapsed": true
   },
   "outputs": [],
   "source": [
    "class Solution(object):\n",
    "    def is_uniform(self, root):\n",
    "        if not root:\n",
    "            return True\n",
    "        \n",
    "        result, _ = self.helper(root)\n",
    "        return result\n",
    "        \n",
    "    def helper(self, root):\n",
    "        if not root:\n",
    "            return True, None\n",
    "        \n",
    "        # what to get from your children\n",
    "        left_result, left_val = self.helper(root.left)\n",
    "        right_result, right_val = self.helper(root.right)\n",
    "        \n",
    "        # what to do in the current layer\n",
    "        if left_result is False:\n",
    "            return False, None\n",
    "        if right_result is False:\n",
    "            return False, None\n",
    "        if left_val is not None and left_val != root.val:\n",
    "            return False, None\n",
    "        if right_val is not None and right_val != root.val:\n",
    "            return False, None\n",
    "        \n",
    "        return True, root.val        "
   ]
  },
  {
   "cell_type": "code",
   "execution_count": 6,
   "metadata": {},
   "outputs": [
    {
     "name": "stdout",
     "output_type": "stream",
     "text": [
      "False\n",
      "True\n"
     ]
    }
   ],
   "source": [
    "root = TreeNode(1)\n",
    "root.left = TreeNode(1)\n",
    "root.right = TreeNode(0)\n",
    "root.left.left = TreeNode(1)\n",
    "root.left.right = TreeNode(1)\n",
    "root.right.left = TreeNode(0)\n",
    "root.right.right = TreeNode(0)\n",
    "\n",
    "soln = Solution()\n",
    "print(soln.is_uniform(root))\n",
    "\n",
    "root = TreeNode(1)\n",
    "root.left = TreeNode(1)\n",
    "root.right = TreeNode(1)\n",
    "root.left.left = TreeNode(1)\n",
    "root.left.right = TreeNode(1)\n",
    "root.right.left = TreeNode(1)\n",
    "root.right.right = TreeNode(1)\n",
    "\n",
    "soln = Solution()\n",
    "print(soln.is_uniform(root))"
   ]
  },
  {
   "cell_type": "code",
   "execution_count": null,
   "metadata": {
    "collapsed": true
   },
   "outputs": [],
   "source": []
  },
  {
   "cell_type": "code",
   "execution_count": null,
   "metadata": {
    "collapsed": true
   },
   "outputs": [],
   "source": []
  },
  {
   "cell_type": "markdown",
   "metadata": {},
   "source": [
    "#### Follow up:\n",
    "Determine the number of subtrees for a ununiform tree\n",
    "```\n",
    "                1\n",
    "               /  \\\n",
    "              1     0\n",
    "             / \\   / \\\n",
    "            1  1  0   0\n",
    "return 6\n",
    "```"
   ]
  },
  {
   "cell_type": "code",
   "execution_count": 7,
   "metadata": {
    "collapsed": true
   },
   "outputs": [],
   "source": [
    "class Solution(object):\n",
    "    def num_uniform(self, root):\n",
    "        if not root:\n",
    "            return True\n",
    "        \n",
    "        count, _ = self.helper(root)\n",
    "        return count\n",
    "        \n",
    "    def helper(self, root):\n",
    "        if not root:\n",
    "            return 0, None\n",
    "        \n",
    "        # what to get from your children\n",
    "        left_count, left_val = self.helper(root.left)\n",
    "        right_count, right_val = self.helper(root.right)\n",
    "        \n",
    "        # what to do in the current layer\n",
    "        count = left_count + right_count\n",
    "        if left_val is not None and left_val != root.val:\n",
    "            return count, root.val\n",
    "        if right_val is not None and right_val != root.val:\n",
    "            return count, root.val\n",
    "        \n",
    "        count += 1        \n",
    "        return count, root.val   "
   ]
  },
  {
   "cell_type": "code",
   "execution_count": 8,
   "metadata": {},
   "outputs": [
    {
     "name": "stdout",
     "output_type": "stream",
     "text": [
      "6\n",
      "7\n"
     ]
    }
   ],
   "source": [
    "root = TreeNode(1)\n",
    "root.left = TreeNode(1)\n",
    "root.right = TreeNode(0)\n",
    "root.left.left = TreeNode(1)\n",
    "root.left.right = TreeNode(1)\n",
    "root.right.left = TreeNode(0)\n",
    "root.right.right = TreeNode(0)\n",
    "\n",
    "soln = Solution()\n",
    "print(soln.num_uniform(root))\n",
    "\n",
    "root = TreeNode(1)\n",
    "root.left = TreeNode(1)\n",
    "root.right = TreeNode(1)\n",
    "root.left.left = TreeNode(1)\n",
    "root.left.right = TreeNode(1)\n",
    "root.right.left = TreeNode(1)\n",
    "root.right.right = TreeNode(1)\n",
    "\n",
    "soln = Solution()\n",
    "print(soln.num_uniform(root))"
   ]
  },
  {
   "cell_type": "code",
   "execution_count": null,
   "metadata": {
    "collapsed": true
   },
   "outputs": [],
   "source": []
  }
 ],
 "metadata": {
  "kernelspec": {
   "display_name": "Python 3",
   "language": "python",
   "name": "python3"
  },
  "language_info": {
   "codemirror_mode": {
    "name": "ipython",
    "version": 3
   },
   "file_extension": ".py",
   "mimetype": "text/x-python",
   "name": "python",
   "nbconvert_exporter": "python",
   "pygments_lexer": "ipython3",
   "version": "3.6.3"
  }
 },
 "nbformat": 4,
 "nbformat_minor": 2
}
