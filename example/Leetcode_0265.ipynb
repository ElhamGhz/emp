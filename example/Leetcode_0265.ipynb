{
 "cells": [
  {
   "cell_type": "markdown",
   "metadata": {},
   "source": [
    "#### Question: [Leetcode 265 Hard] [Paint House II](https://leetcode.com/problems/paint-house-ii/)\n",
    "\n",
    "here are a row of n houses, each house can be painted with one of the k colors. The cost of painting each house with a certain color is different. You have to paint all the houses such that no two adjacent houses have the same color.\n",
    "\n",
    "The cost of painting each house with a certain color is represented by a n x k cost matrix. For example, costs[0][0] is the cost of painting house 0 with color 0; costs[1][2] is the cost of painting house 1 with color 2, and so on... Find the minimum cost to paint all houses.\n",
    "\n",
    "Note:\n",
    "All costs are positive integers.\n",
    "\n",
    "Example:\n",
    "```\n",
    "Input: [[1,5,3],[2,9,4]]\n",
    "Output: 5\n",
    "Explanation: Paint house 0 into color 0, paint house 1 into color 2. Minimum cost: 1 + 4 = 5; \n",
    "             Or paint house 0 into color 2, paint house 1 into color 0. Minimum cost: 3 + 2 = 5. \n",
    "```\n",
    "\n",
    "Follow up:\n",
    "* Could you solve it in O(nk) runtime?"
   ]
  },
  {
   "cell_type": "code",
   "execution_count": 11,
   "metadata": {},
   "outputs": [],
   "source": [
    "class Solution(object):\n",
    "    def minCostII(self, costs):\n",
    "        \"\"\"\n",
    "        :type costs: List[List[int]]\n",
    "        :rtype: int\n",
    "        \"\"\"\n",
    "        # Edge case\n",
    "        if not costs or not costs[0]:\n",
    "            return 0\n",
    "        \n",
    "        # initialization\n",
    "        dp = costs[:]\n",
    "        \n",
    "        n = len(costs)  # number of houses\n",
    "        m = len(costs[0])  # number of paints\n",
    "        \n",
    "        for i in range(1, n):\n",
    "            for j in range(0, m):\n",
    "                min_val = float('inf')\n",
    "                for k in range(1, m):\n",
    "                    if min_val > dp[i - 1][(j + k) % m]:\n",
    "                        min_val = dp[i - 1][(j + k) % m]\n",
    "                dp[i][j] += min_val\n",
    "                \n",
    "        result = float('inf')\n",
    "        for j in range(0, m):\n",
    "            if result > dp[-1][j]:\n",
    "                result = dp[-1][j]\n",
    "                \n",
    "        return result"
   ]
  },
  {
   "cell_type": "code",
   "execution_count": 14,
   "metadata": {},
   "outputs": [
    {
     "name": "stdout",
     "output_type": "stream",
     "text": [
      "5\n",
      "5\n"
     ]
    }
   ],
   "source": [
    "soln = Solution()\n",
    "print(soln.minCostII(costs=[[1,5,3],[2,9,4]]))\n",
    "\n",
    "print(soln.minCostII(costs=[[1,3],[2,6]]))"
   ]
  },
  {
   "cell_type": "markdown",
   "metadata": {},
   "source": [
    "<font color='blue'>Solution: </font> Dynamic Programming  \n",
    "\n",
    "这道题是之前那道Paint House的拓展，那道题只让用红绿蓝三种颜色来粉刷房子，而这道题让我们用k种颜色，这道题不能用之前那题的解法，会TLE。这题的解法的思路还是用DP，但是在找不同颜色的最小值不是遍历所有不同颜色，而是用min1和min2来记录之前房子的最小和第二小的花费的颜色，如果当前房子颜色和min1相同，那么我们用min2对应的值计算，反之我们用min1对应的值，这种解法实际上也包含了求次小值的方法，感觉也是一种很棒的解题思路\n",
    "\n",
    "O(nk) time complexity and O(nk) space complexity."
   ]
  },
  {
   "cell_type": "code",
   "execution_count": 25,
   "metadata": {},
   "outputs": [],
   "source": [
    "class Solution(object):\n",
    "    def minCostII(self, costs):\n",
    "        \"\"\"\n",
    "        :type costs: List[List[int]]\n",
    "        :rtype: int\n",
    "        \"\"\"\n",
    "        # Edge case\n",
    "        if not costs or not costs[0]:\n",
    "            return 0\n",
    "        \n",
    "        # initialization\n",
    "        dp = costs[:]\n",
    "        \n",
    "        n = len(costs)  # number of houses\n",
    "        m = len(costs[0])  # number of paints\n",
    "        \n",
    "        min1, min2 = -1, -1\n",
    "\n",
    "        for i in range(0, n):\n",
    "            last1, last2 = min1, min2\n",
    "            for j in range(0, m):\n",
    "                if j != last1:\n",
    "                    if last1 < 0:\n",
    "                        dp[i][j] += 0\n",
    "                    else:\n",
    "                        dp[i][j] += dp[i - 1][last1]\n",
    "                else:\n",
    "                    if last2 < 0:\n",
    "                        dp[i][j] += 0\n",
    "                    else:\n",
    "                        dp[i][j] += dp[i - 1][last2]\n",
    "                \n",
    "                if min1 < 0 or dp[i][j] < dp[i][min1]:\n",
    "                    min2 = min1\n",
    "                    min1 = j\n",
    "                elif min2 < 0 or dp[i][j] < dp[i][min2]:\n",
    "                    min2 = j\n",
    "            #print(min1, min2)\n",
    "        result = dp[-1][min1]\n",
    "                \n",
    "        return result"
   ]
  },
  {
   "cell_type": "code",
   "execution_count": 26,
   "metadata": {},
   "outputs": [
    {
     "name": "stdout",
     "output_type": "stream",
     "text": [
      "0 2\n",
      "0 2\n",
      "5\n",
      "0 1\n",
      "0 0\n",
      "5\n"
     ]
    }
   ],
   "source": [
    "soln = Solution()\n",
    "print(soln.minCostII(costs=[[1,5,3],[2,9,4]]))\n",
    "\n",
    "print(soln.minCostII(costs=[[1,3],[2,6]]))"
   ]
  },
  {
   "cell_type": "markdown",
   "metadata": {},
   "source": [
    "<font color='blue'>Solution: </font> Dynamic Programming  \n",
    "\n",
    "This problem is similar to Paint House.\n",
    "\n",
    "The difference is that for each house, we need to compare k previous minimum costs. To optimize this, we find that when we check the costs in i-1th  house, we do not need check all k values. Instead, we only need the two smallest values min and secondmin. If we find the current color is the same with the one with min, we add secondmin. Otherwise we can safely add min.\n",
    "\n",
    "Thus, we can achieve O(nk) time complexity and O(1) space complexity."
   ]
  },
  {
   "cell_type": "code",
   "execution_count": 34,
   "metadata": {},
   "outputs": [],
   "source": [
    "class Solution(object):\n",
    "    def minCostII(self, costs):\n",
    "        \"\"\"\n",
    "        :type costs: List[List[int]]\n",
    "        :rtype: int\n",
    "        \"\"\"\n",
    "        # Edge case\n",
    "        if not costs or not costs[0]:\n",
    "            return 0\n",
    "        \n",
    "        n = len(costs)  # number of houses\n",
    "        m = len(costs[0])  # number of paints\n",
    "        \n",
    "        prev_min, prev_second = 0, 0\n",
    "        prev_index = -1\n",
    "        for i in range(0, n):\n",
    "            curr_min, curr_second = float('inf'), float('inf')\n",
    "            curr_index = -1\n",
    "            for j in range(0, m):\n",
    "                if j == prev_index:\n",
    "                    costs[i][j] += prev_second\n",
    "                else:\n",
    "                    costs[i][j] += prev_min\n",
    "                    \n",
    "                if costs[i][j] < curr_min:\n",
    "                    curr_second = curr_min\n",
    "                    curr_min = costs[i][j]\n",
    "                    curr_index = j\n",
    "                elif costs[i][j] < curr_second:\n",
    "                    curr_second = costs[i][j]\n",
    "                    \n",
    "            prev_min = curr_min\n",
    "            prev_second = curr_second\n",
    "            prev_index = curr_index\n",
    "            \n",
    "        return prev_min"
   ]
  },
  {
   "cell_type": "code",
   "execution_count": 35,
   "metadata": {},
   "outputs": [
    {
     "name": "stdout",
     "output_type": "stream",
     "text": [
      "5\n",
      "[[1, 5, 3], [5, 10, 5]]\n",
      "5\n",
      "[[1, 3], [5, 7]]\n"
     ]
    }
   ],
   "source": [
    "soln = Solution()\n",
    "\n",
    "costs=[[1,5,3],[2,9,4]]\n",
    "print(soln.minCostII(costs))\n",
    "print(costs)\n",
    "\n",
    "costs=[[1,3],[2,6]]\n",
    "print(soln.minCostII(costs))\n",
    "print(costs)"
   ]
  },
  {
   "cell_type": "code",
   "execution_count": null,
   "metadata": {},
   "outputs": [],
   "source": []
  },
  {
   "cell_type": "code",
   "execution_count": null,
   "metadata": {},
   "outputs": [],
   "source": []
  }
 ],
 "metadata": {
  "kernelspec": {
   "display_name": "Python 3",
   "language": "python",
   "name": "python3"
  },
  "language_info": {
   "codemirror_mode": {
    "name": "ipython",
    "version": 3
   },
   "file_extension": ".py",
   "mimetype": "text/x-python",
   "name": "python",
   "nbconvert_exporter": "python",
   "pygments_lexer": "ipython3",
   "version": "3.6.5"
  }
 },
 "nbformat": 4,
 "nbformat_minor": 2
}
