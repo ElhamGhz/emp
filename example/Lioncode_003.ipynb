{
 "cells": [
  {
   "cell_type": "markdown",
   "metadata": {},
   "source": [
    "#### [Lioncode 003 Medium] [Diameter of an N-ary Tree](https://www.geeksforgeeks.org/diameter-n-ary-tree/)\n",
    "\n",
    "The diameter of an N-ary tree is the longest path present between any two nodes of the tree. These two nodes must be two leaf nodes. The following examples have the longest path[diameter] shaded.\n",
    "\n",
    "Examples:\n",
    "<img src=\"source/Lioncode003_binarytree_m2b.png\">\n",
    "\n",
    "Example 2:\n",
    "<img src=\"source/Lioncode003_diameterN2.png\">"
   ]
  },
  {
   "cell_type": "code",
   "execution_count": 1,
   "metadata": {},
   "outputs": [],
   "source": [
    "class TreeNode(object):\n",
    "    def __init__(self, val):\n",
    "        self.val = val\n",
    "        self.children = []"
   ]
  },
  {
   "cell_type": "code",
   "execution_count": 1,
   "metadata": {},
   "outputs": [],
   "source": [
    "class Solution(object):\n",
    "    def diameterOfBinaryTree(self, root):\n",
    "        \"\"\"\n",
    "        :type root: TreeNode\n",
    "        :rtype: int\n",
    "        \"\"\"\n",
    "        if not root:\n",
    "            return 0\n",
    "        \n",
    "        diameter = [0]\n",
    "        \n",
    "        self.helper(root, diameter)\n",
    "        \n",
    "        return diameter[0]\n",
    "    \n",
    "    def helper(self, root, diameter):\n",
    "        # base case\n",
    "        if not root: # the height of none node is 0\n",
    "            return 0\n",
    "            \n",
    "        # what to get from your children\n",
    "        children_height = []\n",
    "        for child in root.children:\n",
    "            child_height = self.helper(child, diameter)\n",
    "            children_height.append(child_height)\n",
    "               \n",
    "        # what to do in the current stage\n",
    "        #  path_len = # node - 1\n",
    "        max_1, max_2 = 0, 0 \n",
    "        for height in children_height:\n",
    "            if height > max_1:\n",
    "                max_2 = max_1\n",
    "                max_1 = height\n",
    "            elif height > max_2:\n",
    "                max_2 = height\n",
    "                \n",
    "        path_len = max_1 + max_2\n",
    "        if diameter[0] < path_len:\n",
    "            diameter[0] = path_len\n",
    "        \n",
    "        # what to return to your parent -- height\n",
    "        return max_1 + 1"
   ]
  },
  {
   "cell_type": "markdown",
   "metadata": {},
   "source": [
    "#### Follow up: BFS\n",
    "\n",
    "1. Run bfs to find the farthest node from rooted tree let say A\n",
    "2. Then run bfs from A to find farthest node from A let B\n",
    "3. Distance between node A and B is the diameter of given tree"
   ]
  },
  {
   "cell_type": "code",
   "execution_count": null,
   "metadata": {},
   "outputs": [],
   "source": []
  },
  {
   "cell_type": "markdown",
   "metadata": {},
   "source": [
    "#### Follow up: find the sum of the diameter "
   ]
  },
  {
   "cell_type": "code",
   "execution_count": null,
   "metadata": {},
   "outputs": [],
   "source": []
  }
 ],
 "metadata": {
  "kernelspec": {
   "display_name": "Python 3",
   "language": "python",
   "name": "python3"
  },
  "language_info": {
   "codemirror_mode": {
    "name": "ipython",
    "version": 3
   },
   "file_extension": ".py",
   "mimetype": "text/x-python",
   "name": "python",
   "nbconvert_exporter": "python",
   "pygments_lexer": "ipython3",
   "version": "3.6.5"
  }
 },
 "nbformat": 4,
 "nbformat_minor": 2
}
