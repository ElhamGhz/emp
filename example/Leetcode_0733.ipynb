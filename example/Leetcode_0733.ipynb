{
 "cells": [
  {
   "cell_type": "markdown",
   "metadata": {},
   "source": [
    "#### [Leetcode 733 Easy] [Flood Fill](https://leetcode.com/problems/flood-fill/)\n",
    "\n",
    "An image is represented by a 2-D array of integers, each integer representing the pixel value of the image (from 0 to 65535).\n",
    "\n",
    "Given a coordinate (sr, sc) representing the starting pixel (row and column) of the flood fill, and a pixel value newColor, \"flood fill\" the image.\n",
    "\n",
    "To perform a \"flood fill\", consider the starting pixel, plus any pixels connected 4-directionally to the starting pixel of the same color as the starting pixel, plus any pixels connected 4-directionally to those pixels (also with the same color as the starting pixel), and so on. Replace the color of all of the aforementioned pixels with the newColor.\n",
    "\n",
    "At the end, return the modified image.\n",
    "\n",
    "Example 1:\n",
    "```\n",
    "Input: \n",
    "image = [[1,1,1],[1,1,0],[1,0,1]]\n",
    "sr = 1, sc = 1, newColor = 2\n",
    "Output: [[2,2,2],[2,2,0],[2,0,1]]\n",
    "Explanation: \n",
    "From the center of the image (with position (sr, sc) = (1, 1)), all pixels connected \n",
    "by a path of the same color as the starting pixel are colored with the new color.\n",
    "Note the bottom corner is not colored 2, because it is not 4-directionally connected\n",
    "to the starting pixel.\n",
    "```\n",
    "\n",
    "Note:\n",
    "* The length of image and image[0] will be in the range [1, 50].\n",
    "* The given starting pixel will satisfy 0 <= sr < image.length and 0 <= sc < image[0].length.\n",
    "* The value of each color in image[i][j] and newColor will be an integer in [0, 65535]."
   ]
  },
  {
   "cell_type": "code",
   "execution_count": 7,
   "metadata": {},
   "outputs": [
    {
     "name": "stdout",
     "output_type": "stream",
     "text": [
      "[[2, 2, 2], [2, 2, 0], [2, 0, 1]]\n",
      "[[0, 0, 0], [0, 1, 1]]\n"
     ]
    }
   ],
   "source": [
    "class Solution(object):\n",
    "    def floodFill(self, image, sr, sc, newColor):\n",
    "        \"\"\"\n",
    "        :type image: List[List[int]]\n",
    "        :type sr: int\n",
    "        :type sc: int\n",
    "        :type newColor: int\n",
    "        :rtype: List[List[int]]\n",
    "        \"\"\"\n",
    "        if not image:\n",
    "            return image\n",
    "        \n",
    "        source = image[sr][sc]\n",
    "        if source == newColor:\n",
    "            return image\n",
    "        \n",
    "        image[sr][sc] = newColor\n",
    "        \n",
    "        frontier = [(sr, sc)]\n",
    "        \n",
    "        dx, dy = [-1, 0, 1, 0], [0, -1, 0, 1]\n",
    "        \n",
    "        while frontier:\n",
    "            post = []\n",
    "            for x, y in frontier:\n",
    "                for d in range(4):\n",
    "                    nx, ny = x + dx[d], y + dy[d]\n",
    "                    if ((0 <= nx < len(image)) and \n",
    "                        (0 <= ny < len(image[0])) and\n",
    "                        (image[nx][ny] == source)):\n",
    "                        post.append((nx, ny))\n",
    "                        image[nx][ny] = newColor\n",
    "            frontier = post\n",
    "            \n",
    "        return image\n",
    "            \n",
    "if __name__ == \"__main__\":\n",
    "    soln = Solution()\n",
    "    \n",
    "    print(soln.floodFill(image = [[1,1,1],[1,1,0],[1,0,1]],\n",
    "                         sr = 1, sc = 1, newColor = 2))\n",
    "    # [[2, 2, 2], [2, 2, 0], [2, 0, 1]]\n",
    "    \n",
    "    print(soln.floodFill(image = [[0,0,0],[0,1,1]],\n",
    "                         sr = 1, sc = 1, newColor = 1))\n",
    "    "
   ]
  },
  {
   "cell_type": "code",
   "execution_count": 8,
   "metadata": {},
   "outputs": [
    {
     "name": "stdout",
     "output_type": "stream",
     "text": [
      "[[2, 2, 2], [2, 2, 0], [2, 0, 1]]\n",
      "[[0, 0, 0], [0, 1, 1]]\n"
     ]
    }
   ],
   "source": [
    "class Solution(object):\n",
    "    def floodFill(self, image, sr, sc, newColor):\n",
    "        \"\"\"\n",
    "        :type image: List[List[int]]\n",
    "        :type sr: int\n",
    "        :type sc: int\n",
    "        :type newColor: int\n",
    "        :rtype: List[List[int]]\n",
    "        \"\"\"\n",
    "        if not image:\n",
    "            return image\n",
    "\n",
    "        if image[sr][sc] == newColor:\n",
    "            return image\n",
    "        \n",
    "        source = image[sr][sc]\n",
    "        self. dfs(image, sr, sc, source, newColor)\n",
    "        \n",
    "        return image\n",
    "    \n",
    "    def dfs(self, image, x, y, source, newColor):\n",
    "        if (x < 0 or x >= len(image) or \n",
    "            y < 0 or y >= len(image[0])):\n",
    "            return\n",
    "        \n",
    "        image[x][y] = newColor\n",
    "        \n",
    "        dx, dy = [-1, 0, 1, 0], [0, -1, 0, 1]\n",
    "        \n",
    "        for d in range(4):\n",
    "            nx, ny = x + dx[d], y + dy[d]\n",
    "            if ((0 <= nx < len(image)) and \n",
    "                (0 <= ny < len(image[0])) and\n",
    "                (image[nx][ny] == source)):\n",
    "                image[nx][ny] = newColor\n",
    "                self.dfs(image, nx, ny, source, newColor)\n",
    "\n",
    "            \n",
    "        return image\n",
    "            \n",
    "if __name__ == \"__main__\":\n",
    "    soln = Solution()\n",
    "    \n",
    "    print(soln.floodFill(image = [[1,1,1],[1,1,0],[1,0,1]],\n",
    "                         sr = 1, sc = 1, newColor = 2))\n",
    "    # [[2, 2, 2], [2, 2, 0], [2, 0, 1]]\n",
    "    \n",
    "    print(soln.floodFill(image = [[0,0,0],[0,1,1]],\n",
    "                         sr = 1, sc = 1, newColor = 1))\n",
    "    "
   ]
  },
  {
   "cell_type": "code",
   "execution_count": null,
   "metadata": {},
   "outputs": [],
   "source": []
  }
 ],
 "metadata": {
  "kernelspec": {
   "display_name": "Python 3",
   "language": "python",
   "name": "python3"
  },
  "language_info": {
   "codemirror_mode": {
    "name": "ipython",
    "version": 3
   },
   "file_extension": ".py",
   "mimetype": "text/x-python",
   "name": "python",
   "nbconvert_exporter": "python",
   "pygments_lexer": "ipython3",
   "version": "3.6.5"
  }
 },
 "nbformat": 4,
 "nbformat_minor": 2
}
