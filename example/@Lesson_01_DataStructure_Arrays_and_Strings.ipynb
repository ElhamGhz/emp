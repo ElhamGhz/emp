{
 "cells": [
  {
   "cell_type": "markdown",
   "metadata": {},
   "source": [
    "Lesson 01: DATA STRUCTURE -- Arrays and Strings\n",
    "---\n",
    "In this lesson, we will cover the following part:\n",
    "1. Lecture Note -- Arrays and Strings\n",
    "2. Lecture Note -- Two Pointers\n",
    "3. Leetcode Tranining (Bacis)\n",
    "4. Leetcode Practice (Advanced)"
   ]
  },
  {
   "cell_type": "markdown",
   "metadata": {},
   "source": [
    "## 1.1 Lecture Note: Common Questions about Arrays and Strings\n",
    "\n",
    "Note: <font color='blue'>往往需要2个index/快慢指针来完成操作</font>\n",
    "1. Removal\n",
    "  1. remove some particular chars from a string.\n",
    "  2. remove all leading/trailing/duplicated empty spaces from a string.\n",
    "2. De-duplication.  e.g., 'aaaabbbb_ccc' --> 'ab_c'\n",
    "3. Reversal (swap). e.g., 'I love yahoo' --> 'yahoo love I'\n",
    "4. Substring --> strstr\n",
    "  1. regular method (naive solution) 两个字符串直接进行比较\n",
    "  2. [Rabin-Karp](https://en.wikipedia.org/wiki/Rabin%E2%80%93Karp_algorithm) (hash-based string matching)\n",
    "  3. [KMP](https://en.wikipedia.org/wiki/Knuth%E2%80%93Morris%E2%80%93Pratt_algorithm) (Knuth-Morris-Pratt) -- 几乎不会被面，不作要求"
   ]
  },
  {
   "cell_type": "markdown",
   "metadata": {},
   "source": [
    "### 1.1.1 Char Removal"
   ]
  },
  {
   "cell_type": "markdown",
   "metadata": {},
   "source": [
    "#### Question 1 (char removal) \n",
    "Remove a/some particular chars from a string.\n",
    "\n",
    "Example:  \n",
    "string input = \"student\", remove \"u\" and \"n\" -->   \n",
    "output: \"stdet\""
   ]
  },
  {
   "cell_type": "code",
   "execution_count": 2,
   "metadata": {},
   "outputs": [
    {
     "name": "stdout",
     "output_type": "stream",
     "text": [
      "stdet\n"
     ]
    }
   ],
   "source": [
    "class Solution(object):\n",
    "    def char_removal(self, string, remove_sets):\n",
    "        \"\"\"\n",
    "        Time Complexity: O(n), we iterate over the whole string/list\n",
    "        Space Complexity: O(n), we use a list to store the string\n",
    "        \"\"\"\n",
    "        remove_sets = set(remove_sets)\n",
    "        # Edge Case\n",
    "        if not string or not remove_sets:\n",
    "            return string\n",
    "        \n",
    "        # Main Part\n",
    "        lst = list(string)\n",
    "        fast = 0\n",
    "        slow = 0\n",
    "        \n",
    "        while fast < len(lst):\n",
    "            if lst[fast] not in remove_sets:\n",
    "                lst[slow] = lst[fast]\n",
    "                slow += 1\n",
    "            fast += 1\n",
    "            \n",
    "        return ''.join(lst[:slow])\n",
    "    \n",
    "if __name__ == \"__main__\":\n",
    "    soln = Solution()\n",
    "    print(soln.char_removal(string='student', remove_sets=['u','n']))"
   ]
  },
  {
   "cell_type": "markdown",
   "metadata": {},
   "source": [
    "#### Question 2 (Char Removal) \n",
    "Remove all leading/trailing and duplicate empty spaces (only leave one empty space if duplicated spaces happen) from the input string (must in place).\n",
    "\n",
    "Example:\n",
    "```\n",
    "input = \"_ _ _abc_ _de_ _\"\n",
    "output = \"abc_de\"\n",
    "```"
   ]
  },
  {
   "cell_type": "markdown",
   "metadata": {},
   "source": [
    "<font color='blue'>*Solution*:</font> fast and slow pointers:\n",
    "1. processing:\n",
    "  * case 1: string[fast] == '\\_' and slow == 0, ignore\n",
    "  * case 2: string[fast] == '\\_' and slow != 0 and string[slow-1] == '\\_', ignore\n",
    "  * case 3: string[fast] == '\\_' and slow != 0 and string[slow-1] != '\\_', keep\n",
    "  * case 4: string[fast] != '\\_', keep\n",
    "2. postprocessing:\n",
    "  * slow > 0 and string[slow-1] == '_', then slow -= 1"
   ]
  },
  {
   "cell_type": "code",
   "execution_count": 1,
   "metadata": {},
   "outputs": [
    {
     "name": "stdout",
     "output_type": "stream",
     "text": [
      "abc de de\n"
     ]
    }
   ],
   "source": [
    "class Solution(object):\n",
    "    def space_removal(self, string):\n",
    "        \"\"\"\n",
    "        Time Complexity: O(n), we iterate over the whole string/list\n",
    "        Space Complexity: O(n), we use a list to store the string\n",
    "        \"\"\"\n",
    "        # Edge Case\n",
    "        if not string:\n",
    "            return string\n",
    "        \n",
    "        lst = list(string)\n",
    "        fast, slow = 0, 0\n",
    "        \n",
    "        # processing\n",
    "        while fast < len(lst):\n",
    "            if ((lst[fast] != ' ') or \n",
    "                (lst[fast] == ' ' and slow != 0 and lst[slow - 1] != ' ')):\n",
    "                lst[slow] = lst[fast]\n",
    "                slow += 1\n",
    "            fast += 1\n",
    "            \n",
    "        # post-process\n",
    "        if slow > 0 and lst[slow - 1] == ' ':\n",
    "            slow -= 1\n",
    "            \n",
    "        return ''.join(lst[:slow])\n",
    "    \n",
    "if __name__ == \"__main__\":\n",
    "    soln = Solution()\n",
    "    print(soln.space_removal(string=\"   abc  de  de  \"))"
   ]
  },
  {
   "cell_type": "markdown",
   "metadata": {},
   "source": [
    "### 1.1.2 Char De-duplication"
   ]
  },
  {
   "cell_type": "markdown",
   "metadata": {},
   "source": [
    "#### Question 1 (Char de-duplication)\n",
    "Remove duplicated and adjacent letters (leave only one letter in each duplicated section) in a string.\n",
    "\n",
    "Example:\n",
    "```\n",
    "Input: 'aabbazw'\n",
    "Output: 'abazw'\n",
    "```"
   ]
  },
  {
   "cell_type": "code",
   "execution_count": 2,
   "metadata": {},
   "outputs": [
    {
     "name": "stdout",
     "output_type": "stream",
     "text": [
      "abazw\n",
      "a\n"
     ]
    }
   ],
   "source": [
    "class Solution(object):\n",
    "    def remove_duplication(self, string):\n",
    "        # Edge case\n",
    "        if not string:\n",
    "            return string\n",
    "        \n",
    "        lst = list(string)\n",
    "        slow, fast = 1, 1\n",
    "        \n",
    "        while fast < len(lst):\n",
    "            if lst[fast] != lst[slow - 1]:\n",
    "                lst[slow] = lst[fast]\n",
    "                slow += 1\n",
    "            fast += 1\n",
    "            \n",
    "        return ''.join(lst[:slow])\n",
    "    \n",
    "if __name__ == \"__main__\":\n",
    "    soln = Solution()\n",
    "    print(soln.remove_duplication(string='aabbazw'))\n",
    "    print(soln.remove_duplication(string='a'))"
   ]
  },
  {
   "cell_type": "markdown",
   "metadata": {},
   "source": [
    "#### Question 2 变种 (Char de-duplication)\n",
    "Given a sorted array, remove duplicated and adjacent letters (leave only two letters in each duplicated section) in a string.\n",
    "\n",
    "Example\n",
    "```\n",
    "input: aaabbbccc\n",
    "output: aabbcc\n",
    "```\n",
    "Example\n",
    "```\n",
    "input: 12223333\n",
    "output: 12233\n",
    "```"
   ]
  },
  {
   "cell_type": "code",
   "execution_count": 3,
   "metadata": {},
   "outputs": [
    {
     "name": "stdout",
     "output_type": "stream",
     "text": [
      "aabbcc\n",
      "12233\n",
      "1\n"
     ]
    }
   ],
   "source": [
    "class Solution(object):\n",
    "    def remove_duplication(self, string):\n",
    "        if not string or len(string) < 2:\n",
    "            return string\n",
    "        \n",
    "        lst = list(string)\n",
    "        slow, fast = 2, 2\n",
    "        \n",
    "        while fast < len(lst):\n",
    "            if lst[fast] != lst[slow - 2]:\n",
    "                lst[slow] = lst[fast]\n",
    "                slow += 1\n",
    "            fast += 1\n",
    "            \n",
    "        return ''.join(lst[:slow])\n",
    "\n",
    "if __name__ == \"__main__\":\n",
    "    soln = Solution()\n",
    "    print(soln.remove_duplication(string='aaabbbccc'))\n",
    "    print(soln.remove_duplication(string='12223333'))\n",
    "    print(soln.remove_duplication(string='1'))"
   ]
  },
  {
   "cell_type": "markdown",
   "metadata": {},
   "source": [
    "#### Question 3 (Char de-duplication adjacent letters repeatedly)\n",
    "Example\n",
    "```\n",
    "abbbbaz --> aaz -> z\n",
    "ababa --> ababa\n",
    "```"
   ]
  },
  {
   "cell_type": "code",
   "execution_count": 4,
   "metadata": {},
   "outputs": [
    {
     "name": "stdout",
     "output_type": "stream",
     "text": [
      "z\n",
      "ababa\n"
     ]
    }
   ],
   "source": [
    "class Solution(object):\n",
    "    def remove_duplicate(self, string):\n",
    "        \"\"\"\n",
    "        fast pointer and stack []\n",
    "        Time Complexity: O(n)\n",
    "        Space Complexity: O(n)\n",
    "        \"\"\"\n",
    "        if not string:\n",
    "            return string\n",
    "        \n",
    "        fast = 0\n",
    "        stack = []\n",
    "        \n",
    "        while fast < len(string):\n",
    "            if stack and string[fast] == stack[-1]:\n",
    "                while fast < len(string) and string[fast] == stack[-1]:\n",
    "                    fast += 1\n",
    "                stack.pop()\n",
    "            else:\n",
    "                stack.append(string[fast])\n",
    "                fast += 1\n",
    "                \n",
    "        return ''.join(stack)\n",
    "    \n",
    "if __name__ == \"__main__\":\n",
    "    soln = Solution()\n",
    "    print(soln.remove_duplicate(string='abbbaz'))\n",
    "    soln = Solution()\n",
    "    print(soln.remove_duplicate(string='ababa'))"
   ]
  },
  {
   "cell_type": "markdown",
   "metadata": {},
   "source": [
    "**Follow Up**:  \n",
    "What if we do NOT use the stack, and we only use a slow+fast two pointers to simulate this stack?\n",
    "1. We only care about the top of the stack\n",
    "2. slow pointer之前的空间可以复用"
   ]
  },
  {
   "cell_type": "markdown",
   "metadata": {},
   "source": [
    "<font color='blue'>*Solution 1*:</font>  \n",
    "fast: linear scan pointer  \n",
    "slow: all letters to the left of slow (including slow) are the processed letters than should be kept\n",
    "\n",
    "* Initialization: fast = 1, slow = 1\n",
    "* For each step:\n",
    "  * Case 1: a[fast] == a[slow], then repeatedly fast++ until a[fast] != a[slow], slow -= 1\n",
    "  * Case 2: a[fast] != a[slow], then a[slow] = a[fast], slow += 1, fast += 1\n",
    "* return a[0:slow]\n",
    "\n",
    "<font color='blue'>*Solution 2*:</font>   \n",
    "fast: linear scan pointer  \n",
    "slow: all letters to the left of slow (not including slow) are the processed letters than should be kept\n",
    "\n",
    "* Initialization: fast = 1, slow = 1\n",
    "* For each step:\n",
    "  * Case 1: a[fast] == a[slow-1], (#determine whether slow-1 is within the range) then repeatedly f++ until a[fast] != a[slow-1], slow -= 1\n",
    "  * Case 2: a[fast] != a[slow-1], then a[slow] = a[fast], slow += 1, fast += 1\n",
    "* return a[0:slow]\n",
    "\n",
    "提醒：index检查是必须的"
   ]
  },
  {
   "cell_type": "code",
   "execution_count": 5,
   "metadata": {},
   "outputs": [
    {
     "name": "stdout",
     "output_type": "stream",
     "text": [
      "z\n",
      "ababa\n"
     ]
    }
   ],
   "source": [
    "class Solution(object):\n",
    "    def remove_duplicate(self, string):\n",
    "        \"\"\"\n",
    "        two pointers: fast and slow\n",
    "        Time Complexity: O(n)\n",
    "        Space Complexity: O(n)\n",
    "        \"\"\"\n",
    "        if not string:\n",
    "            return string\n",
    "        \n",
    "        lst = list(string)\n",
    "        slow, fast = 0, 0\n",
    "        \n",
    "        while fast < len(lst):\n",
    "            if slow != 0 and lst[fast] == lst[slow - 1]:\n",
    "                while fast < len(lst) and lst[fast] == lst[slow - 1]:\n",
    "                    fast += 1\n",
    "                slow -= 1\n",
    "            else:\n",
    "                lst[slow] = lst[fast]\n",
    "                slow += 1\n",
    "                fast += 1\n",
    "                \n",
    "        return ''.join(lst[:slow])\n",
    "    \n",
    "if __name__ == \"__main__\":\n",
    "    soln = Solution()\n",
    "    print(soln.remove_duplicate(string='abbbaz'))\n",
    "    soln = Solution()\n",
    "    print(soln.remove_duplicate(string='ababa'))"
   ]
  },
  {
   "cell_type": "markdown",
   "metadata": {},
   "source": [
    "#### Question 4: remove all duplicated and adjacent letters\n",
    "\n",
    "Example\n",
    "```\n",
    "string input = \"12223333\"\n",
    "output: \"1\"\n",
    "```"
   ]
  },
  {
   "cell_type": "code",
   "execution_count": 6,
   "metadata": {},
   "outputs": [
    {
     "name": "stdout",
     "output_type": "stream",
     "text": [
      "1\n"
     ]
    }
   ],
   "source": [
    "class Solution(object):\n",
    "    def remove_duplicate(self, string):\n",
    "        \"\"\"\n",
    "        Time Complexity: O(n)\n",
    "        Space Complexity: O(n) with list conversion  (O(1) without list conversion)\n",
    "        \"\"\"\n",
    "        if not string:\n",
    "            return string\n",
    "        \n",
    "        array = list(string)\n",
    "        \n",
    "        slow, fast = 0, 0\n",
    "        # keeping where new number checking starts\n",
    "        dup_start = 0\n",
    "        \n",
    "        # processing\n",
    "        while fast < len(array):\n",
    "            if array[fast] != array[dup_start]:\n",
    "                # no duplicate number\n",
    "                if fast - dup_start == 1:\n",
    "                    array[slow] = array[dup_start]\n",
    "                    slow += 1\n",
    "                dup_start = fast\n",
    "            fast += 1\n",
    "            \n",
    "        # postprocessing\n",
    "        # check last time if no duplicate at the trailing\n",
    "        if fast - dup_start == 1:\n",
    "            array[slow] = array[dup_start]\n",
    "            slow += 1\n",
    "            \n",
    "        return ''.join(array[:slow])\n",
    "    \n",
    "if __name__ == \"__main__\":\n",
    "    soln = Solution()\n",
    "    print(soln.remove_duplicate(string=\"12223333\"))"
   ]
  },
  {
   "cell_type": "markdown",
   "metadata": {},
   "source": [
    "### 1.1.3 Reverse"
   ]
  },
  {
   "cell_type": "markdown",
   "metadata": {},
   "source": [
    "#### Question 1: [Laicode 396 Easy] [Reverse String](https://app.laicode.io/app/problem/396)\n",
    "\n",
    "Reverse a given string.\n",
    "\n",
    "Assumptions\n",
    "* The given string is not null."
   ]
  },
  {
   "cell_type": "code",
   "execution_count": 7,
   "metadata": {},
   "outputs": [
    {
     "name": "stdout",
     "output_type": "stream",
     "text": [
      "uoy evol I\n"
     ]
    }
   ],
   "source": [
    "class Solution(object):\n",
    "    def reverse(self, string):\n",
    "        \"\"\"\n",
    "        input: string input\n",
    "        return: string\n",
    "        Time: O(n)\n",
    "        Space: O(1)\n",
    "        \"\"\"\n",
    "        # write your solution here\n",
    "        if not string:\n",
    "            return string\n",
    "        \n",
    "        array = list(string)\n",
    "        left = 0\n",
    "        right = len(array) - 1\n",
    "        while left < right:\n",
    "            array[left], array[right] = array[right], array[left]\n",
    "            left += 1\n",
    "            right -= 1\n",
    "            \n",
    "        return \"\".join(array)\n",
    "    \n",
    "if __name__ == \"__main__\":\n",
    "    soln = Solution()\n",
    "    print(soln.reverse(string=\"I love you\"))"
   ]
  },
  {
   "cell_type": "markdown",
   "metadata": {},
   "source": [
    "#### Question 2: [Laicode 348 Easy] [Reverse Only Vowels](https://app.laicode.io/app/problem/348)\n",
    "\n",
    "Only reverse the vowels('a', 'e', 'i', 'o', 'u') in a given string, the other characters should not be moved or changed.\n",
    "\n",
    "Assumptions:\n",
    "* The given string is not null, and only contains lower case letters.\n",
    "\n",
    "Examples:\n",
    "```\n",
    "\"abbegi\" --> \"ibbega\"\n",
    "```"
   ]
  },
  {
   "cell_type": "code",
   "execution_count": 8,
   "metadata": {},
   "outputs": [
    {
     "name": "stdout",
     "output_type": "stream",
     "text": [
      "ibbega\n"
     ]
    }
   ],
   "source": [
    "class Solution(object):\n",
    "    def reverse_vowels(self, string):\n",
    "        \"\"\"\n",
    "        Time O(n)\n",
    "        Space O(1)\n",
    "        \"\"\"\n",
    "        if not string:\n",
    "            return string\n",
    "        \n",
    "        vowels = {'a', 'e', 'i', 'o', 'u'}\n",
    "        lst = list(string)\n",
    "        \n",
    "        left = 0\n",
    "        right = len(lst) - 1\n",
    "        \n",
    "        while left < right:\n",
    "            if lst[left] not in vowels:\n",
    "                left += 1\n",
    "            elif lst[right] not in vowels:\n",
    "                right -= 1\n",
    "            else:\n",
    "                lst[left], lst[right] = lst[right], lst[left]\n",
    "                left += 1\n",
    "                right -= 1\n",
    "                \n",
    "        return \"\".join(lst)    \n",
    "    \n",
    "if __name__ == \"__main__\":\n",
    "    soln = Solution()\n",
    "    print(soln.reverse_vowels(string=\"abbegi\"))"
   ]
  },
  {
   "cell_type": "markdown",
   "metadata": {},
   "source": [
    "#### Question 3: Reverse Words in A Sentence\n",
    "Example: \n",
    "```\n",
    "Input: \"I love Yahoo\"\n",
    "Output: \"Yahoo love I\"\n",
    "```"
   ]
  },
  {
   "cell_type": "markdown",
   "metadata": {},
   "source": [
    "<font color='blue'>*Solution*:</font>  \n",
    "1. Reverse whole string \"oohaY evol I\"\n",
    "2. Reverse every single word \"Yahoo love I\"\n",
    "3. Warn: use list() to convert string to array"
   ]
  },
  {
   "cell_type": "code",
   "execution_count": 9,
   "metadata": {},
   "outputs": [
    {
     "name": "stdout",
     "output_type": "stream",
     "text": [
      "Yahoo love I\n"
     ]
    }
   ],
   "source": [
    "class Solution(object):\n",
    "    def reverse_string(self, string):\n",
    "        if not string:\n",
    "            return string\n",
    "        \n",
    "        array = list(string)\n",
    "        \n",
    "        # Step 1: reverse the whole string\n",
    "        self.reverse(array, 0, len(array) - 1)\n",
    "        \n",
    "        # Step 2: reverse each single whole: Three pointers\n",
    "        index = 0\n",
    "        left = index\n",
    "        right = index\n",
    "        \n",
    "        while index < len(array):\n",
    "            if index + 1 == len(array) or array[index + 1] == ' ':\n",
    "                right = index\n",
    "                self.reverse(array, left, right)\n",
    "                # move to the begining of the next word\n",
    "                left = index + 2\n",
    "            index += 1\n",
    "            \n",
    "        return ''.join(array)\n",
    "        \n",
    "    def reverse(self, array, start, end):\n",
    "        if not array:\n",
    "            return array\n",
    "        \n",
    "        while start < end:\n",
    "            array[start], array[end] = array[end], array[start]\n",
    "            start += 1\n",
    "            end -= 1\n",
    "            \n",
    "if __name__ == \"__main__\":\n",
    "    soln = Solution()\n",
    "    print(soln.reverse_string(string=\"I love Yahoo\"))"
   ]
  },
  {
   "cell_type": "markdown",
   "metadata": {},
   "source": [
    "#### Question 4: [Laicode 383 Medium] [Reverse Words In A Sentence II](https://app.laicode.io/app/problem/383)\n",
    "\n",
    "Reverse the words in a sentence and truncate all heading/trailing/duplicate space characters.\n",
    "\n",
    "Examples\n",
    "```\n",
    "\" I  love  Google  \" → \"Google love I\"\n",
    "```\n",
    "\n",
    "Corner Cases\n",
    "* If the given string is null, we do not need to do anything."
   ]
  },
  {
   "cell_type": "code",
   "execution_count": 10,
   "metadata": {},
   "outputs": [
    {
     "name": "stdout",
     "output_type": "stream",
     "text": [
      "Google love I\n"
     ]
    }
   ],
   "source": [
    "class Solution(object):\n",
    "    def reverse_words(self, string):\n",
    "        if not string:\n",
    "            return string\n",
    "        \n",
    "        lst = list(string)\n",
    "        fast = 0\n",
    "        slow = 0\n",
    "        \n",
    "        # Remove space\n",
    "        while fast < len(lst):\n",
    "            if lst[fast] == ' ' and slow == 0:  # ignore\n",
    "                fast += 1\n",
    "                continue\n",
    "            elif lst[fast] == ' ' and slow != 0 and lst[slow - 1] == ' ': # ignore\n",
    "                fast += 1\n",
    "                continue\n",
    "            elif lst[fast] == ' ' and slow != 0 and lst[slow - 1] != ' ': # keep\n",
    "                lst[slow] = lst[fast]\n",
    "                slow += 1\n",
    "            else:\n",
    "                lst[slow] = lst[fast]\n",
    "                slow += 1\n",
    "            fast += 1\n",
    "            \n",
    "        # post processing for the trailing space\n",
    "        if slow > 0 and lst[slow - 1] == ' ':\n",
    "            slow -= 1\n",
    "            \n",
    "        # reverse words\n",
    "        self.reverse(lst, 0, slow - 1)\n",
    "        \n",
    "        idx = 0\n",
    "        left = 0\n",
    "        right = 0\n",
    "        while idx < slow:\n",
    "            if idx == slow or lst[idx + 1] == ' ':\n",
    "                right = idx\n",
    "                self.reverse(lst, left, right)\n",
    "                left = idx + 2\n",
    "            idx += 1\n",
    "            \n",
    "        return \"\".join(lst[:slow])\n",
    "    \n",
    "    def reverse(self, array, left, right):\n",
    "        while left < right:\n",
    "            array[left], array[right] = array[right], array[left]\n",
    "            left += 1\n",
    "            right -= 1\n",
    "            \n",
    "if __name__ == \"__main__\":\n",
    "    soln = Solution()\n",
    "    print(soln.reverse_words(string=\" I  love  Google  \"))"
   ]
  },
  {
   "cell_type": "markdown",
   "metadata": {},
   "source": [
    "### 1.1.4 Substring"
   ]
  },
  {
   "cell_type": "markdown",
   "metadata": {},
   "source": [
    "#### Question 1: [Leetcode 28 Easy] [Implement strStr()](https://leetcode.com/problems/implement-strstr/)\n",
    "\n",
    "Implement strStr().\n",
    "\n",
    "Return the index of the first occurrence of needle in haystack, or -1 if needle is not part of haystack.\n",
    "\n",
    "Example 1:\n",
    "```\n",
    "Input: haystack = \"hello\", needle = \"ll\"\n",
    "Output: 2\n",
    "```\n",
    "\n",
    "Example 2:\n",
    "```\n",
    "Input: haystack = \"aaaaa\", needle = \"bba\"\n",
    "Output: -1\n",
    "```\n",
    "\n",
    "Clarification:\n",
    "* What should we return when needle is an empty string? This is a great question to ask during an interview.\n",
    "* For the purpose of this problem, we will return 0 when needle is an empty string. \n",
    "\n",
    "实现strStr()，检查一个字符串是否是另一个字符串的子串\n",
    "Example:\n",
    "```\n",
    "Input: S (text)    = 'a b c d e',  len(S) = n\n",
    "       P (pattern) = 'c d e',      len(P) = m\n",
    "Output: True\n",
    "```"
   ]
  },
  {
   "cell_type": "markdown",
   "metadata": {},
   "source": [
    "<font color='blue'>*Solution 1*:</font> Brute-force, $O(nm)$  \n",
    "try every possible starting point in haystack that will potentially lead to a match of needle.\n",
    "\n",
    "```python\n",
    "for i in range(0, ??):\n",
    "    determine if text[i...] == pattern\n",
    "for each possible start position (i) of an occurrence:\n",
    "    try to match text[i...] and pattern[0...]\n",
    "```"
   ]
  },
  {
   "cell_type": "code",
   "execution_count": 11,
   "metadata": {},
   "outputs": [
    {
     "name": "stdout",
     "output_type": "stream",
     "text": [
      "2\n",
      "-1\n",
      "2\n",
      "-1\n"
     ]
    }
   ],
   "source": [
    "class Solution(object):\n",
    "    def strStr(self, source, target):\n",
    "        if not target:\n",
    "            return 0\n",
    "        if not source or len(target) > len(source):\n",
    "            return -1\n",
    " \n",
    "        \n",
    "        n = len(source)\n",
    "        m = len(target)\n",
    "        \n",
    "        for index in range(0, n - m + 1):\n",
    "            if source[index:index + m] == target:\n",
    "                return index\n",
    "            \n",
    "        return -1\n",
    "    \n",
    "    def strStr2(self, source, target):\n",
    "        if not source or not target or len(target) > len(source):\n",
    "            return -1\n",
    "        \n",
    "        n = len(source)\n",
    "        m = len(target)\n",
    "        \n",
    "        for index_1 in range(0, n - m + 1):\n",
    "            for index_2 in range(0, m):                  \n",
    "                if source[index_1 + index_2] != target[index_2]:\n",
    "                    break\n",
    "            else: # no break\n",
    "                return index_1\n",
    "            \n",
    "        return -1\n",
    "    \n",
    "if __name__ == \"__main__\":\n",
    "    soln = Solution()\n",
    "    print(soln.strStr(source=\"abcde\", target=\"cde\"))\n",
    "    print(soln.strStr(source=\"abcde\", target=\"ced\"))\n",
    "\n",
    "    print(soln.strStr2(source=\"abcde\", target=\"cde\"))\n",
    "    print(soln.strStr2(source=\"abcde\", target=\"ced\"))"
   ]
  },
  {
   "cell_type": "markdown",
   "metadata": {},
   "source": [
    "<font color='blue'>*Solution*:</font>   (DS) Rabin-Karp, average case $O(n-m)$, worst case $O(nm)$\n",
    "```\n",
    "s2 = 'c d e'   -->   hash('c d e') = X0\n",
    "s1 = 'a b c d e'\n",
    "          |---|\n",
    "      a b c     = X1,  X1 = 'a'*26^2 + 'b'*26^1 + 'c'*26^0\n",
    "        b c d   = X2,  X2 = (X1 - 'a'*26^2)*26 + 'd'\n",
    "          c d e = X0\n",
    "```\n",
    "* Principle: If we can hash the pattern to a unique integer (by a hash function without collision), then we can adjust compare each substring of s1's hashed value and compare it with s2's hash value.\n",
    "* Assumption: only lower case letter (base = 26, a -- z)\n",
    "```\n",
    "a = 97 --> 0\n",
    "b = 98 --> 1\n",
    "c = 99 --> 2\n",
    "...\n",
    "z = 122--> 25\n",
    "bcd = 123 (26进制) = 1*26^2 + 2*26^1 + 3*26^0 = 731\n",
    "cde = 234 (26进制) = 2*26^2 + 3*26^1 + 4*26^0 = 1434\n",
    "So, we have that\n",
    "      a b c     = X1,  X1 = 0*26^2 + 1*26^1 + 2*26^0 = 28\n",
    "        b c d   = X2,  X2 = 1*26^2 + 2*26^1 + 3*26^0 = 731\n",
    "                       X2 = (X1 - (0-0)*26^2)*26 + (4-0)*26^0 = 731\n",
    "          c d e = X0,  X0 = 2*26^2 + 3*26^1 + 4*26^0 = 1434\n",
    "```\n",
    "* Initialization: compute hash(s2) -- O(m)\n",
    "* Each time we move sliding window -- O(1) * (n-m) = O(n-m)\n",
    "* Total Time Complexity: O(n - m)\n",
    "```\n",
    "char --> int,  ord('a') = 97\n",
    "int --> char,  chr(97)  = 'a'\n",
    "```\n",
    "How to calculate X1 step by step?\n",
    "```\n",
    "initialization: X1 = 0, power = 1\n",
    "get 'a':        X1 = X1 * 26 + ord('a') = 0\n",
    "                power = 1 \n",
    "get 'b':        X1 = X1 * 26 + ord('b') = 0 * 26 ^ 1 + 1 = 1\n",
    "                power = power * 26 = 26 ^ 1\n",
    "get 'c':        X1 = X1 * 26 + ord('c') = 0 * 26 ^ 2 + 1 * 26 ^ 1 + 2 = 28\n",
    "                power = power * 26 = 26 ^ 2\n",
    "```\n",
    "\n",
    "How to move to X2 from X1\n",
    "```\n",
    "initialization: X2 = X1\n",
    "kick 'a':       X2 = X2 - power * ord('a') = 1 * 26 ^ 1 + 2 = 28\n",
    "get 'd':        X2 = X2 * 26 + ord('d') = 1 * 26 ^ 2 + 2 * 26 ^ 1 + 3 = 731\n",
    "```"
   ]
  },
  {
   "cell_type": "code",
   "execution_count": 52,
   "metadata": {
    "collapsed": true
   },
   "outputs": [],
   "source": [
    "class RabinKarp(object):\n",
    "    def __init__(self):\n",
    "        self.base = 26  # base for multiplication. we have 26 letters\n",
    "        # 使用 mod 的原因是为了避免哈希数过大而影响计算的速度和精度，尤其是当 substring 特别长的时候\n",
    "        self.mod = 997  # a prime number for hashing\n",
    "        \n",
    "    def strstr(self, haystack, needle):\n",
    "        if len(needle) > len(haystack):\n",
    "            return -1\n",
    "        \n",
    "        hay_hash, ndl_hash = 0, 0\n",
    "        power = 1\n",
    "        \n",
    "        for i in range(len(needle)):\n",
    "            power = power * self.base % self.mod if i != 0 else 1\n",
    "            hay_hash = (hay_hash * self.base + ord(haystack[i])) % self.mod\n",
    "            ndl_hash = (ndl_hash * self.base + ord(needle[i])) % self.mod\n",
    "            \n",
    "        for i in range(len(needle), len(haystack)):\n",
    "            # 哈希数相等不代表原始的两个 string 是一样的，因为我们使用了 mod，\n",
    "            # 所以我们还要检查一下两个string是否一样\n",
    "            if hay_hash == ndl_hash and needle == haystack[i-len(needle):i]:  \n",
    "                return i - len(needle)\n",
    "            hay_hash -= (power * ord(haystack[i-len(needle)])) % self.mod\n",
    "            if hay_hash < 0:\n",
    "                hay_hash += self.mod\n",
    "            hay_hash = (hay_hash * self.base + ord(haystack[i])) % self.mod\n",
    "        \n",
    "        if hay_hash == ndl_hash and needle == haystack[len(haystack)-len(needle):]:\n",
    "            return len(haystack) - len(needle)\n",
    "        \n",
    "        return -1\n",
    "    \n",
    "if __name__ == \"__main__\":\n",
    "    soln = Solution()\n",
    "    print(soln.strStr(source=\"abcde\", target=\"cde\"))\n",
    "    print(soln.strStr(source=\"abcde\", target=\"ced\"))\n",
    "\n",
    "    print(soln.strStr2(source=\"abcde\", target=\"cde\"))\n",
    "    print(soln.strStr2(source=\"abcde\", target=\"ced\"))"
   ]
  },
  {
   "cell_type": "code",
   "execution_count": 53,
   "metadata": {},
   "outputs": [
    {
     "name": "stdout",
     "output_type": "stream",
     "text": [
      "2\n"
     ]
    }
   ],
   "source": [
    "soln = RabinKarp()\n",
    "print(soln.strstr(haystack='abcde', needle='cde'))"
   ]
  },
  {
   "cell_type": "markdown",
   "metadata": {},
   "source": [
    "### 1.1.5 Palindrome and Anagram"
   ]
  },
  {
   "cell_type": "markdown",
   "metadata": {},
   "source": [
    "#### Question 1: [Laicode 446 Easy] [Valid palindrome](https://app.laicode.io/app/problem/446)\n",
    "Given a string, determine if it is a palindrome, considering only alphanumeric characters('0'-'9','a'-'z','A'-'Z') and ignoring cases.\n",
    "\n",
    "For example,\n",
    "```\n",
    "\"an apple, :) elp pana#\" is a palindrome.\n",
    "\n",
    "\"dia monds dn dia\" is not a palindrome.\n",
    "```"
   ]
  },
  {
   "cell_type": "code",
   "execution_count": 19,
   "metadata": {},
   "outputs": [
    {
     "name": "stdout",
     "output_type": "stream",
     "text": [
      "True\n",
      "False\n"
     ]
    }
   ],
   "source": [
    "class Solution(object):\n",
    "    def valid(self, string):\n",
    "        \"\"\"\n",
    "        input: string input\n",
    "        return: boolean\n",
    "        Time: O(n)\n",
    "        Space: O(1)\n",
    "        \"\"\"\n",
    "        # write your solution here\n",
    "        if not string:\n",
    "            return True\n",
    "        \n",
    "        left = 0\n",
    "        right = len(string) - 1\n",
    "        while left < right:\n",
    "            # .isalnum() determine if a string contains only alphanumeric characters\n",
    "            #   ('0'-'9','a'-'z','A'-'Z')\n",
    "            if not string[left].isalnum():\n",
    "                left += 1\n",
    "            elif not string[right].isalnum():\n",
    "                right -= 1\n",
    "            else:\n",
    "                if string[left].lower() != string[right].lower():\n",
    "                    return False\n",
    "                left += 1\n",
    "                right -= 1\n",
    "                \n",
    "        return True\n",
    "    \n",
    "if __name__ == \"__main__\":\n",
    "    soln = Solution()\n",
    "    print(soln.valid(string=\"an apple, :) elp pana#\"))\n",
    "    print(soln.valid(string=\"dia monds dn dia\"))"
   ]
  },
  {
   "cell_type": "markdown",
   "metadata": {},
   "source": [
    "#### Question 2: [Leetcode 242 Easy] [Valid Anagram / Two Strings Are Anagrams](https://leetcode.com/problems/valid-anagram/)\n",
    "Given two strings s and t , write a function to determine if t is an anagram of s.\n",
    "\n",
    "Example 1:\n",
    "```\n",
    "Input: s = \"anagram\", t = \"nagaram\"\n",
    "Output: true\n",
    "```\n",
    "\n",
    "Example 2:\n",
    "```\n",
    "Input: s = \"rat\", t = \"car\"\n",
    "Output: false\n",
    "```\n",
    "\n",
    "Note:\n",
    "* You may assume the string contains only lowercase alphabets.\n",
    "\n",
    "Follow up:\n",
    "* What if the inputs contain unicode characters? How would you adapt your solution to such case?"
   ]
  },
  {
   "cell_type": "markdown",
   "metadata": {},
   "source": [
    "<font color='blue'>*Solution 1*:</font>  Hash map, Time $O(n)$, Space $O(n)$"
   ]
  },
  {
   "cell_type": "code",
   "execution_count": 12,
   "metadata": {},
   "outputs": [
    {
     "name": "stdout",
     "output_type": "stream",
     "text": [
      "True\n",
      "False\n"
     ]
    }
   ],
   "source": [
    "class Solution(object):\n",
    "    def isAnagram(self, s, t):\n",
    "        \"\"\"\n",
    "        :type s: str\n",
    "        :type t: str\n",
    "        :rtype: bool\n",
    "        \"\"\"\n",
    "        if not s and not t:\n",
    "            return True\n",
    "        elif not s or not t:\n",
    "            return False\n",
    "        elif len(s) != len(t):\n",
    "            return False\n",
    "        \n",
    "        counter_s = self.get_frequencies(s)\n",
    "        counter_t = self.get_frequencies(t)\n",
    "        \n",
    "        if counter_s == counter_t:\n",
    "            return True\n",
    "        else:\n",
    "            return False\n",
    "        \n",
    "        \n",
    "    def get_frequencies(self, array):\n",
    "        freqs = {}\n",
    "        for item in array:\n",
    "            freqs[item] = freqs.get(item, 0) + 1\n",
    "            \n",
    "        return freqs\n",
    "    \n",
    "if __name__ == \"__main__\":\n",
    "    soln = Solution()\n",
    "    print(soln.isAnagram(s=\"anagram\", t=\"nagaram\"))\n",
    "    print(soln.isAnagram(s=\"rat\", t=\"car\"))"
   ]
  },
  {
   "cell_type": "markdown",
   "metadata": {},
   "source": [
    "#### Question 3: [Lintcode 55] [Compare Strings](https://www.lintcode.com/problem/compare-strings/description)\n",
    "\n",
    "Compare two strings A and B, determine whether A contains all of the characters in B.\n",
    "* The characters in string A and B are all Upper Case letters.\n",
    "* The characters of B in A are not necessary continuous or ordered.\n",
    "\n",
    "Example\n",
    "```\n",
    "For A = \"ABCD\", B = \"ACD\", return true.\n",
    "For A = \"ABCD\", B = \"AABC\", return false.\n",
    "```"
   ]
  },
  {
   "cell_type": "code",
   "execution_count": 13,
   "metadata": {},
   "outputs": [
    {
     "name": "stdout",
     "output_type": "stream",
     "text": [
      "True\n",
      "False\n"
     ]
    }
   ],
   "source": [
    "class Solution(object):\n",
    "    def compare_strings(self, A, B):\n",
    "        if not A:\n",
    "            return False\n",
    "        if not B:\n",
    "            return True\n",
    "        if len(B) > len(A):\n",
    "            return False\n",
    "        \n",
    "        counter = {}\n",
    "        for item in A:\n",
    "            counter[item] = counter.get(item, 0) + 1\n",
    "        \n",
    "        for item in B:\n",
    "            counter[item] = counter.get(item, 0) - 1\n",
    "            if counter[item] < 0:\n",
    "                return False\n",
    "            \n",
    "        return True\n",
    "    \n",
    "if __name__ == \"__main__\":\n",
    "    soln = Solution()\n",
    "    print(soln.compare_strings(A=\"ABCD\", B=\"ACD\"))\n",
    "    print(soln.compare_strings(A=\"ABCD\", B=\"AABC\"))"
   ]
  },
  {
   "cell_type": "markdown",
   "metadata": {},
   "source": [
    "#### Question 4: [Leetcode 49 Medium] [Group Anagrams](https://leetcode.com/problems/group-anagrams/)\n",
    "\n",
    "Given an array of strings, group anagrams together.\n",
    "\n",
    "Example:\n",
    "```\n",
    "Input: [\"eat\", \"tea\", \"tan\", \"ate\", \"nat\", \"bat\"],\n",
    "Output:\n",
    "[\n",
    "  [\"ate\",\"eat\",\"tea\"],\n",
    "  [\"nat\",\"tan\"],\n",
    "  [\"bat\"]\n",
    "]\n",
    "```\n",
    "\n",
    "Note:\n",
    "* All inputs will be in lowercase.\n",
    "* The order of your output does not matter."
   ]
  },
  {
   "cell_type": "markdown",
   "metadata": {},
   "source": [
    "<font color='blue'>*Solution 1*:</font> Brute-force, Dual-loop iteration $O(n^2 m)$  \n",
    "    \n",
    "<font color='blue'>*Solution 2*:</font> Sort and hash map $O(n m\\log m)$"
   ]
  },
  {
   "cell_type": "code",
   "execution_count": 14,
   "metadata": {},
   "outputs": [
    {
     "name": "stdout",
     "output_type": "stream",
     "text": [
      "{'aet': ['eat', 'tea', 'ate'], 'ant': ['tan', 'nat'], 'abt': ['bat']}\n",
      "[['eat', 'tea', 'ate'], ['tan', 'nat'], ['bat']]\n"
     ]
    }
   ],
   "source": [
    "class Solution(object):\n",
    "    def groupAnagrams(self, strs):\n",
    "        \"\"\"\n",
    "        :type strs: List[str]\n",
    "        :rtype: List[List[str]]\n",
    "        \"\"\"\n",
    "        counter = {}\n",
    "        results = []\n",
    "        \n",
    "        for string in strs:\n",
    "            string_sorted = \"\".join(sorted(string))\n",
    "            if string_sorted not in counter:\n",
    "                counter[string_sorted] = []\n",
    "            counter[string_sorted].append(string)\n",
    "        \n",
    "        print(counter)\n",
    "        \n",
    "        for key, val in counter.items():\n",
    "            results.append(val)\n",
    "            \n",
    "        return results\n",
    "    \n",
    "if __name__ == \"__main__\":\n",
    "    soln = Solution()\n",
    "    print(soln.groupAnagrams(strs=[\"eat\", \"tea\", \"tan\", \"ate\", \"nat\", \"bat\"]))"
   ]
  },
  {
   "cell_type": "markdown",
   "metadata": {},
   "source": [
    "#### Question 5: [Laicode 446 Medium] [All Anagrams](https://app.laicode.io/app/problem/398)\n",
    "Given a string s and a non-empty string p, find all the start indices of p's anagrams in s.\n",
    "\n",
    "Strings consists of lowercase English letters only and the length of both strings s and p will not be larger than 20,100.\n",
    "\n",
    "The order of output does not matter.\n",
    "\n",
    "Example 1:\n",
    "```\n",
    "Input:\n",
    "s: \"cbaebabacd\" p: \"abc\"\n",
    "\n",
    "Output:\n",
    "[0, 6]\n",
    "\n",
    "Explanation:\n",
    "The substring with start index = 0 is \"cba\", which is an anagram of \"abc\".\n",
    "The substring with start index = 6 is \"bac\", which is an anagram of \"abc\".\n",
    "```\n",
    "\n",
    "Example 2:\n",
    "```\n",
    "Input:\n",
    "s: \"abab\" p: \"ab\"\n",
    "\n",
    "Output:\n",
    "[0, 1, 2]\n",
    "\n",
    "Explanation:\n",
    "The substring with start index = 0 is \"ab\", which is an anagram of \"ab\".\n",
    "The substring with start index = 1 is \"ba\", which is an anagram of \"ab\".\n",
    "The substring with start index = 2 is \"ab\", which is an anagram of \"ab\".\n",
    "```"
   ]
  },
  {
   "cell_type": "code",
   "execution_count": 15,
   "metadata": {},
   "outputs": [
    {
     "name": "stdout",
     "output_type": "stream",
     "text": [
      "0 2 3 {'a': 0, 'b': 0, 'c': 0}\n",
      "1 3 2 {'a': 0, 'b': 0, 'c': 1}\n",
      "2 4 2 {'a': 0, 'b': 0, 'c': 1}\n",
      "3 5 2 {'a': 0, 'b': 0, 'c': 1}\n",
      "4 6 2 {'a': 0, 'b': -1, 'c': 1}\n",
      "5 7 2 {'a': -1, 'b': 0, 'c': 1}\n",
      "6 8 3 {'a': 0, 'b': 0, 'c': 0}\n",
      "7 9 2 {'a': 0, 'b': 1, 'c': 0}\n",
      "[0, 6]\n"
     ]
    }
   ],
   "source": [
    "class Solution(object):\n",
    "    def allAnagrams(self, string, part):\n",
    "        \"\"\"\n",
    "        input: string sh, string lo\n",
    "        return: Integer[]\n",
    "        \"\"\"\n",
    "        # write your solution here\n",
    "        result = []\n",
    "        if not string or not part:\n",
    "            return result\n",
    "        if len(string) < len(part):\n",
    "            return result\n",
    "            \n",
    "        # this map recodes for each of the distinct characters in part, how many characters are needed\n",
    "        # e.g., part \"abbc\", counter = {'a': 1, 'b': 2, 'c': 1}\n",
    "        # when we get an instance of 'a' in string, we let count of 'a' decremented by 1\n",
    "        # and only when the count is from 1 to 0, we have 'a' totally matched\n",
    "        counter = self.count_map(part)\n",
    "        # when match = len(counter), we find an anagram\n",
    "        match = 0\n",
    "        \n",
    "        for idx in range(len(string)):\n",
    "            letter = string[idx]\n",
    "            if letter in counter:\n",
    "                counter[letter] -= 1\n",
    "                if counter[letter] == 0: \n",
    "                    match += 1\n",
    "            if idx >= len(part) - 1:\n",
    "                temp = string[idx - len(part)]\n",
    "                if temp in counter:\n",
    "                    counter[temp] += 1\n",
    "                    if counter[temp] == 1:\n",
    "                        match -= 1        \n",
    "                print(idx - len(part) + 1, idx, match, counter)\n",
    "                if match == len(counter):\n",
    "                    result.append(idx - len(part) + 1)\n",
    "        \n",
    "        return result            \n",
    "        \n",
    "    def count_map(self, string):\n",
    "        freqs = {}\n",
    "        for char in string:\n",
    "            freqs[char] = freqs.get(char, 0) + 1\n",
    "            \n",
    "        return freqs\n",
    "    \n",
    "if __name__ == \"__main__\":\n",
    "    soln = Solution()\n",
    "    print(soln.allAnagrams(string=\"cbaebabacd\", part=\"abc\"))"
   ]
  },
  {
   "cell_type": "markdown",
   "metadata": {
    "collapsed": true
   },
   "source": [
    "### 1.1.5 Recursion on String"
   ]
  },
  {
   "cell_type": "markdown",
   "metadata": {
    "collapsed": true
   },
   "source": [
    "#### Question: [Leetcode 10 Hard] Regular Expression Matching\n",
    "Given an input string (s) and a pattern (p), implement regular expression matching with support for '.' and '*'.\n",
    "* '.' Matches any single character.\n",
    "* '*' Matches zero or more of the preceding element.\n",
    "\n",
    "The matching should cover the entire input string (not partial).\n",
    "\n",
    "Note:\n",
    "* s could be empty and contains only lowercase letters a-z.\n",
    "* p could be empty and contains only lowercase letters a-z, and characters like . or *.\n",
    "\n",
    "Example 1:\n",
    "```\n",
    "Input:\n",
    "s = \"aa\"\n",
    "p = \"a\"\n",
    "Output: false\n",
    "Explanation: \"a\" does not match the entire string \"aa\".\n",
    "```\n",
    "\n",
    "Example 2:\n",
    "```\n",
    "Input:\n",
    "s = \"aa\"\n",
    "p = \"a*\"\n",
    "Output: true\n",
    "Explanation: '*' means zero or more of the precedeng element, 'a'. Therefore, by repeating 'a' once, it becomes \"aa\".\n",
    "```\n",
    "\n",
    "Example 3:\n",
    "```\n",
    "Input:\n",
    "s = \"ab\"\n",
    "p = \".*\"\n",
    "Output: true\n",
    "Explanation: \".*\" means \"zero or more (*) of any character (.)\".\n",
    "```\n",
    "\n",
    "Example 4:\n",
    "```\n",
    "Input:\n",
    "s = \"aab\"\n",
    "p = \"c*a*b\"\n",
    "Output: true\n",
    "Explanation: c can be repeated 0 times, a can be repeated 1 time. Therefore it matches \"aab\".\n",
    "```\n",
    "\n",
    "Example 5:\n",
    "```\n",
    "Input:\n",
    "s = \"mississippi\"\n",
    "p = \"mis*is*p*.\"\n",
    "Output: false\n",
    "```"
   ]
  },
  {
   "cell_type": "markdown",
   "metadata": {},
   "source": [
    "<font color='blue'>Solution 1:</font>   \n",
    "Analysis:\n",
    "* S consists of a series of characters\n",
    "* P consists of a series of matcher units\n",
    "\n",
    "All possible matcher units:\n",
    "1. A single a-z, or\n",
    "2. A combination of (a-z or .) and * \n",
    "\n",
    "* S: the first character and the S_ consists of the rest of the characters\n",
    "* P: the first matcher unit and the P_ consists of the rest.\n",
    "\n",
    "Define the computation task:\n",
    "```python\n",
    "def F(S, P):\n",
    "    # Try to match P with S\n",
    "    if P[0] is case 1:\n",
    "        return S[0] can be matched to P[0] and F(S_, P_)\n",
    "    else:\n",
    "        # P[0] is case 2\n",
    "        # P[0] can be used to match zero or multiple characters in S\n",
    "        # Try every possible match\n",
    "        # Case 1: Match zero chars in S\n",
    "        if F(S, P_) is True:\n",
    "            return True\n",
    "        # Case 2: Match one or more chars in S\n",
    "        for match_length in range(1, len(S) + 1):\n",
    "            if S[match_length - 1] != P[0].char:\n",
    "                break\n",
    "            if F(S[match_length: ], P_):\n",
    "                return True\n",
    "            \n",
    "        return False\n",
    "```"
   ]
  },
  {
   "cell_type": "code",
   "execution_count": 17,
   "metadata": {},
   "outputs": [
    {
     "name": "stdout",
     "output_type": "stream",
     "text": [
      "True\n",
      "True\n",
      "False\n"
     ]
    }
   ],
   "source": [
    "class Solution(object):\n",
    "    def isMatch(self, s, p):\n",
    "        \"\"\"\n",
    "        :type s: str\n",
    "        :type p: str\n",
    "        :rtype: bool\n",
    "        \"\"\"\n",
    "        # Base Case\n",
    "        if not p:\n",
    "            return not s\n",
    "        \n",
    "        if len(p) >= 2 and p[1] == '*':\n",
    "            # match zero chars in s\n",
    "            if self.isMatch(s, p[2:]):\n",
    "                return True\n",
    "            for index in range(1, len(s) + 1):\n",
    "                if p[0] != '.' and s[index - 1] != p[0]:\n",
    "                    break\n",
    "                if self.isMatch(s[index:], p[2:]):\n",
    "                    return True\n",
    "            else:\n",
    "                return False\n",
    "        if s and (p[0] == '.' or s[0] == p[0]):\n",
    "            return self.isMatch(s[1:], p[1:])\n",
    "        \n",
    "        return False\n",
    "    \n",
    "if __name__ == \"__main__\":\n",
    "    soln = Solution()\n",
    "    print(soln.isMatch(s = \"aa\", p = \"a*\"))\n",
    "    print(soln.isMatch(s = \"ab\", p = \".*\"))    \n",
    "    print(soln.isMatch(s = \"mississippi\", p = \"mis*is*p*.\"))"
   ]
  },
  {
   "cell_type": "markdown",
   "metadata": {},
   "source": [
    "## 1.2 Two Pointers"
   ]
  },
  {
   "cell_type": "code",
   "execution_count": null,
   "metadata": {
    "collapsed": true
   },
   "outputs": [],
   "source": []
  },
  {
   "cell_type": "code",
   "execution_count": null,
   "metadata": {
    "collapsed": true
   },
   "outputs": [],
   "source": []
  },
  {
   "cell_type": "code",
   "execution_count": null,
   "metadata": {
    "collapsed": true
   },
   "outputs": [],
   "source": []
  },
  {
   "cell_type": "code",
   "execution_count": null,
   "metadata": {
    "collapsed": true
   },
   "outputs": [],
   "source": []
  },
  {
   "cell_type": "code",
   "execution_count": null,
   "metadata": {
    "collapsed": true
   },
   "outputs": [],
   "source": []
  },
  {
   "cell_type": "markdown",
   "metadata": {
    "collapsed": true
   },
   "source": [
    "## 1.3 Leetcode Practice (Basic) -- Array, String, and Two Pointers"
   ]
  },
  {
   "cell_type": "markdown",
   "metadata": {},
   "source": [
    "#### Array"
   ]
  },
  {
   "cell_type": "markdown",
   "metadata": {
    "collapsed": true
   },
   "source": [
    "[Leetcode 0001 Easy] [Two Sum](Leetcode_0001.ipynb) \n",
    "\n",
    "[Leetcode 0004 Hard] [Median of Two Sorted Arrays](Leetcode_0004.ipynb) \n",
    "\n",
    "[Leetcode 0005 Medium] [Longest Palindromic Substring](Leetcode_0005.ipynb) \n",
    "\n",
    "[Leetcode 0042 Hard] [Trapping Rain Water](Leetcode_0042.ipynb)\n",
    "\n",
    "[Leetcode 0049 Medium] [Group Anagrams](Leetcode_0049.ipynb)\n",
    "\n",
    "[Leetcode 0056 Medium] [Merge Intervals](Leetcode_0056.ipynb)\n",
    "\n",
    "[Leetcode 0076 Hard] [Minimum Window Substring](Leetcode_0076.ipynb)\n",
    "\n",
    "[Leetcode 0125 Easy] [Valid Palindrome](Leetcode_0125.ipynb)  \n",
    "[Leetcode 0680 Easy] [Valid Palindrome II](Leetcode_0680.ipynb)\n",
    "\n",
    "[Leetcode 0273 Hard] [Integer to English Words](Leetcode_0273.ipynb)\n",
    "\n",
    "[Leetcode 0311] [Sparse Matrix Multiplication](Leetcode_0311.ipynb)\n",
    "\n",
    "[Leetcode 0387 Easy] [First Unique Character in a String](Leetcode_0387.ipynb)\n"
   ]
  },
  {
   "cell_type": "markdown",
   "metadata": {
    "collapsed": true
   },
   "source": [
    "## 1.4 Leetcode Practice (Advanced) -- Array, String, and Two Pointers"
   ]
  },
  {
   "cell_type": "markdown",
   "metadata": {
    "collapsed": true
   },
   "source": [
    "[Leetcode 0647 Medium] [Palindromic Substrings](Leetcode_0647.ipynb)\n",
    "\n",
    "[Leetcode 0819 Easy] [Most Common Word](Leetcode_0819.ipynb)\n",
    "\n",
    "[Leetcode 0937 Easy] [Reorder Log Files](Leetcode_0937.ipynb)\n",
    "\n",
    "[Leetcode 0986 Medium] [Interval List Intersections](Leetcode_0986.ipynb)"
   ]
  },
  {
   "cell_type": "code",
   "execution_count": null,
   "metadata": {
    "collapsed": true
   },
   "outputs": [],
   "source": []
  },
  {
   "cell_type": "code",
   "execution_count": null,
   "metadata": {
    "collapsed": true
   },
   "outputs": [],
   "source": []
  },
  {
   "cell_type": "code",
   "execution_count": null,
   "metadata": {
    "collapsed": true
   },
   "outputs": [],
   "source": []
  },
  {
   "cell_type": "code",
   "execution_count": null,
   "metadata": {
    "collapsed": true
   },
   "outputs": [],
   "source": []
  },
  {
   "cell_type": "code",
   "execution_count": null,
   "metadata": {
    "collapsed": true
   },
   "outputs": [],
   "source": []
  },
  {
   "cell_type": "code",
   "execution_count": null,
   "metadata": {
    "collapsed": true
   },
   "outputs": [],
   "source": []
  },
  {
   "cell_type": "code",
   "execution_count": null,
   "metadata": {
    "collapsed": true
   },
   "outputs": [],
   "source": []
  },
  {
   "cell_type": "code",
   "execution_count": null,
   "metadata": {
    "collapsed": true
   },
   "outputs": [],
   "source": []
  }
 ],
 "metadata": {
  "kernelspec": {
   "display_name": "Python 3",
   "language": "python",
   "name": "python3"
  },
  "language_info": {
   "codemirror_mode": {
    "name": "ipython",
    "version": 3
   },
   "file_extension": ".py",
   "mimetype": "text/x-python",
   "name": "python",
   "nbconvert_exporter": "python",
   "pygments_lexer": "ipython3",
   "version": "3.6.1"
  }
 },
 "nbformat": 4,
 "nbformat_minor": 2
}
