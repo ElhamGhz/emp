{
 "cells": [
  {
   "cell_type": "markdown",
   "metadata": {},
   "source": [
    "#### [Leetcode 323 Medium] [Number of Connected Components in an Undirected Graph](https://leetcode.com/problems/number-of-connected-components-in-an-undirected-graph/)\n",
    "\n",
    "Given n nodes labeled from 0 to n - 1 and a list of undirected edges (each edge is a pair of nodes), write a function to find the number of connected components in an undirected graph.\n",
    "\n",
    "Example 1:\n",
    "```\n",
    "Input: n = 5 and edges = [[0, 1], [1, 2], [3, 4]]\n",
    "\n",
    "     0          3\n",
    "     |          |\n",
    "     1 --- 2    4 \n",
    "\n",
    "Output: 2\n",
    "```\n",
    "\n",
    "Example 2:\n",
    "```\n",
    "Input: n = 5 and edges = [[0, 1], [1, 2], [2, 3], [3, 4]]\n",
    "\n",
    "     0           4\n",
    "     |           |\n",
    "     1 --- 2 --- 3\n",
    "\n",
    "Output:  1\n",
    "```\n",
    "\n",
    "Note:\n",
    "* You can assume that no duplicate edges will appear in edges. Since all edges are undirected, [0, 1] is the same as [1, 0] and thus will not appear together in edges."
   ]
  },
  {
   "cell_type": "code",
   "execution_count": 8,
   "metadata": {},
   "outputs": [],
   "source": [
    "class Solution(object):\n",
    "    def countComponents(self, n, edges):\n",
    "        \"\"\"\n",
    "        :type n: int\n",
    "        :type edges: List[List[int]]\n",
    "        :rtype: int\n",
    "        \"\"\"\n",
    "        # convert to adjacency matrix\n",
    "        graph = {}\n",
    "        for start, end in edges:\n",
    "            if start not in graph:\n",
    "                graph[start] = []\n",
    "            graph[start].append(end)\n",
    "            \n",
    "            if end not in graph:\n",
    "                graph[end] = []\n",
    "            graph[end].append(start)\n",
    "            \n",
    "        # dfs\n",
    "        visited = set()\n",
    "        count = 0\n",
    "        \n",
    "        for i in range(n):\n",
    "            if i not in visited:\n",
    "                count += 1\n",
    "                self.dfs(graph, visited, i)\n",
    "                \n",
    "        return count\n",
    "                \n",
    "    def dfs(self, graph, visited, u):\n",
    "        visited.add(u)\n",
    "        \n",
    "        if u in graph:\n",
    "            for v in graph[u]:\n",
    "                if v not in visited:\n",
    "                    self.dfs(graph, visited, v)"
   ]
  },
  {
   "cell_type": "code",
   "execution_count": 9,
   "metadata": {},
   "outputs": [
    {
     "name": "stdout",
     "output_type": "stream",
     "text": [
      "2\n",
      "1\n"
     ]
    }
   ],
   "source": [
    "soln = Solution()\n",
    "print(soln.countComponents(n=5, edges=[[0, 1], [1, 2], [3, 4]]))\n",
    "print(soln.countComponents(n=5, edges=[[0, 1], [1, 2], [2, 3], [3, 4]]))"
   ]
  },
  {
   "cell_type": "markdown",
   "metadata": {},
   "source": [
    "<font color='blue'>Solution: </font>  Union Find\n",
    "\n",
    "最多的可能性是n组数，全相同，有n个集合。\n",
    "\n",
    "如果一组数最终找到的id不同，就是说明两个数不在一个集合中，则归入一个集合，可能性少1。\n",
    "\n",
    "```\n",
    "n = 5 => 有index list: temp [ 0, 1, 2, 3, 4 ]\n",
    "[ [0, 1], [2, 1], [1, 4], [3, 1] ]\n",
    "\n",
    "0 & 1 => temp [ 1, 1, 2, 3, 4 ]\n",
    "2 & 1 => temp [ 1, 1, 1, 3, 4 ]\n",
    "1 & 4 => temp [ 1, 4, 1, 3, 4 ]\n",
    "3 & 1 => 此时才会调用find函数中的while loop --> temp[1] = temp[temp[1]] = 4; start = 4 --> temp[4] == 4; 所以返回4. => temp [ 1, 4, 1, 4, 4 ]\n",
    "\n",
    "因为都连接在一起，所以应该返回result = 1。\n",
    "```"
   ]
  },
  {
   "cell_type": "code",
   "execution_count": 11,
   "metadata": {},
   "outputs": [],
   "source": [
    "class Solution(object):\n",
    "    def countComponents(self, n, edges):\n",
    "        \"\"\"\n",
    "        :type n: int\n",
    "        :type edges: List[List[int]]\n",
    "        :rtype: int\n",
    "        \"\"\"\n",
    "        result = n\n",
    "        temp = list(range(n)) # help list, 用于连接集合和查找index\n",
    "\n",
    "        for edge in edges:\n",
    "            if self.unite(edge[0], edge[1], temp):\n",
    "                result -= 1\n",
    "\n",
    "        return result\n",
    "\n",
    "    def unite(self, start, end, temp):\n",
    "        sid = self.find(start, temp)\n",
    "        eid = self.find(end, temp)\n",
    "        if sid == eid: # 同一个集合\n",
    "            return False\n",
    "        else: # 不同id，连接成一个集合\n",
    "            temp[sid] = eid\n",
    "            return True\n",
    "\n",
    "    def find(self, start, temp):\n",
    "        while temp[start] != start: # 假如不相同，意味着start已经被归入了集合\n",
    "            temp[start] = temp[temp[start]] # 往下深入，寻找最终的id\n",
    "            start = temp[start] # \n",
    "        return start"
   ]
  },
  {
   "cell_type": "code",
   "execution_count": 12,
   "metadata": {},
   "outputs": [
    {
     "name": "stdout",
     "output_type": "stream",
     "text": [
      "2\n",
      "1\n"
     ]
    }
   ],
   "source": [
    "soln = Solution()\n",
    "print(soln.countComponents(n=5, edges=[[0, 1], [1, 2], [3, 4]]))\n",
    "print(soln.countComponents(n=5, edges=[[0, 1], [1, 2], [2, 3], [3, 4]]))"
   ]
  },
  {
   "cell_type": "markdown",
   "metadata": {},
   "source": [
    "#### Follow up: \n",
    "给出一幅图，判断这个图如果任意去掉一条边后 这个图是否还是所有节点相联通的"
   ]
  },
  {
   "cell_type": "code",
   "execution_count": null,
   "metadata": {
    "collapsed": true
   },
   "outputs": [],
   "source": []
  }
 ],
 "metadata": {
  "kernelspec": {
   "display_name": "Python 3",
   "language": "python",
   "name": "python3"
  },
  "language_info": {
   "codemirror_mode": {
    "name": "ipython",
    "version": 3
   },
   "file_extension": ".py",
   "mimetype": "text/x-python",
   "name": "python",
   "nbconvert_exporter": "python",
   "pygments_lexer": "ipython3",
   "version": "3.6.5"
  }
 },
 "nbformat": 4,
 "nbformat_minor": 2
}
