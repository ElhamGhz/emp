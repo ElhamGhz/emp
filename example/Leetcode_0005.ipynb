{
 "cells": [
  {
   "cell_type": "markdown",
   "metadata": {},
   "source": [
    "#### [Leetcode 5 Medium] [Longest Palindromic Substring](https://leetcode.com/problems/longest-palindromic-substring/) \n",
    "\n",
    "Given a string s, find the longest palindromic substring in s. You may assume that the maximum length of s is 1000.\n",
    "\n",
    "Example 1:\n",
    "```\n",
    "Input: \"babad\"\n",
    "Output: \"bab\"\n",
    "Note: \"aba\" is also a valid answer.\n",
    "```\n",
    "\n",
    "Example 2:\n",
    "```\n",
    "Input: \"cbbd\"\n",
    "Output: \"bb\"\n",
    "```"
   ]
  },
  {
   "cell_type": "markdown",
   "metadata": {},
   "source": [
    "<font color='blue'>Solution: Dynamic Programming </font>\n",
    "\n",
    "此题还可以用动态规划 Dynamic Programming 来解，根 Palindrome Partitioning II 的解法很类似，我们维护一个二维数组 dp，其中 dp[i][j] 表示字符串区间 [i, j] 是否为回文串，当 i = j 时，只有一个字符，肯定是回文串，如果 i = j + 1，说明是相邻字符，此时需要判断 s[i] 是否等于 s[j]，如果i和j不相邻，即 i - j >= 2 时，除了判断 s[i] 和 s[j] 相等之外，dp[j + 1][i - 1] 若为真，就是回文串，通过以上分析，可以写出递推式如下：\n",
    "\n",
    "```\n",
    "dp[i, j] = 1                                           if i == j\n",
    "\n",
    "         = s[i] == s[j]                                if j = i + 1\n",
    "\n",
    "         = s[i] == s[j] && dp[i + 1][j - 1]            if j > i + 1      \n",
    "```\n",
    "\n",
    "* Time Complexity: O(n^2)\n",
    "* Space Complexity: O(n^2)"
   ]
  },
  {
   "cell_type": "code",
   "execution_count": 4,
   "metadata": {},
   "outputs": [
    {
     "name": "stdout",
     "output_type": "stream",
     "text": [
      "bab\n",
      "bb\n"
     ]
    }
   ],
   "source": [
    "class Solution(object):\n",
    "    def longestPalindrome(self, s):\n",
    "        \"\"\"\n",
    "        :type s: str\n",
    "        :rtype: str\n",
    "        \"\"\"        \n",
    "        if not s:\n",
    "            return \"\"\n",
    "        \n",
    "        n = len(s)\n",
    "        \n",
    "        # state definition    \n",
    "        is_palindrome = [[False for j in range(0, n)] for i in range(0, n)]\n",
    "        #print(is_palindrome)\n",
    "        \n",
    "        # state initialization\n",
    "        for i in range(n):\n",
    "            is_palindrome[i][i] = True\n",
    "        for i in range(n):\n",
    "            is_palindrome[i][i - 1] = True\n",
    "            \n",
    "            \n",
    "        # state transition\n",
    "        max_len = 0\n",
    "        start, end = 0, 0\n",
    "        for dist in range(1, n):\n",
    "            for i in range(0, n - dist):\n",
    "                j = i + dist\n",
    "                is_palindrome[i][j] = s[i] == s[j] and is_palindrome[i + 1][j - 1]\n",
    "                if is_palindrome[i][j] and dist + 1 > max_len:\n",
    "                    max_len = dist + 1\n",
    "                    start, end = i, j\n",
    "        \n",
    "        # state output\n",
    "        return s[start: end + 1]\n",
    "    \n",
    "if __name__ == \"__main__\":\n",
    "    soln = Solution()\n",
    "    \n",
    "    print(soln.longestPalindrome(s=\"babad\"))\n",
    "    print(soln.longestPalindrome(s=\"cbbd\"))"
   ]
  },
  {
   "cell_type": "markdown",
   "metadata": {},
   "source": [
    "<font color='blue'>Solution: 中心线枚举 </font>\n",
    "\n",
    "这道题让我们求最长回文子串，首先说下什么是回文串，就是正读反读都一样的字符串，比如 \"bob\", \"level\", \"noon\" 等等。那么最长回文子串就是在一个字符串中的那个最长的回文子串。LeetCode 中关于回文串的题共有五道，除了这道，其他的四道为 Palindrome Number，Validate Palindrome，Palindrome Partitioning，Palindrome Partitioning II，我们知道传统的验证回文串的方法就是两个两个的对称验证是否相等，那么对于找回文字串的问题，就要以每一个字符为中心，像两边扩散来寻找回文串，这个算法的时间复杂度是 O(n\\*n)，可以通过 OJ，就是要注意奇偶情况，由于回文串的长度可奇可偶，比如 \"bob\" 是奇数形式的回文，\"noon\" 就是偶数形式的回文，两种形式的回文都要搜索，对于奇数形式的，我们就从遍历到的位置为中心，向两边进行扩散，对于偶数情况，我们就把当前位置和下一个位置当作偶数行回文的最中间两个字符，然后向两边进行搜索\n",
    "\n",
    "* Time Complexity: O(n^2)\n",
    "* Space Complexity: O(1)"
   ]
  },
  {
   "cell_type": "code",
   "execution_count": 1,
   "metadata": {},
   "outputs": [
    {
     "name": "stdout",
     "output_type": "stream",
     "text": [
      "bab\n",
      "bb\n"
     ]
    }
   ],
   "source": [
    "class Solution(object):\n",
    "    def longestPalindrome(self, s):\n",
    "        \"\"\"\n",
    "        :type s: str\n",
    "        :rtype: str\n",
    "        中间开花，两边结果\n",
    "        Time Complexity: O(n^2)\n",
    "        Space Complexity: O(1)\n",
    "        \"\"\"\n",
    "        # Edge case\n",
    "        if not s:\n",
    "            return \"\"\n",
    "        \n",
    "        # result\n",
    "        max_len = 0\n",
    "        max_sub = \"\"\n",
    "        \n",
    "        # 中间开花: iterate over the whole string\n",
    "        for middle in range(0, len(s)):\n",
    "            # 两边结果: search for left and right\n",
    "            # case 1:  <-- middle -->\n",
    "            sub = self.check_palindrome(s, middle, middle)\n",
    "            if len(sub) > max_len:\n",
    "                max_len = len(sub)\n",
    "                max_sub = sub\n",
    "            # case 2:  <-- middle, middle + 1 -->\n",
    "            sub = self.check_palindrome(s, middle, middle + 1)\n",
    "            if len(sub) > max_len:\n",
    "                max_len = len(sub)\n",
    "                max_sub = sub\n",
    "                    \n",
    "        return max_sub\n",
    "            \n",
    "    def check_palindrome(self, s, start, end):\n",
    "        \"\"\"\n",
    "        两边结果\n",
    "        begins from the middle index, then search for left and right\n",
    "        Time Complexity: O(n)\n",
    "        Space Complexity: O(1)\n",
    "        \"\"\"\n",
    "        while start >= 0 and end < len(s) and s[start] == s[end]:\n",
    "            start -= 1\n",
    "            end += 1\n",
    "\n",
    "                \n",
    "        #print(start, end, s[start+1:end])\n",
    "        # bug free: the sub is not bounded by [start, end], but by [start+1, end-1]\n",
    "        return s[start+1:end]  \n",
    "    \n",
    "if __name__ == \"__main__\":\n",
    "    soln = Solution()\n",
    "    \n",
    "    print(soln.longestPalindrome(s=\"babad\"))\n",
    "    print(soln.longestPalindrome(s=\"cbbd\"))"
   ]
  },
  {
   "cell_type": "markdown",
   "metadata": {},
   "source": [
    "<font color='blue'>Solution: Manacher's Algorithm</font>\n",
    "\n",
    "最后要来的就是大名鼎鼎的马拉车算法 Manacher's Algorithm，这个算法的神奇之处在于将时间复杂度提升到了O(n)这种逆天的地步，而算法本身也设计的很巧妙，很值得我们掌握，参见我另一篇专门介绍马拉车算法的博客 [Manacher's Algorithm 马拉车算法](http://www.cnblogs.com/grandyang/p/4475985.html)\n",
    "\n",
    "[Source](https://www.felix021.com/blog/read.php?2040)\n",
    "\n",
    "* Time Complexity: O(n)\n"
   ]
  },
  {
   "cell_type": "code",
   "execution_count": 8,
   "metadata": {},
   "outputs": [
    {
     "name": "stdout",
     "output_type": "stream",
     "text": [
      "bab\n",
      "bb\n"
     ]
    }
   ],
   "source": [
    "class Solution(object):\n",
    "    def longestPalindrome(self, s):\n",
    "        \"\"\"\n",
    "        :type s: str\n",
    "        :rtype: str\n",
    "        \"\"\"        \n",
    "        if not s:\n",
    "            return \"\"\n",
    "            \n",
    "        # Using manacher's algorithm\n",
    "        # abba => #a#b#b#a#\n",
    "        chars = []\n",
    "        for c in s:\n",
    "            chars.append('#')\n",
    "            chars.append(c)\n",
    "        chars.append('#')\n",
    "        \n",
    "        n = len(chars)\n",
    "        palindrome = [0] * n\n",
    "        palindrome[0] = 1\n",
    "        \n",
    "        mid, longest = 0, 1\n",
    "        for i in range(1, n):\n",
    "            length = 1\n",
    "            if mid + longest > i:\n",
    "                mirror = mid - (i - mid)\n",
    "                length = min(palindrome[mirror], mid + longest - i)\n",
    "\n",
    "            while i + length < len(chars) and i - length >= 0:\n",
    "                if chars[i + length] != chars[i - length]:\n",
    "                    break;\n",
    "                length += 1\n",
    "            \n",
    "            if length > longest:\n",
    "                longest = length\n",
    "                mid = i\n",
    "            \n",
    "            palindrome[i] = length\n",
    "        \n",
    "        # remove the extra #\n",
    "        longest = longest - 1\n",
    "        start = (mid - 1) // 2 - (longest - 1) // 2\n",
    "        return s[start:start + longest]\n",
    "    \n",
    "if __name__ == \"__main__\":\n",
    "    soln = Solution()\n",
    "    \n",
    "    print(soln.longestPalindrome(s=\"babad\"))\n",
    "    print(soln.longestPalindrome(s=\"cbbd\"))"
   ]
  },
  {
   "cell_type": "code",
   "execution_count": null,
   "metadata": {
    "collapsed": true
   },
   "outputs": [],
   "source": []
  }
 ],
 "metadata": {
  "kernelspec": {
   "display_name": "Python 3",
   "language": "python",
   "name": "python3"
  },
  "language_info": {
   "codemirror_mode": {
    "name": "ipython",
    "version": 3
   },
   "file_extension": ".py",
   "mimetype": "text/x-python",
   "name": "python",
   "nbconvert_exporter": "python",
   "pygments_lexer": "ipython3",
   "version": "3.6.3"
  }
 },
 "nbformat": 4,
 "nbformat_minor": 2
}
