{
 "cells": [
  {
   "cell_type": "markdown",
   "metadata": {},
   "source": [
    "#### [Leetcode 253 Medium] [Meeting Rooms II](https://leetcode.com/problems/meeting-rooms-ii/)\n",
    "\n",
    "Given an array of meeting time intervals consisting of start and end times [[s1,e1],[s2,e2],...] (si < ei), find the minimum number of conference rooms required.\n",
    "\n",
    "Example 1:\n",
    "```\n",
    "Input: [[0, 30],[5, 10],[15, 20]]\n",
    "Output: 2\n",
    "```\n",
    "\n",
    "Example 2:\n",
    "```\n",
    "Input: [[7,10],[2,4]]\n",
    "Output: 1\n",
    "```\n",
    "\n",
    "NOTE: input types have been changed on April 15, 2019. Please reset to default code definition to get new method signature."
   ]
  },
  {
   "cell_type": "markdown",
   "metadata": {},
   "source": [
    "[Source](http://www.cnblogs.com/grandyang/p/5244720.html)\n",
    "\n",
    "[Source](https://www.jiuzhang.com/solutions/meeting-rooms-ii/#tag-highlight-lang-python)"
   ]
  },
  {
   "cell_type": "markdown",
   "metadata": {},
   "source": [
    "<font color=\"blue\">Solution: 扫描线算法(Sorting)</font>\n",
    "\n",
    "* Time Complexity: O(n + nlogn)\n",
    "* Space Complexity: O(n + logn)"
   ]
  },
  {
   "cell_type": "code",
   "execution_count": 2,
   "metadata": {},
   "outputs": [
    {
     "name": "stdout",
     "output_type": "stream",
     "text": [
      "2\n",
      "1\n"
     ]
    }
   ],
   "source": [
    "class Solution(object):\n",
    "    def minMeetingRooms(self, intervals):\n",
    "        \"\"\"\n",
    "        :type intervals: List[List[int]]\n",
    "        :rtype: int\n",
    "        \"\"\"\n",
    "        points = []\n",
    "        for start, end in intervals:\n",
    "            points.append((start, 1))\n",
    "            points.append((end, -1))\n",
    "            \n",
    "        meeting_rooms = 0\n",
    "        ongoing_meetings = 0\n",
    "        for _, delta in sorted(points):\n",
    "            ongoing_meetings += delta\n",
    "            meeting_rooms = max(meeting_rooms, ongoing_meetings)\n",
    "            \n",
    "        return meeting_rooms\n",
    "    \n",
    "if __name__ == \"__main__\":\n",
    "    soln = Solution()\n",
    "    \n",
    "    print(soln.minMeetingRooms(intervals=[[0, 30],[5, 10],[15, 20]]))\n",
    "    print(soln.minMeetingRooms(intervals=[[7,10],[2,4]]))"
   ]
  },
  {
   "cell_type": "markdown",
   "metadata": {},
   "source": [
    "<font color=\"blue\">Solution: Sorting + Heap </font>\n",
    "\n",
    "* Time Complexity: O(nlogn + nlogn)\n",
    "* Space Complexity: O(logn + n)"
   ]
  },
  {
   "cell_type": "code",
   "execution_count": 3,
   "metadata": {},
   "outputs": [
    {
     "name": "stdout",
     "output_type": "stream",
     "text": [
      "2\n",
      "1\n"
     ]
    }
   ],
   "source": [
    "import heapq\n",
    "\n",
    "class Solution(object):\n",
    "    def minMeetingRooms(self, intervals):\n",
    "        \"\"\"\n",
    "        :type intervals: List[List[int]]\n",
    "        :rtype: int\n",
    "        \"\"\"\n",
    "        if not intervals:\n",
    "            return 0\n",
    "        \n",
    "        intervals.sort(key = lambda x: x[0])\n",
    "            \n",
    "        heap = []\n",
    "        for start, end in intervals:\n",
    "            if heap and heap[0] <= start:\n",
    "                heapq.heappop(heap)\n",
    "            heapq.heappush(heap, end)\n",
    "            \n",
    "        return len(heap)\n",
    "    \n",
    "if __name__ == \"__main__\":\n",
    "    soln = Solution()\n",
    "    \n",
    "    print(soln.minMeetingRooms(intervals=[[0, 30],[5, 10],[15, 20]]))\n",
    "    print(soln.minMeetingRooms(intervals=[[7,10],[2,4]]))"
   ]
  },
  {
   "cell_type": "code",
   "execution_count": null,
   "metadata": {
    "collapsed": true
   },
   "outputs": [],
   "source": []
  }
 ],
 "metadata": {
  "kernelspec": {
   "display_name": "Python 3",
   "language": "python",
   "name": "python3"
  },
  "language_info": {
   "codemirror_mode": {
    "name": "ipython",
    "version": 3
   },
   "file_extension": ".py",
   "mimetype": "text/x-python",
   "name": "python",
   "nbconvert_exporter": "python",
   "pygments_lexer": "ipython3",
   "version": "3.6.3"
  }
 },
 "nbformat": 4,
 "nbformat_minor": 2
}
