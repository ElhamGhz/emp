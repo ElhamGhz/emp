{
 "cells": [
  {
   "cell_type": "markdown",
   "metadata": {},
   "source": [
    "#### [Leetcode 109 Medium] [Convert Sorted List to Binary Search Tree](https://leetcode.com/problems/convert-sorted-list-to-binary-search-tree/)\n",
    "\n",
    "Given a singly linked list where elements are sorted in ascending order, convert it to a height balanced BST.\n",
    "\n",
    "For this problem, a height-balanced binary tree is defined as a binary tree in which the depth of the two subtrees of every node never differ by more than 1.\n",
    "\n",
    "Example:\n",
    "```\n",
    "Given the sorted linked list: [-10,-3,0,5,9],\n",
    "\n",
    "One possible answer is: [0,-3,9,-10,null,5], which represents the following height balanced BST:\n",
    "\n",
    "      0\n",
    "     / \\\n",
    "   -3   9\n",
    "   /   /\n",
    " -10  5\n",
    "```"
   ]
  },
  {
   "cell_type": "markdown",
   "metadata": {},
   "source": [
    "<font color='blue'>Solution: </font> Two Pointers  \n",
    "\n",
    "这题和Convert Sorted Array to Binary Search Tree那题看上去很像，但是从array变成了linked list，就不能O(1)寻找中间节点了。一种直接的修改就是每次遍历一半的节点来找寻中间节点。如何在不知道linked list总长的情况下遍历一半节点？双指针策略，快指针一次走2个节点，慢指针一次走1个节点，当快指针到尾部时，慢指针对应的即为中间节点。但这种方法的时间复杂度为O(N logN)：每层递归一共访问N/2个节点，一共log N层递归（对应树的高度）。\n",
    "\n",
    "* Time Complexity: O(nlogn)\n",
    "* Space Complexity: O(1)"
   ]
  },
  {
   "cell_type": "code",
   "execution_count": 1,
   "metadata": {
    "collapsed": true
   },
   "outputs": [],
   "source": [
    "# Definition for singly-linked list.\n",
    "# class ListNode(object):\n",
    "#     def __init__(self, x):\n",
    "#         self.val = x\n",
    "#         self.next = None\n",
    "\n",
    "# Definition for a binary tree node.\n",
    "# class TreeNode(object):\n",
    "#     def __init__(self, x):\n",
    "#         self.val = x\n",
    "#         self.left = None\n",
    "#         self.right = None\n",
    "\n",
    "class Solution(object):\n",
    "    def sortedListToBST(self, head):\n",
    "        \"\"\"\n",
    "        :type head: ListNode\n",
    "        :rtype: TreeNode\n",
    "        \"\"\"\n",
    "        if not head:  # no list node\n",
    "            return None \n",
    "        if not head.next: # only one list node\n",
    "            root = TreeNode(head.val)\n",
    "            return root\n",
    "        \n",
    "        # what to do in the current stage\n",
    "        head1, head2, val = self.divide(head)\n",
    "        root = TreeNode(val)\n",
    "        \n",
    "        # what to get from your children\n",
    "        root.left = self.sortedListToBST(head1)\n",
    "        root.right = self.sortedListToBST(head2)\n",
    "        \n",
    "        # what to return to your parent\n",
    "        return root\n",
    "        \n",
    "    def divide(self, head):\n",
    "        fake_head = ListNode(None)\n",
    "        fake_head.next = head\n",
    "        \n",
    "        slow, fast = fake_head, head\n",
    "        while fast and fast.next:\n",
    "            slow = slow.next\n",
    "            fast = fast.next.next\n",
    "        \n",
    "        middle = slow.next\n",
    "        slow.next = None\n",
    "        \n",
    "        head2 = middle.next\n",
    "        middle.next = None\n",
    "        \n",
    "        val = middle.val\n",
    "        \n",
    "        head1 = fake_head.next\n",
    "        \n",
    "        return head1, head2, val\n",
    "        "
   ]
  },
  {
   "cell_type": "markdown",
   "metadata": {
    "collapsed": true
   },
   "source": [
    "<font color='blue'>Solution: </font> To Array   \n",
    "\n",
    "可以先把链表val转成一个array，就和前面那道题一模一样了\n",
    "\n",
    "* Time Complexity: O(n)\n",
    "* Space Complexity: O(n)"
   ]
  },
  {
   "cell_type": "markdown",
   "metadata": {},
   "source": [
    "<font color='blue'>Solution: </font> In-Order Traversal  \n",
    "\n",
    "对于构建N节点的binary tree来说理论上算法复杂度最少只能到O(N)，因为生成N个节点本身就需要O(N)。要达到O(N)复杂度的算法，就不能反复遍历来查找中间节点，而只能顺序边访问linked list边构建树。这里的关键是利用构建left subtree的递归，来找寻middle节点。即构建left subtree的时候需要返回两个值：left subtree的root节点，以及整个left subtree在linked list中的下一个节点，即middle节点，也是整个left subtree的parent节点。\n",
    "\n",
    "* Time Complexity: O(n)\n",
    "* Space Complexity: O(1)"
   ]
  },
  {
   "cell_type": "code",
   "execution_count": 1,
   "metadata": {},
   "outputs": [],
   "source": [
    "class Solution(object):\n",
    "    def sortedListToBST(self, head):\n",
    "        \"\"\"\n",
    "        :type head: ListNode\n",
    "        :rtype: TreeNode\n",
    "        \"\"\"\n",
    "        list_len = 0\n",
    "        curr = head\n",
    "        while curr:\n",
    "            list_len += 1\n",
    "            curr = curr.next\n",
    "            \n",
    "        return self.helper([head], 0, list_len - 1)\n",
    "    \n",
    "    def helper(self, curr, start, end):\n",
    "        if start > end:\n",
    "            return None\n",
    "        \n",
    "        mid = start + (end - start) // 2\n",
    "        left_child = self.helper(curr, start, mid - 1)\n",
    "        \n",
    "        root = TreeNode(curr[0].val)\n",
    "        curr[0] = curr[0].next\n",
    "        \n",
    "        right_child = self.helper(curr, mid + 1, end)\n",
    "        \n",
    "        root.left = left_child\n",
    "        root.right = right_child\n",
    "        \n",
    "        return root\n",
    "        "
   ]
  },
  {
   "cell_type": "code",
   "execution_count": null,
   "metadata": {},
   "outputs": [],
   "source": []
  },
  {
   "cell_type": "markdown",
   "metadata": {},
   "source": [
    "#### Follow up: 把sorted双向链表转化为二叉平衡树，写出了 O(n log n) 的算法，followup 问怎么优化到 O(n)，应该是先把双向链表存入数组就可以了。"
   ]
  },
  {
   "cell_type": "code",
   "execution_count": null,
   "metadata": {
    "collapsed": true
   },
   "outputs": [],
   "source": []
  }
 ],
 "metadata": {
  "kernelspec": {
   "display_name": "Python 3",
   "language": "python",
   "name": "python3"
  },
  "language_info": {
   "codemirror_mode": {
    "name": "ipython",
    "version": 3
   },
   "file_extension": ".py",
   "mimetype": "text/x-python",
   "name": "python",
   "nbconvert_exporter": "python",
   "pygments_lexer": "ipython3",
   "version": "3.6.5"
  }
 },
 "nbformat": 4,
 "nbformat_minor": 2
}
