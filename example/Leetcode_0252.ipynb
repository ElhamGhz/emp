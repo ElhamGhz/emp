{
 "cells": [
  {
   "cell_type": "markdown",
   "metadata": {},
   "source": [
    "#### [Leetcode 252 Easy] [Meeting Rooms](https://leetcode.com/problems/meeting-rooms/)\n",
    "\n",
    "Given an array of meeting time intervals consisting of start and end times [[s1,e1],[s2,e2],...] (si < ei), determine if a person could attend all meetings.\n",
    "\n",
    "Example 1:\n",
    "```\n",
    "Input: [[0,30],[5,10],[15,20]]\n",
    "Output: false\n",
    "```\n",
    "\n",
    "Example 2:\n",
    "```\n",
    "Input: [[7,10],[2,4]]\n",
    "Output: true\n",
    "```\n",
    "\n",
    "NOTE: input types have been changed on April 15, 2019. Please reset to default code definition to get new method signature."
   ]
  },
  {
   "cell_type": "markdown",
   "metadata": {},
   "source": [
    "<font color='blue'>Solution: sort </font>\n",
    "\n",
    "* Time Complexity: O(nlogn + n)\n",
    "* Space Complexity: O(logn)"
   ]
  },
  {
   "cell_type": "code",
   "execution_count": 5,
   "metadata": {},
   "outputs": [
    {
     "name": "stdout",
     "output_type": "stream",
     "text": [
      "False\n",
      "True\n"
     ]
    }
   ],
   "source": [
    "class Solution(object):\n",
    "    def canAttendMeetings(self, intervals):\n",
    "        \"\"\"\n",
    "        :type intervals: List[List[int]]\n",
    "        :rtype: bool\n",
    "        \"\"\"\n",
    "        #intervals = [(start, end) for start, end in intervals]\n",
    "        #print(intervals)\n",
    "        intervals.sort()\n",
    "        \n",
    "        prev_end = -1\n",
    "        for start, end in intervals:\n",
    "            if start < prev_end:\n",
    "                return False\n",
    "            prev_end = end\n",
    "            \n",
    "        return True\n",
    "        \n",
    "if __name__ == \"__main__\":\n",
    "    soln = Solution()\n",
    "    \n",
    "    print(soln.canAttendMeetings(intervals=[[0,30],[5,10],[15,20]]))\n",
    "    \n",
    "    print(soln.canAttendMeetings(intervals=[[7,10],[2,4]]))"
   ]
  },
  {
   "cell_type": "code",
   "execution_count": null,
   "metadata": {},
   "outputs": [],
   "source": []
  }
 ],
 "metadata": {
  "kernelspec": {
   "display_name": "Python 3",
   "language": "python",
   "name": "python3"
  },
  "language_info": {
   "codemirror_mode": {
    "name": "ipython",
    "version": 3
   },
   "file_extension": ".py",
   "mimetype": "text/x-python",
   "name": "python",
   "nbconvert_exporter": "python",
   "pygments_lexer": "ipython3",
   "version": "3.6.5"
  }
 },
 "nbformat": 4,
 "nbformat_minor": 2
}
