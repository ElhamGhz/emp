{
 "cells": [
  {
   "cell_type": "markdown",
   "metadata": {},
   "source": [
    "#### [Leetcode 429 Easy] [N-ary Tree Level Order Traversal](https://leetcode.com/problems/n-ary-tree-level-order-traversal/)\n",
    "\n",
    "Given an n-ary tree, return the preorder traversal of its nodes' values.\n",
    "\n",
    "For example, given a 3-ary tree:\n",
    "```\n",
    "                         1\n",
    "                      /  |  \\\n",
    "                    3    2    4\n",
    "                  /  \\\n",
    "                 5    4\n",
    "\n",
    "We should return its level order traversal:\n",
    "\n",
    "[\n",
    "     [1],\n",
    "     [3,2,4],\n",
    "     [5,6]\n",
    "]\n",
    "```\n",
    "\n",
    "Note:\n",
    "* The depth of the tree is at most 1000.\n",
    "* The total number of nodes is at most 5000."
   ]
  },
  {
   "cell_type": "code",
   "execution_count": 1,
   "metadata": {
    "collapsed": true
   },
   "outputs": [],
   "source": [
    "\"\"\"\n",
    "# Definition for a Node.\n",
    "class Node(object):\n",
    "    def __init__(self, val, children):\n",
    "        self.val = val\n",
    "        self.children = children\n",
    "\"\"\"\n",
    "class Solution(object):\n",
    "    def levelOrder(self, root):\n",
    "        \"\"\"\n",
    "        :type root: Node\n",
    "        :rtype: List[List[int]]\n",
    "        \"\"\"\n",
    "        if not root:\n",
    "            return []        \n",
    "        \n",
    "        results = []\n",
    "        \n",
    "        frontier = []\n",
    "        frontier.append(root)\n",
    "        \n",
    "        while frontier:\n",
    "            post = []\n",
    "            curr_result = []\n",
    "            for node in frontier:\n",
    "                curr_result.append(node.val)\n",
    "                for child in node.children:\n",
    "                    post.append(child)\n",
    "            \n",
    "            frontier = post\n",
    "            results.append(curr_result)\n",
    "            \n",
    "        return results"
   ]
  },
  {
   "cell_type": "code",
   "execution_count": null,
   "metadata": {
    "collapsed": true
   },
   "outputs": [],
   "source": []
  }
 ],
 "metadata": {
  "kernelspec": {
   "display_name": "Python 3",
   "language": "python",
   "name": "python3"
  },
  "language_info": {
   "codemirror_mode": {
    "name": "ipython",
    "version": 3
   },
   "file_extension": ".py",
   "mimetype": "text/x-python",
   "name": "python",
   "nbconvert_exporter": "python",
   "pygments_lexer": "ipython3",
   "version": "3.6.3"
  }
 },
 "nbformat": 4,
 "nbformat_minor": 2
}
