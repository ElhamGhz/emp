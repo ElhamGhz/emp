{
 "cells": [
  {
   "cell_type": "markdown",
   "metadata": {},
   "source": [
    "#### [Leetcode 875 Medium] [Koko Eating Bananas](https://leetcode.com/problems/koko-eating-bananas/)\n",
    "\n",
    "Koko loves to eat bananas.  There are N piles of bananas, the i-th pile has piles[i] bananas.  The guards have gone and will come back in H hours.\n",
    "\n",
    "Koko can decide her bananas-per-hour eating speed of K.  Each hour, she chooses some pile of bananas, and eats K bananas from that pile.  If the pile has less than K bananas, she eats all of them instead, and won't eat any more bananas during this hour.\n",
    "\n",
    "Koko likes to eat slowly, but still wants to finish eating all the bananas before the guards come back.\n",
    "\n",
    "Return the minimum integer K such that she can eat all the bananas within H hours.\n",
    "\n",
    " \n",
    "\n",
    "Example 1:\n",
    "\n",
    "Input: piles = [3,6,7,11], H = 8\n",
    "Output: 4\n",
    "Example 2:\n",
    "\n",
    "Input: piles = [30,11,23,4,20], H = 5\n",
    "Output: 30\n",
    "Example 3:\n",
    "\n",
    "Input: piles = [30,11,23,4,20], H = 6\n",
    "Output: 23\n",
    " \n",
    "\n",
    "Note:\n",
    "\n",
    "1 <= piles.length <= 10^4\n",
    "piles.length <= H <= 10^9\n",
    "1 <= piles[i] <= 10^9"
   ]
  },
  {
   "cell_type": "markdown",
   "metadata": {},
   "source": [
    "<font color='blue'>Solution: </font> Binary Search:  \n",
    "\n",
    "coco去吃香蕉，时间最多只有H小时，但这个吃货会享受，她想在用最慢的速度去吃。吃的速度是K，代表一个小时吃多少香蕉。这吃货懒到什么地步？当一个小时以内她就把这堆里边的香蕉吃完了，那她就停下来歇着，等待下一个小时继续吃。求她吃东西的最慢的速度。\n",
    "\n",
    "二叉搜索的变种题目。因为有个最慢的速度而且是整数。\n",
    "\n",
    "这个速度的范围一定在1和max(piles)之间，如果大于max(piles)肯定不是最慢速度。然后我们使用二分，计算在某个速度之下吃完的时间是否满足时间H。如果时间比H大，说明她吃的太快了，应该降低速度；反之应该加快速度。\n",
    "\n",
    "吃每堆香蕉的时间是math.ceil(pile / speed)。\n",
    "\n",
    "时间复杂度是O(logn)，空间复杂度是O(1)。"
   ]
  },
  {
   "cell_type": "code",
   "execution_count": 9,
   "metadata": {
    "collapsed": true
   },
   "outputs": [],
   "source": [
    "import math\n",
    "\n",
    "class Solution(object):\n",
    "    def minEatingSpeed(self, piles, H):\n",
    "        \"\"\"\n",
    "        :type piles: List[int]\n",
    "        :type H: int\n",
    "        :rtype: int\n",
    "        find the first speed that can finish all the food within time H\n",
    "        \"\"\"\n",
    "        left, right = 1, max(piles)  # min speed, maximum speed\n",
    "        while left < right - 1:\n",
    "            mid = left + (right - left) // 2  # mid speed\n",
    "            mid_hour = self.hour_cost(piles, mid)\n",
    "            if mid_hour == H:  # maybe still too fast\n",
    "                right = mid\n",
    "            elif mid_hour < H:  # too fast\n",
    "                right = mid\n",
    "            else:               # too slow\n",
    "                left = mid\n",
    "       \n",
    "        if self.hour_cost(piles, left) <= H:\n",
    "            return left\n",
    "        else:\n",
    "            return right\n",
    "        \n",
    "    def hour_cost(self, piles, speed):\n",
    "        hour = 0\n",
    "        for pile in piles:\n",
    "            hour += math.ceil(pile / speed)\n",
    "            \n",
    "        return hour"
   ]
  },
  {
   "cell_type": "code",
   "execution_count": 10,
   "metadata": {},
   "outputs": [
    {
     "name": "stdout",
     "output_type": "stream",
     "text": [
      "4\n"
     ]
    }
   ],
   "source": [
    "soln = Solution()\n",
    "print(soln.minEatingSpeed(piles=[3,6,7,11], H=8))"
   ]
  },
  {
   "cell_type": "markdown",
   "metadata": {},
   "source": [
    "#### Follow up: \n",
    "有n堆货物，m辆卡车，m >= n， 求能把货物运走的卡车最小载重量为多少。（一堆货物可以分几次拉完）用heap做的.\n",
    "\n",
    "就是现在有n堆货物，每一堆货物有相应的重量，也就是给你的输入是个n维vector，里面存的weights。\n",
    "然后有m辆卡车要把这些货物全部拉走，每辆卡车的容量是一样的，然后m >= n\n",
    "\n",
    "这个题的输入就是int m 和 vector<int>weight\n",
    "\n",
    "然后让你求卡车的最小载重量。-baidu 1point3acres\n",
    "\n",
    "思路就是，如果m = n时，那最小载重量就是货物里面最重的那个，因为你每辆卡车恰好拉一份\n",
    "如果m比n大1的话，就把最重的一堆货物给分开，然后此时要看怎么分\n",
    "然后m继续增大，是什么样的情况。。。\n",
    "-baidu 1point3acres\n",
    "我当时是只写了这些，然后想不通m每次增大的时候应该怎么去分这些货物"
   ]
  },
  {
   "cell_type": "code",
   "execution_count": 14,
   "metadata": {
    "collapsed": true
   },
   "outputs": [],
   "source": [
    "import math\n",
    "\n",
    "class Solution(object):\n",
    "    def minEatingSpeed(self, piles, m):\n",
    "        \"\"\"\n",
    "        :type piles: List[int]\n",
    "        :type H: int\n",
    "        :rtype: int\n",
    "        find the first speed that can finish all the food within time H\n",
    "        \"\"\"\n",
    "        left, right = 1, max(piles)  # min capacity,  max capacity\n",
    "        while left < right - 1:\n",
    "            mid = left + (right - left) // 2  # mid capicity\n",
    "            mid_truck = self.get_truck_num(piles, mid)\n",
    "            if mid_truck == m:  # maybe still too fast\n",
    "                right = mid\n",
    "            elif mid_truck < m:  # too fast\n",
    "                right = mid\n",
    "            else:               # too slow\n",
    "                left = mid\n",
    "       \n",
    "        if self.get_truck_num(piles, left) <= m:\n",
    "            return left\n",
    "        else:\n",
    "            return right\n",
    "        \n",
    "    def get_truck_num(self, piles, capacity):\n",
    "        num = 0\n",
    "        for pile in piles:\n",
    "            num += math.ceil(pile / capacity)\n",
    "            \n",
    "        return num"
   ]
  },
  {
   "cell_type": "code",
   "execution_count": 15,
   "metadata": {},
   "outputs": [
    {
     "name": "stdout",
     "output_type": "stream",
     "text": [
      "11\n",
      "6\n",
      "4\n"
     ]
    }
   ],
   "source": [
    "soln = Solution()\n",
    "print(soln.minEatingSpeed(piles=[3,6,7,11], m=4))\n",
    "print(soln.minEatingSpeed(piles=[3,6,7,11], m=6))\n",
    "print(soln.minEatingSpeed(piles=[3,6,7,11], m=8))"
   ]
  },
  {
   "cell_type": "code",
   "execution_count": null,
   "metadata": {
    "collapsed": true
   },
   "outputs": [],
   "source": []
  }
 ],
 "metadata": {
  "kernelspec": {
   "display_name": "Python 3",
   "language": "python",
   "name": "python3"
  },
  "language_info": {
   "codemirror_mode": {
    "name": "ipython",
    "version": 3
   },
   "file_extension": ".py",
   "mimetype": "text/x-python",
   "name": "python",
   "nbconvert_exporter": "python",
   "pygments_lexer": "ipython3",
   "version": "3.6.3"
  }
 },
 "nbformat": 4,
 "nbformat_minor": 2
}
