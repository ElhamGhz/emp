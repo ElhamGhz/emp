{
 "cells": [
  {
   "cell_type": "markdown",
   "metadata": {},
   "source": [
    "#### [Leetcode 0003 Medium] [Longest Substring Without Repeating Characters](https://leetcode.com/problems/longest-substring-without-repeating-characters/)\n",
    "\n",
    "Given a string, find the length of the longest substring without repeating characters.\n",
    "\n",
    "Example 1:\n",
    "```\n",
    "Input: \"abcabcbb\"\n",
    "Output: 3 \n",
    "Explanation: The answer is \"abc\", with the length of 3. \n",
    "```\n",
    "\n",
    "Example 2:\n",
    "```\n",
    "Input: \"bbbbb\"\n",
    "Output: 1\n",
    "Explanation: The answer is \"b\", with the length of 1.\n",
    "```\n",
    "\n",
    "Example 3:\n",
    "```\n",
    "Input: \"pwwkew\"\n",
    "Output: 3\n",
    "Explanation: The answer is \"wke\", with the length of 3. \n",
    "             Note that the answer must be a substring, \"pwke\" is a subsequence and not a substring.\n",
    "```"
   ]
  },
  {
   "cell_type": "code",
   "execution_count": 4,
   "metadata": {},
   "outputs": [
    {
     "name": "stdout",
     "output_type": "stream",
     "text": [
      "True\n",
      "True\n",
      "True\n",
      "True\n",
      "True\n"
     ]
    }
   ],
   "source": [
    "class Solution:\n",
    "    def lengthOfLongestSubstring(self, s):\n",
    "        \"\"\"\n",
    "        Sliding Window + Hash Table\n",
    "        1. use the hash table to store char:index\n",
    "        2. linear scan the string s, if we find the same char, update the max_len and the hash table\n",
    "        Time Complexity: O(n)\n",
    "        Space Complexity: O(n)\n",
    "        \"\"\"\n",
    "        # Edge case\n",
    "        if not s:\n",
    "            return 0\n",
    "        \n",
    "        # key: char, value: index of char in s\n",
    "        maps = {}\n",
    "        start = 0\n",
    "        max_len = 0\n",
    "        \n",
    "        for i, char in enumerate(s):\n",
    "            # if we find the same char\n",
    "            if char in maps and maps[char] >= start:\n",
    "                # update max_len\n",
    "                curr_len = i - start\n",
    "                if curr_len > max_len:\n",
    "                    max_len = curr_len\n",
    "                # update maps and start index\n",
    "                start = maps[char] + 1\n",
    "            # if not find the same char\n",
    "            maps[char] = i\n",
    "        \n",
    "        # post processing\n",
    "        # the last few elements might be different\n",
    "        curr_len = len(s) - start\n",
    "        if curr_len > max_len:\n",
    "            max_len = curr_len\n",
    "        \n",
    "        return max_len\n",
    "        \n",
    "if __name__ == \"__main__\":\n",
    "    soln = Solution()\n",
    "    \n",
    "    print(soln.lengthOfLongestSubstring(s=\"\") == 0)\n",
    "    print(soln.lengthOfLongestSubstring(s=\" \") == 1)\n",
    "    print(soln.lengthOfLongestSubstring(s=\"abcabcbb\") == 3)\n",
    "    print(soln.lengthOfLongestSubstring(s=\"bbbbb\") == 1)\n",
    "    print(soln.lengthOfLongestSubstring(s=\"pwwkew\") == 3)"
   ]
  },
  {
   "cell_type": "code",
   "execution_count": null,
   "metadata": {},
   "outputs": [],
   "source": []
  }
 ],
 "metadata": {
  "kernelspec": {
   "display_name": "Python 3",
   "language": "python",
   "name": "python3"
  },
  "language_info": {
   "codemirror_mode": {
    "name": "ipython",
    "version": 3
   },
   "file_extension": ".py",
   "mimetype": "text/x-python",
   "name": "python",
   "nbconvert_exporter": "python",
   "pygments_lexer": "ipython3",
   "version": "3.6.5"
  }
 },
 "nbformat": 4,
 "nbformat_minor": 2
}
