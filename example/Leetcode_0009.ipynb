{
 "cells": [
  {
   "cell_type": "markdown",
   "metadata": {},
   "source": [
    "#### [Leetcode 0009 Easy] [Palindrome Number](https://leetcode.com/problems/palindrome-number/) (Math)\n",
    "\n",
    "Determine whether an integer is a palindrome. An integer is a palindrome when it reads the same backward as forward.\n",
    "\n",
    "Example 1:\n",
    "```\n",
    "Input: 121\n",
    "Output: true\n",
    "```\n",
    "\n",
    "Example 2:\n",
    "```\n",
    "Input: -121\n",
    "Output: false\n",
    "Explanation: From left to right, it reads -121. From right to left, it becomes 121-. Therefore it is not a palindrome.\n",
    "```\n",
    "\n",
    "Example 3:\n",
    "```\n",
    "Input: 10\n",
    "Output: false\n",
    "Explanation: Reads 01 from right to left. Therefore it is not a palindrome.\n",
    "```\n",
    "\n",
    "Follow up:\n",
    "* Coud you solve it without converting the integer to a string?"
   ]
  },
  {
   "cell_type": "markdown",
   "metadata": {},
   "source": [
    "*Solution*: Digit by Digit\n",
    "\n",
    "Every time we compare the first and last digits of x, if they are not the same, return false. Otherwise, remove first and last digit and continue this process.\n",
    "\n",
    "Time complexity: O(log10(x))\n",
    "\n",
    "Space complexity: O(1)"
   ]
  },
  {
   "cell_type": "code",
   "execution_count": 2,
   "metadata": {},
   "outputs": [
    {
     "name": "stdout",
     "output_type": "stream",
     "text": [
      "True\n",
      "True\n",
      "True\n"
     ]
    }
   ],
   "source": [
    "class Solution:\n",
    "    def isPalindrome(self, x: int) -> bool:\n",
    "        # Edge case\n",
    "        if x == 0:\n",
    "            return True\n",
    "        if x < 0:\n",
    "            return False\n",
    "        \n",
    "        # get div = log10(x)\n",
    "        div = 1\n",
    "        while x // div >= 10:\n",
    "            div *= 10\n",
    "            \n",
    "        while x > 0:\n",
    "            left = x // div\n",
    "            right = x % 10\n",
    "            if left != right:\n",
    "                return False\n",
    "            x = (x % div) // 10\n",
    "            div = div // 100\n",
    "            \n",
    "        return True\n",
    "            \n",
    "if __name__ == \"__main__\":\n",
    "    soln = Solution()\n",
    "    \n",
    "    print(soln.isPalindrome(x=121) == True)\n",
    "    print(soln.isPalindrome(x=-121) == False)\n",
    "    print(soln.isPalindrome(x=10) == False)"
   ]
  },
  {
   "cell_type": "code",
   "execution_count": null,
   "metadata": {},
   "outputs": [],
   "source": []
  }
 ],
 "metadata": {
  "kernelspec": {
   "display_name": "Python 3",
   "language": "python",
   "name": "python3"
  },
  "language_info": {
   "codemirror_mode": {
    "name": "ipython",
    "version": 3
   },
   "file_extension": ".py",
   "mimetype": "text/x-python",
   "name": "python",
   "nbconvert_exporter": "python",
   "pygments_lexer": "ipython3",
   "version": "3.6.5"
  }
 },
 "nbformat": 4,
 "nbformat_minor": 2
}
