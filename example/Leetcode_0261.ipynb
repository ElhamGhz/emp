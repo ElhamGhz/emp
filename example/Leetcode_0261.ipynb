{
 "cells": [
  {
   "cell_type": "markdown",
   "metadata": {},
   "source": [
    "#### [Leetcode 261 Medium] [Graph Valid Tree](https://leetcode.com/problems/graph-valid-tree/)\n",
    "\n",
    "Given n nodes labeled from 0 to n-1 and a list of undirected edges (each edge is a pair of nodes), write a function to check whether these edges make up a valid tree.\n",
    "\n",
    "Example 1:\n",
    "```\n",
    "Input: n = 5, and edges = [[0,1], [0,2], [0,3], [1,4]]\n",
    "Output: true\n",
    "```\n",
    "\n",
    "Example 2:\n",
    "```\n",
    "Input: n = 5, and edges = [[0,1], [1,2], [2,3], [1,3], [1,4]]\n",
    "Output: false\n",
    "```\n",
    "\n",
    "Note: you can assume that no duplicate edges will appear in edges. Since all edges are undirected, [0,1] is the same as [1,0] and thus will not appear together in edges."
   ]
  },
  {
   "cell_type": "markdown",
   "metadata": {},
   "source": [
    "Hint:  \n",
    "1. Given n = 5 and edges = [[0, 1], [1, 2], [3, 4]], what should your return? Is this case a valid tree?\n",
    "2. According to the definition of tree on Wikipedia: “a tree is an undirected graph in which any two vertices are connected by exactly one path. In other words, any connected graph without simple cycles is a tree.”"
   ]
  },
  {
   "cell_type": "markdown",
   "metadata": {},
   "source": [
    "(https://www.geeksforgeeks.org/check-given-graph-tree/)"
   ]
  },
  {
   "cell_type": "code",
   "execution_count": 12,
   "metadata": {
    "collapsed": true
   },
   "outputs": [],
   "source": [
    "class Solution(object):\n",
    "    def validTree(self, n, edges):\n",
    "        \"\"\"\n",
    "        :type n: int\n",
    "        :type edges: List[List[int]]\n",
    "        :rtype: bool\n",
    "        \"\"\"\n",
    "        # convert to adjacency matrix\n",
    "        graph = {}\n",
    "        for start, end in edges:\n",
    "            if start not in graph:\n",
    "                graph[start] = []\n",
    "            graph[start].append(end)\n",
    "            \n",
    "            if end not in graph:\n",
    "                graph[end] = []\n",
    "            graph[end].append(start)\n",
    "            \n",
    "        # use dfs to check cycle\n",
    "        visited = set()\n",
    "        if self.has_cycle(graph, visited, -1, 0):\n",
    "            return False\n",
    "        # check the graph is fully connected\n",
    "        if len(visited) != n:\n",
    "            return False\n",
    "        \n",
    "        return True\n",
    "    \n",
    "    def has_cycle(self, graph, visited, parent, u):\n",
    "        visited.add(u)\n",
    "        \n",
    "        if u in graph:\n",
    "            for v in graph[u]:\n",
    "                if v != parent:\n",
    "                    if v in visited:\n",
    "                        return True\n",
    "                    if self.has_cycle(graph, visited, u, v):\n",
    "                        return True\n",
    "                \n",
    "        return False"
   ]
  },
  {
   "cell_type": "code",
   "execution_count": 13,
   "metadata": {},
   "outputs": [
    {
     "name": "stdout",
     "output_type": "stream",
     "text": [
      "True\n",
      "False\n"
     ]
    }
   ],
   "source": [
    "soln = Solution()\n",
    "print(soln.validTree(n=5, edges=[[0, 1], [0, 2], [0, 3], [1, 4]]))\n",
    "print(soln.validTree(n=5, edges=[[0, 1], [1, 2], [2, 3], [1, 3], [1, 4]]))"
   ]
  },
  {
   "cell_type": "markdown",
   "metadata": {},
   "source": [
    "#### Follow up:\n",
    "给无向图判断是否能成二叉树，题目比较简单，我是先判断是否成环，再判断neighbor的个数是否<=3 来写的。\n",
    "\n",
    "图的话 他是给了node的类，然后给的是其中的任意的一个node，而且不给node总数这样子\n",
    "\n",
    "最后加上二叉树的判断就可以应该"
   ]
  },
  {
   "cell_type": "code",
   "execution_count": null,
   "metadata": {
    "collapsed": true
   },
   "outputs": [],
   "source": []
  },
  {
   "cell_type": "code",
   "execution_count": null,
   "metadata": {
    "collapsed": true
   },
   "outputs": [],
   "source": []
  }
 ],
 "metadata": {
  "kernelspec": {
   "display_name": "Python 3",
   "language": "python",
   "name": "python3"
  },
  "language_info": {
   "codemirror_mode": {
    "name": "ipython",
    "version": 3
   },
   "file_extension": ".py",
   "mimetype": "text/x-python",
   "name": "python",
   "nbconvert_exporter": "python",
   "pygments_lexer": "ipython3",
   "version": "3.6.3"
  }
 },
 "nbformat": 4,
 "nbformat_minor": 2
}
