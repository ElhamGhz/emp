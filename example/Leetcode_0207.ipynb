{
 "cells": [
  {
   "cell_type": "markdown",
   "metadata": {},
   "source": [
    "#### [Leetcode 207 Medium] [Course Schedule](https://leetcode.com/problems/course-schedule/)\n",
    "\n",
    "There are a total of n courses you have to take, labeled from 0 to n-1.\n",
    "\n",
    "Some courses may have prerequisites, for example to take course 0 you have to first take course 1, which is expressed as a pair: [0,1]\n",
    "\n",
    "Given the total number of courses and a list of prerequisite pairs, is it possible for you to finish all courses?\n",
    "\n",
    "Example 1:\n",
    "```\n",
    "Input: 2, [[1,0]] \n",
    "Output: true\n",
    "Explanation: There are a total of 2 courses to take. \n",
    "             To take course 1 you should have finished course 0. So it is possible.\n",
    "```\n",
    "\n",
    "Example 2:\n",
    "```\n",
    "Input: 2, [[1,0],[0,1]]\n",
    "Output: false\n",
    "Explanation: There are a total of 2 courses to take. \n",
    "             To take course 1 you should have finished course 0, and to take course 0 you should\n",
    "             also have finished course 1. So it is impossible.\n",
    "```\n",
    "\n",
    "Note:\n",
    "* The input prerequisites is a graph represented by a list of edges, not adjacency matrices. Read more about how a graph is represented.\n",
    "* You may assume that there are no duplicate edges in the input prerequisites."
   ]
  },
  {
   "cell_type": "markdown",
   "metadata": {},
   "source": [
    "Hint:\n",
    "1. This problem is equivalent to finding if a cycle exists in a directed graph. If a cycle exists, no topological ordering exists and therefore it will be impossible to take all courses.\n",
    "2. [Topological Sort via DFS](https://class.coursera.org/algo-003/lecture/52) - A great video tutorial (21 minutes) on Coursera explaining the basic concepts of Topological Sort.\n",
    "3. Topological sort could also be done via [BFS](http://en.wikipedia.org/wiki/Topological_sorting#Algorithms)."
   ]
  },
  {
   "cell_type": "code",
   "execution_count": 36,
   "metadata": {
    "collapsed": true
   },
   "outputs": [],
   "source": [
    "from collections import defaultdict\n",
    "\n",
    "class Solution(object):\n",
    "    def canFinish(self, numCourses, prerequisites):\n",
    "        \"\"\"\n",
    "        :type numCourses: int\n",
    "        :type prerequisites: List[List[int]]\n",
    "        :rtype: bool\n",
    "        \"\"\"\n",
    "        # convert the list to an adjacent matrix\n",
    "        graph = defaultdict(list)\n",
    "        for end, start in prerequisites:\n",
    "            graph[start].append(end)\n",
    "                \n",
    "        courses = []\n",
    "        visited = [-1 for _ in range(numCourses)]\n",
    "        \n",
    "        # search for the staring course\n",
    "        # for u in graph:  # we cannot use this way to iterate course, \n",
    "        #   since dictionary might chang size during iteration\n",
    "        for u in range(0, numCourses):\n",
    "            if visited[u] == -1 and self.dfs(u, visited, graph, courses) is False:\n",
    "                return False\n",
    "                \n",
    "        return True\n",
    "    \n",
    "    def dfs(self, u, visited, graph, courses):\n",
    "        \"\"\"\n",
    "        1 ->  2\n",
    "        /\\    |\n",
    "        |     \\/\n",
    "        - - - (3)\n",
    "        u: 1, visited = {1: 0, 2: -1, 3: -1}, v: 2 (-1) --> dfs(2)\n",
    "        u: 2, visited = {1: 0, 2: 0 , 3: -1}, v: 3 (-1) --> dfs(3)\n",
    "        u: 3, visited = {1: 0, 2: 0 , 3: 0 }, v: 0 (0) visiting --> return False\n",
    "        \n",
    "        1 ->  2\n",
    "        |     |\n",
    "        \\/    \\/\n",
    "        - - - (3)\n",
    "        u: 1, visited = {1: 0, 2: -1, 3: -1}, v: 2 (-1) --> dfs(2)\n",
    "        u: 2, visited = {1: 0, 2: 0 , 3: -1}, v: 3 (-1) --> dfs(3)\n",
    "        \n",
    "        u: 3, visited = {1: 0, 2: 0 , 3: 0 }, v: None, vistied[3] = 1, courses=[3], return        \n",
    "        u: 2, visited = {1: 0, 2: 0 , 3: 1}, v: None, visited[2] = 2, courses=[3, 2], return \n",
    "        u: 1, visited = {1: 0, 2: 1 , 3: 1}, v: None, visited[1] = 1, courses=[3, 2, 1], return       \n",
    "        \"\"\"       \n",
    "        visited[u] = 0\n",
    "        \n",
    "        print(u, graph[u])\n",
    "        for v in graph[u]:\n",
    "            if visited[v] == -1: # not visited\n",
    "                if self.dfs(v, visited, graph, courses) is False:\n",
    "                    return False\n",
    "            elif visited[v] == 0:\n",
    "                return False\n",
    "        \n",
    "        visited[u] = 1\n",
    "        courses.append(u)\n",
    "        \n",
    "        return True"
   ]
  },
  {
   "cell_type": "code",
   "execution_count": 37,
   "metadata": {},
   "outputs": [
    {
     "name": "stdout",
     "output_type": "stream",
     "text": [
      "0 [1, 2]\n",
      "1 [3]\n",
      "3 []\n",
      "2 [3]\n",
      "True\n"
     ]
    }
   ],
   "source": [
    "soln = Solution()\n",
    "print(soln.canFinish(numCourses=4, prerequisites=[[1,0],[2,0],[3,1],[3,2]]))"
   ]
  },
  {
   "cell_type": "code",
   "execution_count": 27,
   "metadata": {},
   "outputs": [
    {
     "name": "stdout",
     "output_type": "stream",
     "text": [
      "{0: [1, 2], 1: [3], 2: [3]}\n",
      "None\n",
      "defaultdict(<class 'list'>, {0: [1, 2], 1: [3], 2: [3]})\n",
      "[]\n"
     ]
    }
   ],
   "source": [
    "prerequisites=[[1,0],[2,0],[3,1],[3,2]]\n",
    "\n",
    "# convert the list to an adjacent matrix with dictionary\n",
    "graph = {}\n",
    "for end, start in prerequisites:\n",
    "    if start not in graph:\n",
    "        graph[start] = []\n",
    "    graph[start].append(end)\n",
    "    \n",
    "print(graph)\n",
    "# if 3 is not in graph, we cannot access to graph[3] since \n",
    "#   it will get KeyError\n",
    "print(graph[3]) if 3 in graph else print(None)\n",
    "\n",
    "from collections import defaultdict\n",
    "# convert the list to an adjacent matrix with dictionary\n",
    "graph = defaultdict(list)\n",
    "for end, start in prerequisites:\n",
    "    graph[start].append(end)\n",
    "    \n",
    "print(graph)\n",
    "# we can still access graph[3] even 3 is not in, and it \n",
    "#   will return a defaul empty list\n",
    "print(graph[3])"
   ]
  },
  {
   "cell_type": "code",
   "execution_count": null,
   "metadata": {
    "collapsed": true
   },
   "outputs": [],
   "source": []
  }
 ],
 "metadata": {
  "kernelspec": {
   "display_name": "Python 3",
   "language": "python",
   "name": "python3"
  },
  "language_info": {
   "codemirror_mode": {
    "name": "ipython",
    "version": 3
   },
   "file_extension": ".py",
   "mimetype": "text/x-python",
   "name": "python",
   "nbconvert_exporter": "python",
   "pygments_lexer": "ipython3",
   "version": "3.6.3"
  }
 },
 "nbformat": 4,
 "nbformat_minor": 2
}
