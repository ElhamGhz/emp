{
 "cells": [
  {
   "cell_type": "markdown",
   "metadata": {},
   "source": [
    "#### [Leetcode 935 Medium] [Knight Dialer](https://leetcode.com/problems/knight-dialer/description/)\n",
    "\n",
    "A chess knight can move as indicated in the chess diagram below:\n",
    "\n",
    "<img src=\"source/Leetcode_935_knight.png\">\n",
    "<img src=\"source/Leetcode_935_iphone.png\">\n",
    "\n",
    "This time, we place our chess knight on any numbered key of a phone pad (indicated above), and the knight makes N-1 hops.  Each hop must be from one key to another numbered key.\n",
    "\n",
    "Each time it lands on a key (including the initial placement of the knight), it presses the number of that key, pressing N digits total.\n",
    "\n",
    "How many distinct numbers can you dial in this manner?\n",
    "\n",
    "Since the answer may be large, output the answer modulo 10^9 + 7.\n",
    "\n",
    " \n",
    "\n",
    "Example 1:\n",
    "```\n",
    "Input: 1\n",
    "Output: 10\n",
    "```\n",
    "\n",
    "Example 2:\n",
    "```\n",
    "Input: 2\n",
    "Output: 20\n",
    "```\n",
    "\n",
    "Example 3:\n",
    "```\n",
    "Input: 3\n",
    "Output: 46\n",
    "```"
   ]
  },
  {
   "cell_type": "code",
   "execution_count": 13,
   "metadata": {},
   "outputs": [
    {
     "name": "stdout",
     "output_type": "stream",
     "text": [
      "10\n",
      "20\n",
      "46\n"
     ]
    }
   ],
   "source": [
    "class Solution(object):\n",
    "    def knightDialer(self, N):\n",
    "        \"\"\"\n",
    "        :type N: int\n",
    "        :rtype: int\n",
    "        \"\"\"\n",
    "        kmod = 10 ** 9 + 7\n",
    "        prior_case = [1 for i in range(10)]\n",
    "        \n",
    "        for i in range(1, N):\n",
    "            curr_case = [0 for i in range(10)]\n",
    "            \n",
    "            for position in range(0, 10):\n",
    "                for neighbor in self.neighbors(position):\n",
    "                    curr_case[position] = (curr_case[position] + prior_case[neighbor]) % kmod \n",
    "            prior_case = curr_case\n",
    "        \n",
    "        return sum(prior_case) % kmod\n",
    "    \n",
    "    def neighbors(self, position):\n",
    "        NEIGHBORS_MAP = {\n",
    "            1: (6, 8),\n",
    "            2: (7, 9),\n",
    "            3: (4, 8),\n",
    "            4: (3, 9, 0),\n",
    "            5: tuple(),  # 5 has no neighbors\n",
    "            6: (1, 7, 0),\n",
    "            7: (2, 6),\n",
    "            8: (1, 3),\n",
    "            9: (2, 4),\n",
    "            0: (4, 6),\n",
    "        }\n",
    "        return NEIGHBORS_MAP[position]\n",
    "    \n",
    "    \n",
    "if __name__ == '__main__':\n",
    "    soln = Solution()\n",
    "    \n",
    "    print(soln.knightDialer(N=1)) \n",
    "    print(soln.knightDialer(N=2)) \n",
    "    print(soln.knightDialer(N=3)) "
   ]
  },
  {
   "cell_type": "code",
   "execution_count": null,
   "metadata": {
    "collapsed": true
   },
   "outputs": [],
   "source": []
  },
  {
   "cell_type": "markdown",
   "metadata": {},
   "source": [
    "#### Follow up: 输入变了一下, 相当于是给定一个start position."
   ]
  }
 ],
 "metadata": {
  "kernelspec": {
   "display_name": "Python 3",
   "language": "python",
   "name": "python3"
  },
  "language_info": {
   "codemirror_mode": {
    "name": "ipython",
    "version": 3
   },
   "file_extension": ".py",
   "mimetype": "text/x-python",
   "name": "python",
   "nbconvert_exporter": "python",
   "pygments_lexer": "ipython3",
   "version": "3.6.3"
  }
 },
 "nbformat": 4,
 "nbformat_minor": 2
}
