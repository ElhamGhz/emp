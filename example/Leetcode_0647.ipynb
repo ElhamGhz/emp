{
 "cells": [
  {
   "cell_type": "markdown",
   "metadata": {},
   "source": [
    "#### [Leetcode 647 Medium] [Palindromic Substrings](https://leetcode.com/problems/palindromic-substrings/)\n",
    "\n",
    "Given a string, your task is to count how many palindromic substrings in this string.\n",
    "\n",
    "The substrings with different start indexes or end indexes are counted as different substrings even they consist of same characters.\n",
    "\n",
    "Example 1:\n",
    "```\n",
    "Input: \"abc\"\n",
    "Output: 3\n",
    "Explanation: Three palindromic strings: \"a\", \"b\", \"c\".\n",
    "```\n",
    "\n",
    "Example 2:\n",
    "```\n",
    "Input: \"aaa\"\n",
    "Output: 6\n",
    "Explanation: Six palindromic strings: \"a\", \"a\", \"a\", \"aa\", \"aa\", \"aaa\".\n",
    "``` \n",
    "\n",
    "Note:\n",
    "* The input string length won't exceed 1000."
   ]
  },
  {
   "cell_type": "markdown",
   "metadata": {},
   "source": [
    "Hints:\n",
    "1. How can we reuse a previously computed palindrome to compute a larger palindrome?\n",
    "2. If “aba” is a palindrome, is “xabax” and palindrome? Similarly is “xabay” a palindrome?\n",
    "3. Complexity based hint: If we use brute-force and check whether for every start and end position a substring is a palindrome we have O(n^2) start - end pairs and O(n) palindromic checks. Can we reduce the time for palindromic checks to O(1) by reusing some previous computation?"
   ]
  },
  {
   "cell_type": "markdown",
   "metadata": {},
   "source": [
    "<font color='blue'>Solution: </font>\n",
    "\n",
    "Intuition\n",
    "\n",
    "Let N be the length of the string. The middle of the palindrome could be in one of 2N - 1 positions: either at letter or between two letters.\n",
    "\n",
    "For each center, let's count all the palindromes that have this center. Notice that if [a, b] is a palindromic interval (meaning S[a], S[a+1], ..., S[b] is a palindrome), then [a+1, b-1] is one too.\n",
    "\n",
    "Algorithm\n",
    "\n",
    "For each possible palindrome center, let's expand our candidate palindrome on the interval [left, right] as long as we can. The condition for expanding is left >= 0 and right < N and S[left] == S[right]. That means we want to count a new palindrome S[left], S[left+1], ..., S[right].\n",
    "\n",
    "* Time Complexity: O(N^2) where N is the length of S. Each expansion might do O(N) work.\n",
    "* Space Complexity: O(1)."
   ]
  },
  {
   "cell_type": "code",
   "execution_count": 10,
   "metadata": {},
   "outputs": [],
   "source": [
    "class Solution(object):\n",
    "    def countSubstrings(self, s):\n",
    "        \"\"\"\n",
    "        :type s: str\n",
    "        :rtype: int\n",
    "        \"\"\"\n",
    "        N = len(s)\n",
    "        ans = 0\n",
    "        for center in range(2*N - 1):\n",
    "            left = center // 2\n",
    "            right = left + center % 2\n",
    "            print(left, right, s[left], s[right])\n",
    "            while left >= 0 and right < N and s[left] == s[right]:\n",
    "                ans += 1\n",
    "                left -= 1\n",
    "                right += 1\n",
    "        return ans"
   ]
  },
  {
   "cell_type": "code",
   "execution_count": 11,
   "metadata": {},
   "outputs": [
    {
     "name": "stdout",
     "output_type": "stream",
     "text": [
      "0 0 a a\n",
      "0 1 a b\n",
      "1 1 b b\n",
      "1 2 b c\n",
      "2 2 c c\n",
      "3\n",
      "0 0 a a\n",
      "0 1 a a\n",
      "1 1 a a\n",
      "1 2 a a\n",
      "2 2 a a\n",
      "6\n"
     ]
    }
   ],
   "source": [
    "soln = Solution()\n",
    "print(soln.countSubstrings(s='abc'))\n",
    "print(soln.countSubstrings(s='aaa'))"
   ]
  },
  {
   "cell_type": "markdown",
   "metadata": {},
   "source": [
    "其实这道题也可以用递归来做，而且思路非常的简单粗暴。就是以字符串中的每一个字符都当作回文串中间的位置，然后向两边扩散，每当成功匹配两个左右两个字符，结果res自增1，然后再比较下一对。注意回文字符串有奇数和偶数两种形式，如果是奇数长度，那么i位置就是中间那个字符的位置，所以我们左右两遍都从i开始遍历；如果是偶数长度的，那么i是最中间两个字符的左边那个，右边那个就是i+1，这样就能cover所有的情况啦，而且都是不同的回文子字符串"
   ]
  },
  {
   "cell_type": "code",
   "execution_count": 15,
   "metadata": {},
   "outputs": [],
   "source": [
    "class Solution(object):\n",
    "    def countSubstrings(self, s):\n",
    "        \"\"\"\n",
    "        :type s: str\n",
    "        :rtype: int\n",
    "        \"\"\"\n",
    "        if not s:\n",
    "            return 0\n",
    "        \n",
    "        result = [0]\n",
    "        \n",
    "        for index in range(len(s)):\n",
    "            self.helper(s, index, index, result)\n",
    "            self.helper(s, index, index + 1, result)\n",
    "            \n",
    "        return result[0]\n",
    "    \n",
    "    def helper(self, s, left, right, result):\n",
    "        while left >= 0 and right < len(s) and s[left] == s[right]:\n",
    "            left -= 1\n",
    "            right += 1\n",
    "            result[0] += 1"
   ]
  },
  {
   "cell_type": "code",
   "execution_count": 16,
   "metadata": {},
   "outputs": [
    {
     "name": "stdout",
     "output_type": "stream",
     "text": [
      "3\n",
      "6\n"
     ]
    }
   ],
   "source": [
    "soln = Solution()\n",
    "print(soln.countSubstrings(s='abc'))\n",
    "print(soln.countSubstrings(s='aaa'))"
   ]
  },
  {
   "cell_type": "code",
   "execution_count": null,
   "metadata": {},
   "outputs": [],
   "source": []
  }
 ],
 "metadata": {
  "kernelspec": {
   "display_name": "Python 3",
   "language": "python",
   "name": "python3"
  },
  "language_info": {
   "codemirror_mode": {
    "name": "ipython",
    "version": 3
   },
   "file_extension": ".py",
   "mimetype": "text/x-python",
   "name": "python",
   "nbconvert_exporter": "python",
   "pygments_lexer": "ipython3",
   "version": "3.6.5"
  }
 },
 "nbformat": 4,
 "nbformat_minor": 2
}
