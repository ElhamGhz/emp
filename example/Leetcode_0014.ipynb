{
 "cells": [
  {
   "cell_type": "markdown",
   "metadata": {},
   "source": [
    "#### [Leetcode 0014 Easy] [Longest Common Prefix](https://leetcode.com/problems/longest-common-prefix/) (String)\n",
    "\n",
    "Write a function to find the longest common prefix string amongst an array of strings.\n",
    "\n",
    "If there is no common prefix, return an empty string \"\".\n",
    "\n",
    "Example 1:\n",
    "```\n",
    "Input: [\"flower\",\"flow\",\"flight\"]\n",
    "Output: \"fl\"\n",
    "```\n",
    "\n",
    "Example 2:\n",
    "```\n",
    "Input: [\"dog\",\"racecar\",\"car\"]\n",
    "Output: \"\"\n",
    "Explanation: There is no common prefix among the input strings.\n",
    "```\n",
    "\n",
    "Note:\n",
    "* All given inputs are in lowercase letters a-z."
   ]
  },
  {
   "cell_type": "code",
   "execution_count": 3,
   "metadata": {},
   "outputs": [
    {
     "name": "stdout",
     "output_type": "stream",
     "text": [
      "True\n",
      "True\n"
     ]
    }
   ],
   "source": [
    "class Solution:\n",
    "    def longestCommonPrefix(self, strs):\n",
    "        \"\"\"\n",
    "        Time Complexity: O(nm), n - col, m - row\n",
    "        Space Complexity: O(1)\n",
    "        \"\"\"\n",
    "        # Edge case\n",
    "        if not strs or not strs[0]:\n",
    "            return \"\"\n",
    "        \n",
    "        row = len(strs)\n",
    "        col = len(strs[0])\n",
    "        \n",
    "        for c in range(col):\n",
    "            for r in range(1, row):\n",
    "                if c >= len(strs[r]) or strs[0][c] != strs[r][c]:\n",
    "                    return strs[0][:c]\n",
    "                \n",
    "        return strs[0]\n",
    "    \n",
    "if __name__ == \"__main__\":\n",
    "    soln = Solution()\n",
    "    \n",
    "    print(soln.longestCommonPrefix(strs=[\"flower\",\"flow\",\"flight\"]) == \"fl\")\n",
    "    print(soln.longestCommonPrefix(strs=[\"dog\",\"racecar\",\"car\"]) == \"\")"
   ]
  },
  {
   "cell_type": "code",
   "execution_count": null,
   "metadata": {},
   "outputs": [],
   "source": []
  }
 ],
 "metadata": {
  "kernelspec": {
   "display_name": "Python 3",
   "language": "python",
   "name": "python3"
  },
  "language_info": {
   "codemirror_mode": {
    "name": "ipython",
    "version": 3
   },
   "file_extension": ".py",
   "mimetype": "text/x-python",
   "name": "python",
   "nbconvert_exporter": "python",
   "pygments_lexer": "ipython3",
   "version": "3.6.5"
  }
 },
 "nbformat": 4,
 "nbformat_minor": 2
}
