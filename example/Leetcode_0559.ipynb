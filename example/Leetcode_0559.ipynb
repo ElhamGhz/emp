{
 "cells": [
  {
   "cell_type": "markdown",
   "metadata": {},
   "source": [
    "#### [Leetcode 559 Easy] [Maximum Depth of N-ary Tree](https://leetcode.com/problems/maximum-depth-of-n-ary-tree/)\n",
    "\n",
    "Given a n-ary tree, find its maximum depth.\n",
    "\n",
    "The maximum depth is the number of nodes along the longest path from the root node down to the farthest leaf node.\n",
    "\n",
    "For example, given a 3-ary tree:\n",
    "```\n",
    "               1\n",
    "           /   |   \\\n",
    "          3    2    4\n",
    "        /  \\\n",
    "       5    6\n",
    "```\n",
    "\n",
    "We should return its max depth, which is 3.\n",
    "\n",
    "Note:\n",
    "* The depth of the tree is at most 1000.\n",
    "* The total number of nodes is at most 5000."
   ]
  },
  {
   "cell_type": "code",
   "execution_count": 1,
   "metadata": {},
   "outputs": [],
   "source": [
    "\"\"\"\n",
    "# Definition for a Node.\n",
    "class Node(object):\n",
    "    def __init__(self, val, children):\n",
    "        self.val = val\n",
    "        self.children = children\n",
    "\"\"\"\n",
    "class Solution(object):\n",
    "    def maxDepth(self, root):\n",
    "        \"\"\"\n",
    "        :type root: Node\n",
    "        :rtype: int\n",
    "        \"\"\"\n",
    "        if not root:\n",
    "            return 0\n",
    "        \n",
    "        # what to get from your children\n",
    "        children_depth = []\n",
    "        for child in root.children:\n",
    "            children_depth.append(self.maxDepth(child))\n",
    "            \n",
    "        # what to do in the current stage\n",
    "        if children_depth:\n",
    "            depth = max(children_depth) + 1\n",
    "        else:\n",
    "            depth = 1\n",
    "        \n",
    "        # what to return to your parent\n",
    "        return depth"
   ]
  },
  {
   "cell_type": "code",
   "execution_count": null,
   "metadata": {},
   "outputs": [],
   "source": []
  }
 ],
 "metadata": {
  "kernelspec": {
   "display_name": "Python 3",
   "language": "python",
   "name": "python3"
  },
  "language_info": {
   "codemirror_mode": {
    "name": "ipython",
    "version": 3
   },
   "file_extension": ".py",
   "mimetype": "text/x-python",
   "name": "python",
   "nbconvert_exporter": "python",
   "pygments_lexer": "ipython3",
   "version": "3.6.5"
  }
 },
 "nbformat": 4,
 "nbformat_minor": 2
}
